{
 "cells": [
  {
   "cell_type": "markdown",
   "id": "37732593-a218-4a1c-9a0f-aaed903e56ff",
   "metadata": {},
   "source": [
    "# Exp008: Dialog Preprocessing\n",
    "The goal is to have the dialog data in a convenient format to work with them."
   ]
  },
  {
   "cell_type": "code",
   "execution_count": 1,
   "id": "8e639c99-f243-496f-b4aa-e98f002efe5b",
   "metadata": {},
   "outputs": [],
   "source": [
    "import sys\n",
    "sys.path.append('../')\n",
    "\n",
    "from source.data import DailyDialog, DialogSum, WoW, get_cefr_sentences"
   ]
  },
  {
   "cell_type": "code",
   "execution_count": 2,
   "id": "58fda44e-c087-45a7-a3fc-a69838bc5dae",
   "metadata": {},
   "outputs": [
    {
     "data": {
      "text/plain": [
       "139799"
      ]
     },
     "execution_count": 2,
     "metadata": {},
     "output_type": "execute_result"
    }
   ],
   "source": [
    "ds = DialogSum()\n",
    "sents = ds.get_all_sentences()\n",
    "len(set(sents))"
   ]
  },
  {
   "cell_type": "code",
   "execution_count": 24,
   "id": "4454fe52-0b58-41db-925f-47784306d464",
   "metadata": {
    "scrolled": true
   },
   "outputs": [
    {
     "data": {
      "text/plain": [
       "['Hi, Mr. Smith.',\n",
       " \"I'm Doctor Hawkins.\",\n",
       " 'Why are you here today?',\n",
       " 'I found it would be a good idea to get a check-up.',\n",
       " \"Yes, well, you haven't had one for 5 years.\",\n",
       " 'You should have one every year.',\n",
       " 'I know.',\n",
       " 'I figure as long as there is nothing wrong, why go see the doctor?',\n",
       " 'Well, the best way to avoid serious illnesses is to find out about them early.',\n",
       " 'So try to come at least once a year for your own good.',\n",
       " 'Ok.',\n",
       " 'Let me see here.',\n",
       " 'Your eyes and ears look fine.',\n",
       " 'Take a deep breath, please.',\n",
       " 'Do you smoke, Mr. Smith?',\n",
       " 'Yes.',\n",
       " 'Smoking is the leading cause of lung cancer and heart disease, you know.',\n",
       " 'You really should quit.',\n",
       " \"I've tried hundreds of times, but I just can't seem to kick the habit.\",\n",
       " 'Well, we have classes and some medications that might help.',\n",
       " \"I'll give you more information before you leave.\",\n",
       " 'Ok, thanks doctor.',\n",
       " 'Hello Mrs. Parker, how have you been?',\n",
       " 'Hello Dr. Peters.',\n",
       " 'Just fine thank you.',\n",
       " 'Ricky and I are here for his vaccines.',\n",
       " 'Very well.',\n",
       " \"Let's see, according to his vaccination record, Ricky has received his Polio, Tetanus and Hepatitis B shots.\",\n",
       " 'He is 14 months old, so he is due for Hepatitis A, Chickenpox and Measles shots.',\n",
       " 'What about Rubella and Mumps?',\n",
       " 'Well, I can only give him these for now, and after a couple of weeks I can administer the rest.',\n",
       " 'OK, great.',\n",
       " 'Doctor, I think I also may need a Tetanus booster.',\n",
       " 'Last time I got it was maybe fifteen years ago!',\n",
       " \"We will check our records and I'll have the nurse administer and the booster as well.\",\n",
       " \"Now, please hold Ricky's arm tight, this may sting a little.\",\n",
       " 'Excuse me, did you see a set of keys?',\n",
       " 'What kind of keys?',\n",
       " 'Five keys and a small foot ornament.',\n",
       " 'What a shame!',\n",
       " \"I didn't see them.\",\n",
       " 'Well, can you help me look for it?',\n",
       " \"That's my first time here.\",\n",
       " 'Sure.',\n",
       " \"It's my pleasure.\",\n",
       " \"I'd like to help you look for the missing keys.\",\n",
       " \"It's very kind of you.\",\n",
       " \"It's not a big deal.Hey, I found them.\",\n",
       " 'Oh, thank God!',\n",
       " \"I don't know how to thank you, guys.\",\n",
       " \"You're welcome.\",\n",
       " \"Why didn't you tell me you had a girlfriend?\",\n",
       " 'Sorry, I thought you knew.',\n",
       " 'But you should tell me you were in love with her.',\n",
       " \"Didn't I?\",\n",
       " \"You know you didn't.\",\n",
       " 'Well, I am telling you now.',\n",
       " 'Yes, but you might have told me before.',\n",
       " \"I didn't think you would be interested.\",\n",
       " \"You can't be serious.\",\n",
       " 'How dare you not tell me you are going to marry her?',\n",
       " \"Sorry, I didn't think it mattered.\",\n",
       " 'Oh, you men!',\n",
       " 'You are all the same.',\n",
       " 'Watsup, ladies!',\n",
       " \"Y'll looking'fine tonight.\",\n",
       " 'May I have this dance?',\n",
       " \"He's cute!\",\n",
       " 'He looks like Tiger Woods!',\n",
       " \"But, I can't dance.\",\n",
       " \"It's all good.\",\n",
       " \"I'll show you all the right moves.\",\n",
       " \"My name's Malik.\",\n",
       " 'Nice to meet you.',\n",
       " \"I'm Wen, and this is Nikki.\",\n",
       " \"How you feeling', vista?\",\n",
       " \"Mind if I take your friend'round the dance floor?\",\n",
       " \"She doesn't mind if you don't mind getting your feet stepped on.\",\n",
       " 'Right.',\n",
       " 'Cool!',\n",
       " \"Let's go!\",\n",
       " 'Happy birthday, Aims!',\n",
       " 'Thank you, Lisa.',\n",
       " 'Here is a present for you.',\n",
       " 'I hope you like it.',\n",
       " 'Oh, great!',\n",
       " 'I love it!',\n",
       " \"You know I've been expecting this for a long time.\",\n",
       " \"I'm very glad to hear that.\",\n",
       " 'Come here ; let me introduce some friends to you.',\n",
       " 'Here we come.',\n",
       " 'Thank you.',\n",
       " \"What's the fare?\",\n",
       " '$ 10.',\n",
       " 'How can it be?',\n",
       " 'Well, the rate is two dollars for the first two kilometers and twenty cents for each additional two hundred meters.',\n",
       " 'I see.',\n",
       " 'Thanks for your drive.',\n",
       " 'Can I help you?',\n",
       " 'Yes.']"
      ]
     },
     "execution_count": 24,
     "metadata": {},
     "output_type": "execute_result"
    }
   ],
   "source": [
    "sents[0:100]"
   ]
  },
  {
   "cell_type": "code",
   "execution_count": 6,
   "id": "ba80b2d5-d8b4-4cc4-8e82-8aa3648be893",
   "metadata": {},
   "outputs": [
    {
     "data": {
      "text/plain": [
       "111480"
      ]
     },
     "execution_count": 6,
     "metadata": {},
     "output_type": "execute_result"
    }
   ],
   "source": [
    "dd = DailyDialog()\n",
    "sents = dd.get_all_sentences()\n",
    "len(set(sents))"
   ]
  },
  {
   "cell_type": "code",
   "execution_count": 17,
   "id": "b8618c52-ed30-4faf-9543-46b88a73dc6d",
   "metadata": {
    "scrolled": true
   },
   "outputs": [
    {
     "data": {
      "text/plain": [
       "['The kitchen stinks.',\n",
       " \"I'll throw out the garbage.\",\n",
       " 'So Dick, how about getting some coffee for tonight?',\n",
       " 'Coffee?',\n",
       " \"I don't honestly like that kind of stuff.\",\n",
       " 'Come on, you can at least try a little, besides your cigarette.',\n",
       " \"What's wrong with that?\",\n",
       " 'Cigarette is the thing I go crazy for.',\n",
       " 'Not for me, Dick.',\n",
       " 'Are things still going badly with your houseguest?',\n",
       " 'Getting worse.',\n",
       " \"Now he's eating me out of house and home.\",\n",
       " \"I'Ve tried talking to him but it all goes in one ear and out the other.\",\n",
       " 'He makes himself at home, which is fine.',\n",
       " 'But what really gets me is that yesterday he walked into the living room in the raw and I had company over!',\n",
       " 'That was the last straw.',\n",
       " \"Leo, I really think you're beating around the bush with this guy.\",\n",
       " \"I know he used to be your best friend in college, but I really think it's time to lay down the law.\",\n",
       " \"You're right.\",\n",
       " 'Everything is probably going to come to a head tonight.',\n",
       " \"I'll keep you informed.\",\n",
       " 'Would you mind waiting a while?',\n",
       " 'Well, how long will it be?',\n",
       " \"I'm not sure.\",\n",
       " \"But I'll get a table ready as fast as I can.\",\n",
       " \"OK. We'll wait.\",\n",
       " 'Are you going to the annual party?',\n",
       " 'I can give you a ride if you need one.',\n",
       " 'Thanks a lot.',\n",
       " \"That's the favor I was going to ask you for.\",\n",
       " 'The pleasure is mine.',\n",
       " \"Isn't he the best instructor?\",\n",
       " \"I think he's so hot.\",\n",
       " 'Wow!',\n",
       " \"I really feel energized, don't you?\",\n",
       " \"I swear, I'm going to kill you for this.\",\n",
       " \"What's wrong?\",\n",
       " \"Didn't you think it was fun?\",\n",
       " '!',\n",
       " 'Oh, yeah!',\n",
       " 'I had a blast!',\n",
       " 'I love sweating like a pig with a bunch of pot bellies who all smell bad.',\n",
       " \"Sorry, I'm just not into this health kick.\",\n",
       " 'Oh, no, get off it.',\n",
       " \"It wasn't such a killer class.\",\n",
       " 'You just have to get into it.',\n",
       " 'Like they say, no pain, no gain.',\n",
       " 'I am wiped out.',\n",
       " 'Thank you.',\n",
       " 'Look, next time get yourself some comfy shoes.',\n",
       " \"You're gonna come back again with me, aren't you?\",\n",
       " 'Never!',\n",
       " 'But thank you for inviting me.',\n",
       " 'Come on.',\n",
       " \"You'll feel better after we hit the showers.\",\n",
       " 'Can I take your order now or do you still want to look at the menu?',\n",
       " \"Well, I want a fillet steak, medium, but my little girl doesn't care for steak.\",\n",
       " 'Could she have something else instead?',\n",
       " 'Certainly.',\n",
       " 'How about spaghetti with clams and shrimps.',\n",
       " 'Sounds delicious.',\n",
       " \"OK. She'll try that.\",\n",
       " 'Can you manage chopsticks?',\n",
       " 'Why not?',\n",
       " 'See.',\n",
       " 'Good mastery.',\n",
       " 'How do you like our Chinese food?',\n",
       " 'Oh, great!',\n",
       " \"It's delicious.\",\n",
       " 'You see, I am already putting on weight.',\n",
       " \"There is one thing I don't like however, MSG.\",\n",
       " \"What's wrong with MSG?\",\n",
       " 'It helps to bring out the taste of the food.',\n",
       " 'According to some studies it may cause cancer.',\n",
       " \"Oh, don't let that worry you.\",\n",
       " \"If that were true, China wouldn't have such a large population.\",\n",
       " 'I just happen to have a question for you guys.',\n",
       " 'Why do the Chinese cook the vegetables?',\n",
       " 'You see what I mean is that most vitamin are destroyed when heated.',\n",
       " \"I don't know exactly.\",\n",
       " \"It's a tradition.\",\n",
       " \"Maybe it's for sanitary reasons.\",\n",
       " \"I'm exhausted.\",\n",
       " \"Okay, let's go home.\",\n",
       " 'Good evening.',\n",
       " \"Welcome to Cherry's.\",\n",
       " 'Do you have a reservation?',\n",
       " \"No, we don't.\",\n",
       " 'How many of you, please?',\n",
       " 'Six, including two kids.',\n",
       " \"I'm afraid all the big tables are taken.\",\n",
       " 'What kind of food do you like?',\n",
       " 'I like Chinese food.',\n",
       " 'But your American?',\n",
       " 'We have a lot of Chinese restaurants in America.',\n",
       " 'Would you like to take a look at the menu, sir?',\n",
       " 'Yes.',\n",
       " 'Thank you.',\n",
       " 'Would you care for a drink before you order?',\n",
       " 'A glass of Qingdao beer.']"
      ]
     },
     "execution_count": 17,
     "metadata": {},
     "output_type": "execute_result"
    }
   ],
   "source": [
    "sents[0:100]"
   ]
  },
  {
   "cell_type": "markdown",
   "id": "eeb75f83-b755-405f-8bb4-f9615ff9cf29",
   "metadata": {},
   "source": [
    "Now for Wizard of Wikipedia for more topical conversations."
   ]
  },
  {
   "cell_type": "code",
   "execution_count": 2,
   "id": "89e2d061-d07d-4cb5-8da8-ec88dbb0a888",
   "metadata": {},
   "outputs": [],
   "source": [
    "wow = WoW()"
   ]
  },
  {
   "cell_type": "code",
   "execution_count": 5,
   "id": "ae7db923-c8bb-4dd2-9913-98fda2bc8db0",
   "metadata": {},
   "outputs": [
    {
     "data": {
      "text/plain": [
       "248813"
      ]
     },
     "execution_count": 5,
     "metadata": {},
     "output_type": "execute_result"
    }
   ],
   "source": [
    "sents = wow.get_all_sentences()\n",
    "len(set(sents))"
   ]
  },
  {
   "cell_type": "code",
   "execution_count": 4,
   "id": "47e1496c-049d-4c62-9b8f-30a0fd9f6b41",
   "metadata": {
    "scrolled": true
   },
   "outputs": [
    {
     "data": {
      "text/plain": [
       "['I think science fiction is an amazing genre for anything.',\n",
       " \"Future science, technology, time travel, FTL travel, they're all such interesting concepts.\",\n",
       " \"I'm a huge fan of science fiction myself!\",\n",
       " 'Awesome!',\n",
       " 'I really love how sci-fi storytellers focus on political/social/philosophical issues that would still be around even in the future.',\n",
       " 'Makes them relatable.',\n",
       " 'I agree.',\n",
       " 'One of my favorite forms of science fiction is anything related to time travel!',\n",
       " 'I find it fascinating.',\n",
       " \"It's not quite sci-fi, but my favorite version of time travel is in Harry Potter and the Prisoner of Azkaban.\",\n",
       " 'Breaks zero logical rules.',\n",
       " \"And that's difficult to do when dealing with time travel.\",\n",
       " \"I actually haven't seen the latest Harry Potter movies.\",\n",
       " \"Guess it's time to check them out!\",\n",
       " 'If you really want a look at the potential negative consequences of scientific innovation, what you should check out is the TV show Fringe.',\n",
       " 'Incredibly well written.',\n",
       " 'Thank you for the suggestion, I will definitely check it out!',\n",
       " \"It blends science fiction and paranormal/psychological/MK Ultra type stuff together, but it's science fiction at its core.\",\n",
       " 'Always looking for more science fiction to digest!',\n",
       " 'Can you imagine the world without internet access?',\n",
       " 'No I could not!',\n",
       " \"I couldn't imagine living when internet access was rare and very few people had it!\",\n",
       " 'Oh me either!',\n",
       " 'It seems like such a long time ago.',\n",
       " 'I wonder when Internet was first created?',\n",
       " 'It used to be restricted, but around 1995, the restricted were lifted and commercial use of it began',\n",
       " 'That is awesome.',\n",
       " 'I wonder why it was restricted?',\n",
       " 'Probably because they only wanted government and big companies to use it at first.',\n",
       " 'Yes, it was developed from a government funded projects to help with universities research and laboratories in the United States...I am so glad they expanded it!',\n",
       " 'I am too, it makes life so much easier!',\n",
       " 'What is your favorite thing to do with internet access?',\n",
       " 'I like being able to use my computer and smartphone to use my email and browse the world wide web',\n",
       " 'I am just finishing my university course and I will be a qualified pharmacist.',\n",
       " 'I am so excited about finishing and getting out there into the world of work!',\n",
       " 'Do you work yourself?',\n",
       " 'Yes, I perform administrative duties as a pharmacy technician.',\n",
       " 'Fantastic so you know all about the field.',\n",
       " 'I completed my four year course and also two 6 month placements but its not the same until you actually start working.',\n",
       " 'Do you work in a busy pharmacy?',\n",
       " 'Yes, I work directly with a lot of patients.',\n",
       " 'Your role would be very important with face to face interaction with patients.',\n",
       " 'Especially those who are unwell or very worried about a medical issue',\n",
       " 'Yes, it is necessary to develop our organization.',\n",
       " 'I think that pharmacists, pharmacy technicians and all pharmacy staff are very important in society today.',\n",
       " 'Society is moving towards more pharmacy care for minor ailments rather than GP.',\n",
       " 'Would you agree?',\n",
       " 'Yes, without the monitoring tasks we do, while checking for side effects, there would be chaos.',\n",
       " 'I agree.',\n",
       " 'It has been great talking with an experienced worker in the field I am trained in.',\n",
       " 'Just cant wait to get my first job.',\n",
       " 'I will be mentored first for a year which will be great.',\n",
       " \"I agree, just wait till you get your master of pharmacy, you won't need to be mentored anymore.\",\n",
       " 'I have homebrewed before.',\n",
       " 'Beer can be fun to craft.',\n",
       " 'basically homebrewing is personal small scale beer  production',\n",
       " 'Yes, that is correct.',\n",
       " 'And it can be used to make some really cool concoctions.',\n",
       " 'beer has been brewed by home brewers even prior to commercial production',\n",
       " 'Home brewers have been around for centuries if not thousands of years.',\n",
       " 'when people first started they made thick beers, then fruit and rice wines',\n",
       " \"That's interest.\",\n",
       " 'Rice is also very versatile.',\n",
       " 'woman were the main home brewers before beer was even commercialized',\n",
       " 'I did not know that.',\n",
       " 'I bet they made some great beer.',\n",
       " 'the reason women did it mostly because it was considered a part of baking',\n",
       " 'red hair is rare but looks good sometimes.',\n",
       " \"I know, it's a shame that red hair is only 1 to 2% of the population.\",\n",
       " 'yea the really good red hair is great.',\n",
       " 'Agreed, which is why it is such a shame that red hair is so rare.',\n",
       " 'yea i know, i think europeans have more of it',\n",
       " 'They do, as they are 2 to 6% red haired people in northern or western Europe.',\n",
       " 'oh wow thats cool',\n",
       " 'I know, and the frequency is lower in other populations.',\n",
       " 'yea i think its the genes',\n",
       " 'I guess so, since it appears when two copies of the recessive allele on chromosome 16 is present.',\n",
       " \"I don't know how to be romantic.\",\n",
       " 'I have trouble expressing emotional attraction.',\n",
       " 'I feel the same.',\n",
       " 'I find it hard to make many friends so finding a romantic partner seems impossible.',\n",
       " 'The term \"romance\" originated in the medieval ideal of chivalry.',\n",
       " 'Interesting.',\n",
       " \"I feel that today the meaning has been changed to fit with Hollywood's idea of romance.\",\n",
       " 'For sure.',\n",
       " 'Romantic love is relative but usually accepted as moments of intimacy.',\n",
       " 'Romance can be small acts, like making breakfast for your significant other.',\n",
       " \"But it's portrayed as grand gestures which are unattainable.\",\n",
       " 'I agree it has been portrayed as impossible actions.',\n",
       " 'Love consists of a variety of emotion and mental states.',\n",
       " 'It seems that in todays world it can be even harder to find a partner too.',\n",
       " 'Good point.',\n",
       " 'Romance is associated with perfect partners, which is often unattainable.',\n",
       " 'Sexual attraction often is stronger.',\n",
       " 'I suppose.',\n",
       " 'But I think that sexual attraction is just the initial feeling which then turns into romance.',\n",
       " 'Hello.',\n",
       " 'I hope you might enjoy or know something about Krav Maga?',\n",
       " 'I have no idea what or who that might be.',\n",
       " 'Why do people know them?']"
      ]
     },
     "execution_count": 4,
     "metadata": {},
     "output_type": "execute_result"
    }
   ],
   "source": [
    "sents[:100]"
   ]
  },
  {
   "cell_type": "code",
   "execution_count": 2,
   "id": "f143ee02-4b39-40a3-9615-b22179e17319",
   "metadata": {},
   "outputs": [],
   "source": [
    "sents = get_cefr_sentences()"
   ]
  },
  {
   "cell_type": "code",
   "execution_count": 3,
   "id": "9dca645a-eefa-45c3-9ef0-b75782ba9564",
   "metadata": {},
   "outputs": [
    {
     "data": {
      "text/plain": [
       "35766"
      ]
     },
     "execution_count": 3,
     "metadata": {},
     "output_type": "execute_result"
    }
   ],
   "source": [
    "len(set(sents))"
   ]
  },
  {
   "cell_type": "code",
   "execution_count": null,
   "id": "07f3a93a-8fc8-495d-8ca3-77352459c336",
   "metadata": {},
   "outputs": [],
   "source": [
    " "
   ]
  }
 ],
 "metadata": {
  "kernelspec": {
   "display_name": "Python 3 (ipykernel)",
   "language": "python",
   "name": "python3"
  },
  "language_info": {
   "codemirror_mode": {
    "name": "ipython",
    "version": 3
   },
   "file_extension": ".py",
   "mimetype": "text/x-python",
   "name": "python",
   "nbconvert_exporter": "python",
   "pygments_lexer": "ipython3",
   "version": "3.10.4"
  }
 },
 "nbformat": 4,
 "nbformat_minor": 5
}
