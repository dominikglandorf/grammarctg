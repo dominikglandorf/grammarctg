{
 "cells": [
  {
   "cell_type": "markdown",
   "id": "7f53016d-6d9f-4875-8ab6-8d6801fcdaf3",
   "metadata": {},
   "source": [
    "# Exp012: Grammar Detection - Automatic Approach with GPT-4o"
   ]
  },
  {
   "cell_type": "code",
   "execution_count": 43,
   "id": "b5f6c5a1-ee87-4b8f-9c8c-4208f80b8b8a",
   "metadata": {},
   "outputs": [],
   "source": [
    "from dotenv import load_dotenv\n",
    "import os\n",
    "load_dotenv()\n",
    "from openai import OpenAI\n",
    "import requests\n",
    "import json\n",
    "import re\n",
    "import numpy as np\n",
    "import random\n",
    "from torch.utils.data import TensorDataset, DataLoader\n",
    "from torch import Tensor\n",
    "from tqdm.notebook import tqdm\n",
    "from itertools import combinations\n",
    "import pandas as pd\n",
    "\n",
    "import sys\n",
    "sys.path.append(\"../source\")\n",
    "import helpers\n",
    "import data\n",
    "import models\n",
    "import api\n",
    "\n",
    "import importlib\n",
    "importlib.reload(models)\n",
    "\n",
    "client = OpenAI()\n",
    "egp = helpers.get_egp()"
   ]
  },
  {
   "cell_type": "markdown",
   "id": "1c54e6ee-9bf7-4f93-90c6-c7962ea7f612",
   "metadata": {},
   "source": [
    "Ask GPT4 for regular expressions of the corpus search."
   ]
  },
  {
   "cell_type": "code",
   "execution_count": 95,
   "id": "c1a6f145-f930-4811-80d4-76cccf2f210a",
   "metadata": {},
   "outputs": [
    {
     "name": "stdout",
     "output_type": "stream",
     "text": [
      "I want to find sentences with the singular reflexive pronouns 'myself', 'yourself', 'himself' and 'herself' for emphasis (category: PRONOUNS: reflexive) a text.\n",
      "What are Python regular expressions I should search for?\n",
      "Return a json array with basic regex: { \"search\": [regex1, regex2, ...] }.\n",
      "\\bhimself\\b\n",
      "\\byourself\\b\n",
      "\\bmyself\\b\n",
      "\\bherself\\b\n",
      "The best solution will be if you decide yourself what to do. \n",
      "\n",
      "I think it was the director himself who guided the actress through our wonderful school gardens to film the opening scene there. \n",
      "\n",
      "The food was delicious, especially the cake, which Sandra had cooked herself.\n",
      "1.0\n",
      "I myself, having been educated the hard way, would specifically insist on them getting the best possible school education. \n"
     ]
    }
   ],
   "source": [
    "# sample rule\n",
    "rule = egp.sample(1).iloc[0]\n",
    "# compose prompt\n",
    "prompt = f\"\"\"I want to find sentences with {\" \".join(rule['Can-do statement'].split(\" \")[2:]).replace(\".\",\"\")} (category: {rule['SuperCategory']}: {rule['SubCategory']}) a text.\n",
    "What are Python regular expressions I should search for?\n",
    "Return a json array with basic regex: {{ \"search\": [regex1, regex2, ...] }}.\"\"\"\n",
    "print(prompt)\n",
    "# query API\n",
    "messages = [{ \"role\": \"user\", \"content\": prompt}]\n",
    "response = client.chat.completions.create(\n",
    "    model=\"gpt-4-turbo-preview\",#\"gpt-3.5-turbo-1106\",#os.getenv(\"OPENAI_DEFAULT_MODEL\"),\n",
    "    messages=messages,\n",
    "    response_format={ \"type\": \"json_object\" },\n",
    "    n=1,\n",
    "    max_tokens=512,\n",
    ")\n",
    "#print(response.choices[0].message.content)\n",
    "\n",
    "matched_strings = set()\n",
    "all_expressions = set()\n",
    "strings_to_search = rule['Example'].split(\"\\n\\n\")\n",
    "\n",
    "for choice in response.choices:\n",
    "    all_expressions.update(json.loads(choice.message.content)['search'])\n",
    "for pattern in all_expressions:\n",
    "    print(pattern)\n",
    "\n",
    "for string in strings_to_search:\n",
    "    for pattern in all_expressions:\n",
    "        if re.search(pattern.replace(\"\\x08\", \"\").replace(\"\\x09\", \"\").replace(\"++\", \"+\"), string, re.IGNORECASE):\n",
    "            matched_strings.add(string)\n",
    "            break\n",
    "\n",
    "print(rule['Example'])\n",
    "\n",
    "print(len(matched_strings)/len(strings_to_search))\n",
    "\n",
    "other_rule = egp.sample(1).iloc[0]\n",
    "string_prob_not_to_match = other_rule['Example'].split(\"\\n\\n\")\n",
    "for string in string_prob_not_to_match:\n",
    "    for pattern in all_expressions:\n",
    "        if re.search(pattern.replace(\"\\x08\", \"\").replace(\"\\x09\", \"\").replace(\"++\", \"+\"), string, re.IGNORECASE):\n",
    "            print(string)\n",
    "            break\n"
   ]
  },
  {
   "cell_type": "code",
   "execution_count": 2,
   "id": "a9e00fa1-a333-49c6-9008-58d506f45141",
   "metadata": {},
   "outputs": [],
   "source": [
    "def get_response(prompt, stop=[], max_tokens=64, model=None):\n",
    "    response = client.chat.completions.create(\n",
    "        model=model if model else \"gpt-4o\",\n",
    "        messages=[{ \"role\": \"user\", \"content\": prompt}],\n",
    "        temperature=0,\n",
    "        max_tokens=max_tokens,\n",
    "        top_p=1,\n",
    "        frequency_penalty=0,\n",
    "        presence_penalty=0,\n",
    "        n=1,\n",
    "        stop=stop\n",
    "    )\n",
    "    return response.choices[0].message.content"
   ]
  },
  {
   "cell_type": "code",
   "execution_count": 3,
   "id": "cb1d13fa-450e-4e02-8a13-9210db2a2c61",
   "metadata": {},
   "outputs": [],
   "source": [
    "def describe_skill(rule):\n",
    "    return f\"\"\"Learn this grammar skill from the description and the examples:\n",
    "{rule['guideword']}: {rule['Can-do statement']}\n",
    "Category: {rule['SuperCategory']}\n",
    "SubCategory: {rule['SubCategory']}\n",
    "CEFR Level: {rule['Level']}\n",
    "{f\"Lexical Range: {int(rule['Lexical Range'])}/3\" if not np.isnan(rule['Lexical Range']) else \"\"}\n",
    "Examples:\n",
    "{rule['Example']}\"\"\""
   ]
  },
  {
   "cell_type": "code",
   "execution_count": 4,
   "id": "2ea286d4-814d-4150-bda6-a0bfdc2bd606",
   "metadata": {},
   "outputs": [],
   "source": [
    "def get_words(rule):\n",
    "    prompt = f\"\"\"\n",
    "{describe_skill(rule)}\n",
    "\n",
    "Which words and combinations of words should I search for in a text to find other example sentences of this grammar pattern? Only output the words as a list.\n",
    "\"\"\"\n",
    "    response = get_response(prompt)\n",
    "    words = [res.replace(\"- \", \"\") for res in response.split(\"\\n\")]\n",
    "    words = [word for word in words if word != \"\"]\n",
    "    return words"
   ]
  },
  {
   "cell_type": "code",
   "execution_count": 5,
   "id": "5e8f7c16-9e8d-41ec-9a44-a036802ac02d",
   "metadata": {},
   "outputs": [],
   "source": [
    "def get_questions(rule):\n",
    "    prompt = f\"\"\"\n",
    "{describe_skill(rule)}\n",
    "\n",
    "Create a checklist with questions that all necessarily need to be answered with \"Yes\" to judge whether that skill is used in a sentence. Only return the enumerated questions.\"\"\"\n",
    "\n",
    "    return get_response(prompt, max_tokens=256)"
   ]
  },
  {
   "cell_type": "code",
   "execution_count": 6,
   "id": "27942c56-9664-422e-80be-e0fbe3102fbc",
   "metadata": {},
   "outputs": [],
   "source": [
    "def detect_prompt(sentence, questions):  \n",
    "    return f\"\"\"\n",
    "Sentence:\n",
    "{sentence}\n",
    "\n",
    "Questions:\n",
    "{questions}\n",
    "\n",
    "Given the sentence, answer the given questions with either a clear \"Yes\" or \"No\". Only return the enumerated responses.\n",
    "\"\"\""
   ]
  },
  {
   "cell_type": "code",
   "execution_count": 7,
   "id": "c4666f5c-d915-4639-b6b0-cf202666cc7e",
   "metadata": {
    "scrolled": true
   },
   "outputs": [],
   "source": [
    "def judge(sentences, questions, verbose=True, max_positives=25, max_negatives=25):\n",
    "    positives = []\n",
    "    negatives = []\n",
    "    for probe in tqdm(sentences):\n",
    "        if verbose: print(probe)\n",
    "        response = get_response(detect_prompt(probe, questions))\n",
    "        if verbose: print(response)\n",
    "        if re.search(r\"\\bNo\\b\", response):\n",
    "            negatives.append(probe)\n",
    "        else:\n",
    "            positives.append(probe)\n",
    "        if len(positives) > max_positives: break\n",
    "        if len(negatives) > max_negatives: break\n",
    "    return positives, negatives"
   ]
  },
  {
   "cell_type": "code",
   "execution_count": 28,
   "id": "fd583147-4fe6-4b96-9324-884bfaf6dbc4",
   "metadata": {},
   "outputs": [],
   "source": [
    "def search_corpus(words, sents):\n",
    "    results = {}\n",
    "    for sentence in tqdm(sents):\n",
    "        count = 0\n",
    "        for word in words:\n",
    "            if bool(re.search(r\"\\b\" + re.escape(word.lower()) + r\"\\b\", sentence.lower())):\n",
    "                count = count/2 + 1 + word.count(' ') / 4 + int(word in sentence) / 8\n",
    "        results[sentence] = count\n",
    "\n",
    "    hits = [key for key, value in results.items() if value > 0]\n",
    "    sorted_sentences = sorted(hits, key=lambda x: results[x], reverse=True)\n",
    "    return results, sorted_sentences, hits"
   ]
  },
  {
   "cell_type": "code",
   "execution_count": 9,
   "id": "76a22b24-f1c3-4f01-afce-848c7907365f",
   "metadata": {},
   "outputs": [],
   "source": [
    "# model training\n",
    "def get_trained_classifier(positive, negative, others, classifier, ratio=1, verbose=False):\n",
    "    dataset = data.get_dataset(positive, negative, others, models.bert_tokenizer, 64, ratio*len(positive)/len(negative), verbose=verbose) \n",
    "    train_dataloader, val_dataloader = data.get_loaders(dataset)\n",
    "    _, val_metrics = models.train(classifier, train_dataloader, val_dataloader, num_epochs=None, verbose=verbose, leave=not verbose)\n",
    "    return classifier, val_metrics"
   ]
  },
  {
   "cell_type": "code",
   "execution_count": 10,
   "id": "5d7aa001-914c-4859-b36e-798d17683aad",
   "metadata": {},
   "outputs": [
    {
     "name": "stderr",
     "output_type": "stream",
     "text": [
      "100%|████████████████████████████████████████████████████████████████████████████████████████████████████████| 4/4 [00:28<00:00,  7.01s/it]\n"
     ]
    }
   ],
   "source": [
    "sents = data.get_mixed_sentences(1000000)\n",
    "sents = set(sents) # remove duplicates"
   ]
  },
  {
   "cell_type": "code",
   "execution_count": 11,
   "id": "d6d04daa-4cc9-4f1a-974d-5fbbe26ef72b",
   "metadata": {},
   "outputs": [],
   "source": [
    "max_batches = 16\n",
    "batch_size = 256\n",
    "sentences = list(sents)\n",
    "encoded_inputs = models.bert_tokenizer(sentences[:12*max_batches*batch_size], return_tensors='pt', max_length=64, padding='max_length', truncation=True)\n",
    "encoded_inputs['sentences'] = sentences[:12*max_batches*batch_size]"
   ]
  },
  {
   "cell_type": "code",
   "execution_count": 31,
   "id": "6881f6db-ae99-40d1-8fe2-3583bb75e2c7",
   "metadata": {},
   "outputs": [],
   "source": [
    "def get_new_candidates(classifier, positives, encoded_inputs, batch_size = 256, num_examples = 32000, max_positive=25):\n",
    "    shuffled_index = np.random.permutation(encoded_inputs['input_ids'].size(0))\n",
    "    for key, value in encoded_inputs.items():\n",
    "        encoded_inputs[key] = value[shuffled_index] if isinstance(value, Tensor) else [value[i] for i in shuffled_index]\n",
    "    \n",
    "    corpus_dataset = TensorDataset(encoded_inputs['input_ids'], encoded_inputs['attention_mask'])\n",
    "    corpus_dataloader = DataLoader(corpus_dataset, batch_size=batch_size, shuffle=False)\n",
    "    scores, tokens, num_batches = models.score_corpus(classifier, corpus_dataloader, max_positive=max_positive, max_batches=num_examples//batch_size, threshold=0.5)\n",
    "    hits = list(zip(scores, tokens, encoded_inputs['sentences'][:len(scores)]))\n",
    "    subset = [(score, token, sample) for score, token, sample in hits if\n",
    "         score > 0.5 and not sample in positives]\n",
    "    return [sample for _, _, sample in subset], num_batches * batch_size"
   ]
  },
  {
   "cell_type": "markdown",
   "id": "dd3ffb02-3744-4b5b-bea5-1cde34f9085c",
   "metadata": {},
   "source": [
    "## Auto training flow"
   ]
  },
  {
   "cell_type": "code",
   "execution_count": 66,
   "id": "abfd72c6-c762-48ad-a4fc-8e9e9c08bf2c",
   "metadata": {},
   "outputs": [],
   "source": [
    "rules = egp[egp['SubCategory'].isin([\"would\", \"negation\", \"superlatives\"])].copy()\n",
    "rules['sanity_passed'] = False\n",
    "rules['search_matches'] = 0\n",
    "rules['search_precision'] = 0\n",
    "rules['f1_scores'] = [[]] * len(rules)\n",
    "rules['detector_match_ratio'] = [[]] * len(rules)\n",
    "rules['detector_precisions'] = [[]] * len(rules)"
   ]
  },
  {
   "cell_type": "code",
   "execution_count": 91,
   "id": "04920eb4-f2b0-4498-b342-90cf799fc19f",
   "metadata": {},
   "outputs": [
    {
     "data": {
      "text/plain": [
       "13"
      ]
     },
     "execution_count": 91,
     "metadata": {},
     "output_type": "execute_result"
    }
   ],
   "source": [
    "len(rules.loc[1192:])"
   ]
  },
  {
   "cell_type": "code",
   "execution_count": 92,
   "id": "ba948c47-bc28-487a-8861-0279915e3d41",
   "metadata": {
    "scrolled": true
   },
   "outputs": [
    {
     "name": "stdout",
     "output_type": "stream",
     "text": [
      "FORM/USE: 'NEVER', INVERTED FRONT POSITION, FOCUS: Can use 'never' in front position followed by an inverted subject (most commonly 'I') + main verb, to give focus. \n",
      "    Never have I seen such a realistic and impressive film before. \n",
      "\n",
      "Never had I thought that my parents would do this to me.\n",
      "['Never have I', 'Never had I']\n",
      "1. Is the word \"never\" placed at the beginning of the sentence?\n",
      "2. Is the subject inverted, meaning the subject follows the auxiliary verb?\n",
      "3. Is the main verb placed after the inverted subject?\n",
      "4. Does the sentence convey a sense of negation or impossibility?\n",
      "5. Is the sentence structured to give focus or emphasis to the negation?\n"
     ]
    },
    {
     "data": {
      "application/vnd.jupyter.widget-view+json": {
       "model_id": "3ca9950d849b42399ca28a1f61153d23",
       "version_major": 2,
       "version_minor": 0
      },
      "text/plain": [
       "  0%|          | 0/2 [00:00<?, ?it/s]"
      ]
     },
     "metadata": {},
     "output_type": "display_data"
    },
    {
     "name": "stdout",
     "output_type": "stream",
     "text": [
      "Never have I seen such a realistic and impressive film before. \n",
      "1. Yes\n",
      "2. Yes\n",
      "3. Yes\n",
      "4. Yes\n",
      "5. Yes\n",
      "Never had I thought that my parents would do this to me.\n",
      "1. Yes\n",
      "2. Yes\n",
      "3. Yes\n",
      "4. Yes\n",
      "5. Yes\n"
     ]
    },
    {
     "data": {
      "application/vnd.jupyter.widget-view+json": {
       "model_id": "4c87d857ebd54b0ea4ab700f866efbb9",
       "version_major": 2,
       "version_minor": 0
      },
      "text/plain": [
       "  0%|          | 0/451036 [00:00<?, ?it/s]"
      ]
     },
     "metadata": {},
     "output_type": "display_data"
    },
    {
     "name": "stdout",
     "output_type": "stream",
     "text": [
      "[]\n"
     ]
    },
    {
     "data": {
      "application/vnd.jupyter.widget-view+json": {
       "model_id": "8c57610af80645439bd2a0b84612d903",
       "version_major": 2,
       "version_minor": 0
      },
      "text/plain": [
       "0it [00:00, ?it/s]"
      ]
     },
     "metadata": {},
     "output_type": "display_data"
    },
    {
     "name": "stdout",
     "output_type": "stream",
     "text": [
      "FORM/USE: 'NEITHER ... NOR': Can use 'neither ... nor' to connect two words, phrases or clauses, often to give emphasis or focus.\n",
      "    Neither you nor I would like that. \n",
      "\n",
      "We can neither eat nor drink during the lessons. \n",
      "\n",
      "I have neither climbed nor surfed before, so that would be very exciting for me.\n",
      "['neither', 'nor']\n",
      "1. Does the sentence contain the word \"neither\"?\n",
      "2. Does the sentence contain the word \"nor\"?\n",
      "3. Are \"neither\" and \"nor\" used to connect two words, phrases, or clauses?\n",
      "4. Is the sentence structured to emphasize or focus on the negation of both elements connected by \"neither\" and \"nor\"?\n"
     ]
    },
    {
     "data": {
      "application/vnd.jupyter.widget-view+json": {
       "model_id": "0432c1d4f4c14faa8bd130deb153c9ba",
       "version_major": 2,
       "version_minor": 0
      },
      "text/plain": [
       "  0%|          | 0/3 [00:00<?, ?it/s]"
      ]
     },
     "metadata": {},
     "output_type": "display_data"
    },
    {
     "name": "stdout",
     "output_type": "stream",
     "text": [
      "Neither you nor I would like that. \n",
      "1. Yes\n",
      "2. Yes\n",
      "3. Yes\n",
      "4. Yes\n",
      "We can neither eat nor drink during the lessons. \n",
      "1. Yes\n",
      "2. Yes\n",
      "3. Yes\n",
      "4. Yes\n",
      "I have neither climbed nor surfed before, so that would be very exciting for me.\n",
      "1. Yes\n",
      "2. Yes\n",
      "3. Yes\n",
      "4. Yes\n"
     ]
    },
    {
     "data": {
      "application/vnd.jupyter.widget-view+json": {
       "model_id": "777059a4999b4ecb8393fe3c5133c43b",
       "version_major": 2,
       "version_minor": 0
      },
      "text/plain": [
       "  0%|          | 0/451036 [00:00<?, ?it/s]"
      ]
     },
     "metadata": {},
     "output_type": "display_data"
    },
    {
     "name": "stdout",
     "output_type": "stream",
     "text": [
      "['As a man of medium height in the West, he keeps a powerful but elegant figure, looking neither lanky nor stout.', 'I want my ideal city to be neither too big nor too small.', 'Unfortunately, neither Nietzsche’s ideas about the nature of value creation nor his suggestions about what specific values should be “created” have seemed as clear to readers as his negative critique of traditional values.', 'On such views, and in contrast to the Aristotelian picture, basic self-awareness is neither sensory in nature nor dependent on the awareness of other things.', \"It's neither too hot nor too cold.\", 'The case is neither supported by facts nor does it have valid legal grounds, he added.', 'As our sole agency, you will neither handle the same or similar products of other origins nor re-export our goods to any other area outside your own.', 'Conversely, truth-value realism does not by itself entail Existence and thus implies neither object realism nor platonism.', 'But he maintained neither he nor the organization was corrupt.', \"Yes, but it's a strange situation...it's neither a brother, a male sibling, nor a sister, a female sibling....\"]\n"
     ]
    },
    {
     "data": {
      "application/vnd.jupyter.widget-view+json": {
       "model_id": "f2d5b818ef1f488093537d7d76ae90b4",
       "version_major": 2,
       "version_minor": 0
      },
      "text/plain": [
       "  0%|          | 0/50 [00:00<?, ?it/s]"
      ]
     },
     "metadata": {},
     "output_type": "display_data"
    },
    {
     "name": "stdout",
     "output_type": "stream",
     "text": [
      "As our sole agency, you will neither handle the same or similar products of other origins nor re-export our goods to any other area outside your own.\n",
      "1. Yes\n",
      "2. Yes\n",
      "3. Yes\n",
      "4. Yes\n",
      "I want my ideal city to be neither too big nor too small.\n",
      "1. Yes\n",
      "2. Yes\n",
      "3. Yes\n",
      "4. Yes\n",
      "I've seen 21 Jump Street but not the sequel, nor have I seen Magic Mike although I know my sister loved that one!\n",
      "1. No\n",
      "2. Yes\n",
      "3. No\n",
      "4. No\n",
      "The images were taken in different places, with very different lighting and of the 200 photographs we took during our holiday no orbs appeared on any other photograph -- nor indeed on any photograph ever taken on that camera before or since.\n",
      "1. No\n",
      "2. Yes\n",
      "3. No\n",
      "4. No\n",
      "The court case began in Paris on Wednesday afternoon, though neither Johansson nor Delacourt was present.\n",
      "1. Yes\n",
      "2. Yes\n",
      "3. Yes\n",
      "4. Yes\n",
      "Yes, but it's a strange situation...it's neither a brother, a male sibling, nor a sister, a female sibling....\n",
      "1. Yes\n",
      "2. Yes\n",
      "3. Yes\n",
      "4. Yes\n",
      "But he maintained neither he nor the organization was corrupt.\n",
      "1. Yes\n",
      "2. Yes\n",
      "3. Yes\n",
      "4. Yes\n",
      "As a man of medium height in the West, he keeps a powerful but elegant figure, looking neither lanky nor stout.\n",
      "1. Yes\n",
      "2. Yes\n",
      "3. Yes\n",
      "4. Yes\n",
      "Neither the US nor Russia had the capability to bring down such objects, he added.\n",
      "1. Yes\n",
      "2. Yes\n",
      "3. Yes\n",
      "4. Yes\n",
      "Neither too cold, nor too hot.\n",
      "1. Yes\n",
      "2. Yes\n",
      "3. Yes\n",
      "4. Yes\n",
      "Yes, neither have I, and I live in the South.\n",
      "1. Yes\n",
      "2. No\n",
      "3. No\n",
      "4. No\n",
      "I'm just not getting enough sleep and neither are the kids.\n",
      "1. Yes\n",
      "2. No\n",
      "3. No\n",
      "4. No\n",
      "I'll drink to the fact that neither of us ever had to make actual use of those annoying public speaking classes, eh?\n",
      "1. Yes\n",
      "2. No\n",
      "3. No\n",
      "4. No\n",
      "Neither the Chinese nor the British government is financially supporting me.\n",
      "1. Yes\n",
      "2. Yes\n",
      "3. Yes\n",
      "4. Yes\n",
      "The attempts to prove the CH led to major discoveries in set theory, such as the theory of constructible sets, and the forcing technique, which showed that the CH can neither be proved nor disproved from the usual axioms of set theory.\n",
      "1. Yes\n",
      "2. Yes\n",
      "3. Yes\n",
      "4. Yes\n",
      "On such views, and in contrast to the Aristotelian picture, basic self-awareness is neither sensory in nature nor dependent on the awareness of other things.\n",
      "1. Yes\n",
      "2. Yes\n",
      "3. Yes\n",
      "4. Yes\n",
      "Neither the struggle nor the use of a Taser was captured on video, because Santana had yet to begin recording.\n",
      "1. Yes\n",
      "2. Yes\n",
      "3. Yes\n",
      "4. Yes\n",
      "It's neither hot nor cold.\n",
      "1. Yes\n",
      "2. Yes\n",
      "3. Yes\n",
      "4. Yes\n",
      "It's neither too hot nor too cold.\n",
      "1. Yes\n",
      "2. Yes\n",
      "3. Yes\n",
      "4. Yes\n",
      "Neither John nor I have a gift for language.\n",
      "1. Yes\n",
      "2. Yes\n",
      "3. Yes\n",
      "4. Yes\n",
      "Now the deadlines are near but I have finished neither of them.\n",
      "1. Yes\n",
      "2. No\n",
      "3. No\n",
      "4. No\n",
      "But neither he nor his traveling companion believed there was an issue.\n",
      "1. Yes\n",
      "2. Yes\n",
      "3. Yes\n",
      "4. Yes\n",
      "me neither but I believe that this is a big question in some people's lives.\n",
      "1. Yes\n",
      "2. No\n",
      "3. No\n",
      "4. No\n",
      "neither apply to me, but some research has shown that taller people are more intelligent.\n",
      "1. Yes\n",
      "2. No\n",
      "3. No\n",
      "4. No\n",
      "Unfortunately, neither Nietzsche’s ideas about the nature of value creation nor his suggestions about what specific values should be “created” have seemed as clear to readers as his negative critique of traditional values.\n",
      "1. Yes\n",
      "2. Yes\n",
      "3. Yes\n",
      "4. Yes\n",
      "The phenomenological approach gave philosophical shape to the basic existential insight that thinking about human existence requires new categories not found in the conceptual repertoire of ancient or modern thought; human beings can be understood neither as substances with fixed properties, nor as subjects interacting with a world of objects.\n",
      "1. Yes\n",
      "2. Yes\n",
      "3. Yes\n",
      "4. Yes\n",
      "As our sole distributor, you will neither handle the same or similar products of other origins nor re-export our goods to any other area outside your own.\n",
      "1. Yes\n",
      "2. Yes\n",
      "3. Yes\n",
      "4. Yes\n",
      "The contradictory statements issued by the NTC excusing these barbaric executions and the grotesque abuse of the corpses make it clear that no person affiliated with the former regime will receive a fair trial in Libya nor will they receive justice for crimes committed against them, the statement said.\n",
      "1. No\n",
      "2. Yes\n",
      "3. No\n",
      "4. No\n",
      "It is neither too cold nor too hot.\n",
      "1. Yes\n",
      "2. Yes\n",
      "3. Yes\n",
      "4. Yes\n",
      "The case is neither supported by facts nor does it have valid legal grounds, he added.\n",
      "1. Yes\n",
      "2. Yes\n",
      "3. Yes\n",
      "4. Yes\n",
      "There should be neither too much silence nor hasty answers\n",
      "1. Yes\n",
      "2. Yes\n",
      "3. Yes\n",
      "4. Yes\n",
      "He wasn't very tall, nor very short.\n",
      "1. No\n",
      "2. Yes\n",
      "3. No\n",
      "4. No\n",
      "At that time her back was ramrod straight as she sailed by, her tone is best, neither over-passionate, nor too cold.\n",
      "1. Yes\n",
      "2. Yes\n",
      "3. Yes\n",
      "4. Yes\n",
      "No, neither.\n",
      "1. Yes\n",
      "2. No\n",
      "3. No\n",
      "4. No\n",
      "It was neither quick nor easy.\n",
      "1. Yes\n",
      "2. Yes\n",
      "3. Yes\n",
      "4. Yes\n",
      "On the down side I did read somewhere that the German Society for Nutrition does not recommend vegan diets for children, adolescents nor during pregnancy\n",
      "1. No\n",
      "2. Yes\n",
      "3. No\n",
      "4. No\n",
      "I'll bet neither The Rock or John Cena know anything about the history of it!!\n",
      "1. Yes\n",
      "2. No\n",
      "3. No\n",
      "4. No\n",
      "It's been hard to incorporate it into my diet, not eating any animal products or meat, nor eggs or dairy or any other animal-derived substances, but it makes me feel accomplished.\n",
      "1. No\n",
      "2. Yes\n",
      "3. No\n",
      "4. No\n",
      "Also, if you are asked to sit beside the employer's desk, neither lean on it nor look at the documents there.\n",
      "1. Yes\n",
      "2. Yes\n",
      "3. Yes\n",
      "4. Yes\n",
      "Neither the kitchen nor the bathroom plumbing is working well.\n",
      "1. Yes\n",
      "2. Yes\n",
      "3. Yes\n",
      "4. Yes\n",
      "26\n",
      "0.3939393939393939\n"
     ]
    },
    {
     "name": "stderr",
     "output_type": "stream",
     "text": [
      "  0%|                                                                                                              | 0/100 [00:00<?, ?it/s]\n",
      "100%|████████████████████████████████████████████████████████████████████████████████████████████████████████| 1/1 [00:00<00:00, 35.51it/s]\u001b[A\n",
      "  1%|█                                                                                                     | 1/100 [00:00<00:12,  7.68it/s]"
     ]
    },
    {
     "name": "stdout",
     "output_type": "stream",
     "text": [
      "Training loss: 0.718863308429718\n",
      "Val loss: 0.7145719826221466\n"
     ]
    },
    {
     "name": "stderr",
     "output_type": "stream",
     "text": [
      "\n",
      "100%|████████████████████████████████████████████████████████████████████████████████████████████████████████| 1/1 [00:00<00:00, 37.53it/s]\u001b[A"
     ]
    },
    {
     "name": "stdout",
     "output_type": "stream",
     "text": [
      "Training loss: 0.7115728259086609\n"
     ]
    },
    {
     "name": "stderr",
     "output_type": "stream",
     "text": [
      "\n",
      "  2%|██                                                                                                    | 2/100 [00:00<00:12,  7.75it/s]"
     ]
    },
    {
     "name": "stdout",
     "output_type": "stream",
     "text": [
      "Val loss: 0.7080439329147339\n"
     ]
    },
    {
     "name": "stderr",
     "output_type": "stream",
     "text": [
      "\n",
      "100%|████████████████████████████████████████████████████████████████████████████████████████████████████████| 1/1 [00:00<00:00, 41.86it/s]\u001b[A\n",
      "                                                                                                                                           \r"
     ]
    },
    {
     "name": "stdout",
     "output_type": "stream",
     "text": [
      "Training loss: 0.6673271656036377\n",
      "Val loss: 0.7058454751968384\n",
      "{'accuracy': 0.453, 'f1': 0.567, 'precision': 0.404}\n"
     ]
    },
    {
     "name": "stderr",
     "output_type": "stream",
     "text": [
      "  0%|                                                                                                              | 0/192 [00:00<?, ?it/s]\n"
     ]
    },
    {
     "data": {
      "application/vnd.jupyter.widget-view+json": {
       "model_id": "28ec8637f340478c9d0d2f269ccf5a56",
       "version_major": 2,
       "version_minor": 0
      },
      "text/plain": [
       "  0%|          | 0/217 [00:00<?, ?it/s]"
      ]
     },
     "metadata": {},
     "output_type": "display_data"
    },
    {
     "name": "stdout",
     "output_type": "stream",
     "text": [
      "Why don't we fix the amount first and ask a restaurant to provide a meal for that price?\n",
      "1. No\n",
      "2. No\n",
      "3. No\n",
      "4. No\n",
      "Yeah another fact is that it only takes 3 months 90 days for them to seed and sprout\n",
      "1. No\n",
      "2. No\n",
      "3. No\n",
      "4. No\n",
      "How do you get along with your boss?\n",
      "1. No\n",
      "2. No\n",
      "3. No\n",
      "4. No\n",
      "May I see your bill please?\n",
      "1. No\n",
      "2. No\n",
      "3. No\n",
      "4. No\n",
      "It was directed by Steve Spielberg, was pretty good at the time it came out.\n",
      "1. No\n",
      "2. No\n",
      "3. No\n",
      "4. No\n",
      "It's not over in Steubenville, Ohio.\n",
      "1. No\n",
      "2. No\n",
      "3. No\n",
      "4. No\n",
      "Beer dates back to at least the 5th millennium BC in Iran - was recorded in written history of ancient Egypt even - so it's been a staple for a LONG time\n",
      "1. No\n",
      "2. No\n",
      "3. No\n",
      "4. No\n",
      "﻿You can be Aagot, Arney or Ásfríður; Baldey, Bebba or Brá.\n",
      "1. No\n",
      "2. No\n",
      "3. No\n",
      "4. No\n",
      "I like that too, but I think my favorite might be jazz funk style dancing from a few decades ago.\n",
      "1. No\n",
      "2. No\n",
      "3. No\n",
      "4. No\n",
      "I need to see if we can get together today.\n",
      "1. No\n",
      "2. No\n",
      "3. No\n",
      "4. No\n",
      "I have to laugh when I see people do stuff like that.\n",
      "1. No\n",
      "2. No\n",
      "3. No\n",
      "4. No\n",
      "Is it close by?\n",
      "1. No\n",
      "2. No\n",
      "3. No\n",
      "4. No\n",
      "It is the simplest and most efficient means of communicating visual ideas.\n",
      "1. No\n",
      "2. No\n",
      "3. No\n",
      "4. No\n",
      "But I guess we'll have to.\n",
      "1. No\n",
      "2. No\n",
      "3. No\n",
      "4. No\n",
      "I'm sure you'd look great in anything, Julie.\n",
      "1. No\n",
      "2. No\n",
      "3. No\n",
      "4. No\n",
      "How long do you have to roast the beans?\n",
      "1. No\n",
      "2. No\n",
      "3. No\n",
      "4. No\n",
      "In the 14th and 16th centuries the balls were made of a leather skin stuffed with down feathers!\n",
      "1. No\n",
      "2. No\n",
      "3. No\n",
      "4. No\n",
      "Yea, Radiohead is great they have been around since 1985.\n",
      "1. No\n",
      "2. No\n",
      "3. No\n",
      "4. No\n",
      "They're reflecting pink!\n",
      "1. No\n",
      "2. No\n",
      "3. No\n",
      "4. No\n",
      "I could check that what you want to say is logical and it would also give you a chance to practice speaking.\n",
      "1. No\n",
      "2. No\n",
      "3. No\n",
      "4. No\n",
      "Haha, I think that's an easy mistake to make though, so don't worry.\n",
      "1. No\n",
      "2. No\n",
      "3. No\n",
      "4. No\n",
      "I wonder how it ended up here?\n",
      "1. No\n",
      "2. No\n",
      "3. No\n",
      "4. No\n",
      "Harrison was a great guitarist.\n",
      "1. No\n",
      "2. No\n",
      "3. No\n",
      "4. No\n",
      "It's so hard to remember dreams in the first place, I imagine that would be such an inexact science.\n",
      "1. No\n",
      "2. No\n",
      "3. No\n",
      "4. No\n",
      "I guess East Africa was a pretty important location in our prehistory?\n",
      "1. No\n",
      "2. No\n",
      "3. No\n",
      "4. No\n",
      "Sounds horribly boring lol.\n",
      "1. No\n",
      "2. No\n",
      "3. No\n",
      "4. No\n",
      "0.0\n",
      "26\n",
      "0.2826086956521739\n"
     ]
    },
    {
     "name": "stderr",
     "output_type": "stream",
     "text": [
      "  0%|                                                                                                              | 0/100 [00:00<?, ?it/s]\n",
      "100%|████████████████████████████████████████████████████████████████████████████████████████████████████████| 1/1 [00:00<00:00, 19.06it/s]\u001b[A"
     ]
    },
    {
     "name": "stdout",
     "output_type": "stream",
     "text": [
      "Training loss: 0.7872307300567627\n",
      "Val loss: 0.7329935630162557\n"
     ]
    },
    {
     "name": "stderr",
     "output_type": "stream",
     "text": [
      "\n",
      "  1%|█                                                                                                     | 1/100 [00:00<00:18,  5.27it/s]\n",
      "100%|████████████████████████████████████████████████████████████████████████████████████████████████████████| 1/1 [00:00<00:00, 30.26it/s]\u001b[A\n"
     ]
    },
    {
     "name": "stdout",
     "output_type": "stream",
     "text": [
      "Training loss: 0.7652104496955872\n"
     ]
    },
    {
     "name": "stderr",
     "output_type": "stream",
     "text": [
      "  2%|██                                                                                                    | 2/100 [00:00<00:17,  5.66it/s]"
     ]
    },
    {
     "name": "stdout",
     "output_type": "stream",
     "text": [
      "Val loss: 0.7116024295488993\n"
     ]
    },
    {
     "name": "stderr",
     "output_type": "stream",
     "text": [
      "\n",
      "100%|████████████████████████████████████████████████████████████████████████████████████████████████████████| 1/1 [00:00<00:00, 33.92it/s]\u001b[A\n"
     ]
    },
    {
     "name": "stdout",
     "output_type": "stream",
     "text": [
      "Training loss: 0.7101175785064697\n"
     ]
    },
    {
     "name": "stderr",
     "output_type": "stream",
     "text": [
      "  3%|███                                                                                                   | 3/100 [00:00<00:16,  6.05it/s]"
     ]
    },
    {
     "name": "stdout",
     "output_type": "stream",
     "text": [
      "Val loss: 0.6926064491271973\n"
     ]
    },
    {
     "name": "stderr",
     "output_type": "stream",
     "text": [
      "\n",
      "100%|████████████████████████████████████████████████████████████████████████████████████████████████████████| 1/1 [00:00<00:00, 34.55it/s]\u001b[A"
     ]
    },
    {
     "name": "stdout",
     "output_type": "stream",
     "text": [
      "Training loss: 0.687937319278717\n"
     ]
    },
    {
     "name": "stderr",
     "output_type": "stream",
     "text": [
      "\n",
      "  4%|████                                                                                                  | 4/100 [00:00<00:15,  6.26it/s]"
     ]
    },
    {
     "name": "stdout",
     "output_type": "stream",
     "text": [
      "Val loss: 0.675202210744222\n"
     ]
    },
    {
     "name": "stderr",
     "output_type": "stream",
     "text": [
      "\n",
      "100%|████████████████████████████████████████████████████████████████████████████████████████████████████████| 1/1 [00:00<00:00, 33.76it/s]\u001b[A"
     ]
    },
    {
     "name": "stdout",
     "output_type": "stream",
     "text": [
      "Training loss: 0.6699646711349487\n"
     ]
    },
    {
     "name": "stderr",
     "output_type": "stream",
     "text": [
      "\n",
      "  5%|█████                                                                                                 | 5/100 [00:00<00:14,  6.35it/s]"
     ]
    },
    {
     "name": "stdout",
     "output_type": "stream",
     "text": [
      "Val loss: 0.65921950340271\n"
     ]
    },
    {
     "name": "stderr",
     "output_type": "stream",
     "text": [
      "\n",
      "100%|████████████████████████████████████████████████████████████████████████████████████████████████████████| 1/1 [00:00<00:00, 34.11it/s]\u001b[A"
     ]
    },
    {
     "name": "stdout",
     "output_type": "stream",
     "text": [
      "Training loss: 0.6387333869934082\n"
     ]
    },
    {
     "name": "stderr",
     "output_type": "stream",
     "text": [
      "\n",
      "  6%|██████                                                                                                | 6/100 [00:00<00:14,  6.42it/s]"
     ]
    },
    {
     "name": "stdout",
     "output_type": "stream",
     "text": [
      "Val loss: 0.6468717058499655\n"
     ]
    },
    {
     "name": "stderr",
     "output_type": "stream",
     "text": [
      "\n",
      "100%|████████████████████████████████████████████████████████████████████████████████████████████████████████| 1/1 [00:00<00:00, 34.02it/s]\u001b[A"
     ]
    },
    {
     "name": "stdout",
     "output_type": "stream",
     "text": [
      "Training loss: 0.6125916242599487\n"
     ]
    },
    {
     "name": "stderr",
     "output_type": "stream",
     "text": [
      "\n",
      "  7%|███████▏                                                                                              | 7/100 [00:01<00:14,  6.46it/s]"
     ]
    },
    {
     "name": "stdout",
     "output_type": "stream",
     "text": [
      "Val loss: 0.6360419789950053\n"
     ]
    },
    {
     "name": "stderr",
     "output_type": "stream",
     "text": [
      "\n",
      "100%|████████████████████████████████████████████████████████████████████████████████████████████████████████| 1/1 [00:00<00:00, 33.68it/s]\u001b[A"
     ]
    },
    {
     "name": "stdout",
     "output_type": "stream",
     "text": [
      "Training loss: 0.5982389450073242\n"
     ]
    },
    {
     "name": "stderr",
     "output_type": "stream",
     "text": [
      "\n",
      "  8%|████████▏                                                                                             | 8/100 [00:01<00:14,  6.48it/s]"
     ]
    },
    {
     "name": "stdout",
     "output_type": "stream",
     "text": [
      "Val loss: 0.6260575652122498\n"
     ]
    },
    {
     "name": "stderr",
     "output_type": "stream",
     "text": [
      "\n",
      "100%|████████████████████████████████████████████████████████████████████████████████████████████████████████| 1/1 [00:00<00:00, 34.08it/s]\u001b[A"
     ]
    },
    {
     "name": "stdout",
     "output_type": "stream",
     "text": [
      "Training loss: 0.5762506127357483\n"
     ]
    },
    {
     "name": "stderr",
     "output_type": "stream",
     "text": [
      "\n",
      "  9%|█████████▏                                                                                            | 9/100 [00:01<00:13,  6.52it/s]"
     ]
    },
    {
     "name": "stdout",
     "output_type": "stream",
     "text": [
      "Val loss: 0.6175864736239115\n"
     ]
    },
    {
     "name": "stderr",
     "output_type": "stream",
     "text": [
      "\n",
      "100%|████████████████████████████████████████████████████████████████████████████████████████████████████████| 1/1 [00:00<00:00, 34.55it/s]\u001b[A"
     ]
    },
    {
     "name": "stdout",
     "output_type": "stream",
     "text": [
      "Training loss: 0.5650165677070618\n"
     ]
    },
    {
     "name": "stderr",
     "output_type": "stream",
     "text": [
      "\n",
      " 10%|██████████                                                                                           | 10/100 [00:01<00:13,  6.56it/s]"
     ]
    },
    {
     "name": "stdout",
     "output_type": "stream",
     "text": [
      "Val loss: 0.6100877722104391\n"
     ]
    },
    {
     "name": "stderr",
     "output_type": "stream",
     "text": [
      "\n",
      "100%|████████████████████████████████████████████████████████████████████████████████████████████████████████| 1/1 [00:00<00:00, 34.29it/s]\u001b[A"
     ]
    },
    {
     "name": "stdout",
     "output_type": "stream",
     "text": [
      "Training loss: 0.5402582883834839\n"
     ]
    },
    {
     "name": "stderr",
     "output_type": "stream",
     "text": [
      "\n",
      " 11%|███████████                                                                                          | 11/100 [00:01<00:13,  6.58it/s]"
     ]
    },
    {
     "name": "stdout",
     "output_type": "stream",
     "text": [
      "Val loss: 0.6030463576316833\n"
     ]
    },
    {
     "name": "stderr",
     "output_type": "stream",
     "text": [
      "\n",
      "100%|████████████████████████████████████████████████████████████████████████████████████████████████████████| 1/1 [00:00<00:00, 34.39it/s]\u001b[A"
     ]
    },
    {
     "name": "stdout",
     "output_type": "stream",
     "text": [
      "Training loss: 0.5109125971794128\n"
     ]
    },
    {
     "name": "stderr",
     "output_type": "stream",
     "text": [
      "\n",
      " 12%|████████████                                                                                         | 12/100 [00:01<00:13,  6.57it/s]"
     ]
    },
    {
     "name": "stdout",
     "output_type": "stream",
     "text": [
      "Val loss: 0.5961477557818095\n"
     ]
    },
    {
     "name": "stderr",
     "output_type": "stream",
     "text": [
      "\n",
      "100%|████████████████████████████████████████████████████████████████████████████████████████████████████████| 1/1 [00:00<00:00, 34.01it/s]\u001b[A"
     ]
    },
    {
     "name": "stdout",
     "output_type": "stream",
     "text": [
      "Training loss: 0.5029046535491943\n"
     ]
    },
    {
     "name": "stderr",
     "output_type": "stream",
     "text": [
      "\n",
      " 13%|█████████████▏                                                                                       | 13/100 [00:02<00:13,  6.55it/s]"
     ]
    },
    {
     "name": "stdout",
     "output_type": "stream",
     "text": [
      "Val loss: 0.589339037736257\n"
     ]
    },
    {
     "name": "stderr",
     "output_type": "stream",
     "text": [
      "\n",
      "100%|████████████████████████████████████████████████████████████████████████████████████████████████████████| 1/1 [00:00<00:00, 34.07it/s]\u001b[A"
     ]
    },
    {
     "name": "stdout",
     "output_type": "stream",
     "text": [
      "Training loss: 0.46412011981010437\n"
     ]
    },
    {
     "name": "stderr",
     "output_type": "stream",
     "text": [
      "\n",
      " 14%|██████████████▏                                                                                      | 14/100 [00:02<00:13,  6.55it/s]"
     ]
    },
    {
     "name": "stdout",
     "output_type": "stream",
     "text": [
      "Val loss: 0.5818559527397156\n"
     ]
    },
    {
     "name": "stderr",
     "output_type": "stream",
     "text": [
      "\n",
      "100%|████████████████████████████████████████████████████████████████████████████████████████████████████████| 1/1 [00:00<00:00, 33.95it/s]\u001b[A"
     ]
    },
    {
     "name": "stdout",
     "output_type": "stream",
     "text": [
      "Training loss: 0.4607371389865875\n"
     ]
    },
    {
     "name": "stderr",
     "output_type": "stream",
     "text": [
      "\n",
      " 15%|███████████████▏                                                                                     | 15/100 [00:02<00:12,  6.54it/s]"
     ]
    },
    {
     "name": "stdout",
     "output_type": "stream",
     "text": [
      "Val loss: 0.574853777885437\n"
     ]
    },
    {
     "name": "stderr",
     "output_type": "stream",
     "text": [
      "\n",
      "100%|████████████████████████████████████████████████████████████████████████████████████████████████████████| 1/1 [00:00<00:00, 33.76it/s]\u001b[A"
     ]
    },
    {
     "name": "stdout",
     "output_type": "stream",
     "text": [
      "Training loss: 0.44282272458076477\n"
     ]
    },
    {
     "name": "stderr",
     "output_type": "stream",
     "text": [
      "\n",
      " 16%|████████████████▏                                                                                    | 16/100 [00:02<00:12,  6.55it/s]"
     ]
    },
    {
     "name": "stdout",
     "output_type": "stream",
     "text": [
      "Val loss: 0.5686873197555542\n"
     ]
    },
    {
     "name": "stderr",
     "output_type": "stream",
     "text": [
      "\n",
      "100%|████████████████████████████████████████████████████████████████████████████████████████████████████████| 1/1 [00:00<00:00, 34.42it/s]\u001b[A"
     ]
    },
    {
     "name": "stdout",
     "output_type": "stream",
     "text": [
      "Training loss: 0.40471699833869934\n"
     ]
    },
    {
     "name": "stderr",
     "output_type": "stream",
     "text": [
      "\n",
      " 17%|█████████████████▏                                                                                   | 17/100 [00:02<00:12,  6.57it/s]"
     ]
    },
    {
     "name": "stdout",
     "output_type": "stream",
     "text": [
      "Val loss: 0.5630708734194437\n"
     ]
    },
    {
     "name": "stderr",
     "output_type": "stream",
     "text": [
      "\n",
      "100%|████████████████████████████████████████████████████████████████████████████████████████████████████████| 1/1 [00:00<00:00, 34.61it/s]\u001b[A"
     ]
    },
    {
     "name": "stdout",
     "output_type": "stream",
     "text": [
      "Training loss: 0.3907023072242737\n"
     ]
    },
    {
     "name": "stderr",
     "output_type": "stream",
     "text": [
      "\n",
      " 18%|██████████████████▏                                                                                  | 18/100 [00:02<00:12,  6.60it/s]"
     ]
    },
    {
     "name": "stdout",
     "output_type": "stream",
     "text": [
      "Val loss: 0.5574549039204916\n"
     ]
    },
    {
     "name": "stderr",
     "output_type": "stream",
     "text": [
      "\n",
      "100%|████████████████████████████████████████████████████████████████████████████████████████████████████████| 1/1 [00:00<00:00, 34.41it/s]\u001b[A"
     ]
    },
    {
     "name": "stdout",
     "output_type": "stream",
     "text": [
      "Training loss: 0.3660668432712555\n"
     ]
    },
    {
     "name": "stderr",
     "output_type": "stream",
     "text": [
      "\n",
      "                                                                                                                                           \r"
     ]
    },
    {
     "name": "stdout",
     "output_type": "stream",
     "text": [
      "Val loss: 0.552832841873169\n",
      "{'accuracy': 0.743, 'f1': 0.537, 'precision': 0.55}\n"
     ]
    },
    {
     "name": "stderr",
     "output_type": "stream",
     "text": [
      "  1%|▌                                                                                                     | 1/192 [00:00<01:38,  1.94it/s]\n"
     ]
    },
    {
     "data": {
      "application/vnd.jupyter.widget-view+json": {
       "model_id": "e04d86fd611349798d4a56a2ddf19a45",
       "version_major": 2,
       "version_minor": 0
      },
      "text/plain": [
       "  0%|          | 0/27 [00:00<?, ?it/s]"
      ]
     },
     "metadata": {},
     "output_type": "display_data"
    },
    {
     "name": "stdout",
     "output_type": "stream",
     "text": [
      "Do you know any other fun facts about the show?\n",
      "1. No\n",
      "2. No\n",
      "3. No\n",
      "4. No\n",
      "Not sure about that but paleontology would be my favorite.At 1.3 million described species insects account for more than two-thirds of all known organisms, date back some 400 million years, and have many kinds of interactions with humans and other forms of life on earth.\n",
      "1. No\n",
      "2. No\n",
      "3. No\n",
      "4. No\n",
      "Some other advocates think that life extension is a better goal in the short term.\n",
      "1. No\n",
      "2. No\n",
      "3. No\n",
      "4. No\n",
      "It is true with out Steve Wozniak, jobs would have never had a job and would have to work at a grocery store his entire life?\n",
      "1. No\n",
      "2. No\n",
      "3. No\n",
      "4. No\n",
      "What does he need?\n",
      "1. No\n",
      "2. No\n",
      "3. No\n",
      "4. No\n",
      "A decade from now, hopefully, she 'll have some stability in her life and maybe a husband, and they can be somewhere in Montana and start over, he said.\n",
      "1. No\n",
      "2. No\n",
      "3. No\n",
      "4. No\n",
      "Well, last night when I returned from the theatre, I found that I'd lost my wallet.\n",
      "1. No\n",
      "2. No\n",
      "3. No\n",
      "4. No\n",
      "They want to shrink the size of government and reduce taxes while reforming entitlements by partial privatization, reducing and delaying some benefits and other steps.\n",
      "1. No\n",
      "2. No\n",
      "3. No\n",
      "4. No\n",
      "At some point, George pulled his pistol.\n",
      "1. No\n",
      "2. No\n",
      "3. No\n",
      "4. No\n",
      "Mario looked at him with disbelief.\n",
      "1. No\n",
      "2. No\n",
      "3. No\n",
      "4. No\n",
      "And he was still trying to get out two days later when the police rescued him.\n",
      "1. No\n",
      "2. No\n",
      "3. No\n",
      "4. No\n",
      "He was helped by a newly formed organization run by former prisoners called Kris (Criminals’ Return Into Society).\n",
      "1. No\n",
      "2. No\n",
      "3. No\n",
      "4. No\n",
      "Yes its truly sad, The thing is that their population ranges across a variety of forested and open terrains In Africa they are not considered endangered but in other places they are.\n",
      "1. No\n",
      "2. No\n",
      "3. No\n",
      "4. No\n",
      "I think he said it was fabric.\n",
      "1. No\n",
      "2. No\n",
      "3. No\n",
      "4. No\n",
      "The program's really just changed my life, says adaptive skier Owen Anketell, who has a condition that affects the muscles in his lower legs.\n",
      "1. No\n",
      "2. No\n",
      "3. No\n",
      "4. No\n",
      "Do you have any other parenting info that I should know?\n",
      "1. No\n",
      "2. No\n",
      "3. No\n",
      "4. No\n",
      "However, they do not have a crime investigation team for any offense other than traffic-related crimes.\n",
      "1. No\n",
      "2. No\n",
      "3. No\n",
      "4. No\n",
      "How about the other laws in physics?\n",
      "1. No\n",
      "2. No\n",
      "3. No\n",
      "4. No\n",
      "One of his favorite spots was Lake Isabella, which was about two hours from their home.\n",
      "1. No\n",
      "2. No\n",
      "3. No\n",
      "4. No\n",
      "We went to a family who had a half orphaned son, he had only lost his dad and his mom was still alive.\n",
      "1. No\n",
      "2. No\n",
      "3. No\n",
      "4. No\n",
      "It's not too difficult, I learned how to in a muscal school, as standard modern kits are taught there.\n",
      "1. No\n",
      "2. No\n",
      "3. No\n",
      "4. No\n",
      "Fildes is cryptic about his backers but believes the astrovillage will be a reality by 2018.\n",
      "1. No\n",
      "2. No\n",
      "3. No\n",
      "4. No\n",
      "T-bones were his favorite steaks!\n",
      "1. No\n",
      "2. No\n",
      "3. No\n",
      "4. No\n",
      "What are the other Scandinavian countries?\n",
      "1. No\n",
      "2. No\n",
      "3. No\n",
      "4. No\n",
      "When he was at the Beijing games he won a total of 8 gold medals!\n",
      "1. No\n",
      "2. No\n",
      "3. No\n",
      "4. No\n",
      "One day his dad brought home a new balloon.\n",
      "1. No\n",
      "2. No\n",
      "3. No\n",
      "4. No\n",
      "0.0\n",
      "26\n",
      "0.22033898305084745\n"
     ]
    },
    {
     "name": "stderr",
     "output_type": "stream",
     "text": [
      "  0%|                                                                                                              | 0/100 [00:00<?, ?it/s]\n",
      "100%|████████████████████████████████████████████████████████████████████████████████████████████████████████| 1/1 [00:00<00:00, 22.59it/s]\u001b[A"
     ]
    },
    {
     "name": "stdout",
     "output_type": "stream",
     "text": [
      "Training loss: 0.6800282597541809\n"
     ]
    },
    {
     "name": "stderr",
     "output_type": "stream",
     "text": [
      "\n",
      "  1%|█                                                                                                     | 1/100 [00:00<00:20,  4.77it/s]"
     ]
    },
    {
     "name": "stdout",
     "output_type": "stream",
     "text": [
      "Val loss: 0.6527947982152303\n"
     ]
    },
    {
     "name": "stderr",
     "output_type": "stream",
     "text": [
      "\n",
      "100%|████████████████████████████████████████████████████████████████████████████████████████████████████████| 1/1 [00:00<00:00, 27.31it/s]\u001b[A\n"
     ]
    },
    {
     "name": "stdout",
     "output_type": "stream",
     "text": [
      "Training loss: 0.65955650806427\n"
     ]
    },
    {
     "name": "stderr",
     "output_type": "stream",
     "text": [
      "  2%|██                                                                                                    | 2/100 [00:00<00:19,  5.04it/s]"
     ]
    },
    {
     "name": "stdout",
     "output_type": "stream",
     "text": [
      "Val loss: 0.6408702532450358\n"
     ]
    },
    {
     "name": "stderr",
     "output_type": "stream",
     "text": [
      "\n",
      "100%|████████████████████████████████████████████████████████████████████████████████████████████████████████| 1/1 [00:00<00:00, 27.17it/s]\u001b[A\n"
     ]
    },
    {
     "name": "stdout",
     "output_type": "stream",
     "text": [
      "Training loss: 0.6381526589393616\n"
     ]
    },
    {
     "name": "stderr",
     "output_type": "stream",
     "text": [
      "  3%|███                                                                                                   | 3/100 [00:00<00:18,  5.14it/s]"
     ]
    },
    {
     "name": "stdout",
     "output_type": "stream",
     "text": [
      "Val loss: 0.6308056513468424\n"
     ]
    },
    {
     "name": "stderr",
     "output_type": "stream",
     "text": [
      "\n",
      "100%|████████████████████████████████████████████████████████████████████████████████████████████████████████| 1/1 [00:00<00:00, 27.15it/s]\u001b[A\n"
     ]
    },
    {
     "name": "stdout",
     "output_type": "stream",
     "text": [
      "Training loss: 0.6158397197723389\n"
     ]
    },
    {
     "name": "stderr",
     "output_type": "stream",
     "text": [
      "  4%|████                                                                                                  | 4/100 [00:00<00:18,  5.18it/s]"
     ]
    },
    {
     "name": "stdout",
     "output_type": "stream",
     "text": [
      "Val loss: 0.6215521097183228\n"
     ]
    },
    {
     "name": "stderr",
     "output_type": "stream",
     "text": [
      "\n",
      "100%|████████████████████████████████████████████████████████████████████████████████████████████████████████| 1/1 [00:00<00:00, 27.19it/s]\u001b[A\n"
     ]
    },
    {
     "name": "stdout",
     "output_type": "stream",
     "text": [
      "Training loss: 0.6014212965965271\n"
     ]
    },
    {
     "name": "stderr",
     "output_type": "stream",
     "text": [
      "  5%|█████                                                                                                 | 5/100 [00:00<00:18,  5.20it/s]"
     ]
    },
    {
     "name": "stdout",
     "output_type": "stream",
     "text": [
      "Val loss: 0.6143250465393066\n"
     ]
    },
    {
     "name": "stderr",
     "output_type": "stream",
     "text": [
      "\n",
      "100%|████████████████████████████████████████████████████████████████████████████████████████████████████████| 1/1 [00:00<00:00, 27.14it/s]\u001b[A\n"
     ]
    },
    {
     "name": "stdout",
     "output_type": "stream",
     "text": [
      "Training loss: 0.5869718790054321\n"
     ]
    },
    {
     "name": "stderr",
     "output_type": "stream",
     "text": [
      "  6%|██████                                                                                                | 6/100 [00:01<00:17,  5.23it/s]"
     ]
    },
    {
     "name": "stdout",
     "output_type": "stream",
     "text": [
      "Val loss: 0.6084834734598795\n"
     ]
    },
    {
     "name": "stderr",
     "output_type": "stream",
     "text": [
      "\n",
      "100%|████████████████████████████████████████████████████████████████████████████████████████████████████████| 1/1 [00:00<00:00, 27.49it/s]\u001b[A\n"
     ]
    },
    {
     "name": "stdout",
     "output_type": "stream",
     "text": [
      "Training loss: 0.5593178868293762\n"
     ]
    },
    {
     "name": "stderr",
     "output_type": "stream",
     "text": [
      "  7%|███████▏                                                                                              | 7/100 [00:01<00:17,  5.25it/s]"
     ]
    },
    {
     "name": "stdout",
     "output_type": "stream",
     "text": [
      "Val loss: 0.6014945109685262\n"
     ]
    },
    {
     "name": "stderr",
     "output_type": "stream",
     "text": [
      "\n",
      "100%|████████████████████████████████████████████████████████████████████████████████████████████████████████| 1/1 [00:00<00:00, 27.35it/s]\u001b[A\n"
     ]
    },
    {
     "name": "stdout",
     "output_type": "stream",
     "text": [
      "Training loss: 0.5379907488822937\n"
     ]
    },
    {
     "name": "stderr",
     "output_type": "stream",
     "text": [
      "  8%|████████▏                                                                                             | 8/100 [00:01<00:17,  5.27it/s]"
     ]
    },
    {
     "name": "stdout",
     "output_type": "stream",
     "text": [
      "Val loss: 0.5933342178662618\n"
     ]
    },
    {
     "name": "stderr",
     "output_type": "stream",
     "text": [
      "\n",
      "100%|████████████████████████████████████████████████████████████████████████████████████████████████████████| 1/1 [00:00<00:00, 27.09it/s]\u001b[A\n"
     ]
    },
    {
     "name": "stdout",
     "output_type": "stream",
     "text": [
      "Training loss: 0.506867527961731\n"
     ]
    },
    {
     "name": "stderr",
     "output_type": "stream",
     "text": [
      "  9%|█████████▏                                                                                            | 9/100 [00:01<00:17,  5.26it/s]"
     ]
    },
    {
     "name": "stdout",
     "output_type": "stream",
     "text": [
      "Val loss: 0.5852837959925333\n"
     ]
    },
    {
     "name": "stderr",
     "output_type": "stream",
     "text": [
      "\n",
      "100%|████████████████████████████████████████████████████████████████████████████████████████████████████████| 1/1 [00:00<00:00, 27.19it/s]\u001b[A\n"
     ]
    },
    {
     "name": "stdout",
     "output_type": "stream",
     "text": [
      "Training loss: 0.5029070377349854\n"
     ]
    },
    {
     "name": "stderr",
     "output_type": "stream",
     "text": [
      " 10%|██████████                                                                                           | 10/100 [00:01<00:17,  5.26it/s]"
     ]
    },
    {
     "name": "stdout",
     "output_type": "stream",
     "text": [
      "Val loss: 0.5781011382738749\n"
     ]
    },
    {
     "name": "stderr",
     "output_type": "stream",
     "text": [
      "\n",
      "100%|████████████████████████████████████████████████████████████████████████████████████████████████████████| 1/1 [00:00<00:00, 27.19it/s]\u001b[A\n"
     ]
    },
    {
     "name": "stdout",
     "output_type": "stream",
     "text": [
      "Training loss: 0.4754924774169922\n"
     ]
    },
    {
     "name": "stderr",
     "output_type": "stream",
     "text": [
      " 11%|███████████                                                                                          | 11/100 [00:02<00:16,  5.26it/s]"
     ]
    },
    {
     "name": "stdout",
     "output_type": "stream",
     "text": [
      "Val loss: 0.5698854724566141\n"
     ]
    },
    {
     "name": "stderr",
     "output_type": "stream",
     "text": [
      "\n",
      "100%|████████████████████████████████████████████████████████████████████████████████████████████████████████| 1/1 [00:00<00:00, 27.12it/s]\u001b[A\n"
     ]
    },
    {
     "name": "stdout",
     "output_type": "stream",
     "text": [
      "Training loss: 0.4536535143852234\n"
     ]
    },
    {
     "name": "stderr",
     "output_type": "stream",
     "text": [
      " 12%|████████████                                                                                         | 12/100 [00:02<00:16,  5.24it/s]"
     ]
    },
    {
     "name": "stdout",
     "output_type": "stream",
     "text": [
      "Val loss: 0.5613651871681213\n"
     ]
    },
    {
     "name": "stderr",
     "output_type": "stream",
     "text": [
      "\n",
      "100%|████████████████████████████████████████████████████████████████████████████████████████████████████████| 1/1 [00:00<00:00, 27.51it/s]\u001b[A\n"
     ]
    },
    {
     "name": "stdout",
     "output_type": "stream",
     "text": [
      "Training loss: 0.4343988299369812\n"
     ]
    },
    {
     "name": "stderr",
     "output_type": "stream",
     "text": [
      " 13%|█████████████▏                                                                                       | 13/100 [00:02<00:16,  5.26it/s]"
     ]
    },
    {
     "name": "stdout",
     "output_type": "stream",
     "text": [
      "Val loss: 0.5539978742599487\n"
     ]
    },
    {
     "name": "stderr",
     "output_type": "stream",
     "text": [
      "\n",
      "100%|████████████████████████████████████████████████████████████████████████████████████████████████████████| 1/1 [00:00<00:00, 27.43it/s]\u001b[A\n"
     ]
    },
    {
     "name": "stdout",
     "output_type": "stream",
     "text": [
      "Training loss: 0.4156514108181\n"
     ]
    },
    {
     "name": "stderr",
     "output_type": "stream",
     "text": [
      " 14%|██████████████▏                                                                                      | 14/100 [00:02<00:16,  5.27it/s]"
     ]
    },
    {
     "name": "stdout",
     "output_type": "stream",
     "text": [
      "Val loss: 0.5473147928714752\n"
     ]
    },
    {
     "name": "stderr",
     "output_type": "stream",
     "text": [
      "\n",
      "100%|████████████████████████████████████████████████████████████████████████████████████████████████████████| 1/1 [00:00<00:00, 27.17it/s]\u001b[A\n"
     ]
    },
    {
     "name": "stdout",
     "output_type": "stream",
     "text": [
      "Training loss: 0.40067535638809204\n"
     ]
    },
    {
     "name": "stderr",
     "output_type": "stream",
     "text": [
      " 15%|███████████████▏                                                                                     | 15/100 [00:02<00:16,  5.25it/s]"
     ]
    },
    {
     "name": "stdout",
     "output_type": "stream",
     "text": [
      "Val loss: 0.541666179895401\n"
     ]
    },
    {
     "name": "stderr",
     "output_type": "stream",
     "text": [
      "\n",
      "100%|████████████████████████████████████████████████████████████████████████████████████████████████████████| 1/1 [00:00<00:00, 27.21it/s]\u001b[A\n"
     ]
    },
    {
     "name": "stdout",
     "output_type": "stream",
     "text": [
      "Training loss: 0.3673957884311676\n"
     ]
    },
    {
     "name": "stderr",
     "output_type": "stream",
     "text": [
      "                                                                                                                                           "
     ]
    },
    {
     "name": "stdout",
     "output_type": "stream",
     "text": [
      "Val loss: 0.5368642111619314\n",
      "{'accuracy': 0.821, 'f1': 0.37, 'precision': 0.714}\n"
     ]
    },
    {
     "name": "stderr",
     "output_type": "stream",
     "text": [
      "  5%|█████▎                                                                                               | 10/192 [00:02<00:51,  3.52it/s]\n"
     ]
    },
    {
     "data": {
      "application/vnd.jupyter.widget-view+json": {
       "model_id": "8326e70e40b34a7da59271175a2fb14c",
       "version_major": 2,
       "version_minor": 0
      },
      "text/plain": [
       "  0%|          | 0/26 [00:00<?, ?it/s]"
      ]
     },
     "metadata": {},
     "output_type": "display_data"
    },
    {
     "name": "stdout",
     "output_type": "stream",
     "text": [
      "I forgot what I put up with in that case.\n",
      "1. No\n",
      "2. No\n",
      "3. No\n",
      "4. No\n",
      "Makes sense, you'd only be able to use what was available to you before we had such established international trade like today.\n",
      "1. No\n",
      "2. No\n",
      "3. No\n",
      "4. No\n",
      "The theories about how she met her end are countless.\n",
      "1. No\n",
      "2. No\n",
      "3. No\n",
      "4. No\n",
      "Take as much as you want.\n",
      "1. No\n",
      "2. No\n",
      "3. No\n",
      "4. No\n",
      "The couple’s lawyer, Aurélien Hamelle, had told the Paris court it was necessary to block the “highly intimate” images of the duchess without her bikini top as she was a “young woman, not an object”.\n",
      "1. No\n",
      "2. No\n",
      "3. No\n",
      "4. No\n",
      "She had done the same thing.\n",
      "1. No\n",
      "2. No\n",
      "3. No\n",
      "4. No\n",
      "It's a close one and, oh no!\n",
      "1. No\n",
      "2. No\n",
      "3. No\n",
      "4. No\n",
      "My top priority is ending the mass surveillance, digital surveillance, of millions and millions of law- abiding Americans.” \n",
      "Feinstein unexpectedly announced that she was “totally opposed” to the foreign leader spying of the sort the NSA conducts of German Chancellor Angela Merkel.\n",
      "1. No\n",
      "2. No\n",
      "3. No\n",
      "4. No\n",
      "Yes, you are responsible for keeping all files in order.\n",
      "1. No\n",
      "2. No\n",
      "3. No\n",
      "4. No\n",
      "What does she do now?\n",
      "1. No\n",
      "2. No\n",
      "3. No\n",
      "4. No\n",
      "ok, you can google it, and you will see the pictures, She holds a torch above her head with her right hand, and in her left hand carries a \"tabula ansata\" inscribed in Roman numerals with \"JULY IV MDCCLXXVI\"\n",
      "1. No\n",
      "2. No\n",
      "3. No\n",
      "4. No\n",
      "She certainly has had a long career.\n",
      "1. No\n",
      "2. No\n",
      "3. No\n",
      "4. No\n",
      "I can imagine with how much is going on there, seems like an international hub.\n",
      "1. No\n",
      "2. No\n",
      "3. No\n",
      "4. No\n",
      "To open it, you would have to pull against the air pressure, well beyond the capabilities of human muscles.\n",
      "1. No\n",
      "2. No\n",
      "3. No\n",
      "4. No\n",
      "I think that she is very pretty.\n",
      "1. No\n",
      "2. No\n",
      "3. No\n",
      "4. No\n",
      "Ok, here you are.\n",
      "1. No\n",
      "2. No\n",
      "3. No\n",
      "4. No\n",
      "While such views accord no priority to the first-person case, they may see a tight connection between self-consciousness and our capacity to think about others: these are simply two aspects of the more general capacity to think about the mind.\n",
      "1. No\n",
      "2. No\n",
      "3. No\n",
      "4. No\n",
      "It was beginning to sound like she was too good to be true!\n",
      "1. No\n",
      "2. No\n",
      "3. No\n",
      "4. No\n",
      "It was so popular, she could have made her fortune just from the perfume if she had asked for more %.\n",
      "1. No\n",
      "2. No\n",
      "3. No\n",
      "4. No\n",
      "The rooms are very tidy and the flowers grew very well.You are very helpful.\n",
      "1. No\n",
      "2. No\n",
      "3. No\n",
      "4. No\n",
      "No, I encourage her to go her own way, but she's now having a change of heart.\n",
      "1. No\n",
      "2. No\n",
      "3. No\n",
      "4. No\n",
      "It was her choice to do it because she was getting distracted by all the teenage drama and couldn't focus on her schooling.\n",
      "1. No\n",
      "2. No\n",
      "3. No\n",
      "4. No\n",
      "Well, he is a hard case.\n",
      "1. No\n",
      "2. No\n",
      "3. No\n",
      "4. No\n",
      "Really, Mary, you're horrible.\n",
      "1. No\n",
      "2. No\n",
      "3. No\n",
      "4. No\n",
      "She was a mainecoon mix, she weighed 22 lbs.\n",
      "1. No\n",
      "2. No\n",
      "3. No\n",
      "4. No\n",
      "Oh it's far from soft!\n",
      "1. No\n",
      "2. No\n",
      "3. No\n",
      "4. No\n",
      "0.0\n",
      "25\n",
      "0.18181818181818182\n"
     ]
    },
    {
     "name": "stderr",
     "output_type": "stream",
     "text": [
      "  0%|                                                                                                              | 0/100 [00:00<?, ?it/s]\n",
      "100%|████████████████████████████████████████████████████████████████████████████████████████████████████████| 1/1 [00:00<00:00, 20.06it/s]\u001b[A"
     ]
    },
    {
     "name": "stdout",
     "output_type": "stream",
     "text": [
      "Training loss: 0.8466519117355347\n"
     ]
    },
    {
     "name": "stderr",
     "output_type": "stream",
     "text": [
      "\n",
      "  1%|█                                                                                                     | 1/100 [00:00<00:25,  3.92it/s]"
     ]
    },
    {
     "name": "stdout",
     "output_type": "stream",
     "text": [
      "Val loss: 0.7474669218063354\n"
     ]
    },
    {
     "name": "stderr",
     "output_type": "stream",
     "text": [
      "\n",
      "100%|████████████████████████████████████████████████████████████████████████████████████████████████████████| 1/1 [00:00<00:00, 20.41it/s]\u001b[A"
     ]
    },
    {
     "name": "stdout",
     "output_type": "stream",
     "text": [
      "Training loss: 0.7804796695709229\n"
     ]
    },
    {
     "name": "stderr",
     "output_type": "stream",
     "text": [
      "\n",
      "  2%|██                                                                                                    | 2/100 [00:00<00:23,  4.09it/s]"
     ]
    },
    {
     "name": "stdout",
     "output_type": "stream",
     "text": [
      "Val loss: 0.707363173365593\n"
     ]
    },
    {
     "name": "stderr",
     "output_type": "stream",
     "text": [
      "\n",
      "100%|████████████████████████████████████████████████████████████████████████████████████████████████████████| 1/1 [00:00<00:00, 22.81it/s]\u001b[A"
     ]
    },
    {
     "name": "stdout",
     "output_type": "stream",
     "text": [
      "Training loss: 0.739723265171051\n"
     ]
    },
    {
     "name": "stderr",
     "output_type": "stream",
     "text": [
      "\n",
      "  3%|███                                                                                                   | 3/100 [00:00<00:22,  4.22it/s]"
     ]
    },
    {
     "name": "stdout",
     "output_type": "stream",
     "text": [
      "Val loss: 0.6765315979719162\n"
     ]
    },
    {
     "name": "stderr",
     "output_type": "stream",
     "text": [
      "\n",
      "100%|████████████████████████████████████████████████████████████████████████████████████████████████████████| 1/1 [00:00<00:00, 23.01it/s]\u001b[A"
     ]
    },
    {
     "name": "stdout",
     "output_type": "stream",
     "text": [
      "Training loss: 0.685306191444397\n"
     ]
    },
    {
     "name": "stderr",
     "output_type": "stream",
     "text": [
      "\n",
      "  4%|████                                                                                                  | 4/100 [00:00<00:22,  4.30it/s]"
     ]
    },
    {
     "name": "stdout",
     "output_type": "stream",
     "text": [
      "Val loss: 0.6515705734491348\n"
     ]
    },
    {
     "name": "stderr",
     "output_type": "stream",
     "text": [
      "\n",
      "100%|████████████████████████████████████████████████████████████████████████████████████████████████████████| 1/1 [00:00<00:00, 22.47it/s]\u001b[A\n"
     ]
    },
    {
     "name": "stdout",
     "output_type": "stream",
     "text": [
      "Training loss: 0.6508876085281372\n"
     ]
    },
    {
     "name": "stderr",
     "output_type": "stream",
     "text": [
      "  5%|█████                                                                                                 | 5/100 [00:01<00:21,  4.32it/s]"
     ]
    },
    {
     "name": "stdout",
     "output_type": "stream",
     "text": [
      "Val loss: 0.6288404762744904\n"
     ]
    },
    {
     "name": "stderr",
     "output_type": "stream",
     "text": [
      "\n",
      "100%|████████████████████████████████████████████████████████████████████████████████████████████████████████| 1/1 [00:00<00:00, 23.07it/s]\u001b[A"
     ]
    },
    {
     "name": "stdout",
     "output_type": "stream",
     "text": [
      "Training loss: 0.6308726668357849\n"
     ]
    },
    {
     "name": "stderr",
     "output_type": "stream",
     "text": [
      "\n",
      "  6%|██████                                                                                                | 6/100 [00:01<00:21,  4.32it/s]"
     ]
    },
    {
     "name": "stdout",
     "output_type": "stream",
     "text": [
      "Val loss: 0.6086858958005905\n"
     ]
    },
    {
     "name": "stderr",
     "output_type": "stream",
     "text": [
      "\n",
      "100%|████████████████████████████████████████████████████████████████████████████████████████████████████████| 1/1 [00:00<00:00, 23.09it/s]\u001b[A\n"
     ]
    },
    {
     "name": "stdout",
     "output_type": "stream",
     "text": [
      "Training loss: 0.5981590747833252\n"
     ]
    },
    {
     "name": "stderr",
     "output_type": "stream",
     "text": [
      "  7%|███████▏                                                                                              | 7/100 [00:01<00:21,  4.34it/s]"
     ]
    },
    {
     "name": "stdout",
     "output_type": "stream",
     "text": [
      "Val loss: 0.5905549079179764\n"
     ]
    },
    {
     "name": "stderr",
     "output_type": "stream",
     "text": [
      "\n",
      "100%|████████████████████████████████████████████████████████████████████████████████████████████████████████| 1/1 [00:00<00:00, 22.65it/s]\u001b[A"
     ]
    },
    {
     "name": "stdout",
     "output_type": "stream",
     "text": [
      "Training loss: 0.5696215033531189\n"
     ]
    },
    {
     "name": "stderr",
     "output_type": "stream",
     "text": [
      "\n",
      "  8%|████████▏                                                                                             | 8/100 [00:01<00:21,  4.34it/s]"
     ]
    },
    {
     "name": "stdout",
     "output_type": "stream",
     "text": [
      "Val loss: 0.5742557048797607\n"
     ]
    },
    {
     "name": "stderr",
     "output_type": "stream",
     "text": [
      "\n",
      "100%|████████████████████████████████████████████████████████████████████████████████████████████████████████| 1/1 [00:00<00:00, 23.30it/s]\u001b[A"
     ]
    },
    {
     "name": "stdout",
     "output_type": "stream",
     "text": [
      "Training loss: 0.5323861837387085\n"
     ]
    },
    {
     "name": "stderr",
     "output_type": "stream",
     "text": [
      "\n",
      "  9%|█████████▏                                                                                            | 9/100 [00:02<00:20,  4.35it/s]"
     ]
    },
    {
     "name": "stdout",
     "output_type": "stream",
     "text": [
      "Val loss: 0.5593163669109344\n"
     ]
    },
    {
     "name": "stderr",
     "output_type": "stream",
     "text": [
      "\n",
      "100%|████████████████████████████████████████████████████████████████████████████████████████████████████████| 1/1 [00:00<00:00, 23.34it/s]\u001b[A"
     ]
    },
    {
     "name": "stdout",
     "output_type": "stream",
     "text": [
      "Training loss: 0.5120950937271118\n"
     ]
    },
    {
     "name": "stderr",
     "output_type": "stream",
     "text": [
      "\n",
      " 10%|██████████                                                                                           | 10/100 [00:02<00:20,  4.37it/s]"
     ]
    },
    {
     "name": "stdout",
     "output_type": "stream",
     "text": [
      "Val loss: 0.5455855876207352\n"
     ]
    },
    {
     "name": "stderr",
     "output_type": "stream",
     "text": [
      "\n",
      "100%|████████████████████████████████████████████████████████████████████████████████████████████████████████| 1/1 [00:00<00:00, 22.80it/s]\u001b[A"
     ]
    },
    {
     "name": "stdout",
     "output_type": "stream",
     "text": [
      "Training loss: 0.4823913872241974\n"
     ]
    },
    {
     "name": "stderr",
     "output_type": "stream",
     "text": [
      "\n",
      " 11%|███████████                                                                                          | 11/100 [00:02<00:20,  4.36it/s]"
     ]
    },
    {
     "name": "stdout",
     "output_type": "stream",
     "text": [
      "Val loss: 0.532453678548336\n"
     ]
    },
    {
     "name": "stderr",
     "output_type": "stream",
     "text": [
      "\n",
      "100%|████████████████████████████████████████████████████████████████████████████████████████████████████████| 1/1 [00:00<00:00, 22.81it/s]\u001b[A"
     ]
    },
    {
     "name": "stdout",
     "output_type": "stream",
     "text": [
      "Training loss: 0.4708597958087921\n"
     ]
    },
    {
     "name": "stderr",
     "output_type": "stream",
     "text": [
      "\n",
      " 12%|████████████                                                                                         | 12/100 [00:02<00:20,  4.37it/s]"
     ]
    },
    {
     "name": "stdout",
     "output_type": "stream",
     "text": [
      "Val loss: 0.5203604251146317\n"
     ]
    },
    {
     "name": "stderr",
     "output_type": "stream",
     "text": [
      "\n",
      "100%|████████████████████████████████████████████████████████████████████████████████████████████████████████| 1/1 [00:00<00:00, 23.01it/s]\u001b[A"
     ]
    },
    {
     "name": "stdout",
     "output_type": "stream",
     "text": [
      "Training loss: 0.44544607400894165\n"
     ]
    },
    {
     "name": "stderr",
     "output_type": "stream",
     "text": [
      "\n",
      " 13%|█████████████▏                                                                                       | 13/100 [00:03<00:19,  4.37it/s]"
     ]
    },
    {
     "name": "stdout",
     "output_type": "stream",
     "text": [
      "Val loss: 0.508843682706356\n"
     ]
    },
    {
     "name": "stderr",
     "output_type": "stream",
     "text": [
      "\n",
      "100%|████████████████████████████████████████████████████████████████████████████████████████████████████████| 1/1 [00:00<00:00, 23.15it/s]\u001b[A"
     ]
    },
    {
     "name": "stdout",
     "output_type": "stream",
     "text": [
      "Training loss: 0.41758546233177185\n"
     ]
    },
    {
     "name": "stderr",
     "output_type": "stream",
     "text": [
      "\n",
      " 14%|██████████████▏                                                                                      | 14/100 [00:03<00:19,  4.37it/s]"
     ]
    },
    {
     "name": "stdout",
     "output_type": "stream",
     "text": [
      "Val loss: 0.49831488728523254\n"
     ]
    },
    {
     "name": "stderr",
     "output_type": "stream",
     "text": [
      "\n",
      "100%|████████████████████████████████████████████████████████████████████████████████████████████████████████| 1/1 [00:00<00:00, 23.21it/s]\u001b[A"
     ]
    },
    {
     "name": "stdout",
     "output_type": "stream",
     "text": [
      "Training loss: 0.3954313397407532\n"
     ]
    },
    {
     "name": "stderr",
     "output_type": "stream",
     "text": [
      "\n",
      " 15%|███████████████▏                                                                                     | 15/100 [00:03<00:19,  4.38it/s]"
     ]
    },
    {
     "name": "stdout",
     "output_type": "stream",
     "text": [
      "Val loss: 0.4882311299443245\n"
     ]
    },
    {
     "name": "stderr",
     "output_type": "stream",
     "text": [
      "\n",
      "100%|████████████████████████████████████████████████████████████████████████████████████████████████████████| 1/1 [00:00<00:00, 22.70it/s]\u001b[A"
     ]
    },
    {
     "name": "stdout",
     "output_type": "stream",
     "text": [
      "Training loss: 0.3760020136833191\n"
     ]
    },
    {
     "name": "stderr",
     "output_type": "stream",
     "text": [
      "\n",
      " 16%|████████████████▏                                                                                    | 16/100 [00:03<00:19,  4.37it/s]"
     ]
    },
    {
     "name": "stdout",
     "output_type": "stream",
     "text": [
      "Val loss: 0.47854670137166977\n"
     ]
    },
    {
     "name": "stderr",
     "output_type": "stream",
     "text": [
      "\n",
      "100%|████████████████████████████████████████████████████████████████████████████████████████████████████████| 1/1 [00:00<00:00, 23.16it/s]\u001b[A"
     ]
    },
    {
     "name": "stdout",
     "output_type": "stream",
     "text": [
      "Training loss: 0.35822421312332153\n"
     ]
    },
    {
     "name": "stderr",
     "output_type": "stream",
     "text": [
      "\n",
      " 17%|█████████████████▏                                                                                   | 17/100 [00:03<00:18,  4.37it/s]"
     ]
    },
    {
     "name": "stdout",
     "output_type": "stream",
     "text": [
      "Val loss: 0.4695127606391907\n"
     ]
    },
    {
     "name": "stderr",
     "output_type": "stream",
     "text": [
      "\n",
      "100%|████████████████████████████████████████████████████████████████████████████████████████████████████████| 1/1 [00:00<00:00, 22.95it/s]\u001b[A"
     ]
    },
    {
     "name": "stdout",
     "output_type": "stream",
     "text": [
      "Training loss: 0.34074893593788147\n"
     ]
    },
    {
     "name": "stderr",
     "output_type": "stream",
     "text": [
      "\n",
      " 18%|██████████████████▏                                                                                  | 18/100 [00:04<00:18,  4.37it/s]"
     ]
    },
    {
     "name": "stdout",
     "output_type": "stream",
     "text": [
      "Val loss: 0.4612520933151245\n"
     ]
    },
    {
     "name": "stderr",
     "output_type": "stream",
     "text": [
      "\n",
      "100%|████████████████████████████████████████████████████████████████████████████████████████████████████████| 1/1 [00:00<00:00, 22.94it/s]\u001b[A\n"
     ]
    },
    {
     "name": "stdout",
     "output_type": "stream",
     "text": [
      "Training loss: 0.31518325209617615\n"
     ]
    },
    {
     "name": "stderr",
     "output_type": "stream",
     "text": [
      " 19%|███████████████████▏                                                                                 | 19/100 [00:04<00:18,  4.38it/s]"
     ]
    },
    {
     "name": "stdout",
     "output_type": "stream",
     "text": [
      "Val loss: 0.4536313861608505\n"
     ]
    },
    {
     "name": "stderr",
     "output_type": "stream",
     "text": [
      "\n",
      "100%|████████████████████████████████████████████████████████████████████████████████████████████████████████| 1/1 [00:00<00:00, 23.00it/s]\u001b[A"
     ]
    },
    {
     "name": "stdout",
     "output_type": "stream",
     "text": [
      "Training loss: 0.2952684164047241\n"
     ]
    },
    {
     "name": "stderr",
     "output_type": "stream",
     "text": [
      "\n",
      " 20%|████████████████████▏                                                                                | 20/100 [00:04<00:18,  4.39it/s]"
     ]
    },
    {
     "name": "stdout",
     "output_type": "stream",
     "text": [
      "Val loss: 0.44696350395679474\n"
     ]
    },
    {
     "name": "stderr",
     "output_type": "stream",
     "text": [
      "\n",
      "100%|████████████████████████████████████████████████████████████████████████████████████████████████████████| 1/1 [00:00<00:00, 23.05it/s]\u001b[A"
     ]
    },
    {
     "name": "stdout",
     "output_type": "stream",
     "text": [
      "Training loss: 0.27555733919143677\n"
     ]
    },
    {
     "name": "stderr",
     "output_type": "stream",
     "text": [
      "\n",
      " 21%|█████████████████████▏                                                                               | 21/100 [00:04<00:18,  4.38it/s]"
     ]
    },
    {
     "name": "stdout",
     "output_type": "stream",
     "text": [
      "Val loss: 0.44076158106327057\n"
     ]
    },
    {
     "name": "stderr",
     "output_type": "stream",
     "text": [
      "\n",
      "100%|████████████████████████████████████████████████████████████████████████████████████████████████████████| 1/1 [00:00<00:00, 23.00it/s]\u001b[A"
     ]
    },
    {
     "name": "stdout",
     "output_type": "stream",
     "text": [
      "Training loss: 0.26595187187194824\n"
     ]
    },
    {
     "name": "stderr",
     "output_type": "stream",
     "text": [
      "\n",
      " 22%|██████████████████████▏                                                                              | 22/100 [00:05<00:17,  4.37it/s]"
     ]
    },
    {
     "name": "stdout",
     "output_type": "stream",
     "text": [
      "Val loss: 0.4351595416665077\n"
     ]
    },
    {
     "name": "stderr",
     "output_type": "stream",
     "text": [
      "\n",
      "100%|████████████████████████████████████████████████████████████████████████████████████████████████████████| 1/1 [00:00<00:00, 22.73it/s]\u001b[A"
     ]
    },
    {
     "name": "stdout",
     "output_type": "stream",
     "text": [
      "Training loss: 0.2467927634716034\n"
     ]
    },
    {
     "name": "stderr",
     "output_type": "stream",
     "text": [
      "\n",
      "                                                                                                                                           \r"
     ]
    },
    {
     "name": "stdout",
     "output_type": "stream",
     "text": [
      "Val loss: 0.4304097071290016\n",
      "{'accuracy': 0.861, 'f1': 0.429, 'precision': 1.0}\n"
     ]
    },
    {
     "name": "stderr",
     "output_type": "stream",
     "text": [
      " 10%|██████████▌                                                                                          | 20/192 [00:05<00:46,  3.67it/s]\n"
     ]
    },
    {
     "data": {
      "application/vnd.jupyter.widget-view+json": {
       "model_id": "51e7ef80cdcb406fa60652629ffee674",
       "version_major": 2,
       "version_minor": 0
      },
      "text/plain": [
       "  0%|          | 0/26 [00:00<?, ?it/s]"
      ]
     },
     "metadata": {},
     "output_type": "display_data"
    },
    {
     "name": "stdout",
     "output_type": "stream",
     "text": [
      "The single rooms should be on the second or third floor and the double rooms should face the sea and have enough sunshine.\n",
      "1. No\n",
      "2. No\n",
      "3. No\n",
      "4. No\n",
      "A tour of Australia would be relaxing because you'd be doing something different and not working.\n",
      "1. No\n",
      "2. No\n",
      "3. No\n",
      "4. No\n",
      "It depends if you fancy somewhere hot or cold.\n",
      "1. No\n",
      "2. No\n",
      "3. No\n",
      "4. No\n",
      "Served hot and crispy with lunch.\n",
      "1. No\n",
      "2. No\n",
      "3. No\n",
      "4. No\n",
      "A cold bevrage\n",
      "1. No\n",
      "2. No\n",
      "3. No\n",
      "4. No\n",
      "she says that after several years of use, it's not working properly.\n",
      "1. No\n",
      "2. No\n",
      "3. No\n",
      "4. No\n",
      "It's rather cold this morning, wouldn't you say?\n",
      "1. No\n",
      "2. No\n",
      "3. No\n",
      "4. No\n",
      "There's the northeast, which is mild in summer and very cold in winter.\n",
      "1. No\n",
      "2. No\n",
      "3. No\n",
      "4. No\n",
      "I really hope it doesn't get cold.\n",
      "1. No\n",
      "2. No\n",
      "3. No\n",
      "4. No\n",
      "It’s a romantic notion that may appeal to us but, with the cold light of day falling on the scientific evidence, it’s revealed to be nothing more than a fiction.\n",
      "1. No\n",
      "2. No\n",
      "3. No\n",
      "4. No\n",
      "it was cold but near the geysers it was quite warm\n",
      "1. No\n",
      "2. No\n",
      "3. No\n",
      "4. No\n",
      "You should have my information and credit card number on file.\n",
      "1. No\n",
      "2. No\n",
      "3. No\n",
      "4. No\n",
      "It re-emerged, reinvigorated, in Yemen in 2009 after the Saudi outfit merged with a Yemeni al Qaeda counterpart.\n",
      "1. No\n",
      "2. No\n",
      "3. No\n",
      "4. No\n",
      "There should be a bus every 10 minutes, but yesterday morning, I waited almost 20 minutes before the bus came and was almost late for school.\n",
      "1. No\n",
      "2. No\n",
      "3. No\n",
      "4. No\n",
      "The company, dubbed The People's Opera by former NYC Mayor Fiorello LaGuardia, was founded on the principle that every New Yorker should be able to afford to go to the opera, Steel said.\n",
      "1. No\n",
      "2. No\n",
      "3. No\n",
      "4. No\n",
      "Although the weather here is very cold, the people are warm.\n",
      "1. No\n",
      "2. No\n",
      "3. No\n",
      "4. No\n",
      "Don't you think it's a bit cold for that?\n",
      "1. No\n",
      "2. No\n",
      "3. No\n",
      "4. No\n",
      "Yes, it's very hot and stuffy.\n",
      "1. No\n",
      "2. No\n",
      "3. No\n",
      "4. No\n",
      "No I put the cheese afterwards while it still hot.\n",
      "1. No\n",
      "2. No\n",
      "3. No\n",
      "4. No\n",
      "The newer reusable shopping bags are really nice for the items we need on out picnics.\n",
      "1. No\n",
      "2. No\n",
      "3. No\n",
      "4. No\n",
      "Besides, it should have a shower.\n",
      "1. No\n",
      "2. No\n",
      "3. No\n",
      "4. No\n",
      "Somewhere cold?\n",
      "1. No\n",
      "2. No\n",
      "3. No\n",
      "4. No\n",
      "Well, the keyboard is ok now, and the mouse is working well, too, even though you suggested that I get a new one last time.\n",
      "1. No\n",
      "2. No\n",
      "3. No\n",
      "4. No\n",
      "We have a requisition form on the company web site.\n",
      "1. No\n",
      "2. No\n",
      "3. No\n",
      "4. No\n",
      "I read that it is very cold there but southern areas are warmer in the summer.\n",
      "1. No\n",
      "2. No\n",
      "3. No\n",
      "4. No\n",
      "The cool air prevented overheating.\n",
      "1. No\n",
      "2. No\n",
      "3. No\n",
      "4. No\n",
      "0.0\n",
      "FORM: 'NEITHER OF', 'NONE OF' + PRONOUN: Can use negative forms 'neither of' and 'none of' + pronoun or noun phrase with the affirmative form of the verb. \n",
      "    Neither of us is liable in this case. \n",
      "\n",
      "Moreover, none of my friends are interested therefore there is no one I can talk to. \n",
      "\n",
      "We even met a French group and as none of them spoke English, we stayed with them to translate what they were asked.\n",
      "['neither of', 'none of']\n",
      "1. Does the sentence contain the phrase \"neither of\" or \"none of\"?\n",
      "2. Is \"neither of\" or \"none of\" followed by a pronoun or a noun phrase?\n",
      "3. Is the verb in the sentence in its affirmative form?\n",
      "4. Does the sentence convey a negative meaning or negation through the use of \"neither of\" or \"none of\"?\n"
     ]
    },
    {
     "data": {
      "application/vnd.jupyter.widget-view+json": {
       "model_id": "3e6b5cc5304f46febb29fe457f42950d",
       "version_major": 2,
       "version_minor": 0
      },
      "text/plain": [
       "  0%|          | 0/3 [00:00<?, ?it/s]"
      ]
     },
     "metadata": {},
     "output_type": "display_data"
    },
    {
     "name": "stdout",
     "output_type": "stream",
     "text": [
      "Neither of us is liable in this case. \n",
      "1. Yes\n",
      "2. Pronoun\n",
      "3. No\n",
      "4. Yes\n",
      "Moreover, none of my friends are interested therefore there is no one I can talk to. \n",
      "1. Yes\n",
      "2. Noun phrase\n",
      "3. Yes\n",
      "4. Yes\n",
      "We even met a French group and as none of them spoke English, we stayed with them to translate what they were asked.\n",
      "1. Yes\n",
      "2. Pronoun\n",
      "3. Yes\n",
      "4. No\n",
      "FORM: 'NONE', SUBSTITUTION: Can use negative pronoun 'none' to substitute for subject and object pronouns or noun phrases. ► pronouns: substitution\n",
      "    In fact, there are none, but the hills that do exist can be dubbed mountains - just because there are none... \n",
      "\n",
      "Concerning your question about any special requirements of some students - I am glad that I am able to tell you that there are none this year. \n",
      "\n",
      "Problems when using English? None.\n",
      "['none', 'there are none', 'are none', 'none this year', 'none.']\n",
      "1. Is the word \"none\" used in the sentence?\n",
      "2. Is \"none\" substituting for a subject or object pronoun, or a noun phrase?\n",
      "3. Is the sentence expressing a negation or absence of something?\n",
      "4. Does the use of \"none\" fit within the context of the sentence, making it clear that it is replacing a previously mentioned or understood noun or noun phrase?\n"
     ]
    },
    {
     "data": {
      "application/vnd.jupyter.widget-view+json": {
       "model_id": "7e6f996455404a69ab7d786d6b33439f",
       "version_major": 2,
       "version_minor": 0
      },
      "text/plain": [
       "  0%|          | 0/3 [00:00<?, ?it/s]"
      ]
     },
     "metadata": {},
     "output_type": "display_data"
    },
    {
     "name": "stdout",
     "output_type": "stream",
     "text": [
      "In fact, there are none, but the hills that do exist can be dubbed mountains - just because there are none... \n",
      "1. Yes\n",
      "2. Yes\n",
      "3. Yes\n",
      "4. Yes\n",
      "Concerning your question about any special requirements of some students - I am glad that I am able to tell you that there are none this year. \n",
      "1. Yes\n",
      "2. Yes\n",
      "3. Yes\n",
      "4. Yes\n",
      "Problems when using English? None.\n",
      "1. Yes\n",
      "2. Yes\n",
      "3. Yes\n",
      "4. Yes\n"
     ]
    },
    {
     "data": {
      "application/vnd.jupyter.widget-view+json": {
       "model_id": "e7eba78aa9c7413e8f8c80cef0fe673c",
       "version_major": 2,
       "version_minor": 0
      },
      "text/plain": [
       "  0%|          | 0/451036 [00:00<?, ?it/s]"
      ]
     },
     "metadata": {},
     "output_type": "display_data"
    },
    {
     "name": "stdout",
     "output_type": "stream",
     "text": [
      "['I love Lizards even thou there are none in Antarctica.', 'True, there are none native to where I live either.', 'But in several of those that have been opened there are none, no manuals.', 'There are none in Tennessee.', 'There are none in the Department store and the post office was closed.', 'Oh, of course I did, but none of them was very authentic.', 'No, none of it seems to be available yet.', \"I can't believe that none of the news stories make you happy or excited.\", 'You know what they say: a friend to all is a friend to none.', 'Some have 4 legs, some have none and have snake-like bodies.']\n"
     ]
    },
    {
     "data": {
      "application/vnd.jupyter.widget-view+json": {
       "model_id": "e8d725b74f1d4a72b7dcd85d9db5be64",
       "version_major": 2,
       "version_minor": 0
      },
      "text/plain": [
       "  0%|          | 0/50 [00:00<?, ?it/s]"
      ]
     },
     "metadata": {},
     "output_type": "display_data"
    },
    {
     "name": "stdout",
     "output_type": "stream",
     "text": [
      "I love Lizards even thou there are none in Antarctica.\n",
      "1. Yes\n",
      "2. Yes\n",
      "3. Yes\n",
      "4. Yes\n",
      "I couldn't eat none when i was pregannt because it is often prepared with raw seafood :(\n",
      "1. Yes\n",
      "2. No\n",
      "3. Yes\n",
      "4. No\n",
      "Well, it's really none of your business.\n",
      "1. Yes\n",
      "2. Yes\n",
      "3. Yes\n",
      "4. Yes\n",
      "Well, several orders of monks in medieval Europe were thought to have banned meat for ascetic reasons, but none of them abstained from eating fish.\n",
      "1. Yes\n",
      "2. Yes\n",
      "3. Yes\n",
      "4. Yes\n",
      "Left without a refrigerator (none are made in France) or nail clippers, he was forced to chill his food on the window ledge and saw at his toenails with a penknife.\n",
      "1. Yes\n",
      "2. Yes\n",
      "3. Yes\n",
      "4. Yes\n",
      "I think I put forward some great ideas, but none of them were accepted.\n",
      "1. Yes\n",
      "2. Yes\n",
      "3. Yes\n",
      "4. Yes\n",
      "Yes it was amazing, it's probably one of the most none of his books, way more than Shawshank Redemption.\n",
      "1. Yes\n",
      "2. No\n",
      "3. No\n",
      "4. No\n",
      "True, there are none native to where I live either.\n",
      "1. Yes\n",
      "2. Yes\n",
      "3. Yes\n",
      "4. No\n",
      "I'm afraid there's none.\n",
      "1. Yes\n",
      "2. Yes\n",
      "3. Yes\n",
      "4. Yes\n",
      "She would have sometimes a few a day other time none for weeks.\n",
      "1. Yes\n",
      "2. Yes\n",
      "3. Yes\n",
      "4. Yes\n",
      "Every now and then when I drink soda, I make sure to grab a diet Dr. Pepper, so I can get all the flavor with none of the calories.\n",
      "1. Yes\n",
      "2. Yes\n",
      "3. Yes\n",
      "4. Yes\n",
      "It's none of your business.\n",
      "1. Yes\n",
      "2. No\n",
      "3. Yes\n",
      "4. Yes\n",
      "So if he's none of those I won't have heard of him!\n",
      "1. Yes\n",
      "2. Yes\n",
      "3. Yes\n",
      "4. Yes\n",
      "Luckily I know none in real life.\n",
      "1. Yes\n",
      "2. Yes\n",
      "3. Yes\n",
      "4. Yes\n",
      "I can't believe that none of the news stories make you happy or excited.\n",
      "1. Yes\n",
      "2. Yes\n",
      "3. Yes\n",
      "4. Yes\n",
      "Oh dear, I gained these 10 pounds in the last 3 months, none of my clothes fit any more.\n",
      "1. Yes\n",
      "2. Yes\n",
      "3. Yes\n",
      "4. Yes\n",
      "You know what they say: a friend to all is a friend to none.\n",
      "1. Yes\n",
      "2. No\n",
      "3. Yes\n",
      "4. Yes\n",
      "Third, the diversity in your production line is second to none.\n",
      "1. Yes\n",
      "2. No\n",
      "3. No\n",
      "4. Yes\n",
      "Oh, of course I did, but none of them was very authentic.\n",
      "1. Yes\n",
      "2. Yes\n",
      "3. Yes\n",
      "4. Yes\n",
      "Nothing like the louvre with its largest art exhibition but still interesting none the less.\n",
      "1. Yes\n",
      "2. No\n",
      "3. Yes\n",
      "4. No\n",
      "There are none in Tennessee.\n",
      "1. Yes\n",
      "2. Yes\n",
      "3. Yes\n",
      "4. Yes\n",
      "Especially because it is none contact, and less risk to get hurt.\n",
      "1. Yes\n",
      "2. No\n",
      "3. Yes\n",
      "4. No\n",
      "Deeper, softer, none of your twittering larks.\n",
      "1. Yes\n",
      "2. Yes\n",
      "3. Yes\n",
      "4. Yes\n",
      "On my way to see the bank that in Los Angeles in 1983... yep, none other than the Red Hot Chili Peppers!\n",
      "1. Yes\n",
      "2. No\n",
      "3. No\n",
      "4. Yes\n",
      "But it's none of our business.\n",
      "1. Yes\n",
      "2. Yes\n",
      "3. Yes\n",
      "4. Yes\n",
      "Some have 4 legs, some have none and have snake-like bodies.\n",
      "1. Yes\n",
      "2. Yes\n",
      "3. Yes\n",
      "4. Yes\n",
      "We live in England so was really suprised to find that the camel park had lamas and alpacas too - obviously none of them are native to our country.\n",
      "1. Yes\n",
      "2. Yes\n",
      "3. Yes\n",
      "4. Yes\n",
      "none that I know but you're right in that they have to be able to be a constructioin worker specializing in roofs and can be dangerous and hot!\n",
      "1. Yes\n",
      "2. Yes\n",
      "3. Yes\n",
      "4. Yes\n",
      "No, none of it seems to be available yet.\n",
      "1. Yes\n",
      "2. Yes\n",
      "3. Yes\n",
      "4. Yes\n",
      "I've tried it, but he would have none of it.\n",
      "1. Yes\n",
      "2. Yes\n",
      "3. Yes\n",
      "4. Yes\n",
      "With an estimated 50 left to log, NASA says none of the 887 it knows about are a significant danger to the planet.\n",
      "1. Yes\n",
      "2. Yes\n",
      "3. Yes\n",
      "4. Yes\n",
      "The Avett Brothers have many popular songs but none listed\n",
      "1. Yes\n",
      "2. Yes\n",
      "3. Yes\n",
      "4. No\n",
      "I'd like to go fishing more but none of my friends are interested.\n",
      "1. Yes\n",
      "2. Yes\n",
      "3. Yes\n",
      "4. Yes\n",
      "I like plenty of trails but honestly none have left the impression that the Appalachian Trail left on me.\n",
      "1. Yes\n",
      "2. Yes\n",
      "3. Yes\n",
      "4. Yes\n",
      "I got an A, but none of my test scores were that high.\n",
      "1. Yes\n",
      "2. Yes\n",
      "3. Yes\n",
      "4. Yes\n",
      "In my area there totally is, I can get my eyebrows waxed or threaded at some of them, but none of them can braid hair or even straighten my hair!\n",
      "1. Yes\n",
      "2. Yes\n",
      "3. Yes\n",
      "4. Yes\n",
      "26\n",
      "0.41935483870967744\n"
     ]
    },
    {
     "name": "stderr",
     "output_type": "stream",
     "text": [
      "  0%|                                                                                                              | 0/100 [00:00<?, ?it/s]\n",
      "100%|████████████████████████████████████████████████████████████████████████████████████████████████████████| 1/1 [00:00<00:00, 31.38it/s]\u001b[A\n",
      "  1%|█                                                                                                     | 1/100 [00:00<00:12,  7.70it/s]"
     ]
    },
    {
     "name": "stdout",
     "output_type": "stream",
     "text": [
      "Training loss: 0.703508734703064\n",
      "Val loss: 0.7779837846755981\n"
     ]
    },
    {
     "name": "stderr",
     "output_type": "stream",
     "text": [
      "\n",
      "100%|████████████████████████████████████████████████████████████████████████████████████████████████████████| 1/1 [00:00<00:00, 45.37it/s]\u001b[A"
     ]
    },
    {
     "name": "stdout",
     "output_type": "stream",
     "text": [
      "Training loss: 0.6844179630279541\n"
     ]
    },
    {
     "name": "stderr",
     "output_type": "stream",
     "text": [
      "\n",
      "  2%|██                                                                                                    | 2/100 [00:00<00:12,  8.16it/s]"
     ]
    },
    {
     "name": "stdout",
     "output_type": "stream",
     "text": [
      "Val loss: 0.7704775631427765\n"
     ]
    },
    {
     "name": "stderr",
     "output_type": "stream",
     "text": [
      "\n",
      "100%|████████████████████████████████████████████████████████████████████████████████████████████████████████| 1/1 [00:00<00:00, 48.61it/s]\u001b[A\n",
      "  3%|███                                                                                                   | 3/100 [00:00<00:11,  8.70it/s]"
     ]
    },
    {
     "name": "stdout",
     "output_type": "stream",
     "text": [
      "Training loss: 0.6552560925483704\n",
      "Val loss: 0.7613931000232697\n"
     ]
    },
    {
     "name": "stderr",
     "output_type": "stream",
     "text": [
      "\n",
      "100%|████████████████████████████████████████████████████████████████████████████████████████████████████████| 1/1 [00:00<00:00, 52.30it/s]\u001b[A\n"
     ]
    },
    {
     "name": "stdout",
     "output_type": "stream",
     "text": [
      "Training loss: 0.6461872458457947\n"
     ]
    },
    {
     "name": "stderr",
     "output_type": "stream",
     "text": [
      "  4%|████                                                                                                  | 4/100 [00:00<00:10,  9.03it/s]"
     ]
    },
    {
     "name": "stdout",
     "output_type": "stream",
     "text": [
      "Val loss: 0.7541514039039612\n"
     ]
    },
    {
     "name": "stderr",
     "output_type": "stream",
     "text": [
      "\n",
      "100%|████████████████████████████████████████████████████████████████████████████████████████████████████████| 1/1 [00:00<00:00, 51.25it/s]\u001b[A\n"
     ]
    },
    {
     "name": "stdout",
     "output_type": "stream",
     "text": [
      "Training loss: 0.6166234016418457\n"
     ]
    },
    {
     "name": "stderr",
     "output_type": "stream",
     "text": [
      "  5%|█████                                                                                                 | 5/100 [00:00<00:10,  9.17it/s]"
     ]
    },
    {
     "name": "stdout",
     "output_type": "stream",
     "text": [
      "Val loss: 0.747369796037674\n"
     ]
    },
    {
     "name": "stderr",
     "output_type": "stream",
     "text": [
      "\n",
      "100%|████████████████████████████████████████████████████████████████████████████████████████████████████████| 1/1 [00:00<00:00, 51.11it/s]\u001b[A\n"
     ]
    },
    {
     "name": "stdout",
     "output_type": "stream",
     "text": [
      "Training loss: 0.6086572408676147\n"
     ]
    },
    {
     "name": "stderr",
     "output_type": "stream",
     "text": [
      "                                                                                                                                           \r"
     ]
    },
    {
     "name": "stdout",
     "output_type": "stream",
     "text": [
      "Val loss: 0.7455028891563416\n",
      "{'accuracy': 0.48, 'f1': 0.606, 'precision': 0.435}\n"
     ]
    },
    {
     "name": "stderr",
     "output_type": "stream",
     "text": [
      "  0%|                                                                                                              | 0/192 [00:00<?, ?it/s]\n"
     ]
    },
    {
     "data": {
      "application/vnd.jupyter.widget-view+json": {
       "model_id": "4a476900be32416e84a872d5c3dce054",
       "version_major": 2,
       "version_minor": 0
      },
      "text/plain": [
       "  0%|          | 0/241 [00:00<?, ?it/s]"
      ]
     },
     "metadata": {},
     "output_type": "display_data"
    },
    {
     "name": "stdout",
     "output_type": "stream",
     "text": [
      "I'm afraid I've got a terrible cold and a bad headache.\n",
      "1. No\n",
      "2. No\n",
      "3. No\n",
      "4. No\n",
      "Manicole Tan.\n",
      "1. No\n",
      "2. No\n",
      "3. No\n",
      "4. No\n",
      "I wish I could get a night shift on my job!\n",
      "1. No\n",
      "2. No\n",
      "3. No\n",
      "4. No\n",
      "I could really use one as well, and it's interesting to think that indian cuisine is still evolving even today.\n",
      "1. No\n",
      "2. No\n",
      "3. No\n",
      "4. No\n",
      "Golden retrievers are good hunting dogs.\n",
      "1. No\n",
      "2. No\n",
      "3. No\n",
      "4. No\n",
      "I'm sure the number is much greater now!\n",
      "1. No\n",
      "2. No\n",
      "3. No\n",
      "4. No\n",
      "Do you know when the band was founded?\n",
      "1. No\n",
      "2. No\n",
      "3. No\n",
      "4. No\n",
      "So I got it wrong.” \n",
      "The line emerging from the Vatican within hours of the announcement was that the Pope’s decision was a brave one.\n",
      "1. No\n",
      "2. No\n",
      "3. No\n",
      "4. No\n",
      "dont you have to have a lot of balance or coordination?\n",
      "1. No\n",
      "2. No\n",
      "3. Yes\n",
      "4. No\n",
      "I think I have separation anxiety disorder (SAD) because I need to leave my family and find a new place to live but I get so sad and worried about it.\n",
      "1. No\n",
      "2. No\n",
      "3. No\n",
      "4. No\n",
      "Santana said when he first came on the scene while walking to his job he saw Slager on top of Scott, who was on the ground.\n",
      "1. No\n",
      "2. No\n",
      "3. No\n",
      "4. No\n",
      "I wish I was better at drawing, it's such a fundamental means of public and self-expression, I wish I could express myself better in my drawings.\n",
      "1. No\n",
      "2. No\n",
      "3. No\n",
      "4. No\n",
      "Pizza was first recorded in the 10th century, in a latin manuscript from the southern italy town of feata in Lazio\n",
      "1. No\n",
      "2. No\n",
      "3. No\n",
      "4. No\n",
      "Jennie, I didn't wash them.\n",
      "1. No\n",
      "2. No\n",
      "3. Yes\n",
      "4. No\n",
      "I have talked a lot about your restaurant business and your friends with my friends.\n",
      "1. No\n",
      "2. No\n",
      "3. No\n",
      "4. No\n",
      "It's a huge industry!\n",
      "1. No\n",
      "2. No\n",
      "3. No\n",
      "4. No\n",
      "Yes, so I had to wait three hours for the next one.\n",
      "1. No\n",
      "2. No\n",
      "3. No\n",
      "4. No\n",
      "I have always wanted to work in the automotive industry myself, know anything about it?\n",
      "1. No\n",
      "2. No\n",
      "3. No\n",
      "4. No\n",
      "Crump, Martin's parentsattorney, said information regarding the suspension was irrelevant and amounts to a smear campaign against the youth.\n",
      "1. No\n",
      "2. No\n",
      "3. No\n",
      "4. No\n",
      "It's great that you're using your negative experiences in a positive manner.\n",
      "1. No\n",
      "2. No\n",
      "3. No\n",
      "4. No\n",
      "They are quite popular for sure, there's so many ways to cook them too, what's your favorite method?\n",
      "1. No\n",
      "2. No\n",
      "3. No\n",
      "4. No\n",
      "How about tattoos?\n",
      "1. No\n",
      "2. No\n",
      "3. No\n",
      "4. No\n",
      "They might be putting makeup on for Marvel characters in their movies like the Avengers or Agents of S.H.I.E.L.D.\n",
      "1. No\n",
      "2. No\n",
      "3. No\n",
      "4. No\n",
      "I need to start lending more of a hand around here.\n",
      "1. No\n",
      "2. No\n",
      "3. No\n",
      "4. No\n",
      "there won't be any results.\n",
      "1. No\n",
      "2. No\n",
      "3. Yes\n",
      "4. No\n",
      "Yes it was controversial.\n",
      "1. No\n",
      "2. No\n",
      "3. No\n",
      "4. No\n",
      "0.0\n",
      "26\n",
      "0.29545454545454547\n"
     ]
    },
    {
     "name": "stderr",
     "output_type": "stream",
     "text": [
      "  0%|                                                                                                              | 0/100 [00:00<?, ?it/s]\n",
      "100%|████████████████████████████████████████████████████████████████████████████████████████████████████████| 1/1 [00:00<00:00, 22.94it/s]\u001b[A\n",
      "  1%|█                                                                                                     | 1/100 [00:00<00:17,  5.73it/s]"
     ]
    },
    {
     "name": "stdout",
     "output_type": "stream",
     "text": [
      "Training loss: 0.7497421503067017\n",
      "Val loss: 0.7298451662063599\n"
     ]
    },
    {
     "name": "stderr",
     "output_type": "stream",
     "text": [
      "\n",
      "100%|████████████████████████████████████████████████████████████████████████████████████████████████████████| 1/1 [00:00<00:00, 30.44it/s]\u001b[A\n"
     ]
    },
    {
     "name": "stdout",
     "output_type": "stream",
     "text": [
      "Training loss: 0.7342217564582825\n"
     ]
    },
    {
     "name": "stderr",
     "output_type": "stream",
     "text": [
      "  2%|██                                                                                                    | 2/100 [00:00<00:16,  5.98it/s]"
     ]
    },
    {
     "name": "stdout",
     "output_type": "stream",
     "text": [
      "Val loss: 0.7231299082438151\n"
     ]
    },
    {
     "name": "stderr",
     "output_type": "stream",
     "text": [
      "\n",
      "100%|████████████████████████████████████████████████████████████████████████████████████████████████████████| 1/1 [00:00<00:00, 34.79it/s]\u001b[A\n"
     ]
    },
    {
     "name": "stdout",
     "output_type": "stream",
     "text": [
      "Training loss: 0.7263748645782471\n"
     ]
    },
    {
     "name": "stderr",
     "output_type": "stream",
     "text": [
      "  3%|███                                                                                                   | 3/100 [00:00<00:15,  6.38it/s]"
     ]
    },
    {
     "name": "stdout",
     "output_type": "stream",
     "text": [
      "Val loss: 0.696885367234548\n"
     ]
    },
    {
     "name": "stderr",
     "output_type": "stream",
     "text": [
      "\n",
      "100%|████████████████████████████████████████████████████████████████████████████████████████████████████████| 1/1 [00:00<00:00, 34.96it/s]\u001b[A"
     ]
    },
    {
     "name": "stdout",
     "output_type": "stream",
     "text": [
      "Training loss: 0.6875997185707092\n"
     ]
    },
    {
     "name": "stderr",
     "output_type": "stream",
     "text": [
      "\n",
      "  4%|████                                                                                                  | 4/100 [00:00<00:14,  6.64it/s]"
     ]
    },
    {
     "name": "stdout",
     "output_type": "stream",
     "text": [
      "Val loss: 0.68205593029658\n"
     ]
    },
    {
     "name": "stderr",
     "output_type": "stream",
     "text": [
      "\n",
      "100%|████████████████████████████████████████████████████████████████████████████████████████████████████████| 1/1 [00:00<00:00, 35.27it/s]\u001b[A"
     ]
    },
    {
     "name": "stdout",
     "output_type": "stream",
     "text": [
      "Training loss: 0.6711094379425049\n"
     ]
    },
    {
     "name": "stderr",
     "output_type": "stream",
     "text": [
      "\n",
      "                                                                                                                                           \r"
     ]
    },
    {
     "name": "stdout",
     "output_type": "stream",
     "text": [
      "Val loss: 0.6772464712460836\n",
      "{'accuracy': 0.69, 'f1': 0.083, 'precision': 0.333}\n"
     ]
    },
    {
     "name": "stderr",
     "output_type": "stream",
     "text": [
      "  1%|▌                                                                                                     | 1/192 [00:00<01:37,  1.95it/s]\n"
     ]
    },
    {
     "data": {
      "application/vnd.jupyter.widget-view+json": {
       "model_id": "c0625b28de5145b1aa31718269ee1106",
       "version_major": 2,
       "version_minor": 0
      },
      "text/plain": [
       "  0%|          | 0/28 [00:00<?, ?it/s]"
      ]
     },
     "metadata": {},
     "output_type": "display_data"
    },
    {
     "name": "stdout",
     "output_type": "stream",
     "text": [
      "Yeah I heard that in the Vatican City especially the laws can be really intense.\n",
      "1. No\n",
      "2. No\n",
      "3. No\n",
      "4. No\n",
      "Its very hard to learn about all of the different cases and verdicts.\n",
      "1. No\n",
      "2. No\n",
      "3. No\n",
      "4. No\n",
      "it is very rich full of milk cream sugar and eggs!\n",
      "1. No\n",
      "2. No\n",
      "3. No\n",
      "4. No\n",
      "He was very kind to give valuable suggestions.\n",
      "1. No\n",
      "2. No\n",
      "3. No\n",
      "4. No\n",
      "It is very relaxing for me, just to escape for a bit into another world.\n",
      "1. No\n",
      "2. No\n",
      "3. No\n",
      "4. No\n",
      "There was very little traffic, so we got there in less than an hour.\n",
      "1. No\n",
      "2. No\n",
      "3. Yes\n",
      "4. No\n",
      "it is very relaxing, in the preparation and afterwards when you can enjoy your garden\n",
      "1. No\n",
      "2. No\n",
      "3. No\n",
      "4. No\n",
      "She was born in December 1981, I don't think shes been in too many movies\n",
      "1. No\n",
      "2. No\n",
      "3. Yes\n",
      "4. No\n",
      "That's interesting, horror is very captivating to me but sometimes it can frighten me too much.\n",
      "1. No\n",
      "2. No\n",
      "3. No\n",
      "4. No\n",
      "Just don'T submit a report to your insurancecompany.\n",
      "1. No\n",
      "2. No\n",
      "3. Yes\n",
      "4. No\n",
      "I'd like to see the menu, please.\n",
      "1. No\n",
      "2. No\n",
      "3. No\n",
      "4. No\n",
      "Nobody knows at the moment, but it has been very hot there recently.\n",
      "1. No\n",
      "2. No\n",
      "3. Yes\n",
      "4. No\n",
      "Very important genre for music.\n",
      "1. No\n",
      "2. No\n",
      "3. No\n",
      "4. No\n",
      "I'd love to find out about it.\n",
      "1. No\n",
      "2. No\n",
      "3. No\n",
      "4. No\n",
      "Just the opposite of US where healthier always costs more.\n",
      "1. No\n",
      "2. No\n",
      "3. No\n",
      "4. No\n",
      "yea its very creative what can be made into art.\n",
      "1. No\n",
      "2. No\n",
      "3. No\n",
      "4. No\n",
      "Excuse me, I'd like to send this parcel.\n",
      "1. No\n",
      "2. No\n",
      "3. No\n",
      "4. No\n",
      "I believe my primary care physician would be better suited to diagnose any health concerns I may have, but your're right, crystals are very decorative.\n",
      "1. No\n",
      "2. No\n",
      "3. No\n",
      "4. No\n",
      "It's been such a great ride... the NFL has been my life for more than 40 years, it has been my passion -- it still is, he said in a statement released by NBC Sports.\n",
      "1. No\n",
      "2. No\n",
      "3. No\n",
      "4. No\n",
      "It's a kind of investment.\n",
      "1. No\n",
      "2. No\n",
      "3. No\n",
      "4. No\n",
      "He is a very creative person..\n",
      "1. No\n",
      "2. No\n",
      "3. No\n",
      "4. No\n",
      "It's too early.\n",
      "1. No\n",
      "2. No\n",
      "3. No\n",
      "4. No\n",
      "It is a very mountainous place\n",
      "1. No\n",
      "2. No\n",
      "3. No\n",
      "4. No\n",
      "They are very territorial and usually solitary animals.\n",
      "1. No\n",
      "2. No\n",
      "3. No\n",
      "4. No\n",
      "very nice i'm no good at either\n",
      "1. No\n",
      "2. No\n",
      "3. Yes\n",
      "4. No\n",
      "Your legal department is very good at these things.\n",
      "1. No\n",
      "2. No\n",
      "3. No\n",
      "4. No\n",
      "0.0\n",
      "26\n",
      "0.22807017543859648\n"
     ]
    },
    {
     "name": "stderr",
     "output_type": "stream",
     "text": [
      "  0%|                                                                                                              | 0/100 [00:00<?, ?it/s]\n",
      "100%|████████████████████████████████████████████████████████████████████████████████████████████████████████| 1/1 [00:00<00:00, 25.92it/s]\u001b[A"
     ]
    },
    {
     "name": "stdout",
     "output_type": "stream",
     "text": [
      "Training loss: 0.7780747413635254\n"
     ]
    },
    {
     "name": "stderr",
     "output_type": "stream",
     "text": [
      "\n",
      "  1%|█                                                                                                     | 1/100 [00:00<00:19,  5.08it/s]"
     ]
    },
    {
     "name": "stdout",
     "output_type": "stream",
     "text": [
      "Val loss: 0.7315638860066732\n"
     ]
    },
    {
     "name": "stderr",
     "output_type": "stream",
     "text": [
      "\n",
      "100%|████████████████████████████████████████████████████████████████████████████████████████████████████████| 1/1 [00:00<00:00, 26.48it/s]\u001b[A\n"
     ]
    },
    {
     "name": "stdout",
     "output_type": "stream",
     "text": [
      "Training loss: 0.7463130950927734\n"
     ]
    },
    {
     "name": "stderr",
     "output_type": "stream",
     "text": [
      "  2%|██                                                                                                    | 2/100 [00:00<00:18,  5.29it/s]"
     ]
    },
    {
     "name": "stdout",
     "output_type": "stream",
     "text": [
      "Val loss: 0.7103836337725321\n"
     ]
    },
    {
     "name": "stderr",
     "output_type": "stream",
     "text": [
      "\n",
      "100%|████████████████████████████████████████████████████████████████████████████████████████████████████████| 1/1 [00:00<00:00, 29.55it/s]\u001b[A\n"
     ]
    },
    {
     "name": "stdout",
     "output_type": "stream",
     "text": [
      "Training loss: 0.7182323336601257\n"
     ]
    },
    {
     "name": "stderr",
     "output_type": "stream",
     "text": [
      "  3%|███                                                                                                   | 3/100 [00:00<00:17,  5.42it/s]"
     ]
    },
    {
     "name": "stdout",
     "output_type": "stream",
     "text": [
      "Val loss: 0.6948162317276001\n"
     ]
    },
    {
     "name": "stderr",
     "output_type": "stream",
     "text": [
      "\n",
      "100%|████████████████████████████████████████████████████████████████████████████████████████████████████████| 1/1 [00:00<00:00, 29.54it/s]\u001b[A\n"
     ]
    },
    {
     "name": "stdout",
     "output_type": "stream",
     "text": [
      "Training loss: 0.6847913265228271\n"
     ]
    },
    {
     "name": "stderr",
     "output_type": "stream",
     "text": [
      "  4%|████                                                                                                  | 4/100 [00:00<00:17,  5.49it/s]"
     ]
    },
    {
     "name": "stdout",
     "output_type": "stream",
     "text": [
      "Val loss: 0.6824540495872498\n"
     ]
    },
    {
     "name": "stderr",
     "output_type": "stream",
     "text": [
      "\n",
      "100%|████████████████████████████████████████████████████████████████████████████████████████████████████████| 1/1 [00:00<00:00, 29.98it/s]\u001b[A\n"
     ]
    },
    {
     "name": "stdout",
     "output_type": "stream",
     "text": [
      "Training loss: 0.6678702235221863\n"
     ]
    },
    {
     "name": "stderr",
     "output_type": "stream",
     "text": [
      "  5%|█████                                                                                                 | 5/100 [00:00<00:17,  5.55it/s]"
     ]
    },
    {
     "name": "stdout",
     "output_type": "stream",
     "text": [
      "Val loss: 0.6716892520586649\n"
     ]
    },
    {
     "name": "stderr",
     "output_type": "stream",
     "text": [
      "\n",
      "100%|████████████████████████████████████████████████████████████████████████████████████████████████████████| 1/1 [00:00<00:00, 30.18it/s]\u001b[A\n"
     ]
    },
    {
     "name": "stdout",
     "output_type": "stream",
     "text": [
      "Training loss: 0.642738938331604\n"
     ]
    },
    {
     "name": "stderr",
     "output_type": "stream",
     "text": [
      "  6%|██████                                                                                                | 6/100 [00:01<00:16,  5.59it/s]"
     ]
    },
    {
     "name": "stdout",
     "output_type": "stream",
     "text": [
      "Val loss: 0.661405106385549\n"
     ]
    },
    {
     "name": "stderr",
     "output_type": "stream",
     "text": [
      "\n",
      "100%|████████████████████████████████████████████████████████████████████████████████████████████████████████| 1/1 [00:00<00:00, 29.74it/s]\u001b[A\n"
     ]
    },
    {
     "name": "stdout",
     "output_type": "stream",
     "text": [
      "Training loss: 0.6277579069137573\n"
     ]
    },
    {
     "name": "stderr",
     "output_type": "stream",
     "text": [
      "  7%|███████▏                                                                                              | 7/100 [00:01<00:16,  5.60it/s]"
     ]
    },
    {
     "name": "stdout",
     "output_type": "stream",
     "text": [
      "Val loss: 0.6512157122294108\n"
     ]
    },
    {
     "name": "stderr",
     "output_type": "stream",
     "text": [
      "\n",
      "100%|████████████████████████████████████████████████████████████████████████████████████████████████████████| 1/1 [00:00<00:00, 30.00it/s]\u001b[A\n"
     ]
    },
    {
     "name": "stdout",
     "output_type": "stream",
     "text": [
      "Training loss: 0.611467719078064\n"
     ]
    },
    {
     "name": "stderr",
     "output_type": "stream",
     "text": [
      "  8%|████████▏                                                                                             | 8/100 [00:01<00:16,  5.62it/s]"
     ]
    },
    {
     "name": "stdout",
     "output_type": "stream",
     "text": [
      "Val loss: 0.6419670979181925\n"
     ]
    },
    {
     "name": "stderr",
     "output_type": "stream",
     "text": [
      "\n",
      "100%|████████████████████████████████████████████████████████████████████████████████████████████████████████| 1/1 [00:00<00:00, 29.47it/s]\u001b[A\n"
     ]
    },
    {
     "name": "stdout",
     "output_type": "stream",
     "text": [
      "Training loss: 0.6002774834632874\n"
     ]
    },
    {
     "name": "stderr",
     "output_type": "stream",
     "text": [
      "  9%|█████████▏                                                                                            | 9/100 [00:01<00:16,  5.62it/s]"
     ]
    },
    {
     "name": "stdout",
     "output_type": "stream",
     "text": [
      "Val loss: 0.6335507233937582\n"
     ]
    },
    {
     "name": "stderr",
     "output_type": "stream",
     "text": [
      "\n",
      "100%|████████████████████████████████████████████████████████████████████████████████████████████████████████| 1/1 [00:00<00:00, 29.48it/s]\u001b[A\n"
     ]
    },
    {
     "name": "stdout",
     "output_type": "stream",
     "text": [
      "Training loss: 0.5857539176940918\n"
     ]
    },
    {
     "name": "stderr",
     "output_type": "stream",
     "text": [
      " 10%|██████████                                                                                           | 10/100 [00:01<00:16,  5.62it/s]"
     ]
    },
    {
     "name": "stdout",
     "output_type": "stream",
     "text": [
      "Val loss: 0.6257901191711426\n"
     ]
    },
    {
     "name": "stderr",
     "output_type": "stream",
     "text": [
      "\n",
      "100%|████████████████████████████████████████████████████████████████████████████████████████████████████████| 1/1 [00:00<00:00, 29.52it/s]\u001b[A\n"
     ]
    },
    {
     "name": "stdout",
     "output_type": "stream",
     "text": [
      "Training loss: 0.5552932024002075\n"
     ]
    },
    {
     "name": "stderr",
     "output_type": "stream",
     "text": [
      " 11%|███████████                                                                                          | 11/100 [00:01<00:15,  5.61it/s]"
     ]
    },
    {
     "name": "stdout",
     "output_type": "stream",
     "text": [
      "Val loss: 0.6186496019363403\n"
     ]
    },
    {
     "name": "stderr",
     "output_type": "stream",
     "text": [
      "\n",
      "100%|████████████████████████████████████████████████████████████████████████████████████████████████████████| 1/1 [00:00<00:00, 29.58it/s]\u001b[A\n"
     ]
    },
    {
     "name": "stdout",
     "output_type": "stream",
     "text": [
      "Training loss: 0.5387687087059021\n"
     ]
    },
    {
     "name": "stderr",
     "output_type": "stream",
     "text": [
      " 12%|████████████                                                                                         | 12/100 [00:02<00:15,  5.60it/s]"
     ]
    },
    {
     "name": "stdout",
     "output_type": "stream",
     "text": [
      "Val loss: 0.6126343806584676\n"
     ]
    },
    {
     "name": "stderr",
     "output_type": "stream",
     "text": [
      "\n",
      "100%|████████████████████████████████████████████████████████████████████████████████████████████████████████| 1/1 [00:00<00:00, 30.32it/s]\u001b[A\n"
     ]
    },
    {
     "name": "stdout",
     "output_type": "stream",
     "text": [
      "Training loss: 0.5236685872077942\n"
     ]
    },
    {
     "name": "stderr",
     "output_type": "stream",
     "text": [
      "                                                                                                                                           \r"
     ]
    },
    {
     "name": "stdout",
     "output_type": "stream",
     "text": [
      "Val loss: 0.6079671184221903\n",
      "{'accuracy': 0.739, 'f1': 0.0, 'precision': 0.0}\n",
      "26\n",
      "0.22807017543859648\n"
     ]
    },
    {
     "name": "stderr",
     "output_type": "stream",
     "text": [
      "  0%|                                                                                                              | 0/100 [00:00<?, ?it/s]\n",
      "100%|████████████████████████████████████████████████████████████████████████████████████████████████████████| 1/1 [00:00<00:00, 30.11it/s]\u001b[A\n"
     ]
    },
    {
     "name": "stdout",
     "output_type": "stream",
     "text": [
      "Training loss: 0.7335704565048218\n"
     ]
    },
    {
     "name": "stderr",
     "output_type": "stream",
     "text": [
      "  1%|█                                                                                                     | 1/100 [00:00<00:17,  5.71it/s]"
     ]
    },
    {
     "name": "stdout",
     "output_type": "stream",
     "text": [
      "Val loss: 0.6816670894622803\n"
     ]
    },
    {
     "name": "stderr",
     "output_type": "stream",
     "text": [
      "\n",
      "100%|████████████████████████████████████████████████████████████████████████████████████████████████████████| 1/1 [00:00<00:00, 30.13it/s]\u001b[A\n"
     ]
    },
    {
     "name": "stdout",
     "output_type": "stream",
     "text": [
      "Training loss: 0.6707376837730408\n"
     ]
    },
    {
     "name": "stderr",
     "output_type": "stream",
     "text": [
      "  2%|██                                                                                                    | 2/100 [00:00<00:17,  5.67it/s]"
     ]
    },
    {
     "name": "stdout",
     "output_type": "stream",
     "text": [
      "Val loss: 0.6610473195711771\n"
     ]
    },
    {
     "name": "stderr",
     "output_type": "stream",
     "text": [
      "\n",
      "100%|████████████████████████████████████████████████████████████████████████████████████████████████████████| 1/1 [00:00<00:00, 29.65it/s]\u001b[A\n"
     ]
    },
    {
     "name": "stdout",
     "output_type": "stream",
     "text": [
      "Training loss: 0.6419641971588135\n"
     ]
    },
    {
     "name": "stderr",
     "output_type": "stream",
     "text": [
      "  3%|███                                                                                                   | 3/100 [00:00<00:17,  5.65it/s]"
     ]
    },
    {
     "name": "stdout",
     "output_type": "stream",
     "text": [
      "Val loss: 0.6445270975430807\n"
     ]
    },
    {
     "name": "stderr",
     "output_type": "stream",
     "text": [
      "\n",
      "100%|████████████████████████████████████████████████████████████████████████████████████████████████████████| 1/1 [00:00<00:00, 29.38it/s]\u001b[A\n"
     ]
    },
    {
     "name": "stdout",
     "output_type": "stream",
     "text": [
      "Training loss: 0.6028772592544556\n"
     ]
    },
    {
     "name": "stderr",
     "output_type": "stream",
     "text": [
      "  4%|████                                                                                                  | 4/100 [00:00<00:17,  5.63it/s]"
     ]
    },
    {
     "name": "stdout",
     "output_type": "stream",
     "text": [
      "Val loss: 0.630070964495341\n"
     ]
    },
    {
     "name": "stderr",
     "output_type": "stream",
     "text": [
      "\n",
      "100%|████████████████████████████████████████████████████████████████████████████████████████████████████████| 1/1 [00:00<00:00, 29.47it/s]\u001b[A\n"
     ]
    },
    {
     "name": "stdout",
     "output_type": "stream",
     "text": [
      "Training loss: 0.5857717394828796\n"
     ]
    },
    {
     "name": "stderr",
     "output_type": "stream",
     "text": [
      "  5%|█████                                                                                                 | 5/100 [00:00<00:16,  5.62it/s]"
     ]
    },
    {
     "name": "stdout",
     "output_type": "stream",
     "text": [
      "Val loss: 0.6171883940696716\n"
     ]
    },
    {
     "name": "stderr",
     "output_type": "stream",
     "text": [
      "\n",
      "100%|████████████████████████████████████████████████████████████████████████████████████████████████████████| 1/1 [00:00<00:00, 30.22it/s]\u001b[A\n"
     ]
    },
    {
     "name": "stdout",
     "output_type": "stream",
     "text": [
      "Training loss: 0.5616861581802368\n"
     ]
    },
    {
     "name": "stderr",
     "output_type": "stream",
     "text": [
      "  6%|██████                                                                                                | 6/100 [00:01<00:16,  5.64it/s]"
     ]
    },
    {
     "name": "stdout",
     "output_type": "stream",
     "text": [
      "Val loss: 0.605923593044281\n"
     ]
    },
    {
     "name": "stderr",
     "output_type": "stream",
     "text": [
      "\n",
      "100%|████████████████████████████████████████████████████████████████████████████████████████████████████████| 1/1 [00:00<00:00, 30.05it/s]\u001b[A\n"
     ]
    },
    {
     "name": "stdout",
     "output_type": "stream",
     "text": [
      "Training loss: 0.5326434373855591\n"
     ]
    },
    {
     "name": "stderr",
     "output_type": "stream",
     "text": [
      "  7%|███████▏                                                                                              | 7/100 [00:01<00:16,  5.66it/s]"
     ]
    },
    {
     "name": "stdout",
     "output_type": "stream",
     "text": [
      "Val loss: 0.5972623626391093\n"
     ]
    },
    {
     "name": "stderr",
     "output_type": "stream",
     "text": [
      "\n",
      "100%|████████████████████████████████████████████████████████████████████████████████████████████████████████| 1/1 [00:00<00:00, 29.36it/s]\u001b[A\n"
     ]
    },
    {
     "name": "stdout",
     "output_type": "stream",
     "text": [
      "Training loss: 0.4893837571144104\n"
     ]
    },
    {
     "name": "stderr",
     "output_type": "stream",
     "text": [
      "  8%|████████▏                                                                                             | 8/100 [00:01<00:16,  5.65it/s]"
     ]
    },
    {
     "name": "stdout",
     "output_type": "stream",
     "text": [
      "Val loss: 0.5906960566838583\n"
     ]
    },
    {
     "name": "stderr",
     "output_type": "stream",
     "text": [
      "\n",
      "100%|████████████████████████████████████████████████████████████████████████████████████████████████████████| 1/1 [00:00<00:00, 29.22it/s]\u001b[A\n"
     ]
    },
    {
     "name": "stdout",
     "output_type": "stream",
     "text": [
      "Training loss: 0.45824190974235535\n"
     ]
    },
    {
     "name": "stderr",
     "output_type": "stream",
     "text": [
      "  9%|█████████▏                                                                                            | 9/100 [00:01<00:16,  5.61it/s]"
     ]
    },
    {
     "name": "stdout",
     "output_type": "stream",
     "text": [
      "Val loss: 0.5854766170183817\n"
     ]
    },
    {
     "name": "stderr",
     "output_type": "stream",
     "text": [
      "\n",
      "100%|████████████████████████████████████████████████████████████████████████████████████████████████████████| 1/1 [00:00<00:00, 29.92it/s]\u001b[A\n"
     ]
    },
    {
     "name": "stdout",
     "output_type": "stream",
     "text": [
      "Training loss: 0.4332186281681061\n"
     ]
    },
    {
     "name": "stderr",
     "output_type": "stream",
     "text": [
      "                                                                                                                                           \r"
     ]
    },
    {
     "name": "stdout",
     "output_type": "stream",
     "text": [
      "Val loss: 0.5811598102251688\n",
      "{'accuracy': 0.739, 'f1': 0.0, 'precision': 0.0}\n",
      "26\n",
      "0.22807017543859648\n"
     ]
    },
    {
     "name": "stderr",
     "output_type": "stream",
     "text": [
      "  0%|                                                                                                              | 0/100 [00:00<?, ?it/s]\n",
      "100%|████████████████████████████████████████████████████████████████████████████████████████████████████████| 1/1 [00:00<00:00, 27.98it/s]\u001b[A\n"
     ]
    },
    {
     "name": "stdout",
     "output_type": "stream",
     "text": [
      "Training loss: 0.8055197596549988\n"
     ]
    },
    {
     "name": "stderr",
     "output_type": "stream",
     "text": [
      "  1%|█                                                                                                     | 1/100 [00:00<00:17,  5.54it/s]"
     ]
    },
    {
     "name": "stdout",
     "output_type": "stream",
     "text": [
      "Val loss: 0.7528446714083353\n"
     ]
    },
    {
     "name": "stderr",
     "output_type": "stream",
     "text": [
      "\n",
      "100%|████████████████████████████████████████████████████████████████████████████████████████████████████████| 1/1 [00:00<00:00, 28.48it/s]\u001b[A\n"
     ]
    },
    {
     "name": "stdout",
     "output_type": "stream",
     "text": [
      "Training loss: 0.7912341356277466\n"
     ]
    },
    {
     "name": "stderr",
     "output_type": "stream",
     "text": [
      "  2%|██                                                                                                    | 2/100 [00:00<00:17,  5.56it/s]"
     ]
    },
    {
     "name": "stdout",
     "output_type": "stream",
     "text": [
      "Val loss: 0.7298577427864075\n"
     ]
    },
    {
     "name": "stderr",
     "output_type": "stream",
     "text": [
      "\n",
      "100%|████████████████████████████████████████████████████████████████████████████████████████████████████████| 1/1 [00:00<00:00, 28.91it/s]\u001b[A\n"
     ]
    },
    {
     "name": "stdout",
     "output_type": "stream",
     "text": [
      "Training loss: 0.735389232635498\n"
     ]
    },
    {
     "name": "stderr",
     "output_type": "stream",
     "text": [
      "  3%|███                                                                                                   | 3/100 [00:00<00:17,  5.57it/s]"
     ]
    },
    {
     "name": "stdout",
     "output_type": "stream",
     "text": [
      "Val loss: 0.7154769897460938\n"
     ]
    },
    {
     "name": "stderr",
     "output_type": "stream",
     "text": [
      "\n",
      "100%|████████████████████████████████████████████████████████████████████████████████████████████████████████| 1/1 [00:00<00:00, 29.21it/s]\u001b[A\n"
     ]
    },
    {
     "name": "stdout",
     "output_type": "stream",
     "text": [
      "Training loss: 0.7059527039527893\n"
     ]
    },
    {
     "name": "stderr",
     "output_type": "stream",
     "text": [
      "  4%|████                                                                                                  | 4/100 [00:00<00:17,  5.57it/s]"
     ]
    },
    {
     "name": "stdout",
     "output_type": "stream",
     "text": [
      "Val loss: 0.7021200060844421\n"
     ]
    },
    {
     "name": "stderr",
     "output_type": "stream",
     "text": [
      "\n",
      "100%|████████████████████████████████████████████████████████████████████████████████████████████████████████| 1/1 [00:00<00:00, 28.99it/s]\u001b[A\n"
     ]
    },
    {
     "name": "stdout",
     "output_type": "stream",
     "text": [
      "Training loss: 0.6923583149909973\n"
     ]
    },
    {
     "name": "stderr",
     "output_type": "stream",
     "text": [
      "  5%|█████                                                                                                 | 5/100 [00:00<00:17,  5.58it/s]"
     ]
    },
    {
     "name": "stdout",
     "output_type": "stream",
     "text": [
      "Val loss: 0.6877165039380392\n"
     ]
    },
    {
     "name": "stderr",
     "output_type": "stream",
     "text": [
      "\n",
      "100%|████████████████████████████████████████████████████████████████████████████████████████████████████████| 1/1 [00:00<00:00, 28.71it/s]\u001b[A\n"
     ]
    },
    {
     "name": "stdout",
     "output_type": "stream",
     "text": [
      "Training loss: 0.6788977384567261\n"
     ]
    },
    {
     "name": "stderr",
     "output_type": "stream",
     "text": [
      "  6%|██████                                                                                                | 6/100 [00:01<00:16,  5.57it/s]"
     ]
    },
    {
     "name": "stdout",
     "output_type": "stream",
     "text": [
      "Val loss: 0.6729962627092997\n"
     ]
    },
    {
     "name": "stderr",
     "output_type": "stream",
     "text": [
      "\n",
      "100%|████████████████████████████████████████████████████████████████████████████████████████████████████████| 1/1 [00:00<00:00, 28.69it/s]\u001b[A\n"
     ]
    },
    {
     "name": "stdout",
     "output_type": "stream",
     "text": [
      "Training loss: 0.6509344577789307\n"
     ]
    },
    {
     "name": "stderr",
     "output_type": "stream",
     "text": [
      "  7%|███████▏                                                                                              | 7/100 [00:01<00:16,  5.56it/s]"
     ]
    },
    {
     "name": "stdout",
     "output_type": "stream",
     "text": [
      "Val loss: 0.6581803361574808\n"
     ]
    },
    {
     "name": "stderr",
     "output_type": "stream",
     "text": [
      "\n",
      "100%|████████████████████████████████████████████████████████████████████████████████████████████████████████| 1/1 [00:00<00:00, 28.21it/s]\u001b[A\n"
     ]
    },
    {
     "name": "stdout",
     "output_type": "stream",
     "text": [
      "Training loss: 0.6368672847747803\n"
     ]
    },
    {
     "name": "stderr",
     "output_type": "stream",
     "text": [
      "  8%|████████▏                                                                                             | 8/100 [00:01<00:16,  5.53it/s]"
     ]
    },
    {
     "name": "stdout",
     "output_type": "stream",
     "text": [
      "Val loss: 0.6441643834114075\n"
     ]
    },
    {
     "name": "stderr",
     "output_type": "stream",
     "text": [
      "\n",
      "100%|████████████████████████████████████████████████████████████████████████████████████████████████████████| 1/1 [00:00<00:00, 28.55it/s]\u001b[A\n"
     ]
    },
    {
     "name": "stdout",
     "output_type": "stream",
     "text": [
      "Training loss: 0.6009455919265747\n"
     ]
    },
    {
     "name": "stderr",
     "output_type": "stream",
     "text": [
      "  9%|█████████▏                                                                                            | 9/100 [00:01<00:16,  5.54it/s]"
     ]
    },
    {
     "name": "stdout",
     "output_type": "stream",
     "text": [
      "Val loss: 0.6320779919624329\n"
     ]
    },
    {
     "name": "stderr",
     "output_type": "stream",
     "text": [
      "\n",
      "100%|████████████████████████████████████████████████████████████████████████████████████████████████████████| 1/1 [00:00<00:00, 28.75it/s]\u001b[A\n"
     ]
    },
    {
     "name": "stdout",
     "output_type": "stream",
     "text": [
      "Training loss: 0.5847697257995605\n"
     ]
    },
    {
     "name": "stderr",
     "output_type": "stream",
     "text": [
      " 10%|██████████                                                                                           | 10/100 [00:01<00:16,  5.56it/s]"
     ]
    },
    {
     "name": "stdout",
     "output_type": "stream",
     "text": [
      "Val loss: 0.6216811736424764\n"
     ]
    },
    {
     "name": "stderr",
     "output_type": "stream",
     "text": [
      "\n",
      "100%|████████████████████████████████████████████████████████████████████████████████████████████████████████| 1/1 [00:00<00:00, 29.17it/s]\u001b[A\n"
     ]
    },
    {
     "name": "stdout",
     "output_type": "stream",
     "text": [
      "Training loss: 0.5642284750938416\n"
     ]
    },
    {
     "name": "stderr",
     "output_type": "stream",
     "text": [
      " 11%|███████████                                                                                          | 11/100 [00:01<00:15,  5.57it/s]"
     ]
    },
    {
     "name": "stdout",
     "output_type": "stream",
     "text": [
      "Val loss: 0.6124583681424459\n"
     ]
    },
    {
     "name": "stderr",
     "output_type": "stream",
     "text": [
      "\n",
      "100%|████████████████████████████████████████████████████████████████████████████████████████████████████████| 1/1 [00:00<00:00, 28.85it/s]\u001b[A\n"
     ]
    },
    {
     "name": "stdout",
     "output_type": "stream",
     "text": [
      "Training loss: 0.527870237827301\n"
     ]
    },
    {
     "name": "stderr",
     "output_type": "stream",
     "text": [
      " 12%|████████████                                                                                         | 12/100 [00:02<00:15,  5.56it/s]"
     ]
    },
    {
     "name": "stdout",
     "output_type": "stream",
     "text": [
      "Val loss: 0.6039730509122213\n"
     ]
    },
    {
     "name": "stderr",
     "output_type": "stream",
     "text": [
      "\n",
      "100%|████████████████████████████████████████████████████████████████████████████████████████████████████████| 1/1 [00:00<00:00, 28.70it/s]\u001b[A\n"
     ]
    },
    {
     "name": "stdout",
     "output_type": "stream",
     "text": [
      "Training loss: 0.5059359669685364\n"
     ]
    },
    {
     "name": "stderr",
     "output_type": "stream",
     "text": [
      " 13%|█████████████▏                                                                                       | 13/100 [00:02<00:15,  5.56it/s]"
     ]
    },
    {
     "name": "stdout",
     "output_type": "stream",
     "text": [
      "Val loss: 0.5959780017534891\n"
     ]
    },
    {
     "name": "stderr",
     "output_type": "stream",
     "text": [
      "\n",
      "100%|████████████████████████████████████████████████████████████████████████████████████████████████████████| 1/1 [00:00<00:00, 28.58it/s]\u001b[A\n"
     ]
    },
    {
     "name": "stdout",
     "output_type": "stream",
     "text": [
      "Training loss: 0.4816390872001648\n"
     ]
    },
    {
     "name": "stderr",
     "output_type": "stream",
     "text": [
      " 14%|██████████████▏                                                                                      | 14/100 [00:02<00:15,  5.56it/s]"
     ]
    },
    {
     "name": "stdout",
     "output_type": "stream",
     "text": [
      "Val loss: 0.5885083476702372\n"
     ]
    },
    {
     "name": "stderr",
     "output_type": "stream",
     "text": [
      "\n",
      "100%|████████████████████████████████████████████████████████████████████████████████████████████████████████| 1/1 [00:00<00:00, 28.45it/s]\u001b[A\n"
     ]
    },
    {
     "name": "stdout",
     "output_type": "stream",
     "text": [
      "Training loss: 0.4653759002685547\n"
     ]
    },
    {
     "name": "stderr",
     "output_type": "stream",
     "text": [
      " 15%|███████████████▏                                                                                     | 15/100 [00:02<00:15,  5.56it/s]"
     ]
    },
    {
     "name": "stdout",
     "output_type": "stream",
     "text": [
      "Val loss: 0.5814518729845682\n"
     ]
    },
    {
     "name": "stderr",
     "output_type": "stream",
     "text": [
      "\n",
      "100%|████████████████████████████████████████████████████████████████████████████████████████████████████████| 1/1 [00:00<00:00, 28.79it/s]\u001b[A\n"
     ]
    },
    {
     "name": "stdout",
     "output_type": "stream",
     "text": [
      "Training loss: 0.4467935562133789\n"
     ]
    },
    {
     "name": "stderr",
     "output_type": "stream",
     "text": [
      " 16%|████████████████▏                                                                                    | 16/100 [00:02<00:15,  5.58it/s]"
     ]
    },
    {
     "name": "stdout",
     "output_type": "stream",
     "text": [
      "Val loss: 0.5754271149635315\n"
     ]
    },
    {
     "name": "stderr",
     "output_type": "stream",
     "text": [
      "\n",
      "100%|████████████████████████████████████████████████████████████████████████████████████████████████████████| 1/1 [00:00<00:00, 28.98it/s]\u001b[A\n"
     ]
    },
    {
     "name": "stdout",
     "output_type": "stream",
     "text": [
      "Training loss: 0.4109853208065033\n"
     ]
    },
    {
     "name": "stderr",
     "output_type": "stream",
     "text": [
      "                                                                                                                                           \r"
     ]
    },
    {
     "name": "stdout",
     "output_type": "stream",
     "text": [
      "Val loss: 0.5705457528432211\n",
      "{'accuracy': 0.761, 'f1': 0.0, 'precision': 0.0}\n",
      "26\n",
      "0.22807017543859648\n"
     ]
    },
    {
     "name": "stderr",
     "output_type": "stream",
     "text": [
      "  0%|                                                                                                              | 0/100 [00:00<?, ?it/s]\n",
      "100%|████████████████████████████████████████████████████████████████████████████████████████████████████████| 1/1 [00:00<00:00, 29.71it/s]\u001b[A\n"
     ]
    },
    {
     "name": "stdout",
     "output_type": "stream",
     "text": [
      "Training loss: 0.7306071519851685\n"
     ]
    },
    {
     "name": "stderr",
     "output_type": "stream",
     "text": [
      "  1%|█                                                                                                     | 1/100 [00:00<00:17,  5.54it/s]"
     ]
    },
    {
     "name": "stdout",
     "output_type": "stream",
     "text": [
      "Val loss: 0.6808770497639974\n"
     ]
    },
    {
     "name": "stderr",
     "output_type": "stream",
     "text": [
      "\n",
      "100%|████████████████████████████████████████████████████████████████████████████████████████████████████████| 1/1 [00:00<00:00, 29.31it/s]\u001b[A\n"
     ]
    },
    {
     "name": "stdout",
     "output_type": "stream",
     "text": [
      "Training loss: 0.6611274480819702\n"
     ]
    },
    {
     "name": "stderr",
     "output_type": "stream",
     "text": [
      "  2%|██                                                                                                    | 2/100 [00:00<00:17,  5.53it/s]"
     ]
    },
    {
     "name": "stdout",
     "output_type": "stream",
     "text": [
      "Val loss: 0.6610949436823527\n"
     ]
    },
    {
     "name": "stderr",
     "output_type": "stream",
     "text": [
      "\n",
      "100%|████████████████████████████████████████████████████████████████████████████████████████████████████████| 1/1 [00:00<00:00, 29.24it/s]\u001b[A\n"
     ]
    },
    {
     "name": "stdout",
     "output_type": "stream",
     "text": [
      "Training loss: 0.6416465640068054\n"
     ]
    },
    {
     "name": "stderr",
     "output_type": "stream",
     "text": [
      "  3%|███                                                                                                   | 3/100 [00:00<00:17,  5.53it/s]"
     ]
    },
    {
     "name": "stdout",
     "output_type": "stream",
     "text": [
      "Val loss: 0.6461779872576395\n"
     ]
    },
    {
     "name": "stderr",
     "output_type": "stream",
     "text": [
      "\n",
      "100%|████████████████████████████████████████████████████████████████████████████████████████████████████████| 1/1 [00:00<00:00, 29.09it/s]\u001b[A\n"
     ]
    },
    {
     "name": "stdout",
     "output_type": "stream",
     "text": [
      "Training loss: 0.6051325798034668\n"
     ]
    },
    {
     "name": "stderr",
     "output_type": "stream",
     "text": [
      "  4%|████                                                                                                  | 4/100 [00:00<00:17,  5.51it/s]"
     ]
    },
    {
     "name": "stdout",
     "output_type": "stream",
     "text": [
      "Val loss: 0.6316869060198466\n"
     ]
    },
    {
     "name": "stderr",
     "output_type": "stream",
     "text": [
      "\n",
      "100%|████████████████████████████████████████████████████████████████████████████████████████████████████████| 1/1 [00:00<00:00, 29.46it/s]\u001b[A\n"
     ]
    },
    {
     "name": "stdout",
     "output_type": "stream",
     "text": [
      "Training loss: 0.5775008797645569\n"
     ]
    },
    {
     "name": "stderr",
     "output_type": "stream",
     "text": [
      "  5%|█████                                                                                                 | 5/100 [00:00<00:17,  5.54it/s]"
     ]
    },
    {
     "name": "stdout",
     "output_type": "stream",
     "text": [
      "Val loss: 0.6179250478744507\n"
     ]
    },
    {
     "name": "stderr",
     "output_type": "stream",
     "text": [
      "\n",
      "100%|████████████████████████████████████████████████████████████████████████████████████████████████████████| 1/1 [00:00<00:00, 29.83it/s]\u001b[A\n"
     ]
    },
    {
     "name": "stdout",
     "output_type": "stream",
     "text": [
      "Training loss: 0.5490778088569641\n"
     ]
    },
    {
     "name": "stderr",
     "output_type": "stream",
     "text": [
      "  6%|██████                                                                                                | 6/100 [00:01<00:16,  5.56it/s]"
     ]
    },
    {
     "name": "stdout",
     "output_type": "stream",
     "text": [
      "Val loss: 0.6061334013938904\n"
     ]
    },
    {
     "name": "stderr",
     "output_type": "stream",
     "text": [
      "\n",
      "100%|████████████████████████████████████████████████████████████████████████████████████████████████████████| 1/1 [00:00<00:00, 30.05it/s]\u001b[A\n"
     ]
    },
    {
     "name": "stdout",
     "output_type": "stream",
     "text": [
      "Training loss: 0.5203973650932312\n"
     ]
    },
    {
     "name": "stderr",
     "output_type": "stream",
     "text": [
      "  7%|███████▏                                                                                              | 7/100 [00:01<00:16,  5.59it/s]"
     ]
    },
    {
     "name": "stdout",
     "output_type": "stream",
     "text": [
      "Val loss: 0.5965976119041443\n"
     ]
    },
    {
     "name": "stderr",
     "output_type": "stream",
     "text": [
      "\n",
      "100%|████████████████████████████████████████████████████████████████████████████████████████████████████████| 1/1 [00:00<00:00, 29.37it/s]\u001b[A\n"
     ]
    },
    {
     "name": "stdout",
     "output_type": "stream",
     "text": [
      "Training loss: 0.4880465865135193\n"
     ]
    },
    {
     "name": "stderr",
     "output_type": "stream",
     "text": [
      "  8%|████████▏                                                                                             | 8/100 [00:01<00:16,  5.56it/s]"
     ]
    },
    {
     "name": "stdout",
     "output_type": "stream",
     "text": [
      "Val loss: 0.5889770785967509\n"
     ]
    },
    {
     "name": "stderr",
     "output_type": "stream",
     "text": [
      "\n",
      "100%|████████████████████████████████████████████████████████████████████████████████████████████████████████| 1/1 [00:00<00:00, 29.34it/s]\u001b[A\n"
     ]
    },
    {
     "name": "stdout",
     "output_type": "stream",
     "text": [
      "Training loss: 0.4639085531234741\n"
     ]
    },
    {
     "name": "stderr",
     "output_type": "stream",
     "text": [
      "  9%|█████████▏                                                                                            | 9/100 [00:01<00:16,  5.55it/s]"
     ]
    },
    {
     "name": "stdout",
     "output_type": "stream",
     "text": [
      "Val loss: 0.5837309161822001\n"
     ]
    },
    {
     "name": "stderr",
     "output_type": "stream",
     "text": [
      "\n",
      "100%|████████████████████████████████████████████████████████████████████████████████████████████████████████| 1/1 [00:00<00:00, 29.27it/s]\u001b[A\n"
     ]
    },
    {
     "name": "stdout",
     "output_type": "stream",
     "text": [
      "Training loss: 0.42865225672721863\n"
     ]
    },
    {
     "name": "stderr",
     "output_type": "stream",
     "text": [
      "                                                                                                                                           \r"
     ]
    },
    {
     "name": "stdout",
     "output_type": "stream",
     "text": [
      "Val loss: 0.5795718431472778\n",
      "{'accuracy': 0.761, 'f1': 0.0, 'precision': 0.0}\n",
      "26\n",
      "0.22807017543859648\n"
     ]
    },
    {
     "name": "stderr",
     "output_type": "stream",
     "text": [
      "  0%|                                                                                                              | 0/100 [00:00<?, ?it/s]\n",
      "100%|████████████████████████████████████████████████████████████████████████████████████████████████████████| 1/1 [00:00<00:00, 29.76it/s]\u001b[A\n"
     ]
    },
    {
     "name": "stdout",
     "output_type": "stream",
     "text": [
      "Training loss: 0.8663557767868042\n"
     ]
    },
    {
     "name": "stderr",
     "output_type": "stream",
     "text": [
      "  1%|█                                                                                                     | 1/100 [00:00<00:17,  5.67it/s]"
     ]
    },
    {
     "name": "stdout",
     "output_type": "stream",
     "text": [
      "Val loss: 0.734585185845693\n"
     ]
    },
    {
     "name": "stderr",
     "output_type": "stream",
     "text": [
      "\n",
      "100%|████████████████████████████████████████████████████████████████████████████████████████████████████████| 1/1 [00:00<00:00, 30.03it/s]\u001b[A\n"
     ]
    },
    {
     "name": "stdout",
     "output_type": "stream",
     "text": [
      "Training loss: 0.7746545076370239\n"
     ]
    },
    {
     "name": "stderr",
     "output_type": "stream",
     "text": [
      "  2%|██                                                                                                    | 2/100 [00:00<00:17,  5.66it/s]"
     ]
    },
    {
     "name": "stdout",
     "output_type": "stream",
     "text": [
      "Val loss: 0.7032526334126791\n"
     ]
    },
    {
     "name": "stderr",
     "output_type": "stream",
     "text": [
      "\n",
      "100%|████████████████████████████████████████████████████████████████████████████████████████████████████████| 1/1 [00:00<00:00, 29.67it/s]\u001b[A\n"
     ]
    },
    {
     "name": "stdout",
     "output_type": "stream",
     "text": [
      "Training loss: 0.7032953500747681\n"
     ]
    },
    {
     "name": "stderr",
     "output_type": "stream",
     "text": [
      "  3%|███                                                                                                   | 3/100 [00:00<00:17,  5.64it/s]"
     ]
    },
    {
     "name": "stdout",
     "output_type": "stream",
     "text": [
      "Val loss: 0.6828025976816813\n"
     ]
    },
    {
     "name": "stderr",
     "output_type": "stream",
     "text": [
      "\n",
      "100%|████████████████████████████████████████████████████████████████████████████████████████████████████████| 1/1 [00:00<00:00, 28.92it/s]\u001b[A\n"
     ]
    },
    {
     "name": "stdout",
     "output_type": "stream",
     "text": [
      "Training loss: 0.6635183095932007\n"
     ]
    },
    {
     "name": "stderr",
     "output_type": "stream",
     "text": [
      "  4%|████                                                                                                  | 4/100 [00:00<00:17,  5.57it/s]"
     ]
    },
    {
     "name": "stdout",
     "output_type": "stream",
     "text": [
      "Val loss: 0.6711666981379191\n"
     ]
    },
    {
     "name": "stderr",
     "output_type": "stream",
     "text": [
      "\n",
      "100%|████████████████████████████████████████████████████████████████████████████████████████████████████████| 1/1 [00:00<00:00, 29.25it/s]\u001b[A\n"
     ]
    },
    {
     "name": "stdout",
     "output_type": "stream",
     "text": [
      "Training loss: 0.6476004719734192\n"
     ]
    },
    {
     "name": "stderr",
     "output_type": "stream",
     "text": [
      "  5%|█████                                                                                                 | 5/100 [00:00<00:17,  5.56it/s]"
     ]
    },
    {
     "name": "stdout",
     "output_type": "stream",
     "text": [
      "Val loss: 0.659270445505778\n"
     ]
    },
    {
     "name": "stderr",
     "output_type": "stream",
     "text": [
      "\n",
      "100%|████████████████████████████████████████████████████████████████████████████████████████████████████████| 1/1 [00:00<00:00, 29.20it/s]\u001b[A\n"
     ]
    },
    {
     "name": "stdout",
     "output_type": "stream",
     "text": [
      "Training loss: 0.6206281781196594\n"
     ]
    },
    {
     "name": "stderr",
     "output_type": "stream",
     "text": [
      "  6%|██████                                                                                                | 6/100 [00:01<00:16,  5.54it/s]"
     ]
    },
    {
     "name": "stdout",
     "output_type": "stream",
     "text": [
      "Val loss: 0.6477626164754232\n"
     ]
    },
    {
     "name": "stderr",
     "output_type": "stream",
     "text": [
      "\n",
      "100%|████████████████████████████████████████████████████████████████████████████████████████████████████████| 1/1 [00:00<00:00, 29.14it/s]\u001b[A\n"
     ]
    },
    {
     "name": "stdout",
     "output_type": "stream",
     "text": [
      "Training loss: 0.5961792469024658\n"
     ]
    },
    {
     "name": "stderr",
     "output_type": "stream",
     "text": [
      "  7%|███████▏                                                                                              | 7/100 [00:01<00:16,  5.55it/s]"
     ]
    },
    {
     "name": "stdout",
     "output_type": "stream",
     "text": [
      "Val loss: 0.636782725652059\n"
     ]
    },
    {
     "name": "stderr",
     "output_type": "stream",
     "text": [
      "\n",
      "100%|████████████████████████████████████████████████████████████████████████████████████████████████████████| 1/1 [00:00<00:00, 29.70it/s]\u001b[A\n"
     ]
    },
    {
     "name": "stdout",
     "output_type": "stream",
     "text": [
      "Training loss: 0.5721909403800964\n"
     ]
    },
    {
     "name": "stderr",
     "output_type": "stream",
     "text": [
      "  8%|████████▏                                                                                             | 8/100 [00:01<00:16,  5.58it/s]"
     ]
    },
    {
     "name": "stdout",
     "output_type": "stream",
     "text": [
      "Val loss: 0.6268807848294576\n"
     ]
    },
    {
     "name": "stderr",
     "output_type": "stream",
     "text": [
      "\n",
      "100%|████████████████████████████████████████████████████████████████████████████████████████████████████████| 1/1 [00:00<00:00, 30.03it/s]\u001b[A\n"
     ]
    },
    {
     "name": "stdout",
     "output_type": "stream",
     "text": [
      "Training loss: 0.558548092842102\n"
     ]
    },
    {
     "name": "stderr",
     "output_type": "stream",
     "text": [
      "  9%|█████████▏                                                                                            | 9/100 [00:01<00:16,  5.60it/s]"
     ]
    },
    {
     "name": "stdout",
     "output_type": "stream",
     "text": [
      "Val loss: 0.6181480089823405\n"
     ]
    },
    {
     "name": "stderr",
     "output_type": "stream",
     "text": [
      "\n",
      "100%|████████████████████████████████████████████████████████████████████████████████████████████████████████| 1/1 [00:00<00:00, 29.58it/s]\u001b[A\n"
     ]
    },
    {
     "name": "stdout",
     "output_type": "stream",
     "text": [
      "Training loss: 0.5338732600212097\n"
     ]
    },
    {
     "name": "stderr",
     "output_type": "stream",
     "text": [
      " 10%|██████████                                                                                           | 10/100 [00:01<00:16,  5.58it/s]"
     ]
    },
    {
     "name": "stdout",
     "output_type": "stream",
     "text": [
      "Val loss: 0.6115178465843201\n"
     ]
    },
    {
     "name": "stderr",
     "output_type": "stream",
     "text": [
      "\n",
      "100%|████████████████████████████████████████████████████████████████████████████████████████████████████████| 1/1 [00:00<00:00, 29.20it/s]\u001b[A\n"
     ]
    },
    {
     "name": "stdout",
     "output_type": "stream",
     "text": [
      "Training loss: 0.5165980458259583\n"
     ]
    },
    {
     "name": "stderr",
     "output_type": "stream",
     "text": [
      " 11%|███████████                                                                                          | 11/100 [00:01<00:16,  5.56it/s]"
     ]
    },
    {
     "name": "stdout",
     "output_type": "stream",
     "text": [
      "Val loss: 0.6061627864837646\n"
     ]
    },
    {
     "name": "stderr",
     "output_type": "stream",
     "text": [
      "\n",
      "100%|████████████████████████████████████████████████████████████████████████████████████████████████████████| 1/1 [00:00<00:00, 28.98it/s]\u001b[A\n"
     ]
    },
    {
     "name": "stdout",
     "output_type": "stream",
     "text": [
      "Training loss: 0.4908505082130432\n"
     ]
    },
    {
     "name": "stderr",
     "output_type": "stream",
     "text": [
      "                                                                                                                                           \r"
     ]
    },
    {
     "name": "stdout",
     "output_type": "stream",
     "text": [
      "Val loss: 0.6021055976549784\n",
      "{'accuracy': 0.739, 'f1': 0.0, 'precision': 0.0}\n",
      "26\n",
      "0.22807017543859648\n"
     ]
    },
    {
     "name": "stderr",
     "output_type": "stream",
     "text": [
      "  0%|                                                                                                              | 0/100 [00:00<?, ?it/s]\n",
      "100%|████████████████████████████████████████████████████████████████████████████████████████████████████████| 1/1 [00:00<00:00, 29.45it/s]\u001b[A\n"
     ]
    },
    {
     "name": "stdout",
     "output_type": "stream",
     "text": [
      "Training loss: 0.7951871752738953\n"
     ]
    },
    {
     "name": "stderr",
     "output_type": "stream",
     "text": [
      "  1%|█                                                                                                     | 1/100 [00:00<00:17,  5.59it/s]"
     ]
    },
    {
     "name": "stdout",
     "output_type": "stream",
     "text": [
      "Val loss: 0.747555156548818\n"
     ]
    },
    {
     "name": "stderr",
     "output_type": "stream",
     "text": [
      "\n",
      "100%|████████████████████████████████████████████████████████████████████████████████████████████████████████| 1/1 [00:00<00:00, 29.39it/s]\u001b[A\n"
     ]
    },
    {
     "name": "stdout",
     "output_type": "stream",
     "text": [
      "Training loss: 0.7487571835517883\n"
     ]
    },
    {
     "name": "stderr",
     "output_type": "stream",
     "text": [
      "  2%|██                                                                                                    | 2/100 [00:00<00:17,  5.61it/s]"
     ]
    },
    {
     "name": "stdout",
     "output_type": "stream",
     "text": [
      "Val loss: 0.7265477379163107\n"
     ]
    },
    {
     "name": "stderr",
     "output_type": "stream",
     "text": [
      "\n",
      "100%|████████████████████████████████████████████████████████████████████████████████████████████████████████| 1/1 [00:00<00:00, 29.41it/s]\u001b[A\n"
     ]
    },
    {
     "name": "stdout",
     "output_type": "stream",
     "text": [
      "Training loss: 0.7189806699752808\n"
     ]
    },
    {
     "name": "stderr",
     "output_type": "stream",
     "text": [
      "  3%|███                                                                                                   | 3/100 [00:00<00:17,  5.61it/s]"
     ]
    },
    {
     "name": "stdout",
     "output_type": "stream",
     "text": [
      "Val loss: 0.7056134541829427\n"
     ]
    },
    {
     "name": "stderr",
     "output_type": "stream",
     "text": [
      "\n",
      "100%|████████████████████████████████████████████████████████████████████████████████████████████████████████| 1/1 [00:00<00:00, 29.37it/s]\u001b[A\n"
     ]
    },
    {
     "name": "stdout",
     "output_type": "stream",
     "text": [
      "Training loss: 0.6886246800422668\n"
     ]
    },
    {
     "name": "stderr",
     "output_type": "stream",
     "text": [
      "  4%|████                                                                                                  | 4/100 [00:00<00:17,  5.60it/s]"
     ]
    },
    {
     "name": "stdout",
     "output_type": "stream",
     "text": [
      "Val loss: 0.6857325633366903\n"
     ]
    },
    {
     "name": "stderr",
     "output_type": "stream",
     "text": [
      "\n",
      "100%|████████████████████████████████████████████████████████████████████████████████████████████████████████| 1/1 [00:00<00:00, 29.02it/s]\u001b[A\n"
     ]
    },
    {
     "name": "stdout",
     "output_type": "stream",
     "text": [
      "Training loss: 0.6645357608795166\n"
     ]
    },
    {
     "name": "stderr",
     "output_type": "stream",
     "text": [
      "  5%|█████                                                                                                 | 5/100 [00:00<00:17,  5.58it/s]"
     ]
    },
    {
     "name": "stdout",
     "output_type": "stream",
     "text": [
      "Val loss: 0.6697590549786886\n"
     ]
    },
    {
     "name": "stderr",
     "output_type": "stream",
     "text": [
      "\n",
      "100%|████████████████████████████████████████████████████████████████████████████████████████████████████████| 1/1 [00:00<00:00, 29.15it/s]\u001b[A\n"
     ]
    },
    {
     "name": "stdout",
     "output_type": "stream",
     "text": [
      "Training loss: 0.6436463594436646\n"
     ]
    },
    {
     "name": "stderr",
     "output_type": "stream",
     "text": [
      "  6%|██████                                                                                                | 6/100 [00:01<00:16,  5.55it/s]"
     ]
    },
    {
     "name": "stdout",
     "output_type": "stream",
     "text": [
      "Val loss: 0.6561420957247416\n"
     ]
    },
    {
     "name": "stderr",
     "output_type": "stream",
     "text": [
      "\n",
      "100%|████████████████████████████████████████████████████████████████████████████████████████████████████████| 1/1 [00:00<00:00, 29.43it/s]\u001b[A\n"
     ]
    },
    {
     "name": "stdout",
     "output_type": "stream",
     "text": [
      "Training loss: 0.6242421269416809\n"
     ]
    },
    {
     "name": "stderr",
     "output_type": "stream",
     "text": [
      "  7%|███████▏                                                                                              | 7/100 [00:01<00:16,  5.55it/s]"
     ]
    },
    {
     "name": "stdout",
     "output_type": "stream",
     "text": [
      "Val loss: 0.6428201198577881\n"
     ]
    },
    {
     "name": "stderr",
     "output_type": "stream",
     "text": [
      "\n",
      "100%|████████████████████████████████████████████████████████████████████████████████████████████████████████| 1/1 [00:00<00:00, 29.66it/s]\u001b[A\n"
     ]
    },
    {
     "name": "stdout",
     "output_type": "stream",
     "text": [
      "Training loss: 0.6127744913101196\n"
     ]
    },
    {
     "name": "stderr",
     "output_type": "stream",
     "text": [
      "  8%|████████▏                                                                                             | 8/100 [00:01<00:16,  5.57it/s]"
     ]
    },
    {
     "name": "stdout",
     "output_type": "stream",
     "text": [
      "Val loss: 0.6306086182594299\n"
     ]
    },
    {
     "name": "stderr",
     "output_type": "stream",
     "text": [
      "\n",
      "100%|████████████████████████████████████████████████████████████████████████████████████████████████████████| 1/1 [00:00<00:00, 29.43it/s]\u001b[A\n"
     ]
    },
    {
     "name": "stdout",
     "output_type": "stream",
     "text": [
      "Training loss: 0.5800855755805969\n"
     ]
    },
    {
     "name": "stderr",
     "output_type": "stream",
     "text": [
      "  9%|█████████▏                                                                                            | 9/100 [00:01<00:16,  5.58it/s]"
     ]
    },
    {
     "name": "stdout",
     "output_type": "stream",
     "text": [
      "Val loss: 0.6202681461970011\n"
     ]
    },
    {
     "name": "stderr",
     "output_type": "stream",
     "text": [
      "\n",
      "100%|████████████████████████████████████████████████████████████████████████████████████████████████████████| 1/1 [00:00<00:00, 29.40it/s]\u001b[A\n"
     ]
    },
    {
     "name": "stdout",
     "output_type": "stream",
     "text": [
      "Training loss: 0.566334068775177\n"
     ]
    },
    {
     "name": "stderr",
     "output_type": "stream",
     "text": [
      " 10%|██████████                                                                                           | 10/100 [00:01<00:16,  5.58it/s]"
     ]
    },
    {
     "name": "stdout",
     "output_type": "stream",
     "text": [
      "Val loss: 0.6118948062260946\n"
     ]
    },
    {
     "name": "stderr",
     "output_type": "stream",
     "text": [
      "\n",
      "100%|████████████████████████████████████████████████████████████████████████████████████████████████████████| 1/1 [00:00<00:00, 29.33it/s]\u001b[A\n"
     ]
    },
    {
     "name": "stdout",
     "output_type": "stream",
     "text": [
      "Training loss: 0.5411895513534546\n"
     ]
    },
    {
     "name": "stderr",
     "output_type": "stream",
     "text": [
      " 11%|███████████                                                                                          | 11/100 [00:01<00:15,  5.57it/s]"
     ]
    },
    {
     "name": "stdout",
     "output_type": "stream",
     "text": [
      "Val loss: 0.6046759486198425\n"
     ]
    },
    {
     "name": "stderr",
     "output_type": "stream",
     "text": [
      "\n",
      "100%|████████████████████████████████████████████████████████████████████████████████████████████████████████| 1/1 [00:00<00:00, 28.85it/s]\u001b[A\n"
     ]
    },
    {
     "name": "stdout",
     "output_type": "stream",
     "text": [
      "Training loss: 0.5311821103096008\n"
     ]
    },
    {
     "name": "stderr",
     "output_type": "stream",
     "text": [
      " 12%|████████████                                                                                         | 12/100 [00:02<00:15,  5.56it/s]"
     ]
    },
    {
     "name": "stdout",
     "output_type": "stream",
     "text": [
      "Val loss: 0.5983502467473348\n"
     ]
    },
    {
     "name": "stderr",
     "output_type": "stream",
     "text": [
      "\n",
      "100%|████████████████████████████████████████████████████████████████████████████████████████████████████████| 1/1 [00:00<00:00, 29.21it/s]\u001b[A\n"
     ]
    },
    {
     "name": "stdout",
     "output_type": "stream",
     "text": [
      "Training loss: 0.5066260695457458\n"
     ]
    },
    {
     "name": "stderr",
     "output_type": "stream",
     "text": [
      " 13%|█████████████▏                                                                                       | 13/100 [00:02<00:15,  5.55it/s]"
     ]
    },
    {
     "name": "stdout",
     "output_type": "stream",
     "text": [
      "Val loss: 0.59307332833608\n"
     ]
    },
    {
     "name": "stderr",
     "output_type": "stream",
     "text": [
      "\n",
      "100%|████████████████████████████████████████████████████████████████████████████████████████████████████████| 1/1 [00:00<00:00, 29.33it/s]\u001b[A\n"
     ]
    },
    {
     "name": "stdout",
     "output_type": "stream",
     "text": [
      "Training loss: 0.5005500912666321\n"
     ]
    },
    {
     "name": "stderr",
     "output_type": "stream",
     "text": [
      " 14%|██████████████▏                                                                                      | 14/100 [00:02<00:15,  5.56it/s]"
     ]
    },
    {
     "name": "stdout",
     "output_type": "stream",
     "text": [
      "Val loss: 0.5873347123463949\n"
     ]
    },
    {
     "name": "stderr",
     "output_type": "stream",
     "text": [
      "\n",
      "100%|████████████████████████████████████████████████████████████████████████████████████████████████████████| 1/1 [00:00<00:00, 29.72it/s]\u001b[A\n"
     ]
    },
    {
     "name": "stdout",
     "output_type": "stream",
     "text": [
      "Training loss: 0.4775084853172302\n"
     ]
    },
    {
     "name": "stderr",
     "output_type": "stream",
     "text": [
      "                                                                                                                                           \r"
     ]
    },
    {
     "name": "stdout",
     "output_type": "stream",
     "text": [
      "Val loss: 0.5824106931686401\n",
      "{'accuracy': 0.772, 'f1': 0.0, 'precision': 0.0}\n",
      "26\n",
      "0.22807017543859648\n"
     ]
    },
    {
     "name": "stderr",
     "output_type": "stream",
     "text": [
      "  0%|                                                                                                              | 0/100 [00:00<?, ?it/s]\n",
      "100%|████████████████████████████████████████████████████████████████████████████████████████████████████████| 1/1 [00:00<00:00, 30.30it/s]\u001b[A\n"
     ]
    },
    {
     "name": "stdout",
     "output_type": "stream",
     "text": [
      "Training loss: 0.7535219192504883\n"
     ]
    },
    {
     "name": "stderr",
     "output_type": "stream",
     "text": [
      "  1%|█                                                                                                     | 1/100 [00:00<00:17,  5.67it/s]"
     ]
    },
    {
     "name": "stdout",
     "output_type": "stream",
     "text": [
      "Val loss: 0.7237686316172282\n"
     ]
    },
    {
     "name": "stderr",
     "output_type": "stream",
     "text": [
      "\n",
      "100%|████████████████████████████████████████████████████████████████████████████████████████████████████████| 1/1 [00:00<00:00, 30.58it/s]\u001b[A\n"
     ]
    },
    {
     "name": "stdout",
     "output_type": "stream",
     "text": [
      "Training loss: 0.7062235474586487\n"
     ]
    },
    {
     "name": "stderr",
     "output_type": "stream",
     "text": [
      "  2%|██                                                                                                    | 2/100 [00:00<00:17,  5.63it/s]"
     ]
    },
    {
     "name": "stdout",
     "output_type": "stream",
     "text": [
      "Val loss: 0.6926561991373698\n"
     ]
    },
    {
     "name": "stderr",
     "output_type": "stream",
     "text": [
      "\n",
      "100%|████████████████████████████████████████████████████████████████████████████████████████████████████████| 1/1 [00:00<00:00, 30.24it/s]\u001b[A\n"
     ]
    },
    {
     "name": "stdout",
     "output_type": "stream",
     "text": [
      "Training loss: 0.669199526309967\n"
     ]
    },
    {
     "name": "stderr",
     "output_type": "stream",
     "text": [
      "  3%|███                                                                                                   | 3/100 [00:00<00:17,  5.60it/s]"
     ]
    },
    {
     "name": "stdout",
     "output_type": "stream",
     "text": [
      "Val loss: 0.6688330173492432\n"
     ]
    },
    {
     "name": "stderr",
     "output_type": "stream",
     "text": [
      "\n",
      "100%|████████████████████████████████████████████████████████████████████████████████████████████████████████| 1/1 [00:00<00:00, 29.99it/s]\u001b[A\n"
     ]
    },
    {
     "name": "stdout",
     "output_type": "stream",
     "text": [
      "Training loss: 0.6353128552436829\n"
     ]
    },
    {
     "name": "stderr",
     "output_type": "stream",
     "text": [
      "  4%|████                                                                                                  | 4/100 [00:00<00:17,  5.59it/s]"
     ]
    },
    {
     "name": "stdout",
     "output_type": "stream",
     "text": [
      "Val loss: 0.651273230711619\n"
     ]
    },
    {
     "name": "stderr",
     "output_type": "stream",
     "text": [
      "\n",
      "100%|████████████████████████████████████████████████████████████████████████████████████████████████████████| 1/1 [00:00<00:00, 29.91it/s]\u001b[A\n"
     ]
    },
    {
     "name": "stdout",
     "output_type": "stream",
     "text": [
      "Training loss: 0.6102601289749146\n"
     ]
    },
    {
     "name": "stderr",
     "output_type": "stream",
     "text": [
      "  5%|█████                                                                                                 | 5/100 [00:00<00:17,  5.56it/s]"
     ]
    },
    {
     "name": "stdout",
     "output_type": "stream",
     "text": [
      "Val loss: 0.6366294423739115\n"
     ]
    },
    {
     "name": "stderr",
     "output_type": "stream",
     "text": [
      "\n",
      "100%|████████████████████████████████████████████████████████████████████████████████████████████████████████| 1/1 [00:00<00:00, 30.02it/s]\u001b[A\n"
     ]
    },
    {
     "name": "stdout",
     "output_type": "stream",
     "text": [
      "Training loss: 0.5855296850204468\n"
     ]
    },
    {
     "name": "stderr",
     "output_type": "stream",
     "text": [
      "  6%|██████                                                                                                | 6/100 [00:01<00:16,  5.57it/s]"
     ]
    },
    {
     "name": "stdout",
     "output_type": "stream",
     "text": [
      "Val loss: 0.6245179375012716\n"
     ]
    },
    {
     "name": "stderr",
     "output_type": "stream",
     "text": [
      "\n",
      "100%|████████████████████████████████████████████████████████████████████████████████████████████████████████| 1/1 [00:00<00:00, 29.71it/s]\u001b[A\n"
     ]
    },
    {
     "name": "stdout",
     "output_type": "stream",
     "text": [
      "Training loss: 0.5510644912719727\n"
     ]
    },
    {
     "name": "stderr",
     "output_type": "stream",
     "text": [
      "  7%|███████▏                                                                                              | 7/100 [00:01<00:16,  5.58it/s]"
     ]
    },
    {
     "name": "stdout",
     "output_type": "stream",
     "text": [
      "Val loss: 0.6146767338116964\n"
     ]
    },
    {
     "name": "stderr",
     "output_type": "stream",
     "text": [
      "\n",
      "100%|████████████████████████████████████████████████████████████████████████████████████████████████████████| 1/1 [00:00<00:00, 30.40it/s]\u001b[A\n"
     ]
    },
    {
     "name": "stdout",
     "output_type": "stream",
     "text": [
      "Training loss: 0.5418296456336975\n"
     ]
    },
    {
     "name": "stderr",
     "output_type": "stream",
     "text": [
      "  8%|████████▏                                                                                             | 8/100 [00:01<00:16,  5.59it/s]"
     ]
    },
    {
     "name": "stdout",
     "output_type": "stream",
     "text": [
      "Val loss: 0.6069893836975098\n"
     ]
    },
    {
     "name": "stderr",
     "output_type": "stream",
     "text": [
      "\n",
      "100%|████████████████████████████████████████████████████████████████████████████████████████████████████████| 1/1 [00:00<00:00, 30.41it/s]\u001b[A\n"
     ]
    },
    {
     "name": "stdout",
     "output_type": "stream",
     "text": [
      "Training loss: 0.5044039487838745\n"
     ]
    },
    {
     "name": "stderr",
     "output_type": "stream",
     "text": [
      "  9%|█████████▏                                                                                            | 9/100 [00:01<00:16,  5.59it/s]"
     ]
    },
    {
     "name": "stdout",
     "output_type": "stream",
     "text": [
      "Val loss: 0.6007181803385416\n"
     ]
    },
    {
     "name": "stderr",
     "output_type": "stream",
     "text": [
      "\n",
      "100%|████████████████████████████████████████████████████████████████████████████████████████████████████████| 1/1 [00:00<00:00, 29.88it/s]\u001b[A\n"
     ]
    },
    {
     "name": "stdout",
     "output_type": "stream",
     "text": [
      "Training loss: 0.47217974066734314\n"
     ]
    },
    {
     "name": "stderr",
     "output_type": "stream",
     "text": [
      " 10%|██████████                                                                                           | 10/100 [00:01<00:16,  5.57it/s]"
     ]
    },
    {
     "name": "stdout",
     "output_type": "stream",
     "text": [
      "Val loss: 0.595124622186025\n"
     ]
    },
    {
     "name": "stderr",
     "output_type": "stream",
     "text": [
      "\n",
      "100%|████████████████████████████████████████████████████████████████████████████████████████████████████████| 1/1 [00:00<00:00, 29.91it/s]\u001b[A\n"
     ]
    },
    {
     "name": "stdout",
     "output_type": "stream",
     "text": [
      "Training loss: 0.44454559683799744\n"
     ]
    },
    {
     "name": "stderr",
     "output_type": "stream",
     "text": [
      " 11%|███████████                                                                                          | 11/100 [00:01<00:16,  5.56it/s]"
     ]
    },
    {
     "name": "stdout",
     "output_type": "stream",
     "text": [
      "Val loss: 0.5900611082712809\n"
     ]
    },
    {
     "name": "stderr",
     "output_type": "stream",
     "text": [
      "\n",
      "100%|████████████████████████████████████████████████████████████████████████████████████████████████████████| 1/1 [00:00<00:00, 29.95it/s]\u001b[A\n"
     ]
    },
    {
     "name": "stdout",
     "output_type": "stream",
     "text": [
      "Training loss: 0.437703937292099\n"
     ]
    },
    {
     "name": "stderr",
     "output_type": "stream",
     "text": [
      "                                                                                                                                           \r"
     ]
    },
    {
     "name": "stdout",
     "output_type": "stream",
     "text": [
      "Val loss: 0.5853277246157328\n",
      "{'accuracy': 0.75, 'f1': 0.0, 'precision': 0.0}\n",
      "26\n",
      "0.22807017543859648\n"
     ]
    },
    {
     "name": "stderr",
     "output_type": "stream",
     "text": [
      "  0%|                                                                                                              | 0/100 [00:00<?, ?it/s]\n",
      "100%|████████████████████████████████████████████████████████████████████████████████████████████████████████| 1/1 [00:00<00:00, 29.54it/s]\u001b[A\n"
     ]
    },
    {
     "name": "stdout",
     "output_type": "stream",
     "text": [
      "Training loss: 0.7632419466972351\n"
     ]
    },
    {
     "name": "stderr",
     "output_type": "stream",
     "text": [
      "  1%|█                                                                                                     | 1/100 [00:00<00:17,  5.62it/s]"
     ]
    },
    {
     "name": "stdout",
     "output_type": "stream",
     "text": [
      "Val loss: 0.7007333834966024\n"
     ]
    },
    {
     "name": "stderr",
     "output_type": "stream",
     "text": [
      "\n",
      "100%|████████████████████████████████████████████████████████████████████████████████████████████████████████| 1/1 [00:00<00:00, 29.11it/s]\u001b[A\n"
     ]
    },
    {
     "name": "stdout",
     "output_type": "stream",
     "text": [
      "Training loss: 0.7087063789367676\n"
     ]
    },
    {
     "name": "stderr",
     "output_type": "stream",
     "text": [
      "  2%|██                                                                                                    | 2/100 [00:00<00:17,  5.59it/s]"
     ]
    },
    {
     "name": "stdout",
     "output_type": "stream",
     "text": [
      "Val loss: 0.6800901492436727\n"
     ]
    },
    {
     "name": "stderr",
     "output_type": "stream",
     "text": [
      "\n",
      "100%|████████████████████████████████████████████████████████████████████████████████████████████████████████| 1/1 [00:00<00:00, 29.33it/s]\u001b[A\n"
     ]
    },
    {
     "name": "stdout",
     "output_type": "stream",
     "text": [
      "Training loss: 0.6698392033576965\n"
     ]
    },
    {
     "name": "stderr",
     "output_type": "stream",
     "text": [
      "  3%|███                                                                                                   | 3/100 [00:00<00:17,  5.56it/s]"
     ]
    },
    {
     "name": "stdout",
     "output_type": "stream",
     "text": [
      "Val loss: 0.6620773871739706\n"
     ]
    },
    {
     "name": "stderr",
     "output_type": "stream",
     "text": [
      "\n",
      "100%|████████████████████████████████████████████████████████████████████████████████████████████████████████| 1/1 [00:00<00:00, 29.04it/s]\u001b[A\n"
     ]
    },
    {
     "name": "stdout",
     "output_type": "stream",
     "text": [
      "Training loss: 0.6333525776863098\n"
     ]
    },
    {
     "name": "stderr",
     "output_type": "stream",
     "text": [
      "  4%|████                                                                                                  | 4/100 [00:00<00:17,  5.54it/s]"
     ]
    },
    {
     "name": "stdout",
     "output_type": "stream",
     "text": [
      "Val loss: 0.6455564498901367\n"
     ]
    },
    {
     "name": "stderr",
     "output_type": "stream",
     "text": [
      "\n",
      "100%|████████████████████████████████████████████████████████████████████████████████████████████████████████| 1/1 [00:00<00:00, 28.78it/s]\u001b[A\n"
     ]
    },
    {
     "name": "stdout",
     "output_type": "stream",
     "text": [
      "Training loss: 0.5976150631904602\n"
     ]
    },
    {
     "name": "stderr",
     "output_type": "stream",
     "text": [
      "  5%|█████                                                                                                 | 5/100 [00:00<00:17,  5.52it/s]"
     ]
    },
    {
     "name": "stdout",
     "output_type": "stream",
     "text": [
      "Val loss: 0.630217432975769\n"
     ]
    },
    {
     "name": "stderr",
     "output_type": "stream",
     "text": [
      "\n",
      "100%|████████████████████████████████████████████████████████████████████████████████████████████████████████| 1/1 [00:00<00:00, 28.96it/s]\u001b[A\n"
     ]
    },
    {
     "name": "stdout",
     "output_type": "stream",
     "text": [
      "Training loss: 0.5701913237571716\n"
     ]
    },
    {
     "name": "stderr",
     "output_type": "stream",
     "text": [
      "  6%|██████                                                                                                | 6/100 [00:01<00:17,  5.51it/s]"
     ]
    },
    {
     "name": "stdout",
     "output_type": "stream",
     "text": [
      "Val loss: 0.6162655552228292\n"
     ]
    },
    {
     "name": "stderr",
     "output_type": "stream",
     "text": [
      "\n",
      "100%|████████████████████████████████████████████████████████████████████████████████████████████████████████| 1/1 [00:00<00:00, 29.28it/s]\u001b[A\n"
     ]
    },
    {
     "name": "stdout",
     "output_type": "stream",
     "text": [
      "Training loss: 0.5452600121498108\n"
     ]
    },
    {
     "name": "stderr",
     "output_type": "stream",
     "text": [
      "  7%|███████▏                                                                                              | 7/100 [00:01<00:16,  5.52it/s]"
     ]
    },
    {
     "name": "stdout",
     "output_type": "stream",
     "text": [
      "Val loss: 0.6019841631253561\n"
     ]
    },
    {
     "name": "stderr",
     "output_type": "stream",
     "text": [
      "\n",
      "100%|████████████████████████████████████████████████████████████████████████████████████████████████████████| 1/1 [00:00<00:00, 28.95it/s]\u001b[A\n"
     ]
    },
    {
     "name": "stdout",
     "output_type": "stream",
     "text": [
      "Training loss: 0.5026944875717163\n"
     ]
    },
    {
     "name": "stderr",
     "output_type": "stream",
     "text": [
      "  8%|████████▏                                                                                             | 8/100 [00:01<00:16,  5.53it/s]"
     ]
    },
    {
     "name": "stdout",
     "output_type": "stream",
     "text": [
      "Val loss: 0.5905432303746542\n"
     ]
    },
    {
     "name": "stderr",
     "output_type": "stream",
     "text": [
      "\n",
      "100%|████████████████████████████████████████████████████████████████████████████████████████████████████████| 1/1 [00:00<00:00, 29.05it/s]\u001b[A\n"
     ]
    },
    {
     "name": "stdout",
     "output_type": "stream",
     "text": [
      "Training loss: 0.47050780057907104\n"
     ]
    },
    {
     "name": "stderr",
     "output_type": "stream",
     "text": [
      "  9%|█████████▏                                                                                            | 9/100 [00:01<00:16,  5.53it/s]"
     ]
    },
    {
     "name": "stdout",
     "output_type": "stream",
     "text": [
      "Val loss: 0.581385612487793\n"
     ]
    },
    {
     "name": "stderr",
     "output_type": "stream",
     "text": [
      "\n",
      "100%|████████████████████████████████████████████████████████████████████████████████████████████████████████| 1/1 [00:00<00:00, 28.84it/s]\u001b[A\n"
     ]
    },
    {
     "name": "stdout",
     "output_type": "stream",
     "text": [
      "Training loss: 0.44009435176849365\n"
     ]
    },
    {
     "name": "stderr",
     "output_type": "stream",
     "text": [
      " 10%|██████████                                                                                           | 10/100 [00:01<00:16,  5.51it/s]"
     ]
    },
    {
     "name": "stdout",
     "output_type": "stream",
     "text": [
      "Val loss: 0.5737425287564596\n"
     ]
    },
    {
     "name": "stderr",
     "output_type": "stream",
     "text": [
      "\n",
      "100%|████████████████████████████████████████████████████████████████████████████████████████████████████████| 1/1 [00:00<00:00, 29.09it/s]\u001b[A\n"
     ]
    },
    {
     "name": "stdout",
     "output_type": "stream",
     "text": [
      "Training loss: 0.4115792214870453\n"
     ]
    },
    {
     "name": "stderr",
     "output_type": "stream",
     "text": [
      " 11%|███████████                                                                                          | 11/100 [00:01<00:16,  5.51it/s]"
     ]
    },
    {
     "name": "stdout",
     "output_type": "stream",
     "text": [
      "Val loss: 0.5667514602343241\n"
     ]
    },
    {
     "name": "stderr",
     "output_type": "stream",
     "text": [
      "\n",
      "100%|████████████████████████████████████████████████████████████████████████████████████████████████████████| 1/1 [00:00<00:00, 29.10it/s]\u001b[A\n"
     ]
    },
    {
     "name": "stdout",
     "output_type": "stream",
     "text": [
      "Training loss: 0.391457736492157\n"
     ]
    },
    {
     "name": "stderr",
     "output_type": "stream",
     "text": [
      "                                                                                                                                           \r"
     ]
    },
    {
     "name": "stdout",
     "output_type": "stream",
     "text": [
      "Val loss: 0.5620646278063456\n",
      "{'accuracy': 0.739, 'f1': 0.0, 'precision': 0.0}\n",
      "26\n",
      "0.22807017543859648\n"
     ]
    },
    {
     "name": "stderr",
     "output_type": "stream",
     "text": [
      "  0%|                                                                                                              | 0/100 [00:00<?, ?it/s]\n",
      "100%|████████████████████████████████████████████████████████████████████████████████████████████████████████| 1/1 [00:00<00:00, 28.88it/s]\u001b[A\n"
     ]
    },
    {
     "name": "stdout",
     "output_type": "stream",
     "text": [
      "Training loss: 0.8021020889282227\n"
     ]
    },
    {
     "name": "stderr",
     "output_type": "stream",
     "text": [
      "  1%|█                                                                                                     | 1/100 [00:00<00:17,  5.63it/s]"
     ]
    },
    {
     "name": "stdout",
     "output_type": "stream",
     "text": [
      "Val loss: 0.7894477248191833\n"
     ]
    },
    {
     "name": "stderr",
     "output_type": "stream",
     "text": [
      "\n",
      "100%|████████████████████████████████████████████████████████████████████████████████████████████████████████| 1/1 [00:00<00:00, 28.58it/s]\u001b[A\n"
     ]
    },
    {
     "name": "stdout",
     "output_type": "stream",
     "text": [
      "Training loss: 0.768395185470581\n"
     ]
    },
    {
     "name": "stderr",
     "output_type": "stream",
     "text": [
      "  2%|██                                                                                                    | 2/100 [00:00<00:17,  5.58it/s]"
     ]
    },
    {
     "name": "stdout",
     "output_type": "stream",
     "text": [
      "Val loss: 0.7659808993339539\n"
     ]
    },
    {
     "name": "stderr",
     "output_type": "stream",
     "text": [
      "\n",
      "100%|████████████████████████████████████████████████████████████████████████████████████████████████████████| 1/1 [00:00<00:00, 28.65it/s]\u001b[A\n"
     ]
    },
    {
     "name": "stdout",
     "output_type": "stream",
     "text": [
      "Training loss: 0.7551445960998535\n"
     ]
    },
    {
     "name": "stderr",
     "output_type": "stream",
     "text": [
      "  3%|███                                                                                                   | 3/100 [00:00<00:17,  5.56it/s]"
     ]
    },
    {
     "name": "stdout",
     "output_type": "stream",
     "text": [
      "Val loss: 0.7495147784550985\n"
     ]
    },
    {
     "name": "stderr",
     "output_type": "stream",
     "text": [
      "\n",
      "100%|████████████████████████████████████████████████████████████████████████████████████████████████████████| 1/1 [00:00<00:00, 28.57it/s]\u001b[A\n"
     ]
    },
    {
     "name": "stdout",
     "output_type": "stream",
     "text": [
      "Training loss: 0.7476880550384521\n"
     ]
    },
    {
     "name": "stderr",
     "output_type": "stream",
     "text": [
      "  4%|████                                                                                                  | 4/100 [00:00<00:17,  5.52it/s]"
     ]
    },
    {
     "name": "stdout",
     "output_type": "stream",
     "text": [
      "Val loss: 0.7323089639345804\n"
     ]
    },
    {
     "name": "stderr",
     "output_type": "stream",
     "text": [
      "\n",
      "100%|████████████████████████████████████████████████████████████████████████████████████████████████████████| 1/1 [00:00<00:00, 28.40it/s]\u001b[A\n"
     ]
    },
    {
     "name": "stdout",
     "output_type": "stream",
     "text": [
      "Training loss: 0.7161085605621338\n"
     ]
    },
    {
     "name": "stderr",
     "output_type": "stream",
     "text": [
      "  5%|█████                                                                                                 | 5/100 [00:00<00:17,  5.50it/s]"
     ]
    },
    {
     "name": "stdout",
     "output_type": "stream",
     "text": [
      "Val loss: 0.7192585269610087\n"
     ]
    },
    {
     "name": "stderr",
     "output_type": "stream",
     "text": [
      "\n",
      "100%|████████████████████████████████████████████████████████████████████████████████████████████████████████| 1/1 [00:00<00:00, 28.19it/s]\u001b[A\n"
     ]
    },
    {
     "name": "stdout",
     "output_type": "stream",
     "text": [
      "Training loss: 0.6988454461097717\n"
     ]
    },
    {
     "name": "stderr",
     "output_type": "stream",
     "text": [
      "  6%|██████                                                                                                | 6/100 [00:01<00:17,  5.49it/s]"
     ]
    },
    {
     "name": "stdout",
     "output_type": "stream",
     "text": [
      "Val loss: 0.7081994414329529\n"
     ]
    },
    {
     "name": "stderr",
     "output_type": "stream",
     "text": [
      "\n",
      "100%|████████████████████████████████████████████████████████████████████████████████████████████████████████| 1/1 [00:00<00:00, 28.28it/s]\u001b[A\n"
     ]
    },
    {
     "name": "stdout",
     "output_type": "stream",
     "text": [
      "Training loss: 0.6768304109573364\n"
     ]
    },
    {
     "name": "stderr",
     "output_type": "stream",
     "text": [
      "  7%|███████▏                                                                                              | 7/100 [00:01<00:16,  5.49it/s]"
     ]
    },
    {
     "name": "stdout",
     "output_type": "stream",
     "text": [
      "Val loss: 0.6978901823361715\n"
     ]
    },
    {
     "name": "stderr",
     "output_type": "stream",
     "text": [
      "\n",
      "100%|████████████████████████████████████████████████████████████████████████████████████████████████████████| 1/1 [00:00<00:00, 28.69it/s]\u001b[A\n"
     ]
    },
    {
     "name": "stdout",
     "output_type": "stream",
     "text": [
      "Training loss: 0.6522276401519775\n"
     ]
    },
    {
     "name": "stderr",
     "output_type": "stream",
     "text": [
      "  8%|████████▏                                                                                             | 8/100 [00:01<00:16,  5.51it/s]"
     ]
    },
    {
     "name": "stdout",
     "output_type": "stream",
     "text": [
      "Val loss: 0.6886941393216451\n"
     ]
    },
    {
     "name": "stderr",
     "output_type": "stream",
     "text": [
      "\n",
      "100%|████████████████████████████████████████████████████████████████████████████████████████████████████████| 1/1 [00:00<00:00, 28.50it/s]\u001b[A\n"
     ]
    },
    {
     "name": "stdout",
     "output_type": "stream",
     "text": [
      "Training loss: 0.6375693678855896\n"
     ]
    },
    {
     "name": "stderr",
     "output_type": "stream",
     "text": [
      "  9%|█████████▏                                                                                            | 9/100 [00:01<00:16,  5.52it/s]"
     ]
    },
    {
     "name": "stdout",
     "output_type": "stream",
     "text": [
      "Val loss: 0.6801459391911825\n"
     ]
    },
    {
     "name": "stderr",
     "output_type": "stream",
     "text": [
      "\n",
      "100%|████████████████████████████████████████████████████████████████████████████████████████████████████████| 1/1 [00:00<00:00, 29.00it/s]\u001b[A\n"
     ]
    },
    {
     "name": "stdout",
     "output_type": "stream",
     "text": [
      "Training loss: 0.6156437397003174\n"
     ]
    },
    {
     "name": "stderr",
     "output_type": "stream",
     "text": [
      " 10%|██████████                                                                                           | 10/100 [00:01<00:16,  5.53it/s]"
     ]
    },
    {
     "name": "stdout",
     "output_type": "stream",
     "text": [
      "Val loss: 0.6716479857762655\n"
     ]
    },
    {
     "name": "stderr",
     "output_type": "stream",
     "text": [
      "\n",
      "100%|████████████████████████████████████████████████████████████████████████████████████████████████████████| 1/1 [00:00<00:00, 28.73it/s]\u001b[A\n"
     ]
    },
    {
     "name": "stdout",
     "output_type": "stream",
     "text": [
      "Training loss: 0.5815190076828003\n"
     ]
    },
    {
     "name": "stderr",
     "output_type": "stream",
     "text": [
      " 11%|███████████                                                                                          | 11/100 [00:02<00:16,  5.32it/s]"
     ]
    },
    {
     "name": "stdout",
     "output_type": "stream",
     "text": [
      "Val loss: 0.6635020772616068\n"
     ]
    },
    {
     "name": "stderr",
     "output_type": "stream",
     "text": [
      "\n",
      "100%|████████████████████████████████████████████████████████████████████████████████████████████████████████| 1/1 [00:00<00:00, 28.75it/s]\u001b[A\n"
     ]
    },
    {
     "name": "stdout",
     "output_type": "stream",
     "text": [
      "Training loss: 0.5733212828636169\n"
     ]
    },
    {
     "name": "stderr",
     "output_type": "stream",
     "text": [
      " 12%|████████████                                                                                         | 12/100 [00:02<00:16,  5.38it/s]"
     ]
    },
    {
     "name": "stdout",
     "output_type": "stream",
     "text": [
      "Val loss: 0.6559034983317057\n"
     ]
    },
    {
     "name": "stderr",
     "output_type": "stream",
     "text": [
      "\n",
      "100%|████████████████████████████████████████████████████████████████████████████████████████████████████████| 1/1 [00:00<00:00, 28.71it/s]\u001b[A\n"
     ]
    },
    {
     "name": "stdout",
     "output_type": "stream",
     "text": [
      "Training loss: 0.5505543947219849\n"
     ]
    },
    {
     "name": "stderr",
     "output_type": "stream",
     "text": [
      " 13%|█████████████▏                                                                                       | 13/100 [00:02<00:16,  5.43it/s]"
     ]
    },
    {
     "name": "stdout",
     "output_type": "stream",
     "text": [
      "Val loss: 0.6482730507850647\n"
     ]
    },
    {
     "name": "stderr",
     "output_type": "stream",
     "text": [
      "\n",
      "100%|████████████████████████████████████████████████████████████████████████████████████████████████████████| 1/1 [00:00<00:00, 27.71it/s]\u001b[A\n"
     ]
    },
    {
     "name": "stdout",
     "output_type": "stream",
     "text": [
      "Training loss: 0.5325799584388733\n"
     ]
    },
    {
     "name": "stderr",
     "output_type": "stream",
     "text": [
      " 14%|██████████████▏                                                                                      | 14/100 [00:02<00:15,  5.46it/s]"
     ]
    },
    {
     "name": "stdout",
     "output_type": "stream",
     "text": [
      "Val loss: 0.6405714948972067\n"
     ]
    },
    {
     "name": "stderr",
     "output_type": "stream",
     "text": [
      "\n",
      "100%|████████████████████████████████████████████████████████████████████████████████████████████████████████| 1/1 [00:00<00:00, 28.71it/s]\u001b[A\n"
     ]
    },
    {
     "name": "stdout",
     "output_type": "stream",
     "text": [
      "Training loss: 0.5122004747390747\n"
     ]
    },
    {
     "name": "stderr",
     "output_type": "stream",
     "text": [
      " 15%|███████████████▏                                                                                     | 15/100 [00:02<00:15,  5.50it/s]"
     ]
    },
    {
     "name": "stdout",
     "output_type": "stream",
     "text": [
      "Val loss: 0.6338875691095988\n"
     ]
    },
    {
     "name": "stderr",
     "output_type": "stream",
     "text": [
      "\n",
      "100%|████████████████████████████████████████████████████████████████████████████████████████████████████████| 1/1 [00:00<00:00, 28.82it/s]\u001b[A\n"
     ]
    },
    {
     "name": "stdout",
     "output_type": "stream",
     "text": [
      "Training loss: 0.48182496428489685\n"
     ]
    },
    {
     "name": "stderr",
     "output_type": "stream",
     "text": [
      " 16%|████████████████▏                                                                                    | 16/100 [00:02<00:15,  5.52it/s]"
     ]
    },
    {
     "name": "stdout",
     "output_type": "stream",
     "text": [
      "Val loss: 0.6275112628936768\n"
     ]
    },
    {
     "name": "stderr",
     "output_type": "stream",
     "text": [
      "\n",
      "100%|████████████████████████████████████████████████████████████████████████████████████████████████████████| 1/1 [00:00<00:00, 28.43it/s]\u001b[A\n"
     ]
    },
    {
     "name": "stdout",
     "output_type": "stream",
     "text": [
      "Training loss: 0.45885351300239563\n"
     ]
    },
    {
     "name": "stderr",
     "output_type": "stream",
     "text": [
      " 17%|█████████████████▏                                                                                   | 17/100 [00:03<00:15,  5.50it/s]"
     ]
    },
    {
     "name": "stdout",
     "output_type": "stream",
     "text": [
      "Val loss: 0.6216123501459757\n"
     ]
    },
    {
     "name": "stderr",
     "output_type": "stream",
     "text": [
      "\n",
      "100%|████████████████████████████████████████████████████████████████████████████████████████████████████████| 1/1 [00:00<00:00, 28.50it/s]\u001b[A\n"
     ]
    },
    {
     "name": "stdout",
     "output_type": "stream",
     "text": [
      "Training loss: 0.4472150206565857\n"
     ]
    },
    {
     "name": "stderr",
     "output_type": "stream",
     "text": [
      "                                                                                                                                           "
     ]
    },
    {
     "name": "stdout",
     "output_type": "stream",
     "text": [
      "Val loss: 0.6168296138445536\n",
      "{'accuracy': 0.75, 'f1': 0.08, 'precision': 0.2}\n"
     ]
    },
    {
     "name": "stderr",
     "output_type": "stream",
     "text": [
      "  3%|██▋                                                                                                   | 5/192 [00:01<00:58,  3.19it/s]\n"
     ]
    },
    {
     "data": {
      "application/vnd.jupyter.widget-view+json": {
       "model_id": "3e14a66214764504b20b16ae6a16cd61",
       "version_major": 2,
       "version_minor": 0
      },
      "text/plain": [
       "  0%|          | 0/29 [00:00<?, ?it/s]"
      ]
     },
     "metadata": {},
     "output_type": "display_data"
    },
    {
     "name": "stdout",
     "output_type": "stream",
     "text": [
      "Iceland has a lot of natural wonders to observe if that's your thing, stuff like sand and lava fields, mountains, and glaciers.\n",
      "1. No\n",
      "2. No\n",
      "3. No\n",
      "4. No\n",
      "Celan Beausoleil, 31, Oakland, California Beausoleil is a social worker and has had an “on and off, more off than on” relationship with Facebook.\n",
      "1. No\n",
      "2. No\n",
      "3. No\n",
      "4. No\n",
      "Cooper's real name is Dan Cooper, but his legend began as D.B.\n",
      "1. No\n",
      "2. No\n",
      "3. No\n",
      "4. No\n",
      "Sandy's impact: State by state\n",
      "Romney has made political dysfunction in Washington a target of his campaign, blaming Obama for what he calls failed leadership in being unable to forge a deficit reduction deal with Republicans.\n",
      "1. No\n",
      "2. No\n",
      "3. No\n",
      "4. No\n",
      "Inland provinces and cities, Hong Kong and Macao, as well as many countries and regions in the world have an exhibition area of their own to display their unique flowers and plants.\n",
      "1. No\n",
      "2. No\n",
      "3. No\n",
      "4. No\n",
      "The small scale behind the iguanas ears that look like spokes are called tuberculate scales.\n",
      "1. No\n",
      "2. No\n",
      "3. No\n",
      "4. No\n",
      "The dog was the first speciesknown to be domesticated and was purposely bred over the millenia for numerous behaviors such as sensory as well as physical attributes.\n",
      "1. No\n",
      "2. No\n",
      "3. No\n",
      "4. No\n",
      "Last year when I set off the firecrackers, you covered both your ears and hid behind your mother?\n",
      "1. No\n",
      "2. No\n",
      "3. No\n",
      "4. No\n",
      "You had probably a structural problem with your teeth, or maybe it was only cosmetic\n",
      "1. No\n",
      "2. No\n",
      "3. No\n",
      "4. No\n",
      "Good, Europeans wore clothing coloured with the vegetale dye woad until it was replaced by the finer indigo from america\n",
      "1. No\n",
      "2. No\n",
      "3. No\n",
      "4. No\n",
      "Every few hours she turns on the water and washes her hands.\n",
      "1. No\n",
      "2. No\n",
      "3. No\n",
      "4. No\n",
      "I'm not familiar with the show, but the first mtv reality show i saw was the real world, it changed the face tv forever\n",
      "1. No\n",
      "2. No\n",
      "3. No\n",
      "4. No\n",
      "The point of the comparison is that it is impossible to ignore the fact that Obama faces similar challenges, as did Johnson when the Americanization of Vietnam began in the spring of 1965.\n",
      "1. No\n",
      "2. No\n",
      "3. No\n",
      "4. No\n",
      "Even the ancient Egyptians used yellow in the paintings in their tombs to represent gold, or as the skin color for the people represented in the art.\n",
      "1. No\n",
      "2. No\n",
      "3. No\n",
      "4. No\n",
      "It has a large, pointed, spiral horn on its forehead.\n",
      "1. No\n",
      "2. No\n",
      "3. No\n",
      "4. No\n",
      "Even heard that if you have a deficiency of it, it can cause hair thinning on the face.\n",
      "1. No\n",
      "2. No\n",
      "3. No\n",
      "4. No\n",
      "It seems that football was traced back over 2000 years in China, Greece, Rome, and other parts of Central America.\n",
      "1. No\n",
      "2. No\n",
      "3. No\n",
      "4. No\n",
      "O wow, is it more of a local museum or one of the larger ones they have in major cities?\n",
      "1. No\n",
      "2. No\n",
      "3. No\n",
      "4. No\n",
      "Suspect's family responds\n",
      "Ciancia's family, in a statement read Monday afternoon by attorney John Jordan in New Jersey, said they were shocked and numbed by the tragic events of last Friday.\n",
      "1. No\n",
      "2. No\n",
      "3. No\n",
      "4. No\n",
      "In front of the tower is Central Park, where Cockrell holds his popular walk and talk therapy sessions.\n",
      "1. No\n",
      "2. No\n",
      "3. No\n",
      "4. No\n",
      "In the CFL, the field is longer and the end zones are a bit deeper, but other then that not much!\n",
      "1. No\n",
      "2. No\n",
      "3. No\n",
      "4. No\n",
      "Yes it can be but they have sworn an oath to protect and serve the citizen in the country.\n",
      "1. No\n",
      "2. No\n",
      "3. No\n",
      "4. No\n",
      "﻿Scientists have implanted a false memory in the brains of mice in an experiment that they hope will shed light on the well-documented phenomenon whereby people ‘remember’ events or experiences that have never happened.\n",
      "1. No\n",
      "2. No\n",
      "3. No\n",
      "4. No\n",
      "it originated in france and russia so i think they have the best dancers\n",
      "1. No\n",
      "2. No\n",
      "3. No\n",
      "4. No\n",
      "It reemerged somewhat during the Renaissance.\n",
      "1. No\n",
      "2. No\n",
      "3. No\n",
      "4. No\n",
      "In America they are almost always serviced with ketchup but when I was in Europe most peope had them with vinegar and mayonnaise\n",
      "1. No\n",
      "2. No\n",
      "3. No\n",
      "4. No\n",
      "0.0\n",
      "26\n",
      "0.18571428571428572\n"
     ]
    },
    {
     "name": "stderr",
     "output_type": "stream",
     "text": [
      "  0%|                                                                                                              | 0/100 [00:00<?, ?it/s]\n",
      "100%|████████████████████████████████████████████████████████████████████████████████████████████████████████| 1/1 [00:00<00:00, 20.98it/s]\u001b[A"
     ]
    },
    {
     "name": "stdout",
     "output_type": "stream",
     "text": [
      "Training loss: 0.7869766354560852\n"
     ]
    },
    {
     "name": "stderr",
     "output_type": "stream",
     "text": [
      "\n",
      "  1%|█                                                                                                     | 1/100 [00:00<00:24,  4.03it/s]"
     ]
    },
    {
     "name": "stdout",
     "output_type": "stream",
     "text": [
      "Val loss: 0.7578328102827072\n"
     ]
    },
    {
     "name": "stderr",
     "output_type": "stream",
     "text": [
      "\n",
      "100%|████████████████████████████████████████████████████████████████████████████████████████████████████████| 1/1 [00:00<00:00, 23.91it/s]\u001b[A"
     ]
    },
    {
     "name": "stdout",
     "output_type": "stream",
     "text": [
      "Training loss: 0.7580040693283081\n"
     ]
    },
    {
     "name": "stderr",
     "output_type": "stream",
     "text": [
      "\n",
      "  2%|██                                                                                                    | 2/100 [00:00<00:22,  4.27it/s]"
     ]
    },
    {
     "name": "stdout",
     "output_type": "stream",
     "text": [
      "Val loss: 0.7328717708587646\n"
     ]
    },
    {
     "name": "stderr",
     "output_type": "stream",
     "text": [
      "\n",
      "100%|████████████████████████████████████████████████████████████████████████████████████████████████████████| 1/1 [00:00<00:00, 24.45it/s]\u001b[A"
     ]
    },
    {
     "name": "stdout",
     "output_type": "stream",
     "text": [
      "Training loss: 0.7295297980308533\n"
     ]
    },
    {
     "name": "stderr",
     "output_type": "stream",
     "text": [
      "\n",
      "  3%|███                                                                                                   | 3/100 [00:00<00:22,  4.39it/s]"
     ]
    },
    {
     "name": "stdout",
     "output_type": "stream",
     "text": [
      "Val loss: 0.7083621323108673\n"
     ]
    },
    {
     "name": "stderr",
     "output_type": "stream",
     "text": [
      "\n",
      "100%|████████████████████████████████████████████████████████████████████████████████████████████████████████| 1/1 [00:00<00:00, 24.33it/s]\u001b[A"
     ]
    },
    {
     "name": "stdout",
     "output_type": "stream",
     "text": [
      "Training loss: 0.6932495832443237\n"
     ]
    },
    {
     "name": "stderr",
     "output_type": "stream",
     "text": [
      "\n",
      "  4%|████                                                                                                  | 4/100 [00:00<00:21,  4.45it/s]"
     ]
    },
    {
     "name": "stdout",
     "output_type": "stream",
     "text": [
      "Val loss: 0.6835869997739792\n"
     ]
    },
    {
     "name": "stderr",
     "output_type": "stream",
     "text": [
      "\n",
      "100%|████████████████████████████████████████████████████████████████████████████████████████████████████████| 1/1 [00:00<00:00, 24.32it/s]\u001b[A\n"
     ]
    },
    {
     "name": "stdout",
     "output_type": "stream",
     "text": [
      "Training loss: 0.6793578863143921\n"
     ]
    },
    {
     "name": "stderr",
     "output_type": "stream",
     "text": [
      "  5%|█████                                                                                                 | 5/100 [00:01<00:21,  4.47it/s]"
     ]
    },
    {
     "name": "stdout",
     "output_type": "stream",
     "text": [
      "Val loss: 0.6614506542682648\n"
     ]
    },
    {
     "name": "stderr",
     "output_type": "stream",
     "text": [
      "\n",
      "100%|████████████████████████████████████████████████████████████████████████████████████████████████████████| 1/1 [00:00<00:00, 24.02it/s]\u001b[A\n"
     ]
    },
    {
     "name": "stdout",
     "output_type": "stream",
     "text": [
      "Training loss: 0.6528214812278748\n"
     ]
    },
    {
     "name": "stderr",
     "output_type": "stream",
     "text": [
      "  6%|██████                                                                                                | 6/100 [00:01<00:21,  4.47it/s]"
     ]
    },
    {
     "name": "stdout",
     "output_type": "stream",
     "text": [
      "Val loss: 0.6440643668174744\n"
     ]
    },
    {
     "name": "stderr",
     "output_type": "stream",
     "text": [
      "\n",
      "100%|████████████████████████████████████████████████████████████████████████████████████████████████████████| 1/1 [00:00<00:00, 23.78it/s]\u001b[A\n"
     ]
    },
    {
     "name": "stdout",
     "output_type": "stream",
     "text": [
      "Training loss: 0.616303563117981\n"
     ]
    },
    {
     "name": "stderr",
     "output_type": "stream",
     "text": [
      "  7%|███████▏                                                                                              | 7/100 [00:01<00:20,  4.46it/s]"
     ]
    },
    {
     "name": "stdout",
     "output_type": "stream",
     "text": [
      "Val loss: 0.6289275884628296\n"
     ]
    },
    {
     "name": "stderr",
     "output_type": "stream",
     "text": [
      "\n",
      "100%|████████████████████████████████████████████████████████████████████████████████████████████████████████| 1/1 [00:00<00:00, 23.91it/s]\u001b[A\n"
     ]
    },
    {
     "name": "stdout",
     "output_type": "stream",
     "text": [
      "Training loss: 0.5930633544921875\n"
     ]
    },
    {
     "name": "stderr",
     "output_type": "stream",
     "text": [
      "  8%|████████▏                                                                                             | 8/100 [00:01<00:20,  4.47it/s]"
     ]
    },
    {
     "name": "stdout",
     "output_type": "stream",
     "text": [
      "Val loss: 0.6165099442005157\n"
     ]
    },
    {
     "name": "stderr",
     "output_type": "stream",
     "text": [
      "\n",
      "100%|████████████████████████████████████████████████████████████████████████████████████████████████████████| 1/1 [00:00<00:00, 24.07it/s]\u001b[A"
     ]
    },
    {
     "name": "stdout",
     "output_type": "stream",
     "text": [
      "Training loss: 0.5751186609268188\n"
     ]
    },
    {
     "name": "stderr",
     "output_type": "stream",
     "text": [
      "\n",
      "  9%|█████████▏                                                                                            | 9/100 [00:02<00:20,  4.48it/s]"
     ]
    },
    {
     "name": "stdout",
     "output_type": "stream",
     "text": [
      "Val loss: 0.604894295334816\n"
     ]
    },
    {
     "name": "stderr",
     "output_type": "stream",
     "text": [
      "\n",
      "100%|████████████████████████████████████████████████████████████████████████████████████████████████████████| 1/1 [00:00<00:00, 24.04it/s]\u001b[A\n"
     ]
    },
    {
     "name": "stdout",
     "output_type": "stream",
     "text": [
      "Training loss: 0.5419424772262573\n"
     ]
    },
    {
     "name": "stderr",
     "output_type": "stream",
     "text": [
      " 10%|██████████                                                                                           | 10/100 [00:02<00:20,  4.48it/s]"
     ]
    },
    {
     "name": "stdout",
     "output_type": "stream",
     "text": [
      "Val loss: 0.5945419818162918\n"
     ]
    },
    {
     "name": "stderr",
     "output_type": "stream",
     "text": [
      "\n",
      "100%|████████████████████████████████████████████████████████████████████████████████████████████████████████| 1/1 [00:00<00:00, 23.89it/s]\u001b[A\n"
     ]
    },
    {
     "name": "stdout",
     "output_type": "stream",
     "text": [
      "Training loss: 0.519914984703064\n"
     ]
    },
    {
     "name": "stderr",
     "output_type": "stream",
     "text": [
      " 11%|███████████                                                                                          | 11/100 [00:02<00:19,  4.48it/s]"
     ]
    },
    {
     "name": "stdout",
     "output_type": "stream",
     "text": [
      "Val loss: 0.5854103118181229\n"
     ]
    },
    {
     "name": "stderr",
     "output_type": "stream",
     "text": [
      "\n",
      "100%|████████████████████████████████████████████████████████████████████████████████████████████████████████| 1/1 [00:00<00:00, 23.81it/s]\u001b[A\n"
     ]
    },
    {
     "name": "stdout",
     "output_type": "stream",
     "text": [
      "Training loss: 0.505628228187561\n"
     ]
    },
    {
     "name": "stderr",
     "output_type": "stream",
     "text": [
      " 12%|████████████                                                                                         | 12/100 [00:02<00:19,  4.47it/s]"
     ]
    },
    {
     "name": "stdout",
     "output_type": "stream",
     "text": [
      "Val loss: 0.5769001990556717\n"
     ]
    },
    {
     "name": "stderr",
     "output_type": "stream",
     "text": [
      "\n",
      "100%|████████████████████████████████████████████████████████████████████████████████████████████████████████| 1/1 [00:00<00:00, 23.85it/s]\u001b[A\n"
     ]
    },
    {
     "name": "stdout",
     "output_type": "stream",
     "text": [
      "Training loss: 0.49681487679481506\n"
     ]
    },
    {
     "name": "stderr",
     "output_type": "stream",
     "text": [
      " 13%|█████████████▏                                                                                       | 13/100 [00:02<00:19,  4.47it/s]"
     ]
    },
    {
     "name": "stdout",
     "output_type": "stream",
     "text": [
      "Val loss: 0.5693765580654144\n"
     ]
    },
    {
     "name": "stderr",
     "output_type": "stream",
     "text": [
      "\n",
      "100%|████████████████████████████████████████████████████████████████████████████████████████████████████████| 1/1 [00:00<00:00, 24.14it/s]\u001b[A"
     ]
    },
    {
     "name": "stdout",
     "output_type": "stream",
     "text": [
      "Training loss: 0.4602067172527313\n"
     ]
    },
    {
     "name": "stderr",
     "output_type": "stream",
     "text": [
      "\n",
      " 14%|██████████████▏                                                                                      | 14/100 [00:03<00:19,  4.48it/s]"
     ]
    },
    {
     "name": "stdout",
     "output_type": "stream",
     "text": [
      "Val loss: 0.562605157494545\n"
     ]
    },
    {
     "name": "stderr",
     "output_type": "stream",
     "text": [
      "\n",
      "100%|████████████████████████████████████████████████████████████████████████████████████████████████████████| 1/1 [00:00<00:00, 24.17it/s]\u001b[A\n"
     ]
    },
    {
     "name": "stdout",
     "output_type": "stream",
     "text": [
      "Training loss: 0.4416124224662781\n"
     ]
    },
    {
     "name": "stderr",
     "output_type": "stream",
     "text": [
      " 15%|███████████████▏                                                                                     | 15/100 [00:03<00:18,  4.49it/s]"
     ]
    },
    {
     "name": "stdout",
     "output_type": "stream",
     "text": [
      "Val loss: 0.5562745034694672\n"
     ]
    },
    {
     "name": "stderr",
     "output_type": "stream",
     "text": [
      "\n",
      "100%|████████████████████████████████████████████████████████████████████████████████████████████████████████| 1/1 [00:00<00:00, 23.73it/s]\u001b[A\n"
     ]
    },
    {
     "name": "stdout",
     "output_type": "stream",
     "text": [
      "Training loss: 0.4142369329929352\n"
     ]
    },
    {
     "name": "stderr",
     "output_type": "stream",
     "text": [
      " 16%|████████████████▏                                                                                    | 16/100 [00:03<00:18,  4.47it/s]"
     ]
    },
    {
     "name": "stdout",
     "output_type": "stream",
     "text": [
      "Val loss: 0.550464391708374\n"
     ]
    },
    {
     "name": "stderr",
     "output_type": "stream",
     "text": [
      "\n",
      "100%|████████████████████████████████████████████████████████████████████████████████████████████████████████| 1/1 [00:00<00:00, 23.84it/s]\u001b[A\n"
     ]
    },
    {
     "name": "stdout",
     "output_type": "stream",
     "text": [
      "Training loss: 0.3968885540962219\n"
     ]
    },
    {
     "name": "stderr",
     "output_type": "stream",
     "text": [
      " 17%|█████████████████▏                                                                                   | 17/100 [00:03<00:18,  4.46it/s]"
     ]
    },
    {
     "name": "stdout",
     "output_type": "stream",
     "text": [
      "Val loss: 0.5452017784118652\n"
     ]
    },
    {
     "name": "stderr",
     "output_type": "stream",
     "text": [
      "\n",
      "100%|████████████████████████████████████████████████████████████████████████████████████████████████████████| 1/1 [00:00<00:00, 23.97it/s]\u001b[A"
     ]
    },
    {
     "name": "stdout",
     "output_type": "stream",
     "text": [
      "Training loss: 0.3734930455684662\n"
     ]
    },
    {
     "name": "stderr",
     "output_type": "stream",
     "text": [
      "\n",
      "                                                                                                                                           \r"
     ]
    },
    {
     "name": "stdout",
     "output_type": "stream",
     "text": [
      "Val loss: 0.5402728989720345\n",
      "{'accuracy': 0.805, 'f1': 0.083, 'precision': 0.2}\n"
     ]
    },
    {
     "name": "stderr",
     "output_type": "stream",
     "text": [
      "  7%|███████▎                                                                                             | 14/192 [00:03<00:49,  3.58it/s]\n"
     ]
    },
    {
     "data": {
      "application/vnd.jupyter.widget-view+json": {
       "model_id": "e697532a251847c884a96e67e2f8f84a",
       "version_major": 2,
       "version_minor": 0
      },
      "text/plain": [
       "  0%|          | 0/26 [00:00<?, ?it/s]"
      ]
     },
     "metadata": {},
     "output_type": "display_data"
    },
    {
     "name": "stdout",
     "output_type": "stream",
     "text": [
      "It started in the Middle Ages actually, in England, Scotland, France and the Netherlands.\n",
      "1. No\n",
      "2. No\n",
      "3. No\n",
      "4. No\n",
      "We all agree that a woman at the head of a group of men is no bad thing.” \n",
      "The new manager of Clermont Foot 63, whose average home crowd at the stadium at Clermont- Ferrand in the Auvergne region of south-central France is around 3,800, is a former talent spotter for the Scottish Premiership side Celtic.\n",
      "1. No\n",
      "2. No\n",
      "3. No\n",
      "4. No\n",
      "I never knew it came from England, Did they also use the same tennis rackets and balls as we do today?\n",
      "1. No\n",
      "2. No\n",
      "3. No\n",
      "4. No\n",
      "If I could visit any of the Disney parks around the world I would want to visit the one in Paris.\n",
      "1. No\n",
      "2. No\n",
      "3. No\n",
      "4. No\n",
      "I was rooting for Sweden, but France played well!\n",
      "1. No\n",
      "2. No\n",
      "3. No\n",
      "4. No\n",
      "If it's so broad, won't most boards be empty and have no content?\n",
      "1. No\n",
      "2. No\n",
      "3. Yes\n",
      "4. No\n",
      "Well, since you are Chinese-Canadian and only speak English and French well; how do native Chinese treat you?\n",
      "1. No\n",
      "2. No\n",
      "3. No\n",
      "4. No\n",
      "Rogue trader Jerome Kerviel cost his French bank, Societe Generale, almost $6 billion, and was sentenced to three years in prison last year.\n",
      "1. No\n",
      "2. No\n",
      "3. No\n",
      "4. No\n",
      "Soccer is the most popular sport on earth, more than 250 million people play and yet somehow the French are the best!\n",
      "1. No\n",
      "2. No\n",
      "3. No\n",
      "4. No\n",
      "But where there was joy now sits a vast settlement of people left without loved ones, without homes, without life's belongings.\n",
      "1. No\n",
      "2. No\n",
      "3. Yes\n",
      "4. No\n",
      "Britain, France and NATO also blame Syrian President Bashar al-Assad for the horror in a Damascus suburb last month.\n",
      "1. No\n",
      "2. No\n",
      "3. No\n",
      "4. No\n",
      "Does he bat right handed or left handed?\n",
      "1. No\n",
      "2. No\n",
      "3. No\n",
      "4. No\n",
      "Coffee can be presented as espresso, cafe latte, French press, and more.\n",
      "1. No\n",
      "2. No\n",
      "3. No\n",
      "4. No\n",
      "The former president of Germany’s constitutional court, Hans-Jürgen Papier, told Germany’s Frankfurter Allgemeine Zeitung that restrictions on cash were at odds with individual freedom, while tabloid newspaper Bild has launched a petition in defence of paper money, including the €500 note – “hands off my cash ”.\n",
      "1. No\n",
      "2. No\n",
      "3. No\n",
      "4. No\n",
      "Its the french word meaning small hook.\n",
      "1. No\n",
      "2. No\n",
      "3. No\n",
      "4. No\n",
      "I mean you won't be in the car by yourself all the time.\n",
      "1. No\n",
      "2. No\n",
      "3. Yes\n",
      "4. No\n",
      "Some 640 athletes from 20 countries are taking part in the event, the biggest major international competition before London 2012, according to Lisa Wainwright, chief executive of Volleyball England, the sport's national governing body.\n",
      "1. No\n",
      "2. No\n",
      "3. No\n",
      "4. No\n",
      "I’d like to nominate everyone, everywhere, who has more than they need, to donate what they can to the people who need it most … because that is what charity is about, not putting yourself through mild discomfort with a bucket of icy water.” \n",
      "Another criticism has been that small charities won’t be able to cope with the extra cash, but the MND Association rejected this.\n",
      "1. No\n",
      "2. No\n",
      "3. No\n",
      "4. No\n",
      "After getting out of the ladies room, I went to the cafe and I left my suitcase under the table.\n",
      "1. No\n",
      "2. No\n",
      "3. No\n",
      "4. No\n",
      "Well, he has a class this afternoon from 2:30 to 4:00, and he won't be able to make it.\n",
      "1. No\n",
      "2. No\n",
      "3. Yes\n",
      "4. No\n",
      "It stands for the National Association for Stock Car Auto Racing, and Bill France Sr. founded it in 1948!\n",
      "1. No\n",
      "2. No\n",
      "3. No\n",
      "4. No\n",
      "Yea but flights can still be a bit of cash, is the word travel based off a french word?\n",
      "1. No\n",
      "2. No\n",
      "3. No\n",
      "4. No\n",
      "Not everyone thinks Japan is beautiful, but to me its beauty is breathtaking.You feel the same way about France, don't you?\n",
      "1. No\n",
      "2. No\n",
      "3. No\n",
      "4. No\n",
      "I think i want mine french tipped .\n",
      "1. No\n",
      "2. No\n",
      "3. No\n",
      "4. No\n",
      "I really want an A, but.\n",
      "1. No\n",
      "2. No\n",
      "3. No\n",
      "4. No\n",
      "I won't go any lower than $ 1050.\n",
      "1. No\n",
      "2. No\n",
      "3. Yes\n",
      "4. No\n",
      "0.0\n",
      "FORM: 'NOT ALL', 'NOT EVERY': Can use 'not with indefinite pronouns 'everyone' and 'everything' and determiners 'every', 'all'.\n",
      "    Not everyone likes sports or music. \n",
      "\n",
      "Not everything was as good as we expected. \n",
      "\n",
      "Not all students, though, can attend the centre as it is not always open, and their lessons finish at 5 pm, the closing time of the centre. \n",
      "\n",
      "Not all of us have got the fighting spirit to visit the gym regularly, but many of us would like to have a healthy look. \n",
      "\n",
      "Not every cyclist is a danger to the public as most of them obey all rules and respect other road users.\n",
      "['Not everyone', 'Not everything', 'Not all', 'Not all of', 'Not every']\n",
      "1. Does the sentence use the word \"not\"?\n",
      "2. Is \"not\" followed by an indefinite pronoun such as \"everyone\" or \"everything\"?\n",
      "3. Alternatively, is \"not\" followed by a determiner such as \"every\" or \"all\"?\n",
      "4. Does the sentence convey a negation or a negative statement?\n",
      "5. Is the sentence grammatically correct and does it make logical sense?\n"
     ]
    },
    {
     "data": {
      "application/vnd.jupyter.widget-view+json": {
       "model_id": "dc256417925a413c9aec33f702e26bee",
       "version_major": 2,
       "version_minor": 0
      },
      "text/plain": [
       "  0%|          | 0/5 [00:00<?, ?it/s]"
      ]
     },
     "metadata": {},
     "output_type": "display_data"
    },
    {
     "name": "stdout",
     "output_type": "stream",
     "text": [
      "Not everyone likes sports or music. \n",
      "1. Yes\n",
      "2. Yes\n",
      "3. No\n",
      "4. Yes\n",
      "5. Yes\n",
      "Not everything was as good as we expected. \n",
      "1. Yes\n",
      "2. Yes\n",
      "3. No\n",
      "4. Yes\n",
      "5. Yes\n",
      "Not all students, though, can attend the centre as it is not always open, and their lessons finish at 5 pm, the closing time of the centre. \n",
      "1. Yes\n",
      "2. No\n",
      "3. Yes\n",
      "4. Yes\n",
      "5. Yes\n",
      "Not all of us have got the fighting spirit to visit the gym regularly, but many of us would like to have a healthy look. \n",
      "1. Yes\n",
      "2. No\n",
      "3. Yes\n",
      "4. Yes\n",
      "5. Yes\n",
      "Not every cyclist is a danger to the public as most of them obey all rules and respect other road users.\n",
      "1. Yes\n",
      "2. No\n",
      "3. Yes\n",
      "4. Yes\n",
      "5. Yes\n",
      "FORM/USE: 'NOT ONLY ... (BUT) ALSO' WITH INVERSION: Can use auxiliary 'do' + inverted subject after 'not only', to give focus.\n",
      "    Not only was it in a wonderful location, with extraordinary views, but it was also very accessible and the shops were really near. \n",
      "\n",
      "Not only do they have the biggest turnover overall, they also managed to increase it constantly from 2000 to 2002.\n",
      "['Not only', 'do', 'does', 'did', 'was', 'were', 'is', 'are', 'has', 'have', 'had', 'but also', 'but']\n",
      "1. Does the sentence contain the phrase \"not only\"?\n",
      "2. Is there an auxiliary verb (e.g., do, does, did, was, were) immediately following \"not only\"?\n",
      "3. Is the subject inverted (i.e., placed after the auxiliary verb) following \"not only\"?\n",
      "4. Does the sentence include a corresponding \"but also\" or \"also\" to complete the structure?\n",
      "5. Does the sentence provide additional information or focus after \"but also\" or \"also\"?\n"
     ]
    },
    {
     "data": {
      "application/vnd.jupyter.widget-view+json": {
       "model_id": "6c6c65bbd9ed4aabacdb9291095dcf75",
       "version_major": 2,
       "version_minor": 0
      },
      "text/plain": [
       "  0%|          | 0/2 [00:00<?, ?it/s]"
      ]
     },
     "metadata": {},
     "output_type": "display_data"
    },
    {
     "name": "stdout",
     "output_type": "stream",
     "text": [
      "Not only was it in a wonderful location, with extraordinary views, but it was also very accessible and the shops were really near. \n",
      "1. Yes\n",
      "2. Yes\n",
      "3. Yes\n",
      "4. Yes\n",
      "5. Yes\n",
      "Not only do they have the biggest turnover overall, they also managed to increase it constantly from 2000 to 2002.\n",
      "1. Yes\n",
      "2. Yes\n",
      "3. Yes\n",
      "4. Yes\n",
      "5. Yes\n"
     ]
    },
    {
     "data": {
      "application/vnd.jupyter.widget-view+json": {
       "model_id": "171d02e8027a4cb6a5a4eb9d0bc3d812",
       "version_major": 2,
       "version_minor": 0
      },
      "text/plain": [
       "  0%|          | 0/451036 [00:00<?, ?it/s]"
      ]
     },
     "metadata": {},
     "output_type": "display_data"
    },
    {
     "name": "stdout",
     "output_type": "stream",
     "text": [
      "['Benedict’s own account of his reasons makes it clear that he took into account not only his physical, but also his psychological condition: “In order to govern the bark of Saint Peter and proclaim the Gospel, both strength of mind and body are necessary, strength which in the last few months has deteriorated in me to the extent that I have had to recognize my incapacity to adequately fulfil the ministry entrusted to me.” Other theories will no doubt swirl around the Vatican in the days and weeks ahead, just as they did following the death of Pope John Paul I in 1978, 33 days after his election.', \"I looked within our industry to see who were considered living legends of choreography, and when I looked within Russia, I realized that we did n't have choreographers who had the ability to not just choreograph, but also head the company, he said.\", 'Not only did they have bats and gloves, but also equipment for all kinds of sports.', 'Then, because Socrates wants not only to show that it is always better to be just but also to convince Glaucon and Adeimantus of this point, and because Socrates’ proofs are opposed by the teachings of poets, he bolsters his case in Book Ten by indicting the poets’ claims to represent the truth and by offering a new myth that is consonant with his proofs.', 'This automobile is just right for your needs because not only is it compact for ease in city driving, but also, it has many safety features.', 'And not only that the people are friendly, but also the food is delicious, not to mention cheap.', 'You are very right but disappointment does not only let you down but also entitles other factors.', 'Companies are working to develop technology that will enable a vehicle to tell traffic control systems not only that it is present but also where it is going and how fast it is travelling.', 'As Janaway (2009: 52) observes, a great many different kinds of attitude enter these accounts (including not only the standard beliefs and desires of current-day moral psychology, but also “wills”, feelings, sensations, moods, imaginings, memories, valuations, convictions, and more), but arguably the core attitudes that do the most work for him are drives and affects.', 'Lynch said: “The Department of Justice is committed to ending the rampant corruption we have described amidst the leadership of international football – not only because of the scale of the schemes alleged earlier and today, or the breadth of the operation required to sustain such corruption, but also because of the affront to international principles that this behaviour represents.” \\nThe acting FIFA President, Issa Hayatou, refused to comment on the detail of the latest arrests.']\n"
     ]
    },
    {
     "data": {
      "application/vnd.jupyter.widget-view+json": {
       "model_id": "401a1e9397ea43f785547bb891ac9e71",
       "version_major": 2,
       "version_minor": 0
      },
      "text/plain": [
       "  0%|          | 0/50 [00:00<?, ?it/s]"
      ]
     },
     "metadata": {},
     "output_type": "display_data"
    },
    {
     "name": "stdout",
     "output_type": "stream",
     "text": [
      "As Janaway (2009: 52) observes, a great many different kinds of attitude enter these accounts (including not only the standard beliefs and desires of current-day moral psychology, but also “wills”, feelings, sensations, moods, imaginings, memories, valuations, convictions, and more), but arguably the core attitudes that do the most work for him are drives and affects.\n",
      "1. Yes\n",
      "2. No\n",
      "3. No\n",
      "4. Yes\n",
      "5. Yes\n",
      "Beside, shanghai is an important trade center, not only in China, but also in the world, English is useful in almost all walks of life.\n",
      "1. Yes\n",
      "2. No\n",
      "3. No\n",
      "4. Yes\n",
      "5. Yes\n",
      "Cartoons are fun not only for kids, but also for adults.\n",
      "1. Yes\n",
      "2. No\n",
      "3. No\n",
      "4. Yes\n",
      "5. Yes\n",
      "There were, therefore, wide-ranging debates in the ancient and medieval period not only about the nature of self-consciousness, but also about its relation to other aspects of the mind, most notably sensory perception and awareness of the body.\n",
      "1. Yes\n",
      "2. No\n",
      "3. No\n",
      "4. Yes\n",
      "5. Yes\n",
      "i think it would be thrilling to go on a pleasure ship, where you are not only visiting exciting destinations and ports of call, but also the ship itself is part of the whole experience.\n",
      "1. Yes\n",
      "2. No\n",
      "3. No\n",
      "4. Yes\n",
      "5. Yes\n",
      "Then, because Socrates wants not only to show that it is always better to be just but also to convince Glaucon and Adeimantus of this point, and because Socrates’ proofs are opposed by the teachings of poets, he bolsters his case in Book Ten by indicting the poets’ claims to represent the truth and by offering a new myth that is consonant with his proofs.\n",
      "1. Yes\n",
      "2. No\n",
      "3. No\n",
      "4. Yes\n",
      "5. Yes\n",
      "Agreed, not only do they deal with diagnosis but also treatment.\n",
      "1. Yes\n",
      "2. Yes\n",
      "3. Yes\n",
      "4. Yes\n",
      "5. Yes\n",
      "I like her because she is not only a great actor but also is very generous to give a lot to many kinds of charities.\n",
      "1. Yes\n",
      "2. No\n",
      "3. No\n",
      "4. Yes\n",
      "5. Yes\n",
      "Companies are working to develop technology that will enable a vehicle to tell traffic control systems not only that it is present but also where it is going and how fast it is travelling.\n",
      "1. Yes\n",
      "2. No\n",
      "3. No\n",
      "4. Yes\n",
      "5. Yes\n",
      "“There is a real danger, both of loss of auditory acuity, where we are exposed to noise for so long that we stop listening, but also a loss of listening habits, where we lose the ability to engage with the environment the way we were built to,” he added.\n",
      "1. No\n",
      "2. No\n",
      "3. No\n",
      "4. Yes\n",
      "5. Yes\n",
      "You mother is not only a patient mother but also a gentle wife.\n",
      "1. Yes\n",
      "2. No\n",
      "3. No\n",
      "4. Yes\n",
      "5. Yes\n",
      "She is not only a singer but also a great composer herself.\n",
      "1. Yes\n",
      "2. No\n",
      "3. No\n",
      "4. Yes\n",
      "5. Yes\n",
      "Instead, it is a reconstructive process, which involves building a specific memory from fragments of real memory traces of the original event, but also possibly including information from other sources.” He cautioned that the false memories created in the mice in the experiments were far simpler than the complex false memories that have generated controversy within psychology and psychiatry – for example, false memories of childhood sexual abuse, or even memories for bizarre ritualized satanic abuse, abduction by aliens, or “past lives ”.\n",
      "1. No\n",
      "2. No\n",
      "3. No\n",
      "4. Yes\n",
      "5. Yes\n",
      "I love Adam Levine, he is not only an amazing singer but also extremely attractive.\n",
      "1. Yes\n",
      "2. No\n",
      "3. No\n",
      "4. Yes\n",
      "5. Yes\n",
      "It's $5 and we not only change a battery, but also guarantee it for a year and if you have the watch cleaned here, we can guarantee it for an additional 3 months.\n",
      "1. Yes\n",
      "2. No\n",
      "3. No\n",
      "4. Yes\n",
      "5. Yes\n",
      "And not only that the people are friendly, but also the food is delicious, not to mention cheap.\n",
      "1. Yes\n",
      "2. No\n",
      "3. No\n",
      "4. Yes\n",
      "5. Yes\n",
      "They do not only follow vegan diet but also avoid using any animal products.\n",
      "1. Yes\n",
      "2. No\n",
      "3. No\n",
      "4. Yes\n",
      "5. Yes\n",
      "Yeah, the buildings and designs of the Forbidden City are the peak of Chinese traditional architecture, not only scientific but also suitable for living.\n",
      "1. Yes\n",
      "2. No\n",
      "3. No\n",
      "4. Yes\n",
      "5. Yes\n",
      "there are some that refrain from consuming animal products, not only meat but also eggs, diary products and other animal derived substances\n",
      "1. Yes\n",
      "2. No\n",
      "3. No\n",
      "4. Yes\n",
      "5. Yes\n",
      "I looked within our industry to see who were considered living legends of choreography, and when I looked within Russia, I realized that we did n't have choreographers who had the ability to not just choreograph, but also head the company, he said.\n",
      "1. No\n",
      "2. No\n",
      "3. No\n",
      "4. Yes\n",
      "5. Yes\n",
      "By the end of the session, every man and woman in the room was thinking about changing not only others but also him or herself.\n",
      "1. Yes\n",
      "2. No\n",
      "3. No\n",
      "4. Yes\n",
      "5. Yes\n",
      "In assessing a criteriological argument, we need to ask not only whether the event in question meets the criteria but also whether the criteria themselves are good indicators of truth.\n",
      "1. Yes\n",
      "2. No\n",
      "3. No\n",
      "4. Yes\n",
      "5. Yes\n",
      "i believe computer science is strictly software whereas computer engineering can be both.this field of enginerring not only focuses on how computer system themselves wor but also how they integrat into the larger picture.\n",
      "1. Yes\n",
      "2. No\n",
      "3. No\n",
      "4. Yes\n",
      "5. Yes\n",
      "Allison is a proponent of the view that §17 contain not only this challenge to Hume, but also an attempt to demonstrate that we represent objects on the basis of the conclusions about self-consciousness established in §16.\n",
      "1. Yes\n",
      "2. No\n",
      "3. No\n",
      "4. Yes\n",
      "5. Yes\n",
      "This automobile is just right for your needs because not only is it compact for ease in city driving, but also, it has many safety features.\n",
      "1. Yes\n",
      "2. No\n",
      "3. No\n",
      "4. Yes\n",
      "5. Yes\n",
      "True, also corn dogs were called this not only because they were cooked in corn batter but also because they resembled an ear of corn once cooked.\n",
      "1. Yes\n",
      "2. No\n",
      "3. No\n",
      "4. Yes\n",
      "5. Yes\n",
      "Such an understanding of principle of the changes may help us not only to have a good insight into the changes but also to foresee the tendency of the new changes of China's economic policies.\n",
      "1. Yes\n",
      "2. No\n",
      "3. No\n",
      "4. Yes\n",
      "5. Yes\n",
      "FORM/USE: 'NOT' + STANCE ADVERB, HEDGING: Can use 'not' + stance adverb, often  in a mid position, to soften the directness of a statement.\n",
      "    This is not necessarily the way the older generation would see it, though. \n",
      "\n",
      "Being a passionate student of the English language, you do not necessarily need a teacher to guide you through the meanders of English. \n",
      "\n",
      "I'm not sure what exactly they would expect us to do at the campsite, but organising the entertainment is not really my thing. \n",
      "\n",
      "Personally, I do not actually think that this relationship will change.\n",
      "['not necessarily', 'not really', 'not actually', 'not sure']\n",
      "1. Does the sentence contain the word \"not\"?\n",
      "2. Is \"not\" followed by a stance adverb (e.g., necessarily, really, actually)?\n",
      "3. Is the stance adverb placed in a mid position within the sentence?\n",
      "4. Does the use of \"not\" + stance adverb serve to soften the directness of the statement?\n"
     ]
    },
    {
     "data": {
      "application/vnd.jupyter.widget-view+json": {
       "model_id": "339b1d11c2de4bb8aff9ffd6fad7ea53",
       "version_major": 2,
       "version_minor": 0
      },
      "text/plain": [
       "  0%|          | 0/4 [00:00<?, ?it/s]"
      ]
     },
     "metadata": {},
     "output_type": "display_data"
    },
    {
     "name": "stdout",
     "output_type": "stream",
     "text": [
      "This is not necessarily the way the older generation would see it, though. \n",
      "1. Yes\n",
      "2. Yes\n",
      "3. Yes\n",
      "4. Yes\n",
      "Being a passionate student of the English language, you do not necessarily need a teacher to guide you through the meanders of English. \n",
      "1. Yes\n",
      "2. Yes\n",
      "3. Yes\n",
      "4. Yes\n",
      "I'm not sure what exactly they would expect us to do at the campsite, but organising the entertainment is not really my thing. \n",
      "1. Yes\n",
      "2. Yes\n",
      "3. Yes\n",
      "4. Yes\n",
      "Personally, I do not actually think that this relationship will change.\n",
      "1. Yes\n",
      "2. Yes\n",
      "3. Yes\n",
      "4. Yes\n"
     ]
    },
    {
     "data": {
      "application/vnd.jupyter.widget-view+json": {
       "model_id": "e1b6ef88e7b949789676288e4a429e14",
       "version_major": 2,
       "version_minor": 0
      },
      "text/plain": [
       "  0%|          | 0/451036 [00:00<?, ?it/s]"
      ]
     },
     "metadata": {},
     "output_type": "display_data"
    },
    {
     "name": "stdout",
     "output_type": "stream",
     "text": [
      "[\"I'm not sure, but they are not really dangerous unless you are allergic to them.\", 'Economic inequality, he claims, is not really a problem, because it is not actually that important for human well-being.', 'There is not really a concrete date just because many different authors contributed to it, they are not sure', 'Im not sure as im not really a biology scientist so i could not answer than but i can say new inventions and technologies such as pottery for holding and boiling water expanded cooking techniques.', \"I'm not sure what the casbalancas cult records is?\", 'I know who he is but have not really listened to his music.', 'I am not sure.', 'Well i am not sure if Taiwanese tea is one but it can be categorized as oolong tea, black tea and green tea.', 'I am not really sure, but it is one of the most popular foods in Europe and the US.', 'I\\'m not sure but there are so many different strokes I\"m sure you could figure out which one.']\n"
     ]
    },
    {
     "data": {
      "application/vnd.jupyter.widget-view+json": {
       "model_id": "4e24c7601fa74bb78349b4102b495b67",
       "version_major": 2,
       "version_minor": 0
      },
      "text/plain": [
       "  0%|          | 0/50 [00:00<?, ?it/s]"
      ]
     },
     "metadata": {},
     "output_type": "display_data"
    },
    {
     "name": "stdout",
     "output_type": "stream",
     "text": [
      "I'm not sure who I need to speak to.\n",
      "1. Yes\n",
      "2. No\n",
      "3. No\n",
      "4. No\n",
      "No, not really, but it sounds like fun.\n",
      "1. Yes\n",
      "2. Yes\n",
      "3. Yes\n",
      "4. Yes\n",
      "Well i am not sure if Taiwanese tea is one but it can be categorized as oolong tea, black tea and green tea.\n",
      "1. Yes\n",
      "2. No\n",
      "3. No\n",
      "4. No\n",
      "I am not sure what the rod I used was made out of.\n",
      "1. Yes\n",
      "2. No\n",
      "3. No\n",
      "4. No\n",
      "I know about Adoption, but not really in US, Adoption is a process whereby a person assumes the parenting of another, usually a child,\n",
      "1. Yes\n",
      "2. Yes\n",
      "3. Yes\n",
      "4. Yes\n",
      "There is not really a concrete date just because many different authors contributed to it, they are not sure\n",
      "1. Yes\n",
      "2. Yes\n",
      "3. Yes\n",
      "4. Yes\n",
      "I am not sure but for an immune system to function properly it must detect a wide variety of pathogens.\n",
      "1. Yes\n",
      "2. No\n",
      "3. No\n",
      "4. No\n",
      "I am not sure but the labrador is almost very popular in Canada.\n",
      "1. Yes\n",
      "2. No\n",
      "3. No\n",
      "4. No\n",
      "Good question, I am not sure.\n",
      "1. Yes\n",
      "2. No\n",
      "3. No\n",
      "4. No\n",
      "I'm not sure how long she can hold up?\n",
      "1. Yes\n",
      "2. No\n",
      "3. No\n",
      "4. No\n",
      "Sketching is more just freehand not really finished pieces.\n",
      "1. Yes\n",
      "2. Yes\n",
      "3. Yes\n",
      "4. Yes\n",
      "I've never been to Mexico, but I hear these days it isn't a pleasant place to visit - not sure if that's true.\n",
      "1. Yes\n",
      "2. No\n",
      "3. No\n",
      "4. No\n",
      "i'm not sure but I know that the the BSA was founded in 1910\n",
      "1. Yes\n",
      "2. No\n",
      "3. No\n",
      "4. No\n",
      "I would love to donate blood, but not sure if I can.\n",
      "1. Yes\n",
      "2. No\n",
      "3. No\n",
      "4. No\n",
      "I'm not sure I can't agree, dan.\n",
      "1. Yes\n",
      "2. No\n",
      "3. No\n",
      "4. No\n",
      "I'm not sure about breeds\n",
      "1. Yes\n",
      "2. No\n",
      "3. No\n",
      "4. No\n",
      "No I do not really like onion.\n",
      "1. Yes\n",
      "2. Yes\n",
      "3. Yes\n",
      "4. Yes\n",
      "I'm not sure but there are so many different strokes I\"m sure you could figure out which one.\n",
      "1. Yes\n",
      "2. No\n",
      "3. No\n",
      "4. No\n",
      "I'm not sure if they handle hoarding, probably on an isolated basis.\n",
      "1. Yes\n",
      "2. No\n",
      "3. No\n",
      "4. No\n",
      "I'm not really sure how the two could be mixed up honestly.\n",
      "1. Yes\n",
      "2. Yes\n",
      "3. Yes\n",
      "4. Yes\n",
      "Im not sure as im not really a biology scientist so i could not answer than but i can say new inventions and technologies such as pottery for holding and boiling water expanded cooking techniques.\n",
      "1. Yes\n",
      "2. Yes\n",
      "3. Yes\n",
      "4. Yes\n",
      "The song was the subject of the \"Mattell v. MCA Records\" case and I am not sure if they released anything more after going through the lawsuit.\n",
      "1. Yes\n",
      "2. No\n",
      "3. No\n",
      "4. No\n",
      "Economic inequality, he claims, is not really a problem, because it is not actually that important for human well-being.\n",
      "1. Yes\n",
      "2. Yes\n",
      "3. Yes\n",
      "4. Yes\n",
      "I am not really sure, but it is one of the most popular foods in Europe and the US.\n",
      "1. Yes\n",
      "2. Yes\n",
      "3. Yes\n",
      "4. Yes\n",
      "I'm not sure, it had many different authors contribute to it over the years.\n",
      "1. Yes\n",
      "2. No\n",
      "3. No\n",
      "4. No\n",
      "I'm not sure how she got the break, but apparently they saw she had promise and eventually she became head of the Anne Klein design team.\n",
      "1. Yes\n",
      "2. No\n",
      "3. No\n",
      "4. No\n",
      "I'm not sure I could do that!\n",
      "1. Yes\n",
      "2. No\n",
      "3. No\n",
      "4. No\n",
      "not really!\n",
      "1. Yes\n",
      "2. Yes\n",
      "3. No\n",
      "4. Yes\n",
      "I'm honestly not sure which one sold best.\n",
      "1. Yes\n",
      "2. No\n",
      "3. Not applicable\n",
      "4. Not applicable\n",
      "I was really surprised when Amazon bought Whole Foods, I'm not sure if its a good thing.\n",
      "1. Yes\n",
      "2. No\n",
      "3. No\n",
      "4. No\n",
      "I know who he is but have not really listened to his music.\n",
      "1. Yes\n",
      "2. Yes\n",
      "3. Yes\n",
      "4. Yes\n",
      "I'm not sure but even better players didn't help.\n",
      "1. Yes\n",
      "2. No\n",
      "3. No\n",
      "4. No\n",
      "I'm not sure what causes some to have tails while others do not.\n",
      "1. Yes\n",
      "2. No\n",
      "3. No\n",
      "4. No\n",
      "Im not sure but it found an audience with adult internet users after its launch.\n",
      "1. Yes\n",
      "2. No\n",
      "3. No\n",
      "4. No\n",
      "I'm not sure but the engineering was well done and it's probably patented.\n",
      "1. Yes\n",
      "2. No\n",
      "3. No\n",
      "4. No\n",
      "I am not sure but I can see why since population density is less than 150 people per square kilometre.\n",
      "1. Yes\n",
      "2. No\n",
      "3. No\n",
      "4. No\n",
      "10\n",
      "0.21739130434782608\n"
     ]
    },
    {
     "name": "stderr",
     "output_type": "stream",
     "text": [
      "  0%|                                                                                                              | 0/100 [00:00<?, ?it/s]\n",
      "100%|████████████████████████████████████████████████████████████████████████████████████████████████████████| 1/1 [00:00<00:00, 53.29it/s]\u001b[A\n"
     ]
    },
    {
     "name": "stdout",
     "output_type": "stream",
     "text": [
      "Training loss: 0.6751669049263\n",
      "Val loss: 0.621216893196106\n"
     ]
    },
    {
     "name": "stderr",
     "output_type": "stream",
     "text": [
      "\n",
      "100%|████████████████████████████████████████████████████████████████████████████████████████████████████████| 1/1 [00:00<00:00, 56.10it/s]\u001b[A"
     ]
    },
    {
     "name": "stdout",
     "output_type": "stream",
     "text": [
      "Training loss: 0.6450154185295105\n"
     ]
    },
    {
     "name": "stderr",
     "output_type": "stream",
     "text": [
      "\n",
      "  2%|██                                                                                                    | 2/100 [00:00<00:09, 10.76it/s]"
     ]
    },
    {
     "name": "stdout",
     "output_type": "stream",
     "text": [
      "Val loss: 0.6013422310352325\n"
     ]
    },
    {
     "name": "stderr",
     "output_type": "stream",
     "text": [
      "\n",
      "100%|████████████████████████████████████████████████████████████████████████████████████████████████████████| 1/1 [00:00<00:00, 56.57it/s]\u001b[A\n"
     ]
    },
    {
     "name": "stdout",
     "output_type": "stream",
     "text": [
      "Training loss: 0.5849021673202515\n",
      "Val loss: 0.5880205035209656\n"
     ]
    },
    {
     "name": "stderr",
     "output_type": "stream",
     "text": [
      "\n",
      "100%|████████████████████████████████████████████████████████████████████████████████████████████████████████| 1/1 [00:00<00:00, 64.00it/s]\u001b[A\n"
     ]
    },
    {
     "name": "stdout",
     "output_type": "stream",
     "text": [
      "Training loss: 0.553913950920105\n"
     ]
    },
    {
     "name": "stderr",
     "output_type": "stream",
     "text": [
      "  4%|████                                                                                                  | 4/100 [00:00<00:08, 11.18it/s]"
     ]
    },
    {
     "name": "stdout",
     "output_type": "stream",
     "text": [
      "Val loss: 0.5737273395061493\n"
     ]
    },
    {
     "name": "stderr",
     "output_type": "stream",
     "text": [
      "\n",
      "100%|████████████████████████████████████████████████████████████████████████████████████████████████████████| 1/1 [00:00<00:00, 65.26it/s]\u001b[A"
     ]
    },
    {
     "name": "stdout",
     "output_type": "stream",
     "text": [
      "Training loss: 0.5190806984901428\n"
     ]
    },
    {
     "name": "stderr",
     "output_type": "stream",
     "text": [
      "\n"
     ]
    },
    {
     "name": "stdout",
     "output_type": "stream",
     "text": [
      "Val loss: 0.5604167878627777\n"
     ]
    },
    {
     "name": "stderr",
     "output_type": "stream",
     "text": [
      "\n",
      "100%|████████████████████████████████████████████████████████████████████████████████████████████████████████| 1/1 [00:00<00:00, 64.37it/s]\u001b[A"
     ]
    },
    {
     "name": "stdout",
     "output_type": "stream",
     "text": [
      "Training loss: 0.47622522711753845\n"
     ]
    },
    {
     "name": "stderr",
     "output_type": "stream",
     "text": [
      "\n",
      "  6%|██████                                                                                                | 6/100 [00:00<00:08, 11.61it/s]"
     ]
    },
    {
     "name": "stdout",
     "output_type": "stream",
     "text": [
      "Val loss: 0.548827052116394\n"
     ]
    },
    {
     "name": "stderr",
     "output_type": "stream",
     "text": [
      "\n",
      "100%|████████████████████████████████████████████████████████████████████████████████████████████████████████| 1/1 [00:00<00:00, 64.95it/s]\u001b[A"
     ]
    },
    {
     "name": "stdout",
     "output_type": "stream",
     "text": [
      "Training loss: 0.44505438208580017\n"
     ]
    },
    {
     "name": "stderr",
     "output_type": "stream",
     "text": [
      "\n"
     ]
    },
    {
     "name": "stdout",
     "output_type": "stream",
     "text": [
      "Val loss: 0.5389972031116486\n"
     ]
    },
    {
     "name": "stderr",
     "output_type": "stream",
     "text": [
      "\n",
      "100%|████████████████████████████████████████████████████████████████████████████████████████████████████████| 1/1 [00:00<00:00, 64.37it/s]\u001b[A"
     ]
    },
    {
     "name": "stdout",
     "output_type": "stream",
     "text": [
      "Training loss: 0.44311219453811646\n"
     ]
    },
    {
     "name": "stderr",
     "output_type": "stream",
     "text": [
      "\n",
      "  8%|████████▏                                                                                             | 8/100 [00:00<00:07, 11.85it/s]"
     ]
    },
    {
     "name": "stdout",
     "output_type": "stream",
     "text": [
      "Val loss: 0.5289967358112335\n"
     ]
    },
    {
     "name": "stderr",
     "output_type": "stream",
     "text": [
      "\n",
      "100%|████████████████████████████████████████████████████████████████████████████████████████████████████████| 1/1 [00:00<00:00, 66.54it/s]\u001b[A"
     ]
    },
    {
     "name": "stdout",
     "output_type": "stream",
     "text": [
      "Training loss: 0.40932926535606384\n"
     ]
    },
    {
     "name": "stderr",
     "output_type": "stream",
     "text": [
      "\n"
     ]
    },
    {
     "name": "stdout",
     "output_type": "stream",
     "text": [
      "Val loss: 0.5201017558574677\n"
     ]
    },
    {
     "name": "stderr",
     "output_type": "stream",
     "text": [
      "\n",
      "100%|████████████████████████████████████████████████████████████████████████████████████████████████████████| 1/1 [00:00<00:00, 66.49it/s]\u001b[A"
     ]
    },
    {
     "name": "stdout",
     "output_type": "stream",
     "text": [
      "Training loss: 0.3792935609817505\n"
     ]
    },
    {
     "name": "stderr",
     "output_type": "stream",
     "text": [
      "\n",
      " 10%|██████████                                                                                           | 10/100 [00:00<00:07, 11.95it/s]"
     ]
    },
    {
     "name": "stdout",
     "output_type": "stream",
     "text": [
      "Val loss: 0.5119667649269104\n"
     ]
    },
    {
     "name": "stderr",
     "output_type": "stream",
     "text": [
      "\n",
      "100%|████████████████████████████████████████████████████████████████████████████████████████████████████████| 1/1 [00:00<00:00, 60.93it/s]\u001b[A"
     ]
    },
    {
     "name": "stdout",
     "output_type": "stream",
     "text": [
      "Training loss: 0.34183627367019653\n"
     ]
    },
    {
     "name": "stderr",
     "output_type": "stream",
     "text": [
      "\n"
     ]
    },
    {
     "name": "stdout",
     "output_type": "stream",
     "text": [
      "Val loss: 0.501175582408905\n"
     ]
    },
    {
     "name": "stderr",
     "output_type": "stream",
     "text": [
      "\n",
      "100%|████████████████████████████████████████████████████████████████████████████████████████████████████████| 1/1 [00:00<00:00, 63.92it/s]\u001b[A"
     ]
    },
    {
     "name": "stdout",
     "output_type": "stream",
     "text": [
      "Training loss: 0.30208438634872437\n"
     ]
    },
    {
     "name": "stderr",
     "output_type": "stream",
     "text": [
      "\n",
      " 12%|████████████                                                                                         | 12/100 [00:01<00:07, 11.89it/s]"
     ]
    },
    {
     "name": "stdout",
     "output_type": "stream",
     "text": [
      "Val loss: 0.48926903307437897\n"
     ]
    },
    {
     "name": "stderr",
     "output_type": "stream",
     "text": [
      "\n",
      "100%|████████████████████████████████████████████████████████████████████████████████████████████████████████| 1/1 [00:00<00:00, 64.79it/s]\u001b[A"
     ]
    },
    {
     "name": "stdout",
     "output_type": "stream",
     "text": [
      "Training loss: 0.28360146284103394\n"
     ]
    },
    {
     "name": "stderr",
     "output_type": "stream",
     "text": [
      "\n"
     ]
    },
    {
     "name": "stdout",
     "output_type": "stream",
     "text": [
      "Val loss: 0.4782000184059143\n"
     ]
    },
    {
     "name": "stderr",
     "output_type": "stream",
     "text": [
      "\n",
      "100%|████████████████████████████████████████████████████████████████████████████████████████████████████████| 1/1 [00:00<00:00, 63.53it/s]\u001b[A"
     ]
    },
    {
     "name": "stdout",
     "output_type": "stream",
     "text": [
      "Training loss: 0.270486980676651\n"
     ]
    },
    {
     "name": "stderr",
     "output_type": "stream",
     "text": [
      "\n",
      " 14%|██████████████▏                                                                                      | 14/100 [00:01<00:07, 11.93it/s]"
     ]
    },
    {
     "name": "stdout",
     "output_type": "stream",
     "text": [
      "Val loss: 0.4691676050424576\n"
     ]
    },
    {
     "name": "stderr",
     "output_type": "stream",
     "text": [
      "\n",
      "100%|████████████████████████████████████████████████████████████████████████████████████████████████████████| 1/1 [00:00<00:00, 64.44it/s]\u001b[A"
     ]
    },
    {
     "name": "stdout",
     "output_type": "stream",
     "text": [
      "Training loss: 0.2389444261789322\n"
     ]
    },
    {
     "name": "stderr",
     "output_type": "stream",
     "text": [
      "\n"
     ]
    },
    {
     "name": "stdout",
     "output_type": "stream",
     "text": [
      "Val loss: 0.46076907217502594\n"
     ]
    },
    {
     "name": "stderr",
     "output_type": "stream",
     "text": [
      "\n",
      "100%|████████████████████████████████████████████████████████████████████████████████████████████████████████| 1/1 [00:00<00:00, 64.26it/s]\u001b[A"
     ]
    },
    {
     "name": "stdout",
     "output_type": "stream",
     "text": [
      "Training loss: 0.21851645410060883\n"
     ]
    },
    {
     "name": "stderr",
     "output_type": "stream",
     "text": [
      "\n",
      " 16%|████████████████▏                                                                                    | 16/100 [00:01<00:07, 11.96it/s]"
     ]
    },
    {
     "name": "stdout",
     "output_type": "stream",
     "text": [
      "Val loss: 0.4526264816522598\n"
     ]
    },
    {
     "name": "stderr",
     "output_type": "stream",
     "text": [
      "\n",
      "100%|████████████████████████████████████████████████████████████████████████████████████████████████████████| 1/1 [00:00<00:00, 63.88it/s]\u001b[A"
     ]
    },
    {
     "name": "stdout",
     "output_type": "stream",
     "text": [
      "Training loss: 0.20725063979625702\n"
     ]
    },
    {
     "name": "stderr",
     "output_type": "stream",
     "text": [
      "\n"
     ]
    },
    {
     "name": "stdout",
     "output_type": "stream",
     "text": [
      "Val loss: 0.44454723596572876\n"
     ]
    },
    {
     "name": "stderr",
     "output_type": "stream",
     "text": [
      "\n",
      "100%|████████████████████████████████████████████████████████████████████████████████████████████████████████| 1/1 [00:00<00:00, 64.17it/s]\u001b[A"
     ]
    },
    {
     "name": "stdout",
     "output_type": "stream",
     "text": [
      "Training loss: 0.17877314984798431\n"
     ]
    },
    {
     "name": "stderr",
     "output_type": "stream",
     "text": [
      "\n",
      " 18%|██████████████████▏                                                                                  | 18/100 [00:01<00:06, 12.00it/s]"
     ]
    },
    {
     "name": "stdout",
     "output_type": "stream",
     "text": [
      "Val loss: 0.4377950578927994\n"
     ]
    },
    {
     "name": "stderr",
     "output_type": "stream",
     "text": [
      "\n",
      "100%|████████████████████████████████████████████████████████████████████████████████████████████████████████| 1/1 [00:00<00:00, 64.07it/s]\u001b[A"
     ]
    },
    {
     "name": "stdout",
     "output_type": "stream",
     "text": [
      "Training loss: 0.1689767688512802\n"
     ]
    },
    {
     "name": "stderr",
     "output_type": "stream",
     "text": [
      "\n"
     ]
    },
    {
     "name": "stdout",
     "output_type": "stream",
     "text": [
      "Val loss: 0.43223993480205536\n"
     ]
    },
    {
     "name": "stderr",
     "output_type": "stream",
     "text": [
      "\n",
      "100%|████████████████████████████████████████████████████████████████████████████████████████████████████████| 1/1 [00:00<00:00, 64.01it/s]\u001b[A"
     ]
    },
    {
     "name": "stdout",
     "output_type": "stream",
     "text": [
      "Training loss: 0.15520712733268738\n"
     ]
    },
    {
     "name": "stderr",
     "output_type": "stream",
     "text": [
      "\n",
      "                                                                                                                                           \r"
     ]
    },
    {
     "name": "stdout",
     "output_type": "stream",
     "text": [
      "Val loss: 0.427411288022995\n",
      "{'accuracy': 0.838, 'f1': 0.4, 'precision': 1.0}\n"
     ]
    },
    {
     "name": "stderr",
     "output_type": "stream",
     "text": [
      "  1%|▌                                                                                                     | 1/192 [00:00<01:37,  1.96it/s]\n"
     ]
    },
    {
     "data": {
      "application/vnd.jupyter.widget-view+json": {
       "model_id": "9105aff615164ce5a0877730c08d0ecd",
       "version_major": 2,
       "version_minor": 0
      },
      "text/plain": [
       "  0%|          | 0/32 [00:00<?, ?it/s]"
      ]
     },
     "metadata": {},
     "output_type": "display_data"
    },
    {
     "name": "stdout",
     "output_type": "stream",
     "text": [
      "Thats a german word that means garden for children.\n",
      "1. No\n",
      "2. No\n",
      "3. No\n",
      "4. No\n",
      "Yes that's true, recreational fishing/sport fishing is fishing for pleasure.\n",
      "1. No\n",
      "2. No\n",
      "3. No\n",
      "4. No\n",
      "I would like to know what the most convenient way to do it is.\n",
      "1. No\n",
      "2. No\n",
      "3. No\n",
      "4. No\n",
      "They often do breeding programs for large cats as well to increase the population.\n",
      "1. No\n",
      "2. No\n",
      "3. No\n",
      "4. No\n",
      "Yeah I dont think I would like to go that close to Mexico now-a-days.\n",
      "1. No\n",
      "2. No\n",
      "3. No\n",
      "4. No\n",
      "Yes, education in the United States should include education that is not just abstinence-only, but be more comprehensive and realistic for teens.\n",
      "1. Yes\n",
      "2. No\n",
      "3. No\n",
      "4. No\n",
      "Do not generalize the situation,” said Hayatou, president of the Confederation of African Football for more than 25 years.\n",
      "1. Yes\n",
      "2. No\n",
      "3. No\n",
      "4. No\n",
      "No, thank you.My husband likes steak, but he doesn't like chicken.\n",
      "1. No\n",
      "2. No\n",
      "3. No\n",
      "4. No\n",
      "There are various schools that have the accepted technique for proper horse training.\n",
      "1. No\n",
      "2. No\n",
      "3. No\n",
      "4. No\n",
      "I have used Colby Jack also for nachos.\n",
      "1. No\n",
      "2. No\n",
      "3. No\n",
      "4. No\n",
      "I’d like to nominate everyone, everywhere, who has more than they need, to donate what they can to the people who need it most … because that is what charity is about, not putting yourself through mild discomfort with a bucket of icy water.” \n",
      "Another criticism has been that small charities won’t be able to cope with the extra cash, but the MND Association rejected this.\n",
      "1. Yes\n",
      "2. No\n",
      "3. No\n",
      "4. No\n",
      "Would you like to hang out with me?\n",
      "1. No\n",
      "2. No\n",
      "3. No\n",
      "4. No\n",
      "I guess I kind of like the old school rap, maybe in the late 90's.\n",
      "1. No\n",
      "2. No\n",
      "3. No\n",
      "4. No\n",
      "The local newspaper has ads for housing.\n",
      "1. No\n",
      "2. No\n",
      "3. No\n",
      "4. No\n",
      "sure, what would you like to discuss?\n",
      "1. No\n",
      "2. No\n",
      "3. No\n",
      "4. No\n",
      "They do go outside, but it just has risks involved, like panic attacks.\n",
      "1. No\n",
      "2. No\n",
      "3. No\n",
      "4. No\n",
      "Yeah, I like a lot of fast food, because my work life is so busy.\n",
      "1. No\n",
      "2. No\n",
      "3. No\n",
      "4. No\n",
      "So the goods must be shipped before October or we won't be ready for the season.\n",
      "1. No\n",
      "2. No\n",
      "3. No\n",
      "4. No\n",
      "it was a great show for little girls in that it showed a girl could be the hero the majority of Kim's missions involve her thwarting the plans of her archnemeses Dr. Drakken,\n",
      "1. No\n",
      "2. No\n",
      "3. No\n",
      "4. No\n",
      "Do you live in a state that gives a rebate for fuel efficient vehicles?\n",
      "1. No\n",
      "2. No\n",
      "3. No\n",
      "4. No\n",
      "Do you like/own anything from Izod?\n",
      "1. No\n",
      "2. No\n",
      "3. No\n",
      "4. No\n",
      "I love to cook for the picnic too.\n",
      "1. No\n",
      "2. No\n",
      "3. No\n",
      "4. No\n",
      "That will be a throw in for Brazil.\n",
      "1. No\n",
      "2. No\n",
      "3. No\n",
      "4. No\n",
      "How long would you like to stay with this company?\n",
      "1. No\n",
      "2. No\n",
      "3. No\n",
      "4. No\n",
      "What would you say is your favorite topping for pizza?\n",
      "1. No\n",
      "2. No\n",
      "3. No\n",
      "4. No\n",
      "Oh I have visited Austin for SXSW and I liked it a lot\n",
      "1. No\n",
      "2. No\n",
      "3. No\n",
      "4. No\n",
      "0.0\n",
      "USE: FORMAL: Can use '(very) few' meaning 'not many' to refer to people in formal written contexts, often reports or surveys. \n",
      "    They were sent to Britain to improve their English but few had any real contact with the language. \n",
      "\n",
      "English is the most spoken language nowadays and although most of the people can speak a bit of English, very few speak it in the right way. \n",
      "\n",
      "The Greeks have always been a tortured folk; everyone tried to conquer them, but few managed.\n",
      "['few', 'very few']\n",
      "1. Is the sentence written in a formal context, such as a report or survey?\n",
      "2. Does the sentence use the phrase '(very) few'?\n",
      "3. Is '(very) few' used to refer to people?\n",
      "4. Does '(very) few' imply 'not many' in a negative sense?\n"
     ]
    },
    {
     "data": {
      "application/vnd.jupyter.widget-view+json": {
       "model_id": "9acaec6720ab4dcd90c09ca8e2ea1e5e",
       "version_major": 2,
       "version_minor": 0
      },
      "text/plain": [
       "  0%|          | 0/3 [00:00<?, ?it/s]"
      ]
     },
     "metadata": {},
     "output_type": "display_data"
    },
    {
     "name": "stdout",
     "output_type": "stream",
     "text": [
      "They were sent to Britain to improve their English but few had any real contact with the language. \n",
      "1. Yes\n",
      "2. No\n",
      "3. No\n",
      "4. No\n",
      "English is the most spoken language nowadays and although most of the people can speak a bit of English, very few speak it in the right way. \n",
      "1. No\n",
      "2. Yes\n",
      "3. Yes\n",
      "4. Yes\n",
      "The Greeks have always been a tortured folk; everyone tried to conquer them, but few managed.\n",
      "1. No\n",
      "2. No\n",
      "3. No\n",
      "4. Yes\n",
      "FORM/USE: 'WHATSOEVER', EMPHASIS: Can use 'whatsoever' after a negative form for emphasis. \n",
      "    This means that nothing shall change for the employees, there shall be no implication whatsoever for their rights stipulated in their employment contracts. \n",
      "\n",
      "Organising the entertainment would be rather fun, whilst waiting tables would be boring and we have no experience whatsoever.\n",
      "['no', 'none', 'nothing', 'any', 'whatsoever']\n",
      "1. Is the word \"whatsoever\" used in the sentence?\n",
      "2. Is \"whatsoever\" placed after a negative form (e.g., no, not, none, never)?\n",
      "3. Does the use of \"whatsoever\" serve to emphasize the negation in the sentence?\n",
      "4. Is the sentence structured in a way that the negation is clear and unambiguous?\n",
      "5. Does the sentence fall under the category of negation?\n"
     ]
    },
    {
     "data": {
      "application/vnd.jupyter.widget-view+json": {
       "model_id": "78c8be530347430db410211d706fe002",
       "version_major": 2,
       "version_minor": 0
      },
      "text/plain": [
       "  0%|          | 0/2 [00:00<?, ?it/s]"
      ]
     },
     "metadata": {},
     "output_type": "display_data"
    },
    {
     "name": "stdout",
     "output_type": "stream",
     "text": [
      "This means that nothing shall change for the employees, there shall be no implication whatsoever for their rights stipulated in their employment contracts. \n",
      "1. Yes\n",
      "2. Yes\n",
      "3. Yes\n",
      "4. Yes\n",
      "5. Yes\n",
      "Organising the entertainment would be rather fun, whilst waiting tables would be boring and we have no experience whatsoever.\n",
      "1. Yes\n",
      "2. Yes\n",
      "3. Yes\n",
      "4. Yes\n",
      "5. Yes\n"
     ]
    },
    {
     "data": {
      "application/vnd.jupyter.widget-view+json": {
       "model_id": "f50ae22247834e7bb103d511b1780713",
       "version_major": 2,
       "version_minor": 0
      },
      "text/plain": [
       "  0%|          | 0/451036 [00:00<?, ?it/s]"
      ]
     },
     "metadata": {},
     "output_type": "display_data"
    },
    {
     "name": "stdout",
     "output_type": "stream",
     "text": [
      "['He then asserts that there is no point in ratifying the treaty because it would do nothing to force any foreign government to change their laws or to spend resources on the disabled.', \"No, as a vegan you wouldn't have any animal products whatsoever, but that is only if you care about your health.\", \"No, it's nothing serious, but he'd better stay at home and rest.\", 'This was based on the ‘conventionalist’ thesis expressed by the character Hermogenes in Plato’s Cratylus, according to whom nothing but convention—whether national, local or simply private—determines the meaning of a word, and any convenient string of sounds can in principle be used to convey any meaning.', 'At one point of my life, I was a vegetarian -- no meat, poultry, seafood -- nothing!', \"Luckily there is no such kind of ' grown-up ceremony ' any more.\", 'No, none of it seems to be available yet.', 'i dont play any sports anymore no, i focus more on the gym now', 'No, he has not had any for about a month thankfully.', 'Well vegetarians will simply not eat mean, while vegans do not eat any animal products whatsoever.']\n"
     ]
    },
    {
     "data": {
      "application/vnd.jupyter.widget-view+json": {
       "model_id": "6f3a130da5394abe8b977b87812d5c31",
       "version_major": 2,
       "version_minor": 0
      },
      "text/plain": [
       "  0%|          | 0/50 [00:00<?, ?it/s]"
      ]
     },
     "metadata": {},
     "output_type": "display_data"
    },
    {
     "name": "stdout",
     "output_type": "stream",
     "text": [
      "To be vegan is to not eat any meat plus no eggs or dairy.\n",
      "1. No\n",
      "2. No\n",
      "3. No\n",
      "4. Yes\n",
      "5. Yes\n",
      "The images were taken in different places, with very different lighting and of the 200 photographs we took during our holiday no orbs appeared on any other photograph -- nor indeed on any photograph ever taken on that camera before or since.\n",
      "1. No\n",
      "2. No\n",
      "3. No\n",
      "4. Yes\n",
      "5. Yes\n",
      "Well vegetarians will simply not eat mean, while vegans do not eat any animal products whatsoever.\n",
      "1. Yes\n",
      "2. Yes\n",
      "3. Yes\n",
      "4. Yes\n",
      "5. Yes\n",
      "There's no release date nor any indication he's actually working on it.\n",
      "1. No\n",
      "2. No\n",
      "3. No\n",
      "4. Yes\n",
      "5. Yes\n",
      "Soda should be treated seriously ; there's simply no nutritional value in it whatsoever.\n",
      "1. Yes\n",
      "2. Yes\n",
      "3. Yes\n",
      "4. Yes\n",
      "5. Yes\n",
      "That's not true, steak can mean tuna steak or beefsteak or any steak when theres no qualifications.\n",
      "1. No\n",
      "2. No\n",
      "3. No\n",
      "4. Yes\n",
      "5. Yes\n",
      "There is no precise definition of genius and the the question of  whether the notion itself has any real meaning has long been debated,  SO i guess we will never know for sure.\n",
      "1. No\n",
      "2. No\n",
      "3. No\n",
      "4. Yes\n",
      "5. Yes\n",
      "Oh no, it had nothing to do with slavery hahah.\n",
      "1. No\n",
      "2. No\n",
      "3. No\n",
      "4. Yes\n",
      "5. Yes\n",
      "This was based on the ‘conventionalist’ thesis expressed by the character Hermogenes in Plato’s Cratylus, according to whom nothing but convention—whether national, local or simply private—determines the meaning of a word, and any convenient string of sounds can in principle be used to convey any meaning.\n",
      "1. No\n",
      "2. No\n",
      "3. No\n",
      "4. Yes\n",
      "5. Yes\n",
      "At one point of my life, I was a vegetarian -- no meat, poultry, seafood -- nothing!\n",
      "1. No\n",
      "2. No\n",
      "3. No\n",
      "4. Yes\n",
      "5. Yes\n",
      "It great that she's so altruistic and helping people and organizations for no financial gain whatsoever.\n",
      "1. Yes\n",
      "2. Yes\n",
      "3. Yes\n",
      "4. Yes\n",
      "5. Yes\n",
      "No, nothing really crazy.\n",
      "1. No\n",
      "2. No\n",
      "3. No\n",
      "4. Yes\n",
      "5. Yes\n",
      "i dont no what one i dont like any to scare\n",
      "1. No\n",
      "2. No\n",
      "3. No\n",
      "4. No\n",
      "5. Yes\n",
      "Lower-income households, on the other hand, can only get smaller loans, or perhaps nothing if they could not afford to purchase any housing.\n",
      "1. No\n",
      "2. No\n",
      "3. No\n",
      "4. Yes\n",
      "5. Yes\n",
      "I stormed the beaches of Normandy in Saving Private Ryan as an extra with no acting experience whatsoever!\n",
      "1. Yes\n",
      "2. Yes\n",
      "3. Yes\n",
      "4. Yes\n",
      "5. Yes\n",
      "Oh dear, I gained these 10 pounds in the last 3 months, none of my clothes fit any more.\n",
      "1. No\n",
      "2. No\n",
      "3. No\n",
      "4. Yes\n",
      "5. Yes\n",
      "The cake is no problem at all, but we do charge a corkage fee of $ 15 a bottle for any alcohol not purchased from the restaurant.\n",
      "1. No\n",
      "2. No\n",
      "3. No\n",
      "4. Yes\n",
      "5. Yes\n",
      "No, nothing changed.\n",
      "1. No\n",
      "2. No\n",
      "3. No\n",
      "4. Yes\n",
      "5. Yes\n",
      "No, I'm not taking any drugs.\n",
      "1. No\n",
      "2. No\n",
      "3. No\n",
      "4. Yes\n",
      "5. Yes\n",
      "The attendant was no help at all, even though the guys were holding guns in plain view, he did nothing.\n",
      "1. No\n",
      "2. No\n",
      "3. No\n",
      "4. Yes\n",
      "5. Yes\n",
      "Do you mean there is no way to get any foreign money?\n",
      "1. No\n",
      "2. No\n",
      "3. No\n",
      "4. Yes\n",
      "5. Yes\n",
      "Then there is no response to any click.\n",
      "1. No\n",
      "2. No\n",
      "3. No\n",
      "4. Yes\n",
      "5. Yes\n",
      "Soda should be a treat ; there's simply no nutritional value in it whatsoever.\n",
      "1. Yes\n",
      "2. Yes\n",
      "3. Yes\n",
      "4. Yes\n",
      "5. Yes\n",
      "i dont play any sports anymore no, i focus more on the gym now\n",
      "1. No\n",
      "2. No\n",
      "3. No\n",
      "4. Yes\n",
      "5. Yes\n",
      "I just said no, I don't have any siblings.\n",
      "1. No\n",
      "2. No\n",
      "3. No\n",
      "4. Yes\n",
      "5. Yes\n",
      "I didn't eat any, but a few people in our group did and no one got sick.\n",
      "1. No\n",
      "2. No\n",
      "3. No\n",
      "4. Yes\n",
      "5. Yes\n",
      "“Basically there will be no such thing as the perfect murder any more as a virtual autopsy allows you to find every piece of evidence,” he said.\n",
      "1. No\n",
      "2. No\n",
      "3. No\n",
      "4. Yes\n",
      "5. Yes\n",
      "Luckily there is no such kind of ' grown-up ceremony ' any more.\n",
      "1. No\n",
      "2. No\n",
      "3. No\n",
      "4. Yes\n",
      "5. Yes\n",
      "It appears that no one in the United States with swine flu had any contact with pigs.\n",
      "1. No\n",
      "2. No\n",
      "3. No\n",
      "4. Yes\n",
      "5. Yes\n",
      "No, none of it seems to be available yet.\n",
      "1. No\n",
      "2. No\n",
      "3. No\n",
      "4. Yes\n",
      "5. Yes\n",
      "This point is reiterated later in the Critique when Kant writes:\n",
      "We have sufficiently proved in the Transcendental Aesthetic that everything intuited in space or in time, hence all objects of an experience possible for us, are nothing but appearances, i.e., mere representations, which, as they are represented, as extended beings or series of alterations, have outside our thoughts no existence grounded in itself.\n",
      "1. No\n",
      "2. No\n",
      "3. No\n",
      "4. Yes\n",
      "5. Yes\n",
      "FORM/USE: 'NOT A' + NOUN, EMPHASIS: Can use 'not a' + noun, often with a following  passive structure, for emphasis.\n",
      "    Not a single noise could be heard from inside of any of the rooms. \n",
      "\n",
      "Not a long time passes before another Polish city, Warsaw, hosts a festival. \n",
      "\n",
      "Not a single member of the group would have imagined that the \"Luxury coach\" would break down and leave them stranded in the middle of nowhere.\n",
      "['Not', 'a', 'single', 'noise', 'long', 'time', 'member', 'of', 'the', 'group']\n",
      "1. Does the sentence contain the phrase \"not a\" followed by a noun?\n",
      "2. Is the phrase \"not a\" + noun used to emphasize the negation?\n",
      "3. Is there a passive structure following the \"not a\" + noun phrase, or does the sentence imply a strong emphasis on the negation?\n",
      "4. Does the sentence convey a sense of impossibility or improbability regarding the noun mentioned?\n",
      "5. Is the sentence structured in a way that aligns with advanced proficiency in English (CEFR Level C2)?\n"
     ]
    },
    {
     "data": {
      "application/vnd.jupyter.widget-view+json": {
       "model_id": "ff1d6b6a69a44c99a5659cca3ce9424b",
       "version_major": 2,
       "version_minor": 0
      },
      "text/plain": [
       "  0%|          | 0/3 [00:00<?, ?it/s]"
      ]
     },
     "metadata": {},
     "output_type": "display_data"
    },
    {
     "name": "stdout",
     "output_type": "stream",
     "text": [
      "Not a single noise could be heard from inside of any of the rooms. \n",
      "1. Yes\n",
      "2. Yes\n",
      "3. Yes\n",
      "4. No\n",
      "5. Yes\n",
      "Not a long time passes before another Polish city, Warsaw, hosts a festival. \n",
      "1. Yes\n",
      "2. No\n",
      "3. No\n",
      "4. No\n",
      "5. Yes\n",
      "Not a single member of the group would have imagined that the \"Luxury coach\" would break down and leave them stranded in the middle of nowhere.\n",
      "1. Yes\n",
      "2. Yes\n",
      "3. No\n",
      "4. Yes\n",
      "5. Yes\n",
      "FORM/USE: 'DON'T YOU ...', WARNING: Can use a negative imperative form with 'you' to give a warning or reprimand.\n",
      "    Don't you ever do that again! \n",
      "\n",
      "Don't you dare! \n",
      "\n",
      "Don't you dare forget me, I want letters from you promptly, understand!\n",
      "[\"Don't\", 'you', 'ever', 'dare', 'forget']\n",
      "1. Does the sentence use the phrase \"Don't you\" at the beginning?\n",
      "2. Is the sentence structured as a negative imperative?\n",
      "3. Does the sentence serve the purpose of giving a warning or reprimand?\n",
      "4. Is the subject of the sentence explicitly \"you\"?\n",
      "5. Is the sentence intended to convey a strong prohibition or command?\n"
     ]
    },
    {
     "data": {
      "application/vnd.jupyter.widget-view+json": {
       "model_id": "83c9cb1863594467a2ff4f315265299a",
       "version_major": 2,
       "version_minor": 0
      },
      "text/plain": [
       "  0%|          | 0/3 [00:00<?, ?it/s]"
      ]
     },
     "metadata": {},
     "output_type": "display_data"
    },
    {
     "name": "stdout",
     "output_type": "stream",
     "text": [
      "Don't you ever do that again! \n",
      "1. Yes\n",
      "2. Yes\n",
      "3. Yes\n",
      "4. Yes\n",
      "5. Yes\n",
      "Don't you dare! \n",
      "1. Yes\n",
      "2. Yes\n",
      "3. Yes\n",
      "4. Yes\n",
      "5. Yes\n",
      "Don't you dare forget me, I want letters from you promptly, understand!\n",
      "1. Yes\n",
      "2. Yes\n",
      "3. Yes\n",
      "4. Yes\n",
      "5. Yes\n"
     ]
    },
    {
     "data": {
      "application/vnd.jupyter.widget-view+json": {
       "model_id": "414fd22918704ec0aa256391721099c1",
       "version_major": 2,
       "version_minor": 0
      },
      "text/plain": [
       "  0%|          | 0/451036 [00:00<?, ?it/s]"
      ]
     },
     "metadata": {},
     "output_type": "display_data"
    },
    {
     "name": "stdout",
     "output_type": "stream",
     "text": [
      "[\"Don't forget to ask when you can receive a reply.\", \"Don't forget to set it when you go out and remember to turn it off when you get back home as it is LOUD!\", \"Don't you dare tell me that...\", \"Don't you ever cheat on me.\", \"Don't you ever look at the messages posted on the bulletin board?\", \"Don't forget to put on more clothes, or you might catch a cold.\", \"'Don't you ever want to take a holiday?'\", \"Don't forget to call me if you have the chance to go there again.\", \"Don't you ever have to meet with professor?\", \"Don't forget to say ' Thank you ' when you take a seat.\"]\n"
     ]
    },
    {
     "data": {
      "application/vnd.jupyter.widget-view+json": {
       "model_id": "d37606b818bb4c58828846f1e97be731",
       "version_major": 2,
       "version_minor": 0
      },
      "text/plain": [
       "  0%|          | 0/50 [00:00<?, ?it/s]"
      ]
     },
     "metadata": {},
     "output_type": "display_data"
    },
    {
     "name": "stdout",
     "output_type": "stream",
     "text": [
      "Don't forget to call me if you have the chance to go there again.\n",
      "1. No\n",
      "2. Yes\n",
      "3. No\n",
      "4. Yes\n",
      "5. No\n",
      "Do not ever sign documents that you don't understand.\n",
      "1. No\n",
      "2. Yes\n",
      "3. Yes\n",
      "4. No\n",
      "5. Yes\n",
      "It also means people don't forget what happens if you plot against your country.\n",
      "1. No\n",
      "2. No\n",
      "3. Yes\n",
      "4. No\n",
      "5. No\n",
      "And don't ever forget it.\n",
      "1. No\n",
      "2. Yes\n",
      "3. Yes\n",
      "4. No\n",
      "5. Yes\n",
      "Don't forget to set it when you go out and remember to turn it off when you get back home as it is LOUD!\n",
      "1. No\n",
      "2. Yes\n",
      "3. Yes\n",
      "4. No\n",
      "5. No\n",
      "I don't think I've ever seen a white parrot, are you sure it wasn't a cockatoo?\n",
      "1. No\n",
      "2. No\n",
      "3. No\n",
      "4. No\n",
      "5. No\n",
      "I quite understand it's not your fault, but don't forget to call me up next time if you can't come.\n",
      "1. No\n",
      "2. Yes\n",
      "3. Yes\n",
      "4. No\n",
      "5. No\n",
      "After you try it once this way, I don't think you'll ever put off studying till the end again.\n",
      "1. No\n",
      "2. No\n",
      "3. No\n",
      "4. Yes\n",
      "5. No\n",
      "Make sure you don't forget to use the small thin paper or aluminum cups or they will stick to the pan\n",
      "1. No\n",
      "2. Yes\n",
      "3. Yes\n",
      "4. Yes\n",
      "5. No\n",
      "I know you don't like watching golf normally, but have you ever watched the Ryder Cup?\n",
      "1. No\n",
      "2. No\n",
      "3. No\n",
      "4. Yes\n",
      "5. No\n",
      "Don't forget to bring your health card with you.\n",
      "1. No\n",
      "2. Yes\n",
      "3. No\n",
      "4. No\n",
      "5. No\n",
      "I spent 20 years of my life with relatives around me 24-7. you know, I don't think I'Ve ever actually spent any time by myself in my parents'home.\n",
      "1. No\n",
      "2. No\n",
      "3. No\n",
      "4. No\n",
      "5. No\n",
      "And why don't you ever dress like that at work?\n",
      "1. No\n",
      "2. No\n",
      "3. No\n",
      "4. Yes\n",
      "5. No\n",
      "OK, but don't forget I'm here for you, and I know how you feel.\n",
      "1. No\n",
      "2. Yes\n",
      "3. No\n",
      "4. No\n",
      "5. No\n",
      "I don't know about any book clubs, but you can always go to a library and check out as many books as you could ever want for free.\n",
      "1. No\n",
      "2. No\n",
      "3. No\n",
      "4. Yes\n",
      "5. No\n",
      "Don't forget to say \" Thank you \" when you take a seat.\n",
      "1. No\n",
      "2. Yes\n",
      "3. No\n",
      "4. No\n",
      "5. No\n",
      "Don't forget to wash you face and brush your teeth before you eat breakfast.\n",
      "1. No\n",
      "2. Yes\n",
      "3. No\n",
      "4. No\n",
      "5. No\n",
      "Well I assume you don't mean you've never heard of Johnny Cash, because he's one of the best-selling musical artists EVER.\n",
      "1. No\n",
      "2. No\n",
      "3. No\n",
      "4. Yes\n",
      "5. No\n",
      "Don't forget to ask when you can receive a reply.\n",
      "1. No\n",
      "2. Yes\n",
      "3. No\n",
      "4. Yes\n",
      "5. No\n",
      "Don't you ever get sick of chips?\n",
      "1. Yes\n",
      "2. No\n",
      "3. No\n",
      "4. Yes\n",
      "5. No\n",
      "Although, don't you ever wonder what ' could have been '?\n",
      "1. No\n",
      "2. No\n",
      "3. No\n",
      "4. Yes\n",
      "5. No\n",
      "If there's ever anything I can do for you , Don't hesitate to let me know.\n",
      "1. No\n",
      "2. Yes\n",
      "3. No\n",
      "4. No\n",
      "5. No\n",
      "Don't forget to call us if you're in Tokyo.\n",
      "1. No\n",
      "2. Yes\n",
      "3. No\n",
      "4. No\n",
      "5. No\n",
      "Although, don't you ever wonder what “ could have been ”?\n",
      "1. No\n",
      "2. No\n",
      "3. No\n",
      "4. Yes\n",
      "5. No\n",
      "Don't you dare tell me that...\n",
      "1. Yes\n",
      "2. Yes\n",
      "3. Yes\n",
      "4. Yes\n",
      "5. Yes\n",
      "Although, don't you ever wonder what could have been?\n",
      "1. No\n",
      "2. No\n",
      "3. No\n",
      "4. Yes\n",
      "5. No\n",
      "Don't you ever look at the messages posted on the bulletin board?\n",
      "1. Yes\n",
      "2. No\n",
      "3. No\n",
      "4. Yes\n",
      "5. No\n",
      "FORM/USE: 'NEITHER': Can use 'Neither' or 'Nor' + with 'do' or 'be' + inverted subject to add to a previous related negative clause, to focus on an additional negative factor.\n",
      "    There are also considerable disturbances during day-time. It is, for example, not possible to lead a conversation, e.g. on the veranda, without shouting. Nor is it possible to watch television peacefully without the thunderous noise in the background. \n",
      "\n",
      "At first, I didn?t pay attention to the large number of magazines and newspapers she subscribed to. Neither did I oppose her 'need' to get new clothes every month.\n",
      "['Nor', 'Neither', 'do', 'does', 'did', 'is', 'are', 'was', 'were']\n",
      "1. Is there a previous negative clause in the context?\n",
      "2. Is 'Neither' or 'Nor' used at the beginning of the sentence?\n",
      "3. Is the verb 'do' or 'be' used immediately after 'Neither' or 'Nor'?\n",
      "4. Is the subject inverted (i.e., placed after the verb)?\n",
      "5. Does the sentence add an additional negative factor related to the previous negative clause?\n"
     ]
    },
    {
     "data": {
      "application/vnd.jupyter.widget-view+json": {
       "model_id": "7d39033ae32145b68b47f10ec6beda1a",
       "version_major": 2,
       "version_minor": 0
      },
      "text/plain": [
       "  0%|          | 0/2 [00:00<?, ?it/s]"
      ]
     },
     "metadata": {},
     "output_type": "display_data"
    },
    {
     "name": "stdout",
     "output_type": "stream",
     "text": [
      "There are also considerable disturbances during day-time. It is, for example, not possible to lead a conversation, e.g. on the veranda, without shouting. Nor is it possible to watch television peacefully without the thunderous noise in the background. \n",
      "1. Yes\n",
      "2. Nor\n",
      "3. be\n",
      "4. Yes\n",
      "5. Yes\n",
      "At first, I didn?t pay attention to the large number of magazines and newspapers she subscribed to. Neither did I oppose her 'need' to get new clothes every month.\n",
      "1. Yes\n",
      "2. Neither\n",
      "3. Did\n",
      "4. Yes\n",
      "5. Yes\n"
     ]
    },
    {
     "data": {
      "application/vnd.jupyter.widget-view+json": {
       "model_id": "8b3b890bc5c548f78221f2a34520bf4e",
       "version_major": 2,
       "version_minor": 0
      },
      "text/plain": [
       "  0%|          | 0/451036 [00:00<?, ?it/s]"
      ]
     },
     "metadata": {},
     "output_type": "display_data"
    },
    {
     "name": "stdout",
     "output_type": "stream",
     "text": [
      "['I did not know all that, the things people are able to do with modern day cinematography is beautiful.', 'When people talk about the Wright brothers, they didn’t invent the concept of flying – everyone was trying to do it – but they did it and got the credit for inventing the aeroplane so I think I should get the credit for inventing the cash dispenser.” \\nThe good news for Goodfellow is that this is now starting to happen.', 'Other services expose BBM’s limitations: unlike Skype and Viber, it does not yet offer video or voice calls; unlike Path, it does not do location sharing; there is no video sharing, as on iMessage; and the stickers (a more sophisticated version of the smiley face), adored by kids the world over, are also unforgivably absent.', 'Well I did not know that, but she is female so maybe agoraphobia does have something to do with genetics.', 'The chances are so high I watched a show where Micheal Vick was saying football is so risky and his oldest son wants to play and he just want him to do something else besides football.', 'We have another octopus, Blotchy, but he is smaller than Inky and Inky had the personality.” \\nThe aquarium has no plans to step up security as a result of the escape as Inky was a “one- off” but the staff are “increasingly aware of what octopuses can actually do”.', 'I am surprised it is that high, we are not a very good team, when Dirk Nowitzki was young we were the best', '“It feels almost like intimacy overload.” She added: “I’m holding a lot in my work life for people and sometimes it felt like it was too heavy to do in my personal life also.” \\nBut Beausoleil does love the way social media connects the world in a truly unique way, citing it as one of her only reasons for staying on Facebook for as long as she did.', 'Humans, horses, and orangutans are among the few species that may grow their head hair very long, were you aware that it was something that not every animal could do?', 'In terms of this similarity relation, the truth condition for the counterfactual “If A were (or had been) the case, C would be (or have been) the case” is stated as follows:\\n(1)\\n“If A were the case, C would be the case” is true in the actual world if and only if either (i) there are no possible A-worlds; or (ii) some A-world where C holds is closer to the actual world than is any A-world where C does not hold.']\n"
     ]
    },
    {
     "data": {
      "application/vnd.jupyter.widget-view+json": {
       "model_id": "feada8531a3e4786827516a7b2bf9d56",
       "version_major": 2,
       "version_minor": 0
      },
      "text/plain": [
       "  0%|          | 0/50 [00:00<?, ?it/s]"
      ]
     },
     "metadata": {},
     "output_type": "display_data"
    },
    {
     "name": "stdout",
     "output_type": "stream",
     "text": [
      "One thing we do know is that the seizures are the result of excessive and abnormal nerve cell activity in the cortex of the brain.\n",
      "1. No\n",
      "2. No\n",
      "3. No\n",
      "4. No\n",
      "5. No\n",
      "Did do you know that the world they are in is considered the middle-earth which... Is also Nore for human inhabited world?\n",
      "1. No\n",
      "2. No\n",
      "3. No\n",
      "4. No\n",
      "5. No\n",
      "The fair foods were so neat - i was amazed at what they could do in a fryer!\n",
      "1. No\n",
      "2. No\n",
      "3. No\n",
      "4. No\n",
      "5. No\n",
      "My twins are only 10 months old...I do like to watch King of Vegas, it was a gambling show that aired on Spike TV around 2006.\n",
      "1. No\n",
      "2. No\n",
      "3. No\n",
      "4. No\n",
      "5. No\n",
      "I did not know all that, the things people are able to do with modern day cinematography is beautiful.\n",
      "1. No\n",
      "2. No\n",
      "3. No\n",
      "4. No\n",
      "5. No\n",
      "Well, University of Chicago is a private university unfortunately, but they are very generous if you were to get a scholarship.\n",
      "1. No\n",
      "2. No\n",
      "3. No\n",
      "4. No\n",
      "5. No\n",
      "We have another octopus, Blotchy, but he is smaller than Inky and Inky had the personality.” \n",
      "The aquarium has no plans to step up security as a result of the escape as Inky was a “one- off” but the staff are “increasingly aware of what octopuses can actually do”.\n",
      "1. No\n",
      "2. No\n",
      "3. No\n",
      "4. No\n",
      "5. No\n",
      "I was thinking the same they could have been mistaken for a dinosaur because dinosaurs are a diverse group of reptiles and some did fly.\n",
      "1. No\n",
      "2. No\n",
      "3. No\n",
      "4. No\n",
      "5. No\n",
      "Neither do I .They were a hip hop group.\n",
      "1. Yes\n",
      "2. Neither\n",
      "3. Do\n",
      "4. Yes\n",
      "5. Yes\n",
      "I am surprised it is that high, we are not a very good team, when Dirk Nowitzki was young we were the best\n",
      "1. Yes\n",
      "2. No\n",
      "3. No\n",
      "4. No\n",
      "5. No\n",
      "Animal cruelty is a wide range thing across the world, do you think shelters are cruel?\n",
      "1. No\n",
      "2. No\n",
      "3. No\n",
      "4. No\n",
      "5. No\n",
      "Karaoke is great, and yes, Neil Diamond songs are fun to do.\n",
      "1. No\n",
      "2. No\n",
      "3. No\n",
      "4. No\n",
      "5. No\n",
      "What are you going to do when your year at Weston is over?\n",
      "1. No\n",
      "2. No\n",
      "3. No\n",
      "4. No\n",
      "5. No\n",
      "“It feels almost like intimacy overload.” She added: “I’m holding a lot in my work life for people and sometimes it felt like it was too heavy to do in my personal life also.” \n",
      "But Beausoleil does love the way social media connects the world in a truly unique way, citing it as one of her only reasons for staying on Facebook for as long as she did.\n",
      "1. Yes\n",
      "2. No\n",
      "3. No\n",
      "4. No\n",
      "5. No\n",
      "Speaking of protein, sushi is actually an important source of protein for japanese consumers, so it does do some good in the world!\n",
      "1. No\n",
      "2. No\n",
      "3. No\n",
      "4. No\n",
      "5. No\n",
      "Where did you do it and how was it?\n",
      "1. No\n",
      "2. No\n",
      "3. No\n",
      "4. No\n",
      "5. No\n",
      "Yes im pretty sure it was, it was nothing fancy just your average saxophone,, althoug i find it really interesting they are made from brass do you think that affects the sound?\n",
      "1. No\n",
      "2. No\n",
      "3. No\n",
      "4. No\n",
      "5. No\n",
      "That is very true, although it was a pretty silly thing to try and do, looking back on it now\n",
      "1. No\n",
      "2. No\n",
      "3. No\n",
      "4. No\n",
      "5. No\n",
      "Is that were are couple do not officially marry but co-habit?\n",
      "1. No\n",
      "2. No\n",
      "3. No\n",
      "4. No\n",
      "5. No\n",
      "Not really - I know a lot of people do - they were just not really big when I was a teenager.\n",
      "1. Yes\n",
      "2. No\n",
      "3. No\n",
      "4. No\n",
      "5. No\n",
      "If we did not remember anything, we would all spend even more time on our phones and computers than we already do, which is not good for society.\n",
      "1. No\n",
      "2. No\n",
      "3. No\n",
      "4. No\n",
      "5. No\n",
      "What is it about Christmas music that enters our very souls, calms us and even gets us to do things that are right for humanity ?\n",
      "1. No\n",
      "2. No\n",
      "3. No\n",
      "4. No\n",
      "5. No\n",
      "There is a morally significant difference between unhooking someone from one’s own body, which does not involve initiating a fatal causal sequence, since the person was already in the grips of a fatal condition before being hooked up to us, and abortion, which does initiate a fatal sequence.\n",
      "1. No\n",
      "2. No\n",
      "3. No\n",
      "4. No\n",
      "5. No\n",
      "Firstly, you'd better divide them into different groups-who were the people that are your friends as well as your workmates and who are the people you do not know well but you see pretty much daily.\n",
      "1. No\n",
      "2. No\n",
      "3. No\n",
      "4. No\n",
      "5. No\n",
      "I know I was an idiot, But if there is anything I can do to make up, Please do tell me.\n",
      "1. No\n",
      "2. No\n",
      "3. No\n",
      "4. No\n",
      "5. No\n",
      "If you have your ID and are willing to pay a year in advance, we can do that for you today, there is no need to wait.\n",
      "1. No\n",
      "2. No\n",
      "3. No\n",
      "4. No\n",
      "5. No\n",
      "The case is neither supported by facts nor does it have valid legal grounds, he added.\n",
      "1. Yes\n",
      "2. No\n",
      "3. No\n",
      "4. Yes\n",
      "5. Yes\n",
      "FORM/USE: 'IN THE LEAST', EMPHASIS: Can use 'in the least' after a negative form for emphasis. \n",
      "    She has lost her little brother but that does not discourage her in the least. \n",
      "\n",
      "Most of the times, the director of a television channel is not in the least interested in the quality, but only in the matter of how many people watch their programmes. \n",
      "\n",
      "What others say doesn't matter in the least.\n",
      "['not', 'in the least', \"doesn't\", 'does not', 'do not', 'did not', \"isn't\", 'is not', \"aren't\", 'are not', \"wasn't\", 'was not', \"weren't\", 'were not']\n",
      "1. Is the phrase \"in the least\" used in the sentence?\n",
      "2. Is \"in the least\" used after a negative form (e.g., not, doesn't, does not)?\n",
      "3. Does the use of \"in the least\" serve to emphasize the negation in the sentence?\n"
     ]
    },
    {
     "data": {
      "application/vnd.jupyter.widget-view+json": {
       "model_id": "15c650bef2674a22bb705ae5ae6df739",
       "version_major": 2,
       "version_minor": 0
      },
      "text/plain": [
       "  0%|          | 0/3 [00:00<?, ?it/s]"
      ]
     },
     "metadata": {},
     "output_type": "display_data"
    },
    {
     "name": "stdout",
     "output_type": "stream",
     "text": [
      "She has lost her little brother but that does not discourage her in the least. \n",
      "1. Yes\n",
      "2. Yes\n",
      "3. Yes\n",
      "Most of the times, the director of a television channel is not in the least interested in the quality, but only in the matter of how many people watch their programmes. \n",
      "1. Yes\n",
      "2. Yes\n",
      "3. Yes\n",
      "What others say doesn't matter in the least.\n",
      "1. Yes\n",
      "2. Yes\n",
      "3. Yes\n"
     ]
    },
    {
     "data": {
      "application/vnd.jupyter.widget-view+json": {
       "model_id": "784538694cea481eb2f0c1c259acf906",
       "version_major": 2,
       "version_minor": 0
      },
      "text/plain": [
       "  0%|          | 0/451036 [00:00<?, ?it/s]"
      ]
     },
     "metadata": {},
     "output_type": "display_data"
    },
    {
     "name": "stdout",
     "output_type": "stream",
     "text": [
      "['Nope just me, but red hair is often associated with fair skin people but my skin is not fair in the least bit.', 'I do not think of Quinn in a romantic light in the least.', 'But if these entities are not somehow identified with the wave function itself—and if talk of them is not merely shorthand for elaborate statements about measurements—then where are they to be found in the quantum description?', 'He was not the first president to be televised, but previous presidents who appeared on TV did not reach the general public because before 1960, not many Americans owned a set.', 'If we did not remember anything, we would all spend even more time on our phones and computers than we already do, which is not good for society.', '(VV 53)\\nNevertheless, Foot admits that the moral issue is not entirely resolved by the matter of rights, so it does not follow that there is no moral objection to doing something because it would involve no violation of rights.', 'I did not know that, but I have seen a few of the hobbit films, they were not bad!', ' React in Javascript is not a thing i am into, i do not know to much about it.', 'If it is not, do not be afraid to ask the landlord to add that information.', 'People have been injured and occasionally killed when they are not strapped in, or get struck by poorly secured luggage – but the plane is not going to be knocked out of the sky.']\n"
     ]
    },
    {
     "data": {
      "application/vnd.jupyter.widget-view+json": {
       "model_id": "86980881ecfb47a09e390cdd159639ca",
       "version_major": 2,
       "version_minor": 0
      },
      "text/plain": [
       "  0%|          | 0/50 [00:00<?, ?it/s]"
      ]
     },
     "metadata": {},
     "output_type": "display_data"
    },
    {
     "name": "stdout",
     "output_type": "stream",
     "text": [
      "I wish it were not so fattening as it is not on my diet\n",
      "1. No\n",
      "2. No\n",
      "3. No\n",
      "This kind of self-presentation is not yet presentation of the self or the ego, which was not an issue for Meinong.\n",
      "1. No\n",
      "2. No\n",
      "3. No\n",
      "The differing opinions on these matters are not new, and the fact that there are differing opinions within both parties is not new, Carney said Tuesday.\n",
      "1. No\n",
      "2. No\n",
      "3. No\n",
      "The road to success in the music industry is not an easy one to travel, but that does not deter some American dreamers.\n",
      "1. No\n",
      "2. No\n",
      "3. No\n",
      "well usually only child means you have no siblings, I do have a brother but we were seperated at 9yrs old, so we did not grow up together, I do not fit the definition but really grew up as one\n",
      "1. No\n",
      "2. No\n",
      "3. No\n",
      "He was not the first president to be televised, but previous presidents who appeared on TV did not reach the general public because before 1960, not many Americans owned a set.\n",
      "1. No\n",
      "2. No\n",
      "3. No\n",
      "AN overwhelming consensus regarding science is that in fact Ghosts do not exist and are not real.\n",
      "1. No\n",
      "2. No\n",
      "3. No\n",
      "My childhood was not that great and I was placed into a home with a caregiver who did not really care.\n",
      "1. No\n",
      "2. No\n",
      "3. No\n",
      "I was not aware of what Telenovela was did not know it also called culebroens in Spain.\n",
      "1. No\n",
      "2. No\n",
      "3. No\n",
      "There is not really a concrete date just because many different authors contributed to it, they are not sure\n",
      "1. No\n",
      "2. No\n",
      "3. No\n",
      "Well, I am sorry, but we are not authorized to exchange coins because it is low and we do not have enough foreign coins.\n",
      "1. No\n",
      "2. No\n",
      "3. No\n",
      "I did not know that, only a few breeds of cats are common here in the United States so we do not get to see the beauty of them all in person sadly.\n",
      "1. No\n",
      "2. No\n",
      "3. No\n",
      "Nope just me, but red hair is often associated with fair skin people but my skin is not fair in the least bit.\n",
      "1. No\n",
      "2. No\n",
      "3. No\n",
      "That does not sound fun, I do not remember uniforms, that would be enough to turn me off form it\n",
      "1. No\n",
      "2. No\n",
      "3. No\n",
      "People have been injured and occasionally killed when they are not strapped in, or get struck by poorly secured luggage – but the plane is not going to be knocked out of the sky.\n",
      "1. No\n",
      "2. No\n",
      "3. No\n",
      "Giving iTunes the download exclusive on an album was not that big a leap of faith for acts given just how much of the download market it controls but trying to do that in streaming is not the same thing.\n",
      "1. No\n",
      "2. No\n",
      "3. No\n",
      "I do not think i have to since it is a  drug-free addictions and it is not as bad as addiction to gambling, Internet, or video-games.\n",
      "1. No\n",
      "2. No\n",
      "3. No\n",
      "That is not good, I wish that were not the case, But it is super cool to be able to see in the dark!\n",
      "1. No\n",
      "2. No\n",
      "3. No\n",
      "For an astrophysicist, that is not a difficult decision to make but it is also a moot point because I do not think we will see a one-way mission in my lifetime.”\n",
      "1. No\n",
      "2. No\n",
      "3. No\n",
      "Danes are not having enough babies, according to a report from the Copenhagen hospital Rigshospitalet, and the current rate of 1.7 children per family is not enough to maintain Denmark’s population.\n",
      "1. No\n",
      "2. No\n",
      "3. No\n",
      "Of course, if it is not natural we as humans can do all sorts of damage to ecosystems and possibilities of mass extinctions of species that was not intended.\n",
      "1. No\n",
      "2. No\n",
      "3. No\n",
      "I do not, but they are not considered any type of aviator, so their training would be very specific.\n",
      "1. No\n",
      "2. No\n",
      "3. No\n",
      "ADHD is not fun either, I have that too, a lot of people see it as a mental disorder, but I do not\n",
      "1. No\n",
      "2. No\n",
      "3. No\n",
      "There is not really enough information about what he wrote about, maybe he was not a successful writer?\n",
      "1. No\n",
      "2. No\n",
      "3. No\n",
      " React in Javascript is not a thing i am into, i do not know to much about it.\n",
      "1. No\n",
      "2. No\n",
      "3. No\n",
      "I did not realize he was not only a singer-songwriter, but also guitarist, actor and author.\n",
      "1. No\n",
      "2. No\n",
      "3. No\n"
     ]
    }
   ],
   "source": [
    "for idx, rule in rules.loc[1192:].iterrows():\n",
    "    rules.to_json(\"../data/auto_training.json\")\n",
    "    print(f\"\"\"{rule['guideword']}: {rule['Can-do statement']}\n",
    "    {rule['Example']}\"\"\")\n",
    "    # ask GPT for search strings\n",
    "    words = get_words(rule)\n",
    "    print(words)\n",
    "    # ask GPT for detection questions\n",
    "    questions = get_questions(rule)\n",
    "    print(questions)\n",
    "    # do a sanity check of the questions with the given examples\n",
    "    positives, negatives = judge(rule['Example'].split(\"\\n\\n\"), questions)\n",
    "    if not len(negatives)==0:\n",
    "        continue\n",
    "    rules.at[idx, 'sanity_passed'] = True\n",
    "    # Find candidates in corpus\n",
    "    results, sorted_sentences, hits = search_corpus(words, sents)\n",
    "    rules.at[idx, 'search_matches'] = len(hits)\n",
    "    others = list(sents.difference(set([key for key, value in results.items() if value == 0])))\n",
    "    print(sorted_sentences[:10])\n",
    "    # judge candidates\n",
    "    positives = []\n",
    "    negatives = []\n",
    "    \n",
    "    candidates = sorted_sentences[:50]\n",
    "    #random.shuffle(candidates)\n",
    "    candidates = list(set(candidates).difference(set(positives+negatives)))\n",
    "    new_positives, new_negatives = judge(candidates, questions)\n",
    "    if len(new_positives) < 10: continue\n",
    "    rules.at[idx, 'search_precision'] = len(new_positives) / (len(new_positives)+len(new_negatives))\n",
    "    if len(new_negatives) == 0: new_negatives = random.sample(others, 1)\n",
    "    positives = positives + new_positives\n",
    "    negatives = negatives + new_negatives\n",
    "     \n",
    "    # iteratively train classifier\n",
    "    metrics = {\"precision\": 0.}\n",
    "    iterations = 0\n",
    "    while metrics['precision'] < 0.8 and iterations < 5:\n",
    "        iterations += 0.2\n",
    "        classifier = models.RuleDetector(models.bert_encoder).to(models.device)\n",
    "        classifier, metrics = get_trained_classifier(positives, negatives, others, classifier, ratio=1, verbose=True)\n",
    "        print(metrics)\n",
    "        rules.at[idx, 'f1_scores'] = rules.at[idx, 'f1_scores'] + [metrics['f1']]\n",
    "        if metrics['precision'] == 0.: continue\n",
    "        # get new candidates\n",
    "        new_candidates, num_tested = get_new_candidates(classifier, positives, encoded_inputs)\n",
    "        rules.at[idx, 'detector_match_ratio'] = rules.at[idx, 'detector_match_ratio'] + [len(new_candidates)/num_tested]\n",
    "        if len(new_candidates) < 5: continue\n",
    "        iterations += 0.8\n",
    "        # retrain on new candidates\n",
    "        new_positives, new_negatives = judge(new_candidates, questions)\n",
    "        precision = len(new_positives) / (len(new_positives)+len(new_negatives))\n",
    "        rules.at[idx, 'detector_precisions'] = rules.at[idx, 'detector_precisions'] + [precision]\n",
    "        print(precision)\n",
    "        if precision >= 0.8: break\n",
    "        \n",
    "        positives = positives + new_positives\n",
    "        negatives = negatives + new_negatives\n",
    "    \n",
    "    models.save_classifier(classifier, rule['#'], \"auto_training\")"
   ]
  },
  {
   "cell_type": "code",
   "execution_count": 124,
   "id": "f58fbbd5-f636-4890-83af-e1645cf747ec",
   "metadata": {},
   "outputs": [],
   "source": [
    "rules.to_json(\"../data/auto_training.json\")"
   ]
  },
  {
   "cell_type": "code",
   "execution_count": 122,
   "id": "44324b62-72b8-4999-b2c8-2528fdd2d810",
   "metadata": {},
   "outputs": [
    {
     "data": {
      "text/plain": [
       "0.6233766233766234"
      ]
     },
     "execution_count": 122,
     "metadata": {},
     "output_type": "execute_result"
    }
   ],
   "source": [
    "rules['sanity_passed'].mean()"
   ]
  },
  {
   "cell_type": "code",
   "execution_count": 123,
   "id": "02dd6905-90cc-4ed9-b15b-f5d11268a687",
   "metadata": {},
   "outputs": [
    {
     "data": {
      "text/plain": [
       "0.08333333333333333"
      ]
     },
     "execution_count": 123,
     "metadata": {},
     "output_type": "execute_result"
    }
   ],
   "source": [
    "(rules[rules['sanity_passed']]['search_matches']<25).mean()"
   ]
  },
  {
   "cell_type": "code",
   "execution_count": 120,
   "id": "6c427858-3c61-481f-9e63-9526fa08d30d",
   "metadata": {},
   "outputs": [
    {
     "data": {
      "text/plain": [
       "0.4632972359770533"
      ]
     },
     "execution_count": 120,
     "metadata": {},
     "output_type": "execute_result"
    }
   ],
   "source": [
    "rules[rules['sanity_passed']]['search_precision'].mean()"
   ]
  },
  {
   "cell_type": "code",
   "execution_count": 121,
   "id": "d4178184-83a8-4fb4-a6be-92d285ad73f4",
   "metadata": {},
   "outputs": [
    {
     "data": {
      "text/plain": [
       "0.3214830620286911"
      ]
     },
     "execution_count": 121,
     "metadata": {},
     "output_type": "execute_result"
    }
   ],
   "source": [
    "rules[rules['sanity_passed']]['search_precision'].std()"
   ]
  },
  {
   "cell_type": "code",
   "execution_count": 126,
   "id": "2de48544-ed92-4d2a-b3e4-f733411bb726",
   "metadata": {},
   "outputs": [
    {
     "data": {
      "text/plain": [
       "0.15495833333333334"
      ]
     },
     "execution_count": 126,
     "metadata": {},
     "output_type": "execute_result"
    }
   ],
   "source": [
    "rules[rules['sanity_passed']]['f1_scores'].apply(lambda x: x[-1] if len(x) else 0).mean()"
   ]
  },
  {
   "cell_type": "code",
   "execution_count": 127,
   "id": "dddcf9ac-a3ea-4b65-8674-d73d7da213ac",
   "metadata": {},
   "outputs": [
    {
     "data": {
      "text/plain": [
       "0.23025498893417706"
      ]
     },
     "execution_count": 127,
     "metadata": {},
     "output_type": "execute_result"
    }
   ],
   "source": [
    "rules[rules['sanity_passed']]['f1_scores'].apply(lambda x: x[-1] if len(x) else 0).std()"
   ]
  },
  {
   "cell_type": "code",
   "execution_count": 131,
   "id": "819ad1ce-5126-480e-b91f-0b6f6afb9ac9",
   "metadata": {},
   "outputs": [
    {
     "data": {
      "text/plain": [
       "0.008629369704815286"
      ]
     },
     "execution_count": 131,
     "metadata": {},
     "output_type": "execute_result"
    }
   ],
   "source": [
    "rules[rules['sanity_passed']]['detector_match_ratio'].apply(lambda x: x[-1] if len(x) else 0).mean()"
   ]
  },
  {
   "cell_type": "code",
   "execution_count": 130,
   "id": "96bc94b9-939c-4105-8d50-702ffe5fb35f",
   "metadata": {},
   "outputs": [
    {
     "data": {
      "text/plain": [
       "0.10546875"
      ]
     },
     "execution_count": 130,
     "metadata": {},
     "output_type": "execute_result"
    }
   ],
   "source": [
    "rules[rules['sanity_passed']]['detector_match_ratio'].apply(lambda x: x[-1] if len(x) else 0).max()"
   ]
  },
  {
   "cell_type": "code",
   "execution_count": 106,
   "id": "0a0e4bfc-5741-4ed4-9fd2-25393ec1ad7e",
   "metadata": {},
   "outputs": [
    {
     "data": {
      "text/plain": [
       "<Axes: >"
      ]
     },
     "execution_count": 106,
     "metadata": {},
     "output_type": "execute_result"
    },
    {
     "data": {
      "image/png": "[encoded data removed]",
      "text/plain": [
       "<Figure size 640x480 with 1 Axes>"
      ]
     },
     "metadata": {},
     "output_type": "display_data"
    }
   ],
   "source": [
    "rules[rules['sanity_passed']]['detector_precisions'].apply(lambda x: x[-1] if len(x) else 0).hist()"
   ]
  },
  {
   "cell_type": "code",
   "execution_count": 133,
   "id": "f2206069-3b78-4a9f-bf30-15a3a525a225",
   "metadata": {},
   "outputs": [
    {
     "data": {
      "text/plain": [
       "0.07751570490700925"
      ]
     },
     "execution_count": 133,
     "metadata": {},
     "output_type": "execute_result"
    }
   ],
   "source": [
    "rules[rules['sanity_passed']]['detector_precisions'].apply(lambda x: x[-1] if len(x) else 0).mean()"
   ]
  },
  {
   "cell_type": "code",
   "execution_count": 142,
   "id": "98ad842f-aab0-41bf-b0bf-3d8bba3a71d2",
   "metadata": {},
   "outputs": [],
   "source": [
    "from matplotlib import pyplot as plt\n",
    "import seaborn as sns\n",
    "from matplotlib.ticker import FuncFormatter\n"
   ]
  },
  {
   "cell_type": "code",
   "execution_count": 148,
   "id": "39ed79ee-19bd-4bf0-b937-628578f40c4f",
   "metadata": {},
   "outputs": [
    {
     "data": {
      "image/png": "[encoded data removed]",
      "text/plain": [
       "<Figure size 500x250 with 1 Axes>"
      ]
     },
     "metadata": {},
     "output_type": "display_data"
    }
   ],
   "source": [
    "plt.figure(figsize=(5,2.5))\n",
    "ax =sns.histplot(data=rules[rules['sanity_passed']]['detector_precisions'].apply(lambda x: x[-1] if len(x) else 0), bins=10, kde=True, color=\"skyblue\", edgecolor='black', alpha=0.7, legend=False)\n",
    "ax.set_ylabel(f\"Number of EGP skills\")\n",
    "ax.set_xlabel(\"Precision of detected examples in corpus\")\n",
    "ax.xaxis.set_major_formatter(FuncFormatter(lambda x, _: f'{x*100:.0f}%'))\n",
    "ax.set_xlim(0, 1)\n",
    "plt.tight_layout()\n",
    "plt.savefig('../results/auto_training.pdf')\n",
    "plt.show()"
   ]
  },
  {
   "cell_type": "code",
   "execution_count": 507,
   "id": "b517effb-78da-47ee-b189-b765019336e9",
   "metadata": {},
   "outputs": [],
   "source": [
    "# output dataset\n",
    "\n",
    "output_path = '../data/auto_annotated_corpus.json'\n",
    "instances = pd.DataFrame(columns=['#', 'sentence', 'positive']) if not os.path.exists(output_path) else pd.read_json(output_path)\n",
    "instances['positive'] = instances['positive'].astype(bool)"
   ]
  },
  {
   "cell_type": "code",
   "execution_count": 511,
   "id": "018749d7-19ea-4e99-b28a-1e19cf2f5d29",
   "metadata": {},
   "outputs": [],
   "source": [
    "for sentence in positives:\n",
    "    new_row = pd.DataFrame({'#': [rule['#']], 'sentence': [sentence], 'positive': [False]})\n",
    "    instances = pd.concat([instances, new_row], ignore_index=True)\n",
    "for sentence in negatives:\n",
    "    new_row = pd.DataFrame({'#': [rule['#']], 'sentence': [sentence], 'positive': [False]})\n",
    "    instances = pd.concat([instances, new_row], ignore_index=True)"
   ]
  },
  {
   "cell_type": "code",
   "execution_count": 514,
   "id": "eb8deace-cda9-4c78-9ddb-063c64fb1683",
   "metadata": {},
   "outputs": [],
   "source": [
    "instances.to_json(output_path)"
   ]
  },
  {
   "cell_type": "code",
   "execution_count": null,
   "id": "b050535d-f39c-4288-a73d-7973198b7b21",
   "metadata": {},
   "outputs": [],
   "source": []
  }
 ],
 "metadata": {
  "kernelspec": {
   "display_name": "Python 3 (ipykernel)",
   "language": "python",
   "name": "python3"
  },
  "language_info": {
   "codemirror_mode": {
    "name": "ipython",
    "version": 3
   },
   "file_extension": ".py",
   "mimetype": "text/x-python",
   "name": "python",
   "nbconvert_exporter": "python",
   "pygments_lexer": "ipython3",
   "version": "3.11.6"
  }
 },
 "nbformat": 4,
 "nbformat_minor": 5
}
