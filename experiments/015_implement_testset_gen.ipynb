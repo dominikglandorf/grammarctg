{
 "cells": [
  {
   "cell_type": "code",
   "execution_count": 1,
   "id": "a7bc752d-96ee-4791-8846-7fc7e20f2f49",
   "metadata": {},
   "outputs": [],
   "source": [
    "from types import SimpleNamespace\n",
    "\n",
    "args = SimpleNamespace(\n",
    "    input_files=[\"task1_test_gpt35.json\"],\n",
    "    evaluate_quality=True,\n",
    "    max_rows=10\n",
    ")"
   ]
  },
  {
   "cell_type": "code",
   "execution_count": 5,
   "id": "3125a9a9-c317-41af-a322-a2c09321b3b7",
   "metadata": {},
   "outputs": [],
   "source": [
    "import sys\n",
    "sys.path.append(f'../source')\n",
    "\n",
    "import evaluation\n",
    "import pandas as pd"
   ]
  },
  {
   "cell_type": "code",
   "execution_count": 6,
   "id": "a7cd75d0-c899-4a1b-a784-4bef139af9b2",
   "metadata": {},
   "outputs": [],
   "source": [
    "for file in args.input_files:\n",
    "    input_file = f'../data/{file}'\n",
    "    testset = pd.read_json(input_file)\n",
    "    output_file = f'../data/{file.replace(\".json\", \"\")}_eval.json'\n",
    "    condition = testset['responses'].apply(len)>0\n",
    "    max_rows = min(args.max_rows, len(testset))\n",
    "    subset = testset[condition]\n",
    "    \n",
    "    results = evaluation.evaluate_responses(subset['context'], subset['responses'], subset['constraints'])\n",
    "    testset = pd.concat([testset, pd.DataFrame(results)], axis=1)\n",
    "    testset.to_json(output_file)"
   ]
  }
 ],
 "metadata": {
  "kernelspec": {
   "display_name": "Python 3 (ipykernel)",
   "language": "python",
   "name": "python3"
  },
  "language_info": {
   "codemirror_mode": {
    "name": "ipython",
    "version": 3
   },
   "file_extension": ".py",
   "mimetype": "text/x-python",
   "name": "python",
   "nbconvert_exporter": "python",
   "pygments_lexer": "ipython3",
   "version": "3.11.2"
  }
 },
 "nbformat": 4,
 "nbformat_minor": 5
}
