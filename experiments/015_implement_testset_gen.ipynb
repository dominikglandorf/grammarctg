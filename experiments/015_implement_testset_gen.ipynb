{
 "cells": [
  {
   "cell_type": "code",
   "execution_count": 17,
   "id": "a7bc752d-96ee-4791-8846-7fc7e20f2f49",
   "metadata": {},
   "outputs": [],
   "source": [
    "from types import SimpleNamespace\n",
    "\n",
    "args = SimpleNamespace(\n",
    "    input_files=[\"task1_test_gpt35.json\"],\n",
    "    skip_response_quality=False,\n",
    "    max_rows=40\n",
    ")"
   ]
  },
  {
   "cell_type": "code",
   "execution_count": 12,
   "id": "3125a9a9-c317-41af-a322-a2c09321b3b7",
   "metadata": {},
   "outputs": [],
   "source": [
    "import sys\n",
    "sys.path.append(f'../source')\n",
    "\n",
    "import evaluation\n",
    "import pandas as pd\n",
    "from tqdm.notebook import tqdm\n",
    "import os"
   ]
  },
  {
   "cell_type": "code",
   "execution_count": 13,
   "id": "a7cd75d0-c899-4a1b-a784-4bef139af9b2",
   "metadata": {},
   "outputs": [],
   "source": [
    "for file in args.input_files:\n",
    "    input_file = f'../data/{file}'\n",
    "    output_file = f'../data/{file.replace(\".json\", \"\")}_eval.json'\n",
    "    if not os.path.exists(output_file):\n",
    "        testset = pd.read_json(input_file)\n",
    "        testset['Distinctiveness'] = [None] * len(testset)\n",
    "        testset['positive_constraints'] = [[]] * len(testset)\n",
    "        for quality_metric in evaluation.gpt_metrics.keys():\n",
    "            testset[quality_metric] = [None] * len(testset)\n",
    "    else: \n",
    "        testset = pd.read_json(output_file)\n",
    "            \n",
    "    condition = (testset['responses'].apply(len)>0) & testset['Relevance'].isna()\n",
    "    max_rows = min(args.max_rows, len(testset))\n",
    "    subset = testset[condition]\n"
   ]
  },
  {
   "cell_type": "code",
   "execution_count": 16,
   "id": "842a1b7a-cd8b-43d7-a1f3-c64d77e83cd0",
   "metadata": {},
   "outputs": [
    {
     "data": {
      "application/vnd.jupyter.widget-view+json": {
       "model_id": "16b5df4a2a044c699a409134d9f0cbc2",
       "version_major": 2,
       "version_minor": 0
      },
      "text/plain": [
       "0it [00:00, ?it/s]"
      ]
     },
     "metadata": {},
     "output_type": "display_data"
    }
   ],
   "source": [
    "\n",
    "for idx, case in tqdm(subset.iterrows(), total=max(max_rows-(~condition).sum(), 0)):\n",
    "    if idx >= max_rows: break\n",
    "    metrics = evaluation.evaluate(case['context'], case['responses'], case['constraints'], evaluate_quality=not args.skip_response_quality)\n",
    "    print(metrics)\n",
    "    for metric, value in metrics.items():\n",
    "        testset.at[idx, metric] = value\n",
    "    #testset.to_json(output_file)"
   ]
  },
  {
   "cell_type": "code",
   "execution_count": 18,
   "id": "70980eec-5d47-4e53-8d00-0aec172038a4",
   "metadata": {},
   "outputs": [
    {
     "data": {
      "text/plain": [
       "0      0.708333\n",
       "1      0.600000\n",
       "2      0.714286\n",
       "3      0.962963\n",
       "4      0.670330\n",
       "         ...   \n",
       "295    1.000000\n",
       "296    0.940299\n",
       "297    0.765957\n",
       "298    0.935065\n",
       "299    0.942029\n",
       "Name: Distinctiveness, Length: 300, dtype: float64"
      ]
     },
     "execution_count": 18,
     "metadata": {},
     "output_type": "execute_result"
    }
   ],
   "source": [
    "testset['Distinctiveness']"
   ]
  },
  {
   "cell_type": "code",
   "execution_count": null,
   "id": "54953852-046b-4203-80c5-96b9163e0fda",
   "metadata": {},
   "outputs": [],
   "source": []
  }
 ],
 "metadata": {
  "kernelspec": {
   "display_name": "Python 3 (ipykernel)",
   "language": "python",
   "name": "python3"
  },
  "language_info": {
   "codemirror_mode": {
    "name": "ipython",
    "version": 3
   },
   "file_extension": ".py",
   "mimetype": "text/x-python",
   "name": "python",
   "nbconvert_exporter": "python",
   "pygments_lexer": "ipython3",
   "version": "3.11.2"
  }
 },
 "nbformat": 4,
 "nbformat_minor": 5
}
