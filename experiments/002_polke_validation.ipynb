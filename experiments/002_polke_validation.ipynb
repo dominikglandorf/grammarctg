{
 "cells": [
  {
   "cell_type": "markdown",
   "id": "cd473abf-1da0-4078-8bd9-56125b2aa86e",
   "metadata": {},
   "source": [
    "# Exp 002: This experiment simply outputs an annotated texts with level-coded annotations from POLKE"
   ]
  },
  {
   "cell_type": "code",
   "execution_count": 78,
   "id": "fe19c3cb-27b6-4594-97c3-6ed89bc50b08",
   "metadata": {},
   "outputs": [],
   "source": [
    "import sys\n",
    "sys.path.append('../source')\n",
    "import helpers\n",
    "import data\n",
    "import api\n",
    "import importlib\n",
    "import matplotlib.pyplot as plt\n",
    "from matplotlib.ticker import FuncFormatter\n",
    "from tqdm import tqdm\n",
    "import numpy as np\n",
    "#importlib.reload(helpers)"
   ]
  },
  {
   "cell_type": "markdown",
   "id": "7b28930e-7c8b-4aef-aeed-966174929b43",
   "metadata": {},
   "source": [
    "Create example output to test the API"
   ]
  },
  {
   "cell_type": "code",
   "execution_count": 5,
   "id": "b7546f92-750b-4e48-b29a-8db67362b703",
   "metadata": {},
   "outputs": [],
   "source": [
    "output_path = \"../results/annotated_sample.html\"\n",
    "text = \"\"\"\n",
    "In an unparalleled display of athletic prowess and theatrical grandeur, WrestleMania is set to descend upon Hollywood, transforming it into a veritable Colosseum of modern-day gladiators for a special two-night Premium Live Event. This spectacle, steeped in the annals of wrestling lore, will unfurl its captivating narrative on Saturday, April 1, and Sunday, April 2, commencing at 8 PM Eastern Time and 5 PM Pacific Time. This event, a symphony of physicality and storytelling, will be streamed live on Peacock in the United States, while a global audience can witness the spectacle via the WWE Network.\n",
    "\n",
    "The re-emergence of John Cena, a paragon of wrestling excellence whose name resonates with the gravitas of a bygone era, imbues this event with a profound sense of nostalgia and resurgence. His return, akin to the revival of a Shakespearean protagonist, is not merely a re-entry into the ring; it is a renaissance of the spirited athleticism and charismatic bravado that define the zenith of professional wrestling. As we await the unfolding of this grandiose event, WrestleMania, in its opulent Hollywood setting, promises to be a confluence of myth and reality, where legends walk among us, and tales of heroism are etched into the annals of sporting history.\n",
    "\"\"\"\n",
    "\n",
    "annotations = api.get_annotations(text)\n",
    "helpers.html_from_annotations([], text, annotations, output_path) "
   ]
  },
  {
   "cell_type": "markdown",
   "id": "56cf9cc3-e91e-42f5-801c-c66afaa94d2d",
   "metadata": {},
   "source": [
    "Systematically analyze skill detection of POLKE in EGP examples"
   ]
  },
  {
   "cell_type": "code",
   "execution_count": 65,
   "id": "919cc184-c42a-4000-b3a7-90650ff8903f",
   "metadata": {},
   "outputs": [
    {
     "name": "stderr",
     "output_type": "stream",
     "text": [
      "100%|█| 1222/1222 [04:00<00:00,  5.09it\n"
     ]
    }
   ],
   "source": [
    "egp = data.get_egp()\n",
    "can_do_mapping, level_mapping = helpers.map_egp_id('../data/egp_list.xlsx')\n",
    "reverse_mapping = {statement: nr for nr, statement in can_do_mapping.items()}\n",
    "\n",
    "def find_rule(example, egp_id):\n",
    "    annos = api.get_annotations(example)\n",
    "    for id, begin, end in annos:\n",
    "        if id == egp_id: return True\n",
    "    return False\n",
    "\n",
    "ratios = []\n",
    "for idx, rule in tqdm(egp.iterrows(), total=len(egp)):\n",
    "    #print(idx, rule['Can-do statement'])\n",
    "    if rule['Type'] == \"FORM\":\n",
    "        if isinstance(rule['Example'], str):\n",
    "            assert rule['Can-do statement'] in reverse_mapping\n",
    "            #print(rule['Can-do statement'])\n",
    "            egp_id = reverse_mapping[rule['Can-do statement']]\n",
    "            #print(egp_id)\n",
    "            #print(rule['Example'])\n",
    "            strings_to_search = rule['Example'].split(\"\\n\\n\")\n",
    "            #print(strings_to_search)\n",
    "            found = [find_rule(example, egp_id) for example in strings_to_search]\n",
    "            #print(found)\n",
    "            ratios.append(sum(found) / len(found))\n",
    "            #print(sum(found) / len(found))"
   ]
  },
  {
   "cell_type": "markdown",
   "id": "3483a6ce-5c9b-4e51-bbe8-9d076e7aee1c",
   "metadata": {},
   "source": [
    "Visualization"
   ]
  },
  {
   "cell_type": "code",
   "execution_count": 81,
   "id": "15ca538d-c452-4e8a-8391-e3f350cd53bc",
   "metadata": {},
   "outputs": [
    {
     "data": {
      "image/png": "[encoded data removed]",
      "text/plain": [
       "<Figure size 640x480 with 1 Axes>"
      ]
     },
     "metadata": {},
     "output_type": "display_data"
    }
   ],
   "source": [
    "plt.hist(ratios)\n",
    "plt.title(\"POLKE performance estimate\")\n",
    "plt.ylabel(\"Number of EGP skills\")\n",
    "plt.xlabel(\"Relative amount of detected examples\")\n",
    "plt.gca().xaxis.set_major_formatter(FuncFormatter(lambda x, _: f'{x*100:.0f}%'))\n",
    "plt.show()"
   ]
  },
  {
   "cell_type": "markdown",
   "id": "95a3a603-d693-49a5-818c-b480bb4674ca",
   "metadata": {},
   "source": [
    "Amount of all examples matched"
   ]
  },
  {
   "cell_type": "code",
   "execution_count": 72,
   "id": "b303028a-9ba2-4fe1-aa74-58fd4cbcb8de",
   "metadata": {},
   "outputs": [
    {
     "name": "stdout",
     "output_type": "stream",
     "text": [
      "39.8% of EGP skills' examples entirely detected.\n"
     ]
    }
   ],
   "source": [
    "print(f\"{round(np.mean(np.array(ratios)==1.0) * 100, 1)}% of EGP skills' examples entirely detected.\")"
   ]
  },
  {
   "cell_type": "code",
   "execution_count": null,
   "id": "e22ac471-e78f-43c4-9c7c-41d80d9ab481",
   "metadata": {},
   "outputs": [],
   "source": []
  }
 ],
 "metadata": {
  "kernelspec": {
   "display_name": "Python 3 (ipykernel)",
   "language": "python",
   "name": "python3"
  },
  "language_info": {
   "codemirror_mode": {
    "name": "ipython",
    "version": 3
   },
   "file_extension": ".py",
   "mimetype": "text/x-python",
   "name": "python",
   "nbconvert_exporter": "python",
   "pygments_lexer": "ipython3",
   "version": "3.11.2"
  }
 },
 "nbformat": 4,
 "nbformat_minor": 5
}
