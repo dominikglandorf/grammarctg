{
 "cells": [
  {
   "cell_type": "markdown",
   "metadata": {},
   "source": [
    "# Exp 006: Generate EGP examples"
   ]
  },
  {
   "cell_type": "code",
   "execution_count": 39,
   "metadata": {},
   "outputs": [],
   "source": [
    "import sys\n",
    "sys.path.append('../source')\n",
    "import api\n",
    "import helpers\n",
    "import pandas as pd\n",
    "from collections import Counter\n",
    "from dotenv import load_dotenv\n",
    "import random\n",
    "import os\n",
    "import re\n",
    "load_dotenv()\n",
    "#import importlib # in case, Python module has changed\n",
    "#importlib.reload(api)\n",
    "SEED = int(os.getenv(\"SEED\"))\n",
    "SYSTEM_MESSAGE = {\"role\": \"system\", \"content\": \"You are a helpful assistant.\"}"
   ]
  },
  {
   "cell_type": "code",
   "execution_count": 2,
   "metadata": {},
   "outputs": [],
   "source": [
    "egp = helpers.get_egp()"
   ]
  },
  {
   "cell_type": "code",
   "execution_count": 134,
   "metadata": {},
   "outputs": [
    {
     "data": {
      "text/plain": [
       "#                                                                 255\n",
       "SuperCategory                                                 CLAUSES\n",
       "SubCategory                                              subordinated\n",
       "Level                                                              C2\n",
       "Lexical Range                                                     NaN\n",
       "guideword             FORM/USE: NON-FINITE AFTER 'ALTHOUGH', 'THOUGH'\n",
       "Can-do statement    Can use non-finite clauses after subordinating...\n",
       "Example             I was my parents' first and only child, and I ...\n",
       "Name: 254, dtype: object"
      ]
     },
     "execution_count": 134,
     "metadata": {},
     "output_type": "execute_result"
    }
   ],
   "source": [
    "construction = egp.sample(1, random_state=SEED+random.randint(0,100)).iloc[0]\n",
    "construction"
   ]
  },
  {
   "cell_type": "code",
   "execution_count": 135,
   "metadata": {},
   "outputs": [
    {
     "name": "stdout",
     "output_type": "stream",
     "text": [
      "Learn the grammar rule \"Can use non-finite clauses after subordinating conjunctions '(although, though)', to express contrast. \" (CLAUSES, subordinated, FORM/USE: NON-FINITE AFTER 'ALTHOUGH', 'THOUGH'). It is CEFR level C2. \n",
      "Examples:\n",
      "I was my parents' first and only child, and I was brought up at my grandparents' home, because, although married, my mother decided not to leave her parents' home, and my father agreed with her. \n",
      "\n",
      "Although committed to her job she successfully maintains her social contacts all over the world. \n",
      "\n",
      "Jack, though disappointed, respects the result.\n",
      "Create 10 more examples using that rule. Mark the words that are fulfilling it in **bold**.\n"
     ]
    }
   ],
   "source": [
    "def get_prompt(construction, num_examples=5):\n",
    "    lexical_range = ''\n",
    "    if not pd.isna(construction[\"Lexical Range\"]):\n",
    "        if construction[\"Lexical Range\"] == 1:\n",
    "            lexical_range = 'low'\n",
    "        elif construction[\"Lexical Range\"] == 2:\n",
    "            lexical_range = 'medium'\n",
    "        elif construction[\"Lexical Range\"] == 3:\n",
    "            lexical_range = 'high'\n",
    "        lexical_range = f'Use words of {lexical_range} difficulty in the rule.'\n",
    "    return f'Learn the grammar rule \"{construction[\"Can-do statement\"]}\" ({construction[\"SuperCategory\"]}, {construction[\"SubCategory\"]}, {construction[\"guideword\"]}). It is CEFR level {construction[\"Level\"]}. {lexical_range}\\nExamples:\\n{construction[\"Example\"]}\\nCreate {num_examples} more examples using that rule. Mark the words that are fulfilling it in **bold**.'\n",
    "prompt = get_prompt(construction, 10)\n",
    "print(prompt)"
   ]
  },
  {
   "cell_type": "code",
   "execution_count": 136,
   "metadata": {},
   "outputs": [
    {
     "name": "stdout",
     "output_type": "stream",
     "text": [
      "1. **Although** tired from a long day at work, she decided to go for a run.\n",
      "2. He couldn't attend the party **though** invited by his friends.\n",
      "3. **Although** living far away, I make sure to stay in touch with my family.\n",
      "4. **Though** challenged by the difficult task, he managed to complete it on time.\n",
      "5. **Although** feeling nervous, she gave a flawless performance on stage.\n",
      "6. **Though** exhausted, he couldn't resist staying up late to finish the book.\n",
      "7. **Although** hesitant at first, she eventually made the decision to study abroad.\n",
      "8. **Though** facing financial difficulties, they embarked on their dream vacation.\n",
      "9. **Although** having a busy schedule, he always finds time for his hobbies.\n",
      "10. **Though** cold outside, they still decided to have a picnic in the park.\n"
     ]
    }
   ],
   "source": [
    "messages = [ SYSTEM_MESSAGE, { \"role\": \"user\", \"content\": prompt }]\n",
    "response = api.get_openai_chat_completion(messages, max_tokens=256)[0]\n",
    "print(response)"
   ]
  },
  {
   "cell_type": "code",
   "execution_count": 137,
   "metadata": {},
   "outputs": [
    {
     "name": "stdout",
     "output_type": "stream",
     "text": [
      "['**Although** tired from a long day at work, she decided to go for a run.', \"He couldn't attend the party **though** invited by his friends.\", '**Although** living far away, I make sure to stay in touch with my family.', '**Though** challenged by the difficult task, he managed to complete it on time.', '**Although** feeling nervous, she gave a flawless performance on stage.', \"**Though** exhausted, he couldn't resist staying up late to finish the book.\", '**Although** hesitant at first, she eventually made the decision to study abroad.', '**Though** facing financial difficulties, they embarked on their dream vacation.', '**Although** having a busy schedule, he always finds time for his hobbies.', '**Though** cold outside, they still decided to have a picnic in the park.']\n",
      "[['Although'], ['though'], ['Although'], ['Though'], ['Although'], ['Though'], ['Although'], ['Though'], ['Although'], ['Though']]\n"
     ]
    }
   ],
   "source": [
    "def get_bolds(example):\n",
    "    return re.findall(r\"\\*\\*(.*?)\\*\\*\", example)\n",
    "\n",
    "def parse_response(response, positive=True):\n",
    "    matches = re.findall(r\"^\\d+\\.\\s+(.*)\", response, re.MULTILINE)\n",
    "    examples = [match for match in matches]\n",
    "    bolds = [get_bolds(example) for example in examples]\n",
    "    return examples, bolds\n",
    "\n",
    "examples, bolds = parse_response(response)\n",
    "print(examples)\n",
    "print(bolds)"
   ]
  },
  {
   "cell_type": "code",
   "execution_count": 138,
   "metadata": {},
   "outputs": [
    {
     "name": "stdout",
     "output_type": "stream",
     "text": [
      "Counter({'Although': 5, 'Though': 4, 'though': 1})\n",
      "Counter()\n",
      "Counter()\n"
     ]
    }
   ],
   "source": [
    "get_bigrams = lambda words: list(zip(words, words[1:]))\n",
    "get_trigrams = lambda words: list(zip(words, words[1:], words[2:]))\n",
    "\n",
    "unigrams = [group.split(' ') for example in bolds for group in example]\n",
    "bigrams = [get_bigrams(group.split(' ')) for example in bolds for group in example]\n",
    "trigrams = [get_trigrams(group.split(' ')) for example in bolds for group in example]\n",
    "unigram_counter = Counter([word for example in unigrams for word in example])\n",
    "print(unigram_counter)\n",
    "bigram_counter = Counter([\" \".join(bigram) for example in bigrams for bigram in example])\n",
    "print(bigram_counter)\n",
    "trigram_counter = Counter([\" \".join(trigram) for example in trigrams for trigram in example])\n",
    "print(trigram_counter)"
   ]
  },
  {
   "cell_type": "markdown",
   "metadata": {},
   "source": [
    "Ask to write examples with this word but without using the rule."
   ]
  },
  {
   "cell_type": "code",
   "execution_count": 139,
   "metadata": {},
   "outputs": [
    {
     "name": "stdout",
     "output_type": "stream",
     "text": [
      "{'role': 'user', 'content': 'Is it possible to create examples using \"Although\" that do NOT fulfill the rule? If so, create 5.'}\n",
      "Certainly, it's possible to use \"Although\" in a way that doesn't adhere to the specific rule of following it with a non-finite clause. Here are five examples where \"Although\" introduces full clauses instead:\n",
      "\n",
      "1. **Although** she was tired from a long day at work, she decided to go for a run.\n",
      "2. **Although** he was invited by his friends, he couldn't attend the party.\n",
      "3. **Although** we live far away, I make sure to stay in touch with my family.\n",
      "4. **Although** he was challenged by the difficult task, he managed to complete it on time.\n",
      "\n",
      "{'role': 'user', 'content': 'Is it possible to create examples using \"Though\" that do NOT fulfill the rule? If so, create 5.'}\n",
      "Yes, it's possible to create examples using \"though\" that do not fulfill the specific grammar rule of using non-finite clauses after subordinating conjunctions (such as \"although\" or \"though\") to express contrast. Here are five examples where \"though\" is used differently:\n",
      "\n",
      "1. He tried hard, **though** he couldn't achieve his goal.\n",
      "2. She wanted to go for a walk, **though** it started raining.\n",
      "3. They were hoping to see the eclipse, **though** the sky was too cloudy.\n",
      "4. I planned to bake a cake, **though** I realized I was out of\n"
     ]
    }
   ],
   "source": [
    "def get_messages(word):\n",
    "    return [ SYSTEM_MESSAGE,\n",
    "            { \"role\": \"user\", \"content\": get_prompt(construction) },\n",
    "            { \"role\": \"assistant\", \"content\": response },\n",
    "            { \"role\": \"user\", \"content\": f'Is it possible to create examples using \"{word}\" that do NOT fulfill the rule? If so, create 5.'}]\n",
    "\n",
    "def get_responses_for_counter(counter, top_n=2):\n",
    "    for words in counter.most_common(top_n):\n",
    "        if words[1] <= 1: continue\n",
    "        print(get_messages(words[0])[-1])\n",
    "        response = api.get_openai_chat_completion(get_messages(words[0]), model=\"gpt-4-0125-preview\")[0]\n",
    "        print(response)\n",
    "\n",
    "for counter in [unigram_counter, bigram_counter, trigram_counter]:\n",
    "    get_responses_for_counter(counter)"
   ]
  },
  {
   "cell_type": "code",
   "execution_count": null,
   "metadata": {},
   "outputs": [],
   "source": [
    "# Maybe filter for the word tricky or push out trigrams"
   ]
  }
 ],
 "metadata": {
  "kernelspec": {
   "display_name": "gctg",
   "language": "python",
   "name": "python3"
  },
  "language_info": {
   "codemirror_mode": {
    "name": "ipython",
    "version": 3
   },
   "file_extension": ".py",
   "mimetype": "text/x-python",
   "name": "python",
   "nbconvert_exporter": "python",
   "pygments_lexer": "ipython3",
   "version": "3.10.13"
  }
 },
 "nbformat": 4,
 "nbformat_minor": 2
}
