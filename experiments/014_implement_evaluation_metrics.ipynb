{
 "cells": [
  {
   "cell_type": "markdown",
   "id": "e8174bab-e824-4ea1-a9bd-33410a8ad753",
   "metadata": {},
   "source": [
    "# Exp014: Evaluation metrics\n",
    "The goal of this experiment is to evaluate the three tasks on several quality metrics."
   ]
  },
  {
   "cell_type": "code",
   "execution_count": 71,
   "id": "ac47bf04-c3cc-450e-8aa0-bd509b1efd48",
   "metadata": {},
   "outputs": [
    {
     "name": "stderr",
     "output_type": "stream",
     "text": [
      "[nltk_data] Downloading package punkt to\n",
      "[nltk_data]     /cluster/home/dglandorf/nltk_data...\n",
      "[nltk_data]   Package punkt is already up-to-date!\n"
     ]
    }
   ],
   "source": [
    "import nltk\n",
    "nltk.download(\"punkt\")\n",
    "from nltk.util import ngrams\n",
    "import os\n",
    "\n",
    "import sys\n",
    "sys.path.append('../source')\n",
    "import models\n",
    "import helpers"
   ]
  },
  {
   "cell_type": "markdown",
   "id": "f2de06d7-8471-453e-a383-4950ee85f130",
   "metadata": {},
   "source": [
    "Let's start with distinctiveness. This metric should be calculated for the same constraints but for different contexts to make sure that the model does not"
   ]
  },
  {
   "cell_type": "code",
   "execution_count": 69,
   "id": "6d8ce304-7026-478c-9ee6-88cdea3f0af3",
   "metadata": {},
   "outputs": [],
   "source": [
    "def calculate_distinct_n(texts, n=2):\n",
    "    if isinstance(texts, str): texts = [texts]\n",
    "    n_grams_per_text = [list(ngrams(nltk.word_tokenize(text), n)) for text in texts]\n",
    "    n_grams = helpers.flatten_list_of_lists(n_grams_per_text)\n",
    "    unique_n_grams = len(set(n_grams))\n",
    "    total_n_grams = len(n_grams)\n",
    "    return unique_n_grams / total_n_grams if total_n_grams > 0 else 0"
   ]
  },
  {
   "cell_type": "markdown",
   "id": "e498dd60-36f6-4e9a-a732-b5a49f9b3122",
   "metadata": {},
   "source": [
    "Add an easy way to summarize skill detection"
   ]
  },
  {
   "cell_type": "code",
   "execution_count": 65,
   "id": "ac047b1f-d44b-49d1-9d38-3b7a0288daeb",
   "metadata": {},
   "outputs": [],
   "source": [
    "class GrammarDetection():\n",
    "    def __init__(self, dir=\"corpus_training\", skill_nrs=None):\n",
    "        if skill_nrs is None: skill_nrs = [int(name.replace(\".pth\",\"\")) for name in os.listdir(f\"../models/{dir}\")]\n",
    "        self.classifiers = {nr: models.load_classifier(nr, 'corpus_training') for nr in skill_nrs}\n",
    "\n",
    "    def score_texts(self, sentences):\n",
    "        return {nr: models.probe_model(classifier, sentences) for nr, classifier in self.classifiers.items()}\n",
    "\n",
    "    def constraint_satisfaction(self, sentences, constraints):\n",
    "        hits = []\n",
    "        for nr in constraints:\n",
    "            outputs = models.probe_model(self.classifiers[nr], sentences)\n",
    "            hits.append(sum(outputs[0]>0.5) / len(sentences))\n",
    "        return sum(hits) / len(hits)"
   ]
  },
  {
   "cell_type": "code",
   "execution_count": 66,
   "id": "f08ca91c-942a-4587-9106-81f6fe50467e",
   "metadata": {},
   "outputs": [],
   "source": [
    "detector = GrammarDetection()"
   ]
  },
  {
   "cell_type": "markdown",
   "id": "386b02ac-95b1-49c9-a901-e89df1c369e9",
   "metadata": {},
   "source": [
    "Example evaluation"
   ]
  },
  {
   "cell_type": "code",
   "execution_count": 74,
   "id": "63d6d4d6-a70d-4530-bc1c-3bc659f28d28",
   "metadata": {},
   "outputs": [
    {
     "name": "stdout",
     "output_type": "stream",
     "text": [
      "Positive: 0.75, Negative: 0.0, Distinct-2: 0.8\n"
     ]
    }
   ],
   "source": [
    "sentences = [\"I would like to invite you to dinner tonight.\", \"I would like to invite our entire family to the wedding.\"]\n",
    "positive_constraints = detector.constraint_satisfaction(sentences, [616, 617])\n",
    "negative_constraints = detector.constraint_satisfaction(sentences, [623, 624])\n",
    "distinctiveness = calculate_distinct_n(sentences)\n",
    "\n",
    "print(f\"Positive: {positive_constraints}, Negative: {negative_constraints}, Distinct-2: {distinctiveness}\")"
   ]
  },
  {
   "cell_type": "code",
   "execution_count": null,
   "id": "1d2b91be-9f2a-43cd-a77e-5dcf1445142f",
   "metadata": {},
   "outputs": [],
   "source": []
  }
 ],
 "metadata": {
  "kernelspec": {
   "display_name": "Python 3 (ipykernel)",
   "language": "python",
   "name": "python3"
  },
  "language_info": {
   "codemirror_mode": {
    "name": "ipython",
    "version": 3
   },
   "file_extension": ".py",
   "mimetype": "text/x-python",
   "name": "python",
   "nbconvert_exporter": "python",
   "pygments_lexer": "ipython3",
   "version": "3.11.2"
  }
 },
 "nbformat": 4,
 "nbformat_minor": 5
}
