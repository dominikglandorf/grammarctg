{
 "cells": [
  {
   "cell_type": "markdown",
   "id": "ae51ed80-6a77-4bf5-b1a9-b82d5efbc0ca",
   "metadata": {},
   "source": [
    "# Exp009: Adaptive training data generation\n",
    "The goal is three-fold: Generate good adversarial examples\n",
    "1. based on frequent unigrams and bigrams in positive text\n",
    "2. based on maximum scoring token in classification\n",
    "3. reclassfied positive examples"
   ]
  },
  {
   "cell_type": "code",
   "execution_count": 36,
   "id": "c2c9ada2-3b31-4232-a12b-51cf8ca51e7c",
   "metadata": {},
   "outputs": [],
   "source": [
    "from tqdm import tqdm\n",
    "import pandas as pd\n",
    "import importlib\n",
    "import re\n",
    "import numpy as np\n",
    "import torch\n",
    "from torch.utils.data import DataLoader, TensorDataset\n",
    "from collections import Counter\n",
    "\n",
    "import sys\n",
    "sys.path.append('../source')\n",
    "import models\n",
    "import random\n",
    "import data\n",
    "import helpers\n",
    "import api\n",
    "\n",
    "#importlib.reload(models)"
   ]
  },
  {
   "cell_type": "markdown",
   "id": "00a0f48b-9eed-4db1-82a6-257ccd26de56",
   "metadata": {},
   "source": [
    "Load augmented EGP dataset"
   ]
  },
  {
   "cell_type": "code",
   "execution_count": 3,
   "id": "0418fa6a-30c4-455a-a17d-30e5c4062ddc",
   "metadata": {},
   "outputs": [],
   "source": [
    "egp_examples = pd.read_json(\"../data/egp_examples.json\")"
   ]
  },
  {
   "cell_type": "markdown",
   "id": "af0b3ae6-35e8-4933-bbad-1cc648363ec9",
   "metadata": {},
   "source": [
    "Load corpora to test classifier on"
   ]
  },
  {
   "cell_type": "code",
   "execution_count": 4,
   "id": "cdd0c555-24e5-451e-b165-64e056e6612b",
   "metadata": {},
   "outputs": [
    {
     "name": "stdout",
     "output_type": "stream",
     "text": [
      "Shuffling sentences...\n"
     ]
    }
   ],
   "source": [
    "sents = data.get_mixed_sentences(20000)\n",
    "\n",
    "encoded_inputs = models.bert_tokenizer(sents, return_tensors='pt', max_length=64, padding='max_length', truncation=True)\n",
    "dataset = TensorDataset(encoded_inputs['input_ids'], encoded_inputs['attention_mask'])\n",
    "batch_size = 64\n",
    "dataloader = DataLoader(dataset, batch_size=batch_size, shuffle=False)"
   ]
  },
  {
   "cell_type": "code",
   "execution_count": 5,
   "id": "a95a0e3d-fe1b-468d-8ed7-9e736bd91025",
   "metadata": {},
   "outputs": [],
   "source": [
    "def probe_model(model, probes):\n",
    "    encoded_input = models.bert_tokenizer(probes, return_tensors='pt', max_length=64, padding='max_length', truncation=True).to(models.device)\n",
    "    with torch.no_grad():\n",
    "        values, indices = model(encoded_input['input_ids'], encoded_input['attention_mask'], diagnose=False)\n",
    "    tokens = [models.bert_tokenizer.convert_ids_to_tokens(ids) for ids in encoded_input['input_ids']]\n",
    "    max_tokens = [token[indices[i]] for i, token in enumerate(tokens)]\n",
    "    return values.cpu(), max_tokens\n",
    "    \n",
    "def probe_model_from_loader(model, dataloader, n_batches=3):\n",
    "    model.eval()\n",
    "    all_values = []\n",
    "    all_max_tokens = []\n",
    "    batches = 0\n",
    "    \n",
    "    with torch.no_grad():\n",
    "        for input_ids, attention_mask in tqdm(dataloader):\n",
    "            batches += 1\n",
    "            if batches > n_batches: break\n",
    "            tokens = [models.bert_tokenizer.convert_ids_to_tokens(ids) for ids in input_ids]\n",
    "            input_ids, attention_mask = input_ids.to(models.device), attention_mask.to(models.device)\n",
    "            \n",
    "            values, indices = model(input_ids, attention_mask)\n",
    "            max_tokens = [tokens[j][idx] if idx < len(tokens[j]) else '[PAD]' for j, idx in enumerate(indices.cpu().tolist())]\n",
    "\n",
    "            all_values.extend(values.cpu().tolist())\n",
    "            all_max_tokens.extend(max_tokens)\n",
    "    return all_values, all_max_tokens"
   ]
  },
  {
   "cell_type": "markdown",
   "id": "a4d5986f-e563-4773-96ba-2fbc2ca6ea32",
   "metadata": {},
   "source": [
    "Sample a random EGP rule and create dataset and classifier"
   ]
  },
  {
   "cell_type": "code",
   "execution_count": 43,
   "id": "4fe3896d-74bd-4ffc-9321-99589d133aca",
   "metadata": {},
   "outputs": [
    {
     "name": "stdout",
     "output_type": "stream",
     "text": [
      "USE: Can use question forms to ask rhetorical questions.\n",
      "[writing about fashion] Are we becoming shallow? \n",
      "\n",
      "Why is technology taking over our lives? \n",
      "\n",
      "Why am I explaining all this? The only reason is that I want to show that young people are interested in sports.\n",
      "['Can technology ever replace genuine human connection?', 'Why are we letting fear hold us back from pursuing our dreams?', 'Why are we so quick to judge others?', 'Why do we keep repeating the same mistakes?', 'Why are we allowing ourselves to be controlled by societal pressures and expectations?']\n",
      "['We truly nourish our minds and bodies with healthy choices.', 'Are we always destined to repeat history, or not?', 'Can we escape the constraints of societal norms, or not?', 'We believe that success is solely determined by wealth and status.', 'We take the time to understand different perspectives.']\n"
     ]
    }
   ],
   "source": [
    "rule = egp_examples[egp_examples['type'] == 'USE'].sample(1).iloc[0]\n",
    "print(f\"{rule['type']}: {rule['Can-do statement']}\")\n",
    "print(rule['Example'])\n",
    "positive = rule['augmented_examples']\n",
    "negative = rule['augmented_negative_examples']\n",
    "others = [example for sublist in egp_examples.loc[egp_examples['#'] != rule['#'], 'augmented_examples'].to_list() for example in sublist]\n",
    "print(random.sample(positive, 5))\n",
    "print(random.sample(negative, 5))"
   ]
  },
  {
   "cell_type": "markdown",
   "id": "701fd26d-0d6e-4312-a552-b156e0a6b9d8",
   "metadata": {},
   "source": [
    "Train a fresh classifier"
   ]
  },
  {
   "cell_type": "code",
   "execution_count": 44,
   "id": "beca7604-3c07-4c30-bedb-299500c1e93e",
   "metadata": {},
   "outputs": [
    {
     "name": "stderr",
     "output_type": "stream",
     "text": [
      "100%|█████████████████████████████████████████████████████████████████████████████████████████████████████████████████████████████████████████| 25/25 [00:01<00:00, 19.44it/s]\n"
     ]
    },
    {
     "name": "stdout",
     "output_type": "stream",
     "text": [
      "Training loss: 0.4716322553157806\n",
      "Accuracy: 0.94\n"
     ]
    },
    {
     "name": "stderr",
     "output_type": "stream",
     "text": [
      "100%|█████████████████████████████████████████████████████████████████████████████████████████████████████████████████████████████████████████| 25/25 [00:01<00:00, 19.90it/s]\n"
     ]
    },
    {
     "name": "stdout",
     "output_type": "stream",
     "text": [
      "Training loss: 0.25856154710054396\n",
      "Accuracy: 0.95\n"
     ]
    },
    {
     "name": "stderr",
     "output_type": "stream",
     "text": [
      "100%|█████████████████████████████████████████████████████████████████████████████████████████████████████████████████████████████████████████| 25/25 [00:01<00:00, 19.84it/s]\n"
     ]
    },
    {
     "name": "stdout",
     "output_type": "stream",
     "text": [
      "Training loss: 0.18339216560125352\n",
      "Accuracy: 0.96\n"
     ]
    }
   ],
   "source": [
    "classifier = models.RuleDetector(models.bert_encoder)\n",
    "dataset = data.get_dataset(positive, negative, others, models.bert_tokenizer, 64) \n",
    "train_dataloader, val_dataloader = data.get_loaders(dataset)\n",
    "optimizer, accuracy = models.train(classifier, train_dataloader, val_dataloader, num_epochs=3)"
   ]
  },
  {
   "cell_type": "markdown",
   "id": "39f27eda-e62d-485f-bef1-28834437fbc0",
   "metadata": {},
   "source": [
    "Some more systematic evaluation of accuracy"
   ]
  },
  {
   "cell_type": "code",
   "execution_count": null,
   "id": "4f45ead1-1601-47fe-86a0-4a9f565f39e2",
   "metadata": {
    "scrolled": true
   },
   "outputs": [],
   "source": [
    "import matplotlib.pyplot as plt\n",
    "import seaborn as sns\n",
    "from matplotlib.ticker import FuncFormatter\n",
    "accuracies = {}\n",
    "num_rules = 100\n",
    "rules = egp_examples.sample(num_rules)\n",
    "for idx, rule in rules.iterrows():\n",
    "    positive = rule['augmented_examples']\n",
    "    negative = rule['augmented_negative_examples']\n",
    "    others = [example for sublist in egp_examples.loc[egp_examples['#'] != rule['#'], 'augmented_examples'].to_list() for example in sublist]\n",
    "\n",
    "    classifier = models.RuleDetector(models.bert_encoder)\n",
    "    dataset = data.get_dataset(positive, negative, others, models.bert_tokenizer, 64) \n",
    "    train_dataloader, val_dataloader = data.get_loaders(dataset)\n",
    "    optimizer, accuracy = models.train(classifier, train_dataloader, val_dataloader)\n",
    "    accuracies[idx] = accuracy\n",
    "sns.set_style(\"whitegrid\")\n",
    "sns.histplot(accuracies.values(), bins=10, kde=True, legend=False, color=\"skyblue\", edgecolor='black', alpha=0.7)\n",
    "plt.ylabel(f\"Number of rules / {len(accuracies)}\")\n",
    "plt.xlabel(\"Validation Accuracy\")\n",
    "plt.title(\"Distribution of Rule Detection Accuracies\")\n",
    "plt.gca().xaxis.set_major_formatter(FuncFormatter(lambda x, _: f'{x*100:.0f}%'))\n",
    "plt.show()"
   ]
  },
  {
   "cell_type": "code",
   "execution_count": 43,
   "id": "3a886b83-243c-4efd-bcff-af3561e498be",
   "metadata": {},
   "outputs": [
    {
     "data": {
      "text/plain": [
       "0.9436470588235293"
      ]
     },
     "execution_count": 43,
     "metadata": {},
     "output_type": "execute_result"
    }
   ],
   "source": [
    "np.mean(list(accuracies.values()))"
   ]
  },
  {
   "cell_type": "code",
   "execution_count": 34,
   "id": "cebc89c6-8633-4dd9-98c8-48a89e81c896",
   "metadata": {},
   "outputs": [
    {
     "data": {
      "image/png": "[encoded data removed]",
      "text/plain": [
       "<Figure size 640x480 with 1 Axes>"
      ]
     },
     "metadata": {},
     "output_type": "display_data"
    }
   ],
   "source": [
    "# Result"
   ]
  },
  {
   "cell_type": "markdown",
   "id": "42987385-d8d2-48b6-b142-c23dd816c56e",
   "metadata": {},
   "source": [
    "Test the trained model"
   ]
  },
  {
   "cell_type": "markdown",
   "id": "accad8b0-68c2-4ae2-b34e-c883e04f5b6d",
   "metadata": {},
   "source": [
    "Start with training example and random negative"
   ]
  },
  {
   "cell_type": "code",
   "execution_count": 45,
   "id": "71bf5475-fc81-4ba5-a69a-6e27982137a3",
   "metadata": {},
   "outputs": [
    {
     "data": {
      "text/plain": [
       "(tensor([0.9779]), ['?'])"
      ]
     },
     "execution_count": 45,
     "metadata": {},
     "output_type": "execute_result"
    }
   ],
   "source": [
    "probe_model(classifier, random.sample(positive, 1))"
   ]
  },
  {
   "cell_type": "code",
   "execution_count": 46,
   "id": "79820349-1f7e-4ac3-afe0-e5b9f8eaf170",
   "metadata": {},
   "outputs": [
    {
     "data": {
      "text/plain": [
       "(tensor([0.0453]), ['[SEP]'])"
      ]
     },
     "execution_count": 46,
     "metadata": {},
     "output_type": "execute_result"
    }
   ],
   "source": [
    "probe_model(classifier, random.sample(others, 1))"
   ]
  },
  {
   "cell_type": "code",
   "execution_count": 48,
   "id": "8557890d-9079-4b85-8e1f-a7ca61889fc7",
   "metadata": {},
   "outputs": [
    {
     "data": {
      "text/plain": [
       "(tensor([0.7226]), ['?'])"
      ]
     },
     "execution_count": 48,
     "metadata": {},
     "output_type": "execute_result"
    }
   ],
   "source": [
    "probe_model(classifier, \"Why are you here?\")"
   ]
  },
  {
   "cell_type": "code",
   "execution_count": 13,
   "id": "821ac0d6-f3e0-4464-a432-51d91526a493",
   "metadata": {},
   "outputs": [
    {
     "data": {
      "text/plain": [
       "921"
      ]
     },
     "execution_count": 13,
     "metadata": {},
     "output_type": "execute_result"
    }
   ],
   "source": [
    "rule['#']"
   ]
  },
  {
   "cell_type": "markdown",
   "id": "5a57f8e8-60f3-45ed-af2a-82c090602e20",
   "metadata": {},
   "source": [
    "Continue with EGP examples"
   ]
  },
  {
   "cell_type": "code",
   "execution_count": 50,
   "id": "bff592da-c3d2-4877-9041-b5d15e3e4b4a",
   "metadata": {},
   "outputs": [
    {
     "name": "stdout",
     "output_type": "stream",
     "text": [
      "[writing about fashion] Are we becoming shallow? \n",
      "Score: 0.8571189641952515, Max Token: ?\n",
      "Why is technology taking over our lives? \n",
      "Score: 0.9611295461654663, Max Token: ?\n",
      "Why am I explaining all this? The only reason is that I want to show that young people are interested in sports.\n",
      "Score: 0.7406145334243774, Max Token: ?\n"
     ]
    }
   ],
   "source": [
    "for example in rule['Example'].split(\"\\n\\n\"):\n",
    "    print(example)\n",
    "    score, max_token = probe_model(classifier, example)\n",
    "    print(f'Score: {score.item()}, Max Token: {max_token[0]}')"
   ]
  },
  {
   "cell_type": "markdown",
   "id": "162158c1-9bd1-47f5-80b2-f9c81bf3e1c7",
   "metadata": {},
   "source": [
    "Apply classifier to corpus"
   ]
  },
  {
   "cell_type": "code",
   "execution_count": 42,
   "id": "a5ce49bf-6392-4126-958e-d2f5455af311",
   "metadata": {
    "scrolled": true
   },
   "outputs": [
    {
     "name": "stderr",
     "output_type": "stream",
     "text": [
      "  8%|██████████▋                                                                                                                           | 100/1250 [00:08<01:35, 12.07it/s]"
     ]
    },
    {
     "name": "stdout",
     "output_type": "stream",
     "text": [
      "Sample: It was actually founded, in part, by anti-slavery activists!, Score: 0.9973434805870056, Max Token: ,\n",
      "Sample: In conclusion, putting criminals who are not a danger to society in prison is expensive and, in my opinion, ineffective, both as a deterrent and as a form of rehabilitation., Score: 0.9971936345100403, Max Token: ,\n",
      "Sample: The new law will work by clarifying people’s wishes around the issue of organ donation and, in turn, increase the rate of consent to donation., Score: 0.996701180934906, Max Token: ,\n",
      "Sample: Since the registry does not recognize the name of Harriet’s 12-year-old brother, Duncan, either, the two children have, until now, travelled on passports identifying them as Stúlka and Drengur Cardew: Girl and Boy Cardew., Score: 0.9962192177772522, Max Token: ,\n",
      "Sample: The project has now grown into the Grow2Feed Liberia Fish Farm, with 12 tanks, which, when fully stocked, will each have 5,000 fish – providing up to 200,000 fish per year, serving a community of 1,200 predominantly HIV-positive people, including King and his family., Score: 0.9938333034515381, Max Token: ,\n",
      "Sample: Hajee quickly realized, however, that innovative technology was not enough for the project to be successful in a place like rural Rwanda., Score: 0.9930525422096252, Max Token: ,\n",
      "Sample: Asked if he has engaged in inappropriate conduct with any other men, Haggard did not give a direct answer, saying only, I have thoroughly discussed all of my sexual history with my wife and my therapist and, to some degree, the family, and we think that's an appropriate boundary for that., Score: 0.9921814203262329, Max Token: ,\n",
      "Sample: As a freelancer, each approach to a new client is rather\n",
      "like applying for another job and, as with a job\n",
      "application, establishing your credibility by showing that\n",
      "you can do what the job entails is an essential first step., Score: 0.9920791983604431, Max Token: ,\n",
      "Sample: And, if possible, I'm looking for a non-smoking room., Score: 0.9909639358520508, Max Token: ,\n",
      "Sample: In the absence of death registries or medical records, they have been willing, for instance, to take evidence from verbal autopsies – deciding the cause of death by an interview with the family., Score: 0.9907208681106567, Max Token: ,\n",
      "Sample: “There is no work in the winter, only in the summertime,” says Maria, who, like many of the workers in the Hamptons, is from Latin America., Score: 0.9904842376708984, Max Token: ,\n",
      "Sample: The nadir in the animals’ well-being occurred, on average, at 28.3 and 27.2 years old for the chimpanzees, and 35.4 years old for the orangutans., Score: 0.9872570037841797, Max Token: ,\n",
      "Sample: By the end of the decade, the government hopes that, if passed, the law will push Japanese employees towards following the example set by British workers, who use an average of 20 days’ paid annual leave, and those in France, who take an average of 25., Score: 0.9863066673278809, Max Token: ,\n",
      "Sample: Think of that next time you pour it into your tea.” \n",
      "He said that the basic premise behind Nordic Food Lab was: “Nothing is not edible.” Insects are critical to life on Earth and, with more than a million species, are the most diverse group of creatures on the planet, yet they are misunderstood, hated and often put to death by humans just because they are there., Score: 0.9862240552902222, Max Token: ,\n",
      "Sample: But we have confidence that we will be in a position to go after them if, in fact, they are engaging in activities that threaten our defenses., Score: 0.9857528805732727, Max Token: ,\n",
      "Sample: This tactic of avoiding the face and staring at shoes says a lot about how we, as physical beings, react to being watched., Score: 0.9855581521987915, Max Token: ,\n",
      "Sample: “We’ve been giving him a lot of water and he’s gaining strength.” \n",
      "Fraser Christian, who teaches maritime survival courses at his Coastal Survival School in Dorset, said the man’s story, if true, would be remarkable but far from unique., Score: 0.985072910785675, Max Token: ,\n",
      "Sample: Marcus Haggard, the couple's 25-year-old son, said he, too, was shocked by the revelations, but was more disturbed to learn that his father had lied., Score: 0.9807153940200806, Max Token: ,\n",
      "Sample: Then, after a few minutes, came the explosions., Score: 0.980362594127655, Max Token: ,\n",
      "Sample: The second theme, entwined with it, is the shift outside Africa from communicable diseases and the common causes of mother and baby deaths to what are sometimes termed “lifestyle” diseases, such as heart disease, stroke, diabetes and cancer – some of which have significant genetic triggers., Score: 0.9783911108970642, Max Token: ,\n",
      "Sample: The man, dressed only in a ragged pair of underpants, told his rescuers that he had been adrift in the 7.3-metre fibreglass boat, whose engines were missing their propellers, since he left Mexico for El Salvador in September 2012., Score: 0.9781724214553833, Max Token: ,\n",
      "Sample: “It’s a good thing to keep your brain active.” \n",
      "The 29-year-old electrical engineer is one of dozens, perhaps hundreds, of refugees living in the “jungle” camp outside Calais who have applied for asylum in France and are eager to learn the language of what they hope will be their new home., Score: 0.9772566556930542, Max Token: ,\n",
      "Sample: It follows a paper, published in 2014, in which he noted that, when children are around ten, their biological wake-up time is about 6.30am; at 16, this rises to 8am; and, at 18, someone you may think of as a lazy teenager actually has a natural waking hour of 9am., Score: 0.9762247204780579, Max Token: ,\n",
      "Sample: Practical applications of the new elements, if any, are a long way off because of the difficulty in synthesis.”, Score: 0.9750785827636719, Max Token: ,\n",
      "Sample: That in itself is justification for the enormous project that the Institute of Health Metrics and Evaluation (IHME) in Seattle has led over the past five years, involving nearly 500 researchers, to assess the global burden of disease., Score: 0.9719831347465515, Max Token: ,\n",
      "Sample: There are signs that, in Britain and America, streaming may soon generate more revenue for the music industry than downloads from online stores such as Apple’s iTunes., Score: 0.9715694189071655, Max Token: ,\n",
      "Sample: So can the alcohol itself cause any physical or mental issues that are unique to purely alcoholism compared to, say, addiction to heroin or other drugs?, Score: 0.9702337384223938, Max Token: ,\n",
      "Sample: We have, you know, ongoing concerns., Score: 0.969982922077179, Max Token: ,\n",
      "Sample: But, once again, this isn’t evidence of an aquatic ape ancestry, as it turns out to be a very general characteristic of air-breathing vertebrates., Score: 0.9663670063018799, Max Token: ,\n",
      "Sample: I wake naturally.” And, yes, he says he finds the start of his working day much easier now than he did when he was younger., Score: 0.9656152725219727, Max Token: ,\n",
      "Sample: The 1965 album Live at the Regal, however, proved the durability of King’s blues repertoire and has become iconic, a turning point in the early listening of many younger musicians., Score: 0.965040385723114, Max Token: ,\n",
      "Sample: Ramadan will eventually fall during winter, which, in Iqaluit, sees the sun rise and set within a few hours each day., Score: 0.9649529457092285, Max Token: ,\n",
      "Sample: Jobs, along with his childhood friend Steve Wozniak, co-founded Apple Computers in 1976, working out of Jobs' garage., Score: 0.9640445113182068, Max Token: ,\n",
      "Sample: Digital formats now account for 39% of all music sales, or nearly £5.9bn out of £15bn, and, while sales of CDs and vinyl declined steeply in 2013, they still contribute just over half the industry’s income., Score: 0.9639919996261597, Max Token: ,\n",
      "Sample: It is widely accepted that the Shepherd-Barron ATM was the “world’s first” when it comes to being installed and used by the public; the first one, at a bank in north London, was opened on 27 June, 1967 – a month before Goodfellow’s ATM made its public debut., Score: 0.9622622728347778, Max Token: ,\n",
      "Sample: Retired Coast Guard Adm. Thad Allen said Friday that the new cap would allow responders to collect more accurate oil flow data and that, once the switch is complete, the resulting capacity to contain oil will be far greater than the capabilities we have achieved using current systems., Score: 0.9617093801498413, Max Token: ,\n",
      "Sample: Our supplier suffered QC problems and, well, half of our production is faulty., Score: 0.961262583732605, Max Token: ,\n",
      "Sample: And I learnt that men, including me, should always show respect to nature or properly reduce our confidence when saying men can conquer the world., Score: 0.9603266716003418, Max Token: ,\n",
      "Sample: The 43-year-old actor, originally from France, had spent 20 years living in Copenhagen and looking for love in the hope of raising children., Score: 0.9522618651390076, Max Token: ,\n",
      "Sample: She's got, like a lot her tattoos and a nose ring, and uh, I'm sorry., Score: 0.9507575631141663, Max Token: ,\n",
      "Sample: This, combined with the famous Chicago winds and a drought, made the city burn down quickly., Score: 0.9497756958007812, Max Token: ,\n",
      "Sample: Obama said that, although there were people with “crazy ideology”, pluralism was important., Score: 0.9492965340614319, Max Token: ,\n",
      "Sample: And, very heavily, I imagine., Score: 0.947604775428772, Max Token: ,\n",
      "Sample: “I set out to develop a cash-issuing machine and, to make this a reality, I invented the PIN [personal identification number] and an associated coded token.” \n",
      "This token took the form of a plastic card with holes punched in it., Score: 0.9459559917449951, Max Token: ,\n",
      "Sample: The culture of Japan, as far as food goes, is quite interesting., Score: 0.9427944421768188, Max Token: ,\n",
      "Sample: The average spend of a music buyer in the UK in 2014, for example, was just £39.52, according to research., Score: 0.9412673711776733, Max Token: ,\n",
      "Sample: The White House, which has declined to approve federal authorization of the National Guard in response to the immigration situation that has flared this year, panned Perry's idea as shortsighted and politically motivated., Score: 0.9405985474586487, Max Token: ,\n",
      "Sample:  Surfing is a surface water sport in which the wave rider, referred to as a surfer, rides on the forward, Score: 0.9368046522140503, Max Token: ,\n",
      "Sample: He certainly has the confidence of Jobs, although, with a thick Japanese accent, he sometimes struggles to make himself understood, a fact that may have contributed to Telepathy One’s conception., Score: 0.9358465075492859, Max Token: ,\n",
      "Sample: Lost Love’s Douville, though, feels the ban to be a great business opportunity., Score: 0.9346884489059448, Max Token: ,\n",
      "Sample: However, tighter controls on property markets, such as limitations on homes per person and higher taxes on transactions, have failed to rein in speculative buyers since they were first implemented in 2010., Score: 0.9340120553970337, Max Token: ,\n",
      "Sample: Roaches, however, were a natural part of the materials breaking down., Score: 0.9246528744697571, Max Token: ,\n",
      "Sample: The control group, who trained for five hours every week, also improved their VO 2 max, but by 10% – and their training had no effect on anaerobic capacity., Score: 0.9202547669410706, Max Token: ,\n",
      "Sample: But, after a number of high-profile escapes in 2004, we had to rebalance and place more emphasis on security.” \n",
      "Despite the hardening of attitudes toward prison security following the escape scandals, the Swedes still managed to maintain a broadly humane approach to sentencing, even of the most serious offenders: jail terms rarely exceed ten years; those who receive life imprisonment can still apply to the courts after a decade to have the sentence commuted to a fixed term, usually in the region of 18 to 25 years., Score: 0.9178682565689087, Max Token: ,\n",
      "Sample: In certain situations, you are going to be unpopular but, if you are uncomfortable with that, you are probably in the wrong job.” \n",
      "The former referees agree that the backup, education and tools that today’s referees have is a world away from what they experienced in their own days., Score: 0.917113184928894, Max Token: ,\n",
      "Sample: Peru, too, has followed the fate of the coins, which came from Latin America when Peru was a Spanish colony., Score: 0.9160488247871399, Max Token: ,\n",
      "Sample: Luxembourg, for example, issued more than twice its annual GDP in banknotes in 2013 alone, despite being one of the most cash-averse countries in Europe., Score: 0.9158666133880615, Max Token: ,\n",
      "Sample: Lower-income households, on the other hand, can only get smaller loans, or perhaps nothing if they could not afford to purchase any housing., Score: 0.9111292958259583, Max Token: ,\n",
      "Sample: But, despite the initial interest, many believe BBM’s wider release will do little to save the service., Score: 0.9110472798347473, Max Token: ,\n",
      "Sample: Sen. Joseph Lieberman, an independent from Connecticut, reiterated that he would join a Republican filibuster against a health care bill if it contains a government-run public health insurance option after the chamber's amendment process., Score: 0.9092801809310913, Max Token: ,\n",
      "Sample: What is the purpose of \"mumming\" a human or an animal?, Score: 0.9090925455093384, Max Token: \"\n",
      "Sample: Australian FM Kevin Rudd resigns\n",
      "Never before had the Labor Party dumped a serving Prime Minister, yet Hawke's equanimity -- outwardly at least -- was striking., Score: 0.9075755476951599, Max Token: -\n",
      "Sample: The Queen, who has monitored the referendum with interest, will make a written statement., Score: 0.9070138335227966, Max Token: ,\n",
      "Sample: And, so, it’s your diaphragm, the main muscle of breathing, that is also in charge when it comes to reaching the breakpoint of your breath-hold., Score: 0.9055882692337036, Max Token: ,\n",
      "Sample: The president, saying that the comparison with Vietnam relies on a false reading of history, pointed to three differences., Score: 0.9041945338249207, Max Token: ,\n",
      "Sample: The potential for development just might be the catalyst that reverses this trend.” \n",
      "However, Raymond Lumbuenamo, country director for WWF Democratic Republic of the Congo, based in Kinshassa, said that security in and around the park would deteriorate further if SOCO went ahead with its exploration plans., Score: 0.9041274189949036, Max Token: ,\n",
      "Sample: Sebastian Vettel, second in the title race to Jenson Button, will start alongside Alonso on the front row, with his Red Bull teammate Mark Webber qualifying third., Score: 0.9006977677345276, Max Token: ,\n",
      "Sample: The electrically powered vehicle, which Google has begun testing around its headquarters in Mountain View, California, dispenses with all the normal controls, including foot pedals., Score: 0.8981348276138306, Max Token: ,\n",
      "Sample: Symbolically, a full set of handshakes, plus a “well done” from both managers, represents maximum satisfaction., Score: 0.8966876268386841, Max Token: ,\n",
      "Sample: The sentiment seems to fit with Miller's general philosophy of focusing on how the sport makes you feel, rather than the end game, a feeling he believes everyone is entitled to, regardless of ability., Score: 0.8964306712150574, Max Token: ,\n",
      "Sample: In February 2013, facing up to eight years in prison, he decided to flee rather than stand trial., Score: 0.8833009004592896, Max Token: ,\n",
      "Sample: lol, well \"they\" might be biased, and looks to me whoever did the construction had high tech that we now seen to have no knowledge about., Score: 0.8830254673957825, Max Token: \"\n",
      "Sample: Even now, more than 60 years later, that photo makes people weep with glad emotion, makes them grin with across-the-generations exultation., Score: 0.8809982538223267, Max Token: ,\n",
      "Sample: It raises tension, particularly in this time of transition in Egypt, Schenker said., Score: 0.8807602524757385, Max Token: ,\n",
      "Sample: Soon after the United States' declaration of war against Japan, Germany, which was a Japanese ally, declared war on the U.S. and the country was now fully involved in the greatest war in the history of the world., Score: 0.8793990015983582, Max Token: ,\n",
      "Sample: This past year has seen a marked increase in attacks, especially coordinated simultaneous strikes, a trademark of ISI -- the Islamic State of Iraq -- an umbrella organization that includes al Qaeda in Iraq., Score: 0.8787761926651001, Max Token: ,\n",
      "Sample: Streaming, on the other hand, overtook both of them and accounted for just over 40% of sales in 2018., Score: 0.8776795864105225, Max Token: ,\n",
      "Sample: I enjoy watiching \"Snapped\" and shows like that., Score: 0.8768892884254456, Max Token: \"\n",
      "Sample: In many ways, with their wrinkly heads and beady eyes, they remind Lima residents of the side of their city they would rather ignore: the neglect, poverty and filth., Score: 0.8751893639564514, Max Token: ,\n",
      "Sample: The world number three, seeking his fifth title in six years in the Italian capital, made just 11 unforced errors, compared to 28 by the German., Score: 0.8724571466445923, Max Token: ,\n",
      "Sample: Multipe, in fact, I own around 400., Score: 0.864429235458374, Max Token: ,\n",
      "Sample: Sports brand Nike, ranked 22 with a brand valued at nearly $20bn, is rated way ahead of rival Adidas, at 59 in the top 100 with a value of $7bn., Score: 0.8643497228622437, Max Token: ,\n",
      "Sample: They can recruit a celebrity for endorsment, as opposed to trying to market to the masses, as the celebrity will attract attention., Score: 0.8635806441307068, Max Token: ,\n",
      "Sample: The result for the first half of 2014 is an outcome of our ability to develop, launch and distribute Lego products, which children all over the world put at the top of their wishlists.” \n",
      "Lego, based in the small town of Billund, started producing its plastic bricks in 1949 and became a staple children’s toy around the world by the 1970s., Score: 0.8626008033752441, Max Token: ,\n",
      "Sample: Eddie, now seventeen years old, aspired to be a famous musician one day., Score: 0.8576622009277344, Max Token: ,\n",
      "Sample: At a hearing, Tonya Hobbs -- identified as Tonya Dunkin in the documents -- and the girl's father, John Johnson, agreed that she would have supervised visitation with Aja and keep the girl away from Lester Hobbs, the documents said., Score: 0.8552682399749756, Max Token: ,\n",
      "Sample: The trainer tells me, besides regular sports activities, I should also have a healthy and balanced diet., Score: 0.8529103398323059, Max Token: ,\n",
      "Sample: The TCSA, a law passed in 1976, made sure they were tightly regulated., Score: 0.8427566885948181, Max Token: ,\n",
      "Sample: Just a few years back, a new development zone, an adjunct to the main city, was labeled China's largest ghost city -- rows and rows of luxury apartments and office buildings sat empty on vast, deserted boulevards., Score: 0.842510998249054, Max Token: ,\n",
      "Sample: Following a long and successful film career, Schwarzenegger, who was always interested in politics, began a political career that culminated with his election to two terms as California's Governor., Score: 0.8402814865112305, Max Token: ,\n",
      "Sample: But, he said, she wanted the judge to order the executors to disclose information about what he said was a suspicious circle of relationships involving them., Score: 0.8359203934669495, Max Token: ,\n",
      "Sample: William Jefferson \"Bill\" Clinton was the 43rd American president, presiding over the country for eight years from 1993 to 2001., Score: 0.8336586952209473, Max Token: \"\n",
      "Sample: But, unlike in real life, Facebook has no hierarchy of friendships., Score: 0.8306024670600891, Max Token: ,\n",
      "Sample: They were \"D\" batteries., Score: 0.8291628956794739, Max Token: \"\n",
      "Sample: So, the USA can not really default, thanks in part to a strong Federal Reserve and international creditors still wanting to buy its bonds, no matter how low the interest rate falls., Score: 0.8264967203140259, Max Token: ,\n",
      "Sample: He knew that when people said \"to give someone a hand\" they meant they needed help., Score: 0.8183237910270691, Max Token: \"\n",
      "Sample: I have blonde hair,  or fair hair, is a hair color characterized by low levels of dark pigment, Score: 0.8181586861610413, Max Token: ,\n",
      "Sample: Now, as a teacher in my eighth year in the classroom, I consider every day that I go to work a privilege., Score: 0.8161681294441223, Max Token: ,\n",
      "Sample: Chanuka, which can also be spelled as Hanukkah, is an 8-day Jewish holiday., Score: 0.8159937262535095, Max Token: ,\n",
      "Sample: “The engineer takes feedback from the driver, analyses the data available and makes decisions about the set-up needed for maximum performance, then relays this to the mechanics to instigate.” \n",
      "Qualifications: A university degree, typically in automotive/mechanical engineering or motorsport technology., Score: 0.8153746128082275, Max Token: ,\n",
      "Sample: On Saturday, an additional 40 flights were affected, including 30 that were canceled, involving about 4,000 passengers, according to Los Angeles International Airport., Score: 0.8144803047180176, Max Token: ,\n",
      "Sample: The federal government has been targeting cartelsoperations, and especially its leaders, in an ongoing battle., Score: 0.8118947744369507, Max Token: ,\n",
      "Sample: CNN reported Friday that Bergdahl has said he was kept in a small box after trying to escape, according to a senior U.S. official, who spoke on the condition of not being identified., Score: 0.8099321126937866, Max Token: ,\n",
      "Sample: Assistant Police Chief Matt Clark told reporters Saturday afternoon that the officer, who was standing outside his car, was doing well and is in fair condition., Score: 0.8092327117919922, Max Token: ,\n",
      "Sample: It is aimed at bridging the gap between snorkelling, with its limited scope, and scuba diving, which gives divers the freedom to breathe underwater but at the cost of using cumbersome and expensive gear., Score: 0.8055264949798584, Max Token: ,\n",
      "Sample: I have a  Visual impairment, also known as vision impairment or vision loss,, Score: 0.8048292994499207, Max Token: ,\n",
      "Sample: “It’s stupefying, especially as I’m not sure she’s even read the novel, since it hasn’t been translated yet.” \n",
      "Emmanuelle Allibert, spokeswoman for publisher JC Lattès, said taking legal action was “crazy”., Score: 0.802905261516571, Max Token: ,\n",
      "Sample: The Abyan dead include nine soldiers, four militants and two civilians in Zinjibar and other suburbs in the province, according to the source, who asked to not be named because he is not authorized to speak to the media., Score: 0.8017281293869019, Max Token: ,\n",
      "Sample: Typically, pilots must fly beside the power line, sometimes as little as 20 feet away and just 30 feet off the ground., Score: 0.8012460470199585, Max Token: ,\n",
      "Sample: If that timeline slips, however, the Mueller term would end September 4, one week before the 10th anniversary of the 9/11 terrorist attacks on the World Trade Center and the Pentagon., Score: 0.8008447289466858, Max Token: ,\n",
      "Sample: These can be used to target areas that ca n't be accessed by planes, for example due to defenses, and cost round $1.5 million each., Score: 0.7998189330101013, Max Token: ,\n",
      "Sample: Facebook co-founder Eduardo Saverin, known to many people more as an aggrieved movie character or perceived tax dodger than as an actual person, has finally spoken out., Score: 0.7995507121086121, Max Token: ,\n",
      "Sample: “If her name or likeness is relevant, literarily, if there’s significance and literary merit to using her name between the covers, the First Amendment steps in.” However, in France, the legal position is more complicated and personality rights are taken “much more seriously,” Jassin says., Score: 0.7994816899299622, Max Token: ,\n",
      "Sample: The stadiums may have been delivered late and – in some cases – not fully finished, but there have been no reports of structural problems or difficulties entering the grounds since the kick off., Score: 0.7914024591445923, Max Token: –\n",
      "Sample: The Centre for Child Law will now interview the mothers and fathers, as well as any other person with a “signiﬁcant relationship” with either of the girls., Score: 0.7904891967773438, Max Token: ,\n",
      "Sample: Mark Jarvis, who runs a hotel in Katoomba, the main tourist town in the Blue Mountains, just an hour and a half from Sydney, said: We 're very concerned because the uniqueness of area revolves around the fact that we sit in between World Heritage parks., Score: 0.7894307374954224, Max Token: ,\n",
      "Sample: x2xx xx I’d hate that to happen to\n",
      "me.’\n",
      " Almost 60 metres ahead of the last trailer,\n",
      "high above the road in the air-conditioned\n",
      "comfort of Matt’s cab, you can lose almost all\n",
      "sense of pulling 130 tonnes of raw material., Score: 0.7876099944114685, Max Token: ,\n",
      "Sample: she asked her husband, who hadn't been woken up by the sound, so Betty shook him., Score: 0.7870014905929565, Max Token: ,\n",
      "Sample: The cardinals have to have all the information they need in order to make a mature, responsible judgment in the election, especially at a time when the church faces complex issues, he said., Score: 0.7829093933105469, Max Token: ,\n",
      "Sample: Many feminists believe that it is ignored in the formulations of economic output, like the GDP, and believe it shouldn't be., Score: 0.7760911583900452, Max Token: ,\n",
      "Sample: Born Rolihlahla Dalibhunga in a small village in the Eastern Cape on 18 July, 1918, Mandela was given his English name, Nelson, by a teacher at his school., Score: 0.7751871347427368, Max Token: ,\n",
      "Sample: In another unusually frank exchange, he aimed biting criticism at the media, especially the Sun, the Daily Mail and the Daily Telegraph, three of the royal family’s most ardent supporters in Fleet Street., Score: 0.7727653980255127, Max Token: ,\n",
      "Sample: Professor Sajiv Singh of Carnegie Mellon University Robotics Institute, who runs a “critical cargo delivery” company called NearEarth, said that piloting a state-of-the-art drone was a little more like leaving it a trail of breadcrumbs: go to this altitude, perform this short task, go back home., Score: 0.7725436687469482, Max Token: ,\n",
      "Sample: They met a surfer named William, although he liked to be called Will, who was offering free lessons., Score: 0.76643967628479, Max Token: ,\n",
      "Sample: Doñana, a UN World Heritage Site, is also home to some of Europe’s rarest birds, including the Spanish imperial eagle, while its mammalian inhabitants include the highly endangered Iberian lynx., Score: 0.7654361724853516, Max Token: ,\n",
      "Sample: A few have, although Brian Jones first led the band, Jagger and Richards assumed leadership when Jones was facing personal struggles., Score: 0.764175295829773, Max Token: ,\n",
      "Sample: Jaime, a new immigrant, was attending his daughter's first performance in a school play., Score: 0.7536203861236572, Max Token: ,\n",
      "Sample: Once Jobs got Apple going, he sold his first computers, which were called the Apple I, for $666.66 each., Score: 0.7500619888305664, Max Token: ,\n",
      "Sample: Gillard, you would expect, knows that., Score: 0.7499072551727295, Max Token: ,\n",
      "Sample: Also, we still face huge problems of our own making, particularly environmental ones like global warming, and wealth and natural resources need to be distributed more fairly., Score: 0.7496621012687683, Max Token: ,\n",
      "Sample: The notes show that responses by Allen, the prosecution's star witness, were inconsistent with testimony he gave against Stevens, and that information from the interview could have benefited Stevens at trial, the motion says., Score: 0.7493635416030884, Max Token: ,\n",
      "Sample: I felt last night's decision was the proper decision for my district, even though it was not the popular decision for my party, said Cao, a first-term representative from Louisiana's traditionally Democratic 2nd District., Score: 0.7488515377044678, Max Token: ,\n",
      "Sample: The other one, Kenneth Bae, was arrested in November 2012 and sentenced in May to 15 years of hard labor., Score: 0.7453908920288086, Max Token: ,\n",
      "Sample: Pequeno told reporters that Acosta said he ordered the killings of about 1,500 people, mostly in Ciudad Juarez and Chihuahua's capital., Score: 0.7451046705245972, Max Token: ,\n",
      "Sample: The main character was the father, Al Bundy, who was a lovable loser living with his self-centered wife, and bratty kids., Score: 0.7440242171287537, Max Token: ,\n",
      "Sample: Another would also be the \"ethical vegan\", which not only applies the diet but also follows certain types of philosophy., Score: 0.7410581707954407, Max Token: \"\n",
      "Sample: According to publisher Harper Collins, The Big Honey Hunt, published in 1962, was the first book starring the bear family., Score: 0.7405369877815247, Max Token: ,\n",
      "Sample: The man who has produced and worked with most of the western world’s biggest music stars, from the Who, the Rolling Stones and Queen to Madonna, Bob Dylan and Luciano Pavarotti, said the biggest problem was a dire lack of major new bands to succeed the old ones., Score: 0.7398078441619873, Max Token: ,\n",
      "Sample: Yet, just as McDonald’s has been losing the customers who will pay a bit more for food perceived as fresher and healthier, it has also lost its edge in fast-food essentials: speedy service at low prices., Score: 0.7376290559768677, Max Token: ,\n",
      "Sample: Not only does it transform the lives of friends and family, but each win has a measurable effect on the UK economy, especially with so much of it being spent in the UK., Score: 0.7362379431724548, Max Token: ,\n",
      "Sample: The fourth book, \"A Feast for Crows\", is my favorite., Score: 0.7361685037612915, Max Token: ,\n",
      "Sample: The family's statement came a day after U.S. Secretary of State John Kerry called on North Korea to release Americans being held, calling the detentions very, very disturbing choices by the North Koreans., Score: 0.7351319193840027, Max Token: ,\n",
      "Sample: Last, Obama added, is that today Americans are responding to a very real threat that began with the vicious attack on 9/11., Score: 0.7298705577850342, Max Token: ,\n",
      "Sample: I love the history of dance, especially when it is deeply engrained in culture., Score: 0.7277204394340515, Max Token: ,\n",
      "Sample: It's a fact that music culture and drug culture overlap, especially in a live-music setting, but be wise about bringing drugs or large amounts of booze with you., Score: 0.7269446849822998, Max Token: ,\n",
      "Sample: The prime minister promised a devolution revolution across Great Britain, including votes on English issues by English MPs at Westminster, as he welcomed Scotland’s decision to remain inside the UK., Score: 0.7260447144508362, Max Token: ,\n",
      "Sample: Scientists hope to glean more clues about the origin and evolution of the universe, and in particular our own galaxy, after a camera of this incredible scale -- fitted to the Gaia space telescope -- was launched Thursday., Score: 0.7225384712219238, Max Token: ,\n",
      "Sample: If you liked Anthrax, you should check out the other members of the \"Big Four\": Metallica, Megadeth, and Slayer., Score: 0.7222274541854858, Max Token: \"\n",
      "Sample: Spector's professional trademark was the Wall of Sound, the layering of instrumental tracks and percussion that underpinned a string of hits on his Philles label -- named for Spector and his business partner, Lester Sill -- in the early 1960s., Score: 0.7214966416358948, Max Token: -\n",
      "Sample: The meteorite over Chelyabinsk arrived less than a day before asteroid 2012 DA14 was expected to make the closest pass to Earth (about 17,510 miles) of any recorded cosmic body., Score: 0.7195360660552979, Max Token: (\n",
      "Sample: Perhaps not, as some research may suggest dolphins share this capability because they are able to recognise when these rules are broken., Score: 0.7188672423362732, Max Token: ,\n",
      "Sample: Then, when I sat in the garden to eat, I noticed two enormous brown eyes looking at me., Score: 0.7176011800765991, Max Token: ,\n",
      "Sample: Floating bonus is the kind of bonus that is indeterminate in amount, such as quarterly bonus, bonus at the end of the year., Score: 0.7153745889663696, Max Token: ,\n",
      "Sample: If the outcome stands in the face of legal challenges, despite a count of any outstanding ballots or a potential recount from Miller, it would be only the second time a person won a write-in campaign for the Senate., Score: 0.7135138511657715, Max Token: ,\n",
      "Sample: After leaving the Clinton White House, Emanuel, 48, was an investment banker on Wall Street and later was elected to the House of Representatives in 2002 from a heavily Democratic Chicago district., Score: 0.7122078537940979, Max Token: ,\n",
      "Sample: Speaking of \"bucket list\" have you ever seen the movie with Morgan Freeman and Jack Nicholson called \"Bucket List\"?, Score: 0.7118508815765381, Max Token: \"\n",
      "Sample: He learned a lot of lessons about defense budgeting during his stint as the head of the OMB, and knows how to deal with a Republican Congress, as he did during the Clinton administration, Berteau said., Score: 0.7097558975219727, Max Token: ,\n",
      "Sample: A tongue- in-cheek video adds a melodramatic voiceover, in which the noble” carthatidae lineage – the vultures” are pitted against pestilence and disease, while “humanity is placidly ignoring the danger”., Score: 0.7077665328979492, Max Token: ,\n",
      "Sample: It affects many people, especially males., Score: 0.7014787197113037, Max Token: ,\n",
      "Sample: Or, a \"tenement\" as they call it in Scotland., Score: 0.697532057762146, Max Token: \"\n",
      "Sample: “The fall of the Berlin Wall helped define Vienna as the hub for companies wanting to do business in Central Europe.” \n",
      "According to the World Bank, Austria has one of the highest figures for GDP per head in the world, just behind the US and ahead of Germany and Britain, although quite some way below neighbouring Switzerland., Score: 0.6973681449890137, Max Token: ,\n",
      "Sample: Jacob Zenn, an expert on Boko Haram with the Jamestown Foundation, a Washington, D.C.-based research and analysis firm, says Shekau has even acknowledged the intellectual chaos of his presentations., Score: 0.6962187886238098, Max Token: ,\n",
      "Sample: Yes it is, as well as \"Emma\" from 1816., Score: 0.6921911239624023, Max Token: ,\n",
      "Sample: The note will feature Turner’s 1799 self-portrait, which currently hangs in Tate Britain, as well as one of his most recognizable works, The Fighting Temeraire, a tribute to the ship that played a distinguished role in Nelson’s victory at the Battle of Trafalgar in 1805., Score: 0.6889656782150269, Max Token: ,\n",
      "Sample: Ron explained that a compost bin was a place where they could put any organic waste, like fallen leaves, grass clippings, and fruit and vegetable peels., Score: 0.6882976293563843, Max Token: ,\n",
      "Sample: Another at the centre, Ozymandias, was thought to have broken a world record for opening a jar before it was released into the ocean., Score: 0.6878119707107544, Max Token: ,\n",
      "Sample: I prefer the indoor sports, such as bowling, badminton and squash., Score: 0.6873522996902466, Max Token: ,\n",
      "Sample: He approached Duato, a non-Russian speaker, who has spent the last 20 years choreographing new works as Artistic Director of the Spanish National Dance Company., Score: 0.6799106001853943, Max Token: ,\n",
      "Sample: She is particularly frustrated by the depiction of migrants in the media and by politicians who have never visited the camp, most recently David Cameron, the British prime minister, who in a much criticized speech talked about “swarms” of people trying to reach the UK., Score: 0.6756126284599304, Max Token: ,\n",
      "Sample: His daughter, Carol, was five years old., Score: 0.6750879287719727, Max Token: ,\n",
      "Sample: The word \"ovo\" is derived from the Latin word for egg., Score: 0.6736001372337341, Max Token: \"\n",
      "Sample: Amid increasing hype around John Lewis’s seasonal ad, which has come to mark the beginning of the Christmas shopping season for many, the department store will aim to use its profile to raise hundreds of thousands of pounds for Age UK., Score: 0.672511875629425, Max Token: ,\n",
      "Sample: No, my father isn't even what you would call a \"good-enough\" parent because my health is deteriorating under his care., Score: 0.6720200777053833, Max Token: \"\n",
      "Sample: There were 74 people killed in Aleppo province, including 50 prisoners who the group said were executed by government forces in Aleppo's Central Prison, the group said., Score: 0.6712530255317688, Max Token: ,\n",
      "Sample: Starting with Margaret Atwood, who handed over the manuscript of a text called Scribbler Moon in 2015, each year for the next 100 years, an author will deliver a piece of writing that will only be read in 2114, when the trees are chopped down to make paper on which the 100 texts will be printed., Score: 0.6679971218109131, Max Token: ,\n",
      "Sample: Joe Jensen, of Intel’s Retail Solutions Division, says that the aim of bringing RealSense technology into shops is not to create databases of specific people’s lives but rather to build generalized models of people’s lifestyles and shopping habits., Score: 0.6679713726043701, Max Token: ,\n",
      "Sample: By 11, she was showing exceptional determination, calling personally on the US special representative to Pakistan, Richard Holbrooke, to use his influence to combat the Taliban’s drive against education for girls., Score: 0.6658022999763489, Max Token: ,\n",
      "Sample: Former Sen. Ted Stevens, 85, of Alaska lost his re-election bid in November., Score: 0.6645653247833252, Max Token: ,\n",
      "Sample: ﻿Brazil’s latest funk sensation, Anitta, has won millions of fans by taking the favela sound into the mainstream, but she is at the centre of a debate about skin colour., Score: 0.6632506251335144, Max Token: ,\n",
      "Sample: There are different types of lotteries, such as Powerball, Mega Millions, and Lotto., Score: 0.6622642874717712, Max Token: ,\n",
      "Sample: If I had a Huskey dog, I'd name him Oreo or \"Cookie\" because of his Cookies n' Cream appearance., Score: 0.6613444089889526, Max Token: \"\n",
      "Sample: Last week, Gen. Amadou Sanogo, who led the March 2012 coup, was arrested, charged with complicity in kidnapping., Score: 0.6611790060997009, Max Token: ,\n",
      "Sample: There is a saying \"One man's trash is another man's treasure,\" meaning I might not like something and throw it away, and then someone might love it and take it., Score: 0.6604833006858826, Max Token: \"\n",
      "Sample: New York City broke a record high Sunday, according to Ashley Sears, a meteorologist with the National Weather Service., Score: 0.6595534086227417, Max Token: ,\n",
      "Sample: Haylee Donathan, her mother Candace Watson and Robbie Potter were discovered hiding for the past week at The Morning Star Ranch, a retreat in Valley Center, near San Diego, said Peter Elliott, United States Marshal for the Northern District of Ohio., Score: 0.6576135754585266, Max Token: ,\n",
      "Sample: But, now that we’re here, it’s great,” said Brian Hill, a retired chief executive from Sunderland., Score: 0.6447643637657166, Max Token: ,\n",
      "Sample: Gadhafi's death Thursday solidified the power of the National Transitional Council, which marked the country's liberation on Sunday in the eastern city of Benghazi, where the uprising started., Score: 0.644759476184845, Max Token: ,\n",
      "Sample: I'm upset that next season, season 8, will be the last season of GoT., Score: 0.6428385972976685, Max Token: ,\n",
      "Sample: “Many work on the farm, or tending the crops, and what they get in return – when the fish are fully grown after 90 days – is fish., Score: 0.6423922181129456, Max Token: ,\n",
      "Sample: They think, Oh this is so cool,and they just run to it -- but you have to remind them that it 'll still be there when they 've finished competing and that until they 've finished competing they 've got to stay on their normal routine., Score: 0.6419748663902283, Max Token: ,\n",
      "Sample: Rather than use the raw Celsius readings to assess the heat, organizers prefer to use the Wet Bulb Globe Temperature composite, which also gauges humidity and wind to identify the perceived conditions., Score: 0.6405935883522034, Max Token: ,\n",
      "Sample: Fortunately, his long-suffering girlfriend, Anaïs, and cat, Loon, (both French) stuck with him., Score: 0.6365762948989868, Max Token: ,\n",
      "Sample: Stephan Keszler, the dealer behind that auction, believes selling Banksy’s works without his permission is legitimate., Score: 0.6360819935798645, Max Token: ,\n",
      "Sample: Clarkson starred in the 1985 B-movie Barbarian Queen and appeared in many other films, including DeathStalker,  Blind Date,  Scarface,  Fast Times at Ridgemont High and the spoof Amazon Women on the Moon., Score: 0.6349464654922485, Max Token: ,\n",
      "Sample: “I’m typically given between £5 and £20 to spend at each store, to assess the service I receive at the till,” says Laura, a 50-year-old mystery shopper from Devon, who has been paid to visit around 7,000 shops since 2001., Score: 0.6309020519256592, Max Token: ,\n",
      "Sample: Where does the name \"chocolate\" come from?, Score: 0.6308585405349731, Max Token: \"\n",
      "Sample: “If you fly commercial airlines, often they’ll say, ’Oh, a component has failed – we have to go back to the gate,’” Singh said., Score: 0.630032479763031, Max Token: ,\n",
      "Sample: Fox, 24, was so excited when Green, 36, popped the question on a Hawaii beach that she dropped the 2-carat diamond engagement ring into the sand, Us Weekly magazine reported., Score: 0.6242395043373108, Max Token: ,\n",
      "Sample: Probably, quite frankly I am tired of processing claim adjusters., Score: 0.6227483153343201, Max Token: ,\n",
      "Sample: There sure are, instead of paying one feet to cover all meals for the whole school year., Score: 0.6221687197685242, Max Token: ,\n",
      "Sample: Tom Sanders, a professor of nutrition at King’s College London, said the research did show some differences., Score: 0.6217467784881592, Max Token: ,\n",
      "Sample: India’s wealthiest will quadruple their net worth between now and 2018, a report says, with hundreds of thousands of new entrepreneurs and inheritors becoming multimillionaires., Score: 0.6203153729438782, Max Token: ,\n",
      "Sample: Here, I mean it's just, it defies all logic and I think that's what's really so, so terribly disturbing about this case., Score: 0.6194446682929993, Max Token: ,\n",
      "Sample: He isn't, of course, but I don't think he'd ever use it., Score: 0.6185553073883057, Max Token: ,\n",
      "Sample: Speaking of languages (kind of), I just learned that English is unique in that it's spoken by many more non-native speakers than native ones, which sets it apart from other Western languages., Score: 0.6160783767700195, Max Token: (\n",
      "Sample: Benedict’s own account of his reasons makes it clear that he took into account not only his physical, but also his psychological condition: “In order to govern the bark of Saint Peter and proclaim the Gospel, both strength of mind and body are necessary, strength which in the last few months has deteriorated in me to the extent that I have had to recognize my incapacity to adequately fulfil the ministry entrusted to me.” Other theories will no doubt swirl around the Vatican in the days and weeks ahead, just as they did following the death of Pope John Paul I in 1978, 33 days after his election., Score: 0.6153649091720581, Max Token: ,\n",
      "Sample: Sybrina Fulton, Martin's mother, said the video is another strong piece of evidence proving her son was killed unjustly., Score: 0.6138049364089966, Max Token: ,\n",
      "Sample: We call on all parties to abide by their public commitments to ensure the security of the diplomatic community, including our personnel., Score: 0.6130451560020447, Max Token: ,\n",
      "Sample: “Designers and\n",
      "retailers need to get the most out of every\n",
      "purchase a customer makes, due to the fact\n",
      "that customers are thinking twice before buying\n",
      "excess pieces.”\n",
      "Each fashion brand, designer, and retailer has\n",
      "items that are known sellers, Lovell explains., Score: 0.6128290891647339, Max Token: ,\n",
      "Sample: Spanish authorities had been monitoring 87 people who came into contact with healthcare worker Teresa Romero Ramos, 15 of whom were considered high-risk and were quarantined at a Madrid hospital, WHO said., Score: 0.6112745404243469, Max Token: ,\n",
      "Sample: The were unconventional and played many genres, including pop music, Indian music, and hard rock!, Score: 0.6100003719329834, Max Token: ,\n",
      "Sample: “About a year and a half ago,” he said in 1969, “all of a sudden, kids started coming up to me saying, 'You’re the greatest blues guitarist in the world.', Score: 0.6097398996353149, Max Token: ,\n",
      "Sample: I’m fully expecting the first Babyklar.nu baby by next summer.” More men have signed up than women (53% to 47%), with testimonials such as “It’s so lovely to be able to say this out loud” and “I finally dare to be honest about what I want.” \n",
      "The site has come at an opportune time for the country of five million people., Score: 0.6097297072410583, Max Token: ,\n",
      "Sample: If other people post quotes and photos claiming to be me or my family, please, do not send them personal information or click links, even for charity., Score: 0.6094542145729065, Max Token: ,\n",
      "Sample: Yet the bodies of Elrey Bud Runion, and his wife, June, were found January 26, police said., Score: 0.6079592108726501, Max Token: ,\n",
      "Sample: A walk-in wardrobe was a must for 28%, almost a quarter (24%) opted for a property behind electric gates, and 22% had a games room, with 7% installing a snooker table., Score: 0.6072183847427368, Max Token: ,\n",
      "Sample: One day, when Donald was painting at the park, a man began watching him paint., Score: 0.60699462890625, Max Token: ,\n",
      "Sample: I really enjoy fishing, especially when the fish are biting!, Score: 0.6046063303947449, Max Token: ,\n",
      "Sample: “While baby boomers are still a very important segment, we’re finding that a lot of younger people are using e-bikes for transportation, instead of cars.” \n",
      "Accell’s Yuba brand even sells a cargo bike with a stronger motor and rear rack., Score: 0.603653609752655, Max Token: ,\n",
      "Sample: I believe relationships need to be clear, not \"open.\", Score: 0.6028680205345154, Max Token: \"\n",
      "Sample: Mission Control spokesman Valery Lyndin said the condition of the crew -- South Korean bioengineer Yi So-yeon, American astronaut Peggy Whitson and Russian flight engineer Yuri Malenchenko -- was satisfactory, though the three had been subjected to severe G-forces during the re-entry., Score: 0.6004352569580078, Max Token: ,\n",
      "Sample: There were several, including Brian Jones, Keith Richards, Bill Wyman, Charlie Watts and Ian Stewart, Score: 0.5999787449836731, Max Token: ,\n",
      "Sample: The Man Who Sold the World was released in the US in late 1970 and in the UK the following year, and with its daring songwriting and broody, hard-rock sound, it was the first album to do full justice to his writing and performing gifts., Score: 0.5997923612594604, Max Token: ,\n",
      "Sample: It serves as not only a powerful recruitment piece, but a stern warning to their opposition about flames of warrising against them by the fighters, according to a summary by SITE., Score: 0.5995213985443115, Max Token: not\n",
      "Sample: Even for civilians, though, the statistics are not all bad., Score: 0.5988311767578125, Max Token: ,\n",
      "Sample: This \" Cream of Olives \" is our bestseller for combination skin., Score: 0.5983254909515381, Max Token: \"\n",
      "Sample: The victory in the elite, eight-man end-of-season showpiece is the highlight of the 28-year-old Russian's career, going one better than 2008 when he lost in the final to Novak Djokovic of Serbia., Score: 0.5911991596221924, Max Token: ,\n",
      "Sample: In all states CNN has polled so far, the minor party candidates are getting no more than 4 % of the vote, and usually closer to 1 % -2 %, Holland said, noting that including them does n't change the margin between Obama and Romney., Score: 0.5877444744110107, Max Token: ,\n",
      "Sample: Even outside of the US there are reenactment communities, like in Canada or the UK and much of Europe., Score: 0.5856736302375793, Max Token: ,\n",
      "Sample: Originally the term comics book came from comic strips of humorous tone, but nowadays, there are comics of all genres, usually not humorous., Score: 0.5835925936698914, Max Token: ,\n",
      "Sample: But, when he looked at the results on dry land, the images were brown and murky., Score: 0.581769585609436, Max Token: ,\n",
      "Sample: There are actually recorded instances of \"vegaphobia\" going back to the 3rd and 4th centuries!, Score: 0.5801987051963806, Max Token: \"\n",
      "Sample: The Houthis -- Shiite Muslims who have long felt marginalized in the majority Sunni country -- have taken control of Sanaa and the northern provinces of Amran and Sadaa., Score: 0.5797730088233948, Max Token: -\n",
      "Sample: Johnny landed on the Boardwalk square, which is a very prized property., Score: 0.5795510411262512, Max Token: ,\n",
      "Sample: Sometimes, when we were traveling together and he would be attending a military reunion, someone would approach him with a copy of the photo., Score: 0.5790819525718689, Max Token: ,\n",
      "Sample: Brazil is known for its progressive social policies and openness, as reflected in the status conferred to the trio, though the country is stereotyped, too., Score: 0.5768951177597046, Max Token: ,\n",
      "Sample: After dropping the first two games in Vancouver, the Bruins took four of the last five games from the Canucks, who struggled to stay in Game Seven after going down 1-0 in the first period., Score: 0.5765877962112427, Max Token: ,\n",
      "Sample: Shekau's unbending, almost medieval Salafism sees girls and women as servants for whom education is a sin., Score: 0.5762588381767273, Max Token: ,\n",
      "Sample: PAMM is one of the main attractions in what was known as Bicentennial Park, now Museum Park -- which will also house the Patricia and Phillip Frost Museum of Science, set to open in 2015., Score: 0.5751163363456726, Max Token: ,\n",
      "Sample: He saw a copy of \"Abbey Road,\" by The Beatles and was happy., Score: 0.5672013759613037, Max Token: \"\n",
      "Sample: Nevertheless, the project has already had 10,000 applicants, according to the company’s Medical Director, Norbert Kraft., Score: 0.567050576210022, Max Token: ,\n",
      "Sample: This will be partly because we will be thinking of how many people practise their religion, rather than what they put on census forms., Score: 0.5645244717597961, Max Token: ,\n",
      "Sample: Dutch club Feyenoord have signed Denmark international striker Soren Larsen from French side Toulouse on loan for the rest of this season, along with Arsenal's new 18-year-old Japanese forward Ryo Miyaichi and Borussia Monchengladbach midfielder Marcel Meeuwis., Score: 0.5641487240791321, Max Token: ,\n",
      "Sample: He's won six medals in the Winter Olympics, including a gold in 2008, and a bronze just a few months ago in Sochi., Score: 0.5634246468544006, Max Token: ,\n",
      "Sample: According to Brown, who I interviewed earlier this year, America should actually be more alert to the possibilities of international cooperation in both trade and agreements for growth., Score: 0.5611624121665955, Max Token: ,\n",
      "Sample: That made a difference to me, keeping my sanity.” Being back on Earth with the rest of humanity had not quite sunk in, he added, recalling how shocked he had been to see a crowd of people after a previous mission., Score: 0.5593230128288269, Max Token: ,\n",
      "Sample: After two years of successful ads featuring cuddly animals – a bear and hare, then a penguin – this time, the retailer is tugging at the heartstrings with a story of a young girl, Lily, who spots an old man living in a shack on the moon through her telescope., Score: 0.5587782263755798, Max Token: ,\n",
      "Sample: Yes, grandparents on both sides who are very involved, and aunts and uncles as well, although not all of them are local., Score: 0.5584820508956909, Max Token: ,\n",
      "Sample: In addition to the fish, waste from the tanks is collected and used to irrigate crops, also providing food and income for the community, made up of 503 women, 206 men and 346 children., Score: 0.5580569505691528, Max Token: ,\n",
      "Sample: I knew that Ted had some struggles in this area, particularly in his thoughts., Score: 0.557181715965271, Max Token: ,\n",
      "Sample: By this account, Benedict – never one to shrink from utterances and decisions that shocked – had taken it upon himself to bring his church face to face with reality: the reality that contemporary medicine can keep men alive far beyond the age at which they are up to grappling with the demands of running a vast global organization., Score: 0.5567739605903625, Max Token: –\n",
      "Sample: He added that his gallery had been inundated with emails and phone calls from the UK, saying that many of them were abusive or offensive, but said he supported the inclusion of the pieces in the sale because it would preserve them., Score: 0.5533117055892944, Max Token: ,\n",
      "Sample: Autopsies were also conducted on the bodies of Gadhafi's son, Mutassim, and his former defense minister, Abu Baker Yunis., Score: 0.5525639653205872, Max Token: ,\n",
      "Sample: The Top Chef is who wins the competition, as they are judged by a panel of judges., Score: 0.550776481628418, Max Token: ,\n",
      "Sample: In 2002, only just over 27,000 tourists dared to visit the Kashmir Valley, frightened off by the anti-Indian insurgency, which has claimed up to 70,000 lives., Score: 0.5504588484764099, Max Token: ,\n",
      "Sample: And we also need some small articles in the office, such as pens, clips, erasers and sticky notes., Score: 0.5503175854682922, Max Token: ,\n",
      "Sample: Banjong Palim, 43, said he had never seen anything like this in his lifetime., Score: 0.5497140884399414, Max Token: ,\n",
      "Sample: Watch the lawyers give their views of the verdict \n",
      " This was not an isolated incident, Fidler said, noting Spector's two previous firearm-related convictions from the 1970s., Score: 0.5496975779533386, Max Token: ,\n",
      "Sample: President Abdu Rabu Mansour Hadi's resignation Thursday came after Houthi rebels kidnapped his chief of staff, seized control of key government buildings in the capital, Sanaa, and failed to abide by provisions of a tentative peace deal hammered out Wednesday., Score: 0.5493173599243164, Max Token: ,\n",
      "Sample: The driving force behind the group's success was their father, Joseph \"Joe\" Jackson., Score: 0.5482802391052246, Max Token: \"\n",
      "Sample: “But I don’t think I would ever say I’m absolutely, 100% done,” he added, noting the sudden successes of private spaceflight companies such as SpaceX., Score: 0.5481005907058716, Max Token: ,\n",
      "Sample: What are we waiting for?” Dr Ruth Sealy, a senior research fellow at Cranfield School of Management, added: “It is not surprising., Score: 0.5473071932792664, Max Token: ,\n",
      "Sample: The teenage girl from Okolona, Mississippi, had big dreams of saving money and going to college to pursue a business degree., Score: 0.5461771488189697, Max Token: ,\n",
      "Sample: Well, for one thing the lack of simulation could leave to unpleasantness -- where you find yourself almost craving relief, among other social and behavioral consequences., Score: 0.5447994470596313, Max Token: ,\n",
      "Sample: Chinese food is divided into eight big cuisines, such as Cantonese food, Sichuan food, Fujisan food, etc., Score: 0.5426226854324341, Max Token: ,\n",
      "Sample: Sauber announced Swede Marcus Ericsson and Brazilian Felipe Nasr as its 2015 drivers in November much to the chagrin of current driver Adrian Sutil, who believed he had a contract with the team for next season., Score: 0.5423896908760071, Max Token: ,\n",
      "Sample: I am a journalist, which is pretty much the same thing :) We have worldwide readership, so it's kind of exciting!, Score: 0.5363467931747437, Max Token: ,\n",
      "Sample: When a friend of hers that she’d lost track of moved to Naples for a month, Raskauskas didn’t even realize she was there until after she’d left, which the 22-year-old said “was a bummer”., Score: 0.5333247184753418, Max Token: ,\n",
      "Sample: Africa is slowly coming out of poverty, just as Asia did before., Score: 0.5330837965011597, Max Token: ,\n",
      "Sample: However, California has the most licensed drivers, and by far, the most registered vehicles., Score: 0.5326718091964722, Max Token: ,\n",
      "Sample: Petraeus will remain in command in Afghanistan until Allen is ready to take over at the beginning of September, officials said, which could require an interim CIA director if Panetta moves to the defense secretary's office as planned on July 1., Score: 0.5292744040489197, Max Token: ,\n",
      "Sample: Reduced fertility and longer life expectancies have meant a rise in the mean age of the world’s population in a decade, from 26 years old to almost 30., Score: 0.5284599661827087, Max Token: ,\n",
      "Sample: I don’t think he was unhappy with us, or lonely, as octopuses are solitary creatures., Score: 0.5281471014022827, Max Token: ,\n",
      "Sample: At 18, he took over his own ski-mountaineering and trail-running training, with a schedule that only allows a couple of weeks of rest a year., Score: 0.5265794992446899, Max Token: ,\n",
      "Sample: Oh ok, Im what you call an ethical vegan, We are often applied to those who not only follow a vegan diet but extend the philosophy into other areas of their lives, and oppose the use of animals for any purpose., Score: 0.5258612632751465, Max Token: not\n",
      "Sample: “There are seniors who have to sometimes pick between whether they are going to pay for their medications or pay their bills or buy food, and that shouldn’t be the case.” \n",
      "Littman says the town has lost too many people working key jobs – such as teachers, police officers and even doctors and dentists – because they can’t afford to live in the community and the food pantry board is determined to do more to ensure people have a better shot at staying put., Score: 0.5231143832206726, Max Token: –\n",
      "Sample: When Jeff was 11 and Carol was 13, Ruth decided to take her kids to Disneyland, which would be the first time any of them ever went., Score: 0.5218684077262878, Max Token: ,\n",
      "Sample: From the top there are beautiful views of New York City, especially at night., Score: 0.5208960175514221, Max Token: ,\n",
      "Sample: Now, 110 works selected by the museum from Pérez's private collection are available for everyone to see inside the three-story, 200,000-square-foot museum, designed by the Pritzker Prize-winning Swiss architects Herzog & de Meuron., Score: 0.5199975967407227, Max Token: ,\n",
      "Sample: Twelve congressmen took their seats, believing the military was shepherding them to safety., Score: 0.5196145176887512, Max Token: ,\n",
      "Sample: Jazz enthusiasts, the Villanfins host occasional concerts featuring local groups, including Les Bras Coeurs, a quartet that performs Georges Brassens standards., Score: 0.5188478231430054, Max Token: ,\n",
      "Sample: I'm sorry, Brandon, um, I ... we need to, we need to confront her on this., Score: 0.5173325538635254, Max Token: ,\n",
      "Sample: There were other names Chris heard people calling him, like \"house husband\" and \"house-spouse\"., Score: 0.5165533423423767, Max Token: ,\n",
      "Sample: More than half a million people a year flock to the Blue Mountains National Park, Australia's most accessible wilderness, to see its impressive peaks and ancient rainforest., Score: 0.5160645842552185, Max Token: ,\n",
      "Sample: The sad thing is, so many are avoidable, like if the driver is drunk or going too fast, or if the road is badly designed., Score: 0.5159491300582886, Max Token: ,\n",
      "Sample: I find it hard to believe she’ll be able to get the players’ respect, above all when she’s the same age as the oldest,” wrote one fan., Score: 0.5158906579017639, Max Token: ,\n",
      "Sample: The level of methane rises and falls at seasonal intervals in the year, almost as if the planet is breathing it., Score: 0.5158096551895142, Max Token: ,\n",
      "Sample: On the occasions through the centuries when long wars have come to an end, many newspapers have chosen to go with the most glorious single-word, all-capital-letters headline of all:\n",
      "PEACE !, Score: 0.5111753344535828, Max Token: ,\n",
      "Sample: His son is the most precious person in the world to him and he has gone not just the extra mile, but mile after mile, back and forth, trying to make it clear that his son Sean deserves to be returned to him., Score: 0.5109517574310303, Max Token: not\n",
      "Sample: Underwritten by government funding, none of his musicals has yet made a profit, let alone smashed box-office records -- although a 2005 production called Butterflies made it to South Korean stages in a 2008 tour., Score: 0.5094515681266785, Max Token: ,\n",
      "Sample: It is an ale brewed with a few grains (mostly wheat) and a bit of citrus zest., Score: 0.5094335675239563, Max Token: (\n",
      "Sample: Joseph Stolarski posted, If you find something interesting, you then take it to a medical professional for further evaluation., Score: 0.507743775844574, Max Token: ,\n",
      "Sample: He pulled a.223 - caliber assault rifle from a bag and shot TSA officer Gerardo Hernandez at point-blank range, according to a court document filed by an FBI agent., Score: 0.5075163245201111, Max Token: ,\n",
      "Sample: Lincoln vowed to end slavery during his campaign for president, while never speaking about how the country would keep its relationship with the southern states when slavery was ended., Score: 0.5070903301239014, Max Token: ,\n",
      "Sample: We're surrounded by them where I live, especially since there's like 3,000 of them in the US, Score: 0.5064045786857605, Max Token: ,\n",
      "Sample: Its epicenter was 240 kilometers -LRB- 150 miles -RRB- south of Padang, at a depth of 20.6 kilometers -LRB- 12.8 miles -RRB-, according to the U.S. Geological Survey., Score: 0.5063956379890442, Max Token: ,\n",
      "Sample: The dispute goes back to 2007, when Odyssey announced it had found a 19th-century sunken ship off of Spain., Score: 0.503136932849884, Max Token: ,\n",
      "Sample: This was also the conclusion of earlier, smaller studies published in 2009 in a scientific journal and by the UK Food Standards Agency, though the latter considered just 11 studies., Score: 0.5029063820838928, Max Token: ,\n",
      "Sample: However, from these beginnings, Schwarzenegger cultivated a long, and successful career as an action movie star in Hollywood., Score: 0.5028156042098999, Max Token: ,\n",
      "Sample: Compare that to Spotify, which has been criticized by artists from Radiohead’s Thom Yorke to Taylor Swift., Score: 0.501998782157898, Max Token: ,\n",
      "Sample: It has always been played for one's pleasure, not just for performance., Score: 0.5018237233161926, Max Token: ,\n",
      "Sample: I like the 2000 horror satire called \"Scary Movies\" by Keenen Ivory Wayans., Score: 0.5018107295036316, Max Token: \"\n",
      "Sample: Sharon Stone was married to the boss, who treated her badly, so she killed him., Score: 0.5016444325447083, Max Token: ,\n"
     ]
    },
    {
     "name": "stderr",
     "output_type": "stream",
     "text": [
      "\n"
     ]
    }
   ],
   "source": [
    "# should stop after n examples have been found\n",
    "scores, tokens = probe_model_from_loader(classifier, dataloader, n_batches=100)\n",
    "results = [(score, token, sample) for score, token, sample in zip(scores, tokens, sents[:len(scores)]) if score > 0.5]\n",
    "sorted_results = sorted(results, key=lambda x: x[0], reverse=True)\n",
    "for score, token, sample in sorted_results:\n",
    "    print(f\"Sample: {sample}, Score: {score}, Max Token: {token}\")"
   ]
  },
  {
   "cell_type": "markdown",
   "id": "78b05486-3d3c-4f32-8052-cf543442ec9f",
   "metadata": {},
   "source": [
    "Find frequent words and create better negative examples"
   ]
  },
  {
   "cell_type": "code",
   "execution_count": 17,
   "id": "c0a0fd8b-5ce2-410f-9b04-78e42ce516d1",
   "metadata": {
    "scrolled": true
   },
   "outputs": [
    {
     "data": {
      "text/plain": [
       "[('for', 617),\n",
       " ('I', 527),\n",
       " ('As', 525),\n",
       " ('As for', 525),\n",
       " ('for myself,', 525),\n",
       " ('myself, I', 522)]"
      ]
     },
     "execution_count": 17,
     "metadata": {},
     "output_type": "execute_result"
    }
   ],
   "source": [
    "get_bigrams = lambda words: list(zip(words, words[1:]))\n",
    "\n",
    "unigrams = [example.split(' ') for example in positive]\n",
    "bigrams = [get_bigrams(example.split(' ')) for example in positive]\n",
    "\n",
    "unigram_counter = Counter([word for example in unigrams for word in example])\n",
    "bigram_counter = Counter([\" \".join(bigram) for example in bigrams for bigram in example])\n",
    "\n",
    "top_unigrams = unigram_counter.most_common(3)\n",
    "top_bigrams = bigram_counter.most_common(3)\n",
    "top_unigrams + top_bigrams"
   ]
  },
  {
   "cell_type": "code",
   "execution_count": 288,
   "id": "fc449c1c-b693-4258-8eef-9beed180c09f",
   "metadata": {
    "scrolled": true
   },
   "outputs": [
    {
     "name": "stdout",
     "output_type": "stream",
     "text": [
      "have\n",
      "Sure! Here are 25 sentences that include \"have,\" but do not follow the grammar rule of using the perfect form of \"must\" to make deductions about the past:\n",
      "\n",
      "1. I have a lot of homework tonight.\n",
      "2. They have been friends since childhood.\n",
      "3. She must have a good reason for canceling the meeting.\n",
      "4. We have plans to go to the movies tomorrow.\n",
      "5. The teacher must have already left the classroom.\n",
      "6. I have never been to Europe.\n",
      "7. They have decided to get married next summer.\n",
      "8. We have a meeting scheduled for next week.\n",
      "9. She must have forgotten about our lunch date.\n",
      "10. I have my keys, so we can leave now.\n",
      "11. They have been waiting for over an hour.\n",
      "12. We have to finalize the project by the end of the week.\n",
      "13. He must have misplaced his phone somewhere.\n",
      "14. I have a strong feeling that it will rain today.\n",
      "15. They have always wanted to visit Australia.\n",
      "16. We have finished all the tasks on our to-do list.\n",
      "17. She must have been surprised by the unexpected news.\n",
      "18. I have heard great things about that restaurant.\n",
      "19. They have completed the marathon in under four hours.\n",
      "20. We have to return the borrowed book to the library.\n",
      "21. He must have eaten all of the cookies.\n",
      "22. I have a lot of experience in the sales industry.\n",
      "23. They have already started their vacation.\n",
      "24. We have made a reservation at the restaurant for tonight.\n",
      "25. She must have left her umbrella at home.\n",
      "must\n",
      "1. I must go to the grocery store later to pick up some vegetables.\n",
      "2. We must remember to set our alarm clocks for tomorrow morning.\n",
      "3. He must be really tired after working a double shift at work.\n",
      "4. They must have finished their project because I saw them leave the office.\n",
      "5. She must be hungry, let's offer her something to eat.\n",
      "6. We must leave early if we want to avoid traffic.\n",
      "7. He must have forgotten his wallet at home.\n",
      "8. They must have overslept because they were late for the meeting.\n",
      "9. I must find a new dentist, my toothache is getting worse.\n",
      "10. We must be quiet during the movie so we don't disturb others.\n",
      "11. She must have misplaced her keys, she can't find them anywhere.\n",
      "12. They must have gone on vacation, their house is empty.\n",
      "13. He must have left his phone in the car.\n",
      "14. We must learn from our mistakes in order to grow.\n",
      "15. She must have had a long day at work, she looks exhausted.\n",
      "16. They must be lost, they've been driving around for hours.\n",
      "17. I must remember to buy a birthday card for my friend.\n",
      "18. We must clean the house before our guests arrive.\n",
      "19. He must be a great cook, his food always tastes delicious.\n",
      "20. They must have taken a different route because they arrived before us.\n",
      "21. She must have received the package, it was delivered this morning.\n",
      "22. We must be careful not to slip on the wet floor.\n",
      "23. He must be excited for his birthday party tomorrow.\n",
      "24. They must have finished their dinner because their plates are empty.\n",
      "25. I must take a break, I've been working nonstop all day.\n",
      "must have\n",
      "Certainly! Here are 25 sentences that include \"must have,\" but do not follow the grammar rule of using the perfect form of \"must\" to make deductions about the past:\n",
      "\n",
      "1. He must have forgotten about our appointment.\n",
      "2. They must have arrived at the party early.\n",
      "3. She must have left her keys at home.\n",
      "4. You must have missed the bus this morning.\n",
      "5. It must have been a long trip for them.\n",
      "6. The dog must have eaten all the food.\n",
      "7. He must have finished his work already.\n",
      "8. They must have chosen a different route.\n",
      "9. She must have taken the wrong turn.\n",
      "10. You must have misunderstood what I said.\n",
      "11. It must have rained while we were away.\n",
      "12. He must have left his wallet at the restaurant.\n",
      "13. They must have had a great time at the concert.\n",
      "14. She must have slept through her alarm.\n",
      "15. He must have heard the news from someone else.\n",
      "16. You must have dropped your phone somewhere.\n",
      "17. She must have misplaced her glasses again.\n",
      "18. They must have forgotten to invite us to the party.\n",
      "19. He must have left the window open during the storm.\n",
      "20. You must have missed the beginning of the movie.\n",
      "21. She must have finished her homework early.\n",
      "22. They must have found a new apartment to live in.\n",
      "23. He must have won the lottery to afford that car.\n",
      "24. You must have taken the wrong train.\n",
      "25. She must have left her bag in the library.\n"
     ]
    },
    {
     "data": {
      "text/plain": [
       "['I have a lot of homework tonight.',\n",
       " 'They have been friends since childhood.',\n",
       " 'She must have a good reason for canceling the meeting.',\n",
       " 'We have plans to go to the movies tomorrow.',\n",
       " 'The teacher must have already left the classroom.',\n",
       " 'I have never been to Europe.',\n",
       " 'They have decided to get married next summer.',\n",
       " 'We have a meeting scheduled for next week.',\n",
       " 'She must have forgotten about our lunch date.',\n",
       " 'I have my keys, so we can leave now.',\n",
       " 'They have been waiting for over an hour.',\n",
       " 'We have to finalize the project by the end of the week.',\n",
       " 'He must have misplaced his phone somewhere.',\n",
       " 'I have a strong feeling that it will rain today.',\n",
       " 'They have always wanted to visit Australia.',\n",
       " 'We have finished all the tasks on our to-do list.',\n",
       " 'She must have been surprised by the unexpected news.',\n",
       " 'I have heard great things about that restaurant.',\n",
       " 'They have completed the marathon in under four hours.',\n",
       " 'We have to return the borrowed book to the library.',\n",
       " 'He must have eaten all of the cookies.',\n",
       " 'I have a lot of experience in the sales industry.',\n",
       " 'They have already started their vacation.',\n",
       " 'We have made a reservation at the restaurant for tonight.',\n",
       " 'She must have left her umbrella at home.',\n",
       " 'I must go to the grocery store later to pick up some vegetables.',\n",
       " 'We must remember to set our alarm clocks for tomorrow morning.',\n",
       " 'He must be really tired after working a double shift at work.',\n",
       " 'They must have finished their project because I saw them leave the office.',\n",
       " \"She must be hungry, let's offer her something to eat.\",\n",
       " 'We must leave early if we want to avoid traffic.',\n",
       " 'He must have forgotten his wallet at home.',\n",
       " 'They must have overslept because they were late for the meeting.',\n",
       " 'I must find a new dentist, my toothache is getting worse.',\n",
       " \"We must be quiet during the movie so we don't disturb others.\",\n",
       " \"She must have misplaced her keys, she can't find them anywhere.\",\n",
       " 'They must have gone on vacation, their house is empty.',\n",
       " 'He must have left his phone in the car.',\n",
       " 'We must learn from our mistakes in order to grow.',\n",
       " 'She must have had a long day at work, she looks exhausted.',\n",
       " \"They must be lost, they've been driving around for hours.\",\n",
       " 'I must remember to buy a birthday card for my friend.',\n",
       " 'We must clean the house before our guests arrive.',\n",
       " 'He must be a great cook, his food always tastes delicious.',\n",
       " 'They must have taken a different route because they arrived before us.',\n",
       " 'She must have received the package, it was delivered this morning.',\n",
       " 'We must be careful not to slip on the wet floor.',\n",
       " 'He must be excited for his birthday party tomorrow.',\n",
       " 'They must have finished their dinner because their plates are empty.',\n",
       " \"I must take a break, I've been working nonstop all day.\",\n",
       " 'He must have forgotten about our appointment.',\n",
       " 'They must have arrived at the party early.',\n",
       " 'She must have left her keys at home.',\n",
       " 'You must have missed the bus this morning.',\n",
       " 'It must have been a long trip for them.',\n",
       " 'The dog must have eaten all the food.',\n",
       " 'He must have finished his work already.',\n",
       " 'They must have chosen a different route.',\n",
       " 'She must have taken the wrong turn.',\n",
       " 'You must have misunderstood what I said.',\n",
       " 'It must have rained while we were away.',\n",
       " 'He must have left his wallet at the restaurant.',\n",
       " 'They must have had a great time at the concert.',\n",
       " 'She must have slept through her alarm.',\n",
       " 'He must have heard the news from someone else.',\n",
       " 'You must have dropped your phone somewhere.',\n",
       " 'She must have misplaced her glasses again.',\n",
       " 'They must have forgotten to invite us to the party.',\n",
       " 'He must have left the window open during the storm.',\n",
       " 'You must have missed the beginning of the movie.',\n",
       " 'She must have finished her homework early.',\n",
       " 'They must have found a new apartment to live in.',\n",
       " 'He must have won the lottery to afford that car.',\n",
       " 'You must have taken the wrong train.',\n",
       " 'She must have left her bag in the library.']"
      ]
     },
     "execution_count": 288,
     "metadata": {},
     "output_type": "execute_result"
    }
   ],
   "source": [
    "negatives = []\n",
    "for words in top_unigrams + top_bigrams:\n",
    "    if words[0].lower() == 'the': continue\n",
    "    if words[1] < 250: continue\n",
    "    prompt = f'{helpers.get_prompt(rule, n_examples=0, mark_words=False)}Only if possible, create 25 sentences that are NOT examples of this rule but still include \"{words[0]}\"?'\n",
    "    print(words[0])\n",
    "    messages = [ helpers.SYSTEM_MESSAGE, { \"role\": \"user\", \"content\": prompt }]\n",
    "    response = api.get_openai_chat_completion(messages, max_tokens=512)[0]\n",
    "    print(response)\n",
    "    hard_negatives, _  = helpers.parse_response(response)\n",
    "    negatives += hard_negatives\n",
    "negatives"
   ]
  },
  {
   "cell_type": "code",
   "execution_count": 289,
   "id": "781aff57-0e2b-4952-a77e-6069fcfb641f",
   "metadata": {},
   "outputs": [
    {
     "name": "stdout",
     "output_type": "stream",
     "text": [
      "150\n"
     ]
    }
   ],
   "source": [
    "new_positives = random.sample(positive, 2 * len(negatives))\n",
    "new_negatives = random.sample(negative, len(negatives)) + negatives\n",
    "print(len(new_negatives))\n",
    "dataset = data.get_dataset(new_positives, new_negatives, others, models.bert_tokenizer, 64, random_negatives=False) \n",
    "train_dataloader, val_dataloader = data.get_loaders(dataset)"
   ]
  },
  {
   "cell_type": "code",
   "execution_count": 290,
   "id": "5dee3ef3-19d8-4b7e-b680-bdbf5b1405c2",
   "metadata": {},
   "outputs": [
    {
     "name": "stderr",
     "output_type": "stream",
     "text": [
      "100%|████████████████████████████████████████████████████████████████████████████████████████████████████████| 8/8 [00:00<00:00, 18.30it/s]\n"
     ]
    },
    {
     "name": "stdout",
     "output_type": "stream",
     "text": [
      "Training loss: 0.4287335742264986\n",
      "Accuracy: 0.8666666666666667\n"
     ]
    },
    {
     "name": "stderr",
     "output_type": "stream",
     "text": [
      "100%|████████████████████████████████████████████████████████████████████████████████████████████████████████| 8/8 [00:00<00:00, 21.12it/s]\n"
     ]
    },
    {
     "name": "stdout",
     "output_type": "stream",
     "text": [
      "Training loss: 0.3136064372956753\n",
      "Accuracy: 0.9166666666666666\n"
     ]
    },
    {
     "name": "stderr",
     "output_type": "stream",
     "text": [
      "100%|████████████████████████████████████████████████████████████████████████████████████████████████████████| 8/8 [00:00<00:00, 21.46it/s]\n"
     ]
    },
    {
     "name": "stdout",
     "output_type": "stream",
     "text": [
      "Training loss: 0.26294518262147903\n",
      "Accuracy: 0.9333333333333333\n"
     ]
    },
    {
     "name": "stderr",
     "output_type": "stream",
     "text": [
      "100%|████████████████████████████████████████████████████████████████████████████████████████████████████████| 8/8 [00:00<00:00, 21.39it/s]\n"
     ]
    },
    {
     "name": "stdout",
     "output_type": "stream",
     "text": [
      "Training loss: 0.20606214553117752\n",
      "Accuracy: 0.8666666666666667\n"
     ]
    },
    {
     "name": "stderr",
     "output_type": "stream",
     "text": [
      "100%|████████████████████████████████████████████████████████████████████████████████████████████████████████| 8/8 [00:00<00:00, 21.30it/s]\n"
     ]
    },
    {
     "name": "stdout",
     "output_type": "stream",
     "text": [
      "Training loss: 0.2114942129701376\n",
      "Accuracy: 0.9333333333333333\n"
     ]
    }
   ],
   "source": [
    "optimizer = models.train(classifier, train_dataloader, val_dataloader, num_epochs=5, optimizer=optimizer)"
   ]
  },
  {
   "cell_type": "code",
   "execution_count": 292,
   "id": "2d17cb78-976e-4dfb-ad66-cb5491c899b0",
   "metadata": {},
   "outputs": [
    {
     "name": "stderr",
     "output_type": "stream",
     "text": [
      " 16%|████████████████                                                                                    | 100/625 [00:08<00:43, 12.18it/s]"
     ]
    },
    {
     "name": "stdout",
     "output_type": "stream",
     "text": [
      "Sample: You must have been pretty far away from the city., Score: 0.5799371600151062, Max Token: must\n",
      "Sample: They must have been put there by someone for sharing., Score: 0.5124282240867615, Max Token: must\n",
      "Sample: You must have been here a long time already., Score: 0.5648075938224792, Max Token: must\n",
      "Sample: It must have been about ten days ago., Score: 0.6220648884773254, Max Token: must\n",
      "Sample: It must have been sometime between 12:00 and 1:30 because I was home until almost 12:00 and I just got back at 1:30., Score: 0.9650887250900269, Max Token: must\n",
      "Sample: It must have been freezing sitting outside, wasn't it?, Score: 0.7344651222229004, Max Token: must\n"
     ]
    },
    {
     "name": "stderr",
     "output_type": "stream",
     "text": [
      "\n"
     ]
    }
   ],
   "source": [
    "# TODO: should stop after n examples have been found\n",
    "scores, tokens = probe_model_from_loader(classifier, dataloader, n_batches=100)\n",
    "for score, token, sample in zip(scores, tokens, sents[:len(scores)]):\n",
    "    if score > 0.5:\n",
    "        print(f\"Sample: {sample}, Score: {score}, Max Token: {token}\")"
   ]
  },
  {
   "cell_type": "code",
   "execution_count": 224,
   "id": "90138ef0-847d-40e3-8ad6-395482f786a7",
   "metadata": {},
   "outputs": [
    {
     "data": {
      "text/plain": [
       "['If you like the room, call the landlord and confirm the information of the room.',\n",
       " \"Also, if you need alterations to the pants, just bring them in and we'll do them for free.\",\n",
       " \"For those of you who don't have a calculator, get one.\",\n",
       " 'When you get to Waterloo, take the underground to Regents Park.',\n",
       " 'When his temperature is over 38  C, give him one tablet.',\n",
       " 'If you hear about something that might happen, then tell me about it.',\n",
       " \"If you want to lose weight and you can't stop drinking soda, try some diet coke.\"]"
      ]
     },
     "execution_count": 224,
     "metadata": {},
     "output_type": "execute_result"
    }
   ],
   "source": [
    "hits"
   ]
  },
  {
   "cell_type": "markdown",
   "id": "1f7f24a8-f0d8-4391-8733-36adc586742b",
   "metadata": {},
   "source": [
    "Let's ask GPT4 to classify hits"
   ]
  },
  {
   "cell_type": "code",
   "execution_count": 223,
   "id": "9de609a6-22b4-40d3-ad6b-ee5cc3f96f39",
   "metadata": {},
   "outputs": [
    {
     "name": "stdout",
     "output_type": "stream",
     "text": [
      "1. Yes\n",
      "2. Yes\n",
      "3. No\n",
      "4. No\n",
      "5. No\n",
      "6. Yes\n",
      "7. Yes\n"
     ]
    }
   ],
   "source": [
    "hits = [sample for score, sample in zip(scores, sents[:len(scores)]) if score > 0.75]\n",
    "\n",
    "prompt = helpers.get_prompt(rule, n_examples=0, mark_words=False)\n",
    "prompt += \"\\nDecide for each of these sentences if they use this rule:\\n\"\n",
    "for i, hit in enumerate(hits[:25]):\n",
    "    prompt += f\"{i+1}. {hit}\\n\"\n",
    "prompt += \"Output format:\\n1. [Yes/No]\\n2. [Yes/No]\\n...\"\n",
    "#print(prompt)\n",
    "messages = [ helpers.SYSTEM_MESSAGE, { \"role\": \"user\", \"content\": prompt }]\n",
    "response = api.get_openai_chat_completion(messages, max_tokens=512, model=\"gpt-4-0125-preview\")[0]\n",
    "print(response)"
   ]
  },
  {
   "cell_type": "code",
   "execution_count": 225,
   "id": "f5b1fc96-e009-45ad-a85b-df7d4b189d80",
   "metadata": {},
   "outputs": [
    {
     "name": "stdout",
     "output_type": "stream",
     "text": [
      "['If you like the room, call the landlord and confirm the information of the room.', \"Also, if you need alterations to the pants, just bring them in and we'll do them for free.\", 'If you hear about something that might happen, then tell me about it.', \"If you want to lose weight and you can't stop drinking soda, try some diet coke.\"]\n"
     ]
    },
    {
     "data": {
      "text/plain": [
       "[\"For those of you who don't have a calculator, get one.\",\n",
       " 'When you get to Waterloo, take the underground to Regents Park.',\n",
       " 'When his temperature is over 38  C, give him one tablet.']"
      ]
     },
     "execution_count": 225,
     "metadata": {},
     "output_type": "execute_result"
    }
   ],
   "source": [
    "true_positives_idx = np.array([answer == 'Yes' for num, answer in re.findall(r'(\\d+)\\.\\s(Yes|No)', response)])\n",
    "true_positives = list(np.array(hits[:25])[true_positives_idx])\n",
    "print(true_positives)\n",
    "false_positives = list(np.array(hits[:25])[true_positives_idx == False])\n",
    "false_positives"
   ]
  },
  {
   "cell_type": "code",
   "execution_count": 226,
   "id": "428d3c8b-f0b6-44bf-ba99-d81ce9247024",
   "metadata": {},
   "outputs": [
    {
     "name": "stdout",
     "output_type": "stream",
     "text": [
      "8\n",
      "6\n"
     ]
    }
   ],
   "source": [
    "new_positives = random.sample(positive, len(true_positives)) + true_positives\n",
    "print(len(new_positives))\n",
    "new_negatives = random.sample(negative, len(false_positives)) + false_positives\n",
    "print(len(new_negatives))\n",
    "dataset = data.get_dataset(new_positives, new_negatives, others, models.bert_tokenizer, 64, random_negatives=False) \n",
    "train_dataloader, val_dataloader = data.get_loaders(dataset)"
   ]
  },
  {
   "cell_type": "code",
   "execution_count": 229,
   "id": "845d2371-f514-4324-9122-c6e2910132b9",
   "metadata": {},
   "outputs": [
    {
     "name": "stderr",
     "output_type": "stream",
     "text": [
      "  0%|                                                                                                                | 0/1 [00:00<?, ?it/s]\n"
     ]
    },
    {
     "ename": "AttributeError",
     "evalue": "'tuple' object has no attribute 'step'",
     "output_type": "error",
     "traceback": [
      "\u001b[0;31m---------------------------------------------------------------------------\u001b[0m",
      "\u001b[0;31mAttributeError\u001b[0m                            Traceback (most recent call last)",
      "Cell \u001b[0;32mIn[229], line 1\u001b[0m\n\u001b[0;32m----> 1\u001b[0m optimizer, accuracy \u001b[38;5;241m=\u001b[39m \u001b[43mmodels\u001b[49m\u001b[38;5;241;43m.\u001b[39;49m\u001b[43mtrain\u001b[49m\u001b[43m(\u001b[49m\u001b[43mclassifier\u001b[49m\u001b[43m,\u001b[49m\u001b[43m \u001b[49m\u001b[43mtrain_dataloader\u001b[49m\u001b[43m,\u001b[49m\u001b[43m \u001b[49m\u001b[43mval_dataloader\u001b[49m\u001b[43m,\u001b[49m\u001b[43m \u001b[49m\u001b[43mnum_epochs\u001b[49m\u001b[38;5;241;43m=\u001b[39;49m\u001b[38;5;241;43m5\u001b[39;49m\u001b[43m,\u001b[49m\u001b[43m \u001b[49m\u001b[43moptimizer\u001b[49m\u001b[38;5;241;43m=\u001b[39;49m\u001b[43moptimizer\u001b[49m\u001b[43m)\u001b[49m\n",
      "File \u001b[0;32m/mnt/qb/work/meurers/mpb672/grammarctg/experiments/../source/models.py:131\u001b[0m, in \u001b[0;36mtrain\u001b[0;34m(model, train_dataloader, val_dataloader, num_epochs, lr, criterion, optimizer)\u001b[0m\n\u001b[1;32m    129\u001b[0m loss \u001b[38;5;241m=\u001b[39m criterion(values, labels\u001b[38;5;241m.\u001b[39mfloat())\n\u001b[1;32m    130\u001b[0m loss\u001b[38;5;241m.\u001b[39mbackward()\n\u001b[0;32m--> 131\u001b[0m \u001b[43moptimizer\u001b[49m\u001b[38;5;241;43m.\u001b[39;49m\u001b[43mstep\u001b[49m()\n\u001b[1;32m    132\u001b[0m optimizer\u001b[38;5;241m.\u001b[39mzero_grad()\n\u001b[1;32m    134\u001b[0m total_loss \u001b[38;5;241m+\u001b[39m\u001b[38;5;241m=\u001b[39m loss\u001b[38;5;241m.\u001b[39mitem()\n",
      "\u001b[0;31mAttributeError\u001b[0m: 'tuple' object has no attribute 'step'"
     ]
    }
   ],
   "source": [
    "optimizer, accuracy = models.train(classifier, train_dataloader, val_dataloader, num_epochs=5, optimizer=optimizer)"
   ]
  },
  {
   "cell_type": "code",
   "execution_count": 320,
   "id": "a9ad46de-4ebc-414a-8a0d-de87ff20fdcf",
   "metadata": {
    "scrolled": true
   },
   "outputs": [
    {
     "name": "stderr",
     "output_type": "stream",
     "text": [
      "  8%|████████                                                                                             | 50/625 [00:04<00:47, 12.16it/s]\n",
      "3200it [00:00, 2107359.52it/s]"
     ]
    },
    {
     "name": "stdout",
     "output_type": "stream",
     "text": [
      "Sample: I am hoping that you will be able to provide me with a reference to help me jump-start my future., Score: 0.9895520806312561, Max Token: able\n",
      "Sample: Working with my colleagues, we were able to increase the production efficiency by 5 %., Score: 0.9968151450157166, Max Token: able\n",
      "Sample: I won't be able to sleep well if I drink some tea or coffee., Score: 0.9771876931190491, Max Token: able\n",
      "Sample: I want a job in which I can use English, I would also like to be able to have some responsibility in my work., Score: 0.9953510761260986, Max Token: able\n",
      "Sample: Can you tell me when I will be able to get through?, Score: 0.9945673942565918, Max Token: able\n",
      "Sample: Since you do it so much, I wouldn't be able to sit still that long., Score: 0.9926175475120544, Max Token: able\n"
     ]
    },
    {
     "name": "stderr",
     "output_type": "stream",
     "text": [
      "\n"
     ]
    }
   ],
   "source": [
    "scores, tokens = probe_model_from_loader(classifier, dataloader, n_batches=50)\n",
    "for score, token, sample in tqdm(zip(scores, tokens, sents[:len(scores)])):\n",
    "    if score > 0.5:\n",
    "        print(f\"Sample: {sample}, Score: {score}, Max Token: {token}\")"
   ]
  },
  {
   "cell_type": "markdown",
   "id": "610c93ff-42d1-4c3c-ab63-d96d139a07fa",
   "metadata": {},
   "source": [
    "Let's take the strategy to generate harder minimal examples"
   ]
  },
  {
   "cell_type": "code",
   "execution_count": 332,
   "id": "a181f1f6-abcb-4f20-93ef-b565175c3152",
   "metadata": {},
   "outputs": [
    {
     "name": "stdout",
     "output_type": "stream",
     "text": [
      "Counter({'shall': 10})\n"
     ]
    }
   ],
   "source": [
    "pos_tokens = [token for score, token in zip(scores, tokens) if score > 0.5 ]\n",
    "print(Counter(pos_tokens))\n",
    "top_token = Counter(pos_tokens).most_common()[0][0]"
   ]
  },
  {
   "cell_type": "code",
   "execution_count": 334,
   "id": "2e5dfe26-af5f-4e4d-87f3-ef4ddd3fd853",
   "metadata": {},
   "outputs": [
    {
     "name": "stdout",
     "output_type": "stream",
     "text": [
      "1. Shall we go to the movies tonight?\n",
      "This sentence breaks the rule because it is not seeking advice. It is suggesting or proposing an activity.\n",
      "\n",
      "2. Shall I pass the salt, please?\n",
      "This sentence breaks the rule because it is making a polite request rather than seeking advice. The speaker already knows what action to take, and they are simply asking for permission.\n",
      "\n",
      "3. Shall we dance at the party?\n",
      "This sentence breaks the rule because it is suggesting an activity rather than seeking advice. It implies making plans or asking for someone's willingness to participate.\n",
      "\n",
      "4. Shall I tell her the truth?\n",
      "This sentence breaks the rule because it is seeking permission or seeking confirmation rather than seeking advice. The speaker is already aware of what they should do and is asking for validation.\n",
      "\n",
      "5. Shall we meet at the cafe tomorrow?\n",
      "This sentence breaks the rule because it is suggesting a plan or arrangement rather than seeking advice. It implies discussing or deciding on a time and place to meet.\n",
      "\n",
      "6. Shall I wear a suit for the interview?\n",
      "This sentence breaks the rule because it is seeking permission or seeking confirmation rather than seeking advice. The speaker is already aware of what they should do and is asking for validation.\n",
      "\n",
      "7. Shall we order pizza for dinner?\n",
      "This sentence breaks the rule because it is suggesting a choice or making a suggestion rather than seeking advice. It implies deciding on the dinner menu together.\n",
      "\n",
      "8. Shall I call him now or later?\n",
      "This sentence breaks the rule because it is seeking a decision or seeking confirmation rather than seeking advice. The speaker is already aware of the options and is asking for a preference.\n",
      "\n",
      "9. Shall we take a walk in the park?\n",
      "This sentence breaks the rule because it is suggesting an activity rather than seeking advice. It implies making plans or asking for someone's willingness to engage in an activity.\n",
      "\n",
      "10. Shall I buy the red or blue shirt?\n",
      "This sentence breaks the rule because it is seeking a decision or seeking confirmation rather than seeking advice. The speaker is already aware of the options and is asking for a preference.\n"
     ]
    }
   ],
   "source": [
    "prompt = f'{helpers.get_prompt(rule, n_examples=0, mark_words=False)}Create 10 sentences that do NOT fulfill that rule but include \"{top_token}\". Explain for each sentence, why it breaks the rule.'\n",
    "#print(prompt)\n",
    "messages = [ helpers.SYSTEM_MESSAGE, { \"role\": \"user\", \"content\": prompt }]\n",
    "response = api.get_openai_chat_completion(messages, max_tokens=512)[0]\n",
    "print(response)"
   ]
  },
  {
   "cell_type": "code",
   "execution_count": 324,
   "id": "3eb4a065-a5f2-4408-ba1b-62da4d652fe6",
   "metadata": {},
   "outputs": [
    {
     "data": {
      "text/plain": [
       "[\"He wasn't able to solve the math problem because it was too difficult for him.\",\n",
       " \"They weren't able to attend the concert due to a scheduling conflict.\",\n",
       " \"I wasn't able to find my keys this morning, so I had to borrow my roommate's.\",\n",
       " \"We weren't able to go on vacation this year because of financial constraints.\",\n",
       " \"She wasn't able to complete the marathon due to an injury.\",\n",
       " \"The company wasn't able to meet its sales target for the quarter.\",\n",
       " \"He wasn't able to reach his goal of losing 10 pounds before the wedding.\",\n",
       " \"They weren't able to secure funding for their startup, so they had to close the business.\",\n",
       " \"I wasn't able to convince my parents to let me study abroad next semester.\",\n",
       " \"We weren't able to attend the party because we had a family commitment.\",\n",
       " \"She wasn't able to fix the leaky faucet despite her best efforts.\",\n",
       " \"They weren't able to book a table at the restaurant because it was fully booked.\",\n",
       " \"He wasn't able to get a promotion at work despite his hard work.\",\n",
       " \"The team wasn't able to win the championship game, but they played well.\",\n",
       " \"She wasn't able to find a parking space near the mall, so she had to park far away.\",\n",
       " \"They weren't able to find a solution to the problem during the meeting.\",\n",
       " \"I wasn't able to finish reading the book because I found it boring.\",\n",
       " \"We weren't able to watch the movie because the cinema was sold out.\",\n",
       " \"She wasn't able to bake the cake perfectly, but it still tasted delicious.\",\n",
       " \"They weren't able to catch the bus because they missed it by a few seconds.\",\n",
       " \"He wasn't able to attend the conference due to a last-minute emergency.\",\n",
       " \"We weren't able to locate the missing document despite searching everywhere.\",\n",
       " \"She wasn't able to convince her friend to join the gym with her.\",\n",
       " \"They weren't able to find a new apartment within their budget.\",\n",
       " \"I wasn't able to finish the project on time because of unexpected delays.\"]"
      ]
     },
     "execution_count": 324,
     "metadata": {},
     "output_type": "execute_result"
    }
   ],
   "source": [
    "hard_negatives, _  = helpers.parse_response(response)\n",
    "hard_negatives"
   ]
  },
  {
   "cell_type": "code",
   "execution_count": 325,
   "id": "6bb7a699-645a-447b-b45b-bb6aac348cac",
   "metadata": {},
   "outputs": [
    {
     "name": "stdout",
     "output_type": "stream",
     "text": [
      "50\n",
      "16\n"
     ]
    },
    {
     "name": "stderr",
     "output_type": "stream",
     "text": [
      "100%|████████████████████████████████████████████████████████████████████████████████████████████████████████| 1/1 [00:00<00:00, 23.95it/s]\n"
     ]
    },
    {
     "name": "stdout",
     "output_type": "stream",
     "text": [
      "Training loss: 0.450713574886322\n",
      "Accuracy: 1.0\n"
     ]
    },
    {
     "name": "stderr",
     "output_type": "stream",
     "text": [
      "100%|████████████████████████████████████████████████████████████████████████████████████████████████████████| 1/1 [00:00<00:00, 38.95it/s]\n"
     ]
    },
    {
     "name": "stdout",
     "output_type": "stream",
     "text": [
      "Training loss: 0.3669482469558716\n",
      "Accuracy: 1.0\n"
     ]
    },
    {
     "name": "stderr",
     "output_type": "stream",
     "text": [
      "100%|████████████████████████████████████████████████████████████████████████████████████████████████████████| 1/1 [00:00<00:00, 39.11it/s]\n"
     ]
    },
    {
     "name": "stdout",
     "output_type": "stream",
     "text": [
      "Training loss: 0.35650986433029175\n",
      "Accuracy: 1.0\n"
     ]
    },
    {
     "name": "stderr",
     "output_type": "stream",
     "text": [
      "100%|████████████████████████████████████████████████████████████████████████████████████████████████████████| 1/1 [00:00<00:00, 39.70it/s]\n"
     ]
    },
    {
     "name": "stdout",
     "output_type": "stream",
     "text": [
      "Training loss: 0.32441043853759766\n",
      "Accuracy: 1.0\n"
     ]
    },
    {
     "name": "stderr",
     "output_type": "stream",
     "text": [
      "100%|████████████████████████████████████████████████████████████████████████████████████████████████████████| 1/1 [00:00<00:00, 39.33it/s]\n"
     ]
    },
    {
     "name": "stdout",
     "output_type": "stream",
     "text": [
      "Training loss: 0.23775342106819153\n",
      "Accuracy: 1.0\n"
     ]
    },
    {
     "name": "stderr",
     "output_type": "stream",
     "text": [
      " 24%|████████████████████████                                                                            | 150/625 [00:12<00:38, 12.26it/s]\n",
      "9600it [00:00, 1978250.88it/s]"
     ]
    },
    {
     "name": "stdout",
     "output_type": "stream",
     "text": [
      "Sample: I am hoping that you will be able to provide me with a reference to help me jump-start my future., Score: 0.8871902227401733, Max Token: able\n",
      "Sample: Working with my colleagues, we were able to increase the production efficiency by 5 %., Score: 0.961373507976532, Max Token: able\n",
      "Sample: I won't be able to sleep well if I drink some tea or coffee., Score: 0.6770731806755066, Max Token: able\n",
      "Sample: I want a job in which I can use English, I would also like to be able to have some responsibility in my work., Score: 0.9517877697944641, Max Token: able\n",
      "Sample: Can you tell me when I will be able to get through?, Score: 0.9339069128036499, Max Token: able\n",
      "Sample: Since you do it so much, I wouldn't be able to sit still that long., Score: 0.8930238485336304, Max Token: able\n",
      "Sample: I wouldn't be able to sleep tonight., Score: 0.6103017926216125, Max Token: able\n",
      "Sample: You should be able to easily find that for twelve hundred dollars a month., Score: 0.9251460433006287, Max Token: able\n",
      "Sample: I won't be able to cook there., Score: 0.7582982778549194, Max Token: able\n",
      "Sample: Were you able to understand everything that she said?, Score: 0.9276943802833557, Max Token: able\n",
      "Sample: When will you be able to fix it?, Score: 0.9003247022628784, Max Token: able\n",
      "Sample: O. K., maybe if I have someone to go with, I'll be able to get up in time for a jog., Score: 0.9736081957817078, Max Token: able\n",
      "Sample: So you won't be able to afford any clothes next year., Score: 0.7381309866905212, Max Token: able\n",
      "Sample: Would you be able to come the next weekend on Saturday?, Score: 0.7847958207130432, Max Token: able\n",
      "Sample: Well, Tom, you'd be able to go out in the sunshine sometimes., Score: 0.9306752681732178, Max Token: able\n",
      "Sample: We've been able to survey and track some of the information of our website users through some cookie technology, and it's surprising to see the results., Score: 0.9659978151321411, Max Token: able\n",
      "Sample: If I swim in an international competition, I'll hardly be able to win., Score: 0.9087647795677185, Max Token: able\n",
      "Sample: I won't be able to sleep., Score: 0.6008219718933105, Max Token: able\n"
     ]
    },
    {
     "name": "stderr",
     "output_type": "stream",
     "text": [
      "\n"
     ]
    }
   ],
   "source": [
    "new_positives = random.sample(positive, 2 * len(true_positives))\n",
    "new_negatives = random.sample(negative, len(hard_negatives)) + hard_negatives\n",
    "print(len(new_negatives))\n",
    "dataset = data.get_dataset(new_positives, new_negatives, others, models.bert_tokenizer, 64, random_negatives=False)\n",
    "print(len(dataset))\n",
    "train_dataloader, val_dataloader = data.get_loaders(dataset)\n",
    "optimizer = models.train(classifier, train_dataloader, val_dataloader, num_epochs=5, optimizer=optimizer)\n",
    "scores, tokens = probe_model_from_loader(classifier, dataloader, n_batches=150)\n",
    "for score, token, sample in tqdm(zip(scores, tokens, sents[:len(scores)])):\n",
    "    if score > 0.5:\n",
    "        print(f\"Sample: {sample}, Score: {score}, Max Token: {token}\")"
   ]
  },
  {
   "cell_type": "code",
   "execution_count": null,
   "id": "ca2ae1aa-584d-4fc4-b835-8959520011db",
   "metadata": {},
   "outputs": [],
   "source": [
    "def get_special_examples(instruction):\n",
    "    prompt = f'{helpers.get_prompt(rule, n_examples=0, mark_words=False)}Create 25 examples that {instruction}.'\n",
    "    messages = [ { \"role\": \"user\", \"content\": prompt }]\n",
    "    response = api.get_openai_chat_completion(messages, max_tokens=512)[0]\n",
    "    examples, _  = helpers.parse_response(response)\n",
    "    return examples\n",
    "extra_examples = get_special_examples('use would have instead.')\n",
    "print(extra_examples)"
   ]
  },
  {
   "cell_type": "code",
   "execution_count": null,
   "id": "0c054e69-4023-4e95-b96f-a107d9f6201a",
   "metadata": {},
   "outputs": [],
   "source": [
    "classifier = get_trained_classifer(random.sample(rule['augmented_examples'], 2 * len(extra_examples)),\n",
    "                                   [], classifier)"
   ]
  }
 ],
 "metadata": {
  "kernelspec": {
   "display_name": "Python 3 (ipykernel)",
   "language": "python",
   "name": "python3"
  },
  "language_info": {
   "codemirror_mode": {
    "name": "ipython",
    "version": 3
   },
   "file_extension": ".py",
   "mimetype": "text/x-python",
   "name": "python",
   "nbconvert_exporter": "python",
   "pygments_lexer": "ipython3",
   "version": "3.11.2"
  }
 },
 "nbformat": 4,
 "nbformat_minor": 5
}
