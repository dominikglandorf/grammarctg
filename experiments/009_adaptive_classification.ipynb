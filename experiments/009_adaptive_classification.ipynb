{
 "cells": [
  {
   "cell_type": "markdown",
   "id": "ae51ed80-6a77-4bf5-b1a9-b82d5efbc0ca",
   "metadata": {},
   "source": [
    "# Exp009: Adaptive training data generation\n",
    "The goal is three-fold: Generate good adversarial examples\n",
    "1. based on frequent unigrams and bigrams in positive text\n",
    "2. based on maximum scoring token in classification\n",
    "3. reclassfied positive examples"
   ]
  },
  {
   "cell_type": "code",
   "execution_count": 193,
   "id": "c2c9ada2-3b31-4232-a12b-51cf8ca51e7c",
   "metadata": {},
   "outputs": [
    {
     "data": {
      "text/plain": [
       "<module 'helpers' from '/mnt/qb/work/meurers/mpb672/grammarctg/experiments/../source/helpers.py'>"
      ]
     },
     "execution_count": 193,
     "metadata": {},
     "output_type": "execute_result"
    }
   ],
   "source": [
    "from tqdm import tqdm\n",
    "import pandas as pd\n",
    "import importlib\n",
    "import re\n",
    "import numpy as np\n",
    "import torch\n",
    "from torch.utils.data import DataLoader, TensorDataset\n",
    "\n",
    "import sys\n",
    "sys.path.append('../source')\n",
    "import models\n",
    "import random\n",
    "import data\n",
    "import helpers\n",
    "import api\n",
    "\n",
    "importlib.reload(helpers)"
   ]
  },
  {
   "cell_type": "markdown",
   "id": "00a0f48b-9eed-4db1-82a6-257ccd26de56",
   "metadata": {},
   "source": [
    "Load augmented EGP dataset"
   ]
  },
  {
   "cell_type": "code",
   "execution_count": 2,
   "id": "0418fa6a-30c4-455a-a17d-30e5c4062ddc",
   "metadata": {},
   "outputs": [],
   "source": [
    "egp_examples = pd.read_json(\"../data/egp_examples.json\")"
   ]
  },
  {
   "cell_type": "markdown",
   "id": "af0b3ae6-35e8-4933-bbad-1cc648363ec9",
   "metadata": {},
   "source": [
    "Load corpora to test classifier on"
   ]
  },
  {
   "cell_type": "code",
   "execution_count": 335,
   "id": "cdd0c555-24e5-451e-b165-64e056e6612b",
   "metadata": {},
   "outputs": [
    {
     "name": "stdout",
     "output_type": "stream",
     "text": [
      "Shuffling sentences...\n"
     ]
    }
   ],
   "source": [
    "dd = data.DailyDialog()\n",
    "sents = dd.get_all_sentences()\n",
    "sents = sents[:10000]\n",
    "ds = data.DialogSum()\n",
    "sents += ds.get_all_sentences()\n",
    "sents = sents[:20000]\n",
    "print(\"Shuffling sentences...\")\n",
    "random.shuffle(sents)\n",
    "\n",
    "encoded_inputs = models.bert_tokenizer(sents, return_tensors='pt', max_length=64, padding='max_length', truncation=True)\n",
    "dataset = TensorDataset(encoded_inputs['input_ids'], encoded_inputs['attention_mask'])\n",
    "batch_size = 64\n",
    "dataloader = DataLoader(dataset, batch_size=batch_size, shuffle=False)"
   ]
  },
  {
   "cell_type": "code",
   "execution_count": 10,
   "id": "a95a0e3d-fe1b-468d-8ed7-9e736bd91025",
   "metadata": {},
   "outputs": [],
   "source": [
    "def probe_model(model, probes):\n",
    "    encoded_input = models.bert_tokenizer(probes, return_tensors='pt', max_length=64, padding='max_length', truncation=True).to(models.device)\n",
    "    with torch.no_grad():\n",
    "        values, indices = model(encoded_input['input_ids'], encoded_input['attention_mask'], diagnose=False)\n",
    "    tokens = [models.bert_tokenizer.convert_ids_to_tokens(ids) for ids in encoded_input['input_ids']]\n",
    "    max_tokens = [token[indices[i]] for i, token in enumerate(tokens)]\n",
    "    return values.cpu(), max_tokens\n",
    "def probe_model_from_loader(model, dataloader, n_batches=3):\n",
    "    model.eval()\n",
    "    all_values = []\n",
    "    all_max_tokens = []\n",
    "    batches = 0\n",
    "    \n",
    "    with torch.no_grad():\n",
    "        for input_ids, attention_mask in tqdm(dataloader):\n",
    "            batches += 1\n",
    "            if batches > n_batches: break\n",
    "            tokens = [models.bert_tokenizer.convert_ids_to_tokens(ids) for ids in input_ids]\n",
    "            input_ids, attention_mask = input_ids.to(models.device), attention_mask.to(models.device)\n",
    "            \n",
    "            values, indices = model(input_ids, attention_mask)\n",
    "            max_tokens = [tokens[j][idx] if idx < len(tokens[j]) else '[PAD]' for j, idx in enumerate(indices.cpu().tolist())]\n",
    "\n",
    "            all_values.extend(values.cpu().tolist())\n",
    "            all_max_tokens.extend(max_tokens)\n",
    "    return all_values, all_max_tokens"
   ]
  },
  {
   "cell_type": "markdown",
   "id": "a4d5986f-e563-4773-96ba-2fbc2ca6ea32",
   "metadata": {},
   "source": [
    "Sample a random EGP rule and create dataset and classifier"
   ]
  },
  {
   "cell_type": "code",
   "execution_count": 447,
   "id": "4fe3896d-74bd-4ffc-9321-99589d133aca",
   "metadata": {},
   "outputs": [
    {
     "name": "stdout",
     "output_type": "stream",
     "text": [
      "Can use the affirmative form with 'like'. \n",
      "I'd like to invite you to dinner. \n",
      "\n",
      "I would like to eat some Spanish food.\n",
      "[\"He'd like to watch a movie tonight.\", \"They'd like to buy a new car.\", \"She'd like to visit the zoo.\", 'The neighbors would like to organize a street party.', 'She would like to buy a birthday present for her friend.']\n",
      "['I like to attend a concert.', 'She enjoys taking long walks in the evening.', 'She likes going for a walk in the park.', 'She would prefer to read a book this afternoon.', 'She wants to learn how to cook a new recipe.']\n"
     ]
    }
   ],
   "source": [
    "rule = egp_examples.sample(1).iloc[0]\n",
    "print(rule['Can-do statement'])\n",
    "print(rule['Example'])\n",
    "positive = rule['augmented_examples']\n",
    "negative = rule['augmented_negative_examples']\n",
    "others = [example for sublist in egp_examples.loc[egp_examples['#'] != rule['#'], 'augmented_examples'].to_list() for example in sublist]\n",
    "print(random.sample(positive, 5))\n",
    "print(random.sample(negative, 5))\n",
    "\n",
    "classifier = models.RuleDetector(models.bert_encoder)\n",
    "dataset = data.get_dataset(positive, negative, others, models.bert_tokenizer, 64) \n",
    "train_dataloader, val_dataloader = data.get_loaders(dataset)"
   ]
  },
  {
   "cell_type": "code",
   "execution_count": 231,
   "id": "53a1b1e2-ddd7-41c2-9f19-f4cacb1aefcd",
   "metadata": {},
   "outputs": [],
   "source": [
    "#classifier = models.RuleDetector(models.bert_encoder)\n",
    "#dataset = data.get_dataset(positive004_explore_smille.ipynb, negative, others, models.bert_tokenizer, 64) \n",
    "#train_dataloader, val_dataloader = data.get_loaders(dataset)"
   ]
  },
  {
   "cell_type": "code",
   "execution_count": 448,
   "id": "beca7604-3c07-4c30-bedb-299500c1e93e",
   "metadata": {
    "scrolled": true
   },
   "outputs": [
    {
     "name": "stderr",
     "output_type": "stream",
     "text": [
      "100%|█████████████████████████████████████████████████████████████████████████████████████████████████████████████████████████████████████████| 50/50 [00:01<00:00, 37.04it/s]\n"
     ]
    },
    {
     "name": "stdout",
     "output_type": "stream",
     "text": [
      "Training loss: 0.41380715906620025\n",
      "Accuracy: 0.94\n"
     ]
    },
    {
     "name": "stderr",
     "output_type": "stream",
     "text": [
      "100%|█████████████████████████████████████████████████████████████████████████████████████████████████████████████████████████████████████████| 50/50 [00:01<00:00, 37.80it/s]\n"
     ]
    },
    {
     "name": "stdout",
     "output_type": "stream",
     "text": [
      "Training loss: 0.2068227358162403\n",
      "Accuracy: 0.945\n"
     ]
    },
    {
     "name": "stderr",
     "output_type": "stream",
     "text": [
      "100%|█████████████████████████████████████████████████████████████████████████████████████████████████████████████████████████████████████████| 50/50 [00:01<00:00, 38.04it/s]\n"
     ]
    },
    {
     "name": "stdout",
     "output_type": "stream",
     "text": [
      "Training loss: 0.1581458967924118\n",
      "Accuracy: 0.94\n"
     ]
    }
   ],
   "source": [
    "optimizer = models.train(classifier, train_dataloader, val_dataloader)"
   ]
  },
  {
   "cell_type": "markdown",
   "id": "42987385-d8d2-48b6-b142-c23dd816c56e",
   "metadata": {},
   "source": [
    "Test the trained model"
   ]
  },
  {
   "cell_type": "markdown",
   "id": "accad8b0-68c2-4ae2-b34e-c883e04f5b6d",
   "metadata": {},
   "source": [
    "Start with training example and random negative"
   ]
  },
  {
   "cell_type": "code",
   "execution_count": 449,
   "id": "71bf5475-fc81-4ba5-a69a-6e27982137a3",
   "metadata": {},
   "outputs": [
    {
     "data": {
      "text/plain": [
       "(tensor([0.2859]), ['like'])"
      ]
     },
     "execution_count": 449,
     "metadata": {},
     "output_type": "execute_result"
    }
   ],
   "source": [
    "probe_model(classifier, random.sample(positive, 1))"
   ]
  },
  {
   "cell_type": "code",
   "execution_count": 450,
   "id": "79820349-1f7e-4ac3-afe0-e5b9f8eaf170",
   "metadata": {},
   "outputs": [
    {
     "data": {
      "text/plain": [
       "(tensor([0.0575]), ['thing'])"
      ]
     },
     "execution_count": 450,
     "metadata": {},
     "output_type": "execute_result"
    }
   ],
   "source": [
    "probe_model(classifier, random.sample(others, 1))"
   ]
  },
  {
   "cell_type": "markdown",
   "id": "5a57f8e8-60f3-45ed-af2a-82c090602e20",
   "metadata": {},
   "source": [
    "Continue with EGP examples"
   ]
  },
  {
   "cell_type": "code",
   "execution_count": 451,
   "id": "bff592da-c3d2-4877-9041-b5d15e3e4b4a",
   "metadata": {},
   "outputs": [
    {
     "name": "stdout",
     "output_type": "stream",
     "text": [
      "I'd like to invite you to dinner. \n",
      "Score: 0.9895182251930237, Max Token: d\n",
      "I would like to eat some Spanish food.\n",
      "Score: 0.9806193113327026, Max Token: would\n"
     ]
    }
   ],
   "source": [
    "for example in rule['Example'].split(\"\\n\\n\"):\n",
    "    print(example)\n",
    "    score, max_token = probe_model(classifier, example)\n",
    "    print(f'Score: {score.item()}, Max Token: {max_token[0]}')"
   ]
  },
  {
   "cell_type": "markdown",
   "id": "162158c1-9bd1-47f5-80b2-f9c81bf3e1c7",
   "metadata": {},
   "source": [
    "Apply classifier to corpus"
   ]
  },
  {
   "cell_type": "code",
   "execution_count": 452,
   "id": "a5ce49bf-6392-4126-958e-d2f5455af311",
   "metadata": {
    "scrolled": true
   },
   "outputs": [
    {
     "name": "stderr",
     "output_type": "stream",
     "text": [
      " 32%|███████████████████████████████████████████▏                                                                                           | 100/313 [00:08<00:17, 12.14it/s]"
     ]
    },
    {
     "name": "stdout",
     "output_type": "stream",
     "text": [
      "Sample: Have you decided what you'd like, sir?, Score: 0.962340235710144, Max Token: d\n",
      "Sample: I would like hair spray, please., Score: 0.9699370265007019, Max Token: would\n",
      "Sample: Yes, I would like a roast duck and my friend wants steaks., Score: 0.9752779006958008, Max Token: would\n",
      "Sample: I would like a cup of decaf with cream and no sugar., Score: 0.9675355553627014, Max Token: would\n",
      "Sample: I'd like to send this parcel to Changchun., Score: 0.9889812469482422, Max Token: d\n",
      "Sample: Yes, I'd like to exchange some US dollars into RIB., Score: 0.9844177961349487, Max Token: d\n",
      "Sample: Let me tell the lady what we would like to order in front of the seafood fridge first., Score: 0.9828557372093201, Max Token: would\n",
      "Sample: Is there anything else you would like to have?, Score: 0.9829109311103821, Max Token: would\n",
      "Sample: I'd just like to trim., Score: 0.8719457387924194, Max Token: d\n",
      "Sample: Hi, I'd like to get your store credit card., Score: 0.9926693439483643, Max Token: d\n",
      "Sample: we'd preferably like to live in a quiet street., Score: 0.570202112197876, Max Token: d\n",
      "Sample: What date would you like me to book this plane ticket for you?, Score: 0.6052455902099609, Max Token: would\n",
      "Sample: I would like that., Score: 0.9372797608375549, Max Token: would\n",
      "Sample: I'd like to leave a message., Score: 0.9911592602729797, Max Token: d\n",
      "Sample: I'd like it medium-well., Score: 0.9519908428192139, Max Token: d\n",
      "Sample: Take a seat... what would you like to know?, Score: 0.8631483912467957, Max Token: would\n",
      "Sample: I would like to buy the product that prevents scurf., Score: 0.979732871055603, Max Token: would\n",
      "Sample: Cathy, I'd like to introduce the new microwave stove of mine to you, because it is easy to use., Score: 0.9880070686340332, Max Token: d\n",
      "Sample: I'd like to buy a gift for my younger brother., Score: 0.9853118658065796, Max Token: d\n",
      "Sample: I'd like to open a Foreign Currency Account today., Score: 0.9889455437660217, Max Token: d\n",
      "Sample: I'd like a kitchen mostly in ivory and light green., Score: 0.9724884033203125, Max Token: d\n",
      "Sample: I think I would like that., Score: 0.8795915246009827, Max Token: would\n",
      "Sample: What day would you like to reserve the suite for, sir?, Score: 0.6767517924308777, Max Token: would\n",
      "Sample: What would you like for dessert?, Score: 0.6868938207626343, Max Token: would\n",
      "Sample: Would you like to order now?, Score: 0.5115294456481934, Max Token: would\n",
      "Sample: Let's stop at the newsagent, I would like to buy a newspaper., Score: 0.989361584186554, Max Token: would\n",
      "Sample: Hey, how would you like to taste my fist?, Score: 0.8340402245521545, Max Token: would\n",
      "Sample: How would you like the steak, rare, medium, or well-done?, Score: 0.5045152902603149, Max Token: would\n",
      "Sample: It would be great to have you with us on the show., Score: 0.5060348510742188, Max Token: would\n",
      "Sample: And now, without further adieu, we'd like to welcome Mr. James Smith., Score: 0.9828324913978577, Max Token: d\n",
      "Sample: Hey, Akimbo, I wonder if you'd like to make a deal?, Score: 0.9815524220466614, Max Token: d\n",
      "Sample: I'd like a bottle of juice., Score: 0.9860996603965759, Max Token: d\n",
      "Sample: I would like to go somewhere different for a change., Score: 0.9791865348815918, Max Token: would\n",
      "Sample: Would you like to help me with the ladder?, Score: 0.5468007922172546, Max Token: would\n",
      "Sample: I'd like a table for six at 7:00 this evening., Score: 0.9860760569572449, Max Token: d\n",
      "Sample: Would you like to swim in the swimming pool or at the beach?, Score: 0.5156211853027344, Max Token: would\n",
      "Sample: I'd like a flower-and-bird painting., Score: 0.9790736436843872, Max Token: d\n",
      "Sample: I would like to book a table for six tonight., Score: 0.9748119711875916, Max Token: would\n",
      "Sample: I'd like to have hot food., Score: 0.9908171892166138, Max Token: d\n",
      "Sample: I'd like to book four single rooms, five double rooms and three suites., Score: 0.9710185527801514, Max Token: d\n",
      "Sample: Well, we would like to sit over there., Score: 0.9883779883384705, Max Token: would\n",
      "Sample: I'd like to send a fax to Shanghai., Score: 0.9866114854812622, Max Token: d\n",
      "Sample: You can have more than 1 key if you'd like, but we must have signature cards for each box., Score: 0.9839916825294495, Max Token: d\n",
      "Sample: Would you like to see our new shirts?, Score: 0.5625861287117004, Max Token: would\n",
      "Sample: I would like to exchange this dress., Score: 0.9783275723457336, Max Token: would\n",
      "Sample: Hello, I would like to open an account., Score: 0.9873549342155457, Max Token: would\n",
      "Sample: Where would you like to go?, Score: 0.7980386018753052, Max Token: would\n",
      "Sample: I'd like to taste some local dishes., Score: 0.987800121307373, Max Token: d\n",
      "Sample: I'll take four shoulder chops and I'd like a small chicken., Score: 0.9911196827888489, Max Token: d\n",
      "Sample: I'd like to buy a sweater for my husband., Score: 0.9858227372169495, Max Token: d\n",
      "Sample: I suppose he won't come back until 6 p. m. By the way, do you want to call later, or would you like to leave a message?, Score: 0.8324496746063232, Max Token: would\n",
      "Sample: What time would you like to pick me up?, Score: 0.7567612528800964, Max Token: would\n",
      "Sample: We'd like to have some dessert., Score: 0.9884164333343506, Max Token: d\n",
      "Sample: I'd like to have prawn cocktail, and tomato soup for the main course, I'd like steak with onion, with some black coffee afterwards., Score: 0.9785601496696472, Max Token: d\n",
      "Sample: I'd like to have my hair cut., Score: 0.9876968264579773, Max Token: d\n",
      "Sample: Would you like to have a taste of Moutan?, Score: 0.5373834371566772, Max Token: would\n",
      "Sample: I would like to buy two exquisite watches for me and my girlfriend., Score: 0.9796615839004517, Max Token: would\n",
      "Sample: No, but I'd like to get something typical in this region., Score: 0.9673041701316833, Max Token: d\n",
      "Sample: I would like to reschedule., Score: 0.9789794683456421, Max Token: would\n",
      "Sample: We'd like some local-flavored pastry., Score: 0.9819657206535339, Max Token: d\n",
      "Sample: Yes, I'd like to speak to doctor Smith, please?, Score: 0.9870896935462952, Max Token: d\n",
      "Sample: Yes, I'd like to try the blueberry pie., Score: 0.9878998398780823, Max Token: d\n",
      "Sample: I'd just like a refund., Score: 0.8791236877441406, Max Token: d\n",
      "Sample: Or would you like to leave a message for him?, Score: 0.5999757051467896, Max Token: would\n",
      "Sample: I'd like to exchange 3, 000., Score: 0.9811042547225952, Max Token: d\n",
      "Sample: I should like to look at some bracelets., Score: 0.5925690531730652, Max Token: should\n",
      "Sample: Yes, I'd like to know something about the weather in New York this week., Score: 0.9846597909927368, Max Token: d\n",
      "Sample: I'd like to send this parcel, please., Score: 0.9918237328529358, Max Token: d\n",
      "Sample: I'd like to reserve some rooms for a tourist party., Score: 0.9895011782646179, Max Token: d\n",
      "Sample: I would like to record some things so I can practice on my own., Score: 0.9881587624549866, Max Token: would\n",
      "Sample: Hi, I'd like to order some flowers., Score: 0.9920329451560974, Max Token: d\n",
      "Sample: I would like to exchange it., Score: 0.9774421453475952, Max Token: would\n",
      "Sample: I would like to have a try today., Score: 0.9838787317276001, Max Token: would\n",
      "Sample: 7:00 tonight and we'd like a smoking table., Score: 0.9887610077857971, Max Token: d\n",
      "Sample: Yes, I'd like to., Score: 0.9816334843635559, Max Token: d\n",
      "Sample: I would like to look at some watch., Score: 0.9875770807266235, Max Token: would\n",
      "Sample: Anna, Would you like to dance?, Score: 0.6601384282112122, Max Token: would\n",
      "Sample: I can check for you, if you'd like., Score: 0.9810782074928284, Max Token: d\n",
      "Sample: I think I would like the former one., Score: 0.8926171660423279, Max Token: would\n",
      "Sample: I'd like to find out about flights to New York., Score: 0.9860754609107971, Max Token: d\n",
      "Sample: I'd like to have a pair of shoes., Score: 0.989988386631012, Max Token: d\n",
      "Sample: We'd like this course for two, please., Score: 0.9802082180976868, Max Token: d\n",
      "Sample: I'd like to give you an overview of the way that the economies of seemingly unrelated countries are intertwined., Score: 0.9863035082817078, Max Token: d\n",
      "Sample: I'd really like to go to Rome., Score: 0.9480881094932556, Max Token: d\n",
      "Sample: What kind of potatoes would you like to go with that?, Score: 0.7190322279930115, Max Token: would\n",
      "Sample: We'd like you to execute the first delivery by June 30 and the second delivery by August 15., Score: 0.9872968196868896, Max Token: d\n",
      "Sample: I'd like to buy a watch., Score: 0.9865313172340393, Max Token: d\n",
      "Sample: I would like to book a table for 2 at 7:30 tomorrow evening., Score: 0.9791852831840515, Max Token: would\n",
      "Sample: Yes, I would also like some sweet and sour sauce and pepper., Score: 0.8740293979644775, Max Token: would\n",
      "Sample: I would like to choose the cleaning milk first., Score: 0.9725223183631897, Max Token: would\n",
      "Sample: I ' d like you to have a look at the safety manual of our company., Score: 0.9921837449073792, Max Token: d\n",
      "Sample: I would like to invite you to cook for my dinner party, OK?, Score: 0.9791486263275146, Max Token: would\n",
      "Sample: I should like to look at some bracelets., Score: 0.5925690531730652, Max Token: should\n",
      "Sample: What would you like to eat tonight?, Score: 0.7483016848564148, Max Token: would\n",
      "Sample: Would you like to go out?, Score: 0.5390071272850037, Max Token: would\n",
      "Sample: I would like to return it please., Score: 0.971836268901825, Max Token: would\n",
      "Sample: We would also like some alcohol before the main dish., Score: 0.8607071042060852, Max Token: would\n",
      "Sample: I proposed to my wife in your restaurant and I would like the same table if I can., Score: 0.9708458185195923, Max Token: would\n",
      "Sample: I'd like to try some Chinese food., Score: 0.9901487827301025, Max Token: d\n",
      "Sample: I'd like to buy a house about 300m with a garden., Score: 0.9843447804450989, Max Token: d\n",
      "Sample: I'd like to give you cash for the damage to your car., Score: 0.9881491661071777, Max Token: d\n",
      "Sample: He would like to hear your views on British culture., Score: 0.9812037348747253, Max Token: would\n",
      "Sample: Thanks for your explanation, I would like it well-done., Score: 0.9438300132751465, Max Token: would\n",
      "Sample: I would like to have shelled shrimps with cashew nuts., Score: 0.9843191504478455, Max Token: would\n",
      "Sample: We'd like a table next to the window., Score: 0.980243444442749, Max Token: d\n",
      "Sample: Hey Lucy, I have a question I'd like to ask you., Score: 0.9916350841522217, Max Token: d\n",
      "Sample: And what would you like for dessert?, Score: 0.7164530158042908, Max Token: would\n"
     ]
    },
    {
     "name": "stderr",
     "output_type": "stream",
     "text": [
      "\n"
     ]
    }
   ],
   "source": [
    "# should stop after n examples have been found\n",
    "scores, tokens = probe_model_from_loader(classifier, dataloader, n_batches=100)\n",
    "for score, token, sample in zip(scores, tokens, sents[:len(scores)]):\n",
    "    if score > 0.5:\n",
    "        print(f\"Sample: {sample}, Score: {score}, Max Token: {token}\")"
   ]
  },
  {
   "cell_type": "markdown",
   "id": "1f7f24a8-f0d8-4391-8733-36adc586742b",
   "metadata": {},
   "source": [
    "Let's ask GPT4 to classify hits"
   ]
  },
  {
   "cell_type": "code",
   "execution_count": 453,
   "id": "9de609a6-22b4-40d3-ad6b-ee5cc3f96f39",
   "metadata": {},
   "outputs": [
    {
     "name": "stdout",
     "output_type": "stream",
     "text": [
      "1. Yes\n",
      "2. Yes\n",
      "3. Yes\n",
      "4. Yes\n",
      "5. Yes\n",
      "6. Yes\n",
      "7. Yes\n",
      "8. Yes\n",
      "9. Yes\n",
      "10. Yes\n",
      "11. No\n",
      "12. Yes\n",
      "13. Yes\n",
      "14. Yes\n",
      "15. Yes\n",
      "16. Yes\n",
      "17. Yes\n",
      "18. Yes\n",
      "19. Yes\n",
      "20. Yes\n",
      "21. Yes\n",
      "22. Yes\n",
      "23. Yes\n",
      "24. Yes\n",
      "25. Yes\n"
     ]
    }
   ],
   "source": [
    "hits = [sample for score, sample in zip(scores, sents[:len(scores)]) if score > 0.5]\n",
    "\n",
    "prompt = helpers.get_prompt(rule, n_examples=0, mark_words=False)\n",
    "prompt += \"\\nDecide for each of these sentences if they use this rule:\\n\"\n",
    "for i, hit in enumerate(hits[:25]):\n",
    "    prompt += f\"{i+1}. {hit}\\n\"\n",
    "prompt += \"Output format:\\n1. [Yes/No]\\n2. [Yes/No]\\n...\"\n",
    "#print(prompt)\n",
    "messages = [ helpers.SYSTEM_MESSAGE, { \"role\": \"user\", \"content\": prompt }]\n",
    "response = api.get_openai_chat_completion(messages, max_tokens=512, model=\"gpt-4-0125-preview\")[0]\n",
    "print(response)"
   ]
  },
  {
   "cell_type": "code",
   "execution_count": 444,
   "id": "f5b1fc96-e009-45ad-a85b-df7d4b189d80",
   "metadata": {},
   "outputs": [
    {
     "name": "stdout",
     "output_type": "stream",
     "text": [
      "['I think it unwise for either of us to be inflexible.', 'I always seem to chop them into pieces that are either too big or too small.']\n"
     ]
    },
    {
     "data": {
      "text/plain": [
       "[\"My wife doesn't like it either.\",\n",
       " \"I don't like the colour either.\",\n",
       " 'Yea, I never see theaters turn people away for their age anymore either.',\n",
       " 'Neither too cold, nor too hot.',\n",
       " \"I don't think so either.\",\n",
       " \"I don't like seafood, neither.\",\n",
       " 'Neither am I.']"
      ]
     },
     "execution_count": 444,
     "metadata": {},
     "output_type": "execute_result"
    }
   ],
   "source": [
    "true_positives_idx = np.array([answer == 'Yes' for num, answer in re.findall(r'(\\d+)\\.\\s(Yes|No)', response)])\n",
    "true_positives = list(np.array(hits[:25])[true_positives_idx])\n",
    "print(true_positives)\n",
    "false_positives = list(np.array(hits[:25])[true_positives_idx == False])\n",
    "false_positives"
   ]
  },
  {
   "cell_type": "code",
   "execution_count": 445,
   "id": "428d3c8b-f0b6-44bf-ba99-d81ce9247024",
   "metadata": {},
   "outputs": [
    {
     "name": "stdout",
     "output_type": "stream",
     "text": [
      "4\n",
      "14\n"
     ]
    }
   ],
   "source": [
    "new_positives = random.sample(positive, len(true_positives)) + true_positives\n",
    "print(len(new_positives))\n",
    "new_negatives = random.sample(negative, len(false_positives)) + false_positives\n",
    "print(len(new_negatives))\n",
    "dataset = data.get_dataset(new_positives, new_negatives, others, models.bert_tokenizer, 64, random_negatives=False) \n",
    "train_dataloader, val_dataloader = data.get_loaders(dataset)"
   ]
  },
  {
   "cell_type": "code",
   "execution_count": 446,
   "id": "845d2371-f514-4324-9122-c6e2910132b9",
   "metadata": {},
   "outputs": [
    {
     "name": "stderr",
     "output_type": "stream",
     "text": [
      "100%|███████████████████████████████████████████████████████████████████████████████████████████████████████████████████████████████████████████| 1/1 [00:00<00:00, 29.11it/s]\n"
     ]
    },
    {
     "name": "stdout",
     "output_type": "stream",
     "text": [
      "Training loss: 1.0718133449554443\n",
      "Accuracy: 0.5\n"
     ]
    },
    {
     "name": "stderr",
     "output_type": "stream",
     "text": [
      "100%|███████████████████████████████████████████████████████████████████████████████████████████████████████████████████████████████████████████| 1/1 [00:00<00:00, 60.90it/s]\n"
     ]
    },
    {
     "name": "stdout",
     "output_type": "stream",
     "text": [
      "Training loss: 0.8767577409744263\n",
      "Accuracy: 0.5\n"
     ]
    },
    {
     "name": "stderr",
     "output_type": "stream",
     "text": [
      "100%|███████████████████████████████████████████████████████████████████████████████████████████████████████████████████████████████████████████| 1/1 [00:00<00:00, 64.97it/s]\n"
     ]
    },
    {
     "name": "stdout",
     "output_type": "stream",
     "text": [
      "Training loss: 0.485191285610199\n",
      "Accuracy: 1.0\n"
     ]
    },
    {
     "name": "stderr",
     "output_type": "stream",
     "text": [
      "100%|███████████████████████████████████████████████████████████████████████████████████████████████████████████████████████████████████████████| 1/1 [00:00<00:00, 61.86it/s]\n"
     ]
    },
    {
     "name": "stdout",
     "output_type": "stream",
     "text": [
      "Training loss: 0.36909806728363037\n",
      "Accuracy: 1.0\n"
     ]
    },
    {
     "name": "stderr",
     "output_type": "stream",
     "text": [
      "100%|███████████████████████████████████████████████████████████████████████████████████████████████████████████████████████████████████████████| 1/1 [00:00<00:00, 61.25it/s]"
     ]
    },
    {
     "name": "stdout",
     "output_type": "stream",
     "text": [
      "Training loss: 0.3678267002105713\n",
      "Accuracy: 1.0\n"
     ]
    },
    {
     "name": "stderr",
     "output_type": "stream",
     "text": [
      "\n"
     ]
    }
   ],
   "source": [
    "optimizer = models.train(classifier, train_dataloader, val_dataloader, num_epochs=5, optimizer=optimizer)"
   ]
  },
  {
   "cell_type": "code",
   "execution_count": 419,
   "id": "a9ad46de-4ebc-414a-8a0d-de87ff20fdcf",
   "metadata": {
    "scrolled": true
   },
   "outputs": [
    {
     "name": "stderr",
     "output_type": "stream",
     "text": [
      " 48%|████████████████████████████████████████████████████████████████▋                                                                      | 150/313 [00:12<00:13, 12.05it/s]\n",
      "9600it [00:00, 1505808.47it/s]"
     ]
    },
    {
     "name": "stdout",
     "output_type": "stream",
     "text": [
      "Sample: The project I'm in charged of now will be done by the end of this week., Score: 0.779354453086853, Max Token: m\n",
      "Sample: Sorry Tom, We're having problems hearing you here., Score: 0.9634317755699158, Max Token: re\n",
      "Sample: Yes, they're right., Score: 0.6047001481056213, Max Token: re\n",
      "Sample: You're going to love singing with them., Score: 0.7732325792312622, Max Token: re\n",
      "Sample: I'm reading a lot of books about the two countries., Score: 0.9844804406166077, Max Token: m\n",
      "Sample: I'm from Lexington Software and I'm here to collect an export L / C., Score: 0.7105753421783447, Max Token: m\n",
      "Sample: I'm freezing., Score: 0.6661328077316284, Max Token: m\n",
      "Sample: I'm just longing for some of the comforts of home, like my mom's cooking and being around my family., Score: 0.9250532984733582, Max Token: m\n",
      "Sample: I take it you're looking for temporary office work., Score: 0.9683218598365784, Max Token: re\n",
      "Sample: I'm trying to choose a gift., Score: 0.9817553758621216, Max Token: m\n",
      "Sample: I'm very satisfied with it., Score: 0.5221505761146545, Max Token: m\n",
      "Sample: Well, I've got to write a paper about Hollywood in the 30s and 40s, and I'm really struggling., Score: 0.9168703556060791, Max Token: m\n",
      "Sample: It'll take awhile, but I'm working on it., Score: 0.9590040445327759, Max Token: m\n",
      "Sample: Hi, I'm home!, Score: 0.7397817373275757, Max Token: m\n",
      "Sample: I am preparing a birthday party for Julia., Score: 0.9643447995185852, Max Token: am\n",
      "Sample: But now researchers are warning about what they call third-hand smoke., Score: 0.8879584074020386, Max Token: are\n",
      "Sample: I'm a little rushed., Score: 0.5493083596229553, Max Token: m\n",
      "Sample: Ricky and I are here for his vaccines., Score: 0.8105738759040833, Max Token: are\n",
      "Sample: We're new in this country., Score: 0.8734661340713501, Max Token: re\n",
      "Sample: He's already had two different jobs this year., Score: 0.5109947323799133, Max Token: s\n",
      "Sample: I'm going to the pub tonight., Score: 0.9270419478416443, Max Token: m\n",
      "Sample: I'm very worried., Score: 0.5038760304450989, Max Token: m\n",
      "Sample: So I'm on the fifth floor?, Score: 0.7221008539199829, Max Token: m\n",
      "Sample: I'm leaving for Shanghai tomorrow morning., Score: 0.9717256426811218, Max Token: m\n",
      "Sample: Jane, I'm on the other line, can you hang on for a second?, Score: 0.8139407634735107, Max Token: m\n",
      "Sample: I'm taking a break from dating for a while., Score: 0.9921886920928955, Max Token: m\n",
      "Sample: Oh you're exaggerating., Score: 0.859098494052887, Max Token: re\n",
      "Sample: I'm trying to reach Robert please., Score: 0.9881474375724792, Max Token: m\n",
      "Sample: I'm sleepy., Score: 0.5502420663833618, Max Token: m\n",
      "Sample: you're right, that's not bad at all., Score: 0.6014896631240845, Max Token: re\n",
      "Sample: Well, I'm looking for some winter clothes., Score: 0.9852898716926575, Max Token: m\n",
      "Sample: I'm afraid Mr. Johnson isn't available right now., Score: 0.5618970394134521, Max Token: m\n",
      "Sample: I'm looking for some blush., Score: 0.9876925349235535, Max Token: m\n",
      "Sample: I heard that you and Daniel are getting married on August 8th, the opening day of the 2008 Olympic Games., Score: 0.7043476104736328, Max Token: are\n",
      "Sample: I'm on!, Score: 0.6746546626091003, Max Token: m\n",
      "Sample: They're on special this week., Score: 0.9739930629730225, Max Token: re\n",
      "Sample: They are waiting for me at London airport., Score: 0.8051175475120544, Max Token: are\n",
      "Sample: Well, you're in luck., Score: 0.7311734557151794, Max Token: re\n",
      "Sample: I'm going to write to her and explain the situation., Score: 0.8186937570571899, Max Token: m\n",
      "Sample: Also they're paying good money., Score: 0.9626868963241577, Max Token: re\n",
      "Sample: Steven, we are preparing a martial arts show for the New Year's party., Score: 0.9826611876487732, Max Token: are\n",
      "Sample: Oh, ok ok, now, if you're meeting someone for the first time, like Claudia's parents, you should make sure you arrive on time., Score: 0.9224584102630615, Max Token: re\n",
      "Sample: I'm still single., Score: 0.6169147491455078, Max Token: m\n",
      "Sample: Yeah, she's broken up about it, poor kid., Score: 0.6589534282684326, Max Token: s\n",
      "Sample: I'm a junior now, and my GPA is 3., Score: 0.6212543249130249, Max Token: m\n",
      "Sample: I'm going to exercise every single day., Score: 0.821700394153595, Max Token: m\n",
      "Sample: But the Alpha Phi Alpha's are throwing a party tonight., Score: 0.9349330067634583, Max Token: are\n",
      "Sample: You know the car I'm driving, which is still in good condition though it is second-hand., Score: 0.8520009517669678, Max Token: m\n",
      "Sample: I'm running low on facial moisturizer and powder., Score: 0.9759038686752319, Max Token: m\n",
      "Sample: I'm calling to thank you for the wonderful dinner we had yesterday ., Score: 0.9840493202209473, Max Token: m\n",
      "Sample: You're making my blood boil., Score: 0.9665360450744629, Max Token: re\n",
      "Sample: But I know we are still receiving resumes., Score: 0.6332584619522095, Max Token: are\n",
      "Sample: You're messing everything up., Score: 0.9574481248855591, Max Token: re\n",
      "Sample: I'm off today., Score: 0.8726591467857361, Max Token: m\n",
      "Sample: I'm ready and willing to help., Score: 0.7039220333099365, Max Token: m\n",
      "Sample: I heard that you are currently writing a collection of short stories., Score: 0.5641188025474548, Max Token: are\n",
      "Sample: My brother-in-law is having a small get-together at his house and he invited me., Score: 0.6704345941543579, Max Token: is\n",
      "Sample: I'm interested in applying for a credit card with you., Score: 0.7079670429229736, Max Token: m\n",
      "Sample: You're only turning 9, you know?, Score: 0.921379566192627, Max Token: re\n",
      "Sample: I'm already at the end of my rope., Score: 0.8948931097984314, Max Token: m\n",
      "Sample: They're for my Wife., Score: 0.7490561008453369, Max Token: re\n",
      "Sample: I'm going to follow your advice and pop down to the supermarket right now., Score: 0.7898721694946289, Max Token: m\n",
      "Sample: Could you just say I've met an old friend and I'm staying with him?, Score: 0.9495859146118164, Max Token: m\n",
      "Sample: But I'm looking for a job, so I have to answer the phone often., Score: 0.9403425455093384, Max Token: m\n",
      "Sample: They're carrying bottles of champagne!, Score: 0.9796093106269836, Max Token: re\n",
      "Sample: We are not seeing each other any more., Score: 0.7900872826576233, Max Token: are\n",
      "Sample: Stop, stop... We are talking about our son's attendance for classes and his study., Score: 0.8625768423080444, Max Token: are\n",
      "Sample: But I'm really worried about my mother., Score: 0.7604705095291138, Max Token: m\n",
      "Sample: Ok, I'm going to set you up with a bunch of antibiotics., Score: 0.6147454380989075, Max Token: m\n",
      "Sample: Whatever, I'm going next door I heard Mrs. Robinson is giving out big bags of M & Ms!, Score: 0.9473807215690613, Max Token: m\n",
      "Sample: I'm looking for a necklace for my girl friend as a birthday present., Score: 0.9957991242408752, Max Token: m\n",
      "Sample: I'm totally going to cash in on that., Score: 0.605353832244873, Max Token: m\n",
      "Sample: Look he's hurt his leg., Score: 0.5525622963905334, Max Token: s\n",
      "Sample: May I ask why you're returning the radio?, Score: 0.9408056735992432, Max Token: re\n",
      "Sample: I'm looking for some lipsticks., Score: 0.9932763576507568, Max Token: m\n",
      "Sample: That's what you are paying for., Score: 0.5295315980911255, Max Token: are\n",
      "Sample: But today, I'm thinking of buying one in a bright colour., Score: 0.9733453989028931, Max Token: m\n",
      "Sample: It's selling well., Score: 0.7382717728614807, Max Token: s\n",
      "Sample: Of course, but I'm returning to France to finish my degree., Score: 0.978696346282959, Max Token: m\n",
      "Sample: He's not breathing, and there's no pulse., Score: 0.8239148855209351, Max Token: s\n",
      "Sample: We're going to have to recall all itemssold in the last quarter., Score: 0.9323150515556335, Max Token: re\n",
      "Sample: I'm figuring out my budget., Score: 0.9898138642311096, Max Token: m\n",
      "Sample: You're not going to cook?, Score: 0.5773079991340637, Max Token: re\n",
      "Sample: True, you are getting a really pot belly, aren't you?, Score: 0.8129657506942749, Max Token: are\n",
      "Sample: Excuse me, I'm looking for the Alanis Morrissette album Supposed Former Infatuation Junkie., Score: 0.9650094509124756, Max Token: m\n",
      "Sample: You're not going home?, Score: 0.8382890820503235, Max Token: re\n",
      "Sample: I hear you're going to the United States., Score: 0.8960092663764954, Max Token: re\n",
      "Sample: I'm afraid he is not in at the moment., Score: 0.5893080234527588, Max Token: m\n",
      "Sample: I'm done with coffee., Score: 0.8023083806037903, Max Token: m\n",
      "Sample: I ' m happy to say it ' s nothing serious., Score: 0.6373725533485413, Max Token: m\n",
      "Sample: I left feeling pretty confident about my score, but I heard that my professors are very strict graders, so I'm a bit nervous., Score: 0.5981858372688293, Max Token: m\n",
      "Sample: I am looking at my pictures., Score: 0.918942391872406, Max Token: am\n",
      "Sample: So you're saying I can't go wrong with anything I order?, Score: 0.9588064551353455, Max Token: re\n",
      "Sample: I see I'm interested in this one., Score: 0.6181891560554504, Max Token: m\n",
      "Sample: See, you're getting fat., Score: 0.9477636814117432, Max Token: re\n",
      "Sample: Well, you see I can't find the key and I'm in a hurry., Score: 0.662419855594635, Max Token: m\n",
      "Sample: I hope you're hungry because the pizza here is huge as well as to die for., Score: 0.7362772226333618, Max Token: re\n",
      "Sample: I'm not sure which would be better for me ; buying some insurance or putting my money in a Savings Deposit., Score: 0.560897171497345, Max Token: m\n",
      "Sample: Usually I can do it right away, but now I'm repairing lots of watches., Score: 0.9671354293823242, Max Token: m\n",
      "Sample: I am going to the railway station., Score: 0.5460618138313293, Max Token: am\n",
      "Sample: On the one hand, you're trying not to lose too much money., Score: 0.9451218843460083, Max Token: re\n",
      "Sample: Thank you, but I'm just browsing today., Score: 0.8843868970870972, Max Token: m\n",
      "Sample: She's pregnant and wearing Prada!, Score: 0.7572125196456909, Max Token: s\n",
      "Sample: I'm flat broke., Score: 0.6233912110328674, Max Token: m\n",
      "Sample: Today they are wearing dresses!, Score: 0.9118666648864746, Max Token: are\n",
      "Sample: I'm going out right now., Score: 0.9638934135437012, Max Token: m\n",
      "Sample: I'm looking for a smartphone, but uhm?, Score: 0.9865337610244751, Max Token: m\n",
      "Sample: She's entered the swimming competition., Score: 0.619172990322113, Max Token: s\n",
      "Sample: Hey actually I'm calling because it's my birthday this Saturday., Score: 0.98139888048172, Max Token: m\n",
      "Sample: I'm calling 6667777., Score: 0.9789968729019165, Max Token: m\n",
      "Sample: I know, and normally she's trying to tell me how to clean my house., Score: 0.7727454900741577, Max Token: s\n",
      "Sample: Sir, I've finished your shaving., Score: 0.5088680982589722, Max Token: ve\n",
      "Sample: He's going to take a trip to South America., Score: 0.8586437106132507, Max Token: s\n",
      "Sample: We're on our own tonight., Score: 0.9807883501052856, Max Token: re\n",
      "Sample: As long as they are exercising and eating mostly healthy foods, there's nothing wrong with having a small dessert., Score: 0.7180051803588867, Max Token: are\n",
      "Sample: I need to rush as I'm on my lunch break., Score: 0.6564912796020508, Max Token: m\n",
      "Sample: They're going to build a new kitchen or something., Score: 0.9769374132156372, Max Token: re\n",
      "Sample: I am thinking of doing engineering., Score: 0.8588649034500122, Max Token: am\n",
      "Sample: I'm in a hurry., Score: 0.826174259185791, Max Token: m\n",
      "Sample: I'm going with my grandma., Score: 0.9606285095214844, Max Token: m\n",
      "Sample: We are on the second floor, one of the middle floors., Score: 0.6093431711196899, Max Token: are\n",
      "Sample: I was thinking of taking my car but I think I'm just going to take the underground because there is construction on the highway., Score: 0.601145327091217, Max Token: m\n",
      "Sample: I'm on the corner of the Fifth and Mane., Score: 0.906605064868927, Max Token: m\n",
      "Sample: She's glowing., Score: 0.8430337905883789, Max Token: s\n",
      "Sample: And you're going to look great., Score: 0.7944658994674683, Max Token: re\n",
      "Sample: Mom, I'm ready for school., Score: 0.695843517780304, Max Token: m\n",
      "Sample: Well, I can't right now, we're in the middle of some important business., Score: 0.9416272640228271, Max Token: re\n",
      "Sample: You are saying he will be promoted to the general manager?, Score: 0.656471848487854, Max Token: are\n",
      "Sample: Well, I think I'm in better condition now., Score: 0.5182522535324097, Max Token: m\n",
      "Sample: Hey, Jim, you're 15 minutes late., Score: 0.5462000370025635, Max Token: re\n",
      "Sample: You are making a good choice., Score: 0.669196605682373, Max Token: are\n",
      "Sample: I'm looking for an engagement ring for my girlfriend., Score: 0.9944751858711243, Max Token: m\n",
      "Sample: I hear that you're looking for an apartment, and I just rented a two-bedroom downtown., Score: 0.9728148579597473, Max Token: re\n",
      "Sample: She's in no condition to tell me., Score: 0.6294881105422974, Max Token: s\n",
      "Sample: You're right!, Score: 0.5875052809715271, Max Token: re\n",
      "Sample: I'm in a bit of a hurry today, so we'd better make it to go., Score: 0.9476336240768433, Max Token: m\n",
      "Sample: I'm on a diet., Score: 0.8388146758079529, Max Token: m\n",
      "Sample: I'm interested in knowing what keeps you from joining your beloved family and staying here., Score: 0.7010183334350586, Max Token: m\n",
      "Sample: They're in the cabinet above the dishwasher., Score: 0.9420026540756226, Max Token: re\n",
      "Sample: I'm giving you some antibiotic and aspirin., Score: 0.9856513738632202, Max Token: m\n",
      "Sample: As long as you're in an area the Internet can cover., Score: 0.6883978247642517, Max Token: re\n",
      "Sample: You are looking really healthy lately., Score: 0.7514750957489014, Max Token: are\n",
      "Sample: She's been pretty good since my mother moved in, and she's sleeping for a longer time at night., Score: 0.9705339074134827, Max Token: s\n",
      "Sample: I think she is in her room putting a little something together for you to take to school with you., Score: 0.6615290641784668, Max Token: is\n",
      "Sample: I'm going to listen to the radio., Score: 0.8258839249610901, Max Token: m\n",
      "Sample: Mom, I'm a little worried about college., Score: 0.5146682858467102, Max Token: m\n",
      "Sample: I'm Doctor Hawkins., Score: 0.5050416588783264, Max Token: m\n",
      "Sample: They're in the cabinet next to the sink., Score: 0.9442926645278931, Max Token: re\n",
      "Sample: I've just got home from work., Score: 0.6427234411239624, Max Token: ve\n",
      "Sample: And what's the number you are calling?, Score: 0.5409565567970276, Max Token: are\n",
      "Sample: I'm about to drop these books., Score: 0.6915712952613831, Max Token: m\n",
      "Sample: You're being serious?, Score: 0.9395353198051453, Max Token: re\n",
      "Sample: I'm all reed up., Score: 0.7349582314491272, Max Token: m\n",
      "Sample: I'm afraid that's as far as we could go., Score: 0.5123151540756226, Max Token: m\n",
      "Sample: I'm just shaken up a little., Score: 0.677239179611206, Max Token: m\n",
      "Sample: Well, my price range is a 5,000 dollars to 7,000 dollars, I'm looking for a marquise cut on the wide band., Score: 0.9688053131103516, Max Token: m\n",
      "Sample: Well, I am wondering if we took a hang-out for a drink or something., Score: 0.8069432377815247, Max Token: am\n",
      "Sample: Now, I'm looking at upgrading to a credit card., Score: 0.9827820658683777, Max Token: m\n",
      "Sample: But I never really imagine a target audience when I'm writing., Score: 0.6226094961166382, Max Token: m\n",
      "Sample: But you're doing the waltz wonderfully well., Score: 0.9890915155410767, Max Token: re\n",
      "Sample: Well, I'm at a job at the moment and my wife and kids are expecting me home by 8:00 PM for dinner., Score: 0.9529152512550354, Max Token: m\n",
      "Sample: You're buying and selling money?, Score: 0.9809727668762207, Max Token: re\n",
      "Sample: We're going out to eat, and then we're going to catch a movie., Score: 0.9804649353027344, Max Token: re\n",
      "Sample: I'm from the New York book review., Score: 0.5981546640396118, Max Token: m\n",
      "Sample: I'm going crazy., Score: 0.6627646684646606, Max Token: m\n",
      "Sample: Well, I'm not going to get a job right away., Score: 0.5480101704597473, Max Token: m\n",
      "Sample: I am thinking what gift to give her., Score: 0.9153266549110413, Max Token: am\n",
      "Sample: I'm Akimbo., Score: 0.590817928314209, Max Token: m\n",
      "Sample: I'm thinking of taking you and Peter swimming., Score: 0.9762914776802063, Max Token: m\n",
      "Sample: The plane is boarding now., Score: 0.6581020355224609, Max Token: is\n",
      "Sample: I know it's awkward, but you're going to be thanking me later., Score: 0.8200539946556091, Max Token: re\n",
      "Sample: I'm on highway 1-75 going near exit 46., Score: 0.8859286904335022, Max Token: m\n",
      "Sample: That's the last time I'm trusting you with the transportation., Score: 0.8774746656417847, Max Token: m\n",
      "Sample: I'm writing a report about US history., Score: 0.995672881603241, Max Token: m\n",
      "Sample: I'm going to Wangfujing., Score: 0.8306540250778198, Max Token: m\n",
      "Sample: I'm not going to accept this excuse., Score: 0.5393844246864319, Max Token: m\n",
      "Sample: I'm looking for the train station., Score: 0.9844310879707336, Max Token: m\n",
      "Sample: But how can I get the key while I'm holding all these bags?, Score: 0.8228675723075867, Max Token: m\n",
      "Sample: I'm on a business trip, so I need a single room., Score: 0.9696700572967529, Max Token: m\n",
      "Sample: Yes, I'm here to fix your pipes., Score: 0.6673122644424438, Max Token: m\n",
      "Sample: I'm off hamburgers for good health., Score: 0.8677002787590027, Max Token: m\n",
      "Sample: I'm going out tonight., Score: 0.9223582744598389, Max Token: m\n",
      "Sample: I'm never coming back to this hotel again!, Score: 0.7633405327796936, Max Token: m\n",
      "Sample: We're on clearance sale now., Score: 0.9782236218452454, Max Token: re\n",
      "Sample: Today, they're only $1 each., Score: 0.5835294127464294, Max Token: re\n",
      "Sample: No, I'm going alone., Score: 0.9225757122039795, Max Token: m\n",
      "Sample: He's here., Score: 0.7350751161575317, Max Token: s\n",
      "Sample: I'm mad!, Score: 0.5524765253067017, Max Token: m\n",
      "Sample: I am coming to apply for the position of accountant., Score: 0.7944739460945129, Max Token: am\n",
      "Sample: Dad's taking mom out., Score: 0.9480579495429993, Max Token: s\n",
      "Sample: I'm feeling very sad., Score: 0.9646934866905212, Max Token: m\n",
      "Sample: Some of them are faces, just faces of People whom I see what I'm walking around., Score: 0.6989722847938538, Max Token: m\n",
      "Sample: Here we are on the train., Score: 0.7133594155311584, Max Token: are\n",
      "Sample: I'm trying to organize a group to play at some parties on weekends., Score: 0.9939005374908447, Max Token: m\n",
      "Sample: My sister Amy is coming back from the states., Score: 0.677730143070221, Max Token: is\n",
      "Sample: If you're interested in seeing for yourself, I'm going again on Tuesday., Score: 0.7752625942230225, Max Token: m\n",
      "Sample: Three of my friends are coming soon., Score: 0.6699840426445007, Max Token: are\n",
      "Sample: I usually play it as background music while I'm cooking or doing other housework., Score: 0.5118470788002014, Max Token: m\n",
      "Sample: I'm looking for a sweater for my wife., Score: 0.9945818781852722, Max Token: m\n",
      "Sample: I've just finished this one., Score: 0.6903066039085388, Max Token: ve\n",
      "Sample: Well, we are waiting for two friends, so could we just have a look at the menu for a while?, Score: 0.905992865562439, Max Token: are\n",
      "Sample: I am trying to decide what school to apply to?, Score: 0.8190608024597168, Max Token: am\n",
      "Sample: I'm worried, Tom., Score: 0.6638897657394409, Max Token: m\n",
      "Sample: I'm usually drinking all night long., Score: 0.6533178687095642, Max Token: m\n",
      "Sample: I've got a very important report on the computer that must be finished and handed in by 9:00 AM tomorrow., Score: 0.5600571632385254, Max Token: ve\n",
      "Sample: I'm glad she's reaching out for help, instead of trying to deal with this on her own., Score: 0.8139345645904541, Max Token: s\n",
      "Sample: I'm hungry., Score: 0.5895721912384033, Max Token: m\n",
      "Sample: But I'm worrying., Score: 0.9663233160972595, Max Token: m\n",
      "Sample: They are behind the door., Score: 0.6930480599403381, Max Token: are\n",
      "Sample: He's going to give the cups to the children that win., Score: 0.8044853210449219, Max Token: s\n",
      "Sample: You're essentially blaming the tech team for your time management issues, rather than accepting responsibility for the fact that you were procrastinating for the past two weeks., Score: 0.9789456725120544, Max Token: re\n",
      "Sample: He's not answering., Score: 0.8470038175582886, Max Token: s\n",
      "Sample: It's in the store., Score: 0.5175780653953552, Max Token: s\n",
      "Sample: We are planning a trip through the western states and want to take our dog with us., Score: 0.9503827095031738, Max Token: are\n",
      "Sample: I think I'm going to keep it as a monument to what I've learned about money., Score: 0.7485369443893433, Max Token: m\n",
      "Sample: I'm not on a diet though., Score: 0.6626011729240417, Max Token: m\n",
      "Sample: I'm Anna's friend Jenny., Score: 0.5646123886108398, Max Token: m\n",
      "Sample: I'm Mrs. Browning calling from room 203., Score: 0.8008548021316528, Max Token: m\n",
      "Sample: I'm Wen, and this is Nikki., Score: 0.5717958211898804, Max Token: m\n",
      "Sample: I'm thinking about taking his class next semester., Score: 0.9946979284286499, Max Token: m\n",
      "Sample: In July, my mother is turning 70, so we'll do something special for her., Score: 0.6988794207572937, Max Token: is\n",
      "Sample: I'm going to let you go first., Score: 0.6567848920822144, Max Token: m\n",
      "Sample: It's taking you forever to do my hair., Score: 0.6680813431739807, Max Token: s\n",
      "Sample: We are looking forward to seeing you., Score: 0.8605745434761047, Max Token: are\n",
      "Sample: New York is playing Boston., Score: 0.6070173978805542, Max Token: is\n",
      "Sample: I'm afraid he is not in at the moment., Score: 0.5893080234527588, Max Token: m\n",
      "Sample: I am steaming fish in a pressure cooker., Score: 0.6250378489494324, Max Token: am\n",
      "Sample: I'm here to look for a winter coat., Score: 0.8892539143562317, Max Token: m\n",
      "Sample: I'm still in bed., Score: 0.914897084236145, Max Token: m\n",
      "Sample: In fact, she's getting the tickets this evening., Score: 0.9832315444946289, Max Token: s\n",
      "Sample: I'm trying to decide what school to apply for., Score: 0.9887217283248901, Max Token: m\n",
      "Sample: Actually I'm going to meet with Professor Smith at ten past two., Score: 0.8449098467826843, Max Token: m\n",
      "Sample: And, anyway, it helps me review, Hope you're feeling better now., Score: 0.9372960925102234, Max Token: re\n",
      "Sample: You're kidding!, Score: 0.7908979654312134, Max Token: re\n",
      "Sample: I'm going into the bathroom to blow my nose., Score: 0.9754047989845276, Max Token: m\n",
      "Sample: I'm a graduate student here in mathematics., Score: 0.6685301661491394, Max Token: m\n",
      "Sample: I'm getting dressed, what does it look like?, Score: 0.9925572872161865, Max Token: m\n",
      "Sample: They're saying it was already there., Score: 0.9926389455795288, Max Token: re\n",
      "Sample: I'm going to refund your money right now., Score: 0.7998713254928589, Max Token: m\n",
      "Sample: They're disappearing fast in America., Score: 0.9846383929252625, Max Token: re\n",
      "Sample: But I'm not used to looking up every new word when I'm reading a novel., Score: 0.7489194869995117, Max Token: m\n",
      "Sample: But I am calling to say goodbye to you., Score: 0.9103408455848694, Max Token: am\n",
      "Sample: I'm looking for the airport., Score: 0.9862513542175293, Max Token: m\n",
      "Sample: They're in my office., Score: 0.9524814486503601, Max Token: re\n",
      "Sample: Jane, we are going to have a board meeting next Friday., Score: 0.6805463433265686, Max Token: are\n",
      "Sample: He's here on Tuesdays, Wednesdays and Fridays., Score: 0.6462087035179138, Max Token: s\n",
      "Sample: He's not in right now., Score: 0.8056055903434753, Max Token: s\n",
      "Sample: But now he's drifting off track., Score: 0.8588403463363647, Max Token: s\n",
      "Sample: A friend of mine is showing some of her paintings there., Score: 0.656669020652771, Max Token: is\n",
      "Sample: I'm on the telephone., Score: 0.9233304858207703, Max Token: m\n",
      "Sample: I am getting a tattoo., Score: 0.86982661485672, Max Token: am\n",
      "Sample: I'm just relaxing today., Score: 0.9230992197990417, Max Token: m\n",
      "Sample: Yeah, that's why I'm here., Score: 0.6153818368911743, Max Token: m\n",
      "Sample: Hello, I'm just checking the room rates., Score: 0.9296406507492065, Max Token: m\n",
      "Sample: I've got this important letter to send to Hainan., Score: 0.6315965056419373, Max Token: ve\n",
      "Sample: You're kidding!, Score: 0.7908979654312134, Max Token: re\n",
      "Sample: I'm looking for a compatible roommate., Score: 0.9844182729721069, Max Token: m\n",
      "Sample: They're all waiting for you., Score: 0.9547644257545471, Max Token: re\n",
      "Sample: We are now having a low price on all our summer apparel., Score: 0.8919278979301453, Max Token: are\n",
      "Sample: I think we're out of this skirt in this color., Score: 0.9247105717658997, Max Token: re\n",
      "Sample: They said they're reviving an old tradition., Score: 0.9763199090957642, Max Token: re\n",
      "Sample: He's going too slow., Score: 0.7563463449478149, Max Token: s\n",
      "Sample: I'm in the mood for a Californian., Score: 0.8690779209136963, Max Token: m\n",
      "Sample: Yes, they're on sale today., Score: 0.9318861365318298, Max Token: re\n",
      "Sample: I'm calling to ask if you have a vacant apartment., Score: 0.9839312434196472, Max Token: m\n",
      "Sample: right now, I'm doing some research into the languages of different African tribes., Score: 0.9884963035583496, Max Token: m\n",
      "Sample: Many people are now speculating in the stock market., Score: 0.6621503233909607, Max Token: are\n",
      "Sample: Jane, I hear that you are leaving school now., Score: 0.7088592648506165, Max Token: are\n",
      "Sample: Some of the people from our East York branch office are coming and he wants to make a good impression on them., Score: 0.6589094400405884, Max Token: are\n",
      "Sample: We're having dinner soon., Score: 0.9955515265464783, Max Token: re\n",
      "Sample: I'm looking for some black pumps to go with my evening gown., Score: 0.9941155910491943, Max Token: m\n",
      "Sample: I will bring the papers I'm working on., Score: 0.8860787153244019, Max Token: m\n",
      "Sample: Yes, I'm studying in the Foreign Languages Department., Score: 0.9885739088058472, Max Token: m\n",
      "Sample: You're gonna come back again with me, aren't you?, Score: 0.9207991361618042, Max Token: re\n",
      "Sample: I am going to give you an end-of-the-unit test this Friday., Score: 0.540229082107544, Max Token: am\n",
      "Sample: I'm going to bed., Score: 0.884882390499115, Max Token: m\n",
      "Sample: Oh, you see, we are on the 8th floor, and moving into the 6th floor in another building., Score: 0.5728422403335571, Max Token: are\n",
      "Sample: I guess I'm feeling a little homesick., Score: 0.9126202464103699, Max Token: m\n",
      "Sample: But I'm looking for a job, so I have to answer the phone often., Score: 0.9403425455093384, Max Token: m\n",
      "Sample: I am teaching a class this evening, and I need to get to the college., Score: 0.9833232760429382, Max Token: am\n",
      "Sample: I heard that many companies in out industry are being unionized, so It's getting harder and harder to compete on a level playing field., Score: 0.5906745195388794, Max Token: s\n",
      "Sample: I'Ve prepared most of it already and we'Ve got plenty of snack foods-you know, crisps, biscuits, and things., Score: 0.5862926244735718, Max Token: ve\n",
      "Sample: I'm trying to find a pair of earrings to match my necklace., Score: 0.9952427744865417, Max Token: m\n",
      "Sample: I'm going to spend all next year in Japan, and I'd better get to know more about its culture., Score: 0.9067169427871704, Max Token: m\n",
      "Sample: I'm looking for some perfume., Score: 0.9928911924362183, Max Token: m\n",
      "Sample: I'm not in the office now and I'll give her a ring later., Score: 0.9138872623443604, Max Token: m\n",
      "Sample: Darling, I'm going to stop by Bergner's first., Score: 0.7568724155426025, Max Token: m\n",
      "Sample: Well, I don't mean to boast but all the designs are done by myself and some colleagues are already trying to copy some of them for their new apartments., Score: 0.8232117891311646, Max Token: are\n",
      "Sample: I'm going to take you inside., Score: 0.7505251169204712, Max Token: m\n",
      "Sample: I am looking forward to cooperating with you again., Score: 0.8036909103393555, Max Token: am\n",
      "Sample: We are really in a hurry., Score: 0.507481038570404, Max Token: are\n",
      "Sample: This afternoon I'm going to water these flowers., Score: 0.8464487195014954, Max Token: m\n",
      "Sample: The flight attendants are coming over here., Score: 0.8892131447792053, Max Token: are\n",
      "Sample: No, she's out for lunch., Score: 0.7939430475234985, Max Token: s\n",
      "Sample: Bill, I'm expecting a big increase in turnover with the coming of the Mid-Autumn Festival., Score: 0.9098663330078125, Max Token: m\n",
      "Sample: We are on the top floor., Score: 0.6170555353164673, Max Token: are\n",
      "Sample: Yes, I'm looking for an engagement ring for my girlfriend., Score: 0.9861322641372681, Max Token: m\n",
      "Sample: You are asking for trouble., Score: 0.6277602314949036, Max Token: are\n",
      "Sample: Thank you, but I'm just looking around., Score: 0.8881415724754333, Max Token: m\n",
      "Sample: Would you mind writing me a doctor's note for work, otherwise they may think I am faking it!, Score: 0.6359206438064575, Max Token: am\n",
      "Sample: Well, I'm hosting a dinner party this weekend., Score: 0.9905147552490234, Max Token: m\n",
      "Sample: I don't think you're telling me the truth., Score: 0.9503648281097412, Max Token: re\n",
      "Sample: I'm actually coming in for a meeting with my Personal Banker this afternoon., Score: 0.9872233867645264, Max Token: m\n",
      "Sample: Next month we're going to drive to the coast, then I will be back to France before September first., Score: 0.9296732544898987, Max Token: re\n",
      "Sample: I'm watching TV., Score: 0.9759382605552673, Max Token: m\n",
      "Sample: So I'm uncertain about the content of my paper., Score: 0.5262089967727661, Max Token: m\n",
      "Sample: It's turning going in his life., Score: 0.8331770300865173, Max Token: s\n",
      "Sample: I'm scheduled to fly out on the tenth., Score: 0.6937442421913147, Max Token: m\n",
      "Sample: She's been taking care of her family., Score: 0.5141396522521973, Max Token: s\n",
      "Sample: I'm worrying about how to move all of my household stuff., Score: 0.9908642172813416, Max Token: m\n",
      "Sample: I'm in no hurry., Score: 0.7399278283119202, Max Token: m\n",
      "Sample: All the workers from the factory are staging a demonstration in the streets., Score: 0.7842339873313904, Max Token: are\n",
      "Sample: I'm just calling about your new credit card., Score: 0.9318314790725708, Max Token: m\n",
      "Sample: We're broke., Score: 0.8362472653388977, Max Token: re\n",
      "Sample: They're in that drawer., Score: 0.9450199007987976, Max Token: re\n",
      "Sample: Yeah, I'm going for a hike in the southern Rocky Mountains., Score: 0.9629477858543396, Max Token: m\n",
      "Sample: I'm trying to study., Score: 0.9851230978965759, Max Token: m\n",
      "Sample: I am looking for cologne, small bottle., Score: 0.8362001776695251, Max Token: am\n",
      "Sample: But I'm going to have dinner with some friends in a while, so I'd better skip the pie., Score: 0.9197643995285034, Max Token: m\n",
      "Sample: He's with someone right now, would you hold?, Score: 0.9048957228660583, Max Token: s\n",
      "Sample: But Ernie, we're still missing something., Score: 0.9305840730667114, Max Token: re\n",
      "Sample: Now, we're going to draw an apple in your sketch book., Score: 0.9127967953681946, Max Token: re\n",
      "Sample: I'm interested in antiques., Score: 0.5518653392791748, Max Token: m\n",
      "Sample: I'm buying some Christmas gifts for those who work with me, but it's really a headache., Score: 0.9957550764083862, Max Token: m\n",
      "Sample: I'm afraid I'm going to the gym for a workout., Score: 0.8450027108192444, Max Token: m\n",
      "Sample: I'm in the mood for a Californian pizza., Score: 0.9016739130020142, Max Token: m\n",
      "Sample: I'm coming., Score: 0.8853397965431213, Max Token: m\n",
      "Sample: They're a new manufacturer and are looking to break into the luxury market., Score: 0.8494306802749634, Max Token: re\n",
      "Sample: I think I'm going to keep it as a monument to what I've learned about money., Score: 0.7485369443893433, Max Token: m\n",
      "Sample: I'm afraid it is still being washed., Score: 0.5672301650047302, Max Token: m\n",
      "Sample: But I am looking for something closer to the downtown, as I spend most of my time at the office., Score: 0.9224397540092468, Max Token: am\n",
      "Sample: They're sending an ambulance., Score: 0.9915518760681152, Max Token: re\n",
      "Sample: I'm looking for a string of pearls for my wife., Score: 0.9920435547828674, Max Token: m\n",
      "Sample: Actually, I'm eating the same amount., Score: 0.982508659362793, Max Token: m\n",
      "Sample: I'm just looking for a black pair., Score: 0.9635174870491028, Max Token: m\n",
      "Sample: I've just got home from my tennis lesson., Score: 0.7020436525344849, Max Token: ve\n",
      "Sample: Sorry, I'm afraid we're fully booked tonight., Score: 0.7043054699897766, Max Token: re\n",
      "Sample: I'm shopping for my boyfriend's birthday., Score: 0.9938966631889343, Max Token: m\n",
      "Sample: Do you know what kind of ring you're looking for?, Score: 0.7550081014633179, Max Token: re\n",
      "Sample: Today we are going to talk about the movie Lion King., Score: 0.7422323822975159, Max Token: are\n",
      "Sample: I'm having my usual., Score: 0.9896745085716248, Max Token: m\n",
      "Sample: How many people are coming to the party?, Score: 0.5636908411979675, Max Token: are\n",
      "Sample: I'm sorry for that, I'm going to check with the chef right now., Score: 0.8266364336013794, Max Token: m\n",
      "Sample: Don't tell me you're pregnant again., Score: 0.6502330303192139, Max Token: re\n",
      "Sample: I'm sorry ; he's out at the moment., Score: 0.5908664464950562, Max Token: s\n",
      "Sample: Gordon, you're ever so late., Score: 0.5133175849914551, Max Token: re\n",
      "Sample: They're four yuan per kilo., Score: 0.5861725211143494, Max Token: re\n",
      "Sample: I'm not too sure about that., Score: 0.5742339491844177, Max Token: m\n",
      "Sample: I'm going to the hospital., Score: 0.8810173869132996, Max Token: m\n",
      "Sample: It's for that new fax machine we're getting., Score: 0.9665524363517761, Max Token: re\n",
      "Sample: I'm just shopping., Score: 0.872877836227417, Max Token: m\n",
      "Sample: They're all about helping companies grow and unleashing potential., Score: 0.6494880318641663, Max Token: re\n",
      "Sample: I'm thinking about watching a Chinese traditional opera with a foreign girl., Score: 0.9918571710586548, Max Token: m\n"
     ]
    },
    {
     "name": "stderr",
     "output_type": "stream",
     "text": [
      "\n"
     ]
    }
   ],
   "source": [
    "scores, tokens = probe_model_from_loader(classifier, dataloader, n_batches=150)\n",
    "for score, token, sample in tqdm(zip(scores, tokens, sents[:len(scores)])):\n",
    "    if score > 0.5:\n",
    "        print(f\"Sample: {sample}, Score: {score}, Max Token: {token}\")"
   ]
  },
  {
   "cell_type": "markdown",
   "id": "610c93ff-42d1-4c3c-ab63-d96d139a07fa",
   "metadata": {},
   "source": [
    "Let's take the strategy to generate harder minimal examples"
   ]
  },
  {
   "cell_type": "code",
   "execution_count": 420,
   "id": "a181f1f6-abcb-4f20-93ef-b565175c3152",
   "metadata": {},
   "outputs": [
    {
     "name": "stdout",
     "output_type": "stream",
     "text": [
      "Counter({'m': 183, 're': 70, 'are': 39, 's': 30, 'am': 17, 'is': 7, 've': 7})\n"
     ]
    }
   ],
   "source": [
    "from collections import Counter\n",
    "pos_tokens = [token for score, token in zip(scores, tokens) if score > 0.5 ]\n",
    "print(Counter(pos_tokens))\n",
    "top_token = Counter(pos_tokens).most_common()[0][0]"
   ]
  },
  {
   "cell_type": "code",
   "execution_count": 421,
   "id": "2e5dfe26-af5f-4e4d-87f3-ef4ddd3fd853",
   "metadata": {},
   "outputs": [
    {
     "name": "stdout",
     "output_type": "stream",
     "text": [
      "1. My mom makes delicious meals every day.\n",
      "2. I like movies that make me laugh.\n",
      "3. My brother enjoys playing the guitar in his free time.\n",
      "4. She misses her family when she's away.\n",
      "5. We sometimes go for walks in the park.\n",
      "6. The cat meowed loudly at night.\n",
      "7. My friend likes reading mystery novels.\n",
      "8. I often dream about traveling the world.\n",
      "9. They always go fishing on weekends.\n",
      "10. The rain melted the snow on the ground.\n",
      "11. The dog barks at strangers passing by.\n",
      "12. He usually wears a hat to protect himself from the sun.\n",
      "13. The baby smiled at me, melting my heart.\n",
      "14. We play board games on rainy days.\n",
      "15. She writes poetry to express her emotions.\n",
      "16. He helps his parents with household chores.\n",
      "17. The bike ride up the hill was exhausting.\n",
      "18. My sister plays the piano beautifully.\n",
      "19. The smell of freshly baked cookies fills the kitchen.\n",
      "20. The flowers bloom in the springtime.\n",
      "21. The thunderstorm frightened the children.\n",
      "22. The kids laugh when they see something funny.\n",
      "23. The teacher explains the lesson clearly to the students.\n",
      "24. The car broke down in the middle of the\n"
     ]
    }
   ],
   "source": [
    "prompt = f'{helpers.get_prompt(rule, n_examples=0, mark_words=False)}Create 25 sentences that do NOT fulfill that rule but include \"{top_token}\".'\n",
    "#print(prompt)\n",
    "messages = [ helpers.SYSTEM_MESSAGE, { \"role\": \"user\", \"content\": prompt }]\n",
    "response = api.get_openai_chat_completion(messages, max_tokens=256)[0]\n",
    "print(response)"
   ]
  },
  {
   "cell_type": "code",
   "execution_count": 407,
   "id": "3eb4a065-a5f2-4408-ba1b-62da4d652fe6",
   "metadata": {},
   "outputs": [
    {
     "data": {
      "text/plain": [
       "['Each student prepared their own presentation.',\n",
       " 'Each member of the team had a different opinion.',\n",
       " 'They brought their own food, so they each had something different to eat.',\n",
       " 'Each book on the shelf has a different story to tell.',\n",
       " 'They sat at each end of the table to avoid any arguments.',\n",
       " 'They each received a gift at the party.',\n",
       " 'The children picked out a toy each from the store.',\n",
       " 'Each participant in the study was given a questionnaire to fill out.',\n",
       " 'Each car in the parking lot had a different color.',\n",
       " 'The siblings decided to split the cake into three equal parts, so each got a fair share.',\n",
       " 'Each plant in the garden requires different levels of sunlight.',\n",
       " 'Each member of the group had a different responsibility.',\n",
       " 'They each chose a different movie to watch on movie night.',\n",
       " 'Each child has their own unique talent.',\n",
       " 'They each wrote a letter to express their gratitude.',\n",
       " 'The team competed against each other in a friendly match.',\n",
       " 'The students lined up one after each other to enter the classroom.',\n",
       " 'Each elephant in the herd']"
      ]
     },
     "execution_count": 407,
     "metadata": {},
     "output_type": "execute_result"
    }
   ],
   "source": [
    "hard_negatives, _  = helpers.parse_response(response)\n",
    "hard_negatives"
   ]
  },
  {
   "cell_type": "code",
   "execution_count": 408,
   "id": "6bb7a699-645a-447b-b45b-bb6aac348cac",
   "metadata": {},
   "outputs": [
    {
     "name": "stdout",
     "output_type": "stream",
     "text": [
      "36\n",
      "16\n"
     ]
    },
    {
     "name": "stderr",
     "output_type": "stream",
     "text": [
      "100%|███████████████████████████████████████████████████████████████████████████████████████████████████████████████████████████████████████████| 1/1 [00:00<00:00, 23.42it/s]\n"
     ]
    },
    {
     "name": "stdout",
     "output_type": "stream",
     "text": [
      "Training loss: 0.05150964856147766\n",
      "Accuracy: 0.75\n"
     ]
    },
    {
     "name": "stderr",
     "output_type": "stream",
     "text": [
      "100%|███████████████████████████████████████████████████████████████████████████████████████████████████████████████████████████████████████████| 1/1 [00:00<00:00, 37.19it/s]\n"
     ]
    },
    {
     "name": "stdout",
     "output_type": "stream",
     "text": [
      "Training loss: 0.08152154088020325\n",
      "Accuracy: 0.75\n"
     ]
    },
    {
     "name": "stderr",
     "output_type": "stream",
     "text": [
      "100%|███████████████████████████████████████████████████████████████████████████████████████████████████████████████████████████████████████████| 1/1 [00:00<00:00, 36.75it/s]\n"
     ]
    },
    {
     "name": "stdout",
     "output_type": "stream",
     "text": [
      "Training loss: 0.0877128466963768\n",
      "Accuracy: 0.75\n"
     ]
    },
    {
     "name": "stderr",
     "output_type": "stream",
     "text": [
      "100%|███████████████████████████████████████████████████████████████████████████████████████████████████████████████████████████████████████████| 1/1 [00:00<00:00, 38.38it/s]"
     ]
    },
    {
     "name": "stdout",
     "output_type": "stream",
     "text": [
      "Training loss: 0.0583927147090435\n"
     ]
    },
    {
     "name": "stderr",
     "output_type": "stream",
     "text": [
      "\n"
     ]
    },
    {
     "name": "stdout",
     "output_type": "stream",
     "text": [
      "Accuracy: 0.75\n"
     ]
    },
    {
     "name": "stderr",
     "output_type": "stream",
     "text": [
      "100%|███████████████████████████████████████████████████████████████████████████████████████████████████████████████████████████████████████████| 1/1 [00:00<00:00, 37.94it/s]\n"
     ]
    },
    {
     "name": "stdout",
     "output_type": "stream",
     "text": [
      "Training loss: 0.03087630495429039\n",
      "Accuracy: 0.75\n"
     ]
    },
    {
     "name": "stderr",
     "output_type": "stream",
     "text": [
      " 48%|████████████████████████████████████████████████████████████████▋                                                                      | 150/313 [00:12<00:13, 11.87it/s]\n",
      "9600it [00:00, 1927215.74it/s]"
     ]
    },
    {
     "name": "stdout",
     "output_type": "stream",
     "text": [
      "Sample: We are not seeing each other any more., Score: 0.9773754477500916, Max Token: each\n",
      "Sample: Well, I suggest we meet each other halfway., Score: 0.9794229865074158, Max Token: each\n",
      "Sample: Let's meet each other half-away again and split the difference ; I think this is a price we can both be satisfied with., Score: 0.9830936193466187, Max Token: each\n",
      "Sample: Do people in different departments get along with each other?, Score: 0.9656620621681213, Max Token: each\n",
      "Sample: Let's meet each other half way once more, then the gap will be closed and our business completed., Score: 0.9834455847740173, Max Token: each\n",
      "Sample: When I suggested we meet each other half way, I meant it literally., Score: 0.9747605323791504, Max Token: each\n",
      "Sample: How about meeting each other half way so that business can be concluded?, Score: 0.9503453373908997, Max Token: each\n"
     ]
    },
    {
     "name": "stderr",
     "output_type": "stream",
     "text": [
      "\n"
     ]
    }
   ],
   "source": [
    "new_positives = random.sample(positive, len(true_positives)) + true_positives\n",
    "new_negatives = random.sample(negative, len(hard_negatives)) + hard_negatives\n",
    "print(len(new_negatives))\n",
    "dataset = data.get_dataset(new_positives, new_negatives, others, models.bert_tokenizer, 64, random_negatives=False)\n",
    "print(len(dataset))\n",
    "train_dataloader, val_dataloader = data.get_loaders(dataset)\n",
    "optimizer = models.train(classifier, train_dataloader, val_dataloader, num_epochs=5, optimizer=optimizer)\n",
    "scores, tokens = probe_model_from_loader(classifier, dataloader, n_batches=150)\n",
    "for score, token, sample in tqdm(zip(scores, tokens, sents[:len(scores)])):\n",
    "    if score > 0.5:\n",
    "        print(f\"Sample: {sample}, Score: {score}, Max Token: {token}\")"
   ]
  },
  {
   "cell_type": "code",
   "execution_count": null,
   "id": "ca2ae1aa-584d-4fc4-b835-8959520011db",
   "metadata": {},
   "outputs": [],
   "source": []
  }
 ],
 "metadata": {
  "kernelspec": {
   "display_name": "Python 3 (ipykernel)",
   "language": "python",
   "name": "python3"
  },
  "language_info": {
   "codemirror_mode": {
    "name": "ipython",
    "version": 3
   },
   "file_extension": ".py",
   "mimetype": "text/x-python",
   "name": "python",
   "nbconvert_exporter": "python",
   "pygments_lexer": "ipython3",
   "version": "3.10.4"
  }
 },
 "nbformat": 4,
 "nbformat_minor": 5
}
