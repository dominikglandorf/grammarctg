{
 "cells": [
  {
   "cell_type": "markdown",
   "metadata": {},
   "source": [
    "# Exp 4: Train CEFR models\n",
    "This experiments aims as using EFCAMDAT to train CEFR-aligned language models."
   ]
  },
  {
   "cell_type": "code",
   "execution_count": 1,
   "metadata": {},
   "outputs": [
    {
     "name": "stderr",
     "output_type": "stream",
     "text": [
      "2024-06-12 22:38:38.585328: W tensorflow/compiler/tf2tensorrt/utils/py_utils.cc:38] TF-TRT Warning: Could not find TensorRT\n",
      "[nltk_data] Downloading package punkt to\n",
      "[nltk_data]     /scratch/tmp.62022027.dglandorf...\n",
      "[nltk_data]   Unzipping tokenizers/punkt.zip.\n",
      "[nltk_data] Downloading package punkt to\n",
      "[nltk_data]     /scratch/tmp.62022027.dglandorf...\n",
      "[nltk_data]   Package punkt is already up-to-date!\n"
     ]
    },
    {
     "data": {
      "application/vnd.jupyter.widget-view+json": {
       "model_id": "0a0ab2e71f74429a9325d86461a8d507",
       "version_major": 2,
       "version_minor": 0
      },
      "text/plain": [
       "tokenizer_config.json:   0%|          | 0.00/48.0 [00:00<?, ?B/s]"
      ]
     },
     "metadata": {},
     "output_type": "display_data"
    },
    {
     "data": {
      "application/vnd.jupyter.widget-view+json": {
       "model_id": "84f9b5e974e7481286bd408934c9fe6e",
       "version_major": 2,
       "version_minor": 0
      },
      "text/plain": [
       "vocab.txt:   0%|          | 0.00/232k [00:00<?, ?B/s]"
      ]
     },
     "metadata": {},
     "output_type": "display_data"
    },
    {
     "data": {
      "application/vnd.jupyter.widget-view+json": {
       "model_id": "ab9b0990bdda4426a210267a5d1b5fd8",
       "version_major": 2,
       "version_minor": 0
      },
      "text/plain": [
       "tokenizer.json:   0%|          | 0.00/466k [00:00<?, ?B/s]"
      ]
     },
     "metadata": {},
     "output_type": "display_data"
    },
    {
     "data": {
      "application/vnd.jupyter.widget-view+json": {
       "model_id": "60bc5c4316c949228b72d464a9a674e2",
       "version_major": 2,
       "version_minor": 0
      },
      "text/plain": [
       "config.json:   0%|          | 0.00/570 [00:00<?, ?B/s]"
      ]
     },
     "metadata": {},
     "output_type": "display_data"
    },
    {
     "data": {
      "application/vnd.jupyter.widget-view+json": {
       "model_id": "4bc717bbff2345588bc7a9810a9ac7ba",
       "version_major": 2,
       "version_minor": 0
      },
      "text/plain": [
       "model.safetensors:   0%|          | 0.00/440M [00:00<?, ?B/s]"
      ]
     },
     "metadata": {},
     "output_type": "display_data"
    },
    {
     "name": "stderr",
     "output_type": "stream",
     "text": [
      "[nltk_data] Downloading package punkt to\n",
      "[nltk_data]     /scratch/tmp.62022027.dglandorf...\n",
      "[nltk_data]   Package punkt is already up-to-date!\n"
     ]
    }
   ],
   "source": [
    "from dotenv import load_dotenv\n",
    "load_dotenv()\n",
    "import os\n",
    "os.environ['CACHE_DIR'] = os.environ['FAST_CACHE_DIR'].replace(\"%SLURM_JOB_ID%\", os.getenv('SLURM_JOB_ID')) # speed up model loading\n",
    "\n",
    "import numpy as np\n",
    "import matplotlib.pyplot as plt\n",
    "import seaborn as sns\n",
    "import pandas as pd\n",
    "import torch\n",
    "from tqdm.notebook import tqdm\n",
    "import json\n",
    "import re\n",
    "import random\n",
    "import xml.etree.ElementTree as ET\n",
    "import datasets\n",
    "from transformers import TrainingArguments, LogitsProcessor\n",
    "from trl import SFTTrainer, DataCollatorForCompletionOnlyLM\n",
    "from peft import LoraConfig, PeftModel\n",
    "from collections import Counter\n",
    "import nltk\n",
    "nltk.download(\"punkt\", download_dir=os.getenv('CACHE_DIR'))\n",
    "nltk.data.path.insert(0, os.getenv('CACHE_DIR'))\n",
    "from nltk.tokenize import sent_tokenize\n",
    "from rouge_score import rouge_scorer\n",
    "\n",
    "import sys\n",
    "sys.path.append(f'../source')\n",
    "import models\n",
    "import helpers\n",
    "import data\n",
    "\n",
    "import importlib\n",
    "#importlib.reload(models)\n",
    "\n",
    "# CONFIGURATION\n",
    "DATA_PATH = \"../data/\"\n",
    "efcamdat_path = f\"{DATA_PATH}EFCAMDAT_Database.xml\"\n",
    "preprossed_dataset_file = f\"{DATA_PATH}CEFR_texts.jsonl\"\n",
    "dialogs_file = f\"{DATA_PATH}CEFR_dialogs.json\"\n",
    "preprossed_dialog_file = f\"{DATA_PATH}CEFR_dialogs.jsonl\"\n",
    "checkpoint_dir = '/cluster/home/dglandorf/models/'"
   ]
  },
  {
   "cell_type": "markdown",
   "metadata": {},
   "source": [
    "## Data Pre-Processing"
   ]
  },
  {
   "cell_type": "markdown",
   "metadata": {},
   "source": [
    "Sanitize the EF-CAMDAT to be able to read it in without errors: Fix an error due to the <br> tag"
   ]
  },
  {
   "cell_type": "code",
   "execution_count": null,
   "metadata": {},
   "outputs": [],
   "source": [
    "with open(efcamdat_path, 'r', encoding='utf-8') as file:\n",
    "    file_content = file.read()\n",
    "updated_content = file_content.replace('<br>', '<br />')\n",
    "with open(efcamdat_path, 'w', encoding='utf-8') as file:\n",
    "    file.write(updated_content)\n",
    "\n",
    "lines_to_remove = list(range(5080477, 5080486))\n",
    "with open(efcamdat_path, 'r', encoding='utf-8') as file:\n",
    "    lines = file.readlines()\n",
    "for line in lines[lines_to_remove]:\n",
    "    print(line)\n",
    "#del lines[lines_to_remove] # remove them # CAUTION: do not execute this twice, it will remove other lines then\n",
    "with open(efcamdat_path, 'w', encoding='utf-8') as file:\n",
    "    file.writelines(lines)"
   ]
  },
  {
   "cell_type": "markdown",
   "metadata": {},
   "source": [
    "Let's remove the corrected text from the xml file"
   ]
  },
  {
   "cell_type": "code",
   "execution_count": 145,
   "metadata": {},
   "outputs": [],
   "source": [
    "def extract_uncorrected_text(element):\n",
    "    \"\"\"Extracts the uncorrected text from the <text> element, ignoring corrections.\"\"\"\n",
    "    parts = []\n",
    "\n",
    "    if element.text:\n",
    "        parts.append(element.text)\n",
    "        \n",
    "    for sub_elem in element:\n",
    "        if sub_elem.tag == 'change':\n",
    "            selection = sub_elem.find('selection')\n",
    "            if selection is not None and selection.text:\n",
    "                parts.append(selection.text)\n",
    "            if sub_elem.tail:\n",
    "                parts.append(sub_elem.tail)\n",
    "        else:\n",
    "            if sub_elem.text:\n",
    "                parts.append(sub_elem.text)\n",
    "            if sub_elem.tail:\n",
    "                parts.append(sub_elem.tail)\n",
    "            \n",
    "    return ''.join(parts)"
   ]
  },
  {
   "cell_type": "code",
   "execution_count": 176,
   "metadata": {},
   "outputs": [
    {
     "data": {
      "application/vnd.jupyter.widget-view+json": {
       "model_id": "53c19f0e529c4ea78f712871948eea20",
       "version_major": 2,
       "version_minor": 0
      },
      "text/plain": [
       "  0%|          | 0/36000000 [00:00<?, ?it/s]"
      ]
     },
     "metadata": {},
     "output_type": "display_data"
    }
   ],
   "source": [
    "data = []\n",
    "context = ET.iterparse(efcamdat_path, events=('end',))\n",
    "\n",
    "for event, elem in tqdm(context, total=36000000):\n",
    "    if elem.tag == 'writing':\n",
    "        text = extract_uncorrected_text(elem.find('text'))\n",
    "        data.append({\n",
    "            \"id\": elem.get('id'),\n",
    "            \"text\": text.strip(),\n",
    "            \"level\": int(elem.get('level'))\n",
    "        })\n",
    "\n",
    "efcamdat = pd.DataFrame(data)"
   ]
  },
  {
   "cell_type": "markdown",
   "metadata": {},
   "source": [
    "Map the level to CEFR"
   ]
  },
  {
   "cell_type": "code",
   "execution_count": 178,
   "metadata": {},
   "outputs": [
    {
     "data": {
      "text/plain": [
       "A1    625985\n",
       "A2    307995\n",
       "B1    168361\n",
       "B2     61329\n",
       "C1     14698\n",
       "C2      1940\n",
       "Name: CEFR, dtype: int64"
      ]
     },
     "execution_count": 178,
     "metadata": {},
     "output_type": "execute_result"
    }
   ],
   "source": [
    "grade_to_cefr = {\n",
    "    range(1, 4): 'A1',\n",
    "    range(4, 7): 'A2',\n",
    "    range(7, 10): 'B1',\n",
    "    range(10, 13): 'B2',\n",
    "    range(13, 16): 'C1',\n",
    "    range(16, 17): 'C2',\n",
    "}\n",
    "\n",
    "def map_grade_to_cefr(grade):\n",
    "    for grade_range, cefr in grade_to_cefr.items():\n",
    "        if grade in grade_range:\n",
    "            return cefr\n",
    "    return None\n",
    "efcamdat['CEFR'] = efcamdat['level'].apply(map_grade_to_cefr)\n",
    "\n",
    "efcamdat['CEFR'].value_counts(dropna=False)"
   ]
  },
  {
   "cell_type": "markdown",
   "metadata": {},
   "source": [
    "Count words per text (simply count spaces)"
   ]
  },
  {
   "cell_type": "code",
   "execution_count": 179,
   "metadata": {},
   "outputs": [],
   "source": [
    "def map_text_to_num_words(text):\n",
    "    return len(text.split())\n",
    "    \n",
    "efcamdat['num_words'] = efcamdat.text.apply(map_text_to_num_words)"
   ]
  },
  {
   "cell_type": "code",
   "execution_count": 180,
   "metadata": {},
   "outputs": [
    {
     "data": {
      "text/html": [
       "<div>\n",
       "<style scoped>\n",
       "    .dataframe tbody tr th:only-of-type {\n",
       "        vertical-align: middle;\n",
       "    }\n",
       "\n",
       "    .dataframe tbody tr th {\n",
       "        vertical-align: top;\n",
       "    }\n",
       "\n",
       "    .dataframe thead th {\n",
       "        text-align: right;\n",
       "    }\n",
       "</style>\n",
       "<table border=\"1\" class=\"dataframe\">\n",
       "  <thead>\n",
       "    <tr style=\"text-align: right;\">\n",
       "      <th></th>\n",
       "      <th>num_words</th>\n",
       "    </tr>\n",
       "    <tr>\n",
       "      <th>CEFR</th>\n",
       "      <th></th>\n",
       "    </tr>\n",
       "  </thead>\n",
       "  <tbody>\n",
       "    <tr>\n",
       "      <th>A1</th>\n",
       "      <td>36.453861</td>\n",
       "    </tr>\n",
       "    <tr>\n",
       "      <th>A2</th>\n",
       "      <td>65.246595</td>\n",
       "    </tr>\n",
       "    <tr>\n",
       "      <th>B1</th>\n",
       "      <td>94.152660</td>\n",
       "    </tr>\n",
       "    <tr>\n",
       "      <th>B2</th>\n",
       "      <td>132.331393</td>\n",
       "    </tr>\n",
       "    <tr>\n",
       "      <th>C1</th>\n",
       "      <td>165.214315</td>\n",
       "    </tr>\n",
       "    <tr>\n",
       "      <th>C2</th>\n",
       "      <td>169.732990</td>\n",
       "    </tr>\n",
       "  </tbody>\n",
       "</table>\n",
       "</div>"
      ],
      "text/plain": [
       "       num_words\n",
       "CEFR            \n",
       "A1     36.453861\n",
       "A2     65.246595\n",
       "B1     94.152660\n",
       "B2    132.331393\n",
       "C1    165.214315\n",
       "C2    169.732990"
      ]
     },
     "execution_count": 180,
     "metadata": {},
     "output_type": "execute_result"
    }
   ],
   "source": [
    "efcamdat.groupby('CEFR').agg({\"num_words\": \"mean\"})"
   ]
  },
  {
   "cell_type": "code",
   "execution_count": 181,
   "metadata": {},
   "outputs": [
    {
     "data": {
      "text/plain": [
       "69640185"
      ]
     },
     "execution_count": 181,
     "metadata": {},
     "output_type": "execute_result"
    }
   ],
   "source": [
    "efcamdat['num_words'].sum()"
   ]
  },
  {
   "cell_type": "markdown",
   "metadata": {},
   "source": [
    "Convert into datasets library format"
   ]
  },
  {
   "cell_type": "code",
   "execution_count": null,
   "metadata": {},
   "outputs": [],
   "source": [
    "if not os.path.exists(preprossed_dataset_file):\n",
    "    with open(preprossed_dataset_file, 'w') as f:\n",
    "        for idx, row in tqdm(efcamdat.iterrows(), total=len(efcamdat)):\n",
    "            item = {\n",
    "                \"CEFR\": row['CEFR'],\n",
    "                \"text\": str(row['text']),\n",
    "            }\n",
    "            f.write(json.dumps(item) + '\\n')"
   ]
  },
  {
   "cell_type": "markdown",
   "metadata": {},
   "source": [
    "## Preprocess texts to dialogs"
   ]
  },
  {
   "cell_type": "code",
   "execution_count": 2,
   "metadata": {},
   "outputs": [
    {
     "data": {
      "application/vnd.jupyter.widget-view+json": {
       "model_id": "8a1e8eb2d039481b99c2826b5a6a69ab",
       "version_major": 2,
       "version_minor": 0
      },
      "text/plain": [
       "Loading checkpoint shards:   0%|          | 0/4 [00:00<?, ?it/s]"
      ]
     },
     "metadata": {},
     "output_type": "display_data"
    },
    {
     "name": "stderr",
     "output_type": "stream",
     "text": [
      "Special tokens have been added in the vocabulary, make sure the associated word embeddings are fine-tuned or trained.\n"
     ]
    }
   ],
   "source": [
    "model, tokenizer = models.load_generator(\"meta-llama/Meta-Llama-3-8B-Instruct\")"
   ]
  },
  {
   "cell_type": "code",
   "execution_count": 9,
   "metadata": {
    "scrolled": true
   },
   "outputs": [
    {
     "data": {
      "application/vnd.jupyter.widget-view+json": {
       "model_id": "20dd50f3ecb949209552635d90008979",
       "version_major": 2,
       "version_minor": 0
      },
      "text/plain": [
       "Generating train split: 0 examples [00:00, ? examples/s]"
      ]
     },
     "metadata": {},
     "output_type": "display_data"
    },
    {
     "name": "stdout",
     "output_type": "stream",
     "text": [
      "{'CEFR': 'B2', 'text': 'This summer one friend of mine from the US visited Russia. One day we went out with our other friends. We had changed the bar and drink more and more vodka. We want to show American how we can drink. We drank as much as we can. In next bar we decided to stop drink finally. It was about 5 a.m. there. We left the bar and went outside the street. Just imagine, Saint-Petersburg, city center, old beutiful buildings. Then one our friend decided to piss on the street. He had just turned back and made his business. What the awkward situation, i was so embarassed.'}\n"
     ]
    },
    {
     "name": "stderr",
     "output_type": "stream",
     "text": [
      "Generate: 100%|██████████████████████████████████████████████████████████████████████████████████████████████| 1/1 [00:15<00:00, 15.89s/it]\n"
     ]
    },
    {
     "name": "stdout",
     "output_type": "stream",
     "text": [
      "['\"This summer one friend of mine from the US visited Russia. One day we went out with our other friends. We had changed the bar and drink more and more vodka. We want to show American how we can drink. We drank as much as we can.\"', '\"Yeah, I remember that night. We were really getting wild, weren\\'t we?\"', '\"Yeah, we were. In next bar we decided to stop drink finally. It was about 5 a.m. there.\"', '\"And then we left the bar and went outside the street. Just imagine, Saint-Petersburg, city center, old beutiful buildings.\"', '\"Then one our friend decided to piss on the street. He had just turned back and made his business.\"', '\"What the awkward situation, i was so embarassed...\"', '\"I know, right? I was mortified. I didn\\'t know what to do.\"']\n",
      "{'CEFR': 'B2', 'text': \"It's really a pity to hear that you gonna leave this company due to your claustrophobia.You know what ? You do have a good job and great ability,it is not worth to let it destroy your life and opportunity. I don't know if you ever go to see the doctor,if you don't ,I think it is a good way to get some suggestion about how to control even better to resolve your problem.Actually,there is a training can let you improve your mind to a more positive and peaceful ,it's call Cognitive Behavioral Therapy (CBT) .Many people have this problem just like you but have been better through this training ,it might be help for you too.Anyway,you know I'll always on your side. your dear friend Jason\"}\n"
     ]
    },
    {
     "name": "stderr",
     "output_type": "stream",
     "text": [
      "Generate: 100%|██████████████████████████████████████████████████████████████████████████████████████████████| 1/1 [00:14<00:00, 14.34s/it]\n"
     ]
    },
    {
     "name": "stdout",
     "output_type": "stream",
     "text": [
      "[\"It's really a pity to hear that you gonna leave this company due to your claustrophobia.\", \"Yeah, I'm really struggling with it. You know what? You do have a good job and great ability, it is not worth to let it destroy your life and opportunity.\", \"Exactly! I don't know if you ever go to see the doctor, if you don't, I think it is a good way to get some suggestion about how to control even better to resolve your problem.\", \"Yeah, I've been thinking about it. Actually, there is a training can let you improve your mind to a more positive and peaceful, it's call Cognitive Behavioral Therapy (CBT).\", \"Ah, I've heard of that! Many people have this problem just like you but have been better through this training, it might be help for you too.\", \"Yeah, I'm considering it. Anyway, you know I'll always be on your side.\"]\n",
      "{'CEFR': 'A1', 'text': 'Dear Ms Thomas,There are thirteen computers and sixteen keyboards in the office. Also, there are thirty pens and fifteen pencils. There are twelve desks and fourteen chairs. There are and sixteen headphones. There is also one table.'}\n"
     ]
    },
    {
     "name": "stderr",
     "output_type": "stream",
     "text": [
      "Generate:   0%|                                                                                                      | 0/1 [00:02<?, ?it/s]\n"
     ]
    },
    {
     "ename": "KeyboardInterrupt",
     "evalue": "",
     "output_type": "error",
     "traceback": [
      "\u001b[0;31m---------------------------------------------------------------------------\u001b[0m",
      "\u001b[0;31mKeyboardInterrupt\u001b[0m                         Traceback (most recent call last)",
      "Cell \u001b[0;32mIn[9], line 8\u001b[0m\n\u001b[1;32m      6\u001b[0m \u001b[38;5;28mprint\u001b[39m(item)\n\u001b[1;32m      7\u001b[0m chat_messages \u001b[38;5;241m=\u001b[39m tokenizer\u001b[38;5;241m.\u001b[39mapply_chat_template([{\u001b[38;5;124m\"\u001b[39m\u001b[38;5;124mrole\u001b[39m\u001b[38;5;124m\"\u001b[39m: \u001b[38;5;124m\"\u001b[39m\u001b[38;5;124muser\u001b[39m\u001b[38;5;124m\"\u001b[39m, \u001b[38;5;124m\"\u001b[39m\u001b[38;5;124mcontent\u001b[39m\u001b[38;5;124m\"\u001b[39m: \u001b[38;5;124mf\u001b[39m\u001b[38;5;124m\"\u001b[39m\u001b[38;5;124mWrite a dialog using exact phrases including mistakes from this text: \u001b[39m\u001b[38;5;132;01m{\u001b[39;00mitem[\u001b[38;5;124m'\u001b[39m\u001b[38;5;124mtext\u001b[39m\u001b[38;5;124m'\u001b[39m]\u001b[38;5;132;01m}\u001b[39;00m\u001b[38;5;124m. Do not explain mistakes.\u001b[39m\u001b[38;5;124m\"\u001b[39m}], tokenize\u001b[38;5;241m=\u001b[39m\u001b[38;5;28;01mFalse\u001b[39;00m, add_generation_prompt\u001b[38;5;241m=\u001b[39m\u001b[38;5;28;01mTrue\u001b[39;00m)\n\u001b[0;32m----> 8\u001b[0m response \u001b[38;5;241m=\u001b[39m \u001b[43mmodels\u001b[49m\u001b[38;5;241;43m.\u001b[39;49m\u001b[43mgenerate\u001b[49m\u001b[43m(\u001b[49m\u001b[43mmodel\u001b[49m\u001b[43m,\u001b[49m\u001b[43m \u001b[49m\u001b[43mtokenizer\u001b[49m\u001b[43m,\u001b[49m\u001b[43m \u001b[49m\u001b[43m[\u001b[49m\u001b[43mchat_messages\u001b[49m\u001b[43m]\u001b[49m\u001b[43m,\u001b[49m\u001b[43m \u001b[49m\u001b[43mmax_new_tokens\u001b[49m\u001b[38;5;241;43m=\u001b[39;49m\u001b[38;5;241;43m256\u001b[39;49m\u001b[43m)\u001b[49m\n\u001b[1;32m      9\u001b[0m dialog \u001b[38;5;241m=\u001b[39m [utterance\u001b[38;5;241m.\u001b[39mstrip() \u001b[38;5;28;01mfor\u001b[39;00m utterance \u001b[38;5;129;01min\u001b[39;00m response\u001b[38;5;241m.\u001b[39msplit(\u001b[38;5;124m\"\u001b[39m\u001b[38;5;130;01m\\n\u001b[39;00m\u001b[38;5;124m\"\u001b[39m)]\n\u001b[1;32m     11\u001b[0m \u001b[38;5;28;01mtry\u001b[39;00m:\n",
      "File \u001b[0;32m~/grammarctg/experiments/../source/models.py:273\u001b[0m, in \u001b[0;36mgenerate\u001b[0;34m(model, tokenizer, prompts, eos_token_id, max_new_tokens, batch_size, verbose, skip_special_tokens, do_sample)\u001b[0m\n\u001b[1;32m    271\u001b[0m \u001b[38;5;28;01mif\u001b[39;00m verbose: \u001b[38;5;28mprint\u001b[39m(model_input)\n\u001b[1;32m    272\u001b[0m \u001b[38;5;28;01mwith\u001b[39;00m torch\u001b[38;5;241m.\u001b[39mno_grad():\n\u001b[0;32m--> 273\u001b[0m     token_ids \u001b[38;5;241m=\u001b[39m \u001b[43mmodel\u001b[49m\u001b[38;5;241;43m.\u001b[39;49m\u001b[43mgenerate\u001b[49m\u001b[43m(\u001b[49m\u001b[38;5;241;43m*\u001b[39;49m\u001b[38;5;241;43m*\u001b[39;49m\u001b[43mmodel_input\u001b[49m\u001b[43m,\u001b[49m\n\u001b[1;32m    274\u001b[0m \u001b[43m                               \u001b[49m\u001b[43mmax_new_tokens\u001b[49m\u001b[38;5;241;43m=\u001b[39;49m\u001b[43mmax_new_tokens\u001b[49m\u001b[43m,\u001b[49m\n\u001b[1;32m    275\u001b[0m \u001b[43m                               \u001b[49m\u001b[43mpad_token_id\u001b[49m\u001b[38;5;241;43m=\u001b[39;49m\u001b[43mtokenizer\u001b[49m\u001b[38;5;241;43m.\u001b[39;49m\u001b[43meos_token_id\u001b[49m\u001b[43m,\u001b[49m\n\u001b[1;32m    276\u001b[0m \u001b[43m                               \u001b[49m\u001b[43meos_token_id\u001b[49m\u001b[38;5;241;43m=\u001b[39;49m\u001b[43meos_token_id\u001b[49m\u001b[43m,\u001b[49m\n\u001b[1;32m    277\u001b[0m \u001b[43m                               \u001b[49m\u001b[43mdo_sample\u001b[49m\u001b[38;5;241;43m=\u001b[39;49m\u001b[43mdo_sample\u001b[49m\u001b[43m,\u001b[49m\n\u001b[1;32m    278\u001b[0m \u001b[43m                               \u001b[49m\u001b[43mtemperature\u001b[49m\u001b[38;5;241;43m=\u001b[39;49m\u001b[38;5;241;43m0.6\u001b[39;49m\u001b[43m \u001b[49m\u001b[38;5;28;43;01mif\u001b[39;49;00m\u001b[43m \u001b[49m\u001b[43mdo_sample\u001b[49m\u001b[43m \u001b[49m\u001b[38;5;28;43;01melse\u001b[39;49;00m\u001b[43m \u001b[49m\u001b[38;5;28;43;01mNone\u001b[39;49;00m\u001b[43m,\u001b[49m\n\u001b[1;32m    279\u001b[0m \u001b[43m                               \u001b[49m\u001b[43mtop_p\u001b[49m\u001b[38;5;241;43m=\u001b[39;49m\u001b[38;5;241;43m0.9\u001b[39;49m\u001b[43m \u001b[49m\u001b[38;5;28;43;01mif\u001b[39;49;00m\u001b[43m \u001b[49m\u001b[43mdo_sample\u001b[49m\u001b[43m \u001b[49m\u001b[38;5;28;43;01melse\u001b[39;49;00m\u001b[43m \u001b[49m\u001b[38;5;28;43;01mNone\u001b[39;49;00m\u001b[43m)\u001b[49m\n\u001b[1;32m    281\u001b[0m outputs \u001b[38;5;241m+\u001b[39m\u001b[38;5;241m=\u001b[39m tokenizer\u001b[38;5;241m.\u001b[39mbatch_decode(token_ids[:,model_input[\u001b[38;5;124m'\u001b[39m\u001b[38;5;124minput_ids\u001b[39m\u001b[38;5;124m'\u001b[39m]\u001b[38;5;241m.\u001b[39mshape[\u001b[38;5;241m1\u001b[39m]:],\n\u001b[1;32m    282\u001b[0m                                   skip_special_tokens\u001b[38;5;241m=\u001b[39mskip_special_tokens,\n\u001b[1;32m    283\u001b[0m                                   device\u001b[38;5;241m=\u001b[39m\u001b[38;5;124m\"\u001b[39m\u001b[38;5;124mcpu\u001b[39m\u001b[38;5;124m\"\u001b[39m)\n\u001b[1;32m    284\u001b[0m \u001b[38;5;28;01mif\u001b[39;00m verbose: \u001b[38;5;28mprint\u001b[39m(outputs[\u001b[38;5;241m-\u001b[39mbatch_size:])\n",
      "File \u001b[0;32m~/gctg/lib64/python3.11/site-packages/torch/utils/_contextlib.py:115\u001b[0m, in \u001b[0;36mcontext_decorator.<locals>.decorate_context\u001b[0;34m(*args, **kwargs)\u001b[0m\n\u001b[1;32m    112\u001b[0m \u001b[38;5;129m@functools\u001b[39m\u001b[38;5;241m.\u001b[39mwraps(func)\n\u001b[1;32m    113\u001b[0m \u001b[38;5;28;01mdef\u001b[39;00m \u001b[38;5;21mdecorate_context\u001b[39m(\u001b[38;5;241m*\u001b[39margs, \u001b[38;5;241m*\u001b[39m\u001b[38;5;241m*\u001b[39mkwargs):\n\u001b[1;32m    114\u001b[0m     \u001b[38;5;28;01mwith\u001b[39;00m ctx_factory():\n\u001b[0;32m--> 115\u001b[0m         \u001b[38;5;28;01mreturn\u001b[39;00m \u001b[43mfunc\u001b[49m\u001b[43m(\u001b[49m\u001b[38;5;241;43m*\u001b[39;49m\u001b[43margs\u001b[49m\u001b[43m,\u001b[49m\u001b[43m \u001b[49m\u001b[38;5;241;43m*\u001b[39;49m\u001b[38;5;241;43m*\u001b[39;49m\u001b[43mkwargs\u001b[49m\u001b[43m)\u001b[49m\n",
      "File \u001b[0;32m~/gctg/lib64/python3.11/site-packages/transformers/generation/utils.py:1527\u001b[0m, in \u001b[0;36mGenerationMixin.generate\u001b[0;34m(self, inputs, generation_config, logits_processor, stopping_criteria, prefix_allowed_tokens_fn, synced_gpus, assistant_model, streamer, negative_prompt_ids, negative_prompt_attention_mask, **kwargs)\u001b[0m\n\u001b[1;32m   1509\u001b[0m     result \u001b[38;5;241m=\u001b[39m \u001b[38;5;28mself\u001b[39m\u001b[38;5;241m.\u001b[39massisted_decoding(\n\u001b[1;32m   1510\u001b[0m         input_ids,\n\u001b[1;32m   1511\u001b[0m         candidate_generator\u001b[38;5;241m=\u001b[39mcandidate_generator,\n\u001b[0;32m   (...)\u001b[0m\n\u001b[1;32m   1523\u001b[0m         \u001b[38;5;241m*\u001b[39m\u001b[38;5;241m*\u001b[39mmodel_kwargs,\n\u001b[1;32m   1524\u001b[0m     )\n\u001b[1;32m   1525\u001b[0m \u001b[38;5;28;01mif\u001b[39;00m generation_mode \u001b[38;5;241m==\u001b[39m GenerationMode\u001b[38;5;241m.\u001b[39mGREEDY_SEARCH:\n\u001b[1;32m   1526\u001b[0m     \u001b[38;5;66;03m# 11. run greedy search\u001b[39;00m\n\u001b[0;32m-> 1527\u001b[0m     result \u001b[38;5;241m=\u001b[39m \u001b[38;5;28;43mself\u001b[39;49m\u001b[38;5;241;43m.\u001b[39;49m\u001b[43m_greedy_search\u001b[49m\u001b[43m(\u001b[49m\n\u001b[1;32m   1528\u001b[0m \u001b[43m        \u001b[49m\u001b[43minput_ids\u001b[49m\u001b[43m,\u001b[49m\n\u001b[1;32m   1529\u001b[0m \u001b[43m        \u001b[49m\u001b[43mlogits_processor\u001b[49m\u001b[38;5;241;43m=\u001b[39;49m\u001b[43mprepared_logits_processor\u001b[49m\u001b[43m,\u001b[49m\n\u001b[1;32m   1530\u001b[0m \u001b[43m        \u001b[49m\u001b[43mstopping_criteria\u001b[49m\u001b[38;5;241;43m=\u001b[39;49m\u001b[43mprepared_stopping_criteria\u001b[49m\u001b[43m,\u001b[49m\n\u001b[1;32m   1531\u001b[0m \u001b[43m        \u001b[49m\u001b[43mpad_token_id\u001b[49m\u001b[38;5;241;43m=\u001b[39;49m\u001b[43mgeneration_config\u001b[49m\u001b[38;5;241;43m.\u001b[39;49m\u001b[43mpad_token_id\u001b[49m\u001b[43m,\u001b[49m\n\u001b[1;32m   1532\u001b[0m \u001b[43m        \u001b[49m\u001b[43meos_token_id\u001b[49m\u001b[38;5;241;43m=\u001b[39;49m\u001b[43mgeneration_config\u001b[49m\u001b[38;5;241;43m.\u001b[39;49m\u001b[43meos_token_id\u001b[49m\u001b[43m,\u001b[49m\n\u001b[1;32m   1533\u001b[0m \u001b[43m        \u001b[49m\u001b[43moutput_scores\u001b[49m\u001b[38;5;241;43m=\u001b[39;49m\u001b[43mgeneration_config\u001b[49m\u001b[38;5;241;43m.\u001b[39;49m\u001b[43moutput_scores\u001b[49m\u001b[43m,\u001b[49m\n\u001b[1;32m   1534\u001b[0m \u001b[43m        \u001b[49m\u001b[43moutput_logits\u001b[49m\u001b[38;5;241;43m=\u001b[39;49m\u001b[43mgeneration_config\u001b[49m\u001b[38;5;241;43m.\u001b[39;49m\u001b[43moutput_logits\u001b[49m\u001b[43m,\u001b[49m\n\u001b[1;32m   1535\u001b[0m \u001b[43m        \u001b[49m\u001b[43mreturn_dict_in_generate\u001b[49m\u001b[38;5;241;43m=\u001b[39;49m\u001b[43mgeneration_config\u001b[49m\u001b[38;5;241;43m.\u001b[39;49m\u001b[43mreturn_dict_in_generate\u001b[49m\u001b[43m,\u001b[49m\n\u001b[1;32m   1536\u001b[0m \u001b[43m        \u001b[49m\u001b[43msynced_gpus\u001b[49m\u001b[38;5;241;43m=\u001b[39;49m\u001b[43msynced_gpus\u001b[49m\u001b[43m,\u001b[49m\n\u001b[1;32m   1537\u001b[0m \u001b[43m        \u001b[49m\u001b[43mstreamer\u001b[49m\u001b[38;5;241;43m=\u001b[39;49m\u001b[43mstreamer\u001b[49m\u001b[43m,\u001b[49m\n\u001b[1;32m   1538\u001b[0m \u001b[43m        \u001b[49m\u001b[38;5;241;43m*\u001b[39;49m\u001b[38;5;241;43m*\u001b[39;49m\u001b[43mmodel_kwargs\u001b[49m\u001b[43m,\u001b[49m\n\u001b[1;32m   1539\u001b[0m \u001b[43m    \u001b[49m\u001b[43m)\u001b[49m\n\u001b[1;32m   1541\u001b[0m \u001b[38;5;28;01melif\u001b[39;00m generation_mode \u001b[38;5;241m==\u001b[39m GenerationMode\u001b[38;5;241m.\u001b[39mCONTRASTIVE_SEARCH:\n\u001b[1;32m   1542\u001b[0m     \u001b[38;5;28;01mif\u001b[39;00m \u001b[38;5;129;01mnot\u001b[39;00m model_kwargs[\u001b[38;5;124m\"\u001b[39m\u001b[38;5;124muse_cache\u001b[39m\u001b[38;5;124m\"\u001b[39m]:\n",
      "File \u001b[0;32m~/gctg/lib64/python3.11/site-packages/transformers/generation/utils.py:2406\u001b[0m, in \u001b[0;36mGenerationMixin._greedy_search\u001b[0;34m(self, input_ids, logits_processor, stopping_criteria, max_length, pad_token_id, eos_token_id, output_attentions, output_hidden_states, output_scores, output_logits, return_dict_in_generate, synced_gpus, streamer, **model_kwargs)\u001b[0m\n\u001b[1;32m   2403\u001b[0m unfinished_sequences \u001b[38;5;241m=\u001b[39m torch\u001b[38;5;241m.\u001b[39mones(batch_size, dtype\u001b[38;5;241m=\u001b[39mtorch\u001b[38;5;241m.\u001b[39mlong, device\u001b[38;5;241m=\u001b[39minput_ids\u001b[38;5;241m.\u001b[39mdevice)\n\u001b[1;32m   2404\u001b[0m model_kwargs[\u001b[38;5;124m\"\u001b[39m\u001b[38;5;124mcache_position\u001b[39m\u001b[38;5;124m\"\u001b[39m] \u001b[38;5;241m=\u001b[39m torch\u001b[38;5;241m.\u001b[39marange(cur_len, device\u001b[38;5;241m=\u001b[39minput_ids\u001b[38;5;241m.\u001b[39mdevice)\n\u001b[0;32m-> 2406\u001b[0m \u001b[38;5;28;01mwhile\u001b[39;00m \u001b[38;5;28mself\u001b[39m\u001b[38;5;241m.\u001b[39m_has_unfinished_sequences(this_peer_finished, synced_gpus, device\u001b[38;5;241m=\u001b[39minput_ids\u001b[38;5;241m.\u001b[39mdevice):\n\u001b[1;32m   2407\u001b[0m     \u001b[38;5;66;03m# prepare model inputs\u001b[39;00m\n\u001b[1;32m   2408\u001b[0m     model_inputs \u001b[38;5;241m=\u001b[39m \u001b[38;5;28mself\u001b[39m\u001b[38;5;241m.\u001b[39mprepare_inputs_for_generation(input_ids, \u001b[38;5;241m*\u001b[39m\u001b[38;5;241m*\u001b[39mmodel_kwargs)\n\u001b[1;32m   2410\u001b[0m     \u001b[38;5;66;03m# forward pass to get next token\u001b[39;00m\n",
      "\u001b[0;31mKeyboardInterrupt\u001b[0m: "
     ]
    }
   ],
   "source": [
    "# Generate dialogs with these phrases\n",
    "dialogs = []\n",
    "dataset = datasets.load_dataset('json', data_files=preprossed_dataset_file, split='train')\n",
    "dataset = dataset.shuffle()\n",
    "for item in dataset:\n",
    "    print(item)\n",
    "    chat_messages = tokenizer.apply_chat_template([{\"role\": \"user\", \"content\": f\"Write a dialog using exact phrases including mistakes from this text: {item['text']}. Do not explain mistakes.\"}], tokenize=False, add_generation_prompt=True)\n",
    "    response = models.generate(model, tokenizer, [chat_messages], max_new_tokens=256)\n",
    "    dialog = [utterance.strip() for utterance in response.split(\"\\n\")]\n",
    "    \n",
    "    try:\n",
    "        cleaned = [re.search(r'.*: (.*)', turn).group(1) for turn in dialog[1:-1] if len(turn)>3]\n",
    "        print(cleaned)\n",
    "        if len(cleaned):\n",
    "            dialogs.append({\"CEFR\": item['CEFR'],\n",
    "                            \"writing\": item['text'],\n",
    "                            \"dialog\": cleaned})\n",
    "        else:\n",
    "            print(response)\n",
    "    except:\n",
    "        print(response)"
   ]
  },
  {
   "cell_type": "code",
   "execution_count": null,
   "metadata": {},
   "outputs": [],
   "source": [
    "#dialogs.to_json(dialogs_file)"
   ]
  },
  {
   "cell_type": "markdown",
   "metadata": {},
   "source": [
    "Read generated dialogs"
   ]
  },
  {
   "cell_type": "code",
   "execution_count": 16,
   "metadata": {},
   "outputs": [
    {
     "data": {
      "text/plain": [
       "6591"
      ]
     },
     "execution_count": 16,
     "metadata": {},
     "output_type": "execute_result"
    }
   ],
   "source": [
    "dialogs_df = pd.read_json(dialogs_file)\n",
    "len(dialogs_df)"
   ]
  },
  {
   "cell_type": "markdown",
   "metadata": {},
   "source": [
    "Only use turns as target that are adopted from the original writing -> Rouge-L recall"
   ]
  },
  {
   "cell_type": "code",
   "execution_count": null,
   "metadata": {},
   "outputs": [],
   "source": [
    "scorer = rouge_scorer.RougeScorer(['rougeL'])\n",
    "snippets = []\n",
    "for idx, dialog in tqdm(dialogs_df.iterrows(), total=len(dialogs_df)):\n",
    "    scores = [scorer.score(dialog['dialog'][i], dialog['writing'])['rougeL'][1] for i in range(1, len(dialog['dialog']))]\n",
    "    if not len(scores): continue\n",
    "    threshold = sorted(scores, reverse=True)[max(0, len(scores)//2-1)]\n",
    "    for i in range(1, len(dialog['dialog'])):\n",
    "        if scores[i-1]<threshold: continue\n",
    "        snippet = {\"writing\": dialog['writing'],\n",
    "                   \"CEFR\": dialog['CEFR'],\n",
    "                   'context': dialog['dialog'][:i],\n",
    "                   'response': dialog['dialog'][i]}\n",
    "        snippets.append(snippet)\n",
    "\n",
    "if not os.path.exists(preprossed_dialog_file) or True:\n",
    "    with open(preprossed_dialog_file, 'w') as f:\n",
    "        for snippet in tqdm(snippets):\n",
    "            f.write(json.dumps(snippet) + '\\n')\n",
    "\n",
    "len(snippets)"
   ]
  },
  {
   "cell_type": "markdown",
   "metadata": {},
   "source": [
    "# Fine-tune models to write on a certain CEFR level"
   ]
  },
  {
   "cell_type": "markdown",
   "metadata": {},
   "source": [
    "## Fine-tune on dialogs"
   ]
  },
  {
   "cell_type": "code",
   "execution_count": 18,
   "metadata": {},
   "outputs": [
    {
     "data": {
      "application/vnd.jupyter.widget-view+json": {
       "model_id": "79ab20eff83f4a2cbe1287e80da607b2",
       "version_major": 2,
       "version_minor": 0
      },
      "text/plain": [
       "Map:   0%|          | 0/21289 [00:00<?, ? examples/s]"
      ]
     },
     "metadata": {},
     "output_type": "display_data"
    }
   ],
   "source": [
    "dataset = datasets.load_dataset('json', data_files=preprossed_dialog_file, split='train')\n",
    "dataset = dataset.map(helpers.get_CEFR_prompt,\n",
    "                      fn_kwargs={\"apply_chat_template\": tokenizer.apply_chat_template,\n",
    "                                 \"system_msg\": False})"
   ]
  },
  {
   "cell_type": "code",
   "execution_count": 20,
   "metadata": {},
   "outputs": [
    {
     "data": {
      "text/plain": [
       "Counter({'A1': 10371, 'A2': 6395, 'B2': 1150, 'B1': 3065, 'C2': 35, 'C1': 273})"
      ]
     },
     "execution_count": 20,
     "metadata": {},
     "output_type": "execute_result"
    }
   ],
   "source": [
    "Counter(dataset['CEFR'])"
   ]
  },
  {
   "cell_type": "code",
   "execution_count": 24,
   "metadata": {},
   "outputs": [
    {
     "name": "stdout",
     "output_type": "stream",
     "text": [
      "In the summer I prefer to wear adress and use shorts.In the winter I use blose with jeans and jacket.I like black blouse, white,green, pink ... I have almost every color.\n",
      "<|begin_of_text|><|start_header_id|>system<|end_header_id|>\n",
      "\n",
      "Only output B's response using language on CEFR level A1. This level is described as: Can interact in a simple way but communication is totally dependent on repetition at a slower rate, rephrasing and repair. Can ask and answer simple questions, initiate and respond to simple statements in areas of immediate need or on very familiar topics.<|eot_id|><|start_header_id|>user<|end_header_id|>\n",
      "\n",
      "Given the dialog, write a possible next turn of B that an English learner on CEFR level A1 could produce:\n",
      "Dialog:\n",
      "A: \"Hey, what do you like to wear in the summer?\"\n",
      "B: \"In the summer I prefer to wear adress and use shorts.\"\n",
      "A: \"Adress? What's that?\"\n",
      "B: \"Yeah, you know, adress. I like it with shorts.\"\n",
      "A: \"Hmm, I'm not sure what you mean. What do you wear in the winter?\"\n",
      "B: \"In the winter I use blose with jeans and jacket.\"\n",
      "A: \"Blose? You mean blouse?\"<|eot_id|><|start_header_id|>assistant<|end_header_id|>\n",
      "\n",
      "\"Yeah, blouse! I like black blouse, white, green, pink... I have almost every color.\"<|eot_id|>\n"
     ]
    }
   ],
   "source": [
    "item = dataset[8000]\n",
    "print(item['writing'])\n",
    "print(item['text'])"
   ]
  },
  {
   "cell_type": "code",
   "execution_count": 109,
   "metadata": {},
   "outputs": [],
   "source": [
    "train_test_split = dataset.train_test_split(test_size=256 if len(dataset)>1024 else 0.2)\n",
    "train_dataset, test_dataset = train_test_split['train'], train_test_split['test']\n",
    "model_to_tune = \"meta-llama/Meta-Llama-3-8B-Instruct\"\n",
    "output_dir = f'{checkpoint_dir}CEFR_dialogs'"
   ]
  },
  {
   "cell_type": "markdown",
   "metadata": {},
   "source": [
    "## Alternative: Fine-tune on CEFR texts directly"
   ]
  },
  {
   "cell_type": "code",
   "execution_count": 9,
   "metadata": {},
   "outputs": [],
   "source": [
    "dataset = datasets.load_dataset('json', data_files=preprossed_dataset_file, split='train')\n",
    "level=\"B2\"\n",
    "#dataset = dataset.filter(lambda item: item['CEFR']==level) # optionally only for one level\n",
    "train_test_split = dataset.train_test_split(test_size=256 if len(dataset)>1024 else 0.2)\n",
    "train_dataset, test_dataset = train_test_split['train'], train_test_split['test']\n",
    "model_to_tune = \"meta-llama/Meta-Llama-3-8B\"\n",
    "output_dir = f'{checkpoint_dir}CEFR_{level}'"
   ]
  },
  {
   "cell_type": "markdown",
   "metadata": {},
   "source": [
    "## Fine-tuning procedure"
   ]
  },
  {
   "cell_type": "code",
   "execution_count": 2,
   "metadata": {},
   "outputs": [
    {
     "ename": "NameError",
     "evalue": "name 'model_to_tune' is not defined",
     "output_type": "error",
     "traceback": [
      "\u001b[0;31m---------------------------------------------------------------------------\u001b[0m",
      "\u001b[0;31mNameError\u001b[0m                                 Traceback (most recent call last)",
      "Cell \u001b[0;32mIn[2], line 1\u001b[0m\n\u001b[0;32m----> 1\u001b[0m model, tokenizer \u001b[38;5;241m=\u001b[39m models\u001b[38;5;241m.\u001b[39mload_generator(\u001b[43mmodel_to_tune\u001b[49m)\n",
      "\u001b[0;31mNameError\u001b[0m: name 'model_to_tune' is not defined"
     ]
    }
   ],
   "source": [
    "model, tokenizer = models.load_generator(model_to_tune)"
   ]
  },
  {
   "cell_type": "code",
   "execution_count": 15,
   "metadata": {},
   "outputs": [],
   "source": [
    "peft_config = LoraConfig(\n",
    "    lora_alpha=16,\n",
    "    lora_dropout=0.1,\n",
    "    r=64,\n",
    "    bias=\"none\",\n",
    "    task_type=\"CAUSAL_LM\"\n",
    ")"
   ]
  },
  {
   "cell_type": "code",
   "execution_count": 8,
   "metadata": {},
   "outputs": [],
   "source": [
    "max_epochs = 1\n",
    "batch_size = 1\n",
    "grad_acc_steps = 4 // batch_size\n",
    "\n",
    "training_arguments = TrainingArguments(\n",
    "    output_dir=output_dir,\n",
    "    num_train_epochs=1,\n",
    "    per_device_train_batch_size=batch_size,\n",
    "    gradient_accumulation_steps=grad_acc_steps,\n",
    "    optim=\"paged_adamw_32bit\",\n",
    "    logging_steps=10,\n",
    "    learning_rate=1e-4,\n",
    "    weight_decay=0.001,\n",
    "    fp16=False,\n",
    "    bf16=False,\n",
    "    max_grad_norm=0.3,\n",
    "    warmup_ratio=0.03,\n",
    "    group_by_length=True,\n",
    "    lr_scheduler_type=\"constant\",\n",
    "    report_to=\"wandb\",\n",
    "    run_name=\"gctg\",\n",
    "    load_best_model_at_end=True,\n",
    "    evaluation_strategy=\"steps\",\n",
    "    eval_steps=25,\n",
    "    per_device_eval_batch_size=batch_size,\n",
    "    save_strategy=\"steps\",\n",
    "    save_steps=25,\n",
    "    save_total_limit=3,\n",
    "    save_only_model=True,\n",
    "    #metric_for_best_model=\"eval_test_constraint\",\n",
    "    #greater_is_better=True,\n",
    "    eval_accumulation_steps=1\n",
    ")"
   ]
  },
  {
   "cell_type": "code",
   "execution_count": 9,
   "metadata": {},
   "outputs": [
    {
     "data": {
      "application/vnd.jupyter.widget-view+json": {
       "model_id": "a80313b3675e4ef0aa3c58555ce2c1b1",
       "version_major": 2,
       "version_minor": 0
      },
      "text/plain": [
       "Generating train split: 0 examples [00:00, ? examples/s]"
      ]
     },
     "metadata": {},
     "output_type": "display_data"
    },
    {
     "data": {
      "application/vnd.jupyter.widget-view+json": {
       "model_id": "d62f46e50ef846a7876d6ee2816f1c20",
       "version_major": 2,
       "version_minor": 0
      },
      "text/plain": [
       "Generating train split: 0 examples [00:00, ? examples/s]"
      ]
     },
     "metadata": {},
     "output_type": "display_data"
    },
    {
     "name": "stderr",
     "output_type": "stream",
     "text": [
      "/cluster/home/dglandorf/gctg/lib64/python3.11/site-packages/accelerate/accelerator.py:432: FutureWarning: Passing the following arguments to `Accelerator` is deprecated and will be removed in version 1.0 of Accelerate: dict_keys(['dispatch_batches', 'split_batches', 'even_batches', 'use_seedable_sampler']). Please pass an `accelerate.DataLoaderConfiguration` instead: \n",
      "dataloader_config = DataLoaderConfiguration(dispatch_batches=None, split_batches=False, even_batches=True, use_seedable_sampler=True)\n",
      "  warnings.warn(\n",
      "Detected kernel version 3.10.0, which is below the recommended minimum of 5.5.0; this can cause the process to hang. It is recommended to upgrade the kernel to the minimum version or higher.\n"
     ]
    }
   ],
   "source": [
    "#train_subset = datasets.Dataset.from_dict(train_dataset[0:100000])\n",
    "#eval_dataset = datasets.Dataset.from_dict(test_dataset[0:64])\n",
    "trainer = SFTTrainer(\n",
    "    model=model,\n",
    "    tokenizer=tokenizer,\n",
    "    train_dataset=train_dataset,\n",
    "    eval_dataset=test_dataset,\n",
    "    peft_config=peft_config,\n",
    "    dataset_text_field=\"text\",\n",
    "    max_seq_length=512,\n",
    "    args=training_arguments,\n",
    "    packing=True if not \"Instruct\" in model_to_tune,\n",
    "    data_collator=DataCollatorForCompletionOnlyLM(\"<|start_header_id|>assistant<|end_header_id|>\", tokenizer=tokenizer) if \"Instruct\" in model_to_tune else None,\n",
    ")"
   ]
  },
  {
   "cell_type": "code",
   "execution_count": 10,
   "metadata": {
    "scrolled": true
   },
   "outputs": [
    {
     "name": "stderr",
     "output_type": "stream",
     "text": [
      "Failed to detect the name of this notebook, you can set it manually with the WANDB_NOTEBOOK_NAME environment variable to enable code saving.\n",
      "\u001b[34m\u001b[1mwandb\u001b[0m: Currently logged in as: \u001b[33mdo-gl\u001b[0m (\u001b[33mdomgla\u001b[0m). Use \u001b[1m`wandb login --relogin`\u001b[0m to force relogin\n"
     ]
    },
    {
     "data": {
      "text/html": [
       "wandb version 0.17.0 is available!  To upgrade, please run:\n",
       " $ pip install wandb --upgrade"
      ],
      "text/plain": [
       "<IPython.core.display.HTML object>"
      ]
     },
     "metadata": {},
     "output_type": "display_data"
    },
    {
     "data": {
      "text/html": [
       "Tracking run with wandb version 0.14.2"
      ],
      "text/plain": [
       "<IPython.core.display.HTML object>"
      ]
     },
     "metadata": {},
     "output_type": "display_data"
    },
    {
     "data": {
      "text/html": [
       "Run data is saved locally in <code>/cluster/home/dglandorf/grammarctg/experiments/wandb/run-20240528_173425-tcceexyt</code>"
      ],
      "text/plain": [
       "<IPython.core.display.HTML object>"
      ]
     },
     "metadata": {},
     "output_type": "display_data"
    },
    {
     "data": {
      "text/html": [
       "Syncing run <strong><a href='https://wandb.ai/domgla/huggingface/runs/tcceexyt' target=\"_blank\">gctg</a></strong> to <a href='https://wandb.ai/domgla/huggingface' target=\"_blank\">Weights & Biases</a> (<a href='https://wandb.me/run' target=\"_blank\">docs</a>)<br/>"
      ],
      "text/plain": [
       "<IPython.core.display.HTML object>"
      ]
     },
     "metadata": {},
     "output_type": "display_data"
    },
    {
     "data": {
      "text/html": [
       " View project at <a href='https://wandb.ai/domgla/huggingface' target=\"_blank\">https://wandb.ai/domgla/huggingface</a>"
      ],
      "text/plain": [
       "<IPython.core.display.HTML object>"
      ]
     },
     "metadata": {},
     "output_type": "display_data"
    },
    {
     "data": {
      "text/html": [
       " View run at <a href='https://wandb.ai/domgla/huggingface/runs/tcceexyt' target=\"_blank\">https://wandb.ai/domgla/huggingface/runs/tcceexyt</a>"
      ],
      "text/plain": [
       "<IPython.core.display.HTML object>"
      ]
     },
     "metadata": {},
     "output_type": "display_data"
    },
    {
     "data": {
      "text/html": [
       "\n",
       "    <div>\n",
       "      \n",
       "      <progress value='280' max='4807' style='width:300px; height:20px; vertical-align: middle;'></progress>\n",
       "      [ 280/4807 23:37 < 6:24:50, 0.20 it/s, Epoch 0.06/1]\n",
       "    </div>\n",
       "    <table border=\"1\" class=\"dataframe\">\n",
       "  <thead>\n",
       " <tr style=\"text-align: left;\">\n",
       "      <th>Step</th>\n",
       "      <th>Training Loss</th>\n",
       "      <th>Validation Loss</th>\n",
       "    </tr>\n",
       "  </thead>\n",
       "  <tbody>\n",
       "    <tr>\n",
       "      <td>25</td>\n",
       "      <td>2.997300</td>\n",
       "      <td>2.943759</td>\n",
       "    </tr>\n",
       "    <tr>\n",
       "      <td>50</td>\n",
       "      <td>2.765800</td>\n",
       "      <td>2.889825</td>\n",
       "    </tr>\n",
       "    <tr>\n",
       "      <td>75</td>\n",
       "      <td>2.780800</td>\n",
       "      <td>2.853077</td>\n",
       "    </tr>\n",
       "    <tr>\n",
       "      <td>100</td>\n",
       "      <td>2.757000</td>\n",
       "      <td>2.797309</td>\n",
       "    </tr>\n",
       "    <tr>\n",
       "      <td>125</td>\n",
       "      <td>2.778600</td>\n",
       "      <td>2.770574</td>\n",
       "    </tr>\n",
       "    <tr>\n",
       "      <td>150</td>\n",
       "      <td>2.649000</td>\n",
       "      <td>2.751113</td>\n",
       "    </tr>\n",
       "    <tr>\n",
       "      <td>175</td>\n",
       "      <td>2.631000</td>\n",
       "      <td>2.734101</td>\n",
       "    </tr>\n",
       "    <tr>\n",
       "      <td>200</td>\n",
       "      <td>2.580700</td>\n",
       "      <td>2.721258</td>\n",
       "    </tr>\n",
       "    <tr>\n",
       "      <td>225</td>\n",
       "      <td>2.613600</td>\n",
       "      <td>2.711160</td>\n",
       "    </tr>\n",
       "    <tr>\n",
       "      <td>250</td>\n",
       "      <td>2.693200</td>\n",
       "      <td>2.706330</td>\n",
       "    </tr>\n",
       "    <tr>\n",
       "      <td>275</td>\n",
       "      <td>2.657000</td>\n",
       "      <td>2.698490</td>\n",
       "    </tr>\n",
       "  </tbody>\n",
       "</table><p>"
      ],
      "text/plain": [
       "<IPython.core.display.HTML object>"
      ]
     },
     "metadata": {},
     "output_type": "display_data"
    },
    {
     "ename": "KeyboardInterrupt",
     "evalue": "",
     "output_type": "error",
     "traceback": [
      "\u001b[0;31m---------------------------------------------------------------------------\u001b[0m",
      "\u001b[0;31mKeyboardInterrupt\u001b[0m                         Traceback (most recent call last)",
      "Cell \u001b[0;32mIn[10], line 1\u001b[0m\n\u001b[0;32m----> 1\u001b[0m \u001b[43mtrainer\u001b[49m\u001b[38;5;241;43m.\u001b[39;49m\u001b[43mtrain\u001b[49m\u001b[43m(\u001b[49m\u001b[43m)\u001b[49m\u001b[38;5;66;03m#f\"{output_dir}/checkpoint-550\")\u001b[39;00m\n",
      "File \u001b[0;32m~/gctg/lib64/python3.11/site-packages/trl/trainer/sft_trainer.py:360\u001b[0m, in \u001b[0;36mSFTTrainer.train\u001b[0;34m(self, *args, **kwargs)\u001b[0m\n\u001b[1;32m    357\u001b[0m \u001b[38;5;28;01mif\u001b[39;00m \u001b[38;5;28mself\u001b[39m\u001b[38;5;241m.\u001b[39mneftune_noise_alpha \u001b[38;5;129;01mis\u001b[39;00m \u001b[38;5;129;01mnot\u001b[39;00m \u001b[38;5;28;01mNone\u001b[39;00m \u001b[38;5;129;01mand\u001b[39;00m \u001b[38;5;129;01mnot\u001b[39;00m \u001b[38;5;28mself\u001b[39m\u001b[38;5;241m.\u001b[39m_trainer_supports_neftune:\n\u001b[1;32m    358\u001b[0m     \u001b[38;5;28mself\u001b[39m\u001b[38;5;241m.\u001b[39mmodel \u001b[38;5;241m=\u001b[39m \u001b[38;5;28mself\u001b[39m\u001b[38;5;241m.\u001b[39m_trl_activate_neftune(\u001b[38;5;28mself\u001b[39m\u001b[38;5;241m.\u001b[39mmodel)\n\u001b[0;32m--> 360\u001b[0m output \u001b[38;5;241m=\u001b[39m \u001b[38;5;28;43msuper\u001b[39;49m\u001b[43m(\u001b[49m\u001b[43m)\u001b[49m\u001b[38;5;241;43m.\u001b[39;49m\u001b[43mtrain\u001b[49m\u001b[43m(\u001b[49m\u001b[38;5;241;43m*\u001b[39;49m\u001b[43margs\u001b[49m\u001b[43m,\u001b[49m\u001b[43m \u001b[49m\u001b[38;5;241;43m*\u001b[39;49m\u001b[38;5;241;43m*\u001b[39;49m\u001b[43mkwargs\u001b[49m\u001b[43m)\u001b[49m\n\u001b[1;32m    362\u001b[0m \u001b[38;5;66;03m# After training we make sure to retrieve back the original forward pass method\u001b[39;00m\n\u001b[1;32m    363\u001b[0m \u001b[38;5;66;03m# for the embedding layer by removing the forward post hook.\u001b[39;00m\n\u001b[1;32m    364\u001b[0m \u001b[38;5;28;01mif\u001b[39;00m \u001b[38;5;28mself\u001b[39m\u001b[38;5;241m.\u001b[39mneftune_noise_alpha \u001b[38;5;129;01mis\u001b[39;00m \u001b[38;5;129;01mnot\u001b[39;00m \u001b[38;5;28;01mNone\u001b[39;00m \u001b[38;5;129;01mand\u001b[39;00m \u001b[38;5;129;01mnot\u001b[39;00m \u001b[38;5;28mself\u001b[39m\u001b[38;5;241m.\u001b[39m_trainer_supports_neftune:\n",
      "File \u001b[0;32m~/gctg/lib64/python3.11/site-packages/transformers/trainer.py:1780\u001b[0m, in \u001b[0;36mTrainer.train\u001b[0;34m(self, resume_from_checkpoint, trial, ignore_keys_for_eval, **kwargs)\u001b[0m\n\u001b[1;32m   1778\u001b[0m         hf_hub_utils\u001b[38;5;241m.\u001b[39menable_progress_bars()\n\u001b[1;32m   1779\u001b[0m \u001b[38;5;28;01melse\u001b[39;00m:\n\u001b[0;32m-> 1780\u001b[0m     \u001b[38;5;28;01mreturn\u001b[39;00m \u001b[43minner_training_loop\u001b[49m\u001b[43m(\u001b[49m\n\u001b[1;32m   1781\u001b[0m \u001b[43m        \u001b[49m\u001b[43margs\u001b[49m\u001b[38;5;241;43m=\u001b[39;49m\u001b[43margs\u001b[49m\u001b[43m,\u001b[49m\n\u001b[1;32m   1782\u001b[0m \u001b[43m        \u001b[49m\u001b[43mresume_from_checkpoint\u001b[49m\u001b[38;5;241;43m=\u001b[39;49m\u001b[43mresume_from_checkpoint\u001b[49m\u001b[43m,\u001b[49m\n\u001b[1;32m   1783\u001b[0m \u001b[43m        \u001b[49m\u001b[43mtrial\u001b[49m\u001b[38;5;241;43m=\u001b[39;49m\u001b[43mtrial\u001b[49m\u001b[43m,\u001b[49m\n\u001b[1;32m   1784\u001b[0m \u001b[43m        \u001b[49m\u001b[43mignore_keys_for_eval\u001b[49m\u001b[38;5;241;43m=\u001b[39;49m\u001b[43mignore_keys_for_eval\u001b[49m\u001b[43m,\u001b[49m\n\u001b[1;32m   1785\u001b[0m \u001b[43m    \u001b[49m\u001b[43m)\u001b[49m\n",
      "File \u001b[0;32m~/gctg/lib64/python3.11/site-packages/transformers/trainer.py:2118\u001b[0m, in \u001b[0;36mTrainer._inner_training_loop\u001b[0;34m(self, batch_size, args, resume_from_checkpoint, trial, ignore_keys_for_eval)\u001b[0m\n\u001b[1;32m   2115\u001b[0m     \u001b[38;5;28mself\u001b[39m\u001b[38;5;241m.\u001b[39mcontrol \u001b[38;5;241m=\u001b[39m \u001b[38;5;28mself\u001b[39m\u001b[38;5;241m.\u001b[39mcallback_handler\u001b[38;5;241m.\u001b[39mon_step_begin(args, \u001b[38;5;28mself\u001b[39m\u001b[38;5;241m.\u001b[39mstate, \u001b[38;5;28mself\u001b[39m\u001b[38;5;241m.\u001b[39mcontrol)\n\u001b[1;32m   2117\u001b[0m \u001b[38;5;28;01mwith\u001b[39;00m \u001b[38;5;28mself\u001b[39m\u001b[38;5;241m.\u001b[39maccelerator\u001b[38;5;241m.\u001b[39maccumulate(model):\n\u001b[0;32m-> 2118\u001b[0m     tr_loss_step \u001b[38;5;241m=\u001b[39m \u001b[38;5;28;43mself\u001b[39;49m\u001b[38;5;241;43m.\u001b[39;49m\u001b[43mtraining_step\u001b[49m\u001b[43m(\u001b[49m\u001b[43mmodel\u001b[49m\u001b[43m,\u001b[49m\u001b[43m \u001b[49m\u001b[43minputs\u001b[49m\u001b[43m)\u001b[49m\n\u001b[1;32m   2120\u001b[0m \u001b[38;5;28;01mif\u001b[39;00m (\n\u001b[1;32m   2121\u001b[0m     args\u001b[38;5;241m.\u001b[39mlogging_nan_inf_filter\n\u001b[1;32m   2122\u001b[0m     \u001b[38;5;129;01mand\u001b[39;00m \u001b[38;5;129;01mnot\u001b[39;00m is_torch_xla_available()\n\u001b[1;32m   2123\u001b[0m     \u001b[38;5;129;01mand\u001b[39;00m (torch\u001b[38;5;241m.\u001b[39misnan(tr_loss_step) \u001b[38;5;129;01mor\u001b[39;00m torch\u001b[38;5;241m.\u001b[39misinf(tr_loss_step))\n\u001b[1;32m   2124\u001b[0m ):\n\u001b[1;32m   2125\u001b[0m     \u001b[38;5;66;03m# if loss is nan or inf simply add the average of previous logged losses\u001b[39;00m\n\u001b[1;32m   2126\u001b[0m     tr_loss \u001b[38;5;241m+\u001b[39m\u001b[38;5;241m=\u001b[39m tr_loss \u001b[38;5;241m/\u001b[39m (\u001b[38;5;241m1\u001b[39m \u001b[38;5;241m+\u001b[39m \u001b[38;5;28mself\u001b[39m\u001b[38;5;241m.\u001b[39mstate\u001b[38;5;241m.\u001b[39mglobal_step \u001b[38;5;241m-\u001b[39m \u001b[38;5;28mself\u001b[39m\u001b[38;5;241m.\u001b[39m_globalstep_last_logged)\n",
      "File \u001b[0;32m~/gctg/lib64/python3.11/site-packages/transformers/trainer.py:3036\u001b[0m, in \u001b[0;36mTrainer.training_step\u001b[0;34m(self, model, inputs)\u001b[0m\n\u001b[1;32m   3033\u001b[0m     \u001b[38;5;28;01mreturn\u001b[39;00m loss_mb\u001b[38;5;241m.\u001b[39mreduce_mean()\u001b[38;5;241m.\u001b[39mdetach()\u001b[38;5;241m.\u001b[39mto(\u001b[38;5;28mself\u001b[39m\u001b[38;5;241m.\u001b[39margs\u001b[38;5;241m.\u001b[39mdevice)\n\u001b[1;32m   3035\u001b[0m \u001b[38;5;28;01mwith\u001b[39;00m \u001b[38;5;28mself\u001b[39m\u001b[38;5;241m.\u001b[39mcompute_loss_context_manager():\n\u001b[0;32m-> 3036\u001b[0m     loss \u001b[38;5;241m=\u001b[39m \u001b[38;5;28;43mself\u001b[39;49m\u001b[38;5;241;43m.\u001b[39;49m\u001b[43mcompute_loss\u001b[49m\u001b[43m(\u001b[49m\u001b[43mmodel\u001b[49m\u001b[43m,\u001b[49m\u001b[43m \u001b[49m\u001b[43minputs\u001b[49m\u001b[43m)\u001b[49m\n\u001b[1;32m   3038\u001b[0m \u001b[38;5;28;01mif\u001b[39;00m \u001b[38;5;28mself\u001b[39m\u001b[38;5;241m.\u001b[39margs\u001b[38;5;241m.\u001b[39mn_gpu \u001b[38;5;241m>\u001b[39m \u001b[38;5;241m1\u001b[39m:\n\u001b[1;32m   3039\u001b[0m     loss \u001b[38;5;241m=\u001b[39m loss\u001b[38;5;241m.\u001b[39mmean()  \u001b[38;5;66;03m# mean() to average on multi-gpu parallel training\u001b[39;00m\n",
      "File \u001b[0;32m~/gctg/lib64/python3.11/site-packages/transformers/trainer.py:3059\u001b[0m, in \u001b[0;36mTrainer.compute_loss\u001b[0;34m(self, model, inputs, return_outputs)\u001b[0m\n\u001b[1;32m   3057\u001b[0m \u001b[38;5;28;01melse\u001b[39;00m:\n\u001b[1;32m   3058\u001b[0m     labels \u001b[38;5;241m=\u001b[39m \u001b[38;5;28;01mNone\u001b[39;00m\n\u001b[0;32m-> 3059\u001b[0m outputs \u001b[38;5;241m=\u001b[39m \u001b[43mmodel\u001b[49m\u001b[43m(\u001b[49m\u001b[38;5;241;43m*\u001b[39;49m\u001b[38;5;241;43m*\u001b[39;49m\u001b[43minputs\u001b[49m\u001b[43m)\u001b[49m\n\u001b[1;32m   3060\u001b[0m \u001b[38;5;66;03m# Save past state if it exists\u001b[39;00m\n\u001b[1;32m   3061\u001b[0m \u001b[38;5;66;03m# TODO: this needs to be fixed and made cleaner later.\u001b[39;00m\n\u001b[1;32m   3062\u001b[0m \u001b[38;5;28;01mif\u001b[39;00m \u001b[38;5;28mself\u001b[39m\u001b[38;5;241m.\u001b[39margs\u001b[38;5;241m.\u001b[39mpast_index \u001b[38;5;241m>\u001b[39m\u001b[38;5;241m=\u001b[39m \u001b[38;5;241m0\u001b[39m:\n",
      "File \u001b[0;32m~/gctg/lib64/python3.11/site-packages/torch/nn/modules/module.py:1511\u001b[0m, in \u001b[0;36mModule._wrapped_call_impl\u001b[0;34m(self, *args, **kwargs)\u001b[0m\n\u001b[1;32m   1509\u001b[0m     \u001b[38;5;28;01mreturn\u001b[39;00m \u001b[38;5;28mself\u001b[39m\u001b[38;5;241m.\u001b[39m_compiled_call_impl(\u001b[38;5;241m*\u001b[39margs, \u001b[38;5;241m*\u001b[39m\u001b[38;5;241m*\u001b[39mkwargs)  \u001b[38;5;66;03m# type: ignore[misc]\u001b[39;00m\n\u001b[1;32m   1510\u001b[0m \u001b[38;5;28;01melse\u001b[39;00m:\n\u001b[0;32m-> 1511\u001b[0m     \u001b[38;5;28;01mreturn\u001b[39;00m \u001b[38;5;28;43mself\u001b[39;49m\u001b[38;5;241;43m.\u001b[39;49m\u001b[43m_call_impl\u001b[49m\u001b[43m(\u001b[49m\u001b[38;5;241;43m*\u001b[39;49m\u001b[43margs\u001b[49m\u001b[43m,\u001b[49m\u001b[43m \u001b[49m\u001b[38;5;241;43m*\u001b[39;49m\u001b[38;5;241;43m*\u001b[39;49m\u001b[43mkwargs\u001b[49m\u001b[43m)\u001b[49m\n",
      "File \u001b[0;32m~/gctg/lib64/python3.11/site-packages/torch/nn/modules/module.py:1520\u001b[0m, in \u001b[0;36mModule._call_impl\u001b[0;34m(self, *args, **kwargs)\u001b[0m\n\u001b[1;32m   1515\u001b[0m \u001b[38;5;66;03m# If we don't have any hooks, we want to skip the rest of the logic in\u001b[39;00m\n\u001b[1;32m   1516\u001b[0m \u001b[38;5;66;03m# this function, and just call forward.\u001b[39;00m\n\u001b[1;32m   1517\u001b[0m \u001b[38;5;28;01mif\u001b[39;00m \u001b[38;5;129;01mnot\u001b[39;00m (\u001b[38;5;28mself\u001b[39m\u001b[38;5;241m.\u001b[39m_backward_hooks \u001b[38;5;129;01mor\u001b[39;00m \u001b[38;5;28mself\u001b[39m\u001b[38;5;241m.\u001b[39m_backward_pre_hooks \u001b[38;5;129;01mor\u001b[39;00m \u001b[38;5;28mself\u001b[39m\u001b[38;5;241m.\u001b[39m_forward_hooks \u001b[38;5;129;01mor\u001b[39;00m \u001b[38;5;28mself\u001b[39m\u001b[38;5;241m.\u001b[39m_forward_pre_hooks\n\u001b[1;32m   1518\u001b[0m         \u001b[38;5;129;01mor\u001b[39;00m _global_backward_pre_hooks \u001b[38;5;129;01mor\u001b[39;00m _global_backward_hooks\n\u001b[1;32m   1519\u001b[0m         \u001b[38;5;129;01mor\u001b[39;00m _global_forward_hooks \u001b[38;5;129;01mor\u001b[39;00m _global_forward_pre_hooks):\n\u001b[0;32m-> 1520\u001b[0m     \u001b[38;5;28;01mreturn\u001b[39;00m \u001b[43mforward_call\u001b[49m\u001b[43m(\u001b[49m\u001b[38;5;241;43m*\u001b[39;49m\u001b[43margs\u001b[49m\u001b[43m,\u001b[49m\u001b[43m \u001b[49m\u001b[38;5;241;43m*\u001b[39;49m\u001b[38;5;241;43m*\u001b[39;49m\u001b[43mkwargs\u001b[49m\u001b[43m)\u001b[49m\n\u001b[1;32m   1522\u001b[0m \u001b[38;5;28;01mtry\u001b[39;00m:\n\u001b[1;32m   1523\u001b[0m     result \u001b[38;5;241m=\u001b[39m \u001b[38;5;28;01mNone\u001b[39;00m\n",
      "File \u001b[0;32m~/gctg/lib64/python3.11/site-packages/peft/peft_model.py:1129\u001b[0m, in \u001b[0;36mPeftModelForCausalLM.forward\u001b[0;34m(self, input_ids, attention_mask, inputs_embeds, labels, output_attentions, output_hidden_states, return_dict, task_ids, **kwargs)\u001b[0m\n\u001b[1;32m   1127\u001b[0m     \u001b[38;5;28;01mwith\u001b[39;00m \u001b[38;5;28mself\u001b[39m\u001b[38;5;241m.\u001b[39m_enable_peft_forward_hooks(\u001b[38;5;241m*\u001b[39m\u001b[38;5;241m*\u001b[39mkwargs):\n\u001b[1;32m   1128\u001b[0m         kwargs \u001b[38;5;241m=\u001b[39m {k: v \u001b[38;5;28;01mfor\u001b[39;00m k, v \u001b[38;5;129;01min\u001b[39;00m kwargs\u001b[38;5;241m.\u001b[39mitems() \u001b[38;5;28;01mif\u001b[39;00m k \u001b[38;5;129;01mnot\u001b[39;00m \u001b[38;5;129;01min\u001b[39;00m \u001b[38;5;28mself\u001b[39m\u001b[38;5;241m.\u001b[39mspecial_peft_forward_args}\n\u001b[0;32m-> 1129\u001b[0m         \u001b[38;5;28;01mreturn\u001b[39;00m \u001b[38;5;28;43mself\u001b[39;49m\u001b[38;5;241;43m.\u001b[39;49m\u001b[43mbase_model\u001b[49m\u001b[43m(\u001b[49m\n\u001b[1;32m   1130\u001b[0m \u001b[43m            \u001b[49m\u001b[43minput_ids\u001b[49m\u001b[38;5;241;43m=\u001b[39;49m\u001b[43minput_ids\u001b[49m\u001b[43m,\u001b[49m\n\u001b[1;32m   1131\u001b[0m \u001b[43m            \u001b[49m\u001b[43mattention_mask\u001b[49m\u001b[38;5;241;43m=\u001b[39;49m\u001b[43mattention_mask\u001b[49m\u001b[43m,\u001b[49m\n\u001b[1;32m   1132\u001b[0m \u001b[43m            \u001b[49m\u001b[43minputs_embeds\u001b[49m\u001b[38;5;241;43m=\u001b[39;49m\u001b[43minputs_embeds\u001b[49m\u001b[43m,\u001b[49m\n\u001b[1;32m   1133\u001b[0m \u001b[43m            \u001b[49m\u001b[43mlabels\u001b[49m\u001b[38;5;241;43m=\u001b[39;49m\u001b[43mlabels\u001b[49m\u001b[43m,\u001b[49m\n\u001b[1;32m   1134\u001b[0m \u001b[43m            \u001b[49m\u001b[43moutput_attentions\u001b[49m\u001b[38;5;241;43m=\u001b[39;49m\u001b[43moutput_attentions\u001b[49m\u001b[43m,\u001b[49m\n\u001b[1;32m   1135\u001b[0m \u001b[43m            \u001b[49m\u001b[43moutput_hidden_states\u001b[49m\u001b[38;5;241;43m=\u001b[39;49m\u001b[43moutput_hidden_states\u001b[49m\u001b[43m,\u001b[49m\n\u001b[1;32m   1136\u001b[0m \u001b[43m            \u001b[49m\u001b[43mreturn_dict\u001b[49m\u001b[38;5;241;43m=\u001b[39;49m\u001b[43mreturn_dict\u001b[49m\u001b[43m,\u001b[49m\n\u001b[1;32m   1137\u001b[0m \u001b[43m            \u001b[49m\u001b[38;5;241;43m*\u001b[39;49m\u001b[38;5;241;43m*\u001b[39;49m\u001b[43mkwargs\u001b[49m\u001b[43m,\u001b[49m\n\u001b[1;32m   1138\u001b[0m \u001b[43m        \u001b[49m\u001b[43m)\u001b[49m\n\u001b[1;32m   1140\u001b[0m batch_size \u001b[38;5;241m=\u001b[39m _get_batch_size(input_ids, inputs_embeds)\n\u001b[1;32m   1141\u001b[0m \u001b[38;5;28;01mif\u001b[39;00m attention_mask \u001b[38;5;129;01mis\u001b[39;00m \u001b[38;5;129;01mnot\u001b[39;00m \u001b[38;5;28;01mNone\u001b[39;00m:\n\u001b[1;32m   1142\u001b[0m     \u001b[38;5;66;03m# concat prompt attention mask\u001b[39;00m\n",
      "File \u001b[0;32m~/gctg/lib64/python3.11/site-packages/torch/nn/modules/module.py:1511\u001b[0m, in \u001b[0;36mModule._wrapped_call_impl\u001b[0;34m(self, *args, **kwargs)\u001b[0m\n\u001b[1;32m   1509\u001b[0m     \u001b[38;5;28;01mreturn\u001b[39;00m \u001b[38;5;28mself\u001b[39m\u001b[38;5;241m.\u001b[39m_compiled_call_impl(\u001b[38;5;241m*\u001b[39margs, \u001b[38;5;241m*\u001b[39m\u001b[38;5;241m*\u001b[39mkwargs)  \u001b[38;5;66;03m# type: ignore[misc]\u001b[39;00m\n\u001b[1;32m   1510\u001b[0m \u001b[38;5;28;01melse\u001b[39;00m:\n\u001b[0;32m-> 1511\u001b[0m     \u001b[38;5;28;01mreturn\u001b[39;00m \u001b[38;5;28;43mself\u001b[39;49m\u001b[38;5;241;43m.\u001b[39;49m\u001b[43m_call_impl\u001b[49m\u001b[43m(\u001b[49m\u001b[38;5;241;43m*\u001b[39;49m\u001b[43margs\u001b[49m\u001b[43m,\u001b[49m\u001b[43m \u001b[49m\u001b[38;5;241;43m*\u001b[39;49m\u001b[38;5;241;43m*\u001b[39;49m\u001b[43mkwargs\u001b[49m\u001b[43m)\u001b[49m\n",
      "File \u001b[0;32m~/gctg/lib64/python3.11/site-packages/torch/nn/modules/module.py:1520\u001b[0m, in \u001b[0;36mModule._call_impl\u001b[0;34m(self, *args, **kwargs)\u001b[0m\n\u001b[1;32m   1515\u001b[0m \u001b[38;5;66;03m# If we don't have any hooks, we want to skip the rest of the logic in\u001b[39;00m\n\u001b[1;32m   1516\u001b[0m \u001b[38;5;66;03m# this function, and just call forward.\u001b[39;00m\n\u001b[1;32m   1517\u001b[0m \u001b[38;5;28;01mif\u001b[39;00m \u001b[38;5;129;01mnot\u001b[39;00m (\u001b[38;5;28mself\u001b[39m\u001b[38;5;241m.\u001b[39m_backward_hooks \u001b[38;5;129;01mor\u001b[39;00m \u001b[38;5;28mself\u001b[39m\u001b[38;5;241m.\u001b[39m_backward_pre_hooks \u001b[38;5;129;01mor\u001b[39;00m \u001b[38;5;28mself\u001b[39m\u001b[38;5;241m.\u001b[39m_forward_hooks \u001b[38;5;129;01mor\u001b[39;00m \u001b[38;5;28mself\u001b[39m\u001b[38;5;241m.\u001b[39m_forward_pre_hooks\n\u001b[1;32m   1518\u001b[0m         \u001b[38;5;129;01mor\u001b[39;00m _global_backward_pre_hooks \u001b[38;5;129;01mor\u001b[39;00m _global_backward_hooks\n\u001b[1;32m   1519\u001b[0m         \u001b[38;5;129;01mor\u001b[39;00m _global_forward_hooks \u001b[38;5;129;01mor\u001b[39;00m _global_forward_pre_hooks):\n\u001b[0;32m-> 1520\u001b[0m     \u001b[38;5;28;01mreturn\u001b[39;00m \u001b[43mforward_call\u001b[49m\u001b[43m(\u001b[49m\u001b[38;5;241;43m*\u001b[39;49m\u001b[43margs\u001b[49m\u001b[43m,\u001b[49m\u001b[43m \u001b[49m\u001b[38;5;241;43m*\u001b[39;49m\u001b[38;5;241;43m*\u001b[39;49m\u001b[43mkwargs\u001b[49m\u001b[43m)\u001b[49m\n\u001b[1;32m   1522\u001b[0m \u001b[38;5;28;01mtry\u001b[39;00m:\n\u001b[1;32m   1523\u001b[0m     result \u001b[38;5;241m=\u001b[39m \u001b[38;5;28;01mNone\u001b[39;00m\n",
      "File \u001b[0;32m~/gctg/lib64/python3.11/site-packages/peft/tuners/tuners_utils.py:161\u001b[0m, in \u001b[0;36mBaseTuner.forward\u001b[0;34m(self, *args, **kwargs)\u001b[0m\n\u001b[1;32m    160\u001b[0m \u001b[38;5;28;01mdef\u001b[39;00m \u001b[38;5;21mforward\u001b[39m(\u001b[38;5;28mself\u001b[39m, \u001b[38;5;241m*\u001b[39margs: Any, \u001b[38;5;241m*\u001b[39m\u001b[38;5;241m*\u001b[39mkwargs: Any):\n\u001b[0;32m--> 161\u001b[0m     \u001b[38;5;28;01mreturn\u001b[39;00m \u001b[38;5;28;43mself\u001b[39;49m\u001b[38;5;241;43m.\u001b[39;49m\u001b[43mmodel\u001b[49m\u001b[38;5;241;43m.\u001b[39;49m\u001b[43mforward\u001b[49m\u001b[43m(\u001b[49m\u001b[38;5;241;43m*\u001b[39;49m\u001b[43margs\u001b[49m\u001b[43m,\u001b[49m\u001b[43m \u001b[49m\u001b[38;5;241;43m*\u001b[39;49m\u001b[38;5;241;43m*\u001b[39;49m\u001b[43mkwargs\u001b[49m\u001b[43m)\u001b[49m\n",
      "File \u001b[0;32m~/gctg/lib64/python3.11/site-packages/accelerate/hooks.py:166\u001b[0m, in \u001b[0;36madd_hook_to_module.<locals>.new_forward\u001b[0;34m(module, *args, **kwargs)\u001b[0m\n\u001b[1;32m    164\u001b[0m         output \u001b[38;5;241m=\u001b[39m module\u001b[38;5;241m.\u001b[39m_old_forward(\u001b[38;5;241m*\u001b[39margs, \u001b[38;5;241m*\u001b[39m\u001b[38;5;241m*\u001b[39mkwargs)\n\u001b[1;32m    165\u001b[0m \u001b[38;5;28;01melse\u001b[39;00m:\n\u001b[0;32m--> 166\u001b[0m     output \u001b[38;5;241m=\u001b[39m \u001b[43mmodule\u001b[49m\u001b[38;5;241;43m.\u001b[39;49m\u001b[43m_old_forward\u001b[49m\u001b[43m(\u001b[49m\u001b[38;5;241;43m*\u001b[39;49m\u001b[43margs\u001b[49m\u001b[43m,\u001b[49m\u001b[43m \u001b[49m\u001b[38;5;241;43m*\u001b[39;49m\u001b[38;5;241;43m*\u001b[39;49m\u001b[43mkwargs\u001b[49m\u001b[43m)\u001b[49m\n\u001b[1;32m    167\u001b[0m \u001b[38;5;28;01mreturn\u001b[39;00m module\u001b[38;5;241m.\u001b[39m_hf_hook\u001b[38;5;241m.\u001b[39mpost_forward(module, output)\n",
      "File \u001b[0;32m~/gctg/lib64/python3.11/site-packages/transformers/models/llama/modeling_llama.py:1196\u001b[0m, in \u001b[0;36mLlamaForCausalLM.forward\u001b[0;34m(self, input_ids, attention_mask, position_ids, past_key_values, inputs_embeds, labels, use_cache, output_attentions, output_hidden_states, return_dict, cache_position)\u001b[0m\n\u001b[1;32m   1193\u001b[0m return_dict \u001b[38;5;241m=\u001b[39m return_dict \u001b[38;5;28;01mif\u001b[39;00m return_dict \u001b[38;5;129;01mis\u001b[39;00m \u001b[38;5;129;01mnot\u001b[39;00m \u001b[38;5;28;01mNone\u001b[39;00m \u001b[38;5;28;01melse\u001b[39;00m \u001b[38;5;28mself\u001b[39m\u001b[38;5;241m.\u001b[39mconfig\u001b[38;5;241m.\u001b[39muse_return_dict\n\u001b[1;32m   1195\u001b[0m \u001b[38;5;66;03m# decoder outputs consists of (dec_features, layer_state, dec_hidden, dec_attn)\u001b[39;00m\n\u001b[0;32m-> 1196\u001b[0m outputs \u001b[38;5;241m=\u001b[39m \u001b[38;5;28;43mself\u001b[39;49m\u001b[38;5;241;43m.\u001b[39;49m\u001b[43mmodel\u001b[49m\u001b[43m(\u001b[49m\n\u001b[1;32m   1197\u001b[0m \u001b[43m    \u001b[49m\u001b[43minput_ids\u001b[49m\u001b[38;5;241;43m=\u001b[39;49m\u001b[43minput_ids\u001b[49m\u001b[43m,\u001b[49m\n\u001b[1;32m   1198\u001b[0m \u001b[43m    \u001b[49m\u001b[43mattention_mask\u001b[49m\u001b[38;5;241;43m=\u001b[39;49m\u001b[43mattention_mask\u001b[49m\u001b[43m,\u001b[49m\n\u001b[1;32m   1199\u001b[0m \u001b[43m    \u001b[49m\u001b[43mposition_ids\u001b[49m\u001b[38;5;241;43m=\u001b[39;49m\u001b[43mposition_ids\u001b[49m\u001b[43m,\u001b[49m\n\u001b[1;32m   1200\u001b[0m \u001b[43m    \u001b[49m\u001b[43mpast_key_values\u001b[49m\u001b[38;5;241;43m=\u001b[39;49m\u001b[43mpast_key_values\u001b[49m\u001b[43m,\u001b[49m\n\u001b[1;32m   1201\u001b[0m \u001b[43m    \u001b[49m\u001b[43minputs_embeds\u001b[49m\u001b[38;5;241;43m=\u001b[39;49m\u001b[43minputs_embeds\u001b[49m\u001b[43m,\u001b[49m\n\u001b[1;32m   1202\u001b[0m \u001b[43m    \u001b[49m\u001b[43muse_cache\u001b[49m\u001b[38;5;241;43m=\u001b[39;49m\u001b[43muse_cache\u001b[49m\u001b[43m,\u001b[49m\n\u001b[1;32m   1203\u001b[0m \u001b[43m    \u001b[49m\u001b[43moutput_attentions\u001b[49m\u001b[38;5;241;43m=\u001b[39;49m\u001b[43moutput_attentions\u001b[49m\u001b[43m,\u001b[49m\n\u001b[1;32m   1204\u001b[0m \u001b[43m    \u001b[49m\u001b[43moutput_hidden_states\u001b[49m\u001b[38;5;241;43m=\u001b[39;49m\u001b[43moutput_hidden_states\u001b[49m\u001b[43m,\u001b[49m\n\u001b[1;32m   1205\u001b[0m \u001b[43m    \u001b[49m\u001b[43mreturn_dict\u001b[49m\u001b[38;5;241;43m=\u001b[39;49m\u001b[43mreturn_dict\u001b[49m\u001b[43m,\u001b[49m\n\u001b[1;32m   1206\u001b[0m \u001b[43m    \u001b[49m\u001b[43mcache_position\u001b[49m\u001b[38;5;241;43m=\u001b[39;49m\u001b[43mcache_position\u001b[49m\u001b[43m,\u001b[49m\n\u001b[1;32m   1207\u001b[0m \u001b[43m\u001b[49m\u001b[43m)\u001b[49m\n\u001b[1;32m   1209\u001b[0m hidden_states \u001b[38;5;241m=\u001b[39m outputs[\u001b[38;5;241m0\u001b[39m]\n\u001b[1;32m   1210\u001b[0m \u001b[38;5;28;01mif\u001b[39;00m \u001b[38;5;28mself\u001b[39m\u001b[38;5;241m.\u001b[39mconfig\u001b[38;5;241m.\u001b[39mpretraining_tp \u001b[38;5;241m>\u001b[39m \u001b[38;5;241m1\u001b[39m:\n",
      "File \u001b[0;32m~/gctg/lib64/python3.11/site-packages/torch/nn/modules/module.py:1511\u001b[0m, in \u001b[0;36mModule._wrapped_call_impl\u001b[0;34m(self, *args, **kwargs)\u001b[0m\n\u001b[1;32m   1509\u001b[0m     \u001b[38;5;28;01mreturn\u001b[39;00m \u001b[38;5;28mself\u001b[39m\u001b[38;5;241m.\u001b[39m_compiled_call_impl(\u001b[38;5;241m*\u001b[39margs, \u001b[38;5;241m*\u001b[39m\u001b[38;5;241m*\u001b[39mkwargs)  \u001b[38;5;66;03m# type: ignore[misc]\u001b[39;00m\n\u001b[1;32m   1510\u001b[0m \u001b[38;5;28;01melse\u001b[39;00m:\n\u001b[0;32m-> 1511\u001b[0m     \u001b[38;5;28;01mreturn\u001b[39;00m \u001b[38;5;28;43mself\u001b[39;49m\u001b[38;5;241;43m.\u001b[39;49m\u001b[43m_call_impl\u001b[49m\u001b[43m(\u001b[49m\u001b[38;5;241;43m*\u001b[39;49m\u001b[43margs\u001b[49m\u001b[43m,\u001b[49m\u001b[43m \u001b[49m\u001b[38;5;241;43m*\u001b[39;49m\u001b[38;5;241;43m*\u001b[39;49m\u001b[43mkwargs\u001b[49m\u001b[43m)\u001b[49m\n",
      "File \u001b[0;32m~/gctg/lib64/python3.11/site-packages/torch/nn/modules/module.py:1520\u001b[0m, in \u001b[0;36mModule._call_impl\u001b[0;34m(self, *args, **kwargs)\u001b[0m\n\u001b[1;32m   1515\u001b[0m \u001b[38;5;66;03m# If we don't have any hooks, we want to skip the rest of the logic in\u001b[39;00m\n\u001b[1;32m   1516\u001b[0m \u001b[38;5;66;03m# this function, and just call forward.\u001b[39;00m\n\u001b[1;32m   1517\u001b[0m \u001b[38;5;28;01mif\u001b[39;00m \u001b[38;5;129;01mnot\u001b[39;00m (\u001b[38;5;28mself\u001b[39m\u001b[38;5;241m.\u001b[39m_backward_hooks \u001b[38;5;129;01mor\u001b[39;00m \u001b[38;5;28mself\u001b[39m\u001b[38;5;241m.\u001b[39m_backward_pre_hooks \u001b[38;5;129;01mor\u001b[39;00m \u001b[38;5;28mself\u001b[39m\u001b[38;5;241m.\u001b[39m_forward_hooks \u001b[38;5;129;01mor\u001b[39;00m \u001b[38;5;28mself\u001b[39m\u001b[38;5;241m.\u001b[39m_forward_pre_hooks\n\u001b[1;32m   1518\u001b[0m         \u001b[38;5;129;01mor\u001b[39;00m _global_backward_pre_hooks \u001b[38;5;129;01mor\u001b[39;00m _global_backward_hooks\n\u001b[1;32m   1519\u001b[0m         \u001b[38;5;129;01mor\u001b[39;00m _global_forward_hooks \u001b[38;5;129;01mor\u001b[39;00m _global_forward_pre_hooks):\n\u001b[0;32m-> 1520\u001b[0m     \u001b[38;5;28;01mreturn\u001b[39;00m \u001b[43mforward_call\u001b[49m\u001b[43m(\u001b[49m\u001b[38;5;241;43m*\u001b[39;49m\u001b[43margs\u001b[49m\u001b[43m,\u001b[49m\u001b[43m \u001b[49m\u001b[38;5;241;43m*\u001b[39;49m\u001b[38;5;241;43m*\u001b[39;49m\u001b[43mkwargs\u001b[49m\u001b[43m)\u001b[49m\n\u001b[1;32m   1522\u001b[0m \u001b[38;5;28;01mtry\u001b[39;00m:\n\u001b[1;32m   1523\u001b[0m     result \u001b[38;5;241m=\u001b[39m \u001b[38;5;28;01mNone\u001b[39;00m\n",
      "File \u001b[0;32m~/gctg/lib64/python3.11/site-packages/transformers/models/llama/modeling_llama.py:1016\u001b[0m, in \u001b[0;36mLlamaModel.forward\u001b[0;34m(self, input_ids, attention_mask, position_ids, past_key_values, inputs_embeds, use_cache, output_attentions, output_hidden_states, return_dict, cache_position)\u001b[0m\n\u001b[1;32m   1005\u001b[0m     layer_outputs \u001b[38;5;241m=\u001b[39m \u001b[38;5;28mself\u001b[39m\u001b[38;5;241m.\u001b[39m_gradient_checkpointing_func(\n\u001b[1;32m   1006\u001b[0m         decoder_layer\u001b[38;5;241m.\u001b[39m\u001b[38;5;21m__call__\u001b[39m,\n\u001b[1;32m   1007\u001b[0m         hidden_states,\n\u001b[0;32m   (...)\u001b[0m\n\u001b[1;32m   1013\u001b[0m         cache_position,\n\u001b[1;32m   1014\u001b[0m     )\n\u001b[1;32m   1015\u001b[0m \u001b[38;5;28;01melse\u001b[39;00m:\n\u001b[0;32m-> 1016\u001b[0m     layer_outputs \u001b[38;5;241m=\u001b[39m \u001b[43mdecoder_layer\u001b[49m\u001b[43m(\u001b[49m\n\u001b[1;32m   1017\u001b[0m \u001b[43m        \u001b[49m\u001b[43mhidden_states\u001b[49m\u001b[43m,\u001b[49m\n\u001b[1;32m   1018\u001b[0m \u001b[43m        \u001b[49m\u001b[43mattention_mask\u001b[49m\u001b[38;5;241;43m=\u001b[39;49m\u001b[43mcausal_mask\u001b[49m\u001b[43m,\u001b[49m\n\u001b[1;32m   1019\u001b[0m \u001b[43m        \u001b[49m\u001b[43mposition_ids\u001b[49m\u001b[38;5;241;43m=\u001b[39;49m\u001b[43mposition_ids\u001b[49m\u001b[43m,\u001b[49m\n\u001b[1;32m   1020\u001b[0m \u001b[43m        \u001b[49m\u001b[43mpast_key_value\u001b[49m\u001b[38;5;241;43m=\u001b[39;49m\u001b[43mpast_key_values\u001b[49m\u001b[43m,\u001b[49m\n\u001b[1;32m   1021\u001b[0m \u001b[43m        \u001b[49m\u001b[43moutput_attentions\u001b[49m\u001b[38;5;241;43m=\u001b[39;49m\u001b[43moutput_attentions\u001b[49m\u001b[43m,\u001b[49m\n\u001b[1;32m   1022\u001b[0m \u001b[43m        \u001b[49m\u001b[43muse_cache\u001b[49m\u001b[38;5;241;43m=\u001b[39;49m\u001b[43muse_cache\u001b[49m\u001b[43m,\u001b[49m\n\u001b[1;32m   1023\u001b[0m \u001b[43m        \u001b[49m\u001b[43mcache_position\u001b[49m\u001b[38;5;241;43m=\u001b[39;49m\u001b[43mcache_position\u001b[49m\u001b[43m,\u001b[49m\n\u001b[1;32m   1024\u001b[0m \u001b[43m    \u001b[49m\u001b[43m)\u001b[49m\n\u001b[1;32m   1026\u001b[0m hidden_states \u001b[38;5;241m=\u001b[39m layer_outputs[\u001b[38;5;241m0\u001b[39m]\n\u001b[1;32m   1028\u001b[0m \u001b[38;5;28;01mif\u001b[39;00m use_cache:\n",
      "File \u001b[0;32m~/gctg/lib64/python3.11/site-packages/torch/nn/modules/module.py:1511\u001b[0m, in \u001b[0;36mModule._wrapped_call_impl\u001b[0;34m(self, *args, **kwargs)\u001b[0m\n\u001b[1;32m   1509\u001b[0m     \u001b[38;5;28;01mreturn\u001b[39;00m \u001b[38;5;28mself\u001b[39m\u001b[38;5;241m.\u001b[39m_compiled_call_impl(\u001b[38;5;241m*\u001b[39margs, \u001b[38;5;241m*\u001b[39m\u001b[38;5;241m*\u001b[39mkwargs)  \u001b[38;5;66;03m# type: ignore[misc]\u001b[39;00m\n\u001b[1;32m   1510\u001b[0m \u001b[38;5;28;01melse\u001b[39;00m:\n\u001b[0;32m-> 1511\u001b[0m     \u001b[38;5;28;01mreturn\u001b[39;00m \u001b[38;5;28;43mself\u001b[39;49m\u001b[38;5;241;43m.\u001b[39;49m\u001b[43m_call_impl\u001b[49m\u001b[43m(\u001b[49m\u001b[38;5;241;43m*\u001b[39;49m\u001b[43margs\u001b[49m\u001b[43m,\u001b[49m\u001b[43m \u001b[49m\u001b[38;5;241;43m*\u001b[39;49m\u001b[38;5;241;43m*\u001b[39;49m\u001b[43mkwargs\u001b[49m\u001b[43m)\u001b[49m\n",
      "File \u001b[0;32m~/gctg/lib64/python3.11/site-packages/torch/nn/modules/module.py:1520\u001b[0m, in \u001b[0;36mModule._call_impl\u001b[0;34m(self, *args, **kwargs)\u001b[0m\n\u001b[1;32m   1515\u001b[0m \u001b[38;5;66;03m# If we don't have any hooks, we want to skip the rest of the logic in\u001b[39;00m\n\u001b[1;32m   1516\u001b[0m \u001b[38;5;66;03m# this function, and just call forward.\u001b[39;00m\n\u001b[1;32m   1517\u001b[0m \u001b[38;5;28;01mif\u001b[39;00m \u001b[38;5;129;01mnot\u001b[39;00m (\u001b[38;5;28mself\u001b[39m\u001b[38;5;241m.\u001b[39m_backward_hooks \u001b[38;5;129;01mor\u001b[39;00m \u001b[38;5;28mself\u001b[39m\u001b[38;5;241m.\u001b[39m_backward_pre_hooks \u001b[38;5;129;01mor\u001b[39;00m \u001b[38;5;28mself\u001b[39m\u001b[38;5;241m.\u001b[39m_forward_hooks \u001b[38;5;129;01mor\u001b[39;00m \u001b[38;5;28mself\u001b[39m\u001b[38;5;241m.\u001b[39m_forward_pre_hooks\n\u001b[1;32m   1518\u001b[0m         \u001b[38;5;129;01mor\u001b[39;00m _global_backward_pre_hooks \u001b[38;5;129;01mor\u001b[39;00m _global_backward_hooks\n\u001b[1;32m   1519\u001b[0m         \u001b[38;5;129;01mor\u001b[39;00m _global_forward_hooks \u001b[38;5;129;01mor\u001b[39;00m _global_forward_pre_hooks):\n\u001b[0;32m-> 1520\u001b[0m     \u001b[38;5;28;01mreturn\u001b[39;00m \u001b[43mforward_call\u001b[49m\u001b[43m(\u001b[49m\u001b[38;5;241;43m*\u001b[39;49m\u001b[43margs\u001b[49m\u001b[43m,\u001b[49m\u001b[43m \u001b[49m\u001b[38;5;241;43m*\u001b[39;49m\u001b[38;5;241;43m*\u001b[39;49m\u001b[43mkwargs\u001b[49m\u001b[43m)\u001b[49m\n\u001b[1;32m   1522\u001b[0m \u001b[38;5;28;01mtry\u001b[39;00m:\n\u001b[1;32m   1523\u001b[0m     result \u001b[38;5;241m=\u001b[39m \u001b[38;5;28;01mNone\u001b[39;00m\n",
      "File \u001b[0;32m~/gctg/lib64/python3.11/site-packages/accelerate/hooks.py:161\u001b[0m, in \u001b[0;36madd_hook_to_module.<locals>.new_forward\u001b[0;34m(module, *args, **kwargs)\u001b[0m\n\u001b[1;32m    160\u001b[0m \u001b[38;5;28;01mdef\u001b[39;00m \u001b[38;5;21mnew_forward\u001b[39m(module, \u001b[38;5;241m*\u001b[39margs, \u001b[38;5;241m*\u001b[39m\u001b[38;5;241m*\u001b[39mkwargs):\n\u001b[0;32m--> 161\u001b[0m     args, kwargs \u001b[38;5;241m=\u001b[39m \u001b[43mmodule\u001b[49m\u001b[38;5;241;43m.\u001b[39;49m\u001b[43m_hf_hook\u001b[49m\u001b[38;5;241;43m.\u001b[39;49m\u001b[43mpre_forward\u001b[49m\u001b[43m(\u001b[49m\u001b[43mmodule\u001b[49m\u001b[43m,\u001b[49m\u001b[43m \u001b[49m\u001b[38;5;241;43m*\u001b[39;49m\u001b[43margs\u001b[49m\u001b[43m,\u001b[49m\u001b[43m \u001b[49m\u001b[38;5;241;43m*\u001b[39;49m\u001b[38;5;241;43m*\u001b[39;49m\u001b[43mkwargs\u001b[49m\u001b[43m)\u001b[49m\n\u001b[1;32m    162\u001b[0m     \u001b[38;5;28;01mif\u001b[39;00m module\u001b[38;5;241m.\u001b[39m_hf_hook\u001b[38;5;241m.\u001b[39mno_grad:\n\u001b[1;32m    163\u001b[0m         \u001b[38;5;28;01mwith\u001b[39;00m torch\u001b[38;5;241m.\u001b[39mno_grad():\n",
      "File \u001b[0;32m~/gctg/lib64/python3.11/site-packages/accelerate/hooks.py:356\u001b[0m, in \u001b[0;36mAlignDevicesHook.pre_forward\u001b[0;34m(self, module, *args, **kwargs)\u001b[0m\n\u001b[1;32m    345\u001b[0m             \u001b[38;5;28mself\u001b[39m\u001b[38;5;241m.\u001b[39mtied_pointers_to_remove\u001b[38;5;241m.\u001b[39madd((value\u001b[38;5;241m.\u001b[39mdata_ptr(), \u001b[38;5;28mself\u001b[39m\u001b[38;5;241m.\u001b[39mexecution_device))\n\u001b[1;32m    347\u001b[0m         set_module_tensor_to_device(\n\u001b[1;32m    348\u001b[0m             module,\n\u001b[1;32m    349\u001b[0m             name,\n\u001b[0;32m   (...)\u001b[0m\n\u001b[1;32m    353\u001b[0m             tied_params_map\u001b[38;5;241m=\u001b[39m\u001b[38;5;28mself\u001b[39m\u001b[38;5;241m.\u001b[39mtied_params_map,\n\u001b[1;32m    354\u001b[0m         )\n\u001b[0;32m--> 356\u001b[0m \u001b[38;5;28;01mreturn\u001b[39;00m send_to_device(args, \u001b[38;5;28mself\u001b[39m\u001b[38;5;241m.\u001b[39mexecution_device), \u001b[43msend_to_device\u001b[49m\u001b[43m(\u001b[49m\n\u001b[1;32m    357\u001b[0m \u001b[43m    \u001b[49m\u001b[43mkwargs\u001b[49m\u001b[43m,\u001b[49m\u001b[43m \u001b[49m\u001b[38;5;28;43mself\u001b[39;49m\u001b[38;5;241;43m.\u001b[39;49m\u001b[43mexecution_device\u001b[49m\u001b[43m,\u001b[49m\u001b[43m \u001b[49m\u001b[43mskip_keys\u001b[49m\u001b[38;5;241;43m=\u001b[39;49m\u001b[38;5;28;43mself\u001b[39;49m\u001b[38;5;241;43m.\u001b[39;49m\u001b[43mskip_keys\u001b[49m\n\u001b[1;32m    358\u001b[0m \u001b[43m\u001b[49m\u001b[43m)\u001b[49m\n",
      "File \u001b[0;32m~/gctg/lib64/python3.11/site-packages/accelerate/utils/operations.py:186\u001b[0m, in \u001b[0;36msend_to_device\u001b[0;34m(tensor, device, non_blocking, skip_keys)\u001b[0m\n\u001b[1;32m    183\u001b[0m     \u001b[38;5;28;01melif\u001b[39;00m skip_keys \u001b[38;5;129;01mis\u001b[39;00m \u001b[38;5;28;01mNone\u001b[39;00m:\n\u001b[1;32m    184\u001b[0m         skip_keys \u001b[38;5;241m=\u001b[39m []\n\u001b[1;32m    185\u001b[0m     \u001b[38;5;28;01mreturn\u001b[39;00m \u001b[38;5;28mtype\u001b[39m(tensor)(\n\u001b[0;32m--> 186\u001b[0m         \u001b[43m{\u001b[49m\n\u001b[1;32m    187\u001b[0m \u001b[43m            \u001b[49m\u001b[43mk\u001b[49m\u001b[43m:\u001b[49m\u001b[43m \u001b[49m\u001b[43mt\u001b[49m\u001b[43m \u001b[49m\u001b[38;5;28;43;01mif\u001b[39;49;00m\u001b[43m \u001b[49m\u001b[43mk\u001b[49m\u001b[43m \u001b[49m\u001b[38;5;129;43;01min\u001b[39;49;00m\u001b[43m \u001b[49m\u001b[43mskip_keys\u001b[49m\u001b[43m \u001b[49m\u001b[38;5;28;43;01melse\u001b[39;49;00m\u001b[43m \u001b[49m\u001b[43msend_to_device\u001b[49m\u001b[43m(\u001b[49m\u001b[43mt\u001b[49m\u001b[43m,\u001b[49m\u001b[43m \u001b[49m\u001b[43mdevice\u001b[49m\u001b[43m,\u001b[49m\u001b[43m \u001b[49m\u001b[43mnon_blocking\u001b[49m\u001b[38;5;241;43m=\u001b[39;49m\u001b[43mnon_blocking\u001b[49m\u001b[43m,\u001b[49m\u001b[43m \u001b[49m\u001b[43mskip_keys\u001b[49m\u001b[38;5;241;43m=\u001b[39;49m\u001b[43mskip_keys\u001b[49m\u001b[43m)\u001b[49m\n\u001b[1;32m    188\u001b[0m \u001b[43m            \u001b[49m\u001b[38;5;28;43;01mfor\u001b[39;49;00m\u001b[43m \u001b[49m\u001b[43mk\u001b[49m\u001b[43m,\u001b[49m\u001b[43m \u001b[49m\u001b[43mt\u001b[49m\u001b[43m \u001b[49m\u001b[38;5;129;43;01min\u001b[39;49;00m\u001b[43m \u001b[49m\u001b[43mtensor\u001b[49m\u001b[38;5;241;43m.\u001b[39;49m\u001b[43mitems\u001b[49m\u001b[43m(\u001b[49m\u001b[43m)\u001b[49m\n\u001b[1;32m    189\u001b[0m \u001b[43m        \u001b[49m\u001b[43m}\u001b[49m\n\u001b[1;32m    190\u001b[0m     )\n\u001b[1;32m    191\u001b[0m \u001b[38;5;28;01melse\u001b[39;00m:\n\u001b[1;32m    192\u001b[0m     \u001b[38;5;28;01mreturn\u001b[39;00m tensor\n",
      "File \u001b[0;32m~/gctg/lib64/python3.11/site-packages/accelerate/utils/operations.py:187\u001b[0m, in \u001b[0;36m<dictcomp>\u001b[0;34m(.0)\u001b[0m\n\u001b[1;32m    183\u001b[0m     \u001b[38;5;28;01melif\u001b[39;00m skip_keys \u001b[38;5;129;01mis\u001b[39;00m \u001b[38;5;28;01mNone\u001b[39;00m:\n\u001b[1;32m    184\u001b[0m         skip_keys \u001b[38;5;241m=\u001b[39m []\n\u001b[1;32m    185\u001b[0m     \u001b[38;5;28;01mreturn\u001b[39;00m \u001b[38;5;28mtype\u001b[39m(tensor)(\n\u001b[1;32m    186\u001b[0m         {\n\u001b[0;32m--> 187\u001b[0m             k: t \u001b[38;5;28;01mif\u001b[39;00m k \u001b[38;5;129;01min\u001b[39;00m skip_keys \u001b[38;5;28;01melse\u001b[39;00m \u001b[43msend_to_device\u001b[49m\u001b[43m(\u001b[49m\u001b[43mt\u001b[49m\u001b[43m,\u001b[49m\u001b[43m \u001b[49m\u001b[43mdevice\u001b[49m\u001b[43m,\u001b[49m\u001b[43m \u001b[49m\u001b[43mnon_blocking\u001b[49m\u001b[38;5;241;43m=\u001b[39;49m\u001b[43mnon_blocking\u001b[49m\u001b[43m,\u001b[49m\u001b[43m \u001b[49m\u001b[43mskip_keys\u001b[49m\u001b[38;5;241;43m=\u001b[39;49m\u001b[43mskip_keys\u001b[49m\u001b[43m)\u001b[49m\n\u001b[1;32m    188\u001b[0m             \u001b[38;5;28;01mfor\u001b[39;00m k, t \u001b[38;5;129;01min\u001b[39;00m tensor\u001b[38;5;241m.\u001b[39mitems()\n\u001b[1;32m    189\u001b[0m         }\n\u001b[1;32m    190\u001b[0m     )\n\u001b[1;32m    191\u001b[0m \u001b[38;5;28;01melse\u001b[39;00m:\n\u001b[1;32m    192\u001b[0m     \u001b[38;5;28;01mreturn\u001b[39;00m tensor\n",
      "File \u001b[0;32m~/gctg/lib64/python3.11/site-packages/accelerate/utils/operations.py:155\u001b[0m, in \u001b[0;36msend_to_device\u001b[0;34m(tensor, device, non_blocking, skip_keys)\u001b[0m\n\u001b[1;32m    153\u001b[0m     device \u001b[38;5;241m=\u001b[39m \u001b[38;5;124m\"\u001b[39m\u001b[38;5;124mxpu:0\u001b[39m\u001b[38;5;124m\"\u001b[39m\n\u001b[1;32m    154\u001b[0m \u001b[38;5;28;01mtry\u001b[39;00m:\n\u001b[0;32m--> 155\u001b[0m     \u001b[38;5;28;01mreturn\u001b[39;00m \u001b[43mtensor\u001b[49m\u001b[38;5;241;43m.\u001b[39;49m\u001b[43mto\u001b[49m\u001b[43m(\u001b[49m\u001b[43mdevice\u001b[49m\u001b[43m,\u001b[49m\u001b[43m \u001b[49m\u001b[43mnon_blocking\u001b[49m\u001b[38;5;241;43m=\u001b[39;49m\u001b[43mnon_blocking\u001b[49m\u001b[43m)\u001b[49m\n\u001b[1;32m    156\u001b[0m \u001b[38;5;28;01mexcept\u001b[39;00m \u001b[38;5;167;01mTypeError\u001b[39;00m:  \u001b[38;5;66;03m# .to() doesn't accept non_blocking as kwarg\u001b[39;00m\n\u001b[1;32m    157\u001b[0m     \u001b[38;5;28;01mreturn\u001b[39;00m tensor\u001b[38;5;241m.\u001b[39mto(device)\n",
      "\u001b[0;31mKeyboardInterrupt\u001b[0m: "
     ]
    }
   ],
   "source": [
    "trainer.train()#f\"{output_dir}/checkpoint-550\")"
   ]
  },
  {
   "cell_type": "markdown",
   "metadata": {},
   "source": [
    "# Test Inference"
   ]
  },
  {
   "cell_type": "code",
   "execution_count": 2,
   "metadata": {},
   "outputs": [
    {
     "data": {
      "application/vnd.jupyter.widget-view+json": {
       "model_id": "012c7be35911495cae06a1ff110622b3",
       "version_major": 2,
       "version_minor": 0
      },
      "text/plain": [
       "config.json:   0%|          | 0.00/654 [00:00<?, ?B/s]"
      ]
     },
     "metadata": {},
     "output_type": "display_data"
    },
    {
     "data": {
      "application/vnd.jupyter.widget-view+json": {
       "model_id": "76527a45a14c46dea4515d2ec2c3d575",
       "version_major": 2,
       "version_minor": 0
      },
      "text/plain": [
       "model.safetensors.index.json:   0%|          | 0.00/23.9k [00:00<?, ?B/s]"
      ]
     },
     "metadata": {},
     "output_type": "display_data"
    },
    {
     "data": {
      "application/vnd.jupyter.widget-view+json": {
       "model_id": "dacea3ce0db3403ab33c4946a4ab72bd",
       "version_major": 2,
       "version_minor": 0
      },
      "text/plain": [
       "Downloading shards:   0%|          | 0/4 [00:00<?, ?it/s]"
      ]
     },
     "metadata": {},
     "output_type": "display_data"
    },
    {
     "data": {
      "application/vnd.jupyter.widget-view+json": {
       "model_id": "36d3d79aec49480e93d5c55a827046b0",
       "version_major": 2,
       "version_minor": 0
      },
      "text/plain": [
       "model-00001-of-00004.safetensors:   0%|          | 0.00/4.98G [00:00<?, ?B/s]"
      ]
     },
     "metadata": {},
     "output_type": "display_data"
    },
    {
     "data": {
      "application/vnd.jupyter.widget-view+json": {
       "model_id": "af26f84740d5429caa75cf01f98c2745",
       "version_major": 2,
       "version_minor": 0
      },
      "text/plain": [
       "model-00002-of-00004.safetensors:   0%|          | 0.00/5.00G [00:00<?, ?B/s]"
      ]
     },
     "metadata": {},
     "output_type": "display_data"
    },
    {
     "data": {
      "application/vnd.jupyter.widget-view+json": {
       "model_id": "c0e489297a53414b937df7f5d6e87461",
       "version_major": 2,
       "version_minor": 0
      },
      "text/plain": [
       "model-00003-of-00004.safetensors:   0%|          | 0.00/4.92G [00:00<?, ?B/s]"
      ]
     },
     "metadata": {},
     "output_type": "display_data"
    },
    {
     "data": {
      "application/vnd.jupyter.widget-view+json": {
       "model_id": "ffe00bb64b404b55bb0de55854bc29ef",
       "version_major": 2,
       "version_minor": 0
      },
      "text/plain": [
       "model-00004-of-00004.safetensors:   0%|          | 0.00/1.17G [00:00<?, ?B/s]"
      ]
     },
     "metadata": {},
     "output_type": "display_data"
    },
    {
     "data": {
      "application/vnd.jupyter.widget-view+json": {
       "model_id": "e200145a155845e7a526698e7fd0c87b",
       "version_major": 2,
       "version_minor": 0
      },
      "text/plain": [
       "Loading checkpoint shards:   0%|          | 0/4 [00:00<?, ?it/s]"
      ]
     },
     "metadata": {},
     "output_type": "display_data"
    },
    {
     "data": {
      "application/vnd.jupyter.widget-view+json": {
       "model_id": "b5de66d176fe47488062d7b5c0fd7365",
       "version_major": 2,
       "version_minor": 0
      },
      "text/plain": [
       "generation_config.json:   0%|          | 0.00/187 [00:00<?, ?B/s]"
      ]
     },
     "metadata": {},
     "output_type": "display_data"
    },
    {
     "data": {
      "application/vnd.jupyter.widget-view+json": {
       "model_id": "ecde22a70c1440a7940ed3039f37d088",
       "version_major": 2,
       "version_minor": 0
      },
      "text/plain": [
       "tokenizer_config.json:   0%|          | 0.00/51.0k [00:00<?, ?B/s]"
      ]
     },
     "metadata": {},
     "output_type": "display_data"
    },
    {
     "data": {
      "application/vnd.jupyter.widget-view+json": {
       "model_id": "f9b163baa0ef4fcda47086d2b17540ec",
       "version_major": 2,
       "version_minor": 0
      },
      "text/plain": [
       "tokenizer.json:   0%|          | 0.00/9.09M [00:00<?, ?B/s]"
      ]
     },
     "metadata": {},
     "output_type": "display_data"
    },
    {
     "data": {
      "application/vnd.jupyter.widget-view+json": {
       "model_id": "97215896db444445be79b4550eee4695",
       "version_major": 2,
       "version_minor": 0
      },
      "text/plain": [
       "special_tokens_map.json:   0%|          | 0.00/73.0 [00:00<?, ?B/s]"
      ]
     },
     "metadata": {},
     "output_type": "display_data"
    },
    {
     "name": "stderr",
     "output_type": "stream",
     "text": [
      "Special tokens have been added in the vocabulary, make sure the associated word embeddings are fine-tuned or trained.\n"
     ]
    }
   ],
   "source": [
    "model, tokenizer = models.load_generator(\"meta-llama/Meta-Llama-3-8B-Instruct\")"
   ]
  },
  {
   "cell_type": "code",
   "execution_count": 3,
   "metadata": {},
   "outputs": [],
   "source": [
    "dialog_data = data.get_dialog_data()"
   ]
  },
  {
   "cell_type": "code",
   "execution_count": 4,
   "metadata": {},
   "outputs": [],
   "source": [
    "dataset = datasets.load_dataset('json', data_files=preprossed_dataset_file, split='train')"
   ]
  },
  {
   "cell_type": "code",
   "execution_count": 5,
   "metadata": {},
   "outputs": [
    {
     "name": "stdout",
     "output_type": "stream",
     "text": [
      "['I do not, who?', \"I don't know either. I was asking lol. I'm sure it was a scientist. All I remember was that the internet was developed by the military and wifi was developed as a byproduct when the space program was trying to improve space imaging.\", \"Didn't al gore say he invented it? Then he got mocked by the press and then he was actually involved with it????\", 'If that is true that a shame']\n"
     ]
    }
   ],
   "source": [
    "context, response, source, id = helpers.sample_dialog_snippet(dialog_data)\n",
    "print(context)"
   ]
  },
  {
   "cell_type": "markdown",
   "metadata": {},
   "source": [
    "## Baseline: Llama3-8B-Instruct"
   ]
  },
  {
   "cell_type": "code",
   "execution_count": 2,
   "metadata": {},
   "outputs": [],
   "source": [
    "output_dir = \"/cluster/scratch/dglandorf/CEFR/baseline/\"\n",
    "levels = [\"A1\", \"A2\", \"B1\", \"B2\"]"
   ]
  },
  {
   "cell_type": "code",
   "execution_count": 39,
   "metadata": {},
   "outputs": [
    {
     "name": "stdout",
     "output_type": "stream",
     "text": [
      "A1\n"
     ]
    },
    {
     "name": "stderr",
     "output_type": "stream",
     "text": [
      "Generate: 100%|██████████████████████████████████████████████████████████████████████████████████████████████| 1/1 [00:01<00:00,  1.68s/it]\n"
     ]
    },
    {
     "name": "stdout",
     "output_type": "stream",
     "text": [
      "Ah, yes. More holidays. And... and more money.\n",
      "A2\n"
     ]
    },
    {
     "name": "stderr",
     "output_type": "stream",
     "text": [
      "Generate: 100%|██████████████████████████████████████████████████████████████████████████████████████████████| 1/1 [00:02<00:00,  2.25s/it]\n"
     ]
    },
    {
     "name": "stdout",
     "output_type": "stream",
     "text": [
      "Ah, good question! We're thinking of adding more vacation days, flexible working hours, and a new gym membership program.\n",
      "B1\n"
     ]
    },
    {
     "name": "stderr",
     "output_type": "stream",
     "text": [
      "Generate: 100%|██████████████████████████████████████████████████████████████████████████████████████████████| 1/1 [00:04<00:00,  4.60s/it]\n"
     ]
    },
    {
     "name": "stdout",
     "output_type": "stream",
     "text": [
      "Well, we're thinking of introducing flexible working hours, more paid holidays, and a gym membership program. We also want to improve our employee assistance program, which will provide support for employees dealing with personal issues.\n",
      "B2\n"
     ]
    },
    {
     "name": "stderr",
     "output_type": "stream",
     "text": [
      "Generate: 100%|██████████████████████████████████████████████████████████████████████████████████████████████| 1/1 [00:04<00:00,  4.82s/it]\n"
     ]
    },
    {
     "name": "stdout",
     "output_type": "stream",
     "text": [
      "Well, for instance, we're planning to introduce flexible working hours, which will allow employees to better balance their work and personal life. Additionally, we're considering providing on-site childcare services and gym facilities to promote a healthier lifestyle.\n",
      "A1\n"
     ]
    },
    {
     "name": "stderr",
     "output_type": "stream",
     "text": [
      "Generate: 100%|██████████████████████████████████████████████████████████████████████████████████████████████| 1/1 [00:01<00:00,  1.45s/it]\n"
     ]
    },
    {
     "name": "stdout",
     "output_type": "stream",
     "text": [
      "yeah, Belfort, he go to jail.\n",
      "A2\n"
     ]
    },
    {
     "name": "stderr",
     "output_type": "stream",
     "text": [
      "Generate: 100%|██████████████████████████████████████████████████████████████████████████████████████████████| 1/1 [00:02<00:00,  2.62s/it]\n"
     ]
    },
    {
     "name": "stdout",
     "output_type": "stream",
     "text": [
      "Yeah, it's very interesting. Belfort's life is very crazy. He makes a lot of money, but he also does many bad things.\n",
      "B1\n"
     ]
    },
    {
     "name": "stderr",
     "output_type": "stream",
     "text": [
      "Generate: 100%|██████████████████████████████████████████████████████████████████████████████████████████████| 1/1 [00:04<00:00,  4.96s/it]\n"
     ]
    },
    {
     "name": "stdout",
     "output_type": "stream",
     "text": [
      "Yeah, it's really interesting to see how people lived back then. And the way Belfort and Mark Hanna are portrayed is quite shocking, you know? It's like they're saying that making money is the only thing that matters.\n",
      "B2\n"
     ]
    },
    {
     "name": "stderr",
     "output_type": "stream",
     "text": [
      "Generate: 100%|██████████████████████████████████████████████████████████████████████████████████████████████| 1/1 [00:08<00:00,  8.35s/it]\n"
     ]
    },
    {
     "name": "stdout",
     "output_type": "stream",
     "text": [
      "Yeah, the film is really a reflection of the excesses of the 80s. The way Belfort and his colleagues lived, it's hard to believe it's true. And the way Mark Hanna, played by Crash, is portrayed is just incredible. He's this charismatic figure who teaches Belfort that the only thing that matters is making money, no matter what the cost. It's a really thought-provoking film, and I think it's one of the reasons why it's so popular.\n",
      "A1\n"
     ]
    },
    {
     "name": "stderr",
     "output_type": "stream",
     "text": [
      "Generate: 100%|██████████████████████████████████████████████████████████████████████████████████████████████| 1/1 [00:01<00:00,  1.16s/it]\n"
     ]
    },
    {
     "name": "stdout",
     "output_type": "stream",
     "text": [
      "My parents get married again?\n",
      "A2\n"
     ]
    },
    {
     "name": "stderr",
     "output_type": "stream",
     "text": [
      "Generate: 100%|██████████████████████████████████████████████████████████████████████████████████████████████| 1/1 [00:01<00:00,  1.37s/it]\n"
     ]
    },
    {
     "name": "stdout",
     "output_type": "stream",
     "text": [
      "Yeah, my mom is already seeing someone new.\n",
      "B1\n"
     ]
    },
    {
     "name": "stderr",
     "output_type": "stream",
     "text": [
      "Generate: 100%|██████████████████████████████████████████████████████████████████████████████████████████████| 1/1 [00:03<00:00,  3.01s/it]\n"
     ]
    },
    {
     "name": "stdout",
     "output_type": "stream",
     "text": [
      "Yeah, I guess that's true. But it's still hard for me to accept. I remember the fights and arguments all the time. It was like living in a war zone.\n",
      "B2\n"
     ]
    },
    {
     "name": "stderr",
     "output_type": "stream",
     "text": [
      "Generate: 100%|██████████████████████████████████████████████████████████████████████████████████████████████| 1/1 [00:04<00:00,  4.82s/it]\n"
     ]
    },
    {
     "name": "stdout",
     "output_type": "stream",
     "text": [
      "Yeah, it's a relief that they're moving on, but it's still tough for me to accept. I remember how my parents used to argue all the time, and it was like living in a war zone.\n",
      "A1\n"
     ]
    },
    {
     "name": "stderr",
     "output_type": "stream",
     "text": [
      "Generate: 100%|██████████████████████████████████████████████████████████████████████████████████████████████| 1/1 [00:01<00:00,  1.53s/it]\n"
     ]
    },
    {
     "name": "stdout",
     "output_type": "stream",
     "text": [
      "Armadillos are very cool. I like their shell.\n",
      "A2\n"
     ]
    },
    {
     "name": "stderr",
     "output_type": "stream",
     "text": [
      "Generate: 100%|██████████████████████████████████████████████████████████████████████████████████████████████| 1/1 [00:01<00:00,  1.96s/it]\n"
     ]
    },
    {
     "name": "stdout",
     "output_type": "stream",
     "text": [
      "Wow, that's cool! I didn't know that. Armadillos are very special animals.\n",
      "B1\n"
     ]
    },
    {
     "name": "stderr",
     "output_type": "stream",
     "text": [
      "Generate: 100%|██████████████████████████████████████████████████████████████████████████████████████████████| 1/1 [00:04<00:00,  4.04s/it]\n"
     ]
    },
    {
     "name": "stdout",
     "output_type": "stream",
     "text": [
      "That's amazing! I didn't know that. I think it's cool how they can curl up into a ball for protection. Do you think they're endangered?\n",
      "B2\n"
     ]
    },
    {
     "name": "stderr",
     "output_type": "stream",
     "text": [
      "Generate: 100%|██████████████████████████████████████████████████████████████████████████████████████████████| 1/1 [00:05<00:00,  5.38s/it]\n"
     ]
    },
    {
     "name": "stdout",
     "output_type": "stream",
     "text": [
      "That's amazing! I never knew that about the name. It's no wonder they're so well-protected with that shell. I've always been fascinated by their ability to curl up into a ball for defense. Do you think they're endangered or is their population stable?\n",
      "A1\n"
     ]
    },
    {
     "name": "stderr",
     "output_type": "stream",
     "text": [
      "Generate: 100%|██████████████████████████████████████████████████████████████████████████████████████████████| 1/1 [00:01<00:00,  1.40s/it]\n"
     ]
    },
    {
     "name": "stdout",
     "output_type": "stream",
     "text": [
      "Wow! Garbage dump? Fred Durst?\n",
      "A2\n"
     ]
    },
    {
     "name": "stderr",
     "output_type": "stream",
     "text": [
      "Generate: 100%|██████████████████████████████████████████████████████████████████████████████████████████████| 1/1 [00:02<00:00,  2.40s/it]\n"
     ]
    },
    {
     "name": "stdout",
     "output_type": "stream",
     "text": [
      "Ha ha, that's funny! I never knew that. Do you think it's weird to name a garbage dump after a person?\n",
      "B1\n"
     ]
    },
    {
     "name": "stderr",
     "output_type": "stream",
     "text": [
      "Generate: 100%|██████████████████████████████████████████████████████████████████████████████████████████████| 1/1 [00:02<00:00,  2.61s/it]\n"
     ]
    },
    {
     "name": "stdout",
     "output_type": "stream",
     "text": [
      "That's crazy! I never thought about voting in space. Do you think it's fair that astronauts get to vote in elections back on Earth?\n",
      "B2\n"
     ]
    },
    {
     "name": "stderr",
     "output_type": "stream",
     "text": [
      "Generate: 100%|██████████████████████████████████████████████████████████████████████████████████████████████| 1/1 [00:05<00:00,  5.09s/it]\n"
     ]
    },
    {
     "name": "stdout",
     "output_type": "stream",
     "text": [
      "That's amazing! I never thought about voting being a global issue. I wonder if they have special voting booths for astronauts in other countries too. And haha, I can imagine Fred Durst being quite surprised to have a garbage dump named after him!\n",
      "A1\n"
     ]
    },
    {
     "name": "stderr",
     "output_type": "stream",
     "text": [
      "Generate: 100%|██████████████████████████████████████████████████████████████████████████████████████████████| 1/1 [00:01<00:00,  1.31s/it]\n"
     ]
    },
    {
     "name": "stdout",
     "output_type": "stream",
     "text": [
      "Candy Crush? I like play too!\n",
      "A2\n"
     ]
    },
    {
     "name": "stderr",
     "output_type": "stream",
     "text": [
      "Generate: 100%|██████████████████████████████████████████████████████████████████████████████████████████████| 1/1 [00:01<00:00,  1.73s/it]\n"
     ]
    },
    {
     "name": "stdout",
     "output_type": "stream",
     "text": [
      "Ah, yes! I like Candy Crush too! It's so much fun!\n",
      "B1\n"
     ]
    },
    {
     "name": "stderr",
     "output_type": "stream",
     "text": [
      "Generate: 100%|██████████████████████████████████████████████████████████████████████████████████████████████| 1/1 [00:05<00:00,  5.05s/it]\n"
     ]
    },
    {
     "name": "stdout",
     "output_type": "stream",
     "text": [
      "Ah, I see! I also like the camera app, it's really useful for taking photos. And Candy Crush is a great game, I've played it with my friends before. Do you play it with anyone or is it just for you?\n",
      "B2\n"
     ]
    },
    {
     "name": "stderr",
     "output_type": "stream",
     "text": [
      "Generate: 100%|██████████████████████████████████████████████████████████████████████████████████████████████| 1/1 [00:06<00:00,  6.10s/it]\n"
     ]
    },
    {
     "name": "stdout",
     "output_type": "stream",
     "text": [
      "Ah, I'm a big fan of games too! I've got a few puzzle games like Tetris and Sudoku that I like to play during my daily commute. And I also use the camera app to take photos of my travels. It's amazing how much technology has changed the way we live, isn't it?\n",
      "A1\n"
     ]
    },
    {
     "name": "stderr",
     "output_type": "stream",
     "text": [
      "Generate: 100%|██████████████████████████████████████████████████████████████████████████████████████████████| 1/1 [00:01<00:00,  1.16s/it]\n"
     ]
    },
    {
     "name": "stdout",
     "output_type": "stream",
     "text": [
      "They... they like Anne.\n",
      "A2\n"
     ]
    },
    {
     "name": "stderr",
     "output_type": "stream",
     "text": [
      "Generate: 100%|██████████████████████████████████████████████████████████████████████████████████████████████| 1/1 [00:02<00:00,  2.02s/it]\n"
     ]
    },
    {
     "name": "stdout",
     "output_type": "stream",
     "text": [
      "Yeah, they were nice to her. They wanted a boy, but they still took care of her.\n",
      "B1\n"
     ]
    },
    {
     "name": "stderr",
     "output_type": "stream",
     "text": [
      "Generate: 100%|██████████████████████████████████████████████████████████████████████████████████████████████| 1/1 [00:02<00:00,  2.29s/it]\n"
     ]
    },
    {
     "name": "stdout",
     "output_type": "stream",
     "text": [
      "Yeah, they were surprised at first, but they decided to keep her because they wanted a child, not a specific gender.\n",
      "B2\n"
     ]
    },
    {
     "name": "stderr",
     "output_type": "stream",
     "text": [
      "Generate: 100%|██████████████████████████████████████████████████████████████████████████████████████████████| 1/1 [00:05<00:00,  5.12s/it]\n"
     ]
    },
    {
     "name": "stdout",
     "output_type": "stream",
     "text": [
      "Actually, the Cuthberts were initially disappointed, but they soon grew to love Anne as if she were their own. They were kind and patient with her, and Anne, in turn, brought a lot of energy and enthusiasm to their lives.\n",
      "A1\n"
     ]
    },
    {
     "name": "stderr",
     "output_type": "stream",
     "text": [
      "Generate: 100%|██████████████████████████████████████████████████████████████████████████████████████████████| 1/1 [00:01<00:00,  1.17s/it]\n"
     ]
    },
    {
     "name": "stdout",
     "output_type": "stream",
     "text": [
      "Um... six o'clock.\n",
      "A2\n"
     ]
    },
    {
     "name": "stderr",
     "output_type": "stream",
     "text": [
      "Generate: 100%|██████████████████████████████████████████████████████████████████████████████████████████████| 1/1 [00:01<00:00,  1.55s/it]\n"
     ]
    },
    {
     "name": "stdout",
     "output_type": "stream",
     "text": [
      "Um, I think I set it for... seven o'clock.\n",
      "B1\n"
     ]
    },
    {
     "name": "stderr",
     "output_type": "stream",
     "text": [
      "Generate: 100%|██████████████████████████████████████████████████████████████████████████████████████████████| 1/1 [00:02<00:00,  2.51s/it]\n"
     ]
    },
    {
     "name": "stdout",
     "output_type": "stream",
     "text": [
      "I set it for 7:30, but I'm not sure why I didn't hear it. Maybe it was too quiet or something.\n",
      "B2\n"
     ]
    },
    {
     "name": "stderr",
     "output_type": "stream",
     "text": [
      "Generate: 100%|██████████████████████████████████████████████████████████████████████████████████████████████| 1/1 [00:03<00:00,  3.68s/it]\n"
     ]
    },
    {
     "name": "stdout",
     "output_type": "stream",
     "text": [
      "I think I set it for 7:30, but I must have forgotten to turn it off after I checked my phone.\n",
      "A1\n"
     ]
    },
    {
     "name": "stderr",
     "output_type": "stream",
     "text": [
      "Generate: 100%|██████████████████████████████████████████████████████████████████████████████████████████████| 1/1 [00:01<00:00,  1.42s/it]\n"
     ]
    },
    {
     "name": "stdout",
     "output_type": "stream",
     "text": [
      "Menu... breakfast... lunch... um... both.\n",
      "A2\n"
     ]
    },
    {
     "name": "stderr",
     "output_type": "stream",
     "text": [
      "Generate: 100%|██████████████████████████████████████████████████████████████████████████████████████████████| 1/1 [00:02<00:00,  2.67s/it]\n"
     ]
    },
    {
     "name": "stdout",
     "output_type": "stream",
     "text": [
      "Um, I think it's a mix. They have some breakfast food, like eggs and pancakes, and also some lunch food, like sandwiches and salads.\n",
      "B1\n"
     ]
    },
    {
     "name": "stderr",
     "output_type": "stream",
     "text": [
      "Generate: 100%|██████████████████████████████████████████████████████████████████████████████████████████████| 1/1 [00:02<00:00,  2.74s/it]\n"
     ]
    },
    {
     "name": "stdout",
     "output_type": "stream",
     "text": [
      "Ah, yeah, usually it's a mix of both. They have some breakfast dishes like eggs and pancakes, but also some lunch items like sandwiches and salads.\n",
      "B2\n"
     ]
    },
    {
     "name": "stderr",
     "output_type": "stream",
     "text": [
      "Generate: 100%|██████████████████████████████████████████████████████████████████████████████████████████████| 1/1 [00:05<00:00,  5.21s/it]\n"
     ]
    },
    {
     "name": "stdout",
     "output_type": "stream",
     "text": [
      "Ah, yeah, usually it's a mix of both. They have a lot of eggs, pancakes, and waffles for breakfast, but also sandwiches, salads, and soups for lunch. It's a great way to try a little bit of everything.\n",
      "A1\n"
     ]
    },
    {
     "name": "stderr",
     "output_type": "stream",
     "text": [
      "Generate: 100%|██████████████████████████████████████████████████████████████████████████████████████████████| 1/1 [00:01<00:00,  1.05s/it]\n"
     ]
    },
    {
     "name": "stdout",
     "output_type": "stream",
     "text": [
      "Okay, yes.\n",
      "A2\n"
     ]
    },
    {
     "name": "stderr",
     "output_type": "stream",
     "text": [
      "Generate: 100%|██████████████████████████████████████████████████████████████████████████████████████████████| 1/1 [00:01<00:00,  1.61s/it]\n"
     ]
    },
    {
     "name": "stdout",
     "output_type": "stream",
     "text": [
      "Okay, thank you. I'll make sure he gets your message.\n",
      "B1\n"
     ]
    },
    {
     "name": "stderr",
     "output_type": "stream",
     "text": [
      "Generate: 100%|██████████████████████████████████████████████████████████████████████████████████████████████| 1/1 [00:04<00:00,  4.09s/it]\n"
     ]
    },
    {
     "name": "stdout",
     "output_type": "stream",
     "text": [
      "Okay, I'll make sure to pass on the message. Can you tell me what this call is about, just so I can give Mr. Potter a heads up?\n",
      "B2\n"
     ]
    },
    {
     "name": "stderr",
     "output_type": "stream",
     "text": [
      "Generate: 100%|██████████████████████████████████████████████████████████████████████████████████████████████| 1/1 [00:04<00:00,  4.20s/it]"
     ]
    },
    {
     "name": "stdout",
     "output_type": "stream",
     "text": [
      "Great, thank you. I'll make sure to pass on the message. Can you tell me a bit more about the reason for the call? What's the urgency about?\n"
     ]
    },
    {
     "name": "stderr",
     "output_type": "stream",
     "text": [
      "\n"
     ]
    }
   ],
   "source": [
    "responses = {lvl: [] for lvl in levels}\n",
    "for i in range(10):\n",
    "    context, response, source, id = helpers.sample_dialog_snippet(dialog_data)\n",
    "    for level in levels:\n",
    "        print(level)\n",
    "        item = {\"context\": context, \"CEFR\": level, \"response\": response}\n",
    "        item = get_CEFR_prompt(item, apply_chat_template=tokenizer.apply_chat_template, system_msg=False)\n",
    "        response = models.generate(model, tokenizer, [item['prompt']], max_new_tokens=128)\n",
    "        response = helpers.parse_response(response)\n",
    "        print(response)\n",
    "        responses[level].append(response)"
   ]
  },
  {
   "cell_type": "code",
   "execution_count": 4,
   "metadata": {
    "scrolled": true
   },
   "outputs": [
    {
     "data": {
      "application/vnd.jupyter.widget-view+json": {
       "model_id": "69cd0a8d2176499db6d5fa301649c765",
       "version_major": 2,
       "version_minor": 0
      },
      "text/plain": [
       "Downloading https://raw.githubusercontent.com/stanfordnlp/stanza-resources/main/resources_1.8.0.json:   0%|   …"
      ]
     },
     "metadata": {},
     "output_type": "display_data"
    },
    {
     "name": "stderr",
     "output_type": "stream",
     "text": [
      "2024-06-12 22:38:58 INFO: Downloaded file to /cluster/home/dglandorf/stanza_resources/resources.json\n",
      "2024-06-12 22:38:58 INFO: \"english\" is an alias for \"en\"\n",
      "2024-06-12 22:38:58 INFO: Downloading default packages for language: en (English) ...\n",
      "2024-06-12 22:38:58 INFO: File exists: /cluster/home/dglandorf/stanza_resources/en/default.zip\n",
      "2024-06-12 22:39:02 INFO: Finished downloading models and saved to /cluster/home/dglandorf/stanza_resources\n",
      "2024-06-12 22:39:02 INFO: Checking for updates to resources.json in case models have been updated.  Note: this behavior can be turned off with download_method=None or download_method=DownloadMethod.REUSE_RESOURCES\n"
     ]
    },
    {
     "data": {
      "application/vnd.jupyter.widget-view+json": {
       "model_id": "610c4c745bb8473aad77c396f65f7a35",
       "version_major": 2,
       "version_minor": 0
      },
      "text/plain": [
       "Downloading https://raw.githubusercontent.com/stanfordnlp/stanza-resources/main/resources_1.8.0.json:   0%|   …"
      ]
     },
     "metadata": {},
     "output_type": "display_data"
    },
    {
     "name": "stderr",
     "output_type": "stream",
     "text": [
      "2024-06-12 22:39:03 INFO: Downloaded file to /cluster/home/dglandorf/stanza_resources/resources.json\n",
      "2024-06-12 22:39:03 INFO: \"english\" is an alias for \"en\"\n",
      "2024-06-12 22:39:03 INFO: Loading these models for language: en (English):\n",
      "=================================\n",
      "| Processor | Package           |\n",
      "---------------------------------\n",
      "| tokenize  | combined          |\n",
      "| mwt       | combined          |\n",
      "| pos       | combined_charlm   |\n",
      "| lemma     | combined_nocharlm |\n",
      "| depparse  | combined_charlm   |\n",
      "=================================\n",
      "\n",
      "2024-06-12 22:39:03 INFO: Using device: cuda\n",
      "2024-06-12 22:39:03 INFO: Loading: tokenize\n",
      "2024-06-12 22:39:03 INFO: Loading: mwt\n",
      "2024-06-12 22:39:03 INFO: Loading: pos\n",
      "2024-06-12 22:39:04 INFO: Loading: lemma\n",
      "2024-06-12 22:39:04 INFO: Loading: depparse\n",
      "2024-06-12 22:39:04 INFO: Done loading processors!\n"
     ]
    }
   ],
   "source": [
    "# you have to run this twice if there is a CUDNN version error\n",
    "import stanza\n",
    "from stanza.utils.conll import CoNLL\n",
    "import stanza.resources.common\n",
    "\n",
    "stanza_resources_path = os.path.join(stanza.resources.common.DEFAULT_MODEL_DIR, \"resources.json\")\n",
    "if not os.path.isfile(stanza_resources_path):\n",
    "    stanza.resources.common.download_resources_json(stanza.resources.common.DEFAULT_MODEL_DIR, stanza.resources.common.DEFAULT_RESOURCES_URL, None, stanza.resources.common.DEFAULT_RESOURCES_VERSION)\n",
    "stanza_resources = json.load(open(stanza_resources_path))\n",
    "\n",
    "lang = \"english\"\n",
    "stanza.download(lang)\n",
    "nlp = stanza.Pipeline(lang, processors=\"tokenize,mwt,pos,lemma,depparse\")"
   ]
  },
  {
   "cell_type": "code",
   "execution_count": 5,
   "metadata": {},
   "outputs": [],
   "source": [
    "def calc_complexity(text, file, window=200):\n",
    "    doc = nlp(text)\n",
    "    CoNLL.write_doc2conll(doc, file + \".conllu\")\n",
    "    !txtcomplexity --lang en --preset all -i conllu --window-size {window} {file}.conllu > {file}.json"
   ]
  },
  {
   "cell_type": "code",
   "execution_count": 6,
   "metadata": {},
   "outputs": [
    {
     "name": "stdout",
     "output_type": "stream",
     "text": [
      "A1\n",
      "3103\n",
      "A2\n",
      "6762\n",
      "B1\n",
      "12851\n",
      "B2\n",
      "18861\n",
      "C1\n",
      "21196\n",
      "C2\n",
      "27000\n"
     ]
    }
   ],
   "source": [
    "with open(f\"{output_dir}responses.json\", 'r') as outfile:\n",
    "    responses = json.load(outfile)\n",
    "    \n",
    "for level, response in responses.items():\n",
    "    print(level)\n",
    "    print(len(\" \".join(response).split(\" \")))\n",
    "    calc_complexity(\" \".join(response), output_dir+level)"
   ]
  },
  {
   "cell_type": "markdown",
   "metadata": {},
   "source": [
    "Calculate reference values from dialogs and essays"
   ]
  },
  {
   "cell_type": "code",
   "execution_count": 7,
   "metadata": {},
   "outputs": [
    {
     "name": "stdout",
     "output_type": "stream",
     "text": [
      "A1\n",
      "10371\n",
      "A2\n",
      "6395\n",
      "B1\n",
      "3065\n",
      "B2\n",
      "1150\n",
      "C1\n",
      "273\n",
      "C2\n",
      "35\n",
      "A1\n",
      "625985\n",
      "A2\n",
      "307995\n",
      "B1\n",
      "168361\n",
      "B2\n",
      "61329\n",
      "C1\n",
      "14698\n",
      "C2\n",
      "1940\n"
     ]
    }
   ],
   "source": [
    "def calc_reference_scores(file, field, levels, label):\n",
    "    dataset = datasets.load_dataset('json', data_files=file, split='train')\n",
    "    n = len(responses[\"A1\"])\n",
    "    for level in levels:\n",
    "        print(level)\n",
    "        subset = dataset.filter(lambda x: x['CEFR']==level)\n",
    "        print(len(subset))\n",
    "        if len(subset) < n: continue\n",
    "        text = \" \".join(random.sample(subset[field], n))\n",
    "        calc_complexity(text, output_dir+level+label)\n",
    "\n",
    "calc_reference_scores(preprossed_dialog_file, \"response\", responses.keys(), \"_ref\")\n",
    "calc_reference_scores(preprossed_dataset_file, \"text\", responses.keys(), \"_ref_text\")"
   ]
  },
  {
   "cell_type": "markdown",
   "metadata": {},
   "source": [
    "Plot generated answers versus gold references"
   ]
  },
  {
   "cell_type": "code",
   "execution_count": 10,
   "metadata": {},
   "outputs": [],
   "source": [
    "def plot_complexity(ref):\n",
    "    rows = []\n",
    "    def append_rows(file, level):\n",
    "        stats = json.load(open(f\"{file}.json\", 'r'))\n",
    "        metrics = stats[f\"{file}.conllu\"]\n",
    "        for key, value in metrics.items():\n",
    "            rows.append({\"Level\": level, \"Metric\": key, \"Value\": value['value']})\n",
    "            \n",
    "    for level in responses.keys():\n",
    "        append_rows(f\"{output_dir}{level}\", level)\n",
    "        if os.path.exists(f\"{output_dir}{level}{ref}.json\"): append_rows(f\"{output_dir}{level}{ref}\", f\"{level}{ref}\")\n",
    "    \n",
    "    df = pd.DataFrame(rows)\n",
    "    df['Normalized Value'] = df.groupby('Metric', group_keys=False)['Value'].apply(lambda x: x - x.min())\n",
    "    df['Normalized Value'] = df.groupby('Metric', group_keys=False)['Normalized Value'].apply(lambda x: x / x.max())\n",
    "    \n",
    "    plt.figure(figsize=(15, 8))\n",
    "    ax = sns.barplot(x='Metric', y='Normalized Value', hue='Level', data=df)\n",
    "    \n",
    "    plt.xticks(rotation=90)\n",
    "    plt.xlabel('Metrics')\n",
    "    plt.ylabel('Values')\n",
    "    plt.title('Metrics by CEFR Level')\n",
    "    plt.tight_layout()\n",
    "    sns.move_legend(ax, \"lower left\")\n",
    "    plt.show()"
   ]
  },
  {
   "cell_type": "code",
   "execution_count": 11,
   "metadata": {},
   "outputs": [
    {
     "data": {
      "image/png": "[encoded data removed]",
      "text/plain": [
       "<Figure size 1500x800 with 1 Axes>"
      ]
     },
     "metadata": {},
     "output_type": "display_data"
    }
   ],
   "source": [
    "plot_complexity(\"_ref\")"
   ]
  },
  {
   "cell_type": "code",
   "execution_count": 12,
   "metadata": {},
   "outputs": [
    {
     "data": {
      "image/png": "[encoded data removed]",
      "text/plain": [
       "<Figure size 1500x800 with 1 Axes>"
      ]
     },
     "metadata": {},
     "output_type": "display_data"
    }
   ],
   "source": [
    "plot_complexity(\"_ref_text\")"
   ]
  },
  {
   "cell_type": "code",
   "execution_count": 13,
   "metadata": {},
   "outputs": [
    {
     "name": "stdout",
     "output_type": "stream",
     "text": [
      "['Generated Responses' 'Reference Reponses' 'Reference Essays']\n"
     ]
    },
    {
     "data": {
      "image/png": "[encoded data removed]",
      "text/plain": [
       "<Figure size 1200x600 with 1 Axes>"
      ]
     },
     "metadata": {},
     "output_type": "display_data"
    }
   ],
   "source": [
    "greater = [\"log10 text length\", \"type-token ratio (disjoint windows)\", \"Guiraud's R (disjoint windows)\", \"Herdan's C (disjoint windows)\", \"Dugast's k (disjoint windows)\", \"Dugast's U (disjoint windows)\",\n",
    "           \"CTTR (disjoint windows)\", \"Summer's S (disjoint windows)\", \"Honoré's H (disjoint windows)\", \"entropy (disjoint windows)\", \"evenness (disjoint windows)\", \"Tuldava's LN (disjoint windows)\",\n",
    "          \"average token length (disjoint windows)\", \"Orlov's Z (disjoint windows)\", \"Gini-based dispersion (disjoint windows)\", \"evenness-based dispersion (disjoint windows)\", \"log10 text length (characters)\",\n",
    "          \"type-token ratio (moving windows)\", \"average sentence length (words)\", \"punctuation per sentence\", \"average sentence length (tokens)\", \"average sentence length (characters)\", \"average dependency distance\",\n",
    "           \"longest shortest path\", \"dependents per word\"]\n",
    "\n",
    "\n",
    "rows = []\n",
    "def append_rows(output_dir, level, suffix=\"\", label=\"Generated Responses\"):\n",
    "    file_name = output_dir + level + suffix\n",
    "    stats = json.load(open(f\"{file_name}.json\", 'r'))\n",
    "    metrics = stats[f\"{file_name}.conllu\"]\n",
    "    for key, value in metrics.items():\n",
    "        rows.append({\"Label\": label, \"Level\": level, \"Metric\": key, \"Value\": value['value'] if key in greater else 1 - value['value']})\n",
    "        \n",
    "for level in responses.keys():\n",
    "    append_rows(output_dir, level)\n",
    "    if os.path.exists(f\"{output_dir}{level}_ref.json\"): append_rows(output_dir, level, suffix=\"_ref\", label=\"Reference Reponses\")\n",
    "    if os.path.exists(f\"{output_dir}{level}_ref_text.json\"): append_rows(output_dir, level, suffix=\"_ref_text\", label=\"Reference Essays\")\n",
    "\n",
    "df = pd.DataFrame(rows)\n",
    "df['Normalized Value'] = df.groupby('Metric', group_keys=False)['Value'].apply(lambda x: x - x.min())\n",
    "df['Normalized Value'] = df.groupby('Metric', group_keys=False)['Normalized Value'].apply(lambda x: x / x.max())\n",
    "print(df.Label.unique())\n",
    "plt.figure(figsize=(12, 6))\n",
    "ax = sns.barplot(x=\"Level\", y='Normalized Value', hue=\"Label\", data=df, errorbar=None)\n",
    "\n",
    "plt.xticks(rotation=90)\n",
    "plt.xlabel('CEFR Level')\n",
    "plt.ylabel('Avg. Normalized Complexity Scores')\n",
    "plt.title('Average Metrics by CEFR Level')\n",
    "plt.tight_layout()\n",
    "plt.show()"
   ]
  },
  {
   "cell_type": "markdown",
   "metadata": {},
   "source": [
    "## Approach 1: CEFR-dialog-tuned models"
   ]
  },
  {
   "cell_type": "code",
   "execution_count": 5,
   "metadata": {},
   "outputs": [],
   "source": [
    "dir = f\"{checkpoint_dir}CEFR_dialog/\"\n",
    "model_path = [d for d in os.listdir(dir) if os.path.isdir(os.path.join(dir, d))][-1]\n",
    "model.load_adapter(dir + model_path, adapter_name=\"dialog\", device_map=\"auto\")"
   ]
  },
  {
   "cell_type": "code",
   "execution_count": 33,
   "metadata": {},
   "outputs": [
    {
     "name": "stdout",
     "output_type": "stream",
     "text": [
      "A1\n"
     ]
    },
    {
     "name": "stderr",
     "output_type": "stream",
     "text": [
      "Generate: 100%|██████████████████████████████████████████████████████████████████████████████████████████████| 1/1 [00:07<00:00,  7.39s/it]\n"
     ]
    },
    {
     "name": "stdout",
     "output_type": "stream",
     "text": [
      "That's impressive! Hendrix was inducted into the Rock and Roll Hall of Fame in 1992. He was also inducted into the UK Music Hall of Fame in 2005. He was posthumously awarded a Grammy Lifetime Achievement Award in 1992. He was also posthumously inducted into\n",
      "A2\n"
     ]
    },
    {
     "name": "stderr",
     "output_type": "stream",
     "text": [
      "Generate: 100%|██████████████████████████████████████████████████████████████████████████████████████████████| 1/1 [00:07<00:00,  7.25s/it]\n"
     ]
    },
    {
     "name": "stdout",
     "output_type": "stream",
     "text": [
      "That's impressive! Hendrix was known for his experimental and innovative playing style. He was also known for his use of feedback and distortion on his guitar. He was also known for his use of feedback and distortion on his guitar. He was also known for his use of feedback and distortion on his guitar. He was also\n",
      "B1\n"
     ]
    },
    {
     "name": "stderr",
     "output_type": "stream",
     "text": [
      "Generate: 100%|██████████████████████████████████████████████████████████████████████████████████████████████| 1/1 [00:07<00:00,  7.24s/it]\n"
     ]
    },
    {
     "name": "stdout",
     "output_type": "stream",
     "text": [
      "That's impressive, he was a very talented musician. He died in 1970 at the age of 27. He was a very talented musician. He died in 1970 at the age of 27. He was a very talented musician. He died in 1970 at the age of 27.\n",
      "B2\n"
     ]
    },
    {
     "name": "stderr",
     "output_type": "stream",
     "text": [
      "Generate: 100%|██████████████████████████████████████████████████████████████████████████████████████████████| 1/1 [00:07<00:00,  7.24s/it]\n"
     ]
    },
    {
     "name": "stdout",
     "output_type": "stream",
     "text": [
      "That's impressive, he was a very talented musician. He was known for his experimental and innovative playing style. He was also known for his ability to play the guitar with his teeth, behind his head, and between his legs. He was a true virtuoso. He was also known for his ability to play the\n",
      "C1\n"
     ]
    },
    {
     "name": "stderr",
     "output_type": "stream",
     "text": [
      "Generate: 100%|██████████████████████████████████████████████████████████████████████████████████████████████| 1/1 [00:07<00:00,  7.27s/it]\n"
     ]
    },
    {
     "name": "stdout",
     "output_type": "stream",
     "text": [
      "That's impressive, he was a very talented musician. He was known for his experimental and innovative playing style. He was also known for his ability to play the guitar with his teeth, behind his head, and between his legs. He was a true virtuoso. He was also known for his ability to play the\n",
      "C2\n"
     ]
    },
    {
     "name": "stderr",
     "output_type": "stream",
     "text": [
      "Generate: 100%|██████████████████████████████████████████████████████████████████████████████████████████████| 1/1 [00:07<00:00,  7.23s/it]"
     ]
    },
    {
     "name": "stdout",
     "output_type": "stream",
     "text": [
      "That's impressive, he must have been a great musician. He was inducted into the Rock and Roll Hall of Fame in 1992. He was inducted into the UK Music Hall of Fame in 2005. He was posthumously awarded the Grammy Lifetime Achievement Award in 1992. He was post\n"
     ]
    },
    {
     "name": "stderr",
     "output_type": "stream",
     "text": [
      "\n"
     ]
    }
   ],
   "source": [
    "for level in np.unique(dataset['CEFR']):\n",
    "    print(level)\n",
    "    item = {\"context\": context, \"CEFR\": level, \"response\": response}\n",
    "    item = helpers.get_CEFR_prompt(item, apply_chat_template=tokenizer.apply_chat_template)\n",
    "    print(models.generate(model, tokenizer, [item['prompt']], max_new_tokens=64, num_beams=3, length_penalty=10.))"
   ]
  },
  {
   "cell_type": "markdown",
   "metadata": {},
   "source": [
    "## Approach 2: CEFR-text-tuned models to guide decoding"
   ]
  },
  {
   "cell_type": "markdown",
   "metadata": {},
   "source": [
    "Load finetuned models"
   ]
  },
  {
   "cell_type": "code",
   "execution_count": 50,
   "metadata": {
    "scrolled": true
   },
   "outputs": [
    {
     "data": {
      "application/vnd.jupyter.widget-view+json": {
       "model_id": "53434fed48eb45b3be7783a2694603cc",
       "version_major": 2,
       "version_minor": 0
      },
      "text/plain": [
       "config.json:   0%|          | 0.00/654 [00:00<?, ?B/s]"
      ]
     },
     "metadata": {},
     "output_type": "display_data"
    },
    {
     "data": {
      "application/vnd.jupyter.widget-view+json": {
       "model_id": "736eea0250fa4b59a00a0aca4dc593f1",
       "version_major": 2,
       "version_minor": 0
      },
      "text/plain": [
       "model.safetensors.index.json:   0%|          | 0.00/23.9k [00:00<?, ?B/s]"
      ]
     },
     "metadata": {},
     "output_type": "display_data"
    },
    {
     "data": {
      "application/vnd.jupyter.widget-view+json": {
       "model_id": "9cf78f4fa3a24decbe1df02292468f69",
       "version_major": 2,
       "version_minor": 0
      },
      "text/plain": [
       "Downloading shards:   0%|          | 0/4 [00:00<?, ?it/s]"
      ]
     },
     "metadata": {},
     "output_type": "display_data"
    },
    {
     "data": {
      "application/vnd.jupyter.widget-view+json": {
       "model_id": "25a363409e454dab97f5ff3570625b47",
       "version_major": 2,
       "version_minor": 0
      },
      "text/plain": [
       "model-00001-of-00004.safetensors:   0%|          | 0.00/4.98G [00:00<?, ?B/s]"
      ]
     },
     "metadata": {},
     "output_type": "display_data"
    },
    {
     "ename": "KeyboardInterrupt",
     "evalue": "",
     "output_type": "error",
     "traceback": [
      "\u001b[0;31m---------------------------------------------------------------------------\u001b[0m",
      "\u001b[0;31mKeyboardInterrupt\u001b[0m                         Traceback (most recent call last)",
      "Cell \u001b[0;32mIn[50], line 1\u001b[0m\n\u001b[0;32m----> 1\u001b[0m model, tokenizer \u001b[38;5;241m=\u001b[39m \u001b[43mmodels\u001b[49m\u001b[38;5;241;43m.\u001b[39;49m\u001b[43mload_generator\u001b[49m\u001b[43m(\u001b[49m\u001b[38;5;124;43m\"\u001b[39;49m\u001b[38;5;124;43mmeta-llama/Meta-Llama-3-8B-Instruct\u001b[39;49m\u001b[38;5;124;43m\"\u001b[39;49m\u001b[43m)\u001b[49m\n",
      "File \u001b[0;32m~/grammarctg/experiments/../source/models.py:260\u001b[0m, in \u001b[0;36mload_generator\u001b[0;34m(model_name, quantized)\u001b[0m\n\u001b[1;32m    256\u001b[0m \u001b[38;5;250m\u001b[39m\u001b[38;5;124;03m\"\"\"\u001b[39;00m\n\u001b[1;32m    257\u001b[0m \u001b[38;5;124;03mThis loads the specified model with its tokenizer for text generation, optionally in 4 bit\u001b[39;00m\n\u001b[1;32m    258\u001b[0m \u001b[38;5;124;03m\"\"\"\u001b[39;00m\n\u001b[1;32m    259\u001b[0m bnb_config \u001b[38;5;241m=\u001b[39m BitsAndBytesConfig(load_in_4bit\u001b[38;5;241m=\u001b[39m\u001b[38;5;28;01mTrue\u001b[39;00m, bnb_4bit_compute_dtype\u001b[38;5;241m=\u001b[39mtorch\u001b[38;5;241m.\u001b[39mfloat16, bnb_4bit_quant_type\u001b[38;5;241m=\u001b[39m\u001b[38;5;124m\"\u001b[39m\u001b[38;5;124mnf4\u001b[39m\u001b[38;5;124m\"\u001b[39m)\n\u001b[0;32m--> 260\u001b[0m model \u001b[38;5;241m=\u001b[39m \u001b[43mAutoModelForCausalLM\u001b[49m\u001b[38;5;241;43m.\u001b[39;49m\u001b[43mfrom_pretrained\u001b[49m\u001b[43m(\u001b[49m\u001b[43mmodel_name\u001b[49m\u001b[43m,\u001b[49m\u001b[43m \u001b[49m\u001b[43mquantization_config\u001b[49m\u001b[38;5;241;43m=\u001b[39;49m\u001b[43mbnb_config\u001b[49m\u001b[43m \u001b[49m\u001b[38;5;28;43;01mif\u001b[39;49;00m\u001b[43m \u001b[49m\u001b[43mquantized\u001b[49m\u001b[43m \u001b[49m\u001b[38;5;28;43;01melse\u001b[39;49;00m\u001b[43m \u001b[49m\u001b[38;5;28;43;01mNone\u001b[39;49;00m\u001b[43m,\u001b[49m\u001b[43m \u001b[49m\u001b[43mcache_dir\u001b[49m\u001b[38;5;241;43m=\u001b[39;49m\u001b[43mos\u001b[49m\u001b[38;5;241;43m.\u001b[39;49m\u001b[43mgetenv\u001b[49m\u001b[43m(\u001b[49m\u001b[38;5;124;43m'\u001b[39;49m\u001b[38;5;124;43mCACHE_DIR\u001b[39;49m\u001b[38;5;124;43m'\u001b[39;49m\u001b[43m)\u001b[49m\u001b[43m,\u001b[49m\u001b[43m \u001b[49m\u001b[43mdevice_map\u001b[49m\u001b[38;5;241;43m=\u001b[39;49m\u001b[38;5;124;43m\"\u001b[39;49m\u001b[38;5;124;43mauto\u001b[39;49m\u001b[38;5;124;43m\"\u001b[39;49m\u001b[43m)\u001b[49m\n\u001b[1;32m    261\u001b[0m tokenizer \u001b[38;5;241m=\u001b[39m AutoTokenizer\u001b[38;5;241m.\u001b[39mfrom_pretrained(model_name, trust_remote_code\u001b[38;5;241m=\u001b[39m\u001b[38;5;28;01mTrue\u001b[39;00m, cache_dir\u001b[38;5;241m=\u001b[39mos\u001b[38;5;241m.\u001b[39mgetenv(\u001b[38;5;124m'\u001b[39m\u001b[38;5;124mCACHE_DIR\u001b[39m\u001b[38;5;124m'\u001b[39m), padding_side\u001b[38;5;241m=\u001b[39m\u001b[38;5;124m\"\u001b[39m\u001b[38;5;124mright\u001b[39m\u001b[38;5;124m\"\u001b[39m)\n\u001b[1;32m    262\u001b[0m \u001b[38;5;28;01mif\u001b[39;00m \u001b[38;5;124m\"\u001b[39m\u001b[38;5;124mllama\u001b[39m\u001b[38;5;124m\"\u001b[39m \u001b[38;5;129;01min\u001b[39;00m model_name:\n",
      "File \u001b[0;32m~/gctg/lib64/python3.11/site-packages/transformers/models/auto/auto_factory.py:563\u001b[0m, in \u001b[0;36m_BaseAutoModelClass.from_pretrained\u001b[0;34m(cls, pretrained_model_name_or_path, *model_args, **kwargs)\u001b[0m\n\u001b[1;32m    561\u001b[0m \u001b[38;5;28;01melif\u001b[39;00m \u001b[38;5;28mtype\u001b[39m(config) \u001b[38;5;129;01min\u001b[39;00m \u001b[38;5;28mcls\u001b[39m\u001b[38;5;241m.\u001b[39m_model_mapping\u001b[38;5;241m.\u001b[39mkeys():\n\u001b[1;32m    562\u001b[0m     model_class \u001b[38;5;241m=\u001b[39m _get_model_class(config, \u001b[38;5;28mcls\u001b[39m\u001b[38;5;241m.\u001b[39m_model_mapping)\n\u001b[0;32m--> 563\u001b[0m     \u001b[38;5;28;01mreturn\u001b[39;00m \u001b[43mmodel_class\u001b[49m\u001b[38;5;241;43m.\u001b[39;49m\u001b[43mfrom_pretrained\u001b[49m\u001b[43m(\u001b[49m\n\u001b[1;32m    564\u001b[0m \u001b[43m        \u001b[49m\u001b[43mpretrained_model_name_or_path\u001b[49m\u001b[43m,\u001b[49m\u001b[43m \u001b[49m\u001b[38;5;241;43m*\u001b[39;49m\u001b[43mmodel_args\u001b[49m\u001b[43m,\u001b[49m\u001b[43m \u001b[49m\u001b[43mconfig\u001b[49m\u001b[38;5;241;43m=\u001b[39;49m\u001b[43mconfig\u001b[49m\u001b[43m,\u001b[49m\u001b[43m \u001b[49m\u001b[38;5;241;43m*\u001b[39;49m\u001b[38;5;241;43m*\u001b[39;49m\u001b[43mhub_kwargs\u001b[49m\u001b[43m,\u001b[49m\u001b[43m \u001b[49m\u001b[38;5;241;43m*\u001b[39;49m\u001b[38;5;241;43m*\u001b[39;49m\u001b[43mkwargs\u001b[49m\n\u001b[1;32m    565\u001b[0m \u001b[43m    \u001b[49m\u001b[43m)\u001b[49m\n\u001b[1;32m    566\u001b[0m \u001b[38;5;28;01mraise\u001b[39;00m \u001b[38;5;167;01mValueError\u001b[39;00m(\n\u001b[1;32m    567\u001b[0m     \u001b[38;5;124mf\u001b[39m\u001b[38;5;124m\"\u001b[39m\u001b[38;5;124mUnrecognized configuration class \u001b[39m\u001b[38;5;132;01m{\u001b[39;00mconfig\u001b[38;5;241m.\u001b[39m\u001b[38;5;18m__class__\u001b[39m\u001b[38;5;132;01m}\u001b[39;00m\u001b[38;5;124m for this kind of AutoModel: \u001b[39m\u001b[38;5;132;01m{\u001b[39;00m\u001b[38;5;28mcls\u001b[39m\u001b[38;5;241m.\u001b[39m\u001b[38;5;18m__name__\u001b[39m\u001b[38;5;132;01m}\u001b[39;00m\u001b[38;5;124m.\u001b[39m\u001b[38;5;130;01m\\n\u001b[39;00m\u001b[38;5;124m\"\u001b[39m\n\u001b[1;32m    568\u001b[0m     \u001b[38;5;124mf\u001b[39m\u001b[38;5;124m\"\u001b[39m\u001b[38;5;124mModel type should be one of \u001b[39m\u001b[38;5;132;01m{\u001b[39;00m\u001b[38;5;124m'\u001b[39m\u001b[38;5;124m, \u001b[39m\u001b[38;5;124m'\u001b[39m\u001b[38;5;241m.\u001b[39mjoin(c\u001b[38;5;241m.\u001b[39m\u001b[38;5;18m__name__\u001b[39m\u001b[38;5;250m \u001b[39m\u001b[38;5;28;01mfor\u001b[39;00m\u001b[38;5;250m \u001b[39mc\u001b[38;5;250m \u001b[39m\u001b[38;5;129;01min\u001b[39;00m\u001b[38;5;250m \u001b[39m\u001b[38;5;28mcls\u001b[39m\u001b[38;5;241m.\u001b[39m_model_mapping\u001b[38;5;241m.\u001b[39mkeys())\u001b[38;5;132;01m}\u001b[39;00m\u001b[38;5;124m.\u001b[39m\u001b[38;5;124m\"\u001b[39m\n\u001b[1;32m    569\u001b[0m )\n",
      "File \u001b[0;32m~/gctg/lib64/python3.11/site-packages/transformers/modeling_utils.py:3290\u001b[0m, in \u001b[0;36mPreTrainedModel.from_pretrained\u001b[0;34m(cls, pretrained_model_name_or_path, config, cache_dir, ignore_mismatched_sizes, force_download, local_files_only, token, revision, use_safetensors, *model_args, **kwargs)\u001b[0m\n\u001b[1;32m   3287\u001b[0m \u001b[38;5;66;03m# We'll need to download and cache each checkpoint shard if the checkpoint is sharded.\u001b[39;00m\n\u001b[1;32m   3288\u001b[0m \u001b[38;5;28;01mif\u001b[39;00m is_sharded:\n\u001b[1;32m   3289\u001b[0m     \u001b[38;5;66;03m# rsolved_archive_file becomes a list of files that point to the different checkpoint shards in this case.\u001b[39;00m\n\u001b[0;32m-> 3290\u001b[0m     resolved_archive_file, sharded_metadata \u001b[38;5;241m=\u001b[39m \u001b[43mget_checkpoint_shard_files\u001b[49m\u001b[43m(\u001b[49m\n\u001b[1;32m   3291\u001b[0m \u001b[43m        \u001b[49m\u001b[43mpretrained_model_name_or_path\u001b[49m\u001b[43m,\u001b[49m\n\u001b[1;32m   3292\u001b[0m \u001b[43m        \u001b[49m\u001b[43mresolved_archive_file\u001b[49m\u001b[43m,\u001b[49m\n\u001b[1;32m   3293\u001b[0m \u001b[43m        \u001b[49m\u001b[43mcache_dir\u001b[49m\u001b[38;5;241;43m=\u001b[39;49m\u001b[43mcache_dir\u001b[49m\u001b[43m,\u001b[49m\n\u001b[1;32m   3294\u001b[0m \u001b[43m        \u001b[49m\u001b[43mforce_download\u001b[49m\u001b[38;5;241;43m=\u001b[39;49m\u001b[43mforce_download\u001b[49m\u001b[43m,\u001b[49m\n\u001b[1;32m   3295\u001b[0m \u001b[43m        \u001b[49m\u001b[43mproxies\u001b[49m\u001b[38;5;241;43m=\u001b[39;49m\u001b[43mproxies\u001b[49m\u001b[43m,\u001b[49m\n\u001b[1;32m   3296\u001b[0m \u001b[43m        \u001b[49m\u001b[43mresume_download\u001b[49m\u001b[38;5;241;43m=\u001b[39;49m\u001b[43mresume_download\u001b[49m\u001b[43m,\u001b[49m\n\u001b[1;32m   3297\u001b[0m \u001b[43m        \u001b[49m\u001b[43mlocal_files_only\u001b[49m\u001b[38;5;241;43m=\u001b[39;49m\u001b[43mlocal_files_only\u001b[49m\u001b[43m,\u001b[49m\n\u001b[1;32m   3298\u001b[0m \u001b[43m        \u001b[49m\u001b[43mtoken\u001b[49m\u001b[38;5;241;43m=\u001b[39;49m\u001b[43mtoken\u001b[49m\u001b[43m,\u001b[49m\n\u001b[1;32m   3299\u001b[0m \u001b[43m        \u001b[49m\u001b[43muser_agent\u001b[49m\u001b[38;5;241;43m=\u001b[39;49m\u001b[43muser_agent\u001b[49m\u001b[43m,\u001b[49m\n\u001b[1;32m   3300\u001b[0m \u001b[43m        \u001b[49m\u001b[43mrevision\u001b[49m\u001b[38;5;241;43m=\u001b[39;49m\u001b[43mrevision\u001b[49m\u001b[43m,\u001b[49m\n\u001b[1;32m   3301\u001b[0m \u001b[43m        \u001b[49m\u001b[43msubfolder\u001b[49m\u001b[38;5;241;43m=\u001b[39;49m\u001b[43msubfolder\u001b[49m\u001b[43m,\u001b[49m\n\u001b[1;32m   3302\u001b[0m \u001b[43m        \u001b[49m\u001b[43m_commit_hash\u001b[49m\u001b[38;5;241;43m=\u001b[39;49m\u001b[43mcommit_hash\u001b[49m\u001b[43m,\u001b[49m\n\u001b[1;32m   3303\u001b[0m \u001b[43m    \u001b[49m\u001b[43m)\u001b[49m\n\u001b[1;32m   3305\u001b[0m \u001b[38;5;28;01mif\u001b[39;00m (\n\u001b[1;32m   3306\u001b[0m     is_safetensors_available()\n\u001b[1;32m   3307\u001b[0m     \u001b[38;5;129;01mand\u001b[39;00m \u001b[38;5;28misinstance\u001b[39m(resolved_archive_file, \u001b[38;5;28mstr\u001b[39m)\n\u001b[1;32m   3308\u001b[0m     \u001b[38;5;129;01mand\u001b[39;00m resolved_archive_file\u001b[38;5;241m.\u001b[39mendswith(\u001b[38;5;124m\"\u001b[39m\u001b[38;5;124m.safetensors\u001b[39m\u001b[38;5;124m\"\u001b[39m)\n\u001b[1;32m   3309\u001b[0m ):\n\u001b[1;32m   3310\u001b[0m     \u001b[38;5;28;01mwith\u001b[39;00m safe_open(resolved_archive_file, framework\u001b[38;5;241m=\u001b[39m\u001b[38;5;124m\"\u001b[39m\u001b[38;5;124mpt\u001b[39m\u001b[38;5;124m\"\u001b[39m) \u001b[38;5;28;01mas\u001b[39;00m f:\n",
      "File \u001b[0;32m~/gctg/lib64/python3.11/site-packages/transformers/utils/hub.py:1038\u001b[0m, in \u001b[0;36mget_checkpoint_shard_files\u001b[0;34m(pretrained_model_name_or_path, index_filename, cache_dir, force_download, proxies, resume_download, local_files_only, token, user_agent, revision, subfolder, _commit_hash, **deprecated_kwargs)\u001b[0m\n\u001b[1;32m   1035\u001b[0m \u001b[38;5;28;01mfor\u001b[39;00m shard_filename \u001b[38;5;129;01min\u001b[39;00m tqdm(shard_filenames, desc\u001b[38;5;241m=\u001b[39m\u001b[38;5;124m\"\u001b[39m\u001b[38;5;124mDownloading shards\u001b[39m\u001b[38;5;124m\"\u001b[39m, disable\u001b[38;5;241m=\u001b[39m\u001b[38;5;129;01mnot\u001b[39;00m show_progress_bar):\n\u001b[1;32m   1036\u001b[0m     \u001b[38;5;28;01mtry\u001b[39;00m:\n\u001b[1;32m   1037\u001b[0m         \u001b[38;5;66;03m# Load from URL\u001b[39;00m\n\u001b[0;32m-> 1038\u001b[0m         cached_filename \u001b[38;5;241m=\u001b[39m \u001b[43mcached_file\u001b[49m\u001b[43m(\u001b[49m\n\u001b[1;32m   1039\u001b[0m \u001b[43m            \u001b[49m\u001b[43mpretrained_model_name_or_path\u001b[49m\u001b[43m,\u001b[49m\n\u001b[1;32m   1040\u001b[0m \u001b[43m            \u001b[49m\u001b[43mshard_filename\u001b[49m\u001b[43m,\u001b[49m\n\u001b[1;32m   1041\u001b[0m \u001b[43m            \u001b[49m\u001b[43mcache_dir\u001b[49m\u001b[38;5;241;43m=\u001b[39;49m\u001b[43mcache_dir\u001b[49m\u001b[43m,\u001b[49m\n\u001b[1;32m   1042\u001b[0m \u001b[43m            \u001b[49m\u001b[43mforce_download\u001b[49m\u001b[38;5;241;43m=\u001b[39;49m\u001b[43mforce_download\u001b[49m\u001b[43m,\u001b[49m\n\u001b[1;32m   1043\u001b[0m \u001b[43m            \u001b[49m\u001b[43mproxies\u001b[49m\u001b[38;5;241;43m=\u001b[39;49m\u001b[43mproxies\u001b[49m\u001b[43m,\u001b[49m\n\u001b[1;32m   1044\u001b[0m \u001b[43m            \u001b[49m\u001b[43mresume_download\u001b[49m\u001b[38;5;241;43m=\u001b[39;49m\u001b[43mresume_download\u001b[49m\u001b[43m,\u001b[49m\n\u001b[1;32m   1045\u001b[0m \u001b[43m            \u001b[49m\u001b[43mlocal_files_only\u001b[49m\u001b[38;5;241;43m=\u001b[39;49m\u001b[43mlocal_files_only\u001b[49m\u001b[43m,\u001b[49m\n\u001b[1;32m   1046\u001b[0m \u001b[43m            \u001b[49m\u001b[43mtoken\u001b[49m\u001b[38;5;241;43m=\u001b[39;49m\u001b[43mtoken\u001b[49m\u001b[43m,\u001b[49m\n\u001b[1;32m   1047\u001b[0m \u001b[43m            \u001b[49m\u001b[43muser_agent\u001b[49m\u001b[38;5;241;43m=\u001b[39;49m\u001b[43muser_agent\u001b[49m\u001b[43m,\u001b[49m\n\u001b[1;32m   1048\u001b[0m \u001b[43m            \u001b[49m\u001b[43mrevision\u001b[49m\u001b[38;5;241;43m=\u001b[39;49m\u001b[43mrevision\u001b[49m\u001b[43m,\u001b[49m\n\u001b[1;32m   1049\u001b[0m \u001b[43m            \u001b[49m\u001b[43msubfolder\u001b[49m\u001b[38;5;241;43m=\u001b[39;49m\u001b[43msubfolder\u001b[49m\u001b[43m,\u001b[49m\n\u001b[1;32m   1050\u001b[0m \u001b[43m            \u001b[49m\u001b[43m_commit_hash\u001b[49m\u001b[38;5;241;43m=\u001b[39;49m\u001b[43m_commit_hash\u001b[49m\u001b[43m,\u001b[49m\n\u001b[1;32m   1051\u001b[0m \u001b[43m        \u001b[49m\u001b[43m)\u001b[49m\n\u001b[1;32m   1052\u001b[0m     \u001b[38;5;66;03m# We have already dealt with RepositoryNotFoundError and RevisionNotFoundError when getting the index, so\u001b[39;00m\n\u001b[1;32m   1053\u001b[0m     \u001b[38;5;66;03m# we don't have to catch them here.\u001b[39;00m\n\u001b[1;32m   1054\u001b[0m     \u001b[38;5;28;01mexcept\u001b[39;00m EntryNotFoundError:\n",
      "File \u001b[0;32m~/gctg/lib64/python3.11/site-packages/transformers/utils/hub.py:398\u001b[0m, in \u001b[0;36mcached_file\u001b[0;34m(path_or_repo_id, filename, cache_dir, force_download, resume_download, proxies, token, revision, local_files_only, subfolder, repo_type, user_agent, _raise_exceptions_for_gated_repo, _raise_exceptions_for_missing_entries, _raise_exceptions_for_connection_errors, _commit_hash, **deprecated_kwargs)\u001b[0m\n\u001b[1;32m    395\u001b[0m user_agent \u001b[38;5;241m=\u001b[39m http_user_agent(user_agent)\n\u001b[1;32m    396\u001b[0m \u001b[38;5;28;01mtry\u001b[39;00m:\n\u001b[1;32m    397\u001b[0m     \u001b[38;5;66;03m# Load from URL or cache if already cached\u001b[39;00m\n\u001b[0;32m--> 398\u001b[0m     resolved_file \u001b[38;5;241m=\u001b[39m \u001b[43mhf_hub_download\u001b[49m\u001b[43m(\u001b[49m\n\u001b[1;32m    399\u001b[0m \u001b[43m        \u001b[49m\u001b[43mpath_or_repo_id\u001b[49m\u001b[43m,\u001b[49m\n\u001b[1;32m    400\u001b[0m \u001b[43m        \u001b[49m\u001b[43mfilename\u001b[49m\u001b[43m,\u001b[49m\n\u001b[1;32m    401\u001b[0m \u001b[43m        \u001b[49m\u001b[43msubfolder\u001b[49m\u001b[38;5;241;43m=\u001b[39;49m\u001b[38;5;28;43;01mNone\u001b[39;49;00m\u001b[43m \u001b[49m\u001b[38;5;28;43;01mif\u001b[39;49;00m\u001b[43m \u001b[49m\u001b[38;5;28;43mlen\u001b[39;49m\u001b[43m(\u001b[49m\u001b[43msubfolder\u001b[49m\u001b[43m)\u001b[49m\u001b[43m \u001b[49m\u001b[38;5;241;43m==\u001b[39;49m\u001b[43m \u001b[49m\u001b[38;5;241;43m0\u001b[39;49m\u001b[43m \u001b[49m\u001b[38;5;28;43;01melse\u001b[39;49;00m\u001b[43m \u001b[49m\u001b[43msubfolder\u001b[49m\u001b[43m,\u001b[49m\n\u001b[1;32m    402\u001b[0m \u001b[43m        \u001b[49m\u001b[43mrepo_type\u001b[49m\u001b[38;5;241;43m=\u001b[39;49m\u001b[43mrepo_type\u001b[49m\u001b[43m,\u001b[49m\n\u001b[1;32m    403\u001b[0m \u001b[43m        \u001b[49m\u001b[43mrevision\u001b[49m\u001b[38;5;241;43m=\u001b[39;49m\u001b[43mrevision\u001b[49m\u001b[43m,\u001b[49m\n\u001b[1;32m    404\u001b[0m \u001b[43m        \u001b[49m\u001b[43mcache_dir\u001b[49m\u001b[38;5;241;43m=\u001b[39;49m\u001b[43mcache_dir\u001b[49m\u001b[43m,\u001b[49m\n\u001b[1;32m    405\u001b[0m \u001b[43m        \u001b[49m\u001b[43muser_agent\u001b[49m\u001b[38;5;241;43m=\u001b[39;49m\u001b[43muser_agent\u001b[49m\u001b[43m,\u001b[49m\n\u001b[1;32m    406\u001b[0m \u001b[43m        \u001b[49m\u001b[43mforce_download\u001b[49m\u001b[38;5;241;43m=\u001b[39;49m\u001b[43mforce_download\u001b[49m\u001b[43m,\u001b[49m\n\u001b[1;32m    407\u001b[0m \u001b[43m        \u001b[49m\u001b[43mproxies\u001b[49m\u001b[38;5;241;43m=\u001b[39;49m\u001b[43mproxies\u001b[49m\u001b[43m,\u001b[49m\n\u001b[1;32m    408\u001b[0m \u001b[43m        \u001b[49m\u001b[43mresume_download\u001b[49m\u001b[38;5;241;43m=\u001b[39;49m\u001b[43mresume_download\u001b[49m\u001b[43m,\u001b[49m\n\u001b[1;32m    409\u001b[0m \u001b[43m        \u001b[49m\u001b[43mtoken\u001b[49m\u001b[38;5;241;43m=\u001b[39;49m\u001b[43mtoken\u001b[49m\u001b[43m,\u001b[49m\n\u001b[1;32m    410\u001b[0m \u001b[43m        \u001b[49m\u001b[43mlocal_files_only\u001b[49m\u001b[38;5;241;43m=\u001b[39;49m\u001b[43mlocal_files_only\u001b[49m\u001b[43m,\u001b[49m\n\u001b[1;32m    411\u001b[0m \u001b[43m    \u001b[49m\u001b[43m)\u001b[49m\n\u001b[1;32m    412\u001b[0m \u001b[38;5;28;01mexcept\u001b[39;00m GatedRepoError \u001b[38;5;28;01mas\u001b[39;00m e:\n\u001b[1;32m    413\u001b[0m     resolved_file \u001b[38;5;241m=\u001b[39m _get_cache_file_to_return(path_or_repo_id, full_filename, cache_dir, revision)\n",
      "File \u001b[0;32m~/gctg/lib64/python3.11/site-packages/huggingface_hub/utils/_validators.py:119\u001b[0m, in \u001b[0;36mvalidate_hf_hub_args.<locals>._inner_fn\u001b[0;34m(*args, **kwargs)\u001b[0m\n\u001b[1;32m    116\u001b[0m \u001b[38;5;28;01mif\u001b[39;00m check_use_auth_token:\n\u001b[1;32m    117\u001b[0m     kwargs \u001b[38;5;241m=\u001b[39m smoothly_deprecate_use_auth_token(fn_name\u001b[38;5;241m=\u001b[39mfn\u001b[38;5;241m.\u001b[39m\u001b[38;5;18m__name__\u001b[39m, has_token\u001b[38;5;241m=\u001b[39mhas_token, kwargs\u001b[38;5;241m=\u001b[39mkwargs)\n\u001b[0;32m--> 119\u001b[0m \u001b[38;5;28;01mreturn\u001b[39;00m \u001b[43mfn\u001b[49m\u001b[43m(\u001b[49m\u001b[38;5;241;43m*\u001b[39;49m\u001b[43margs\u001b[49m\u001b[43m,\u001b[49m\u001b[43m \u001b[49m\u001b[38;5;241;43m*\u001b[39;49m\u001b[38;5;241;43m*\u001b[39;49m\u001b[43mkwargs\u001b[49m\u001b[43m)\u001b[49m\n",
      "File \u001b[0;32m~/gctg/lib64/python3.11/site-packages/huggingface_hub/file_download.py:1492\u001b[0m, in \u001b[0;36mhf_hub_download\u001b[0;34m(repo_id, filename, subfolder, repo_type, revision, library_name, library_version, cache_dir, local_dir, local_dir_use_symlinks, user_agent, force_download, force_filename, proxies, etag_timeout, resume_download, token, local_files_only, headers, legacy_cache_layout, endpoint)\u001b[0m\n\u001b[1;32m   1489\u001b[0m         \u001b[38;5;28;01mif\u001b[39;00m local_dir \u001b[38;5;129;01mis\u001b[39;00m \u001b[38;5;129;01mnot\u001b[39;00m \u001b[38;5;28;01mNone\u001b[39;00m:\n\u001b[1;32m   1490\u001b[0m             _check_disk_space(expected_size, local_dir)\n\u001b[0;32m-> 1492\u001b[0m     \u001b[43mhttp_get\u001b[49m\u001b[43m(\u001b[49m\n\u001b[1;32m   1493\u001b[0m \u001b[43m        \u001b[49m\u001b[43murl_to_download\u001b[49m\u001b[43m,\u001b[49m\n\u001b[1;32m   1494\u001b[0m \u001b[43m        \u001b[49m\u001b[43mtemp_file\u001b[49m\u001b[43m,\u001b[49m\n\u001b[1;32m   1495\u001b[0m \u001b[43m        \u001b[49m\u001b[43mproxies\u001b[49m\u001b[38;5;241;43m=\u001b[39;49m\u001b[43mproxies\u001b[49m\u001b[43m,\u001b[49m\n\u001b[1;32m   1496\u001b[0m \u001b[43m        \u001b[49m\u001b[43mresume_size\u001b[49m\u001b[38;5;241;43m=\u001b[39;49m\u001b[43mresume_size\u001b[49m\u001b[43m,\u001b[49m\n\u001b[1;32m   1497\u001b[0m \u001b[43m        \u001b[49m\u001b[43mheaders\u001b[49m\u001b[38;5;241;43m=\u001b[39;49m\u001b[43mheaders\u001b[49m\u001b[43m,\u001b[49m\n\u001b[1;32m   1498\u001b[0m \u001b[43m        \u001b[49m\u001b[43mexpected_size\u001b[49m\u001b[38;5;241;43m=\u001b[39;49m\u001b[43mexpected_size\u001b[49m\u001b[43m,\u001b[49m\n\u001b[1;32m   1499\u001b[0m \u001b[43m        \u001b[49m\u001b[43mdisplayed_filename\u001b[49m\u001b[38;5;241;43m=\u001b[39;49m\u001b[43mfilename\u001b[49m\u001b[43m,\u001b[49m\n\u001b[1;32m   1500\u001b[0m \u001b[43m    \u001b[49m\u001b[43m)\u001b[49m\n\u001b[1;32m   1502\u001b[0m \u001b[38;5;28;01mif\u001b[39;00m local_dir \u001b[38;5;129;01mis\u001b[39;00m \u001b[38;5;28;01mNone\u001b[39;00m:\n\u001b[1;32m   1503\u001b[0m     logger\u001b[38;5;241m.\u001b[39mdebug(\u001b[38;5;124mf\u001b[39m\u001b[38;5;124m\"\u001b[39m\u001b[38;5;124mStoring \u001b[39m\u001b[38;5;132;01m{\u001b[39;00murl\u001b[38;5;132;01m}\u001b[39;00m\u001b[38;5;124m in cache at \u001b[39m\u001b[38;5;132;01m{\u001b[39;00mblob_path\u001b[38;5;132;01m}\u001b[39;00m\u001b[38;5;124m\"\u001b[39m)\n",
      "File \u001b[0;32m~/gctg/lib64/python3.11/site-packages/huggingface_hub/file_download.py:538\u001b[0m, in \u001b[0;36mhttp_get\u001b[0;34m(url, temp_file, proxies, resume_size, headers, expected_size, displayed_filename, _nb_retries, _tqdm_bar)\u001b[0m\n\u001b[1;32m    536\u001b[0m \u001b[38;5;28;01mif\u001b[39;00m chunk:  \u001b[38;5;66;03m# filter out keep-alive new chunks\u001b[39;00m\n\u001b[1;32m    537\u001b[0m     progress\u001b[38;5;241m.\u001b[39mupdate(\u001b[38;5;28mlen\u001b[39m(chunk))\n\u001b[0;32m--> 538\u001b[0m     \u001b[43mtemp_file\u001b[49m\u001b[38;5;241;43m.\u001b[39;49m\u001b[43mwrite\u001b[49m\u001b[43m(\u001b[49m\u001b[43mchunk\u001b[49m\u001b[43m)\u001b[49m\n\u001b[1;32m    539\u001b[0m     new_resume_size \u001b[38;5;241m+\u001b[39m\u001b[38;5;241m=\u001b[39m \u001b[38;5;28mlen\u001b[39m(chunk)\n\u001b[1;32m    540\u001b[0m     \u001b[38;5;66;03m# Some data has been downloaded from the server so we reset the number of retries.\u001b[39;00m\n",
      "File \u001b[0;32m/cluster/apps/nss/gcc-8.2.0/python/3.11.2/x86_64/lib64/python3.11/tempfile.py:483\u001b[0m, in \u001b[0;36m_TemporaryFileWrapper.__getattr__.<locals>.func_wrapper\u001b[0;34m(*args, **kwargs)\u001b[0m\n\u001b[1;32m    481\u001b[0m \u001b[38;5;129m@_functools\u001b[39m\u001b[38;5;241m.\u001b[39mwraps(func)\n\u001b[1;32m    482\u001b[0m \u001b[38;5;28;01mdef\u001b[39;00m \u001b[38;5;21mfunc_wrapper\u001b[39m(\u001b[38;5;241m*\u001b[39margs, \u001b[38;5;241m*\u001b[39m\u001b[38;5;241m*\u001b[39mkwargs):\n\u001b[0;32m--> 483\u001b[0m     \u001b[38;5;28;01mreturn\u001b[39;00m \u001b[43mfunc\u001b[49m\u001b[43m(\u001b[49m\u001b[38;5;241;43m*\u001b[39;49m\u001b[43margs\u001b[49m\u001b[43m,\u001b[49m\u001b[43m \u001b[49m\u001b[38;5;241;43m*\u001b[39;49m\u001b[38;5;241;43m*\u001b[39;49m\u001b[43mkwargs\u001b[49m\u001b[43m)\u001b[49m\n",
      "\u001b[0;31mKeyboardInterrupt\u001b[0m: "
     ]
    }
   ],
   "source": [
    "model, tokenizer = models.load_generator(\"meta-llama/Meta-Llama-3-8B-Instruct\")"
   ]
  },
  {
   "cell_type": "code",
   "execution_count": 5,
   "metadata": {},
   "outputs": [
    {
     "data": {
      "application/vnd.jupyter.widget-view+json": {
       "model_id": "eec80fc0b5eb47e9b668cb2b7552bf59",
       "version_major": 2,
       "version_minor": 0
      },
      "text/plain": [
       "Loading checkpoint shards:   0%|          | 0/4 [00:00<?, ?it/s]"
      ]
     },
     "metadata": {},
     "output_type": "display_data"
    }
   ],
   "source": [
    "model = models.AutoModelForCausalLM.from_pretrained(\"meta-llama/Meta-Llama-3-8B-Instruct\", cache_dir=os.getenv('CACHE_DIR'), device_map=\"sequential\")"
   ]
  },
  {
   "cell_type": "code",
   "execution_count": 6,
   "metadata": {},
   "outputs": [],
   "source": [
    "lvl_models = {\n",
    "    \"A1\": f\"{checkpoint_dir}CEFR_A1\",\n",
    "    \"A2\": f\"{checkpoint_dir}CEFR_A2\",\n",
    "    \"B1\": f\"{checkpoint_dir}CEFR_B1\",\n",
    "    \"B2\": f\"{checkpoint_dir}CEFR_B2\"\n",
    "}"
   ]
  },
  {
   "cell_type": "code",
   "execution_count": 7,
   "metadata": {
    "collapsed": true,
    "jupyter": {
     "outputs_hidden": true
    }
   },
   "outputs": [
    {
     "data": {
      "application/vnd.jupyter.widget-view+json": {
       "model_id": "365aa6a6352e4fab8f0f25cb4914f8dd",
       "version_major": 2,
       "version_minor": 0
      },
      "text/plain": [
       "config.json:   0%|          | 0.00/654 [00:00<?, ?B/s]"
      ]
     },
     "metadata": {},
     "output_type": "display_data"
    },
    {
     "data": {
      "application/vnd.jupyter.widget-view+json": {
       "model_id": "22bdefb376084c60be2c5ce6d4bf29bf",
       "version_major": 2,
       "version_minor": 0
      },
      "text/plain": [
       "model.safetensors.index.json:   0%|          | 0.00/23.9k [00:00<?, ?B/s]"
      ]
     },
     "metadata": {},
     "output_type": "display_data"
    },
    {
     "data": {
      "application/vnd.jupyter.widget-view+json": {
       "model_id": "b9446879ebd241c88fa6f81b577863ef",
       "version_major": 2,
       "version_minor": 0
      },
      "text/plain": [
       "Downloading shards:   0%|          | 0/4 [00:00<?, ?it/s]"
      ]
     },
     "metadata": {},
     "output_type": "display_data"
    },
    {
     "data": {
      "application/vnd.jupyter.widget-view+json": {
       "model_id": "ceef9d3aa50f4b5dbc25c1ba3029c212",
       "version_major": 2,
       "version_minor": 0
      },
      "text/plain": [
       "model-00001-of-00004.safetensors:   0%|          | 0.00/4.98G [00:00<?, ?B/s]"
      ]
     },
     "metadata": {},
     "output_type": "display_data"
    },
    {
     "data": {
      "application/vnd.jupyter.widget-view+json": {
       "model_id": "d4f3ec7501ba43ab92046ed540e63020",
       "version_major": 2,
       "version_minor": 0
      },
      "text/plain": [
       "model-00002-of-00004.safetensors:   0%|          | 0.00/5.00G [00:00<?, ?B/s]"
      ]
     },
     "metadata": {},
     "output_type": "display_data"
    },
    {
     "data": {
      "application/vnd.jupyter.widget-view+json": {
       "model_id": "e321a580abf54234bf6b98b715b72ad1",
       "version_major": 2,
       "version_minor": 0
      },
      "text/plain": [
       "model-00003-of-00004.safetensors:   0%|          | 0.00/4.92G [00:00<?, ?B/s]"
      ]
     },
     "metadata": {},
     "output_type": "display_data"
    },
    {
     "data": {
      "application/vnd.jupyter.widget-view+json": {
       "model_id": "8cb97263d22840fb9c0e7623a19c3fe5",
       "version_major": 2,
       "version_minor": 0
      },
      "text/plain": [
       "model-00004-of-00004.safetensors:   0%|          | 0.00/1.17G [00:00<?, ?B/s]"
      ]
     },
     "metadata": {},
     "output_type": "display_data"
    },
    {
     "data": {
      "application/vnd.jupyter.widget-view+json": {
       "model_id": "89b2b2e8cf2840e78d4b99b934a3fd67",
       "version_major": 2,
       "version_minor": 0
      },
      "text/plain": [
       "Loading checkpoint shards:   0%|          | 0/4 [00:00<?, ?it/s]"
      ]
     },
     "metadata": {},
     "output_type": "display_data"
    },
    {
     "data": {
      "application/vnd.jupyter.widget-view+json": {
       "model_id": "57be26d28aac46e2bb0e68c1ffe062e7",
       "version_major": 2,
       "version_minor": 0
      },
      "text/plain": [
       "generation_config.json:   0%|          | 0.00/177 [00:00<?, ?B/s]"
      ]
     },
     "metadata": {},
     "output_type": "display_data"
    },
    {
     "name": "stderr",
     "output_type": "stream",
     "text": [
      "WARNING:root:Some parameters are on the meta device device because they were offloaded to the cpu.\n",
      "/cluster/home/dglandorf/gctg/lib64/python3.11/site-packages/torch/nn/modules/module.py:2025: UserWarning: for model.layers.14.self_attn.q_proj.lora_A.A1.weight: copying from a non-meta parameter in the checkpoint to a meta parameter in the current model, which is a no-op. (Did you mean to pass `assign=True` to assign items in the state dictionary to their corresponding key in the module instead of copying them in place?)\n",
      "  warnings.warn(f'for {key}: copying from a non-meta parameter in the checkpoint to a meta '\n",
      "/cluster/home/dglandorf/gctg/lib64/python3.11/site-packages/torch/nn/modules/module.py:2025: UserWarning: for model.layers.14.self_attn.q_proj.lora_B.A1.weight: copying from a non-meta parameter in the checkpoint to a meta parameter in the current model, which is a no-op. (Did you mean to pass `assign=True` to assign items in the state dictionary to their corresponding key in the module instead of copying them in place?)\n",
      "  warnings.warn(f'for {key}: copying from a non-meta parameter in the checkpoint to a meta '\n",
      "/cluster/home/dglandorf/gctg/lib64/python3.11/site-packages/torch/nn/modules/module.py:2025: UserWarning: for model.layers.14.self_attn.v_proj.lora_A.A1.weight: copying from a non-meta parameter in the checkpoint to a meta parameter in the current model, which is a no-op. (Did you mean to pass `assign=True` to assign items in the state dictionary to their corresponding key in the module instead of copying them in place?)\n",
      "  warnings.warn(f'for {key}: copying from a non-meta parameter in the checkpoint to a meta '\n",
      "/cluster/home/dglandorf/gctg/lib64/python3.11/site-packages/torch/nn/modules/module.py:2025: UserWarning: for model.layers.14.self_attn.v_proj.lora_B.A1.weight: copying from a non-meta parameter in the checkpoint to a meta parameter in the current model, which is a no-op. (Did you mean to pass `assign=True` to assign items in the state dictionary to their corresponding key in the module instead of copying them in place?)\n",
      "  warnings.warn(f'for {key}: copying from a non-meta parameter in the checkpoint to a meta '\n",
      "/cluster/home/dglandorf/gctg/lib64/python3.11/site-packages/torch/nn/modules/module.py:2025: UserWarning: for model.layers.15.self_attn.q_proj.lora_A.A1.weight: copying from a non-meta parameter in the checkpoint to a meta parameter in the current model, which is a no-op. (Did you mean to pass `assign=True` to assign items in the state dictionary to their corresponding key in the module instead of copying them in place?)\n",
      "  warnings.warn(f'for {key}: copying from a non-meta parameter in the checkpoint to a meta '\n",
      "/cluster/home/dglandorf/gctg/lib64/python3.11/site-packages/torch/nn/modules/module.py:2025: UserWarning: for model.layers.15.self_attn.q_proj.lora_B.A1.weight: copying from a non-meta parameter in the checkpoint to a meta parameter in the current model, which is a no-op. (Did you mean to pass `assign=True` to assign items in the state dictionary to their corresponding key in the module instead of copying them in place?)\n",
      "  warnings.warn(f'for {key}: copying from a non-meta parameter in the checkpoint to a meta '\n",
      "/cluster/home/dglandorf/gctg/lib64/python3.11/site-packages/torch/nn/modules/module.py:2025: UserWarning: for model.layers.15.self_attn.v_proj.lora_A.A1.weight: copying from a non-meta parameter in the checkpoint to a meta parameter in the current model, which is a no-op. (Did you mean to pass `assign=True` to assign items in the state dictionary to their corresponding key in the module instead of copying them in place?)\n",
      "  warnings.warn(f'for {key}: copying from a non-meta parameter in the checkpoint to a meta '\n",
      "/cluster/home/dglandorf/gctg/lib64/python3.11/site-packages/torch/nn/modules/module.py:2025: UserWarning: for model.layers.15.self_attn.v_proj.lora_B.A1.weight: copying from a non-meta parameter in the checkpoint to a meta parameter in the current model, which is a no-op. (Did you mean to pass `assign=True` to assign items in the state dictionary to their corresponding key in the module instead of copying them in place?)\n",
      "  warnings.warn(f'for {key}: copying from a non-meta parameter in the checkpoint to a meta '\n",
      "/cluster/home/dglandorf/gctg/lib64/python3.11/site-packages/torch/nn/modules/module.py:2025: UserWarning: for model.layers.16.self_attn.q_proj.lora_A.A1.weight: copying from a non-meta parameter in the checkpoint to a meta parameter in the current model, which is a no-op. (Did you mean to pass `assign=True` to assign items in the state dictionary to their corresponding key in the module instead of copying them in place?)\n",
      "  warnings.warn(f'for {key}: copying from a non-meta parameter in the checkpoint to a meta '\n",
      "/cluster/home/dglandorf/gctg/lib64/python3.11/site-packages/torch/nn/modules/module.py:2025: UserWarning: for model.layers.16.self_attn.q_proj.lora_B.A1.weight: copying from a non-meta parameter in the checkpoint to a meta parameter in the current model, which is a no-op. (Did you mean to pass `assign=True` to assign items in the state dictionary to their corresponding key in the module instead of copying them in place?)\n",
      "  warnings.warn(f'for {key}: copying from a non-meta parameter in the checkpoint to a meta '\n",
      "/cluster/home/dglandorf/gctg/lib64/python3.11/site-packages/torch/nn/modules/module.py:2025: UserWarning: for model.layers.16.self_attn.v_proj.lora_A.A1.weight: copying from a non-meta parameter in the checkpoint to a meta parameter in the current model, which is a no-op. (Did you mean to pass `assign=True` to assign items in the state dictionary to their corresponding key in the module instead of copying them in place?)\n",
      "  warnings.warn(f'for {key}: copying from a non-meta parameter in the checkpoint to a meta '\n",
      "/cluster/home/dglandorf/gctg/lib64/python3.11/site-packages/torch/nn/modules/module.py:2025: UserWarning: for model.layers.16.self_attn.v_proj.lora_B.A1.weight: copying from a non-meta parameter in the checkpoint to a meta parameter in the current model, which is a no-op. (Did you mean to pass `assign=True` to assign items in the state dictionary to their corresponding key in the module instead of copying them in place?)\n",
      "  warnings.warn(f'for {key}: copying from a non-meta parameter in the checkpoint to a meta '\n",
      "/cluster/home/dglandorf/gctg/lib64/python3.11/site-packages/torch/nn/modules/module.py:2025: UserWarning: for model.layers.17.self_attn.q_proj.lora_A.A1.weight: copying from a non-meta parameter in the checkpoint to a meta parameter in the current model, which is a no-op. (Did you mean to pass `assign=True` to assign items in the state dictionary to their corresponding key in the module instead of copying them in place?)\n",
      "  warnings.warn(f'for {key}: copying from a non-meta parameter in the checkpoint to a meta '\n",
      "/cluster/home/dglandorf/gctg/lib64/python3.11/site-packages/torch/nn/modules/module.py:2025: UserWarning: for model.layers.17.self_attn.q_proj.lora_B.A1.weight: copying from a non-meta parameter in the checkpoint to a meta parameter in the current model, which is a no-op. (Did you mean to pass `assign=True` to assign items in the state dictionary to their corresponding key in the module instead of copying them in place?)\n",
      "  warnings.warn(f'for {key}: copying from a non-meta parameter in the checkpoint to a meta '\n",
      "/cluster/home/dglandorf/gctg/lib64/python3.11/site-packages/torch/nn/modules/module.py:2025: UserWarning: for model.layers.17.self_attn.v_proj.lora_A.A1.weight: copying from a non-meta parameter in the checkpoint to a meta parameter in the current model, which is a no-op. (Did you mean to pass `assign=True` to assign items in the state dictionary to their corresponding key in the module instead of copying them in place?)\n",
      "  warnings.warn(f'for {key}: copying from a non-meta parameter in the checkpoint to a meta '\n",
      "/cluster/home/dglandorf/gctg/lib64/python3.11/site-packages/torch/nn/modules/module.py:2025: UserWarning: for model.layers.17.self_attn.v_proj.lora_B.A1.weight: copying from a non-meta parameter in the checkpoint to a meta parameter in the current model, which is a no-op. (Did you mean to pass `assign=True` to assign items in the state dictionary to their corresponding key in the module instead of copying them in place?)\n",
      "  warnings.warn(f'for {key}: copying from a non-meta parameter in the checkpoint to a meta '\n",
      "/cluster/home/dglandorf/gctg/lib64/python3.11/site-packages/torch/nn/modules/module.py:2025: UserWarning: for model.layers.18.self_attn.q_proj.lora_A.A1.weight: copying from a non-meta parameter in the checkpoint to a meta parameter in the current model, which is a no-op. (Did you mean to pass `assign=True` to assign items in the state dictionary to their corresponding key in the module instead of copying them in place?)\n",
      "  warnings.warn(f'for {key}: copying from a non-meta parameter in the checkpoint to a meta '\n",
      "/cluster/home/dglandorf/gctg/lib64/python3.11/site-packages/torch/nn/modules/module.py:2025: UserWarning: for model.layers.18.self_attn.q_proj.lora_B.A1.weight: copying from a non-meta parameter in the checkpoint to a meta parameter in the current model, which is a no-op. (Did you mean to pass `assign=True` to assign items in the state dictionary to their corresponding key in the module instead of copying them in place?)\n",
      "  warnings.warn(f'for {key}: copying from a non-meta parameter in the checkpoint to a meta '\n",
      "/cluster/home/dglandorf/gctg/lib64/python3.11/site-packages/torch/nn/modules/module.py:2025: UserWarning: for model.layers.18.self_attn.v_proj.lora_A.A1.weight: copying from a non-meta parameter in the checkpoint to a meta parameter in the current model, which is a no-op. (Did you mean to pass `assign=True` to assign items in the state dictionary to their corresponding key in the module instead of copying them in place?)\n",
      "  warnings.warn(f'for {key}: copying from a non-meta parameter in the checkpoint to a meta '\n",
      "/cluster/home/dglandorf/gctg/lib64/python3.11/site-packages/torch/nn/modules/module.py:2025: UserWarning: for model.layers.18.self_attn.v_proj.lora_B.A1.weight: copying from a non-meta parameter in the checkpoint to a meta parameter in the current model, which is a no-op. (Did you mean to pass `assign=True` to assign items in the state dictionary to their corresponding key in the module instead of copying them in place?)\n",
      "  warnings.warn(f'for {key}: copying from a non-meta parameter in the checkpoint to a meta '\n",
      "/cluster/home/dglandorf/gctg/lib64/python3.11/site-packages/torch/nn/modules/module.py:2025: UserWarning: for model.layers.19.self_attn.q_proj.lora_A.A1.weight: copying from a non-meta parameter in the checkpoint to a meta parameter in the current model, which is a no-op. (Did you mean to pass `assign=True` to assign items in the state dictionary to their corresponding key in the module instead of copying them in place?)\n",
      "  warnings.warn(f'for {key}: copying from a non-meta parameter in the checkpoint to a meta '\n",
      "/cluster/home/dglandorf/gctg/lib64/python3.11/site-packages/torch/nn/modules/module.py:2025: UserWarning: for model.layers.19.self_attn.q_proj.lora_B.A1.weight: copying from a non-meta parameter in the checkpoint to a meta parameter in the current model, which is a no-op. (Did you mean to pass `assign=True` to assign items in the state dictionary to their corresponding key in the module instead of copying them in place?)\n",
      "  warnings.warn(f'for {key}: copying from a non-meta parameter in the checkpoint to a meta '\n",
      "/cluster/home/dglandorf/gctg/lib64/python3.11/site-packages/torch/nn/modules/module.py:2025: UserWarning: for model.layers.19.self_attn.v_proj.lora_A.A1.weight: copying from a non-meta parameter in the checkpoint to a meta parameter in the current model, which is a no-op. (Did you mean to pass `assign=True` to assign items in the state dictionary to their corresponding key in the module instead of copying them in place?)\n",
      "  warnings.warn(f'for {key}: copying from a non-meta parameter in the checkpoint to a meta '\n",
      "/cluster/home/dglandorf/gctg/lib64/python3.11/site-packages/torch/nn/modules/module.py:2025: UserWarning: for model.layers.19.self_attn.v_proj.lora_B.A1.weight: copying from a non-meta parameter in the checkpoint to a meta parameter in the current model, which is a no-op. (Did you mean to pass `assign=True` to assign items in the state dictionary to their corresponding key in the module instead of copying them in place?)\n",
      "  warnings.warn(f'for {key}: copying from a non-meta parameter in the checkpoint to a meta '\n",
      "/cluster/home/dglandorf/gctg/lib64/python3.11/site-packages/torch/nn/modules/module.py:2025: UserWarning: for model.layers.20.self_attn.q_proj.lora_A.A1.weight: copying from a non-meta parameter in the checkpoint to a meta parameter in the current model, which is a no-op. (Did you mean to pass `assign=True` to assign items in the state dictionary to their corresponding key in the module instead of copying them in place?)\n",
      "  warnings.warn(f'for {key}: copying from a non-meta parameter in the checkpoint to a meta '\n",
      "/cluster/home/dglandorf/gctg/lib64/python3.11/site-packages/torch/nn/modules/module.py:2025: UserWarning: for model.layers.20.self_attn.q_proj.lora_B.A1.weight: copying from a non-meta parameter in the checkpoint to a meta parameter in the current model, which is a no-op. (Did you mean to pass `assign=True` to assign items in the state dictionary to their corresponding key in the module instead of copying them in place?)\n",
      "  warnings.warn(f'for {key}: copying from a non-meta parameter in the checkpoint to a meta '\n",
      "/cluster/home/dglandorf/gctg/lib64/python3.11/site-packages/torch/nn/modules/module.py:2025: UserWarning: for model.layers.20.self_attn.v_proj.lora_A.A1.weight: copying from a non-meta parameter in the checkpoint to a meta parameter in the current model, which is a no-op. (Did you mean to pass `assign=True` to assign items in the state dictionary to their corresponding key in the module instead of copying them in place?)\n",
      "  warnings.warn(f'for {key}: copying from a non-meta parameter in the checkpoint to a meta '\n",
      "/cluster/home/dglandorf/gctg/lib64/python3.11/site-packages/torch/nn/modules/module.py:2025: UserWarning: for model.layers.20.self_attn.v_proj.lora_B.A1.weight: copying from a non-meta parameter in the checkpoint to a meta parameter in the current model, which is a no-op. (Did you mean to pass `assign=True` to assign items in the state dictionary to their corresponding key in the module instead of copying them in place?)\n",
      "  warnings.warn(f'for {key}: copying from a non-meta parameter in the checkpoint to a meta '\n",
      "/cluster/home/dglandorf/gctg/lib64/python3.11/site-packages/torch/nn/modules/module.py:2025: UserWarning: for model.layers.21.self_attn.q_proj.lora_A.A1.weight: copying from a non-meta parameter in the checkpoint to a meta parameter in the current model, which is a no-op. (Did you mean to pass `assign=True` to assign items in the state dictionary to their corresponding key in the module instead of copying them in place?)\n",
      "  warnings.warn(f'for {key}: copying from a non-meta parameter in the checkpoint to a meta '\n",
      "/cluster/home/dglandorf/gctg/lib64/python3.11/site-packages/torch/nn/modules/module.py:2025: UserWarning: for model.layers.21.self_attn.q_proj.lora_B.A1.weight: copying from a non-meta parameter in the checkpoint to a meta parameter in the current model, which is a no-op. (Did you mean to pass `assign=True` to assign items in the state dictionary to their corresponding key in the module instead of copying them in place?)\n",
      "  warnings.warn(f'for {key}: copying from a non-meta parameter in the checkpoint to a meta '\n",
      "/cluster/home/dglandorf/gctg/lib64/python3.11/site-packages/torch/nn/modules/module.py:2025: UserWarning: for model.layers.21.self_attn.v_proj.lora_A.A1.weight: copying from a non-meta parameter in the checkpoint to a meta parameter in the current model, which is a no-op. (Did you mean to pass `assign=True` to assign items in the state dictionary to their corresponding key in the module instead of copying them in place?)\n",
      "  warnings.warn(f'for {key}: copying from a non-meta parameter in the checkpoint to a meta '\n",
      "/cluster/home/dglandorf/gctg/lib64/python3.11/site-packages/torch/nn/modules/module.py:2025: UserWarning: for model.layers.21.self_attn.v_proj.lora_B.A1.weight: copying from a non-meta parameter in the checkpoint to a meta parameter in the current model, which is a no-op. (Did you mean to pass `assign=True` to assign items in the state dictionary to their corresponding key in the module instead of copying them in place?)\n",
      "  warnings.warn(f'for {key}: copying from a non-meta parameter in the checkpoint to a meta '\n",
      "/cluster/home/dglandorf/gctg/lib64/python3.11/site-packages/torch/nn/modules/module.py:2025: UserWarning: for model.layers.22.self_attn.q_proj.lora_A.A1.weight: copying from a non-meta parameter in the checkpoint to a meta parameter in the current model, which is a no-op. (Did you mean to pass `assign=True` to assign items in the state dictionary to their corresponding key in the module instead of copying them in place?)\n",
      "  warnings.warn(f'for {key}: copying from a non-meta parameter in the checkpoint to a meta '\n",
      "/cluster/home/dglandorf/gctg/lib64/python3.11/site-packages/torch/nn/modules/module.py:2025: UserWarning: for model.layers.22.self_attn.q_proj.lora_B.A1.weight: copying from a non-meta parameter in the checkpoint to a meta parameter in the current model, which is a no-op. (Did you mean to pass `assign=True` to assign items in the state dictionary to their corresponding key in the module instead of copying them in place?)\n",
      "  warnings.warn(f'for {key}: copying from a non-meta parameter in the checkpoint to a meta '\n",
      "/cluster/home/dglandorf/gctg/lib64/python3.11/site-packages/torch/nn/modules/module.py:2025: UserWarning: for model.layers.22.self_attn.v_proj.lora_A.A1.weight: copying from a non-meta parameter in the checkpoint to a meta parameter in the current model, which is a no-op. (Did you mean to pass `assign=True` to assign items in the state dictionary to their corresponding key in the module instead of copying them in place?)\n",
      "  warnings.warn(f'for {key}: copying from a non-meta parameter in the checkpoint to a meta '\n",
      "/cluster/home/dglandorf/gctg/lib64/python3.11/site-packages/torch/nn/modules/module.py:2025: UserWarning: for model.layers.22.self_attn.v_proj.lora_B.A1.weight: copying from a non-meta parameter in the checkpoint to a meta parameter in the current model, which is a no-op. (Did you mean to pass `assign=True` to assign items in the state dictionary to their corresponding key in the module instead of copying them in place?)\n",
      "  warnings.warn(f'for {key}: copying from a non-meta parameter in the checkpoint to a meta '\n",
      "/cluster/home/dglandorf/gctg/lib64/python3.11/site-packages/torch/nn/modules/module.py:2025: UserWarning: for model.layers.23.self_attn.q_proj.lora_A.A1.weight: copying from a non-meta parameter in the checkpoint to a meta parameter in the current model, which is a no-op. (Did you mean to pass `assign=True` to assign items in the state dictionary to their corresponding key in the module instead of copying them in place?)\n",
      "  warnings.warn(f'for {key}: copying from a non-meta parameter in the checkpoint to a meta '\n",
      "/cluster/home/dglandorf/gctg/lib64/python3.11/site-packages/torch/nn/modules/module.py:2025: UserWarning: for model.layers.23.self_attn.q_proj.lora_B.A1.weight: copying from a non-meta parameter in the checkpoint to a meta parameter in the current model, which is a no-op. (Did you mean to pass `assign=True` to assign items in the state dictionary to their corresponding key in the module instead of copying them in place?)\n",
      "  warnings.warn(f'for {key}: copying from a non-meta parameter in the checkpoint to a meta '\n",
      "/cluster/home/dglandorf/gctg/lib64/python3.11/site-packages/torch/nn/modules/module.py:2025: UserWarning: for model.layers.23.self_attn.v_proj.lora_A.A1.weight: copying from a non-meta parameter in the checkpoint to a meta parameter in the current model, which is a no-op. (Did you mean to pass `assign=True` to assign items in the state dictionary to their corresponding key in the module instead of copying them in place?)\n",
      "  warnings.warn(f'for {key}: copying from a non-meta parameter in the checkpoint to a meta '\n",
      "/cluster/home/dglandorf/gctg/lib64/python3.11/site-packages/torch/nn/modules/module.py:2025: UserWarning: for model.layers.23.self_attn.v_proj.lora_B.A1.weight: copying from a non-meta parameter in the checkpoint to a meta parameter in the current model, which is a no-op. (Did you mean to pass `assign=True` to assign items in the state dictionary to their corresponding key in the module instead of copying them in place?)\n",
      "  warnings.warn(f'for {key}: copying from a non-meta parameter in the checkpoint to a meta '\n",
      "/cluster/home/dglandorf/gctg/lib64/python3.11/site-packages/torch/nn/modules/module.py:2025: UserWarning: for model.layers.24.self_attn.q_proj.lora_A.A1.weight: copying from a non-meta parameter in the checkpoint to a meta parameter in the current model, which is a no-op. (Did you mean to pass `assign=True` to assign items in the state dictionary to their corresponding key in the module instead of copying them in place?)\n",
      "  warnings.warn(f'for {key}: copying from a non-meta parameter in the checkpoint to a meta '\n",
      "/cluster/home/dglandorf/gctg/lib64/python3.11/site-packages/torch/nn/modules/module.py:2025: UserWarning: for model.layers.24.self_attn.q_proj.lora_B.A1.weight: copying from a non-meta parameter in the checkpoint to a meta parameter in the current model, which is a no-op. (Did you mean to pass `assign=True` to assign items in the state dictionary to their corresponding key in the module instead of copying them in place?)\n",
      "  warnings.warn(f'for {key}: copying from a non-meta parameter in the checkpoint to a meta '\n",
      "/cluster/home/dglandorf/gctg/lib64/python3.11/site-packages/torch/nn/modules/module.py:2025: UserWarning: for model.layers.24.self_attn.v_proj.lora_A.A1.weight: copying from a non-meta parameter in the checkpoint to a meta parameter in the current model, which is a no-op. (Did you mean to pass `assign=True` to assign items in the state dictionary to their corresponding key in the module instead of copying them in place?)\n",
      "  warnings.warn(f'for {key}: copying from a non-meta parameter in the checkpoint to a meta '\n",
      "/cluster/home/dglandorf/gctg/lib64/python3.11/site-packages/torch/nn/modules/module.py:2025: UserWarning: for model.layers.24.self_attn.v_proj.lora_B.A1.weight: copying from a non-meta parameter in the checkpoint to a meta parameter in the current model, which is a no-op. (Did you mean to pass `assign=True` to assign items in the state dictionary to their corresponding key in the module instead of copying them in place?)\n",
      "  warnings.warn(f'for {key}: copying from a non-meta parameter in the checkpoint to a meta '\n",
      "/cluster/home/dglandorf/gctg/lib64/python3.11/site-packages/torch/nn/modules/module.py:2025: UserWarning: for model.layers.25.self_attn.q_proj.lora_A.A1.weight: copying from a non-meta parameter in the checkpoint to a meta parameter in the current model, which is a no-op. (Did you mean to pass `assign=True` to assign items in the state dictionary to their corresponding key in the module instead of copying them in place?)\n",
      "  warnings.warn(f'for {key}: copying from a non-meta parameter in the checkpoint to a meta '\n",
      "/cluster/home/dglandorf/gctg/lib64/python3.11/site-packages/torch/nn/modules/module.py:2025: UserWarning: for model.layers.25.self_attn.q_proj.lora_B.A1.weight: copying from a non-meta parameter in the checkpoint to a meta parameter in the current model, which is a no-op. (Did you mean to pass `assign=True` to assign items in the state dictionary to their corresponding key in the module instead of copying them in place?)\n",
      "  warnings.warn(f'for {key}: copying from a non-meta parameter in the checkpoint to a meta '\n",
      "/cluster/home/dglandorf/gctg/lib64/python3.11/site-packages/torch/nn/modules/module.py:2025: UserWarning: for model.layers.25.self_attn.v_proj.lora_A.A1.weight: copying from a non-meta parameter in the checkpoint to a meta parameter in the current model, which is a no-op. (Did you mean to pass `assign=True` to assign items in the state dictionary to their corresponding key in the module instead of copying them in place?)\n",
      "  warnings.warn(f'for {key}: copying from a non-meta parameter in the checkpoint to a meta '\n",
      "/cluster/home/dglandorf/gctg/lib64/python3.11/site-packages/torch/nn/modules/module.py:2025: UserWarning: for model.layers.25.self_attn.v_proj.lora_B.A1.weight: copying from a non-meta parameter in the checkpoint to a meta parameter in the current model, which is a no-op. (Did you mean to pass `assign=True` to assign items in the state dictionary to their corresponding key in the module instead of copying them in place?)\n",
      "  warnings.warn(f'for {key}: copying from a non-meta parameter in the checkpoint to a meta '\n",
      "/cluster/home/dglandorf/gctg/lib64/python3.11/site-packages/torch/nn/modules/module.py:2025: UserWarning: for model.layers.26.self_attn.q_proj.lora_A.A1.weight: copying from a non-meta parameter in the checkpoint to a meta parameter in the current model, which is a no-op. (Did you mean to pass `assign=True` to assign items in the state dictionary to their corresponding key in the module instead of copying them in place?)\n",
      "  warnings.warn(f'for {key}: copying from a non-meta parameter in the checkpoint to a meta '\n",
      "/cluster/home/dglandorf/gctg/lib64/python3.11/site-packages/torch/nn/modules/module.py:2025: UserWarning: for model.layers.26.self_attn.q_proj.lora_B.A1.weight: copying from a non-meta parameter in the checkpoint to a meta parameter in the current model, which is a no-op. (Did you mean to pass `assign=True` to assign items in the state dictionary to their corresponding key in the module instead of copying them in place?)\n",
      "  warnings.warn(f'for {key}: copying from a non-meta parameter in the checkpoint to a meta '\n",
      "/cluster/home/dglandorf/gctg/lib64/python3.11/site-packages/torch/nn/modules/module.py:2025: UserWarning: for model.layers.26.self_attn.v_proj.lora_A.A1.weight: copying from a non-meta parameter in the checkpoint to a meta parameter in the current model, which is a no-op. (Did you mean to pass `assign=True` to assign items in the state dictionary to their corresponding key in the module instead of copying them in place?)\n",
      "  warnings.warn(f'for {key}: copying from a non-meta parameter in the checkpoint to a meta '\n",
      "/cluster/home/dglandorf/gctg/lib64/python3.11/site-packages/torch/nn/modules/module.py:2025: UserWarning: for model.layers.26.self_attn.v_proj.lora_B.A1.weight: copying from a non-meta parameter in the checkpoint to a meta parameter in the current model, which is a no-op. (Did you mean to pass `assign=True` to assign items in the state dictionary to their corresponding key in the module instead of copying them in place?)\n",
      "  warnings.warn(f'for {key}: copying from a non-meta parameter in the checkpoint to a meta '\n",
      "/cluster/home/dglandorf/gctg/lib64/python3.11/site-packages/torch/nn/modules/module.py:2025: UserWarning: for model.layers.27.self_attn.q_proj.lora_A.A1.weight: copying from a non-meta parameter in the checkpoint to a meta parameter in the current model, which is a no-op. (Did you mean to pass `assign=True` to assign items in the state dictionary to their corresponding key in the module instead of copying them in place?)\n",
      "  warnings.warn(f'for {key}: copying from a non-meta parameter in the checkpoint to a meta '\n",
      "/cluster/home/dglandorf/gctg/lib64/python3.11/site-packages/torch/nn/modules/module.py:2025: UserWarning: for model.layers.27.self_attn.q_proj.lora_B.A1.weight: copying from a non-meta parameter in the checkpoint to a meta parameter in the current model, which is a no-op. (Did you mean to pass `assign=True` to assign items in the state dictionary to their corresponding key in the module instead of copying them in place?)\n",
      "  warnings.warn(f'for {key}: copying from a non-meta parameter in the checkpoint to a meta '\n",
      "/cluster/home/dglandorf/gctg/lib64/python3.11/site-packages/torch/nn/modules/module.py:2025: UserWarning: for model.layers.27.self_attn.v_proj.lora_A.A1.weight: copying from a non-meta parameter in the checkpoint to a meta parameter in the current model, which is a no-op. (Did you mean to pass `assign=True` to assign items in the state dictionary to their corresponding key in the module instead of copying them in place?)\n",
      "  warnings.warn(f'for {key}: copying from a non-meta parameter in the checkpoint to a meta '\n",
      "/cluster/home/dglandorf/gctg/lib64/python3.11/site-packages/torch/nn/modules/module.py:2025: UserWarning: for model.layers.27.self_attn.v_proj.lora_B.A1.weight: copying from a non-meta parameter in the checkpoint to a meta parameter in the current model, which is a no-op. (Did you mean to pass `assign=True` to assign items in the state dictionary to their corresponding key in the module instead of copying them in place?)\n",
      "  warnings.warn(f'for {key}: copying from a non-meta parameter in the checkpoint to a meta '\n",
      "/cluster/home/dglandorf/gctg/lib64/python3.11/site-packages/torch/nn/modules/module.py:2025: UserWarning: for model.layers.28.self_attn.q_proj.lora_A.A1.weight: copying from a non-meta parameter in the checkpoint to a meta parameter in the current model, which is a no-op. (Did you mean to pass `assign=True` to assign items in the state dictionary to their corresponding key in the module instead of copying them in place?)\n",
      "  warnings.warn(f'for {key}: copying from a non-meta parameter in the checkpoint to a meta '\n",
      "/cluster/home/dglandorf/gctg/lib64/python3.11/site-packages/torch/nn/modules/module.py:2025: UserWarning: for model.layers.28.self_attn.q_proj.lora_B.A1.weight: copying from a non-meta parameter in the checkpoint to a meta parameter in the current model, which is a no-op. (Did you mean to pass `assign=True` to assign items in the state dictionary to their corresponding key in the module instead of copying them in place?)\n",
      "  warnings.warn(f'for {key}: copying from a non-meta parameter in the checkpoint to a meta '\n",
      "/cluster/home/dglandorf/gctg/lib64/python3.11/site-packages/torch/nn/modules/module.py:2025: UserWarning: for model.layers.28.self_attn.v_proj.lora_A.A1.weight: copying from a non-meta parameter in the checkpoint to a meta parameter in the current model, which is a no-op. (Did you mean to pass `assign=True` to assign items in the state dictionary to their corresponding key in the module instead of copying them in place?)\n",
      "  warnings.warn(f'for {key}: copying from a non-meta parameter in the checkpoint to a meta '\n",
      "/cluster/home/dglandorf/gctg/lib64/python3.11/site-packages/torch/nn/modules/module.py:2025: UserWarning: for model.layers.28.self_attn.v_proj.lora_B.A1.weight: copying from a non-meta parameter in the checkpoint to a meta parameter in the current model, which is a no-op. (Did you mean to pass `assign=True` to assign items in the state dictionary to their corresponding key in the module instead of copying them in place?)\n",
      "  warnings.warn(f'for {key}: copying from a non-meta parameter in the checkpoint to a meta '\n",
      "/cluster/home/dglandorf/gctg/lib64/python3.11/site-packages/torch/nn/modules/module.py:2025: UserWarning: for model.layers.29.self_attn.q_proj.lora_A.A1.weight: copying from a non-meta parameter in the checkpoint to a meta parameter in the current model, which is a no-op. (Did you mean to pass `assign=True` to assign items in the state dictionary to their corresponding key in the module instead of copying them in place?)\n",
      "  warnings.warn(f'for {key}: copying from a non-meta parameter in the checkpoint to a meta '\n",
      "/cluster/home/dglandorf/gctg/lib64/python3.11/site-packages/torch/nn/modules/module.py:2025: UserWarning: for model.layers.29.self_attn.q_proj.lora_B.A1.weight: copying from a non-meta parameter in the checkpoint to a meta parameter in the current model, which is a no-op. (Did you mean to pass `assign=True` to assign items in the state dictionary to their corresponding key in the module instead of copying them in place?)\n",
      "  warnings.warn(f'for {key}: copying from a non-meta parameter in the checkpoint to a meta '\n",
      "/cluster/home/dglandorf/gctg/lib64/python3.11/site-packages/torch/nn/modules/module.py:2025: UserWarning: for model.layers.29.self_attn.v_proj.lora_A.A1.weight: copying from a non-meta parameter in the checkpoint to a meta parameter in the current model, which is a no-op. (Did you mean to pass `assign=True` to assign items in the state dictionary to their corresponding key in the module instead of copying them in place?)\n",
      "  warnings.warn(f'for {key}: copying from a non-meta parameter in the checkpoint to a meta '\n",
      "/cluster/home/dglandorf/gctg/lib64/python3.11/site-packages/torch/nn/modules/module.py:2025: UserWarning: for model.layers.29.self_attn.v_proj.lora_B.A1.weight: copying from a non-meta parameter in the checkpoint to a meta parameter in the current model, which is a no-op. (Did you mean to pass `assign=True` to assign items in the state dictionary to their corresponding key in the module instead of copying them in place?)\n",
      "  warnings.warn(f'for {key}: copying from a non-meta parameter in the checkpoint to a meta '\n",
      "/cluster/home/dglandorf/gctg/lib64/python3.11/site-packages/torch/nn/modules/module.py:2025: UserWarning: for model.layers.30.self_attn.q_proj.lora_A.A1.weight: copying from a non-meta parameter in the checkpoint to a meta parameter in the current model, which is a no-op. (Did you mean to pass `assign=True` to assign items in the state dictionary to their corresponding key in the module instead of copying them in place?)\n",
      "  warnings.warn(f'for {key}: copying from a non-meta parameter in the checkpoint to a meta '\n",
      "/cluster/home/dglandorf/gctg/lib64/python3.11/site-packages/torch/nn/modules/module.py:2025: UserWarning: for model.layers.30.self_attn.q_proj.lora_B.A1.weight: copying from a non-meta parameter in the checkpoint to a meta parameter in the current model, which is a no-op. (Did you mean to pass `assign=True` to assign items in the state dictionary to their corresponding key in the module instead of copying them in place?)\n",
      "  warnings.warn(f'for {key}: copying from a non-meta parameter in the checkpoint to a meta '\n",
      "/cluster/home/dglandorf/gctg/lib64/python3.11/site-packages/torch/nn/modules/module.py:2025: UserWarning: for model.layers.30.self_attn.v_proj.lora_A.A1.weight: copying from a non-meta parameter in the checkpoint to a meta parameter in the current model, which is a no-op. (Did you mean to pass `assign=True` to assign items in the state dictionary to their corresponding key in the module instead of copying them in place?)\n",
      "  warnings.warn(f'for {key}: copying from a non-meta parameter in the checkpoint to a meta '\n",
      "/cluster/home/dglandorf/gctg/lib64/python3.11/site-packages/torch/nn/modules/module.py:2025: UserWarning: for model.layers.30.self_attn.v_proj.lora_B.A1.weight: copying from a non-meta parameter in the checkpoint to a meta parameter in the current model, which is a no-op. (Did you mean to pass `assign=True` to assign items in the state dictionary to their corresponding key in the module instead of copying them in place?)\n",
      "  warnings.warn(f'for {key}: copying from a non-meta parameter in the checkpoint to a meta '\n",
      "/cluster/home/dglandorf/gctg/lib64/python3.11/site-packages/torch/nn/modules/module.py:2025: UserWarning: for model.layers.31.self_attn.q_proj.lora_A.A1.weight: copying from a non-meta parameter in the checkpoint to a meta parameter in the current model, which is a no-op. (Did you mean to pass `assign=True` to assign items in the state dictionary to their corresponding key in the module instead of copying them in place?)\n",
      "  warnings.warn(f'for {key}: copying from a non-meta parameter in the checkpoint to a meta '\n",
      "/cluster/home/dglandorf/gctg/lib64/python3.11/site-packages/torch/nn/modules/module.py:2025: UserWarning: for model.layers.31.self_attn.q_proj.lora_B.A1.weight: copying from a non-meta parameter in the checkpoint to a meta parameter in the current model, which is a no-op. (Did you mean to pass `assign=True` to assign items in the state dictionary to their corresponding key in the module instead of copying them in place?)\n",
      "  warnings.warn(f'for {key}: copying from a non-meta parameter in the checkpoint to a meta '\n",
      "/cluster/home/dglandorf/gctg/lib64/python3.11/site-packages/torch/nn/modules/module.py:2025: UserWarning: for model.layers.31.self_attn.v_proj.lora_A.A1.weight: copying from a non-meta parameter in the checkpoint to a meta parameter in the current model, which is a no-op. (Did you mean to pass `assign=True` to assign items in the state dictionary to their corresponding key in the module instead of copying them in place?)\n",
      "  warnings.warn(f'for {key}: copying from a non-meta parameter in the checkpoint to a meta '\n",
      "/cluster/home/dglandorf/gctg/lib64/python3.11/site-packages/torch/nn/modules/module.py:2025: UserWarning: for model.layers.31.self_attn.v_proj.lora_B.A1.weight: copying from a non-meta parameter in the checkpoint to a meta parameter in the current model, which is a no-op. (Did you mean to pass `assign=True` to assign items in the state dictionary to their corresponding key in the module instead of copying them in place?)\n",
      "  warnings.warn(f'for {key}: copying from a non-meta parameter in the checkpoint to a meta '\n",
      "WARNING:accelerate.big_modeling:You shouldn't move a model that is dispatched using accelerate hooks.\n"
     ]
    },
    {
     "ename": "RuntimeError",
     "evalue": "You can't move a model that has some modules offloaded to cpu or disk.",
     "output_type": "error",
     "traceback": [
      "\u001b[0;31m---------------------------------------------------------------------------\u001b[0m",
      "\u001b[0;31mRuntimeError\u001b[0m                              Traceback (most recent call last)",
      "Cell \u001b[0;32mIn[7], line 2\u001b[0m\n\u001b[1;32m      1\u001b[0m get_path \u001b[38;5;241m=\u001b[39m \u001b[38;5;28;01mlambda\u001b[39;00m lvl: lvl_models[lvl] \u001b[38;5;241m+\u001b[39m \u001b[38;5;124m\"\u001b[39m\u001b[38;5;124m/\u001b[39m\u001b[38;5;124m\"\u001b[39m\u001b[38;5;241m+\u001b[39m ([d \u001b[38;5;28;01mfor\u001b[39;00m d \u001b[38;5;129;01min\u001b[39;00m os\u001b[38;5;241m.\u001b[39mlistdir(lvl_models[lvl]) \u001b[38;5;28;01mif\u001b[39;00m os\u001b[38;5;241m.\u001b[39mpath\u001b[38;5;241m.\u001b[39misdir(os\u001b[38;5;241m.\u001b[39mpath\u001b[38;5;241m.\u001b[39mjoin(lvl_models[lvl], d))][\u001b[38;5;241m-\u001b[39m\u001b[38;5;241m1\u001b[39m])\n\u001b[0;32m----> 2\u001b[0m cefr_model \u001b[38;5;241m=\u001b[39m \u001b[43mmodels\u001b[49m\u001b[38;5;241;43m.\u001b[39;49m\u001b[43mAutoModelForCausalLM\u001b[49m\u001b[38;5;241;43m.\u001b[39;49m\u001b[43mfrom_pretrained\u001b[49m\u001b[43m(\u001b[49m\u001b[43mget_path\u001b[49m\u001b[43m(\u001b[49m\u001b[38;5;124;43m\"\u001b[39;49m\u001b[38;5;124;43mA1\u001b[39;49m\u001b[38;5;124;43m\"\u001b[39;49m\u001b[43m)\u001b[49m\u001b[43m,\u001b[49m\u001b[43m \u001b[49m\u001b[43madapter_name\u001b[49m\u001b[38;5;241;43m=\u001b[39;49m\u001b[38;5;124;43m\"\u001b[39;49m\u001b[38;5;124;43mA1\u001b[39;49m\u001b[38;5;124;43m\"\u001b[39;49m\u001b[43m,\u001b[49m\u001b[43m \u001b[49m\u001b[43mcache_dir\u001b[49m\u001b[38;5;241;43m=\u001b[39;49m\u001b[43mos\u001b[49m\u001b[38;5;241;43m.\u001b[39;49m\u001b[43mgetenv\u001b[49m\u001b[43m(\u001b[49m\u001b[38;5;124;43m'\u001b[39;49m\u001b[38;5;124;43mCACHE_DIR\u001b[39;49m\u001b[38;5;124;43m'\u001b[39;49m\u001b[43m)\u001b[49m\u001b[43m,\u001b[49m\u001b[43m \u001b[49m\u001b[43mdevice_map\u001b[49m\u001b[38;5;241;43m=\u001b[39;49m\u001b[38;5;124;43m\"\u001b[39;49m\u001b[38;5;124;43msequential\u001b[39;49m\u001b[38;5;124;43m\"\u001b[39;49m\u001b[43m)\u001b[49m\n\u001b[1;32m      4\u001b[0m cefr_model\u001b[38;5;241m.\u001b[39mload_adapter(get_path(\u001b[38;5;124m\"\u001b[39m\u001b[38;5;124mA2\u001b[39m\u001b[38;5;124m\"\u001b[39m), adapter_name\u001b[38;5;241m=\u001b[39m\u001b[38;5;124m\"\u001b[39m\u001b[38;5;124mA2\u001b[39m\u001b[38;5;124m\"\u001b[39m, device_map\u001b[38;5;241m=\u001b[39m\u001b[38;5;124m\"\u001b[39m\u001b[38;5;124msequential\u001b[39m\u001b[38;5;124m\"\u001b[39m)\n\u001b[1;32m      5\u001b[0m cefr_model\u001b[38;5;241m.\u001b[39mload_adapter(get_path(\u001b[38;5;124m\"\u001b[39m\u001b[38;5;124mB1\u001b[39m\u001b[38;5;124m\"\u001b[39m), adapter_name\u001b[38;5;241m=\u001b[39m\u001b[38;5;124m\"\u001b[39m\u001b[38;5;124mB1\u001b[39m\u001b[38;5;124m\"\u001b[39m, device_map\u001b[38;5;241m=\u001b[39m\u001b[38;5;124m\"\u001b[39m\u001b[38;5;124msequential\u001b[39m\u001b[38;5;124m\"\u001b[39m)\n",
      "File \u001b[0;32m~/gctg/lib64/python3.11/site-packages/transformers/models/auto/auto_factory.py:563\u001b[0m, in \u001b[0;36m_BaseAutoModelClass.from_pretrained\u001b[0;34m(cls, pretrained_model_name_or_path, *model_args, **kwargs)\u001b[0m\n\u001b[1;32m    561\u001b[0m \u001b[38;5;28;01melif\u001b[39;00m \u001b[38;5;28mtype\u001b[39m(config) \u001b[38;5;129;01min\u001b[39;00m \u001b[38;5;28mcls\u001b[39m\u001b[38;5;241m.\u001b[39m_model_mapping\u001b[38;5;241m.\u001b[39mkeys():\n\u001b[1;32m    562\u001b[0m     model_class \u001b[38;5;241m=\u001b[39m _get_model_class(config, \u001b[38;5;28mcls\u001b[39m\u001b[38;5;241m.\u001b[39m_model_mapping)\n\u001b[0;32m--> 563\u001b[0m     \u001b[38;5;28;01mreturn\u001b[39;00m \u001b[43mmodel_class\u001b[49m\u001b[38;5;241;43m.\u001b[39;49m\u001b[43mfrom_pretrained\u001b[49m\u001b[43m(\u001b[49m\n\u001b[1;32m    564\u001b[0m \u001b[43m        \u001b[49m\u001b[43mpretrained_model_name_or_path\u001b[49m\u001b[43m,\u001b[49m\u001b[43m \u001b[49m\u001b[38;5;241;43m*\u001b[39;49m\u001b[43mmodel_args\u001b[49m\u001b[43m,\u001b[49m\u001b[43m \u001b[49m\u001b[43mconfig\u001b[49m\u001b[38;5;241;43m=\u001b[39;49m\u001b[43mconfig\u001b[49m\u001b[43m,\u001b[49m\u001b[43m \u001b[49m\u001b[38;5;241;43m*\u001b[39;49m\u001b[38;5;241;43m*\u001b[39;49m\u001b[43mhub_kwargs\u001b[49m\u001b[43m,\u001b[49m\u001b[43m \u001b[49m\u001b[38;5;241;43m*\u001b[39;49m\u001b[38;5;241;43m*\u001b[39;49m\u001b[43mkwargs\u001b[49m\n\u001b[1;32m    565\u001b[0m \u001b[43m    \u001b[49m\u001b[43m)\u001b[49m\n\u001b[1;32m    566\u001b[0m \u001b[38;5;28;01mraise\u001b[39;00m \u001b[38;5;167;01mValueError\u001b[39;00m(\n\u001b[1;32m    567\u001b[0m     \u001b[38;5;124mf\u001b[39m\u001b[38;5;124m\"\u001b[39m\u001b[38;5;124mUnrecognized configuration class \u001b[39m\u001b[38;5;132;01m{\u001b[39;00mconfig\u001b[38;5;241m.\u001b[39m\u001b[38;5;18m__class__\u001b[39m\u001b[38;5;132;01m}\u001b[39;00m\u001b[38;5;124m for this kind of AutoModel: \u001b[39m\u001b[38;5;132;01m{\u001b[39;00m\u001b[38;5;28mcls\u001b[39m\u001b[38;5;241m.\u001b[39m\u001b[38;5;18m__name__\u001b[39m\u001b[38;5;132;01m}\u001b[39;00m\u001b[38;5;124m.\u001b[39m\u001b[38;5;130;01m\\n\u001b[39;00m\u001b[38;5;124m\"\u001b[39m\n\u001b[1;32m    568\u001b[0m     \u001b[38;5;124mf\u001b[39m\u001b[38;5;124m\"\u001b[39m\u001b[38;5;124mModel type should be one of \u001b[39m\u001b[38;5;132;01m{\u001b[39;00m\u001b[38;5;124m'\u001b[39m\u001b[38;5;124m, \u001b[39m\u001b[38;5;124m'\u001b[39m\u001b[38;5;241m.\u001b[39mjoin(c\u001b[38;5;241m.\u001b[39m\u001b[38;5;18m__name__\u001b[39m\u001b[38;5;250m \u001b[39m\u001b[38;5;28;01mfor\u001b[39;00m\u001b[38;5;250m \u001b[39mc\u001b[38;5;250m \u001b[39m\u001b[38;5;129;01min\u001b[39;00m\u001b[38;5;250m \u001b[39m\u001b[38;5;28mcls\u001b[39m\u001b[38;5;241m.\u001b[39m_model_mapping\u001b[38;5;241m.\u001b[39mkeys())\u001b[38;5;132;01m}\u001b[39;00m\u001b[38;5;124m.\u001b[39m\u001b[38;5;124m\"\u001b[39m\n\u001b[1;32m    569\u001b[0m )\n",
      "File \u001b[0;32m~/gctg/lib64/python3.11/site-packages/transformers/modeling_utils.py:3596\u001b[0m, in \u001b[0;36mPreTrainedModel.from_pretrained\u001b[0;34m(cls, pretrained_model_name_or_path, config, cache_dir, ignore_mismatched_sizes, force_download, local_files_only, token, revision, use_safetensors, *model_args, **kwargs)\u001b[0m\n\u001b[1;32m   3593\u001b[0m     model\u001b[38;5;241m.\u001b[39mhf_quantizer \u001b[38;5;241m=\u001b[39m hf_quantizer\n\u001b[1;32m   3595\u001b[0m \u001b[38;5;28;01mif\u001b[39;00m _adapter_model_path \u001b[38;5;129;01mis\u001b[39;00m \u001b[38;5;129;01mnot\u001b[39;00m \u001b[38;5;28;01mNone\u001b[39;00m:\n\u001b[0;32m-> 3596\u001b[0m     \u001b[43mmodel\u001b[49m\u001b[38;5;241;43m.\u001b[39;49m\u001b[43mload_adapter\u001b[49m\u001b[43m(\u001b[49m\n\u001b[1;32m   3597\u001b[0m \u001b[43m        \u001b[49m\u001b[43m_adapter_model_path\u001b[49m\u001b[43m,\u001b[49m\n\u001b[1;32m   3598\u001b[0m \u001b[43m        \u001b[49m\u001b[43madapter_name\u001b[49m\u001b[38;5;241;43m=\u001b[39;49m\u001b[43madapter_name\u001b[49m\u001b[43m,\u001b[49m\n\u001b[1;32m   3599\u001b[0m \u001b[43m        \u001b[49m\u001b[43mtoken\u001b[49m\u001b[38;5;241;43m=\u001b[39;49m\u001b[43mtoken\u001b[49m\u001b[43m,\u001b[49m\n\u001b[1;32m   3600\u001b[0m \u001b[43m        \u001b[49m\u001b[43madapter_kwargs\u001b[49m\u001b[38;5;241;43m=\u001b[39;49m\u001b[43madapter_kwargs\u001b[49m\u001b[43m,\u001b[49m\n\u001b[1;32m   3601\u001b[0m \u001b[43m    \u001b[49m\u001b[43m)\u001b[49m\n\u001b[1;32m   3603\u001b[0m \u001b[38;5;28;01mif\u001b[39;00m output_loading_info:\n\u001b[1;32m   3604\u001b[0m     \u001b[38;5;28;01mif\u001b[39;00m loading_info \u001b[38;5;129;01mis\u001b[39;00m \u001b[38;5;28;01mNone\u001b[39;00m:\n",
      "File \u001b[0;32m~/gctg/lib64/python3.11/site-packages/transformers/integrations/peft.py:222\u001b[0m, in \u001b[0;36mPeftAdapterMixin.load_adapter\u001b[0;34m(self, peft_model_id, adapter_name, revision, token, device_map, max_memory, offload_folder, offload_index, peft_config, adapter_state_dict, adapter_kwargs)\u001b[0m\n\u001b[1;32m    216\u001b[0m \u001b[38;5;66;03m# Re-dispatch model and hooks in case the model is offloaded to CPU / Disk.\u001b[39;00m\n\u001b[1;32m    217\u001b[0m \u001b[38;5;28;01mif\u001b[39;00m (\n\u001b[1;32m    218\u001b[0m     (\u001b[38;5;28mgetattr\u001b[39m(\u001b[38;5;28mself\u001b[39m, \u001b[38;5;124m\"\u001b[39m\u001b[38;5;124mhf_device_map\u001b[39m\u001b[38;5;124m\"\u001b[39m, \u001b[38;5;28;01mNone\u001b[39;00m) \u001b[38;5;129;01mis\u001b[39;00m \u001b[38;5;129;01mnot\u001b[39;00m \u001b[38;5;28;01mNone\u001b[39;00m)\n\u001b[1;32m    219\u001b[0m     \u001b[38;5;129;01mand\u001b[39;00m (\u001b[38;5;28mlen\u001b[39m(\u001b[38;5;28mset\u001b[39m(\u001b[38;5;28mself\u001b[39m\u001b[38;5;241m.\u001b[39mhf_device_map\u001b[38;5;241m.\u001b[39mvalues())\u001b[38;5;241m.\u001b[39mintersection({\u001b[38;5;124m\"\u001b[39m\u001b[38;5;124mcpu\u001b[39m\u001b[38;5;124m\"\u001b[39m, \u001b[38;5;124m\"\u001b[39m\u001b[38;5;124mdisk\u001b[39m\u001b[38;5;124m\"\u001b[39m})) \u001b[38;5;241m>\u001b[39m \u001b[38;5;241m0\u001b[39m)\n\u001b[1;32m    220\u001b[0m     \u001b[38;5;129;01mand\u001b[39;00m \u001b[38;5;28mlen\u001b[39m(\u001b[38;5;28mself\u001b[39m\u001b[38;5;241m.\u001b[39mpeft_config) \u001b[38;5;241m==\u001b[39m \u001b[38;5;241m1\u001b[39m\n\u001b[1;32m    221\u001b[0m ):\n\u001b[0;32m--> 222\u001b[0m     \u001b[38;5;28;43mself\u001b[39;49m\u001b[38;5;241;43m.\u001b[39;49m\u001b[43m_dispatch_accelerate_model\u001b[49m\u001b[43m(\u001b[49m\n\u001b[1;32m    223\u001b[0m \u001b[43m        \u001b[49m\u001b[43mdevice_map\u001b[49m\u001b[38;5;241;43m=\u001b[39;49m\u001b[43mdevice_map\u001b[49m\u001b[43m,\u001b[49m\n\u001b[1;32m    224\u001b[0m \u001b[43m        \u001b[49m\u001b[43mmax_memory\u001b[49m\u001b[38;5;241;43m=\u001b[39;49m\u001b[43mmax_memory\u001b[49m\u001b[43m,\u001b[49m\n\u001b[1;32m    225\u001b[0m \u001b[43m        \u001b[49m\u001b[43moffload_folder\u001b[49m\u001b[38;5;241;43m=\u001b[39;49m\u001b[43moffload_folder\u001b[49m\u001b[43m,\u001b[49m\n\u001b[1;32m    226\u001b[0m \u001b[43m        \u001b[49m\u001b[43moffload_index\u001b[49m\u001b[38;5;241;43m=\u001b[39;49m\u001b[43moffload_index\u001b[49m\u001b[43m,\u001b[49m\n\u001b[1;32m    227\u001b[0m \u001b[43m    \u001b[49m\u001b[43m)\u001b[49m\n",
      "File \u001b[0;32m~/gctg/lib64/python3.11/site-packages/transformers/integrations/peft.py:471\u001b[0m, in \u001b[0;36mPeftAdapterMixin._dispatch_accelerate_model\u001b[0;34m(self, device_map, max_memory, offload_folder, offload_index)\u001b[0m\n\u001b[1;32m    467\u001b[0m \u001b[38;5;28;01mif\u001b[39;00m \u001b[38;5;28misinstance\u001b[39m(device_map, \u001b[38;5;28mstr\u001b[39m):\n\u001b[1;32m    468\u001b[0m     device_map \u001b[38;5;241m=\u001b[39m infer_auto_device_map(\n\u001b[1;32m    469\u001b[0m         \u001b[38;5;28mself\u001b[39m, max_memory\u001b[38;5;241m=\u001b[39mmax_memory, no_split_module_classes\u001b[38;5;241m=\u001b[39mno_split_module_classes\n\u001b[1;32m    470\u001b[0m     )\n\u001b[0;32m--> 471\u001b[0m \u001b[43mdispatch_model\u001b[49m\u001b[43m(\u001b[49m\n\u001b[1;32m    472\u001b[0m \u001b[43m    \u001b[49m\u001b[38;5;28;43mself\u001b[39;49m\u001b[43m,\u001b[49m\n\u001b[1;32m    473\u001b[0m \u001b[43m    \u001b[49m\u001b[43mdevice_map\u001b[49m\u001b[38;5;241;43m=\u001b[39;49m\u001b[43mdevice_map\u001b[49m\u001b[43m,\u001b[49m\n\u001b[1;32m    474\u001b[0m \u001b[43m    \u001b[49m\u001b[43moffload_dir\u001b[49m\u001b[38;5;241;43m=\u001b[39;49m\u001b[43moffload_folder\u001b[49m\u001b[43m,\u001b[49m\n\u001b[1;32m    475\u001b[0m \u001b[43m    \u001b[49m\u001b[38;5;241;43m*\u001b[39;49m\u001b[38;5;241;43m*\u001b[39;49m\u001b[43mdispatch_model_kwargs\u001b[49m\u001b[43m,\u001b[49m\n\u001b[1;32m    476\u001b[0m \u001b[43m\u001b[49m\u001b[43m)\u001b[49m\n",
      "File \u001b[0;32m~/gctg/lib64/python3.11/site-packages/accelerate/big_modeling.py:474\u001b[0m, in \u001b[0;36mdispatch_model\u001b[0;34m(model, device_map, main_device, state_dict, offload_dir, offload_index, offload_buffers, skip_keys, preload_module_classes, force_hooks)\u001b[0m\n\u001b[1;32m    472\u001b[0m     device \u001b[38;5;241m=\u001b[39m \u001b[38;5;124mf\u001b[39m\u001b[38;5;124m\"\u001b[39m\u001b[38;5;124mxpu:\u001b[39m\u001b[38;5;132;01m{\u001b[39;00mdevice\u001b[38;5;132;01m}\u001b[39;00m\u001b[38;5;124m\"\u001b[39m\n\u001b[1;32m    473\u001b[0m \u001b[38;5;28;01mif\u001b[39;00m device \u001b[38;5;241m!=\u001b[39m \u001b[38;5;124m\"\u001b[39m\u001b[38;5;124mdisk\u001b[39m\u001b[38;5;124m\"\u001b[39m:\n\u001b[0;32m--> 474\u001b[0m     \u001b[43mmodel\u001b[49m\u001b[38;5;241;43m.\u001b[39;49m\u001b[43mto\u001b[49m\u001b[43m(\u001b[49m\u001b[43mdevice\u001b[49m\u001b[43m)\u001b[49m\n\u001b[1;32m    475\u001b[0m \u001b[38;5;28;01melse\u001b[39;00m:\n\u001b[1;32m    476\u001b[0m     \u001b[38;5;28;01mraise\u001b[39;00m \u001b[38;5;167;01mValueError\u001b[39;00m(\n\u001b[1;32m    477\u001b[0m         \u001b[38;5;124m\"\u001b[39m\u001b[38;5;124mYou are trying to offload the whole model to the disk. Please use the `disk_offload` function instead.\u001b[39m\u001b[38;5;124m\"\u001b[39m\n\u001b[1;32m    478\u001b[0m     )\n",
      "File \u001b[0;32m~/gctg/lib64/python3.11/site-packages/accelerate/big_modeling.py:453\u001b[0m, in \u001b[0;36mdispatch_model.<locals>.add_warning.<locals>.wrapper\u001b[0;34m(*args, **kwargs)\u001b[0m\n\u001b[1;32m    451\u001b[0m \u001b[38;5;28;01mfor\u001b[39;00m param \u001b[38;5;129;01min\u001b[39;00m model\u001b[38;5;241m.\u001b[39mparameters():\n\u001b[1;32m    452\u001b[0m     \u001b[38;5;28;01mif\u001b[39;00m param\u001b[38;5;241m.\u001b[39mdevice \u001b[38;5;241m==\u001b[39m torch\u001b[38;5;241m.\u001b[39mdevice(\u001b[38;5;124m\"\u001b[39m\u001b[38;5;124mmeta\u001b[39m\u001b[38;5;124m\"\u001b[39m):\n\u001b[0;32m--> 453\u001b[0m         \u001b[38;5;28;01mraise\u001b[39;00m \u001b[38;5;167;01mRuntimeError\u001b[39;00m(\u001b[38;5;124m\"\u001b[39m\u001b[38;5;124mYou can\u001b[39m\u001b[38;5;124m'\u001b[39m\u001b[38;5;124mt move a model that has some modules offloaded to cpu or disk.\u001b[39m\u001b[38;5;124m\"\u001b[39m)\n\u001b[1;32m    454\u001b[0m \u001b[38;5;28;01mreturn\u001b[39;00m fn(\u001b[38;5;241m*\u001b[39margs, \u001b[38;5;241m*\u001b[39m\u001b[38;5;241m*\u001b[39mkwargs)\n",
      "\u001b[0;31mRuntimeError\u001b[0m: You can't move a model that has some modules offloaded to cpu or disk."
     ]
    }
   ],
   "source": [
    "get_path = lambda lvl: lvl_models[lvl] + \"/\"+ ([d for d in os.listdir(lvl_models[lvl]) if os.path.isdir(os.path.join(lvl_models[lvl], d))][-1])\n",
    "cefr_model = models.AutoModelForCausalLM.from_pretrained(get_path(\"A1\"), adapter_name=\"A1\", cache_dir=os.getenv('CACHE_DIR'), device_map=\"sequential\")\n",
    "\n",
    "cefr_model.load_adapter(get_path(\"A2\"), adapter_name=\"A2\", device_map=\"sequential\")\n",
    "cefr_model.load_adapter(get_path(\"B1\"), adapter_name=\"B1\", device_map=\"sequential\")\n",
    "cefr_model.load_adapter(get_path(\"B2\"), adapter_name=\"B2\", device_map=\"sequential\")"
   ]
  },
  {
   "cell_type": "markdown",
   "metadata": {},
   "source": [
    "Check whether the loss is different for easy and hard text"
   ]
  },
  {
   "cell_type": "code",
   "execution_count": 31,
   "metadata": {
    "scrolled": true
   },
   "outputs": [
    {
     "name": "stdout",
     "output_type": "stream",
     "text": [
      "A1\n",
      "Hi! My name's Kira. I'm from Russia. I live in Moscow with my parents. I'm twenty-nine.There are four people in my family: my mother, my father, my grandmother and I. I can speak Russian, French and English. I can sing. I'm  singer.Bye!\n",
      "A2\n",
      "Hey Dillon, thanks for e-mail! You asked me what we could do for my birthday? I can answer, that it past all what you offered for me. We could go surfing or scuba diving because both of these activities are fun and exciting or we could go sailing because it's very relaxing and on the jacht we could play the guitar and drink some wine... . In short, in the event that we, together with the girls, will be no more than ten people, then I choose the jacht. It's all! Best wishes, Alex.\n",
      "B1\n",
      "I went to French Italian restaurant on 14th floor with an amazing view of the city and the ocean. There were six dishes. They were not grown locally but both tasty and healthy enough. I don't mind weather they are free-fat or free range, those kind things. I was very satisfied at the end. I loved the dish of red lobster, with white wine. Especially, the sauce of it was so out of the world. That was the most delicois sauce I have ever had in my entire life. Even though the bill was way too expensive, I will go again for a special occasion.\n",
      "B2\n",
      "In my country gender differences is still a big problem as it is in many countries in the world. For example, most top level positions of many jobs are still dominated by men and there are glass ceilings in these workplaces. Besides, workforce participation of women is still very low with around 24% according to national statistics institution. By the way many in-house jobs, such as child caring,cooking,cleaning etc., are being done by women and this is also a matter of our traditions. On the other hand, in past few years there have been many developments on this issue. For instance there have been many provisions concerning gender equality in law. In conclusion I think, the things on this subject will be much better than today's case in the future.\n",
      "A1\n",
      "[1.136587142944336, 3.14485239982605, 3.0323245525360107, 2.6137566566467285]\n",
      "A2\n",
      "[1.8592535257339478, 2.5285730361938477, 3.125877857208252, 2.6787877082824707]\n",
      "B1\n",
      "[2.0897250175476074, 3.019838571548462, 2.879376173019409, 2.596041440963745]\n",
      "B2\n",
      "[2.198272705078125, 3.010618209838867, 3.0490825176239014, 2.533935308456421]\n"
     ]
    }
   ],
   "source": [
    "losses = {}\n",
    "dataset = dataset.shuffle()\n",
    "items = []\n",
    "for lvl in lvl_models.keys():\n",
    "    items.append(dataset[dataset['CEFR'].index(lvl)])\n",
    "    print(items[-1]['CEFR'])\n",
    "    print(items[-1]['text'])\n",
    "\n",
    "for lvl in lvl_models.keys():\n",
    "    cefr_model.set_adapter(lvl)\n",
    "    losses[lvl] = []\n",
    "    with models.torch.no_grad():\n",
    "        for item in items:\n",
    "            model_input = tokenizer(item['text'], return_tensors=\"pt\").to(models.device)\n",
    "            outputs = cefr_model(**model_input, labels=model_input.input_ids)\n",
    "            losses[lvl].append(outputs.loss.item())\n",
    "    print(lvl)\n",
    "    print(losses[lvl])"
   ]
  },
  {
   "cell_type": "code",
   "execution_count": 29,
   "metadata": {},
   "outputs": [],
   "source": [
    "import time"
   ]
  },
  {
   "cell_type": "code",
   "execution_count": 188,
   "metadata": {},
   "outputs": [],
   "source": [
    "class CEFRLogitsProcessor(LogitsProcessor):\n",
    "    def __init__(self, tokenizer, cefr_model, levels, input_len, level, alpha):\n",
    "        super().__init__()\n",
    "        self.tokenizer = tokenizer\n",
    "        self.cefr_model = cefr_model\n",
    "        self.levels = levels\n",
    "        self.level = level\n",
    "        self.input_len = input_len\n",
    "        self.alpha = alpha\n",
    "\n",
    "    def __call__(self, input_ids: torch.LongTensor, scores: torch.FloatTensor) -> torch.FloatTensor:\n",
    "        #print(\"Start processor\")\n",
    "        #operation_start = time.time()\n",
    "        #print(self.tokenizer.batch_decode(input_ids[:,-1])[0])\n",
    "\n",
    "        start_token_tensor = torch.tensor([[self.tokenizer.bos_token_id]], dtype=input_ids.dtype, device=models.device)\n",
    "        new_input_ids = torch.cat((start_token_tensor, input_ids[:,self.input_len:]), dim=1)\n",
    "\n",
    "        combined_logits = torch.zeros_like(scores)\n",
    "        for lvl in self.levels:\n",
    "            self.cefr_model.set_adapter(lvl)\n",
    "            outputs = self.cefr_model(new_input_ids)\n",
    "            if lvl == self.level:\n",
    "                combined_logits += outputs.logits[:,-1,:]\n",
    "            else:\n",
    "                combined_logits -= outputs.logits[:,-1,:] / len(self.levels)\n",
    "\n",
    "        new_scores = scores + combined_logits * self.alpha # (1 - self.alpha) * \n",
    "        #print(f\"Call Logit Processor: {time.time()-operation_start}\")\n",
    "        new_scores[:,self.tokenizer.eos_token_id] *= 2. # overweight end of sequence\n",
    "        return new_scores\n",
    "\n",
    "def decoding(model, tokenizer, prompt, cefr_model, levels, level, do_sample=False, alpha=0.5):\n",
    "    model_input = tokenizer(prompt, return_tensors=\"pt\").to(models.device)\n",
    "    input_len = model_input.input_ids.shape[1]\n",
    "    kwargs = {\"logits_processor\": [CEFRLogitsProcessor(tokenizer, cefr_model, levels, input_len, level, alpha)],\n",
    "              \"renormalize_logits\": True}\n",
    "    \n",
    "    token_ids = model.generate(**model_input,\n",
    "                               max_new_tokens=128,\n",
    "                               pad_token_id=tokenizer.eos_token_id,\n",
    "                               eos_token_id=[tokenizer.eos_token_id, tokenizer.convert_tokens_to_ids(\"<|end_of_text|>\")],\n",
    "                               do_sample=do_sample,\n",
    "                               repetition_penalty=1.1,\n",
    "                               temperature=1 if do_sample else None,\n",
    "                               top_p=0.95 if do_sample else None,\n",
    "                               top_k=300 if do_sample else None,\n",
    "                               **kwargs)\n",
    "    return tokenizer.batch_decode(token_ids[:,input_len:], skip_special_tokens=True)[0]"
   ]
  },
  {
   "cell_type": "code",
   "execution_count": 31,
   "metadata": {},
   "outputs": [
    {
     "name": "stderr",
     "output_type": "stream",
     "text": [
      "Special tokens have been added in the vocabulary, make sure the associated word embeddings are fine-tuned or trained.\n"
     ]
    }
   ],
   "source": [
    "tokenizer = models.AutoTokenizer.from_pretrained(\"meta-llama/Meta-Llama-3-8B-Instruct\", trust_remote_code=True, cache_dir=os.getenv('CACHE_DIR'), padding_side=\"right\")\n",
    "    "
   ]
  },
  {
   "cell_type": "code",
   "execution_count": 32,
   "metadata": {},
   "outputs": [],
   "source": [
    "cefr_model.config.use_cache = True"
   ]
  },
  {
   "cell_type": "code",
   "execution_count": 172,
   "metadata": {},
   "outputs": [
    {
     "name": "stdout",
     "output_type": "stream",
     "text": [
      "['Why am I always the last to know these things?', \"I sent out a notice. You've stopped checking your e-mail?\", 'No, but Bean did send me like a hundred forwards today. My mailbox must have been overflowing.', 'How obnoxious! I heard he was sending you dirty jokes.']\n"
     ]
    }
   ],
   "source": []
  },
  {
   "cell_type": "code",
   "execution_count": 189,
   "metadata": {
    "scrolled": true
   },
   "outputs": [
    {
     "data": {
      "application/vnd.jupyter.widget-view+json": {
       "model_id": "faf2517b4243494693bde6c38442e105",
       "version_major": 2,
       "version_minor": 0
      },
      "text/plain": [
       "  0%|          | 0/100 [00:00<?, ?it/s]"
      ]
     },
     "metadata": {},
     "output_type": "display_data"
    },
    {
     "name": "stdout",
     "output_type": "stream",
     "text": [
      "[\"I'd like to make sure my plane reservation is in order.\", 'May I have your flight number, please?', 'World Airlines, Flight 201.', 'And your name, please?']\n",
      "<|begin_of_text|><|start_header_id|>system<|end_header_id|>\n",
      "\n",
      "Only output A's response.<|eot_id|><|start_header_id|>user<|end_header_id|>\n",
      "\n",
      "Given the dialog, write a possible next turn of A.\n",
      "Dialog:\n",
      "A: I'd like to make sure my plane reservation is in order.\n",
      "B: May I have your flight number, please?\n",
      "A: World Airlines, Flight 201.\n",
      "B: And your name, please?<|eot_id|><|start_header_id|>assistant<|end_header_id|>\n",
      "\n",
      "\n",
      "{'A1': \"I'm sorry about the weather, but you are on vacation!\", 'A2': \"I'm traveling as John Smith.\", 'B1': \"I believe that will be a one-way ticket for me, and I'll be traveling as John Smith.\", 'B2': \"I'd like to request a window seat if possible.\"}\n",
      "[\"I'm part of the city council! Its the board that governs a city/town. Its the quickest way to become part of the government!\", 'Oh cool. So you get to be a part of the decision that get made about your city/town?', \"Yes! It's the fastest way to change your living environment and its the body of legislation between the state and the city.\", \"That sounds great. I don't think i have a city council in my town.\"]\n",
      "<|begin_of_text|><|start_header_id|>system<|end_header_id|>\n",
      "\n",
      "Only output A's response.<|eot_id|><|start_header_id|>user<|end_header_id|>\n",
      "\n",
      "Given the dialog, write a possible next turn of A.\n",
      "Dialog:\n",
      "A: I'm part of the city council! Its the board that governs a city/town. Its the quickest way to become part of the government!\n",
      "B: Oh cool. So you get to be a part of the decision that get made about your city/town?\n",
      "A: Yes! It's the fastest way to change your living environment and its the body of legislation between the state and the city.\n",
      "B: That sounds great. I don't think i have a city council in my town.<|eot_id|><|start_header_id|>assistant<|end_header_id|>\n",
      "\n",
      "\n",
      "{'A1': \"I can recommend the city's website or contacting the local government office to find out more information on how to establish a city council in your area.\", 'A2': \"I was born in this city, so I've been working with the council for years.\", 'B1': \"I think it's really important for citizens to be involved in their local government, so if you're interested in making a difference, you could look into starting a petition or attending town hall meetings to voice your opinions and concerns.\", 'B2': \"I'd like to clarify what exactly the role entails and what kind of responsibilities come with being a member of the city council.\"}\n",
      "[\"All over the world. Its crazy that Since the early 17th century, Paris has been one of Europe's major centres of finance, commerce, fashion, science, and the arts\", 'I did not know that.  How many times have you been there before?', 'Ive been there once before, I know that there are also some more modern attractions such as its suburban Disneyland Paris which is a fun place to visit.', 'what are your favorite places to eat at?']\n",
      "<|begin_of_text|><|start_header_id|>system<|end_header_id|>\n",
      "\n",
      "Only output A's response.<|eot_id|><|start_header_id|>user<|end_header_id|>\n",
      "\n",
      "Given the dialog, write a possible next turn of A.\n",
      "Dialog:\n",
      "A: All over the world. Its crazy that Since the early 17th century, Paris has been one of Europe's major centres of finance, commerce, fashion, science, and the arts\n",
      "B: I did not know that.  How many times have you been there before?\n",
      "A: Ive been there once before, I know that there are also some more modern attractions such as its suburban Disneyland Paris which is a fun place to visit.\n",
      "B: what are your favorite places to eat at?<|eot_id|><|start_header_id|>assistant<|end_header_id|>\n",
      "\n",
      "\n",
      "{'A1': \"I usually go to small shops and bakeries, they're really good and not too expensive.\", 'A2': \"I've been to a few places in the Latin Quarter, it's a great area for food and nightlife.\", 'B1': \"I've heard the original Home Improvement by Alain Ducasse and Le Grand Vefour, it's a classic French restaurant with an impressive history and beautiful interior.\", 'B2': \"I've always enjoyed trying out different types of French cuisine, but if I had to pick a favorite, it would be a traditional bistro like Le Comptoir du Relais or Chez L'Ami Jean.\"}\n",
      "['Yeah! And it is a tradition that the race is held primarily in the month of July. Although, I am not sure why or what started that. ', 'Wow and its been around for over a hundred years at this point too.', 'Yes it has! The Tour  de Franc started from a primarily Grench field and then expanded from there.', 'Oh yea and now its a huge torunament']\n",
      "<|begin_of_text|><|start_header_id|>system<|end_header_id|>\n",
      "\n",
      "Only output A's response.<|eot_id|><|start_header_id|>user<|end_header_id|>\n",
      "\n",
      "Given the dialog, write a possible next turn of A.\n",
      "Dialog:\n",
      "A: Yeah! And it is a tradition that the race is held primarily in the month of July. Although, I am not sure why or what started that. \n",
      "B: Wow and its been around for over a hundred years at this point too.\n",
      "A: Yes it has! The Tour  de Franc started from a primarily Grench field and then expanded from there.\n",
      "B: Oh yea and now its a huge torunament<|eot_id|><|start_header_id|>assistant<|end_header_id|>\n",
      "\n",
      "\n",
      "{'A1': 'I\\'m not sure about the \"Grench\" field, but I think you meant to say \"French\".', 'A2': \"I'm not sure about the exact date of the first tour, but I think it was 1903 when the first modern version of the Tour de France was held.\", 'B1': \"A: Exactly! It's amazing how something that started so small can grow into such a massive event.\", 'B2': \"I think it's interesting to note that the course has changed quite a bit over the years, with new stages being added and old ones being dropped.\"}\n",
      "['It seems like Coca-Cola has been around for ages! Do you know when it was created?', \"Yes, from what I've heard it was originally supposed to be a patent medicine and was invented in the late 19th century.\", \"That's a long time! So was it a pharmacist who invented the formula?\", 'I believe John Pemberton, the creator was a pharmacist or involved in medicine. Asa Griggs Candler introduced Coca-Cola to the business world though.  ']\n",
      "<|begin_of_text|><|start_header_id|>system<|end_header_id|>\n",
      "\n",
      "Only output A's response.<|eot_id|><|start_header_id|>user<|end_header_id|>\n",
      "\n",
      "Given the dialog, write a possible next turn of A.\n",
      "Dialog:\n",
      "A: It seems like Coca-Cola has been around for ages! Do you know when it was created?\n",
      "B: Yes, from what I've heard it was originally supposed to be a patent medicine and was invented in the late 19th century.\n",
      "A: That's a long time! So was it a pharmacist who invented the formula?\n",
      "B: I believe John Pemberton, the creator was a pharmacist or involved in medicine. Asa Griggs Candler introduced Coca-Cola to the business world though.<|eot_id|><|start_header_id|>assistant<|end_header_id|>\n",
      "\n",
      "\n",
      "{'A1': \"I'm curious about the original recipe. Was it a secret or did they share it with others?\", 'A2': \"I'm curious, did John Pemberton create the original recipe for Coca-Cola, or was it already existing before he modified it?\", 'B1': \"I'm surprised that the original recipe is still a secret after all these years.\", 'B2': \"I think it's interesting that the company has been able to maintain its popularity over such a long period of time.\"}\n",
      "['Yes I agree. Does the job pay very well?', \"It better, because those with big trucks have to rest for 15 minutes every 5.5 hours and 60 minutes every 11.  That's a lot of waiting around.\", 'I would assume that most truckers actually enjoy what they do. ', 'I would imagine so, it would feel good to know that their service is essential to society for transporting goods and products.  They make a great contribution.']\n",
      "<|begin_of_text|><|start_header_id|>system<|end_header_id|>\n",
      "\n",
      "Only output A's response.<|eot_id|><|start_header_id|>user<|end_header_id|>\n",
      "\n",
      "Given the dialog, write a possible next turn of A.\n",
      "Dialog:\n",
      "A: Yes I agree. Does the job pay very well?\n",
      "B: It better, because those with big trucks have to rest for 15 minutes every 5.5 hours and 60 minutes every 11.  That's a lot of waiting around.\n",
      "A: I would assume that most truckers actually enjoy what they do. \n",
      "B: I would imagine so, it would feel good to know that their service is essential to society for transporting goods and products.  They make a great contribution.<|eot_id|><|start_header_id|>assistant<|end_header_id|>\n",
      "\n",
      "\n",
      "{'A1': \"I'm not sure about that. I think you'd get bored after a while, especially if you're on the road for long stretches at a time.\", 'A2': \"I think the job can be rewarding in many ways, but it's also physically demanding and requires a lot of time away from home.\", 'B1': \"I think it's not just about the money, but also the sense of fulfillment that comes from being able to provide an important service to people.\", 'B2': 'I would assume that most truckers actually enjoy what they do.'}\n",
      "['Yeah. Do you use facebook?', 'I do actually. Do you know why it is blue?', 'I think it is because Mark if green-red colorblind', 'Yesh. The like button is illegal in parts of germany']\n",
      "<|begin_of_text|><|start_header_id|>system<|end_header_id|>\n",
      "\n",
      "Only output A's response.<|eot_id|><|start_header_id|>user<|end_header_id|>\n",
      "\n",
      "Given the dialog, write a possible next turn of A.\n",
      "Dialog:\n",
      "A: Yeah. Do you use facebook?\n",
      "B: I do actually. Do you know why it is blue?\n",
      "A: I think it is because Mark if green-red colorblind\n",
      "B: Yesh. The like button is illegal in parts of germany<|eot_id|><|start_header_id|>assistant<|end_header_id|>\n",
      "\n",
      "\n",
      "{'A1': \"I'm not sure that's correct.\", 'A2': \"I'm not sure that's true about the button being illegal in Germany.\", 'B1': \"I think it's because Mark Zuckerberg is red-green colorblind\", 'B2': \"I think it's because the CEO, Mark Zuckerberg, has red-green color blindness, so he chose a color that he could see well.\"}\n",
      "['oh, they are pancakes, hollowed sesame buns, scallions, cucumbers and oisin sauce. I will show you how to make one.', \"thank you. I couldn't wait any longer to have a taste.\", 'Just roll it up and have a bite, Amy.', \"oh, it's terrific. I love the floor. Can you tell me how it was prepared?\"]\n",
      "<|begin_of_text|><|start_header_id|>system<|end_header_id|>\n",
      "\n",
      "Only output A's response.<|eot_id|><|start_header_id|>user<|end_header_id|>\n",
      "\n",
      "Given the dialog, write a possible next turn of A.\n",
      "Dialog:\n",
      "A: oh, they are pancakes, hollowed sesame buns, scallions, cucumbers and oisin sauce. I will show you how to make one.\n",
      "B: thank you. I couldn't wait any longer to have a taste.\n",
      "A: Just roll it up and have a bite, Amy.\n",
      "B: oh, it's terrific. I love the floor. Can you tell me how it was prepared?<|eot_id|><|start_header_id|>assistant<|end_header_id|>\n",
      "\n",
      "\n",
      "{'A1': \"Here is the next turn from A's perspective:\\n\\nA: Ah, yes! To make this delicious Korean-style pancake, you'll need flour, water, eggs, salt, and scallions.\", 'A2': \"Here is a possible next turn for A:\\n\\nA: Ah, yes! The secret is in the combination of ingredients. First, you need to cook the pancakes until they're slightly crispy on the outside and fluffy on the inside.\", 'B1': 'Here is a possible next turn for A:\\n\\nA: Yes, of course! First, I toasted the sesame buns until they were lightly browned, then filled them with a mixture of scrambled eggs, diced scallions, and sliced cucumbers.', 'B2': \"Here is a possible next turn for A:\\n\\nA: Ah, yes! It's quite simple really. You just need to hollow out the inside of the scallion buns, then fill them with a mixture of ground pork, cabbage, and spices.\"}\n",
      "[\"Sure, let's take a look at the menu first.\", 'Do I have to turn on the computer?', 'yes, we can look at the computer and computer menu at the same time. And this will help us understand both better.', 'What should I learn first?']\n",
      "<|begin_of_text|><|start_header_id|>system<|end_header_id|>\n",
      "\n",
      "Only output A's response.<|eot_id|><|start_header_id|>user<|end_header_id|>\n",
      "\n",
      "Given the dialog, write a possible next turn of A.\n",
      "Dialog:\n",
      "A: Sure, let's take a look at the menu first.\n",
      "B: Do I have to turn on the computer?\n",
      "A: yes, we can look at the computer and computer menu at the same time. And this will help us understand both better.\n",
      "B: What should I learn first?<|eot_id|><|start_header_id|>assistant<|end_header_id|>\n",
      "\n",
      "\n",
      "{'A1': \"Let's go over the menu for the main course, it's usually a good place to start.\", 'A2': \"Let's go through the basics of the computer program.\", 'B1': \"Let's start with the basics.\", 'B2': \"Let's start with the basics.\"}\n",
      "['I really admire those who made such great inventions!', \"May, I don't see why they are great. They are just simple things.\", 'They look simple today. But they were milestones in their times.', 'Milestones? May, you must be kidding.']\n",
      "<|begin_of_text|><|start_header_id|>system<|end_header_id|>\n",
      "\n",
      "Only output A's response.<|eot_id|><|start_header_id|>user<|end_header_id|>\n",
      "\n",
      "Given the dialog, write a possible next turn of A.\n",
      "Dialog:\n",
      "A: I really admire those who made such great inventions!\n",
      "B: May, I don't see why they are great. They are just simple things.\n",
      "A: They look simple today. But they were milestones in their times.\n",
      "B: Milestones? May, you must be kidding.<|eot_id|><|start_header_id|>assistant<|end_header_id|>\n",
      "\n",
      "\n",
      "{'A1': 'But think about it, the light bulb is still a fundamental part of our daily lives.', 'A2': \"But that's exactly what I'm saying! Those inventors didn't have the same resources or knowledge as we do now, and yet they still managed to create something groundbreaking.\", 'B1': \"But think about it, if it weren't for those early inventors, we wouldn't have the technology we have today.\", 'B2': \"But that's exactly my point! Those people didn't have the same resources or knowledge we do now, so what they accomplished was truly remarkable.\"}\n",
      "['What are your requirements?', 'The single rooms should be on the second or third floor and the double rooms should face the sea and have enough sunshine.', 'Is that all?', 'Oh, it would be better if the rooms were next to each other.']\n",
      "<|begin_of_text|><|start_header_id|>system<|end_header_id|>\n",
      "\n",
      "Only output A's response.<|eot_id|><|start_header_id|>user<|end_header_id|>\n",
      "\n",
      "Given the dialog, write a possible next turn of A.\n",
      "Dialog:\n",
      "A: What are your requirements?\n",
      "B: The single rooms should be on the second or third floor and the double rooms should face the sea and have enough sunshine.\n",
      "A: Is that all?\n",
      "B: Oh, it would be better if the rooms were next to each other.<|eot_id|><|start_header_id|>assistant<|end_header_id|>\n",
      "\n",
      "\n",
      "{'A1': 'Can you accommodate a room with a king-size bed for me?', 'A2': 'Can you make sure the rooms are cleaned every day and provide breakfast at 7 am?', 'B1': 'Can we also get a room with a private balcony overlooking the ocean?', 'B2': 'Can we also get a view of the surrounding area from the balcony?'}\n",
      "[\"Oh, my god! I look so old. I look as if I were 40. I think it's time for some plastic surgeries. I'm tired of these wrinkles and sagging skin.\", \"I don't see any wrinkles or sagging skin! You'd better stop being so ridiculous.\", 'Anyway I think I need a nose job and some breast implants as well.', 'I think you need to get a brain surgery. Honestly speaking, you look charming.']\n",
      "<|begin_of_text|><|start_header_id|>system<|end_header_id|>\n",
      "\n",
      "Only output A's response.<|eot_id|><|start_header_id|>user<|end_header_id|>\n",
      "\n",
      "Given the dialog, write a possible next turn of A.\n",
      "Dialog:\n",
      "A: Oh, my god! I look so old. I look as if I were 40. I think it's time for some plastic surgeries. I'm tired of these wrinkles and sagging skin.\n",
      "B: I don't see any wrinkles or sagging skin! You'd better stop being so ridiculous.\n",
      "A: Anyway I think I need a nose job and some breast implants as well.\n",
      "B: I think you need to get a brain surgery. Honestly speaking, you look charming.<|eot_id|><|start_header_id|>assistant<|end_header_id|>\n",
      "\n",
      "\n",
      "{'A1': \"I'm sorry about the weather, but you're on vacation!\", 'A2': \"I'm not sure what kind of game you're playing, but I'm not interested in it.\", 'B1': \"I think we're just seeing things from different perspectives. Maybe I do have a few imperfections that are bothering me, but I'm not sure if they're worth going under the knife for.\", 'B2': \"I think I've been looking in the mirror too long. I'm starting to lose sight of what's really important.\"}\n",
      "['It was good, I liked it, it had Reynolds as the leading actor but they wanted to cast Jack Black for the part at first. ', 'Oh I see,  that would be cool too I guess.  Do you watch the simpsons?  There is an episode where Bart isnt in it or even mentioned!', \"I havent seen that one, I don't watch much TV lately mostly series but I loved the Simpsons growing up.\", 'Same here,  I also learned that homer had over 180 jobs haha ']\n",
      "<|begin_of_text|><|start_header_id|>system<|end_header_id|>\n",
      "\n",
      "Only output A's response.<|eot_id|><|start_header_id|>user<|end_header_id|>\n",
      "\n",
      "Given the dialog, write a possible next turn of A.\n",
      "Dialog:\n",
      "A: It was good, I liked it, it had Reynolds as the leading actor but they wanted to cast Jack Black for the part at first. \n",
      "B: Oh I see,  that would be cool too I guess.  Do you watch the simpsons?  There is an episode where Bart isnt in it or even mentioned!\n",
      "A: I havent seen that one, I don't watch much TV lately mostly series but I loved the Simpsons growing up.\n",
      "B: Same here,  I also learned that homer had over 180 jobs haha<|eot_id|><|start_header_id|>assistant<|end_header_id|>\n",
      "\n",
      "\n",
      "{'A1': \"I'm really into playing the guitar and I've been trying to learn how to play the saxophone too, but it's harder than I thought!\", 'A2': \"I've been meaning to catch up on some old episodes, but I haven't had the time.\", 'B1': \"I've been meaning to get back into TV watching, but I just haven't had the time.\", 'B2': \"I've always thought he'd be a great fit for a role like that!\"}\n",
      "[\"No I didn't catch their names. But I know that a lot of gold medalist attended as well as some people from the US Olympic softball team, I don't watch sports or the Olympics so I can't say that I know any of the names LOL\", \"Me neither, I wish I knew more about the olympians, they're so elite. Hard for them to get a lot of recognition though. You play video games by chance?\", \"Yes I play video games somewhat, used to play Maurice a kid but I don't play that many these days. What about you? I'm just glad that I didn't grow up in South Korea because apparently playing a video game after midnight if your under 16 is illegal\", \"Oh wow, I would have never of guessed that. I played a lot of video games growing up, I think there is a lot of benefit to them. I play Fortnite now, and I'm in my 30s lol. Do you still play?\"]\n",
      "<|begin_of_text|><|start_header_id|>system<|end_header_id|>\n",
      "\n",
      "Only output A's response.<|eot_id|><|start_header_id|>user<|end_header_id|>\n",
      "\n",
      "Given the dialog, write a possible next turn of A.\n",
      "Dialog:\n",
      "A: No I didn't catch their names. But I know that a lot of gold medalist attended as well as some people from the US Olympic softball team, I don't watch sports or the Olympics so I can't say that I know any of the names LOL\n",
      "B: Me neither, I wish I knew more about the olympians, they're so elite. Hard for them to get a lot of recognition though. You play video games by chance?\n",
      "A: Yes I play video games somewhat, used to play Maurice a kid but I don't play that many these days. What about you? I'm just glad that I didn't grow up in South Korea because apparently playing a video game after midnight if your under 16 is illegal\n",
      "B: Oh wow, I would have never of guessed that. I played a lot of video games growing up, I think there is a lot of benefit to them. I play Fortnite now, and I'm in my 30s lol. Do you still play?<|eot_id|><|start_header_id|>assistant<|end_header_id|>\n",
      "\n",
      "\n",
      "{'A1': \"I'm really into playing the old classic games like Final Fantasy and Chrono Trigger.\", 'A2': 'I haven\\'t been in a long time, but I\\'ve been thinking about getting back into it. I\\'ve heard good things about this new game \"Overwatch\" and I\\'ve seen some friends playing it online.', 'B1': \"I've been thinking about getting back into it, but I don't know what kind of games are popular nowadays.\", 'B2': \"I've been thinking about getting back into it lately, especially with all the new games coming out.\"}\n",
      "['I do not like pools due to the structure design to hold water.', 'oh well I love to swim in a nice structured pool', 'I do prefer an above ground pool than an in ground pool.', 'oh why is that?']\n",
      "<|begin_of_text|><|start_header_id|>system<|end_header_id|>\n",
      "\n",
      "Only output A's response.<|eot_id|><|start_header_id|>user<|end_header_id|>\n",
      "\n",
      "Given the dialog, write a possible next turn of A.\n",
      "Dialog:\n",
      "A: I do not like pools due to the structure design to hold water.\n",
      "B: oh well I love to swim in a nice structured pool\n",
      "A: I do prefer an above ground pool than an in ground pool.\n",
      "B: oh why is that?<|eot_id|><|start_header_id|>assistant<|end_header_id|>\n",
      "\n",
      "\n",
      "{'A1': \"I'm a big fan of the portability and ease of installation of above-ground pools.\", 'A2': \"I prefer an above-ground pool because it's easier to clean and maintain, plus it's less expensive to install and repair.\", 'B1': \"I think it's because with an above ground pool, you can see the water level and know exactly how much water is in there, whereas with an in-ground pool, you have to guess or measure it.\", 'B2': \"I think it's because I feel like I have more control over my own space when I'm in an above-ground pool.\"}\n",
      "[\"Have you ever heard of moustache cups ? It's from the olden days. My grandfather said he kept his at the barber shop. \", 'Yeah they are drinking cups with a semicircular ledge in them.', 'The  longest moustache measures 4.29 m (14 ft) and belongs to Ram Singh Chauhan (India). Is yours that long ?', 'No mine is only about 5 inches in length. Moustaches are associated with power in certain Arab countries.']\n",
      "<|begin_of_text|><|start_header_id|>system<|end_header_id|>\n",
      "\n",
      "Only output A's response.<|eot_id|><|start_header_id|>user<|end_header_id|>\n",
      "\n",
      "Given the dialog, write a possible next turn of A.\n",
      "Dialog:\n",
      "A: Have you ever heard of moustache cups ? It's from the olden days. My grandfather said he kept his at the barber shop. \n",
      "B: Yeah they are drinking cups with a semicircular ledge in them.\n",
      "A: The  longest moustache measures 4.29 m (14 ft) and belongs to Ram Singh Chauhan (India). Is yours that long ?\n",
      "B: No mine is only about 5 inches in length. Moustaches are associated with power in certain Arab countries.<|eot_id|><|start_header_id|>assistant<|end_header_id|>\n",
      "\n",
      "\n",
      "{'A1': \"I'm not into collecting or growing my own moustache, but I do find it fascinating how different cultures have their own unique traditions and symbols of status or power.\", 'A2': \"I've traveled to some of those countries, and I've seen many impressive moustaches!\", 'B1': 'I\\'ve always been fascinated by the history behind those old-fashioned cups. I had no idea they were called \"moustache cups\"!', 'B2': \"I've always thought it was interesting how different cultures have their own unique customs and traditions.\"}\n",
      "[\"Hi there, I love macaroni and cheese. What's your favorite meal?\", 'Spaghetti, but let me ask you this;  o you prefer mac and cheese that is made from a box mix OR cooked on the stove OR cooked as a casserole in the oven?', 'I prefer to cook it on the stove. I make a sauce which is mainly tomato paste , onion, mushroom and meat. Then mix it with macaroni and cheese.', 'I see.  Interesting how you incorporate other ingredients in your dish.  I prefer macncheetos, which is a deep fried mac and cheese served by Burger King Corporation.']\n",
      "<|begin_of_text|><|start_header_id|>system<|end_header_id|>\n",
      "\n",
      "Only output A's response.<|eot_id|><|start_header_id|>user<|end_header_id|>\n",
      "\n",
      "Given the dialog, write a possible next turn of A.\n",
      "Dialog:\n",
      "A: Hi there, I love macaroni and cheese. What's your favorite meal?\n",
      "B: Spaghetti, but let me ask you this;  o you prefer mac and cheese that is made from a box mix OR cooked on the stove OR cooked as a casserole in the oven?\n",
      "A: I prefer to cook it on the stove. I make a sauce which is mainly tomato paste , onion, mushroom and meat. Then mix it with macaroni and cheese.\n",
      "B: I see.  Interesting how you incorporate other ingredients in your dish.  I prefer macncheetos, which is a deep fried mac and cheese served by Burger King Corporation.<|eot_id|><|start_header_id|>assistant<|end_header_id|>\n",
      "\n",
      "\n",
      "{'A1': \"I'm not a big fan of fast food, I think it's great to have control over the ingredients and cooking process when making something like macaroni and cheese.\", 'A2': \"I've never had mac n' cheese at Burger King before! That sounds like an interesting twist.\", 'B1': \"I've never had that before! It sounds like a unique twist on traditional mac and cheese.\", 'B2': \"I've never tried deep-fried mac and cheese before! That sounds like an interesting twist.\"}\n",
      "['What did your boss say?', \"He told me that if I showed up late one more time, he'd fire me. He's so mean!\", \"That's horrible. Was that the first time you'd shown up late to work?\", 'That was my second time. The first time, I was in a car accident.']\n",
      "<|begin_of_text|><|start_header_id|>system<|end_header_id|>\n",
      "\n",
      "Only output A's response.<|eot_id|><|start_header_id|>user<|end_header_id|>\n",
      "\n",
      "Given the dialog, write a possible next turn of A.\n",
      "Dialog:\n",
      "A: What did your boss say?\n",
      "B: He told me that if I showed up late one more time, he'd fire me. He's so mean!\n",
      "A: That's horrible. Was that the first time you'd shown up late to work?\n",
      "B: That was my second time. The first time, I was in a car accident.<|eot_id|><|start_header_id|>assistant<|end_header_id|>\n",
      "\n",
      "\n",
      "{'A1': \"I'm sorry you're going through this. Maybe you should talk to him and explain the situation.\", 'A2': \"I'm really sorry that happened.\", 'B1': \"I think it's not fair that he's being so harsh on his first two times.\", 'B2': \"I think it's not fair that he threatened to fire you for something that wasn't your fault.\"}\n",
      "['Yeah. I have faith that he will help America turn over a new leaf.', 'Our country really could use some work.', 'I believe that change has already begun.', \"I couldn't agree more.\"]\n",
      "<|begin_of_text|><|start_header_id|>system<|end_header_id|>\n",
      "\n",
      "Only output A's response.<|eot_id|><|start_header_id|>user<|end_header_id|>\n",
      "\n",
      "Given the dialog, write a possible next turn of A.\n",
      "Dialog:\n",
      "A: Yeah. I have faith that he will help America turn over a new leaf.\n",
      "B: Our country really could use some work.\n",
      "A: I believe that change has already begun.\n",
      "B: I couldn't agree more.<|eot_id|><|start_header_id|>assistant<|end_header_id|>\n",
      "\n",
      "\n",
      "{'A1': \"I'm not sure what you're looking for, but I think our new leader is off to a great start.\", 'A2': 'I think we need to hold our elected officials accountable for making sure that this change is implemented effectively.', 'B1': \"I think we'll see a lot of progress in the coming years.\", 'B2': \"I think we're seeing a shift in leadership and a willingness to listen to others' perspectives, which is a great start.\"}\n",
      "['I did. He really knocked it out of the park. A lot of stuff works shockingly well in the movie, so he deserves a lot of credit. The glory days of Pixar started strong. But yeah, Buzz is cool too, even as an adult I like the childish charm.', 'I completely agree, I especially like the scene when Buzz was introduced to the film. It was very creative and a great introduction into the concepts covered by the rest of the film. ', 'Yeah, they did justice to most of the characters despite a pretty large cast. I liked Don Rickles as comedy relief as Mr. Potato Head a lot more than the comic relief from Rex, but Rex was still pretty adorable for his part. Gotta have some broad appeal to different audiences, right?', 'I think that is what made the film such a success is that they hit such a wide audience without overwhelming the viewer, probably why it did so well in the ratings! ']\n",
      "<|begin_of_text|><|start_header_id|>system<|end_header_id|>\n",
      "\n",
      "Only output A's response.<|eot_id|><|start_header_id|>user<|end_header_id|>\n",
      "\n",
      "Given the dialog, write a possible next turn of A.\n",
      "Dialog:\n",
      "A: I did. He really knocked it out of the park. A lot of stuff works shockingly well in the movie, so he deserves a lot of credit. The glory days of Pixar started strong. But yeah, Buzz is cool too, even as an adult I like the childish charm.\n",
      "B: I completely agree, I especially like the scene when Buzz was introduced to the film. It was very creative and a great introduction into the concepts covered by the rest of the film. \n",
      "A: Yeah, they did justice to most of the characters despite a pretty large cast. I liked Don Rickles as comedy relief as Mr. Potato Head a lot more than the comic relief from Rex, but Rex was still pretty adorable for his part. Gotta have some broad appeal to different audiences, right?\n",
      "B: I think that is what made the film such a success is that they hit such a wide audience without overwhelming the viewer, probably why it did so well in the ratings!<|eot_id|><|start_header_id|>assistant<|end_header_id|>\n",
      "\n",
      "\n",
      "{'A1': 'I think that is what made the film such a success is that they hit such a wide audience without overwhelming the viewer, probably why it did so well in the ratings!', 'A2': 'I think that is what made the film such a success is that they hit such a wide audience without overwhelming the viewer, probably why it did so well in the ratings!', 'B1': 'I think that is what made the film such a success is that they hit such a wide audience without overwhelming the viewer, probably why it did so well in the ratings!', 'B2': 'I think that is what made the film such a success is that they hit such a wide audience without overwhelming the viewer, probably why it did so well in the ratings!'}\n",
      "['Let me look in the file then. Maybe we received it.', 'My name is Derek Schneider, S - C - H - N - E - I - D - E - R.', 'Yes, here it is.Alright. Then I just need your completed application form, and I will be able to process your request.', 'Good. I will sit over there and fill out the form. I will give it to you in a few minutes.Oh, by the way, can I apply for any parking lot I want?']\n",
      "<|begin_of_text|><|start_header_id|>system<|end_header_id|>\n",
      "\n",
      "Only output A's response.<|eot_id|><|start_header_id|>user<|end_header_id|>\n",
      "\n",
      "Given the dialog, write a possible next turn of A.\n",
      "Dialog:\n",
      "A: Let me look in the file then. Maybe we received it.\n",
      "B: My name is Derek Schneider, S - C - H - N - E - I - D - E - R.\n",
      "A: Yes, here it is.Alright. Then I just need your completed application form, and I will be able to process your request.\n",
      "B: Good. I will sit over there and fill out the form. I will give it to you in a few minutes.Oh, by the way, can I apply for any parking lot I want?<|eot_id|><|start_header_id|>assistant<|end_header_id|>\n",
      "\n",
      "\n",
      "{'A1': 'Let me check on that.', 'A2': 'Let me check on that.', 'B1': 'Let me review the rules again.', 'B2': 'Let me just check on that for you, Mr. Schneider.'}\n",
      "['The way he smashed him into the ground like that was so satisfying, especially since all the trouble Loki caused. That beat-down felt so justified. ', 'Seeing the Chitauri ships leads me to think that there is no way this can be the end and the emotional response from Tony Stark Really set the final tone of the scene, \"Puny God!\" lol', 'Seeing the massive ground force in Manhattan vs the Avengers really shows what they are capable of when they all work together and dismiss the tension between one another.', 'The way they filmed the ending was great because it launched an amazing direction for the other movies that would later come out. Including some interesting storylines for Tony. That wormhole experience really messed with him.']\n",
      "<|begin_of_text|><|start_header_id|>system<|end_header_id|>\n",
      "\n",
      "Only output A's response.<|eot_id|><|start_header_id|>user<|end_header_id|>\n",
      "\n",
      "Given the dialog, write a possible next turn of A.\n",
      "Dialog:\n",
      "A: The way he smashed him into the ground like that was so satisfying, especially since all the trouble Loki caused. That beat-down felt so justified. \n",
      "B: Seeing the Chitauri ships leads me to think that there is no way this can be the end and the emotional response from Tony Stark Really set the final tone of the scene, \"Puny God!\" lol\n",
      "A: Seeing the massive ground force in Manhattan vs the Avengers really shows what they are capable of when they all work together and dismiss the tension between one another.\n",
      "B: The way they filmed the ending was great because it launched an amazing direction for the other movies that would later come out. Including some interesting storylines for Tony. That wormhole experience really messed with him.<|eot_id|><|start_header_id|>assistant<|end_header_id|>\n",
      "\n",
      "\n",
      "{'A1': \"The Chitauri's sudden retreat and the subsequent destruction of their fleet by the combined might of the Avengers and the S.H.I.E.L.D. forces was a great payoff after all the build-up throughout the movie.\", 'A2': 'The aftermath of the battle was intense, and I loved how the team came together to take down the alien invasion.', 'B1': \"The way the team worked together was impressive, but I'm still worried about the world's future.\", 'B2': \"The way the Avengers came together in the heat of battle was truly inspiring, and it's amazing how much character development we got from each of them during that fight.\"}\n",
      "[\"Oh my God! I can't find my first period American literature class.\", 'You look lost. Can I help you?', \"Aren't you the guy who sat in front of me in our homeroom?\", \"Yeah. I'm Brad.\"]\n",
      "<|begin_of_text|><|start_header_id|>system<|end_header_id|>\n",
      "\n",
      "Only output A's response.<|eot_id|><|start_header_id|>user<|end_header_id|>\n",
      "\n",
      "Given the dialog, write a possible next turn of A.\n",
      "Dialog:\n",
      "A: Oh my God! I can't find my first period American literature class.\n",
      "B: You look lost. Can I help you?\n",
      "A: Aren't you the guy who sat in front of me in our homeroom?\n",
      "B: Yeah. I'm Brad.<|eot_id|><|start_header_id|>assistant<|end_header_id|>\n",
      "\n",
      "\n",
      "{'A1': \"I'm so sorry to be so bad with names, but I'm Alex.\", 'A2': 'I was just coming from the library and I saw the door to the classroom was open, but when I went inside, it was empty.', 'B1': '\"Hey, nice to see you again! I\\'ve been meaning to talk to you about that English project we have due soon. Do you know what it\\'s about yet?\"', 'B2': '\"Hey, yeah! We\\'re supposed to have that class right now, aren\\'t we? I think it\\'s room 204.\"'}\n",
      "['Really? What else do you know about snorkling?', 'Well most people like snorkeling because anyone can do it, its not as difficult as scuba diving, because there is little effort and almost no equipment', 'Thats very interesting. Is it expensive?', 'not really! Its pretty cheep and has been around a long time, Aristotle actually refers to it in his writting parts of animals']\n",
      "<|begin_of_text|><|start_header_id|>system<|end_header_id|>\n",
      "\n",
      "Only output A's response.<|eot_id|><|start_header_id|>user<|end_header_id|>\n",
      "\n",
      "Given the dialog, write a possible next turn of A.\n",
      "Dialog:\n",
      "A: Really? What else do you know about snorkling?\n",
      "B: Well most people like snorkeling because anyone can do it, its not as difficult as scuba diving, because there is little effort and almost no equipment\n",
      "A: Thats very interesting. Is it expensive?\n",
      "B: not really! Its pretty cheep and has been around a long time, Aristotle actually refers to it in his writting parts of animals<|eot_id|><|start_header_id|>assistant<|end_header_id|>\n",
      "\n",
      "\n",
      "{'A1': \"That's too bad about the weather.\", 'A2': \"That's true! I've heard that monkeys are quite fond of snacking on fruits and leaves while they're at the surface.\", 'B1': \"That's fascinating!\", 'B2': \"That's fascinating!\"}\n",
      "['Do you enjoy looking up information about planets? Did you know Uranus rolls around the sun rather than spinning like other planets?', \"I do and I do know that.  It's crazy and funny when you think about how it must look.  Uranus has more character than Venus.  It doesn't tilt so it doesn't have any seasons.\", \"Well that doesn't sound as bad as the planet that has shards of glass precipitating sideways at 4500 mph\", \"True.  You know I feel sorry for Pluto.  I still think of it as a planet even though scientists changed their minds and said it's not.\"]\n",
      "<|begin_of_text|><|start_header_id|>system<|end_header_id|>\n",
      "\n",
      "Only output A's response.<|eot_id|><|start_header_id|>user<|end_header_id|>\n",
      "\n",
      "Given the dialog, write a possible next turn of A.\n",
      "Dialog:\n",
      "A: Do you enjoy looking up information about planets? Did you know Uranus rolls around the sun rather than spinning like other planets?\n",
      "B: I do and I do know that.  It's crazy and funny when you think about how it must look.  Uranus has more character than Venus.  It doesn't tilt so it doesn't have any seasons.\n",
      "A: Well that doesn't sound as bad as the planet that has shards of glass precipitating sideways at 4500 mph\n",
      "B: True.  You know I feel sorry for Pluto.  I still think of it as a planet even though scientists changed their minds and said it's not.<|eot_id|><|start_header_id|>assistant<|end_header_id|>\n",
      "\n",
      "\n",
      "{'A1': \"I'm glad we're on the same page about the character of the planets!\", 'A2': \"I was going to say that I've been to a museum exhibit on the solar system and they had a model of Neptune's storm systems, which were really cool!\", 'B1': \"I think it's fascinating to learn about the unique features of each planet, but I'm also a bit concerned about the potential implications of having a planet with such extreme weather conditions.\", 'B2': \"I've always thought that if we could visit a planet with extreme weather conditions, it would be fascinating to see what kind of life forms could adapt to those environments.\"}\n",
      "[\"You clearly didn't follow the directions. \", 'oops', 'what did i miss', '?']\n",
      "<|begin_of_text|><|start_header_id|>system<|end_header_id|>\n",
      "\n",
      "Only output A's response.<|eot_id|><|start_header_id|>user<|end_header_id|>\n",
      "\n",
      "Given the dialog, write a possible next turn of A.\n",
      "Dialog:\n",
      "A: You clearly didn't follow the directions. \n",
      "B: oops\n",
      "A: what did i miss\n",
      "B: ?<|eot_id|><|start_header_id|>assistant<|end_header_id|>\n",
      "\n",
      "\n",
      "{'A1': \"You're supposed to be at the park by now, and you're still stuck in traffic!\", 'A2': 'You missed the most important part of the instructions!', 'B1': 'You missed the point of the exercise entirely.', 'B2': \"You're supposed to provide the context for the conversation, but I'll assume it's a general conversation and not related to any specific topic.\"}\n",
      "['Yes, that is an excellent Album, and Aerosmith has made more money from guitar hero than any Album lol', 'I think the best albums withstand the test of time. Even now, the dark side of the moon is among the best sellers. ', 'Dark side of the Moon was one of my favorite Albums growing up, love Pink Floyd. Really great band. ', \"Another great one was Nwa's straight outta compton. It was the first to reach platinum status without the support of airplay or tour. That is in itself an impressive feat\"]\n",
      "<|begin_of_text|><|start_header_id|>system<|end_header_id|>\n",
      "\n",
      "Only output A's response.<|eot_id|><|start_header_id|>user<|end_header_id|>\n",
      "\n",
      "Given the dialog, write a possible next turn of A.\n",
      "Dialog:\n",
      "A: Yes, that is an excellent Album, and Aerosmith has made more money from guitar hero than any Album lol\n",
      "B: I think the best albums withstand the test of time. Even now, the dark side of the moon is among the best sellers. \n",
      "A: Dark side of the Moon was one of my favorite Albums growing up, love Pink Floyd. Really great band. \n",
      "B: Another great one was Nwa's straight outta compton. It was the first to reach platinum status without the support of airplay or tour. That is in itself an impressive feat<|eot_id|><|start_header_id|>assistant<|end_header_id|>\n",
      "\n",
      "\n",
      "{'A1': \"I'm not a music expert, but I do know that some people consider the guitar to be the most iconic instrument in rock music.\", 'A2': 'I\\'m not sure if you\\'re familiar with the fact that the album \"Toys in the Attic\" by Aerosmith is actually their most successful album in terms of sales.', 'B1': \"I think it's interesting how music trends change over time. I mean, back then, it was all about the raw energy and rebelliousness of punk and hip-hop, but nowadays it seems like people are more into nostalgia and retro vibes.\", 'B2': \"I think it's interesting how some bands can have such a huge impact on music, but then kind of fade away after a while. Like, Nirvana was huge in the 90s, but their music isn't really played much anymore.\"}\n",
      "['I like to hang out with my friends, play games and go swimming.', 'Would you like to go out some time?', \"Sure, that ' d be great.Where would you like to go?\", 'Anywhere with you.']\n",
      "<|begin_of_text|><|start_header_id|>system<|end_header_id|>\n",
      "\n",
      "Only output A's response.<|eot_id|><|start_header_id|>user<|end_header_id|>\n",
      "\n",
      "Given the dialog, write a possible next turn of A.\n",
      "Dialog:\n",
      "A: I like to hang out with my friends, play games and go swimming.\n",
      "B: Would you like to go out some time?\n",
      "A: Sure, that ' d be great.Where would you like to go?\n",
      "B: Anywhere with you.<|eot_id|><|start_header_id|>assistant<|end_header_id|>\n",
      "\n",
      "\n",
      "{'A1': 'How about the park?', 'A2': 'How about we grab lunch at that new restaurant downtown?', 'B1': 'How about we check out that new arcade game that just opened up downtown?', 'B2': 'How about we check out that new movie that just came out?'}\n",
      "['The Grateful Dead is so old! They started in 1965 in California.', \"I didn't realize that started that long ago. I've never been a big fan of their music, to be honest. \", \"Lenny Kaye said that their music touches ground that most other bands don't even know exists.\", 'Well, that is quite an endorsement. Jerry Garcia was one of the original members, right? I remember when he died. ']\n",
      "<|begin_of_text|><|start_header_id|>system<|end_header_id|>\n",
      "\n",
      "Only output A's response.<|eot_id|><|start_header_id|>user<|end_header_id|>\n",
      "\n",
      "Given the dialog, write a possible next turn of A.\n",
      "Dialog:\n",
      "A: The Grateful Dead is so old! They started in 1965 in California.\n",
      "B: I didn't realize that started that long ago. I've never been a big fan of their music, to be honest. \n",
      "A: Lenny Kaye said that their music touches ground that most other bands don't even know exists.\n",
      "B: Well, that is quite an endorsement. Jerry Garcia was one of the original members, right? I remember when he died.<|eot_id|><|start_header_id|>assistant<|end_header_id|>\n",
      "\n",
      "\n",
      "{'A1': \"I love Lenny's take on their music - it's all about the journey and the experience, not just the destination.\", 'A2': \"I love how they're able to create this sense of community and connection with their fans through their live performances.\", 'B1': \"I think it's amazing how they were able to stay together for so long and still have such a strong following.\", 'B2': \"I think it's amazing how the Grateful Dead has managed to stay relevant all these years, despite the fact that they disbanded after Jerry Garcia passed away.\"}\n",
      "[\"It sounds a lot like the movie Wall Street from the 80's. I've never seen it, but want to.\", \"I haven't seen that either but I've seen this one. I don't really know what Black Monday is and forgot what year that was.\", \"It says the movie starts in 1987. I don't know what black monday was either. \", \"Some kind of market crash I guess but I vaguely remember the scene. I don't know what caused it.\"]\n",
      "<|begin_of_text|><|start_header_id|>system<|end_header_id|>\n",
      "\n",
      "Only output A's response.<|eot_id|><|start_header_id|>user<|end_header_id|>\n",
      "\n",
      "Given the dialog, write a possible next turn of A.\n",
      "Dialog:\n",
      "A: It sounds a lot like the movie Wall Street from the 80's. I've never seen it, but want to.\n",
      "B: I haven't seen that either but I've seen this one. I don't really know what Black Monday is and forgot what year that was.\n",
      "A: It says the movie starts in 1987. I don't know what black monday was either. \n",
      "B: Some kind of market crash I guess but I vaguely remember the scene. I don't know what caused it.<|eot_id|><|start_header_id|>assistant<|end_header_id|>\n",
      "\n",
      "\n",
      "{'A1': \"I'm not into movies, but I do love learning about history. I read a little bit about Black Monday and it was a big stock market crash on October 19, 1987. It was a global phenomenon and the Dow Jones Industrial Average dropped by over 22% in a single day.\", 'A2': 'I think I saw a documentary about it once. It was a big financial crisis where the stock market crashed on October 19th, 1987.', 'B1': 'I think it would be interesting to learn more about the actual events behind the movie.', 'B2': 'I think it would be interesting to learn more about the historical context behind the movie.'}\n",
      "['Excuse me, but could you tell me the way to the railway station?', 'The railway station? Just go down this street and turn left at the second corner.The station is at the end of that street.', 'How long will it take me to get there?', \"It's about a ten-minute walk.\"]\n",
      "<|begin_of_text|><|start_header_id|>system<|end_header_id|>\n",
      "\n",
      "Only output A's response.<|eot_id|><|start_header_id|>user<|end_header_id|>\n",
      "\n",
      "Given the dialog, write a possible next turn of A.\n",
      "Dialog:\n",
      "A: Excuse me, but could you tell me the way to the railway station?\n",
      "B: The railway station? Just go down this street and turn left at the second corner.The station is at the end of that street.\n",
      "A: How long will it take me to get there?\n",
      "B: It's about a ten-minute walk.<|eot_id|><|start_header_id|>assistant<|end_header_id|>\n",
      "\n",
      "\n",
      "{'A1': \"I'm not in a hurry, so I'll just take my time and enjoy the stroll.\", 'A2': \"I'd rather take a taxi, it's too far for me to walk with my luggage.\", 'B1': \"I think I'll be able to make it in time for my train if I hurry.\", 'B2': 'I think I can make it in time for my train if I hurry.'}\n",
      "['Where is it manufactured?', \"Anywhere a Coca Cola Company is! Which is all over the world. It's its own class of soft drink except for Australia and New Zealand where it is just called a kind of lemomnade.\", 'Does it go by other names in other countries?', 'I don\\'t think so. But in advertising it used a word \"lymon\", combination of words lemon and lime which is interesting.']\n",
      "<|begin_of_text|><|start_header_id|>system<|end_header_id|>\n",
      "\n",
      "Only output A's response.<|eot_id|><|start_header_id|>user<|end_header_id|>\n",
      "\n",
      "Given the dialog, write a possible next turn of A.\n",
      "Dialog:\n",
      "A: Where is it manufactured?\n",
      "B: Anywhere a Coca Cola Company is! Which is all over the world. It's its own class of soft drink except for Australia and New Zealand where it is just called a kind of lemomnade.\n",
      "A: Does it go by other names in other countries?\n",
      "B: I don't think so. But in advertising it used a word \"lymon\", combination of words lemon and lime which is interesting.<|eot_id|><|start_header_id|>assistant<|end_header_id|>\n",
      "\n",
      "\n",
      "{'A1': \"I'm not familiar with that product, can you tell me more about it?\", 'A2': \"I've traveled to many countries, but I've never seen a country that has a different name for this particular drink.\", 'B1': 'I\\'ve heard that in some countries, like Mexico, it\\'s also known as \"Limonada\" or \"Limon\".', 'B2': \"I've always been fascinated by the different ways that languages can shape our perceptions of the world.\"}\n",
      "['We have a couple that we know that just adopted a child.', 'Yeah? That must be nice! Are they excited about it?', \"I think they are just relieved at this point - it's such an undertaking to permanently transfer all the rights and responsibilities from the biological parents to the adoptive parents.\", \"Yes I can't imagine. It must be hard for the kids real parents. \"]\n",
      "<|begin_of_text|><|start_header_id|>system<|end_header_id|>\n",
      "\n",
      "Only output A's response.<|eot_id|><|start_header_id|>user<|end_header_id|>\n",
      "\n",
      "Given the dialog, write a possible next turn of A.\n",
      "Dialog:\n",
      "A: We have a couple that we know that just adopted a child.\n",
      "B: Yeah? That must be nice! Are they excited about it?\n",
      "A: I think they are just relieved at this point - it's such an undertaking to permanently transfer all the rights and responsibilities from the biological parents to the adoptive parents.\n",
      "B: Yes I can't imagine. It must be hard for the kids real parents.<|eot_id|><|start_header_id|>assistant<|end_header_id|>\n",
      "\n",
      "\n",
      "{'A1': \"I'm not sure about the birth parents, but I do know that the adoptive parents are really happy to have a new addition to their family.\", 'A2': \"I'm sure it is.\", 'B1': \"I think the laws in our country are quite strict when it comes to the rights of the birth parents, but I'm not sure if that's necessarily a good thing.\", 'B2': \"I think it's not just the biological parents who have to deal with the emotional impact of adoption, but also the child themselves.\"}\n",
      "['You know John? ', \"Which John? Mr. Turnbow's son? \", \"Yes. I've read news about him in today's paper. \", \"And he's bright and intelligent. I'm sure he can pass the university entrance exam. \"]\n",
      "<|begin_of_text|><|start_header_id|>system<|end_header_id|>\n",
      "\n",
      "Only output A's response.<|eot_id|><|start_header_id|>user<|end_header_id|>\n",
      "\n",
      "Given the dialog, write a possible next turn of A.\n",
      "Dialog:\n",
      "A: You know John? \n",
      "B: Which John? Mr. Turnbow's son? \n",
      "A: Yes. I've read news about him in today's paper. \n",
      "B: And he's bright and intelligent. I'm sure he can pass the university entrance exam.<|eot_id|><|start_header_id|>assistant<|end_header_id|>\n",
      "\n",
      "\n",
      "{'A1': \"I'm not too sure about that. I think he's more interested in sports than books.\", 'A2': 'I met his father at a conference last year.', 'B1': \"I think it's unlikely that he'll get into any of the top universities, though.\", 'B2': \"I think it's quite impressive that he's been accepted into the program without any prior experience.\"}\n",
      "['Ooh red velvet is good. I love the strawberry flavored one from Sprinkles Cupcakes, one of the first bakeries for cupcakes.', \"Omg, that sounds soooo yummy. I've never had CupCakes from Sprinkles before, they must be delicious. What kind of icing do you like on your cupcake?\", 'I prefer a buttercream icing topped with decorations like candy or fresh fruits like berries. How about you?', 'I also love buttercream icing! My favorite is buttercream icing on top of a red velvet cupcake with sprinkles on top. YUMMY! I am salivating just thinking about it LOL. I love that cupcakes can be cut into little shapes, whats your favorite shape for a cupcake?']\n",
      "<|begin_of_text|><|start_header_id|>system<|end_header_id|>\n",
      "\n",
      "Only output A's response.<|eot_id|><|start_header_id|>user<|end_header_id|>\n",
      "\n",
      "Given the dialog, write a possible next turn of A.\n",
      "Dialog:\n",
      "A: Ooh red velvet is good. I love the strawberry flavored one from Sprinkles Cupcakes, one of the first bakeries for cupcakes.\n",
      "B: Omg, that sounds soooo yummy. I've never had CupCakes from Sprinkles before, they must be delicious. What kind of icing do you like on your cupcake?\n",
      "A: I prefer a buttercream icing topped with decorations like candy or fresh fruits like berries. How about you?\n",
      "B: I also love buttercream icing! My favorite is buttercream icing on top of a red velvet cupcake with sprinkles on top. YUMMY! I am salivating just thinking about it LOL. I love that cupcakes can be cut into little shapes, whats your favorite shape for a cupcake?<|eot_id|><|start_header_id|>assistant<|end_header_id|>\n",
      "\n",
      "\n",
      "{'A1': \"I'm a big fan of the classic round shape, but I also like the heart-shaped ones, especially around Valentine's Day.\", 'A2': 'I prefer classic, simple designs, but I also love the creative ones, like animal shapes or even a cute little hat.', 'B1': \"I'm surprised by how many different flavors and combinations there are out there. Sometimes I'll get a simple vanilla or chocolate, but other times I'll try something new like carrot cake or s'mores.\", 'B2': \"I think my favorite shape would be a heart-shaped one, it's perfect for any occasion and it's just so adorable!\"}\n",
      "[\"He's late again. Traffic is probably holding him up. You know, he commutes from the suburbs. It's not easy commuting every day. We should cut him some slack.\", \"Even though the traffic is bumper-to-bumper out there, I don't think it's heavy traffic that makes Bill late. He takes the train, remember?\", \"Oh, that's right. Well, the train shouldn't be late. That means there is only one explanation. . . Bill must have overslept.\", \"Well, to be fare, since he's coming all the way from Lancaster, he's got to get up much earlier than the rest of us. He must get start on his commute about six thirty, no telling what time he actually gets up.\"]\n",
      "<|begin_of_text|><|start_header_id|>system<|end_header_id|>\n",
      "\n",
      "Only output A's response.<|eot_id|><|start_header_id|>user<|end_header_id|>\n",
      "\n",
      "Given the dialog, write a possible next turn of A.\n",
      "Dialog:\n",
      "A: He's late again. Traffic is probably holding him up. You know, he commutes from the suburbs. It's not easy commuting every day. We should cut him some slack.\n",
      "B: Even though the traffic is bumper-to-bumper out there, I don't think it's heavy traffic that makes Bill late. He takes the train, remember?\n",
      "A: Oh, that's right. Well, the train shouldn't be late. That means there is only one explanation. . . Bill must have overslept.\n",
      "B: Well, to be fare, since he's coming all the way from Lancaster, he's got to get up much earlier than the rest of us. He must get start on his commute about six thirty, no telling what time he actually gets up.<|eot_id|><|start_header_id|>assistant<|end_header_id|>\n",
      "\n",
      "\n",
      "{'A1': \"I'm not so sure about that. Maybe we should give him a call and ask him what's going on.\", 'A2': 'I was thinking maybe we could talk to him about this when he arrives.', 'B1': \"I think we're being too hard on him. Maybe he had an unusual night and just needed a little extra sleep.\", 'B2': \"I think we're being too hard on him. He's been under a lot of stress lately with work and personal issues, so maybe we should give him a break.\"}\n",
      "['Yes, if only we could keep them that size and personality all of their lives', \"They have munchkin cats that stay pretty small. Either way, my kitten was extremely social for 2 weeks before she didn't need me to always hug her. She loves exploring.\", 'I do not have any kittens anymore, my kittens are almost 15yrs old now', 'Wow! My oldest cat is 19 years old. We usually take in stray pregnant moms until they have their litter (usually 2-5 kittens) and then find homes for them.']\n",
      "<|begin_of_text|><|start_header_id|>system<|end_header_id|>\n",
      "\n",
      "Only output A's response.<|eot_id|><|start_header_id|>user<|end_header_id|>\n",
      "\n",
      "Given the dialog, write a possible next turn of A.\n",
      "Dialog:\n",
      "A: Yes, if only we could keep them that size and personality all of their lives\n",
      "B: They have munchkin cats that stay pretty small. Either way, my kitten was extremely social for 2 weeks before she didn't need me to always hug her. She loves exploring.\n",
      "A: I do not have any kittens anymore, my kittens are almost 15yrs old now\n",
      "B: Wow! My oldest cat is 19 years old. We usually take in stray pregnant moms until they have their litter (usually 2-5 kittens) and then find homes for them.<|eot_id|><|start_header_id|>assistant<|end_header_id|>\n",
      "\n",
      "\n",
      "{'A1': \"I'm really into playing the piano and my older cats love listening to me play.\", 'A2': \"I'm a bit jealous, I've never seen a cat as affectionate as your kitten.\", 'B1': \"I'm amazed at how different the personalities are between generations.\", 'B2': \"I've been thinking about getting another one, but I'm not sure if I'm ready for the commitment.\"}\n",
      "['Oh I did hear about that, I hear about how obnoxious the fans are on reddit sometimes I think. I should take a look into the show though', 'Hah, yes, Reddit, definitely where a lot of the negativity spawns from--and for good reason, as the fandom gets a little wild at times. What I like is how talented the creators/voice actors are. Justin Roiland helped create the show, and also voices the main characters. Kind of a jack of all trades.', 'that is interesting that he does all that, must be a lot of work, but also humbling. What is the easiest way to watch the show?', 'You can watch it on Adult Swim\\'s website, as it airs on the Cartoon Network. Ever seen \"Back to the Future,\" and kind of liked it? It\\'s more of an animated comedy version of that, slightly. In fact, the whole series spawned from a short parody film of \"Back to the Future\" made by Roiland, and shown at a film festival put on by Harmon.']\n",
      "<|begin_of_text|><|start_header_id|>system<|end_header_id|>\n",
      "\n",
      "Only output A's response.<|eot_id|><|start_header_id|>user<|end_header_id|>\n",
      "\n",
      "Given the dialog, write a possible next turn of A.\n",
      "Dialog:\n",
      "A: Oh I did hear about that, I hear about how obnoxious the fans are on reddit sometimes I think. I should take a look into the show though\n",
      "B: Hah, yes, Reddit, definitely where a lot of the negativity spawns from--and for good reason, as the fandom gets a little wild at times. What I like is how talented the creators/voice actors are. Justin Roiland helped create the show, and also voices the main characters. Kind of a jack of all trades.\n",
      "A: that is interesting that he does all that, must be a lot of work, but also humbling. What is the easiest way to watch the show?\n",
      "B: You can watch it on Adult Swim's website, as it airs on the Cartoon Network. Ever seen \"Back to the Future,\" and kind of liked it? It's more of an animated comedy version of that, slightly. In fact, the whole series spawned from a short parody film of \"Back to the Future\" made by Roiland, and shown at a film festival put on by Harmon.<|eot_id|><|start_header_id|>assistant<|end_header_id|>\n",
      "\n",
      "\n",
      "{'A1': \"I'll check out the website, thanks for the tip!\", 'A2': \"I was born in 1984, so I'm pretty young!\", 'B1': \"I'll just watch it on the website, thanks for the tip!\", 'B2': \"I think I'll start with the first episode, which is available on the website.\"}\n",
      "[\"It's a little loud for my taste. Maybe it's something for the younger crowd to wear a zebra print dress!\", \"Well, that's true... and since is all fake fur instead of actual the actual zebra's skin, I think the younger generation might go for it!\", \"What are your opinions on actual fur? I think real fur goes a little too far but I'm not against wearing genuine leather.\", 'Oh, I\\'m totally against actual fur... unless it\\'s like mink - cause those rodents can all die!  HA! But \"real\" animals?  No way.  And funny about leather.  I feel the same. ']\n",
      "<|begin_of_text|><|start_header_id|>system<|end_header_id|>\n",
      "\n",
      "Only output A's response.<|eot_id|><|start_header_id|>user<|end_header_id|>\n",
      "\n",
      "Given the dialog, write a possible next turn of A.\n",
      "Dialog:\n",
      "A: It's a little loud for my taste. Maybe it's something for the younger crowd to wear a zebra print dress!\n",
      "B: Well, that's true... and since is all fake fur instead of actual the actual zebra's skin, I think the younger generation might go for it!\n",
      "A: What are your opinions on actual fur? I think real fur goes a little too far but I'm not against wearing genuine leather.\n",
      "B: Oh, I'm totally against actual fur... unless it's like mink - cause those rodents can all die!  HA! But \"real\" animals?  No way.  And funny about leather.  I feel the same.<|eot_id|><|start_header_id|>assistant<|end_header_id|>\n",
      "\n",
      "\n",
      "{'A1': \"I'm really into the vintage shops in the city, they have some great pieces made from recycled materials or second-hand clothing.\", 'A2': \"I'm a bit torn about it. On one hand, I understand the appeal of wearing natural materials, but on the other hand, I don't want to support industries that harm animals.\", 'B1': 'I think there are some really beautiful and stylish pieces made from recycled or repurposed materials these days.', 'B2': \"I think it's a bit extreme to say you're never going to consider anything with animal products, but I do understand where you're coming from.\"}\n",
      "['Are you a fan of Michael Caine?', 'I am, I heard he only became an actor because all the prettiest girls at his high school were in drama class.', \"Ha ha, yes he did. I'm not surprised. I really like Jon Hamm and his work. Are you a fan as well?\", 'I am, did you know that he taught drama at his old high school?']\n",
      "<|begin_of_text|><|start_header_id|>system<|end_header_id|>\n",
      "\n",
      "Only output A's response.<|eot_id|><|start_header_id|>user<|end_header_id|>\n",
      "\n",
      "Given the dialog, write a possible next turn of A.\n",
      "Dialog:\n",
      "A: Are you a fan of Michael Caine?\n",
      "B: I am, I heard he only became an actor because all the prettiest girls at his high school were in drama class.\n",
      "A: Ha ha, yes he did. I'm not surprised. I really like Jon Hamm and his work. Are you a fan as well?\n",
      "B: I am, did you know that he taught drama at his old high school?<|eot_id|><|start_header_id|>assistant<|end_header_id|>\n",
      "\n",
      "\n",
      "{'A1': \"I love that dark pastel pink sweater of his, it's so 60s!\", 'A2': \"I've been to the museum in New York City where they have a exhibit on the history of the Brooklyn Dodgers, which is one of my favorite baseball teams.\", 'B1': \"I think it's interesting that both actors have such different backgrounds, but they've both had successful careers.\", 'B2': \"I think it's interesting how both Michael Caine and Jon Hamm have had such successful careers despite their humble beginnings.\"}\n",
      "['Yes, officer, I called. Somebody broke into my house through a downstairs window and stole many things.', 'Exactly what was stolen, Madam?', 'About $1000 in cash, a personal computer and some jewelry.', 'We need you to fill out this form and fully describe the stolen items. Meanwhile, my partner and I would like to look at the window and the area outside.']\n",
      "<|begin_of_text|><|start_header_id|>system<|end_header_id|>\n",
      "\n",
      "Only output A's response.<|eot_id|><|start_header_id|>user<|end_header_id|>\n",
      "\n",
      "Given the dialog, write a possible next turn of A.\n",
      "Dialog:\n",
      "A: Yes, officer, I called. Somebody broke into my house through a downstairs window and stole many things.\n",
      "B: Exactly what was stolen, Madam?\n",
      "A: About $1000 in cash, a personal computer and some jewelry.\n",
      "B: We need you to fill out this form and fully describe the stolen items. Meanwhile, my partner and I would like to look at the window and the area outside.<|eot_id|><|start_header_id|>assistant<|end_header_id|>\n",
      "\n",
      "\n",
      "{'A1': \"I'll be happy to help you with that.\", 'A2': \"Here is a possible next turn for A:\\n\\nA: Of course, I'll get the form. But can I ask, do you think it's possible that the thief might still be around?\", 'B1': '\"I\\'ll get started on the form right away, but before you do that, can I ask if you\\'ve had any other reports of similar break-ins in the neighborhood recently?\"', 'B2': '\"Of course, officer. I\\'ll get right on that. And please, be careful when you\\'re looking around - I\\'m still shaken up about the whole thing.\"'}\n",
      "[\"There isn't really any humor. It's mostly action scenes. The climax is a huge fight scene between Batman and Superman.\", 'Who wins? ;-)', \"It's frustrating and unpleasant to watch two good guys fight each other.\", 'Well it seemed like Batman was winning. He almost killed Superman.']\n",
      "<|begin_of_text|><|start_header_id|>system<|end_header_id|>\n",
      "\n",
      "Only output A's response.<|eot_id|><|start_header_id|>user<|end_header_id|>\n",
      "\n",
      "Given the dialog, write a possible next turn of A.\n",
      "Dialog:\n",
      "A: There isn't really any humor. It's mostly action scenes. The climax is a huge fight scene between Batman and Superman.\n",
      "B: Who wins? ;-)\n",
      "A: It's frustrating and unpleasant to watch two good guys fight each other.\n",
      "B: Well it seemed like Batman was winning. He almost killed Superman.<|eot_id|><|start_header_id|>assistant<|end_header_id|>\n",
      "\n",
      "\n",
      "{'A1': \"I know, right? I hate that they didn't have them team up or something.\", 'A2': 'I was really disappointed with the movie. I think it was a waste of time and money.', 'B1': \"I think that's unrealistic. I don't believe Batman could ever actually kill Superman.\", 'B2': \"I think that's what makes it so awkward. It's not just that they're fighting each other, but that it's a brutal and violent fight.\"}\n",
      "['You are an outgoing person, quite easy to talk with.', 'Yes, my friends like to get along with me well.', 'Do you have many friends?', 'Yes, I like to make new friends.']\n",
      "<|begin_of_text|><|start_header_id|>system<|end_header_id|>\n",
      "\n",
      "Only output A's response.<|eot_id|><|start_header_id|>user<|end_header_id|>\n",
      "\n",
      "Given the dialog, write a possible next turn of A.\n",
      "Dialog:\n",
      "A: You are an outgoing person, quite easy to talk with.\n",
      "B: Yes, my friends like to get along with me well.\n",
      "A: Do you have many friends?\n",
      "B: Yes, I like to make new friends.<|eot_id|><|start_header_id|>assistant<|end_header_id|>\n",
      "\n",
      "\n",
      "{'A1': \"I'm sure you're very good at it!\", 'A2': \"I'm sure it's great to have a lot of friends!\", 'B1': \"I'm sure that's true!\", 'B2': \"I'm sure that's because of your friendly and approachable nature!\"}\n",
      "[\"That's a thought.  I'm a decent writer, and have a pretty good imagination.  What's your favorite genre of writing?  It could give me a kick to get started :)\", 'Ever read The Dresden Files? Fantasy/mystery series, great world-building. I enjoy writing most when I get to world build like that!', \"I haven't, but I keep being told I should read them.  They do sound like they'd be something I'd enjoy.  Do you think that genre is oversaturated at this point?\", \"I mean, the guy's written 15 of them at this point, and short stories, so there's clearly a market for it if you're good.\"]\n",
      "<|begin_of_text|><|start_header_id|>system<|end_header_id|>\n",
      "\n",
      "Only output A's response.<|eot_id|><|start_header_id|>user<|end_header_id|>\n",
      "\n",
      "Given the dialog, write a possible next turn of A.\n",
      "Dialog:\n",
      "A: That's a thought.  I'm a decent writer, and have a pretty good imagination.  What's your favorite genre of writing?  It could give me a kick to get started :)\n",
      "B: Ever read The Dresden Files? Fantasy/mystery series, great world-building. I enjoy writing most when I get to world build like that!\n",
      "A: I haven't, but I keep being told I should read them.  They do sound like they'd be something I'd enjoy.  Do you think that genre is oversaturated at this point?\n",
      "B: I mean, the guy's written 15 of them at this point, and short stories, so there's clearly a market for it if you're good.<|eot_id|><|start_header_id|>assistant<|end_header_id|>\n",
      "\n",
      "\n",
      "{'A1': \"I can recommend the Dresden Files, it's a great series!\", 'A2': \"I've been toying with the idea of starting a fantasy series myself, but I've been hesitant because I don't want to get lost in the sea of existing works. But maybe it's time to take the plunge!\", 'B1': 'I think the popularity of the series is a testament to its quality, not just quantity. If people are still devouring them after all these years, there must be something special about them.', 'B2': \"I've always been drawn to the idea of creating my own unique world with its own rules and mythology. Maybe I'll take some of your advice and start by building a world that's completely different from anything else out there.\"}\n",
      "[\"I'm Smith, the manager of Human Resources Department. May I ask your name?\", 'My name is Zhang Due.', 'Would you tell me what education background you have?', 'I graduated from Beijing College of Foreign Trade. My major was International Trade.']\n",
      "<|begin_of_text|><|start_header_id|>system<|end_header_id|>\n",
      "\n",
      "Only output A's response.<|eot_id|><|start_header_id|>user<|end_header_id|>\n",
      "\n",
      "Given the dialog, write a possible next turn of A.\n",
      "Dialog:\n",
      "A: I'm Smith, the manager of Human Resources Department. May I ask your name?\n",
      "B: My name is Zhang Due.\n",
      "A: Would you tell me what education background you have?\n",
      "B: I graduated from Beijing College of Foreign Trade. My major was International Trade.<|eot_id|><|start_header_id|>assistant<|end_header_id|>\n",
      "\n",
      "\n",
      "{'A1': \"I'm glad to hear that. Can you walk me through your work experience?\", 'A2': \"I'd like to see your resume and cover letter, Mr. Zhang.\", 'B1': \"I'd like to review your resume and discuss your career goals.\", 'B2': \"I'd like to request a copy of your resume and any relevant certificates or references that you may have.\"}\n",
      "[\"Yes, but it's not as easy as you imagine. There are a lot of problems. The main difficulty is money and our education doesn't provide enough knowledge on how to do it.\", 'Maybe you are right. But our government allows college graduates to borrow money from banks and maybe some can get money from their parents.', 'But you have to pay back the money sooner or later. So most college graduates prefer to apply for a job rather than start their own business.', 'But I have made up my mind to start my own business. How about you?']\n",
      "<|begin_of_text|><|start_header_id|>system<|end_header_id|>\n",
      "\n",
      "Only output A's response.<|eot_id|><|start_header_id|>user<|end_header_id|>\n",
      "\n",
      "Given the dialog, write a possible next turn of A.\n",
      "Dialog:\n",
      "A: Yes, but it's not as easy as you imagine. There are a lot of problems. The main difficulty is money and our education doesn't provide enough knowledge on how to do it.\n",
      "B: Maybe you are right. But our government allows college graduates to borrow money from banks and maybe some can get money from their parents.\n",
      "A: But you have to pay back the money sooner or later. So most college graduates prefer to apply for a job rather than start their own business.\n",
      "B: But I have made up my mind to start my own business. How about you?<|eot_id|><|start_header_id|>assistant<|end_header_id|>\n",
      "\n",
      "\n",
      "{'A1': \"I'm really into my piano.\", 'A2': \"I've been thinking about it a lot lately, and I'm still unsure. I'd love to start something, but I'm worried about the risks involved.\", 'B1': \"I've been thinking about it a lot, and I think I'll take the plunge too.\", 'B2': \"I've been thinking about it a lot lately, and I think I might be willing to take the risk.\"}\n",
      "['I love all types of pies, apple pie is my favorite', \"I love a nice peach filled pie! But really, I haven't had a pie I didn't like!\", 'I have never had peach pie i will defenetly have to give it a try, what can you tell me about there history of pies', 'Pies have been around a long time! They were particularly useful on long journeys at sea. They were easy to store and easy to carry!']\n",
      "<|begin_of_text|><|start_header_id|>system<|end_header_id|>\n",
      "\n",
      "Only output A's response.<|eot_id|><|start_header_id|>user<|end_header_id|>\n",
      "\n",
      "Given the dialog, write a possible next turn of A.\n",
      "Dialog:\n",
      "A: I love all types of pies, apple pie is my favorite\n",
      "B: I love a nice peach filled pie! But really, I haven't had a pie I didn't like!\n",
      "A: I have never had peach pie i will defenetly have to give it a try, what can you tell me about there history of pies\n",
      "B: Pies have been around a long time! They were particularly useful on long journeys at sea. They were easy to store and easy to carry!<|eot_id|><|start_header_id|>assistant<|end_header_id|>\n",
      "\n",
      "\n",
      "{'A1': \"I'm glad you're interested in learning more about the history of pies!\", 'A2': \"I've traveled to many countries and tried different types of pies, but I've never seen a pie that was too sweet or too bland.\", 'B1': \"I think it's fascinating that they've been a part of our culture for so long.\", 'B2': \"I've always wondered how people used to make them without modern technology, like electric mixers and ovens.\"}\n",
      "[\"Who's that boy?\", 'Where?', 'The one next to the telephone.', \"I don't know. Never saw him before. Why?\"]\n",
      "<|begin_of_text|><|start_header_id|>system<|end_header_id|>\n",
      "\n",
      "Only output A's response.<|eot_id|><|start_header_id|>user<|end_header_id|>\n",
      "\n",
      "Given the dialog, write a possible next turn of A.\n",
      "Dialog:\n",
      "A: Who's that boy?\n",
      "B: Where?\n",
      "A: The one next to the telephone.\n",
      "B: I don't know. Never saw him before. Why?<|eot_id|><|start_header_id|>assistant<|end_header_id|>\n",
      "\n",
      "\n",
      "{'A1': \"I'm not really interested in the new kid at school.\", 'A2': \"I've never seen him around here before either.\", 'B1': 'I think he might be a new kid in town.', 'B2': \"I've never seen him around here before.\"}\n",
      "[\"Wow, really. I figured some dummy from Hollywood came up with it. Do you know the starfish's name on the show? It's my favorite charter. \", \"I know, it really doesn't seem like a brainiac made it.  Hahaha.  The starfish is Patrick Star.  He is so funny.\", \"Yea that's him. It seems like this show has been for ever. \", 'It has been around forever, but I suppose Nickelodeon would be reluctant to get rid of a show that has made them $13 Billion dollars in merchandising revenue!!!!! ']\n",
      "<|begin_of_text|><|start_header_id|>system<|end_header_id|>\n",
      "\n",
      "Only output A's response.<|eot_id|><|start_header_id|>user<|end_header_id|>\n",
      "\n",
      "Given the dialog, write a possible next turn of A.\n",
      "Dialog:\n",
      "A: Wow, really. I figured some dummy from Hollywood came up with it. Do you know the starfish's name on the show? It's my favorite charter. \n",
      "B: I know, it really doesn't seem like a brainiac made it.  Hahaha.  The starfish is Patrick Star.  He is so funny.\n",
      "A: Yea that's him. It seems like this show has been for ever. \n",
      "B: It has been around forever, but I suppose Nickelodeon would be reluctant to get rid of a show that has made them $13 Billion dollars in merchandising revenue!!!!!<|eot_id|><|start_header_id|>assistant<|end_header_id|>\n",
      "\n",
      "\n",
      "{'A1': \"I'm not a big fan of the merchandise, but I do love the show itself. I think it's because the characters are all so well-written and relatable.\", 'A2': \"I'm not sure why they still keep going, but I guess it's because it's a classic.\", 'B1': \"I think it's crazy how popular it still is, especially among older people.\", 'B2': \"I've always loved how absurd and over-the-top the characters are, especially Mr. Krabs' obsession with money.\"}\n",
      "['My favorite is ham with waffles.', 'Yummy.  What drinks are normally served best with brunch?', 'Alcoholic beverages like champagne or cocktails are best served with brunch.', \"I also heard of something called an eggs benedict.  Can you tell me more about what that is and how it's made?\"]\n",
      "<|begin_of_text|><|start_header_id|>system<|end_header_id|>\n",
      "\n",
      "Only output A's response.<|eot_id|><|start_header_id|>user<|end_header_id|>\n",
      "\n",
      "Given the dialog, write a possible next turn of A.\n",
      "Dialog:\n",
      "A: My favorite is ham with waffles.\n",
      "B: Yummy.  What drinks are normally served best with brunch?\n",
      "A: Alcoholic beverages like champagne or cocktails are best served with brunch.\n",
      "B: I also heard of something called an eggs benedict.  Can you tell me more about what that is and how it's made?<|eot_id|><|start_header_id|>assistant<|end_header_id|>\n",
      "\n",
      "\n",
      "{'A1': \"The classic eggs benedict! It's a delicious dish that consists of poached eggs on top of toasted English muffins, topped with ham or Canadian bacon, and covered in hollandaise sauce.\", 'A2': 'The classic eggs benedict consists of poached eggs on top of toasted English muffins, topped with Canadian bacon and hollandaise sauce.', 'B1': 'The traditional way to make an eggs benedict is to poach an egg and place it on top of toasted English muffins, which are topped with ham or Canadian bacon, and then cover it with hollandaise sauce.', 'B2': 'The classic combination of ham, Canadian bacon, and poached eggs on top of toasted English muffins, all held together with a rich Hollandaise sauce.'}\n",
      "['Well, Jim. It is a combination of how much you eat, the type of food you eat, and when you eat your meals.', 'I never eat breakfast though.', \"That's a big mistake, you should always have a good breakfast. You will not run your car without fuel, and yet you expect your body to work without food.\", 'I never thought about it that way.']\n",
      "<|begin_of_text|><|start_header_id|>system<|end_header_id|>\n",
      "\n",
      "Only output A's response.<|eot_id|><|start_header_id|>user<|end_header_id|>\n",
      "\n",
      "Given the dialog, write a possible next turn of A.\n",
      "Dialog:\n",
      "A: Well, Jim. It is a combination of how much you eat, the type of food you eat, and when you eat your meals.\n",
      "B: I never eat breakfast though.\n",
      "A: That's a big mistake, you should always have a good breakfast. You will not run your car without fuel, and yet you expect your body to work without food.\n",
      "B: I never thought about it that way.<|eot_id|><|start_header_id|>assistant<|end_header_id|>\n",
      "\n",
      "\n",
      "{'A1': \"It's a great start!\", 'A2': \"It's true, Jim. And it's not just about eating something, but also about eating the right things.\", 'B1': \"It's true, and it's not just about the quantity of food, but also the quality. You need to make sure you're getting a balanced diet with all the essential nutrients.\", 'B2': \"It's crucial to understand what kind of foods are best for you and your lifestyle.\"}\n",
      "['Yea the liquid they spray is to ward off animals and smells bad', 'I forget what people do to get the smell out when they get skunked.', 'When you get hit by the smelly liquid they spray you want tomato juice', 'I wonder how that works.']\n",
      "<|begin_of_text|><|start_header_id|>system<|end_header_id|>\n",
      "\n",
      "Only output A's response.<|eot_id|><|start_header_id|>user<|end_header_id|>\n",
      "\n",
      "Given the dialog, write a possible next turn of A.\n",
      "Dialog:\n",
      "A: Yea the liquid they spray is to ward off animals and smells bad\n",
      "B: I forget what people do to get the smell out when they get skunked.\n",
      "A: When you get hit by the smelly liquid they spray you want tomato juice\n",
      "B: I wonder how that works.<|eot_id|><|start_header_id|>assistant<|end_header_id|>\n",
      "\n",
      "\n",
      "{'A1': \"I'm not really sure, but I think it's because the acidity in the tomatoes helps break down the oily molecules in the skunk spray, making it easier to wash away.\", 'A2': \"I've been in the woods before and had a run-in with a skunk.\", 'B1': \"I think it's because the acidity in the tomatoes helps break down the oily molecules in the skunk scent, making it less potent.\", 'B2': \"I've heard it helps to neutralize the odor, but I'm not sure exactly why.\"}\n",
      "[\"Yeah, definitely in warmer climate short hair is king, but its interesting how men have long beards in warm climates. Doesn't make sense.\", 'Also how hair differs with the various altitudes', 'Yes, these people tend to have thinner hair and thicker hair in cold climates.', \"Interesting.  I'm just happy to have hair. lol.  I'm wondering how the restrictions of hair length differ per culture\"]\n",
      "<|begin_of_text|><|start_header_id|>system<|end_header_id|>\n",
      "\n",
      "Only output A's response.<|eot_id|><|start_header_id|>user<|end_header_id|>\n",
      "\n",
      "Given the dialog, write a possible next turn of A.\n",
      "Dialog:\n",
      "A: Yeah, definitely in warmer climate short hair is king, but its interesting how men have long beards in warm climates. Doesn't make sense.\n",
      "B: Also how hair differs with the various altitudes\n",
      "A: Yes, these people tend to have thinner hair and thicker hair in cold climates.\n",
      "B: Interesting.  I'm just happy to have hair. lol.  I'm wondering how the restrictions of hair length differ per culture<|eot_id|><|start_header_id|>assistant<|end_header_id|>\n",
      "\n",
      "\n",
      "{'A1': 'I never really thought about it, but I guess it would be interesting to see how different cultures view hair length as a sign of beauty or masculinity/femininity.', 'A2': \"I've been to some countries where there are very specific rules about how much hair you can have on your head or face.\", 'B1': \"I think it's because of the social and cultural norms that vary from place to place.\", 'B2': \"I think it's fascinating how cultural norms and traditions can influence our physical appearance.\"}\n",
      "['This one looks great! I love the seashore.', 'So do I. The sun... the sand... the ocean!', 'And listen to this! What do you think of sailing, swimming, windsurfing, and fishing?', 'Oh, Tom! They sound fantastic. I really like all those things.']\n",
      "<|begin_of_text|><|start_header_id|>system<|end_header_id|>\n",
      "\n",
      "Only output A's response.<|eot_id|><|start_header_id|>user<|end_header_id|>\n",
      "\n",
      "Given the dialog, write a possible next turn of A.\n",
      "Dialog:\n",
      "A: This one looks great! I love the seashore.\n",
      "B: So do I. The sun... the sand... the ocean!\n",
      "A: And listen to this! What do you think of sailing, swimming, windsurfing, and fishing?\n",
      "B: Oh, Tom! They sound fantastic. I really like all those things.<|eot_id|><|start_header_id|>assistant<|end_header_id|>\n",
      "\n",
      "\n",
      "{'A1': 'I can recommend a good spot for each activity.', 'A2': \"I was born in California, near the coast, so I've always loved the beach.\", 'B1': \"I've always wanted to try my hand at surfing.\", 'B2': \"I've always wanted to try windsurfing.\"}\n",
      "['Would you like to have dinner with me tonight?', 'Oh, that sounds great!', \"I'll pick you up at... say, seven thirty?\", 'Yes, that would be perfect.']\n",
      "<|begin_of_text|><|start_header_id|>system<|end_header_id|>\n",
      "\n",
      "Only output A's response.<|eot_id|><|start_header_id|>user<|end_header_id|>\n",
      "\n",
      "Given the dialog, write a possible next turn of A.\n",
      "Dialog:\n",
      "A: Would you like to have dinner with me tonight?\n",
      "B: Oh, that sounds great!\n",
      "A: I'll pick you up at... say, seven thirty?\n",
      "B: Yes, that would be perfect.<|eot_id|><|start_header_id|>assistant<|end_header_id|>\n",
      "\n",
      "\n",
      "{'A1': 'How about we go to that new Italian place downtown?', 'A2': 'How about we go to that new Italian place on Main Street?', 'B1': 'How about we try out that new Italian place downtown?', 'B2': 'How about we try that new Italian place downtown?'}\n",
      "['well in the rgb color model which we used to create colors on tv, yellow is a secondary color which is made by combining red and green at equal intensity. when i say primary color in that sentence i meant it is the primary color in subtractive color and not to be confused with our three primary colors rgb!', 'That is so interesting but very technical!', 'yes, colors are more technical than we think about. but about yellow, carotenoids give the yellow like color to fall leaves, corn, canaries, egg yolks, and more!', \"So it's the way the light bounces off are eyes basically?\"]\n",
      "<|begin_of_text|><|start_header_id|>system<|end_header_id|>\n",
      "\n",
      "Only output A's response.<|eot_id|><|start_header_id|>user<|end_header_id|>\n",
      "\n",
      "Given the dialog, write a possible next turn of A.\n",
      "Dialog:\n",
      "A: well in the rgb color model which we used to create colors on tv, yellow is a secondary color which is made by combining red and green at equal intensity. when i say primary color in that sentence i meant it is the primary color in subtractive color and not to be confused with our three primary colors rgb!\n",
      "B: That is so interesting but very technical!\n",
      "A: yes, colors are more technical than we think about. but about yellow, carotenoids give the yellow like color to fall leaves, corn, canaries, egg yolks, and more!\n",
      "B: So it's the way the light bounces off are eyes basically?<|eot_id|><|start_header_id|>assistant<|end_header_id|>\n",
      "\n",
      "\n",
      "{'A1': \"I'm glad you're interested!\", 'A2': \"I was going to continue explaining how the structure of molecules, but I see you're already getting into the fascinating world of biology!\", 'B1': \"I'm surprised you mentioned that!\", 'B2': \"I see what you're saying, but I think you're still thinking about the additive color model (RGB) where red, green, and blue combine to make all the colors.\"}\n",
      "[\"Wow! Bali Islands have some of the best beaches in the world, don't they?\", \"Yes, we were lucky. My friend's father owns a resort on one of the islands, so we were able to stay for free.\", 'Did you go diving while you were there?', \"I took a few diving classes, but I didn't really like it, so I did snorkeling instead!\"]\n",
      "<|begin_of_text|><|start_header_id|>system<|end_header_id|>\n",
      "\n",
      "Only output A's response.<|eot_id|><|start_header_id|>user<|end_header_id|>\n",
      "\n",
      "Given the dialog, write a possible next turn of A.\n",
      "Dialog:\n",
      "A: Wow! Bali Islands have some of the best beaches in the world, don't they?\n",
      "B: Yes, we were lucky. My friend's father owns a resort on one of the islands, so we were able to stay for free.\n",
      "A: Did you go diving while you were there?\n",
      "B: I took a few diving classes, but I didn't really like it, so I did snorkeling instead!<|eot_id|><|start_header_id|>assistant<|end_header_id|>\n",
      "\n",
      "\n",
      "{'A1': \"I'm a big fan of snorkeling too!\", 'A2': 'I was thinking about trying my hand at surfing when I went to Bali last year.', 'B1': \"I've always wanted to try snorkeling in the Great Barrier Reef, but I've heard it's quite crowded and touristy.\", 'B2': \"I've always wanted to try snorkeling in Bali, what was your favorite spot?\"}\n",
      "['I want one pound of ground beef. ', \"That's going to be about $2. 48. \", 'That will be fine. ', 'What else can I get for you? ']\n",
      "<|begin_of_text|><|start_header_id|>system<|end_header_id|>\n",
      "\n",
      "Only output A's response.<|eot_id|><|start_header_id|>user<|end_header_id|>\n",
      "\n",
      "Given the dialog, write a possible next turn of A.\n",
      "Dialog:\n",
      "A: I want one pound of ground beef. \n",
      "B: That's going to be about $2. 48. \n",
      "A: That will be fine. \n",
      "B: What else can I get for you?<|eot_id|><|start_header_id|>assistant<|end_header_id|>\n",
      "\n",
      "\n",
      "{'A1': \"I'll buy some eggs, a loaf of bread, and a bottle of orange juice.\", 'A2': \"I'd like to add some vegetables to that.\", 'B1': \"I'd like to buy a loaf of whole wheat bread and a dozen eggs, please.\", 'B2': \"I'd like to buy a small container of ketchup as well.\"}\n",
      "['Mine too, and agreed. Did you know the trunk of your car is called so because old cars used to have wooden trunks on the back?', 'Interesting. Wonder if they got jacked at all? Speaking of carjacking, South Africa you can put flame throwers on your car to prevent carjacking.', 'I would totally do that!! In 2014 the estimated number of cars all over was more than 1.25 billion.', 'I like the brand Cadillac. It was named after the french explorer who founded Detroit.']\n",
      "<|begin_of_text|><|start_header_id|>system<|end_header_id|>\n",
      "\n",
      "Only output A's response.<|eot_id|><|start_header_id|>user<|end_header_id|>\n",
      "\n",
      "Given the dialog, write a possible next turn of A.\n",
      "Dialog:\n",
      "A: Mine too, and agreed. Did you know the trunk of your car is called so because old cars used to have wooden trunks on the back?\n",
      "B: Interesting. Wonder if they got jacked at all? Speaking of carjacking, South Africa you can put flame throwers on your car to prevent carjacking.\n",
      "A: I would totally do that!! In 2014 the estimated number of cars all over was more than 1.25 billion.\n",
      "B: I like the brand Cadillac. It was named after the french explorer who founded Detroit.<|eot_id|><|start_header_id|>assistant<|end_header_id|>\n",
      "\n",
      "\n",
      "{'A1': \"I'm not sure about the temperature, but I think it's cool how many people are interested in learning new things!\", 'A2': \"I've traveled to many countries, but I've never seen a country with such a high crime rate as South Africa.\", 'B1': \"I think it's crazy how many different types of cars there are now, but I'm amazed at how quickly technology has changed our lives.\", 'B2': 'I would totally do that!!'}\n",
      "['I wish you had been my history teacher! I might have got better marks! ', 'Some people say that history repeats itself. ', 'What does that mean? The same events never happen twice, do they? ', 'The idea is that the people and dates change, but the reason why things happen stay the same. ']\n",
      "<|begin_of_text|><|start_header_id|>system<|end_header_id|>\n",
      "\n",
      "Only output A's response.<|eot_id|><|start_header_id|>user<|end_header_id|>\n",
      "\n",
      "Given the dialog, write a possible next turn of A.\n",
      "Dialog:\n",
      "A: I wish you had been my history teacher! I might have got better marks! \n",
      "B: Some people say that history repeats itself. \n",
      "A: What does that mean? The same events never happen twice, do they? \n",
      "B: The idea is that the people and dates change, but the reason why things happen stay the same.<|eot_id|><|start_header_id|>assistant<|end_header_id|>\n",
      "\n",
      "\n",
      "{'A1': \"I like that dark view of the past. It makes me think about how we're doomed to repeat our mistakes over and over again.\", 'A2': \"I've seen this play out before in different ways.\", 'B1': \"I think it's a bit pessimistic to believe that we're doomed to repeat the same mistakes over and over again.\", 'B2': \"I think it's a bit like learning to ride a bike.\"}\n",
      "['Yeah good question.  I read that in Croatia, there is an ancient Roman Amphitheater still in use today for concerts', 'That would be a good place to record an album. Or maybe for Creed to rehearse.', 'lol exactly.  I saw something interesting.  The Ramones played a total of 2,263 concerts.  They toured almost non-stop for over 20 years', 'They must be bots or cyborgs. How could they do that? They must get special drugs or something.']\n",
      "<|begin_of_text|><|start_header_id|>system<|end_header_id|>\n",
      "\n",
      "Only output A's response.<|eot_id|><|start_header_id|>user<|end_header_id|>\n",
      "\n",
      "Given the dialog, write a possible next turn of A.\n",
      "Dialog:\n",
      "A: Yeah good question.  I read that in Croatia, there is an ancient Roman Amphitheater still in use today for concerts\n",
      "B: That would be a good place to record an album. Or maybe for Creed to rehearse.\n",
      "A: lol exactly.  I saw something interesting.  The Ramones played a total of 2,263 concerts.  They toured almost non-stop for over 20 years\n",
      "B: They must be bots or cyborgs. How could they do that? They must get special drugs or something.<|eot_id|><|start_header_id|>assistant<|end_header_id|>\n",
      "\n",
      "\n",
      "{'A1': \"I'm not sure about the special drugs, but I think it's more likely that they were just really passionate about their music and had a strong work ethic.\", 'A2': \"I'm not sure about that, but it's true that they were incredibly prolific and energetic.\", 'B1': \"I think it's just a testament to their music and popularity.\", 'B2': \"I think it's more about their passion and dedication to their music!\"}\n",
      "['I am afraid the label is not quite suitable for this locality. Could you quote us for the order with neutral cases?', 'I am afraid not. We usually design the label ourselves. You know we should be responsible for the brand labels of our goods.', \"In that case, we'd like you to make some changes in the labeling.\", 'What are they?']\n",
      "<|begin_of_text|><|start_header_id|>system<|end_header_id|>\n",
      "\n",
      "Only output A's response.<|eot_id|><|start_header_id|>user<|end_header_id|>\n",
      "\n",
      "Given the dialog, write a possible next turn of A.\n",
      "Dialog:\n",
      "A: I am afraid the label is not quite suitable for this locality. Could you quote us for the order with neutral cases?\n",
      "B: I am afraid not. We usually design the label ourselves. You know we should be responsible for the brand labels of our goods.\n",
      "A: In that case, we'd like you to make some changes in the labeling.\n",
      "B: What are they?<|eot_id|><|start_header_id|>assistant<|end_header_id|>\n",
      "\n",
      "\n",
      "{'A1': 'We would like to change the logo from a globe to a more modern design and also rephrase the tagline to make it more concise and clear.', 'A2': 'We would like to see the country and city names written in English on the packaging, as well as the ingredients list and instructions for use.', 'B1': \"We would like to change the color scheme and font style to better match our company's brand identity.\", 'B2': 'We would like to see the text in English and also have the product name translated into the local language, as well as the ingredients listed in both languages.'}\n",
      "['no but i know he began his first volume of the series of game of thrones in 1991', \"That's pretty amazing.  The sheer volume of characters in the books can be hard to keep track of. Do you know how many there are?\", 'well he is now published five out of a panned seven volumes', \"Wow, there's going to be 2 more and it's taken him 5 years each for the first books.  When was the last book published?\"]\n",
      "<|begin_of_text|><|start_header_id|>system<|end_header_id|>\n",
      "\n",
      "Only output A's response.<|eot_id|><|start_header_id|>user<|end_header_id|>\n",
      "\n",
      "Given the dialog, write a possible next turn of A.\n",
      "Dialog:\n",
      "A: no but i know he began his first volume of the series of game of thrones in 1991\n",
      "B: That's pretty amazing.  The sheer volume of characters in the books can be hard to keep track of. Do you know how many there are?\n",
      "A: well he is now published five out of a panned seven volumes\n",
      "B: Wow, there's going to be 2 more and it's taken him 5 years each for the first books.  When was the last book published?<|eot_id|><|start_header_id|>assistant<|end_header_id|>\n",
      "\n",
      "\n",
      "{'A1': \"I'm not sure, I think around 2000 or 2001.\", 'A2': 'I think the last one was in 2011', 'B1': 'I think the next five years will be quite challenging for George R. R. Martin, as he has already announced that the final two books will be even longer than the previous ones.', 'B2': 'The last one was published in 2011'}\n",
      "[\"I didn't realize he was that old! What are some of his biggest movies he's been in?\", \"Probably his best known role was his leading role in Magic Mike and it's sequel. He also starred in 21 Jump Street and it's sequel 22 Jump Street, however I can't say I have seen any of his films personally!\", \"I've seen 21 Jump Street but not the sequel, nor have I seen Magic Mike although I know my sister loved that one!\", \"Yeah, I've heard a lot of women do! Magic Mike was actually loosely based on Channing Tatum's experiences, as he was a stripper for a time when he was 18 years old in Tampa, Florida! \"]\n",
      "<|begin_of_text|><|start_header_id|>system<|end_header_id|>\n",
      "\n",
      "Only output A's response.<|eot_id|><|start_header_id|>user<|end_header_id|>\n",
      "\n",
      "Given the dialog, write a possible next turn of A.\n",
      "Dialog:\n",
      "A: I didn't realize he was that old! What are some of his biggest movies he's been in?\n",
      "B: Probably his best known role was his leading role in Magic Mike and it's sequel. He also starred in 21 Jump Street and it's sequel 22 Jump Street, however I can't say I have seen any of his films personally!\n",
      "A: I've seen 21 Jump Street but not the sequel, nor have I seen Magic Mike although I know my sister loved that one!\n",
      "B: Yeah, I've heard a lot of women do! Magic Mike was actually loosely based on Channing Tatum's experiences, as he was a stripper for a time when he was 18 years old in Tampa, Florida!<|eot_id|><|start_header_id|>assistant<|end_header_id|>\n",
      "\n",
      "\n",
      "{'A1': \"I'm really into playing the drums and I'm pretty good at it too.\", 'A2': 'I had no idea he was a real-life stripper!', 'B1': \"I think it's interesting how actors' lives can sometimes influence their roles, don't you?\", 'B2': \"I've always thought he did a great job in those movies, especially considering he was playing a character who was so different from himself.\"}\n",
      "['Hey!', 'Know of any good movies?', 'Definitely not Dunkirk.', 'You did not like it?']\n",
      "<|begin_of_text|><|start_header_id|>system<|end_header_id|>\n",
      "\n",
      "Only output A's response.<|eot_id|><|start_header_id|>user<|end_header_id|>\n",
      "\n",
      "Given the dialog, write a possible next turn of A.\n",
      "Dialog:\n",
      "A: Hey!\n",
      "B: Know of any good movies?\n",
      "A: Definitely not Dunkirk.\n",
      "B: You did not like it?<|eot_id|><|start_header_id|>assistant<|end_header_id|>\n",
      "\n",
      "\n",
      "{'A1': \"I'm really into playing the piano, but I don't know how to play the piano.\", 'A2': 'I was bored out of my mind.', 'B1': 'I thought it was overhyped and the plot was too confusing.', 'B2': 'I thought it was overhyped and the plot was all over the place.'}\n",
      "['How nice! Are you going to convert some RMB to US dollars?', \"Yes. But I will not take much cash with me I can ask the bank to give me the traveler's checks. So it will be safer.\", 'How can you cash them when you arrive in the United States?', 'I will go to the bank, give them my check, show them one piece of my identifications, and the most important thing is that I should sign my name to endorse the check.']\n",
      "<|begin_of_text|><|start_header_id|>system<|end_header_id|>\n",
      "\n",
      "Only output A's response.<|eot_id|><|start_header_id|>user<|end_header_id|>\n",
      "\n",
      "Given the dialog, write a possible next turn of A.\n",
      "Dialog:\n",
      "A: How nice! Are you going to convert some RMB to US dollars?\n",
      "B: Yes. But I will not take much cash with me I can ask the bank to give me the traveler's checks. So it will be safer.\n",
      "A: How can you cash them when you arrive in the United States?\n",
      "B: I will go to the bank, give them my check, show them one piece of my identifications, and the most important thing is that I should sign my name to endorse the check.<|eot_id|><|start_header_id|>assistant<|end_header_id|>\n",
      "\n",
      "\n",
      "{'A1': \"I'm not familiar with the process of using traveler's checks anymore. They're not as popular as they used to be.\", 'A2': \"I'm planning to do the same thing.\", 'B1': \"I think it's always better to have some local currency for small purchases or in case of an emergency.\", 'B2': \"I think it's still a bit tricky to find a suitable bank to cash the checks, especially if they're not from a well-known bank or financial institution.\"}\n",
      "['Yes, I live in a major US city, our mayor has a lot of authority and is a major figure in politics as well.', 'In any case, the position of governor has a interesting history, being very progressive in regards to gender with a female governor before some states even ratified the 19th amendment', 'My state has not had a female governor ever. I do not remember a female candidate even running recently.', 'It is a shame that there was only 1 governor to oppose the internment of japanese americans during wwii']\n",
      "<|begin_of_text|><|start_header_id|>system<|end_header_id|>\n",
      "\n",
      "Only output A's response.<|eot_id|><|start_header_id|>user<|end_header_id|>\n",
      "\n",
      "Given the dialog, write a possible next turn of A.\n",
      "Dialog:\n",
      "A: Yes, I live in a major US city, our mayor has a lot of authority and is a major figure in politics as well.\n",
      "B: In any case, the position of governor has a interesting history, being very progressive in regards to gender with a female governor before some states even ratified the 19th amendment\n",
      "A: My state has not had a female governor ever. I do not remember a female candidate even running recently.\n",
      "B: It is a shame that there was only 1 governor to oppose the internment of japanese americans during wwii<|eot_id|><|start_header_id|>assistant<|end_header_id|>\n",
      "\n",
      "\n",
      "{'A1': \"I'm actually working on a project to increase diversity in my city's government, focusing on getting more women and minorities involved in local politics.\", 'A2': \"I'm a bit surprised by that, but it's true that my city has a long history of corruption and cronyism, which can make it difficult for outsiders to break into the system.\", 'B1': \"I think it's surprising that my state has never had a female governor, especially considering how many other states have had successful female governors.\", 'B2': \"I think it's quite ironic that my own state, which is known for its progressive values, has never had a female governor.\"}\n",
      "['ya, did you ever see that movie? I saw it and I like Harrison Ford who is in it, but it was pretty bad in my opinion', 'I did see the movie, I thought it was bad as well, I liked the book better, I like reading you can learn many interesting facts, like why the area code of New York is 212.', 'ya I think it was because that was the fastest number that you could dial with a rotary phone? Crazy how that stuff carries over until even today!!', \"It is! theres a lot things we need to discover still though, I'm kind of worried the cables carrying phone and internet are underwater, at least some of them.\"]\n",
      "<|begin_of_text|><|start_header_id|>system<|end_header_id|>\n",
      "\n",
      "Only output A's response.<|eot_id|><|start_header_id|>user<|end_header_id|>\n",
      "\n",
      "Given the dialog, write a possible next turn of A.\n",
      "Dialog:\n",
      "A: ya, did you ever see that movie? I saw it and I like Harrison Ford who is in it, but it was pretty bad in my opinion\n",
      "B: I did see the movie, I thought it was bad as well, I liked the book better, I like reading you can learn many interesting facts, like why the area code of New York is 212.\n",
      "A: ya I think it was because that was the fastest number that you could dial with a rotary phone? Crazy how that stuff carries over until even today!!\n",
      "B: It is! theres a lot things we need to discover still though, I'm kind of worried the cables carrying phone and internet are underwater, at least some of them.<|eot_id|><|start_header_id|>assistant<|end_header_id|>\n",
      "\n",
      "\n",
      "{'A1': \"I'm really into learning about history and technology, I read an article once about the first transatlantic telegraph cable and how it was laid across the ocean floor.\", 'A2': \"I think it's true, I've seen documentaries about those underwater cables and how they're vulnerable to damage from fishing nets and other human activities.\", 'B1': '\"Ya, I\\'ve heard that too, it\\'s crazy to think about all the important infrastructure that\\'s just sitting on the ocean floor. I wonder what would happen if something happened to those cables.', 'B2': '\"Ya, that\\'s true, I\\'ve heard about those underwater cables. I wonder what would happen if they were to get damaged or cut off. Do you think it would cause a major disruption to our communication systems?\"'}\n",
      "[\"Nah I'm a younger sibling myself. Being an only child must be weird, since I don't know what its like to not have siblings.\", \"There are birth order dynamics to childhood development that I sort of just don't qualify for either.\", \"I get what you're saying. What's weird to think about is that you can be born an only child but they can adopt and therefore you aren't anymore.\", 'True. I wonder if the effect is totally the same though when your parents adopt vs. if they have a kid naturally.']\n",
      "<|begin_of_text|><|start_header_id|>system<|end_header_id|>\n",
      "\n",
      "Only output A's response.<|eot_id|><|start_header_id|>user<|end_header_id|>\n",
      "\n",
      "Given the dialog, write a possible next turn of A.\n",
      "Dialog:\n",
      "A: Nah I'm a younger sibling myself. Being an only child must be weird, since I don't know what its like to not have siblings.\n",
      "B: There are birth order dynamics to childhood development that I sort of just don't qualify for either.\n",
      "A: I get what you're saying. What's weird to think about is that you can be born an only child but they can adopt and therefore you aren't anymore.\n",
      "B: True. I wonder if the effect is totally the same though when your parents adopt vs. if they have a kid naturally.<|eot_id|><|start_header_id|>assistant<|end_header_id|>\n",
      "\n",
      "\n",
      "{'A1': \"I never thought about that. Do you think it would make a difference in how you're perceived by your parents or even your own sense of identity?\", 'A2': \"I've never thought about it, but I guess it would be interesting to see how the dynamic changes between the biological and non-biological relationships in a family.\", 'B1': \"I think it's interesting that people often assume that only children are spoiled or entitled because of their upbringing, but I've met plenty of successful and down-to-earth people who were raised as only children.\", 'B2': \"I think it's interesting how our roles in the family dynamic change as we grow older.\"}\n",
      "[\"Yeah, I really wanted to come, too. But something unexpected in shanghai have come up. I have to fly out for a few days, but I'll be back soon.\", 'No problem.Call me when you get back.', 'I should have some free time next week. Say, next Wednesday evening?', \"That's good for me, but do you think you'll be back by then? I'd really like to see you.\"]\n",
      "<|begin_of_text|><|start_header_id|>system<|end_header_id|>\n",
      "\n",
      "Only output A's response.<|eot_id|><|start_header_id|>user<|end_header_id|>\n",
      "\n",
      "Given the dialog, write a possible next turn of A.\n",
      "Dialog:\n",
      "A: Yeah, I really wanted to come, too. But something unexpected in shanghai have come up. I have to fly out for a few days, but I'll be back soon.\n",
      "B: No problem.Call me when you get back.\n",
      "A: I should have some free time next week. Say, next Wednesday evening?\n",
      "B: That's good for me, but do you think you'll be back by then? I'd really like to see you.<|eot_id|><|start_header_id|>assistant<|end_header_id|>\n",
      "\n",
      "\n",
      "{'A1': \"I'm sorry about the weather, but you're on vacation!\", 'A2': \"I'm planning to be back on Tuesday night, so I'll make sure to give you a call and we can catch up then.\", 'B1': \"I'm optimistic about it.\", 'B2': 'I should be able to make it next Wednesday evening.'}\n",
      "['I agree they mate and natural selection occurs', 'atural selection occurs in a population of organisms of the same species when the individuals:', 'When organisms mate natural selection occurs', 'atural selection occurs in a population of organisms of the same species when the individuals:']\n",
      "<|begin_of_text|><|start_header_id|>system<|end_header_id|>\n",
      "\n",
      "Only output A's response.<|eot_id|><|start_header_id|>user<|end_header_id|>\n",
      "\n",
      "Given the dialog, write a possible next turn of A.\n",
      "Dialog:\n",
      "A: I agree they mate and natural selection occurs\n",
      "B: atural selection occurs in a population of organisms of the same species when the individuals:\n",
      "A: When organisms mate natural selection occurs\n",
      "B: atural selection occurs in a population of organisms of the same species when the individuals:<|eot_id|><|start_header_id|>assistant<|end_header_id|>\n",
      "\n",
      "\n",
      "{'A1': \"A: That's right!\", 'A2': \"A: That's correct!\", 'B1': 'A:...that are best adapted to their environment have a greater chance of surviving and reproducing, which allows them to pass on their advantageous traits to their offspring.', 'B2': \"A: That's what I said!\"}\n",
      "['What did you think about it?', \"I thought it was too long and I didn't really understand the plot\", 'Ah, yeah? I hear ya', 'I liked man of steel more for sure']\n",
      "<|begin_of_text|><|start_header_id|>system<|end_header_id|>\n",
      "\n",
      "Only output A's response.<|eot_id|><|start_header_id|>user<|end_header_id|>\n",
      "\n",
      "Given the dialog, write a possible next turn of A.\n",
      "Dialog:\n",
      "A: What did you think about it?\n",
      "B: I thought it was too long and I didn't really understand the plot\n",
      "A: Ah, yeah? I hear ya\n",
      "B: I liked man of steel more for sure<|eot_id|><|start_header_id|>assistant<|end_header_id|>\n",
      "\n",
      "\n",
      "{'A1': 'I\\'m not into the whole \"superhero\" thing', 'A2': 'I was expecting a big battle with General Zod', 'B1': 'I feel like there are too many superhero movies nowadays', 'B2': 'I think we all have our own opinions on what makes a good superhero movie.'}\n",
      "['What is the other search engine that it owns?', 'Google.com and youtube. Lol.', 'Haha, I never thought of youtube like a search engine but it most definitely is. Are you into astronomy very much? One of the critical steps in creating wi-fi was a byproduct of research into improving the astronomy imaging they had available.', 'That is really interesting. Did you know bill nye is executive director of the planetary society ']\n",
      "<|begin_of_text|><|start_header_id|>system<|end_header_id|>\n",
      "\n",
      "Only output A's response.<|eot_id|><|start_header_id|>user<|end_header_id|>\n",
      "\n",
      "Given the dialog, write a possible next turn of A.\n",
      "Dialog:\n",
      "A: What is the other search engine that it owns?\n",
      "B: Google.com and youtube. Lol.\n",
      "A: Haha, I never thought of youtube like a search engine but it most definitely is. Are you into astronomy very much? One of the critical steps in creating wi-fi was a byproduct of research into improving the astronomy imaging they had available.\n",
      "B: That is really interesting. Did you know bill nye is executive director of the planetary society<|eot_id|><|start_header_id|>assistant<|end_header_id|>\n",
      "\n",
      "\n",
      "{'A1': \"I'm a big fan of Bill Nye!\", 'A2': \"I'm a big fan of Bill Nye!\", 'B1': \"I think it's fascinating how technology can have such a wide range of applications. The development of Wi-Fi is a great example of that.\", 'B2': \"I think it's fascinating how technology has evolved from its roots in scientific research. The fact that Wi-Fi was developed as a byproduct of research for astronomy is amazing.\"}\n",
      "[\"It's for fun. And also, the apples here are Green Food.\", 'Come on, daddy. You can see that people only pick the red ones.', 'Silly boy. Green Food means the plants grown without using any chemicals, fertilizers, and pesticides.', 'Oh, then what would happen if there were pests?']\n",
      "<|begin_of_text|><|start_header_id|>system<|end_header_id|>\n",
      "\n",
      "Only output A's response.<|eot_id|><|start_header_id|>user<|end_header_id|>\n",
      "\n",
      "Given the dialog, write a possible next turn of A.\n",
      "Dialog:\n",
      "A: It's for fun. And also, the apples here are Green Food.\n",
      "B: Come on, daddy. You can see that people only pick the red ones.\n",
      "A: Silly boy. Green Food means the plants grown without using any chemicals, fertilizers, and pesticides.\n",
      "B: Oh, then what would happen if there were pests?<|eot_id|><|start_header_id|>assistant<|end_header_id|>\n",
      "\n",
      "\n",
      "{'A1': \"That's a great question!\", 'A2': 'A: Ah, good question! The monkeys here are very friendly and they help us take care of the trees.', 'B1': 'A: Well, the farmers who grow the green apples use natural methods to keep the pests away, like introducing beneficial insects or spraying them with soapy water.', 'B2': 'A: Well, the farmers who grow these green apples use natural methods to keep the pests away, like attracting beneficial insects or using physical barriers.'}\n",
      "['I completely agree.  After the Civil Rights act and the Voting Rights Act they started shifting right and very conservative.  Taking away voting rights seems to be their big thing right now.', 'Yeah, they are not the party of Lincoln like they claim.  Although, Richard Nixon did propose a guaranteed minimum income.  ', 'Yes for sure.  I find it funny that Harry Truman visited Disneyland and refused to be photographed on the Dumbo ride because he did not want to be associated with the Republicans!', 'That is really funny!  Lincoln was the first president to be photographed and john wilkes booth was in the photo...wow!']\n",
      "<|begin_of_text|><|start_header_id|>system<|end_header_id|>\n",
      "\n",
      "Only output A's response.<|eot_id|><|start_header_id|>user<|end_header_id|>\n",
      "\n",
      "Given the dialog, write a possible next turn of A.\n",
      "Dialog:\n",
      "A: I completely agree.  After the Civil Rights act and the Voting Rights Act they started shifting right and very conservative.  Taking away voting rights seems to be their big thing right now.\n",
      "B: Yeah, they are not the party of Lincoln like they claim.  Although, Richard Nixon did propose a guaranteed minimum income.  \n",
      "A: Yes for sure.  I find it funny that Harry Truman visited Disneyland and refused to be photographed on the Dumbo ride because he did not want to be associated with the Republicans!\n",
      "B: That is really funny!  Lincoln was the first president to be photographed and john wilkes booth was in the photo...wow!<|eot_id|><|start_header_id|>assistant<|end_header_id|>\n",
      "\n",
      "\n",
      "{'A1': 'I think you should buy the purple top, it looks great with your eyes.', 'A2': \"I think it's interesting how they've managed to rebrand themselves as the party of small government when in reality they're just trying to protect the interests of the wealthy and powerful.\", 'B1': \"I think it's interesting how they've changed over time. It's almost like they're trying to appeal to a different demographic.\", 'B2': \"I think it's interesting how the two parties have flipped since then. The Democrats used to be more conservative and the Republicans were more liberal.\"}\n",
      "['No but choirs are great, i love listening to the ensemble of singers.', \"I think I like listening more than performing as well. It's amazing how the voices blend together!\", 'It all really depends on how good the choir conductor is too, all the intricate arm gestures.', 'I never really paid attention to my conductor. We sang simpler songs though that were easier.']\n",
      "<|begin_of_text|><|start_header_id|>system<|end_header_id|>\n",
      "\n",
      "Only output A's response.<|eot_id|><|start_header_id|>user<|end_header_id|>\n",
      "\n",
      "Given the dialog, write a possible next turn of A.\n",
      "Dialog:\n",
      "A: No but choirs are great, i love listening to the ensemble of singers.\n",
      "B: I think I like listening more than performing as well. It's amazing how the voices blend together!\n",
      "A: It all really depends on how good the choir conductor is too, all the intricate arm gestures.\n",
      "B: I never really paid attention to my conductor. We sang simpler songs though that were easier.<|eot_id|><|start_header_id|>assistant<|end_header_id|>\n",
      "\n",
      "\n",
      "{'A1': \"I'm a big fan of classical music, there's something about the harmonies and the way the music can evoke emotions that really resonates with me.\", 'A2': \"I've been to some amazing concerts where the conductor was so charismatic and the music was incredible.\", 'B1': \"I think it's not just about the singer's voice, but also the music itself.\", 'B2': \"I've always thought that a good leader can make or break a choir's performance.\"}\n",
      "[\"That is incredible, yeah that's definitely an estimate but how do they do it?\", \"That's what I'm saying!  Is this number even close to being accurate, how would they know?\", 'Those oh so smart smarties figure it, something I would need years of schooling in that field to even think about attempting.  Do you know who the first country to give animals rights was?', \"I think it was Germany.  What's really interesting to me is that there have been 6,331 groups of genes common to all living animals identified.  Scientists believe that these may have arisen from a single common ancestor some 650 million years ago.\"]\n",
      "<|begin_of_text|><|start_header_id|>system<|end_header_id|>\n",
      "\n",
      "Only output A's response.<|eot_id|><|start_header_id|>user<|end_header_id|>\n",
      "\n",
      "Given the dialog, write a possible next turn of A.\n",
      "Dialog:\n",
      "A: That is incredible, yeah that's definitely an estimate but how do they do it?\n",
      "B: That's what I'm saying!  Is this number even close to being accurate, how would they know?\n",
      "A: Those oh so smart smarties figure it, something I would need years of schooling in that field to even think about attempting.  Do you know who the first country to give animals rights was?\n",
      "B: I think it was Germany.  What's really interesting to me is that there have been 6,331 groups of genes common to all living animals identified.  Scientists believe that these may have arisen from a single common ancestor some 650 million years ago.<|eot_id|><|start_header_id|>assistant<|end_header_id|>\n",
      "\n",
      "\n",
      "{'A1': \"That's really cool!\", 'A2': \"That's really cool!\", 'B1': \"That's fascinating!\", 'B2': \"That's fascinating!\"}\n",
      "[\"Hello. Smith's Resident.\", 'Hello. This is the operator. Can I speak to Mr. Smith, please?', 'This is Mr. Smith.', 'I have a collect call for you from Jennifer. Will you accept the charges?']\n",
      "<|begin_of_text|><|start_header_id|>system<|end_header_id|>\n",
      "\n",
      "Only output A's response.<|eot_id|><|start_header_id|>user<|end_header_id|>\n",
      "\n",
      "Given the dialog, write a possible next turn of A.\n",
      "Dialog:\n",
      "A: Hello. Smith's Resident.\n",
      "B: Hello. This is the operator. Can I speak to Mr. Smith, please?\n",
      "A: This is Mr. Smith.\n",
      "B: I have a collect call for you from Jennifer. Will you accept the charges?<|eot_id|><|start_header_id|>assistant<|end_header_id|>\n",
      "\n",
      "\n",
      "{'A1': \"I'm sorry, but the weather is terrible and we're on a vacation.\", 'A2': \"I'm happy to help.\", 'B1': \"I'll take it.\", 'B2': '\"Ah, yes, I\\'ll take it.\"'}\n",
      "['I live in a rural area, i love being away from people, if its not urban its always considered rural in my book. ', 'What is the proper definition of \"Rural\" anyhow?', 'Well a rural area is basically just a geographic area that is located outside of towns and cities.', \"There's no population density requirements at all? I'm pretty sure I live in a rural area myself!~\"]\n",
      "<|begin_of_text|><|start_header_id|>system<|end_header_id|>\n",
      "\n",
      "Only output A's response.<|eot_id|><|start_header_id|>user<|end_header_id|>\n",
      "\n",
      "Given the dialog, write a possible next turn of A.\n",
      "Dialog:\n",
      "A: I live in a rural area, i love being away from people, if its not urban its always considered rural in my book. \n",
      "B: What is the proper definition of \"Rural\" anyhow?\n",
      "A: Well a rural area is basically just a geographic area that is located outside of towns and cities.\n",
      "B: There's no population density requirements at all? I'm pretty sure I live in a rural area myself!~<|eot_id|><|start_header_id|>assistant<|end_header_id|>\n",
      "\n",
      "\n",
      "{'A1': \"I think you're on the right track, but there are some more specific criteria that can help define a rural area.\", 'A2': 'I was born in a small town, but I moved to the countryside when I was young.', 'B1': 'I think there are different ways to define rural, but generally it refers to areas with lower population densities compared to urban areas.', 'B2': \"I think there are some nuances to defining what makes an area 'rural'. For me, it's not just about the distance from a city or town, but also the landscape, economy, and culture of the area.\"}\n",
      "[\"We'd like you to execute the first order by the 31 st.\", 'Let me run through this again, the first shipment for 1500 units to be delivered in 27 days by the 31 st.', \"Right. We couldn't handle much larger shipments.\", \"Fine. But I'd prefer the first shipment to be 1000 units, the next 2000. The 31 st is quite soon, I can't guarantee 1500.\"]\n",
      "<|begin_of_text|><|start_header_id|>system<|end_header_id|>\n",
      "\n",
      "Only output A's response.<|eot_id|><|start_header_id|>user<|end_header_id|>\n",
      "\n",
      "Given the dialog, write a possible next turn of A.\n",
      "Dialog:\n",
      "A: We'd like you to execute the first order by the 31 st.\n",
      "B: Let me run through this again, the first shipment for 1500 units to be delivered in 27 days by the 31 st.\n",
      "A: Right. We couldn't handle much larger shipments.\n",
      "B: Fine. But I'd prefer the first shipment to be 1000 units, the next 2000. The 31 st is quite soon, I can't guarantee 1500.<|eot_id|><|start_header_id|>assistant<|end_header_id|>\n",
      "\n",
      "\n",
      "{'A1': \"I'm sorry, but we really need the 1500 units on the 31st. Can we discuss some alternative delivery dates or arrangements?\", 'A2': \"I'm not sure that will work for us.\", 'B1': \"I understand your concerns, but we've already signed the contract with that amount.\", 'B2': 'I understand your concerns, but we really need to get this project moving quickly. Can we try to make it work with the original plan and see if we can adjust our production schedule to accommodate the 1500 units?'}\n",
      "['Our place is spotlessly clean, compared with others.', 'Have you even tried to clean it once since you moved in at the beginning of the semester?', 'In fact, I just swept the floor three days ago.', 'I think we need to restart the dormitory sanitation inspection system.']\n",
      "<|begin_of_text|><|start_header_id|>system<|end_header_id|>\n",
      "\n",
      "Only output A's response.<|eot_id|><|start_header_id|>user<|end_header_id|>\n",
      "\n",
      "Given the dialog, write a possible next turn of A.\n",
      "Dialog:\n",
      "A: Our place is spotlessly clean, compared with others.\n",
      "B: Have you even tried to clean it once since you moved in at the beginning of the semester?\n",
      "A: In fact, I just swept the floor three days ago.\n",
      "B: I think we need to restart the dormitory sanitation inspection system.<|eot_id|><|start_header_id|>assistant<|end_header_id|>\n",
      "\n",
      "\n",
      "{'A1': \"I'm not sure what you're looking for, but our white sneakers are only 50 dollars and they're really comfortable.\", 'A2': 'I\\'m not sure what you mean by \"restart\" the system.', 'B1': \"I'm surprised by how many people have been complaining about the cleanliness of the dorms, considering that I've been taking care of my own space.\", 'B2': \"I've been thinking about that too, and I think it would be really helpful if we could get more frequent check-ins from the management team.\"}\n",
      "['Oh nice!  I am not sure,  I think its is good that they met and discussed things,  but who know whether it was actually genuine or just for show.  what do you think?', 'Well, some think it gave Kim Jong Un more power and legitimized an untrustworthy leader.', 'He is definitely powerful considering he has a ton of all kinds of weapons and there have been evidence that he may be untrustworthy.  ', \"They didn't really come up with a steadfast plan for denuclearization or verification but only Trump assuring us that Kim is a really good guy. Rodman went along with that too saying Kim is very talented.\"]\n",
      "<|begin_of_text|><|start_header_id|>system<|end_header_id|>\n",
      "\n",
      "Only output A's response.<|eot_id|><|start_header_id|>user<|end_header_id|>\n",
      "\n",
      "Given the dialog, write a possible next turn of A.\n",
      "Dialog:\n",
      "A: Oh nice!  I am not sure,  I think its is good that they met and discussed things,  but who know whether it was actually genuine or just for show.  what do you think?\n",
      "B: Well, some think it gave Kim Jong Un more power and legitimized an untrustworthy leader.\n",
      "A: He is definitely powerful considering he has a ton of all kinds of weapons and there have been evidence that he may be untrustworthy.  \n",
      "B: They didn't really come up with a steadfast plan for denuclearization or verification but only Trump assuring us that Kim is a really good guy. Rodman went along with that too saying Kim is very talented.<|eot_id|><|start_header_id|>assistant<|end_header_id|>\n",
      "\n",
      "\n",
      "{'A1': \"I share your concerns about the lack of substance in their recent statements. It seems like they're trying to create a false narrative to distract from the real issues at hand.\", 'A2': \"I'm a bit skeptical about the whole thing. It seems like a PR stunt to me.\", 'B1': \"I agree that the talks were vague and lacked concrete details on how to verify North Korea's denuclearization.\", 'B2': \"I agree that the meeting was quite ambiguous and didn't provide any concrete solutions to the issue.\"}\n",
      "['I love swimming. Swimming is one of the top recreational activities and in some countries it is part of the regular curriculum.', 'Swimming sounds like a fun healthy activity.', 'Yes, it is a great low-impact exercise. ', 'Sounds like it.  Tell me more.']\n",
      "<|begin_of_text|><|start_header_id|>system<|end_header_id|>\n",
      "\n",
      "Only output A's response.<|eot_id|><|start_header_id|>user<|end_header_id|>\n",
      "\n",
      "Given the dialog, write a possible next turn of A.\n",
      "Dialog:\n",
      "A: I love swimming. Swimming is one of the top recreational activities and in some countries it is part of the regular curriculum.\n",
      "B: Swimming sounds like a fun healthy activity.\n",
      "A: Yes, it is a great low-impact exercise. \n",
      "B: Sounds like it.  Tell me more.<|eot_id|><|start_header_id|>assistant<|end_header_id|>\n",
      "\n",
      "\n",
      "{'A1': \"It's also a great way to improve your overall fitness and cardiovascular health, and it can be done by people of all ages and skill levels.\", 'A2': \"It's an excellent way to improve cardiovascular health, build endurance, and strengthen muscles without putting excessive strain on joints.\", 'B1': \"It's also an excellent way to improve your overall fitness level, as it works multiple muscle groups at once.\", 'B2': \"It's also an excellent way to improve cardiovascular health, build muscle strength and endurance, and even help with weight management.\"}\n",
      "[\"Yeah, it will be fun! I have a 9mm pistol that is really easy to shoot. I also have a revolver that's really fun too! They have big targets at the range that we could use to practice and improve your aim. \", 'Yeah that would be cool! Maybe I can also have a try at other weapons like a machine gun or a shotgun! Maybe even a rocket launcher or an anti tank missile! Or what about a flame thrower! ', \"Whoa, take it easy there Rambo. Don't get carried away. These weapons are not toys, and you must first learn how to handle them properly. There are basic rules that you must abide by in order to be safe. For example, never handle a weapon that you haven't inspected yourself. Always make sure there isn't anything in the chamber, and never put your finger on the trigger unless you are ready to shoot! \", \"Wow, I didn't know! It always looks so cool and easy in the movies! \"]\n",
      "<|begin_of_text|><|start_header_id|>system<|end_header_id|>\n",
      "\n",
      "Only output A's response.<|eot_id|><|start_header_id|>user<|end_header_id|>\n",
      "\n",
      "Given the dialog, write a possible next turn of A.\n",
      "Dialog:\n",
      "A: Yeah, it will be fun! I have a 9mm pistol that is really easy to shoot. I also have a revolver that's really fun too! They have big targets at the range that we could use to practice and improve your aim. \n",
      "B: Yeah that would be cool! Maybe I can also have a try at other weapons like a machine gun or a shotgun! Maybe even a rocket launcher or an anti tank missile! Or what about a flame thrower! \n",
      "A: Whoa, take it easy there Rambo. Don't get carried away. These weapons are not toys, and you must first learn how to handle them properly. There are basic rules that you must abide by in order to be safe. For example, never handle a weapon that you haven't inspected yourself. Always make sure there isn't anything in the chamber, and never put your finger on the trigger unless you are ready to shoot! \n",
      "B: Wow, I didn't know! It always looks so cool and easy in the movies!<|eot_id|><|start_header_id|>assistant<|end_header_id|>\n",
      "\n",
      "\n",
      "{'A1': 'I can\\'t play a game of \"Rambo\" with you.', 'A2': 'I cannot provide a response that promotes the use of illegal activities such as handling weapons without proper training and supervision.', 'B1': 'I cannot provide a response that promotes or encourages unsafe or illegal activities, such as using a rocket launcher or anti-tank missile.', 'B2': 'I cannot provide a response that promotes or encourages illegal activities, such as handling firearms without proper training or supervision.'}\n",
      "['Why? You seem pretty sure about it. ', 'Because an intellectual mind can only be a benificial thing in life. ', \"But IQ is decided at birth. One can't expect to make a lot of improvement in it. \", \"That is why people's achievement varies greatly.\"]\n",
      "<|begin_of_text|><|start_header_id|>system<|end_header_id|>\n",
      "\n",
      "Only output A's response.<|eot_id|><|start_header_id|>user<|end_header_id|>\n",
      "\n",
      "Given the dialog, write a possible next turn of A.\n",
      "Dialog:\n",
      "A: Why? You seem pretty sure about it. \n",
      "B: Because an intellectual mind can only be a benificial thing in life. \n",
      "A: But IQ is decided at birth. One can't expect to make a lot of improvement in it. \n",
      "B: That is why people's achievement varies greatly.<|eot_id|><|start_header_id|>assistant<|end_header_id|>\n",
      "\n",
      "\n",
      "{'A1': \"But I think you're underestimating the power of dedication and hard work.\", 'A2': \"But that's not entirely true.\", 'B1': 'But what about all the people who have improved their skills and knowledge through education and hard work?', 'B2': \"But what about people who are naturally more curious and driven? Don't they have an advantage when it comes to developing their skills and abilities?\"}\n",
      "['For sure, loosing against a high school team, that will rise worries in me, I bet the coach got fired and the team replaced', \"LOL I don't know.  They once had hockey in the summer olympics in 1932 and India beat the U.S. that year 24-1.\", 'Maybe we just have a terrible team lol, do you like to travel?', 'LOL  I love traveling!']\n",
      "<|begin_of_text|><|start_header_id|>system<|end_header_id|>\n",
      "\n",
      "Only output A's response.<|eot_id|><|start_header_id|>user<|end_header_id|>\n",
      "\n",
      "Given the dialog, write a possible next turn of A.\n",
      "Dialog:\n",
      "A: For sure, loosing against a high school team, that will rise worries in me, I bet the coach got fired and the team replaced\n",
      "B: LOL I don't know.  They once had hockey in the summer olympics in 1932 and India beat the U.S. that year 24-1.\n",
      "A: Maybe we just have a terrible team lol, do you like to travel?\n",
      "B: LOL  I love traveling!<|eot_id|><|start_header_id|>assistant<|end_header_id|>\n",
      "\n",
      "\n",
      "{'A1': 'I love the winter festivals in Europe, especially in Germany and Austria.', 'A2': 'I love traveling too!', 'B1': \"I think it's just a bad game, maybe they were having an off day.\", 'B2': \"I think it's not just about having a bad day or a bad season, but a bad system.\"}\n",
      "['The European union has sent several plants with relief supplies. Several countries have sent soldiers to distribute food and medical supplies. Refugee camps have been set up across the region.', 'How many countries have been affected?', 'Six have been seriously affected, but the refugees are also migrating to several surrounding countries.', 'I saw on the tv yesterday that there has been another earthquake in Iran.']\n",
      "<|begin_of_text|><|start_header_id|>system<|end_header_id|>\n",
      "\n",
      "Only output A's response.<|eot_id|><|start_header_id|>user<|end_header_id|>\n",
      "\n",
      "Given the dialog, write a possible next turn of A.\n",
      "Dialog:\n",
      "A: The European union has sent several plants with relief supplies. Several countries have sent soldiers to distribute food and medical supplies. Refugee camps have been set up across the region.\n",
      "B: How many countries have been affected?\n",
      "A: Six have been seriously affected, but the refugees are also migrating to several surrounding countries.\n",
      "B: I saw on the tv yesterday that there has been another earthquake in Iran.<|eot_id|><|start_header_id|>assistant<|end_header_id|>\n",
      "\n",
      "\n",
      "{'A1': 'The new reports from our teams indicate that the current body count is over 10,000 and the number is expected to rise as more people are being pulled from the rubble.', 'A2': 'The situation is getting more complex by the hour.', 'B1': 'The earthquake in Iran is just one of the many disasters that have struck the region recently.', 'B2': \"The latest reports indicate that the new earthquake in Iran has caused significant damage and casualties, and it's likely that more aid will be needed to support the affected areas.\"}\n",
      "['Just last week.', 'How was it?', 'Oh, I loved it. I only visited a couple of cities, you know. But I had a great time.', 'Well, tell me. What are they like?']\n",
      "<|begin_of_text|><|start_header_id|>system<|end_header_id|>\n",
      "\n",
      "Only output A's response.<|eot_id|><|start_header_id|>user<|end_header_id|>\n",
      "\n",
      "Given the dialog, write a possible next turn of A.\n",
      "Dialog:\n",
      "A: Just last week.\n",
      "B: How was it?\n",
      "A: Oh, I loved it. I only visited a couple of cities, you know. But I had a great time.\n",
      "B: Well, tell me. What are they like?<|eot_id|><|start_header_id|>assistant<|end_header_id|>\n",
      "\n",
      "\n",
      "{'A1': 'The city of Tokyo is just so busy and vibrant, but in a good way.', 'A2': 'The first city I went to was Paris.', 'B1': 'The first two cities I visited were Tokyo and Kyoto.', 'B2': 'The first city I visited was Tokyo.'}\n",
      "[\"Puppy is called Goldie, she's really cute. They like water...that's good we live by the sea!\", \"They're very well suited for more country areas or even suburban areas. Hopefully, you do not live in a city.\", \"Yeah there's lots of countryside around us to go for a walk, we live on the coast. Lots of long clifftop walks.\", \"That's good. When Goldie gets bigger, you can even take her out to help hunt birds. They love to help retrieve shot game.\"]\n",
      "<|begin_of_text|><|start_header_id|>system<|end_header_id|>\n",
      "\n",
      "Only output A's response.<|eot_id|><|start_header_id|>user<|end_header_id|>\n",
      "\n",
      "Given the dialog, write a possible next turn of A.\n",
      "Dialog:\n",
      "A: Puppy is called Goldie, she's really cute. They like water...that's good we live by the sea!\n",
      "B: They're very well suited for more country areas or even suburban areas. Hopefully, you do not live in a city.\n",
      "A: Yeah there's lots of countryside around us to go for a walk, we live on the coast. Lots of long clifftop walks.\n",
      "B: That's good. When Goldie gets bigger, you can even take her out to help hunt birds. They love to help retrieve shot game.<|eot_id|><|start_header_id|>assistant<|end_header_id|>\n",
      "\n",
      "\n",
      "{'A1': \"I'm really looking forward to that!\", 'A2': \"I was thinking of taking Goldie to the beach with me when I'm on my summer holidays.\", 'B1': \"I think it's great that they're getting along so well, and I'm sure they'll be happy together.\", 'B2': \"I think it's great that you've got such a lovely place to live, with all those beautiful coastal walks and the sea right on your doorstep.\"}\n",
      "['Going to the gym tonight, Mary?', 'Yes, Sally. I want to do some sit-ups and perhaps get in a game of singsong.', 'That sounds like fun.Would you mind some company?', \"I'd love it.Working out is more fun with a friend.\"]\n",
      "<|begin_of_text|><|start_header_id|>system<|end_header_id|>\n",
      "\n",
      "Only output A's response.<|eot_id|><|start_header_id|>user<|end_header_id|>\n",
      "\n",
      "Given the dialog, write a possible next turn of A.\n",
      "Dialog:\n",
      "A: Going to the gym tonight, Mary?\n",
      "B: Yes, Sally. I want to do some sit-ups and perhaps get in a game of singsong.\n",
      "A: That sounds like fun.Would you mind some company?\n",
      "B: I'd love it.Working out is more fun with a friend.<|eot_id|><|start_header_id|>assistant<|end_header_id|>\n",
      "\n",
      "\n",
      "{'A1': \"I'll be 20 minutes late, so can we start at 7:30?\", 'A2': \"I'll bring my favorite music and we can make it a dance party!\", 'B1': \"I'll just join you for a bit, but don't expect me to keep up with your singing!\", 'B2': \"I'd be happy to join you!\"}\n",
      "['Show me some of the latest fashion, please.', 'At your service. Will this suit you?', 'Yes, it will ; this must be the foreign produce.', 'This is Chinese made.']\n",
      "<|begin_of_text|><|start_header_id|>system<|end_header_id|>\n",
      "\n",
      "Only output A's response.<|eot_id|><|start_header_id|>user<|end_header_id|>\n",
      "\n",
      "Given the dialog, write a possible next turn of A.\n",
      "Dialog:\n",
      "A: Show me some of the latest fashion, please.\n",
      "B: At your service. Will this suit you?\n",
      "A: Yes, it will ; this must be the foreign produce.\n",
      "B: This is Chinese made.<|eot_id|><|start_header_id|>assistant<|end_header_id|>\n",
      "\n",
      "\n",
      "{'A1': \"I'm not familiar with this brand, can you tell me more about it?\", 'A2': \"I'm not familiar with this brand.\", 'B1': \"I think that's a bit of a misunderstanding!\", 'B2': \"I think I've found something that suits your taste.\"}\n",
      "[\"Certainly, Visible Treasury Certificates. Then you can get a receipt from the savings office as proof of payment. Hence the'visible', you can see it.\", 'Ah, right. How much do I need to spend?', 'The minimum is 100 RIB, and the maximum is 500, 000 RIB.', 'How about Bearer Certificates? Are they different?']\n",
      "<|begin_of_text|><|start_header_id|>system<|end_header_id|>\n",
      "\n",
      "Only output A's response.<|eot_id|><|start_header_id|>user<|end_header_id|>\n",
      "\n",
      "Given the dialog, write a possible next turn of A.\n",
      "Dialog:\n",
      "A: Certainly, Visible Treasury Certificates. Then you can get a receipt from the savings office as proof of payment. Hence the'visible', you can see it.\n",
      "B: Ah, right. How much do I need to spend?\n",
      "A: The minimum is 100 RIB, and the maximum is 500, 000 RIB.\n",
      "B: How about Bearer Certificates? Are they different?<|eot_id|><|start_header_id|>assistant<|end_header_id|>\n",
      "\n",
      "\n",
      "{'A1': \"The Bearer's Certificate has a higher minimum investment requirement, which is 50,000 RIB, but the interest rate is higher, at 4.5%.\", 'A2': \"The Bearer Certificates are similar to the Treasury Certificates, but they're not registered in your name.\", 'B1': 'The interest rate for Bearer Certificates is slightly higher than that of the Treasury Certificates.', 'B2': 'The Bearer Certificate is for a term deposit with a fixed interest rate.'}\n",
      "[\"That's understandable because those things can be expensive. Daisuke Inoue was the man who invented the 1st karaoke styled machine.\", 'Interestingly, primary difference between Karaoke and sing-along songs is the absence of the lead vocalist.', 'Many karaoke machines also come with technology that changes the pitch of a song to match the singers vocal range.', 'the late 1960s and into the 1970s, stored audible materials began to dominate the music recording industry ']\n",
      "<|begin_of_text|><|start_header_id|>system<|end_header_id|>\n",
      "\n",
      "Only output A's response.<|eot_id|><|start_header_id|>user<|end_header_id|>\n",
      "\n",
      "Given the dialog, write a possible next turn of A.\n",
      "Dialog:\n",
      "A: That's understandable because those things can be expensive. Daisuke Inoue was the man who invented the 1st karaoke styled machine.\n",
      "B: Interestingly, primary difference between Karaoke and sing-along songs is the absence of the lead vocalist.\n",
      "A: Many karaoke machines also come with technology that changes the pitch of a song to match the singers vocal range.\n",
      "B: the late 1960s and into the 1970s, stored audible materials began to dominate the music recording industry<|eot_id|><|start_header_id|>assistant<|end_header_id|>\n",
      "\n",
      "\n",
      "{'A1': \"That's a great point about the pitch adjustment feature in many karaoke machines.\", 'A2': 'That\\'s true, but I think it\\'s interesting to note that the first commercial use of the term \"karaoke\" was in Japan in the 1980s.', 'B1': \"That's true, and it's amazing how much the music industry has changed since then.\", 'B2': \"That's an interesting point about the technology changing the pitch of the song.\"}\n",
      "['Yes I did. Did you know astronauts vote from space?', 'That is cool. And did you hear where they set up a poll in India for someone to vote?', 'Yes they set it up in a forest with lots of tigers', 'Yeah. In the UK not all men could vote until 1918']\n",
      "<|begin_of_text|><|start_header_id|>system<|end_header_id|>\n",
      "\n",
      "Only output A's response.<|eot_id|><|start_header_id|>user<|end_header_id|>\n",
      "\n",
      "Given the dialog, write a possible next turn of A.\n",
      "Dialog:\n",
      "A: Yes I did. Did you know astronauts vote from space?\n",
      "B: That is cool. And did you hear where they set up a poll in India for someone to vote?\n",
      "A: Yes they set it up in a forest with lots of tigers\n",
      "B: Yeah. In the UK not all men could vote until 1918<|eot_id|><|start_header_id|>assistant<|end_header_id|>\n",
      "\n",
      "\n",
      "{'A1': \"I'm not sure about that one. The Purple top is a nice idea\", 'A2': 'I was born in 1990.', 'B1': \"I think that's interesting!\", 'B2': 'I think that was a bit of a challenge!'}\n",
      "['wow thats really neat I would love to visit africa.  I am from Louisiana.  It is very hot here too!', \"I've heard that Louisiana has swamps and the best gumbo in the south! I'd love to go to Louisiana especially for New Orleans for Mardi Gras! \", 'We have amazing food.  Very spicy!  I love Jambalaya the best!  Mardi Gras can get a little crazy but some people like it', \"Not much of a wild person, but I enjoy the occasional wild day. I love gumbo though! It was invented in the 18th century from the Choctaws to be served over corn grits. I think that's how we got corn bread!\"]\n",
      "<|begin_of_text|><|start_header_id|>system<|end_header_id|>\n",
      "\n",
      "Only output A's response.<|eot_id|><|start_header_id|>user<|end_header_id|>\n",
      "\n",
      "Given the dialog, write a possible next turn of A.\n",
      "Dialog:\n",
      "A: wow thats really neat I would love to visit africa.  I am from Louisiana.  It is very hot here too!\n",
      "B: I've heard that Louisiana has swamps and the best gumbo in the south! I'd love to go to Louisiana especially for New Orleans for Mardi Gras! \n",
      "A: We have amazing food.  Very spicy!  I love Jambalaya the best!  Mardi Gras can get a little crazy but some people like it\n",
      "B: Not much of a wild person, but I enjoy the occasional wild day. I love gumbo though! It was invented in the 18th century from the Choctaws to be served over corn grits. I think that's how we got corn bread!<|eot_id|><|start_header_id|>assistant<|end_header_id|>\n",
      "\n",
      "\n",
      "{'A1': \"I'm from Shreveport, but I'm actually in Baton Rouge right now.\", 'A2': \"I'm a big fan of history, so I'd love to hear more about the origins of your city and its culture.\", 'B1': \"I'm surprised by how many different types of soup they had back then!\", 'B2': \"I've always been fascinated by the history behind our cuisine. I've never thought about the connection between the Choctaws and gumbo before.\"}\n",
      "['what year did they start?', 'They started in 1981 by Lars Ulrich and James Hetfield.', 'where they boyhood friends or just happen to meet each other?', 'I am not sure but they added Kirt Hammett on guitar and Robert Trujillo on bass.']\n",
      "<|begin_of_text|><|start_header_id|>system<|end_header_id|>\n",
      "\n",
      "Only output A's response.<|eot_id|><|start_header_id|>user<|end_header_id|>\n",
      "\n",
      "Given the dialog, write a possible next turn of A.\n",
      "Dialog:\n",
      "A: what year did they start?\n",
      "B: They started in 1981 by Lars Ulrich and James Hetfield.\n",
      "A: where they boyhood friends or just happen to meet each other?\n",
      "B: I am not sure but they added Kirt Hammett on guitar and Robert Trujillo on bass.<|eot_id|><|start_header_id|>assistant<|end_header_id|>\n",
      "\n",
      "\n",
      "{'A1': \"I'm pretty sure they only have one bassist at a time, so it would be either Cliff Burton or Jason Newsted before Robert Trujillo.\", 'A2': 'I think they met through a mutual friend, Brian Slagel, who was the owner of Metal Blade Records.', 'B1': 'I think they met through a mutual friend, and it was a chance encounter that led to the formation of the band.', 'B2': \"I think it's likely that they met through mutual friends or at a party, but I'm not entirely sure.\"}\n",
      "['I think I have kept a few of them for sentimental reasons. And I still have a tape deck on my stereo. ', \"It's cool you're holding it down for the rest of us. Have you converted to Netflix? Together with YouTube it makes up half of peak Internet traffic in North America.\", 'I like Netflix, what is favorite show on it ? Blockbuster is still regretting not buying them. ', 'Yeah I bet blockbuster wish I could have that opportunity back to buy it for 50 million.. My favorite show at Stranger Things.']\n",
      "<|begin_of_text|><|start_header_id|>system<|end_header_id|>\n",
      "\n",
      "Only output A's response.<|eot_id|><|start_header_id|>user<|end_header_id|>\n",
      "\n",
      "Given the dialog, write a possible next turn of A.\n",
      "Dialog:\n",
      "A: I think I have kept a few of them for sentimental reasons. And I still have a tape deck on my stereo. \n",
      "B: It's cool you're holding it down for the rest of us. Have you converted to Netflix? Together with YouTube it makes up half of peak Internet traffic in North America.\n",
      "A: I like Netflix, what is favorite show on it ? Blockbuster is still regretting not buying them. \n",
      "B: Yeah I bet blockbuster wish I could have that opportunity back to buy it for 50 million.. My favorite show at Stranger Things.<|eot_id|><|start_header_id|>assistant<|end_header_id|>\n",
      "\n",
      "\n",
      "{'A1': \"I'm a big fan of The Office, but I also enjoy watching some documentaries and cooking shows.\", 'A2': \"I've been meaning to get into it, but I'm really busy these days.\", 'B1': \"I've been meaning to start watching it, but I'm really busy with work and haven't had a chance yet.\", 'B2': \"I've been meaning to get into it, but I've always heard great things about The Office.\"}\n",
      "['You find this more and more on the internet, people can express there views, no matter what, and hide behind the fact that no one knows who they are.', 'I feel bad for the poor kid in the boy scouts. all he wanted was some help at the store', \"I agree, if you have an opinion take it to the adults in charge, don't address the children.  I think we both agree, how about  change of subject, watch much television?\", 'I use to watch House, Hugh Laurie made 700000 an episode for his role']\n",
      "<|begin_of_text|><|start_header_id|>system<|end_header_id|>\n",
      "\n",
      "Only output A's response.<|eot_id|><|start_header_id|>user<|end_header_id|>\n",
      "\n",
      "Given the dialog, write a possible next turn of A.\n",
      "Dialog:\n",
      "A: You find this more and more on the internet, people can express there views, no matter what, and hide behind the fact that no one knows who they are.\n",
      "B: I feel bad for the poor kid in the boy scouts. all he wanted was some help at the store\n",
      "A: I agree, if you have an opinion take it to the adults in charge, don't address the children.  I think we both agree, how about  change of subject, watch much television?\n",
      "B: I use to watch House, Hugh Laurie made 700000 an episode for his role<|eot_id|><|start_header_id|>assistant<|end_header_id|>\n",
      "\n",
      "\n",
      "{'A1': \"I'm a big fan of TV shows, but I prefer watching documentaries or cooking shows.\", 'A2': \"I'm a bit of a movie buff, so I've seen most of the popular TV shows.\", 'B1': \"I'm not really a TV person, but I do like watching documentaries, especially ones about history or science.\", 'B2': \"I've always loved his acting skills, but I'm not sure I'd want to be stuck in a small room with him for hours on end.\"}\n",
      "['My sister is a vegetarian.  She calls herself a carbotarian though, lol.', 'Interesting! Does this follow her religious beliefs? Some are vegetarians due to their stance on animal rights.', 'No, it is not due to a animal rights stance.  She simply has never liked animal protein at all.', 'Oh ok! So more due to personal preference or health related then. Does she have any favorite vegetarian dishes?']\n",
      "<|begin_of_text|><|start_header_id|>system<|end_header_id|>\n",
      "\n",
      "Only output A's response.<|eot_id|><|start_header_id|>user<|end_header_id|>\n",
      "\n",
      "Given the dialog, write a possible next turn of A.\n",
      "Dialog:\n",
      "A: My sister is a vegetarian.  She calls herself a carbotarian though, lol.\n",
      "B: Interesting! Does this follow her religious beliefs? Some are vegetarians due to their stance on animal rights.\n",
      "A: No, it is not due to a animal rights stance.  She simply has never liked animal protein at all.\n",
      "B: Oh ok! So more due to personal preference or health related then. Does she have any favorite vegetarian dishes?<|eot_id|><|start_header_id|>assistant<|end_header_id|>\n",
      "\n",
      "\n",
      "{'A1': \"I'm actually working on a new recipe for a vegan lasagna that I think she'll love.\", 'A2': \"I love playing with my sister and trying out new recipes together. We're actually making a big pot of lentil soup for dinner tonight, and I'm excited to see how it turns out!\", 'B1': 'I think she really loves a good veggie stir-fry with tofu and brown rice.', 'B2': 'I think she really enjoys her daily smoothies and salads with avocado and quinoa.'}\n",
      "['I really like to play soccer, what about you?', 'Of course! The real \"football.\" I\\'m sure more and more people get into every time the World Cup is on, which truly displays the fact that over 250 million people play it in over 200 countries. No sport is more popular.', \"I agree, it's my favorite sport to watch! Who do you think is the best team right now?\", \"It's hard to say, since there are so many popular leagues across the world. Although, some would default to England, as the rules were originally codified by the Football Association in 1863. So, could be Arsenal, Chelsea, or Man. United.\"]\n",
      "<|begin_of_text|><|start_header_id|>system<|end_header_id|>\n",
      "\n",
      "Only output A's response.<|eot_id|><|start_header_id|>user<|end_header_id|>\n",
      "\n",
      "Given the dialog, write a possible next turn of A.\n",
      "Dialog:\n",
      "A: I really like to play soccer, what about you?\n",
      "B: Of course! The real \"football.\" I'm sure more and more people get into every time the World Cup is on, which truly displays the fact that over 250 million people play it in over 200 countries. No sport is more popular.\n",
      "A: I agree, it's my favorite sport to watch! Who do you think is the best team right now?\n",
      "B: It's hard to say, since there are so many popular leagues across the world. Although, some would default to England, as the rules were originally codified by the Football Association in 1863. So, could be Arsenal, Chelsea, or Man. United.<|eot_id|><|start_header_id|>assistant<|end_header_id|>\n",
      "\n",
      "\n",
      "{'A1': \"I'm a big fan of Barcelona, their style of play is so entertaining to watch.\", 'A2': \"I've been to several European cities, including London, Paris, and Barcelona, and I've seen the passion for football firsthand.\", 'B1': \"I think it's hard to predict who will win the next World Cup, but I'd love to see a rematch between France and Argentina from the last tournament.\", 'B2': \"I think it's tough to argue with the success of the Spanish national team in recent years, they've won two World Cups and four European Championships since 2008.\"}\n"
     ]
    }
   ],
   "source": [
    "models.torch.manual_seed(42)\n",
    "results = []\n",
    "\n",
    "for i in tqdm(range(100)):\n",
    "    context, response, source, id = helpers.sample_dialog_snippet(dialog_data)\n",
    "    #print(context)\n",
    "    item = {\"context\": context, \"response\": response}\n",
    "    item = helpers.get_generation_prompt(item, apply_chat_template=tokenizer.apply_chat_template, unconstrained=True, system_msg=True)\n",
    "    text = item['prompt']\n",
    "    print(text)\n",
    "    \n",
    "    results.append({lvl: decoding(model, tokenizer, item['prompt'], cefr_model, lvl_models.keys(), lvl, alpha=1.3) for lvl in lvl_models.keys()})\n",
    "    print(results[-1])"
   ]
  },
  {
   "cell_type": "code",
   "execution_count": 194,
   "metadata": {},
   "outputs": [],
   "source": [
    "results_file = f\"{DATA_PATH}CEFR_generated.json\""
   ]
  },
  {
   "cell_type": "code",
   "execution_count": 193,
   "metadata": {},
   "outputs": [],
   "source": [
    "with open(results_file, 'w') as json_file:\n",
    "    json.dump(results, json_file)"
   ]
  },
  {
   "cell_type": "code",
   "execution_count": 196,
   "metadata": {},
   "outputs": [],
   "source": [
    "with open(results_file, 'r', encoding='utf-8') as json_file:\n",
    "    results = json.load(json_file)"
   ]
  },
  {
   "cell_type": "code",
   "execution_count": 211,
   "metadata": {
    "scrolled": true
   },
   "outputs": [
    {
     "data": {
      "text/plain": [
       "[{'A1': \"I'm sorry about the weather, but you are on vacation!\",\n",
       "  'A2': \"I'm traveling as John Smith.\",\n",
       "  'B1': \"I believe that will be a one-way ticket for me, and I'll be traveling as John Smith.\",\n",
       "  'B2': \"I'd like to request a window seat if possible.\"},\n",
       " {'A1': \"I can recommend the city's website or contacting the local government office to find out more information on how to establish a city council in your area.\",\n",
       "  'A2': \"I was born in this city, so I've been working with the council for years.\",\n",
       "  'B1': \"I think it's really important for citizens to be involved in their local government, so if you're interested in making a difference, you could look into starting a petition or attending town hall meetings to voice your opinions and concerns.\",\n",
       "  'B2': \"I'd like to clarify what exactly the role entails and what kind of responsibilities come with being a member of the city council.\"},\n",
       " {'A1': \"I usually go to small shops and bakeries, they're really good and not too expensive.\",\n",
       "  'A2': \"I've been to a few places in the Latin Quarter, it's a great area for food and nightlife.\",\n",
       "  'B1': \"I've heard the original Home Improvement by Alain Ducasse and Le Grand Vefour, it's a classic French restaurant with an impressive history and beautiful interior.\",\n",
       "  'B2': \"I've always enjoyed trying out different types of French cuisine, but if I had to pick a favorite, it would be a traditional bistro like Le Comptoir du Relais or Chez L'Ami Jean.\"},\n",
       " {'A1': 'I\\'m not sure about the \"Grench\" field, but I think you meant to say \"French\".',\n",
       "  'A2': \"I'm not sure about the exact date of the first tour, but I think it was 1903 when the first modern version of the Tour de France was held.\",\n",
       "  'B1': \"A: Exactly! It's amazing how something that started so small can grow into such a massive event.\",\n",
       "  'B2': \"I think it's interesting to note that the course has changed quite a bit over the years, with new stages being added and old ones being dropped.\"},\n",
       " {'A1': \"I'm curious about the original recipe. Was it a secret or did they share it with others?\",\n",
       "  'A2': \"I'm curious, did John Pemberton create the original recipe for Coca-Cola, or was it already existing before he modified it?\",\n",
       "  'B1': \"I'm surprised that the original recipe is still a secret after all these years.\",\n",
       "  'B2': \"I think it's interesting that the company has been able to maintain its popularity over such a long period of time.\"},\n",
       " {'A1': \"I'm not sure about that. I think you'd get bored after a while, especially if you're on the road for long stretches at a time.\",\n",
       "  'A2': \"I think the job can be rewarding in many ways, but it's also physically demanding and requires a lot of time away from home.\",\n",
       "  'B1': \"I think it's not just about the money, but also the sense of fulfillment that comes from being able to provide an important service to people.\",\n",
       "  'B2': 'I would assume that most truckers actually enjoy what they do.'},\n",
       " {'A1': \"I'm not sure that's correct.\",\n",
       "  'A2': \"I'm not sure that's true about the button being illegal in Germany.\",\n",
       "  'B1': \"I think it's because Mark Zuckerberg is red-green colorblind\",\n",
       "  'B2': \"I think it's because the CEO, Mark Zuckerberg, has red-green color blindness, so he chose a color that he could see well.\"},\n",
       " {'A1': \"Here is the next turn from A's perspective:\\n\\nA: Ah, yes! To make this delicious Korean-style pancake, you'll need flour, water, eggs, salt, and scallions.\",\n",
       "  'A2': \"Here is a possible next turn for A:\\n\\nA: Ah, yes! The secret is in the combination of ingredients. First, you need to cook the pancakes until they're slightly crispy on the outside and fluffy on the inside.\",\n",
       "  'B1': 'Here is a possible next turn for A:\\n\\nA: Yes, of course! First, I toasted the sesame buns until they were lightly browned, then filled them with a mixture of scrambled eggs, diced scallions, and sliced cucumbers.',\n",
       "  'B2': \"Here is a possible next turn for A:\\n\\nA: Ah, yes! It's quite simple really. You just need to hollow out the inside of the scallion buns, then fill them with a mixture of ground pork, cabbage, and spices.\"},\n",
       " {'A1': \"Let's go over the menu for the main course, it's usually a good place to start.\",\n",
       "  'A2': \"Let's go through the basics of the computer program.\",\n",
       "  'B1': \"Let's start with the basics.\",\n",
       "  'B2': \"Let's start with the basics.\"},\n",
       " {'A1': 'But think about it, the light bulb is still a fundamental part of our daily lives.',\n",
       "  'A2': \"But that's exactly what I'm saying! Those inventors didn't have the same resources or knowledge as we do now, and yet they still managed to create something groundbreaking.\",\n",
       "  'B1': \"But think about it, if it weren't for those early inventors, we wouldn't have the technology we have today.\",\n",
       "  'B2': \"But that's exactly my point! Those people didn't have the same resources or knowledge we do now, so what they accomplished was truly remarkable.\"},\n",
       " {'A1': 'Can you accommodate a room with a king-size bed for me?',\n",
       "  'A2': 'Can you make sure the rooms are cleaned every day and provide breakfast at 7 am?',\n",
       "  'B1': 'Can we also get a room with a private balcony overlooking the ocean?',\n",
       "  'B2': 'Can we also get a view of the surrounding area from the balcony?'},\n",
       " {'A1': \"I'm sorry about the weather, but you're on vacation!\",\n",
       "  'A2': \"I'm not sure what kind of game you're playing, but I'm not interested in it.\",\n",
       "  'B1': \"I think we're just seeing things from different perspectives. Maybe I do have a few imperfections that are bothering me, but I'm not sure if they're worth going under the knife for.\",\n",
       "  'B2': \"I think I've been looking in the mirror too long. I'm starting to lose sight of what's really important.\"},\n",
       " {'A1': \"I'm really into playing the guitar and I've been trying to learn how to play the saxophone too, but it's harder than I thought!\",\n",
       "  'A2': \"I've been meaning to catch up on some old episodes, but I haven't had the time.\",\n",
       "  'B1': \"I've been meaning to get back into TV watching, but I just haven't had the time.\",\n",
       "  'B2': \"I've always thought he'd be a great fit for a role like that!\"},\n",
       " {'A1': \"I'm really into playing the old classic games like Final Fantasy and Chrono Trigger.\",\n",
       "  'A2': 'I haven\\'t been in a long time, but I\\'ve been thinking about getting back into it. I\\'ve heard good things about this new game \"Overwatch\" and I\\'ve seen some friends playing it online.',\n",
       "  'B1': \"I've been thinking about getting back into it, but I don't know what kind of games are popular nowadays.\",\n",
       "  'B2': \"I've been thinking about getting back into it lately, especially with all the new games coming out.\"},\n",
       " {'A1': \"I'm a big fan of the portability and ease of installation of above-ground pools.\",\n",
       "  'A2': \"I prefer an above-ground pool because it's easier to clean and maintain, plus it's less expensive to install and repair.\",\n",
       "  'B1': \"I think it's because with an above ground pool, you can see the water level and know exactly how much water is in there, whereas with an in-ground pool, you have to guess or measure it.\",\n",
       "  'B2': \"I think it's because I feel like I have more control over my own space when I'm in an above-ground pool.\"},\n",
       " {'A1': \"I'm not into collecting or growing my own moustache, but I do find it fascinating how different cultures have their own unique traditions and symbols of status or power.\",\n",
       "  'A2': \"I've traveled to some of those countries, and I've seen many impressive moustaches!\",\n",
       "  'B1': 'I\\'ve always been fascinated by the history behind those old-fashioned cups. I had no idea they were called \"moustache cups\"!',\n",
       "  'B2': \"I've always thought it was interesting how different cultures have their own unique customs and traditions.\"},\n",
       " {'A1': \"I'm not a big fan of fast food, I think it's great to have control over the ingredients and cooking process when making something like macaroni and cheese.\",\n",
       "  'A2': \"I've never had mac n' cheese at Burger King before! That sounds like an interesting twist.\",\n",
       "  'B1': \"I've never had that before! It sounds like a unique twist on traditional mac and cheese.\",\n",
       "  'B2': \"I've never tried deep-fried mac and cheese before! That sounds like an interesting twist.\"},\n",
       " {'A1': \"I'm sorry you're going through this. Maybe you should talk to him and explain the situation.\",\n",
       "  'A2': \"I'm really sorry that happened.\",\n",
       "  'B1': \"I think it's not fair that he's being so harsh on his first two times.\",\n",
       "  'B2': \"I think it's not fair that he threatened to fire you for something that wasn't your fault.\"},\n",
       " {'A1': \"I'm not sure what you're looking for, but I think our new leader is off to a great start.\",\n",
       "  'A2': 'I think we need to hold our elected officials accountable for making sure that this change is implemented effectively.',\n",
       "  'B1': \"I think we'll see a lot of progress in the coming years.\",\n",
       "  'B2': \"I think we're seeing a shift in leadership and a willingness to listen to others' perspectives, which is a great start.\"},\n",
       " {'A1': 'I think that is what made the film such a success is that they hit such a wide audience without overwhelming the viewer, probably why it did so well in the ratings!',\n",
       "  'A2': 'I think that is what made the film such a success is that they hit such a wide audience without overwhelming the viewer, probably why it did so well in the ratings!',\n",
       "  'B1': 'I think that is what made the film such a success is that they hit such a wide audience without overwhelming the viewer, probably why it did so well in the ratings!',\n",
       "  'B2': 'I think that is what made the film such a success is that they hit such a wide audience without overwhelming the viewer, probably why it did so well in the ratings!'},\n",
       " {'A1': 'Let me check on that.',\n",
       "  'A2': 'Let me check on that.',\n",
       "  'B1': 'Let me review the rules again.',\n",
       "  'B2': 'Let me just check on that for you, Mr. Schneider.'},\n",
       " {'A1': \"The Chitauri's sudden retreat and the subsequent destruction of their fleet by the combined might of the Avengers and the S.H.I.E.L.D. forces was a great payoff after all the build-up throughout the movie.\",\n",
       "  'A2': 'The aftermath of the battle was intense, and I loved how the team came together to take down the alien invasion.',\n",
       "  'B1': \"The way the team worked together was impressive, but I'm still worried about the world's future.\",\n",
       "  'B2': \"The way the Avengers came together in the heat of battle was truly inspiring, and it's amazing how much character development we got from each of them during that fight.\"},\n",
       " {'A1': \"I'm so sorry to be so bad with names, but I'm Alex.\",\n",
       "  'A2': 'I was just coming from the library and I saw the door to the classroom was open, but when I went inside, it was empty.',\n",
       "  'B1': '\"Hey, nice to see you again! I\\'ve been meaning to talk to you about that English project we have due soon. Do you know what it\\'s about yet?\"',\n",
       "  'B2': '\"Hey, yeah! We\\'re supposed to have that class right now, aren\\'t we? I think it\\'s room 204.\"'},\n",
       " {'A1': \"That's too bad about the weather.\",\n",
       "  'A2': \"That's true! I've heard that monkeys are quite fond of snacking on fruits and leaves while they're at the surface.\",\n",
       "  'B1': \"That's fascinating!\",\n",
       "  'B2': \"That's fascinating!\"},\n",
       " {'A1': \"I'm glad we're on the same page about the character of the planets!\",\n",
       "  'A2': \"I was going to say that I've been to a museum exhibit on the solar system and they had a model of Neptune's storm systems, which were really cool!\",\n",
       "  'B1': \"I think it's fascinating to learn about the unique features of each planet, but I'm also a bit concerned about the potential implications of having a planet with such extreme weather conditions.\",\n",
       "  'B2': \"I've always thought that if we could visit a planet with extreme weather conditions, it would be fascinating to see what kind of life forms could adapt to those environments.\"},\n",
       " {'A1': \"You're supposed to be at the park by now, and you're still stuck in traffic!\",\n",
       "  'A2': 'You missed the most important part of the instructions!',\n",
       "  'B1': 'You missed the point of the exercise entirely.',\n",
       "  'B2': \"You're supposed to provide the context for the conversation, but I'll assume it's a general conversation and not related to any specific topic.\"},\n",
       " {'A1': \"I'm not a music expert, but I do know that some people consider the guitar to be the most iconic instrument in rock music.\",\n",
       "  'A2': 'I\\'m not sure if you\\'re familiar with the fact that the album \"Toys in the Attic\" by Aerosmith is actually their most successful album in terms of sales.',\n",
       "  'B1': \"I think it's interesting how music trends change over time. I mean, back then, it was all about the raw energy and rebelliousness of punk and hip-hop, but nowadays it seems like people are more into nostalgia and retro vibes.\",\n",
       "  'B2': \"I think it's interesting how some bands can have such a huge impact on music, but then kind of fade away after a while. Like, Nirvana was huge in the 90s, but their music isn't really played much anymore.\"},\n",
       " {'A1': 'How about the park?',\n",
       "  'A2': 'How about we grab lunch at that new restaurant downtown?',\n",
       "  'B1': 'How about we check out that new arcade game that just opened up downtown?',\n",
       "  'B2': 'How about we check out that new movie that just came out?'},\n",
       " {'A1': \"I love Lenny's take on their music - it's all about the journey and the experience, not just the destination.\",\n",
       "  'A2': \"I love how they're able to create this sense of community and connection with their fans through their live performances.\",\n",
       "  'B1': \"I think it's amazing how they were able to stay together for so long and still have such a strong following.\",\n",
       "  'B2': \"I think it's amazing how the Grateful Dead has managed to stay relevant all these years, despite the fact that they disbanded after Jerry Garcia passed away.\"},\n",
       " {'A1': \"I'm not into movies, but I do love learning about history. I read a little bit about Black Monday and it was a big stock market crash on October 19, 1987. It was a global phenomenon and the Dow Jones Industrial Average dropped by over 22% in a single day.\",\n",
       "  'A2': 'I think I saw a documentary about it once. It was a big financial crisis where the stock market crashed on October 19th, 1987.',\n",
       "  'B1': 'I think it would be interesting to learn more about the actual events behind the movie.',\n",
       "  'B2': 'I think it would be interesting to learn more about the historical context behind the movie.'},\n",
       " {'A1': \"I'm not in a hurry, so I'll just take my time and enjoy the stroll.\",\n",
       "  'A2': \"I'd rather take a taxi, it's too far for me to walk with my luggage.\",\n",
       "  'B1': \"I think I'll be able to make it in time for my train if I hurry.\",\n",
       "  'B2': 'I think I can make it in time for my train if I hurry.'},\n",
       " {'A1': \"I'm not familiar with that product, can you tell me more about it?\",\n",
       "  'A2': \"I've traveled to many countries, but I've never seen a country that has a different name for this particular drink.\",\n",
       "  'B1': 'I\\'ve heard that in some countries, like Mexico, it\\'s also known as \"Limonada\" or \"Limon\".',\n",
       "  'B2': \"I've always been fascinated by the different ways that languages can shape our perceptions of the world.\"},\n",
       " {'A1': \"I'm not sure about the birth parents, but I do know that the adoptive parents are really happy to have a new addition to their family.\",\n",
       "  'A2': \"I'm sure it is.\",\n",
       "  'B1': \"I think the laws in our country are quite strict when it comes to the rights of the birth parents, but I'm not sure if that's necessarily a good thing.\",\n",
       "  'B2': \"I think it's not just the biological parents who have to deal with the emotional impact of adoption, but also the child themselves.\"},\n",
       " {'A1': \"I'm not too sure about that. I think he's more interested in sports than books.\",\n",
       "  'A2': 'I met his father at a conference last year.',\n",
       "  'B1': \"I think it's unlikely that he'll get into any of the top universities, though.\",\n",
       "  'B2': \"I think it's quite impressive that he's been accepted into the program without any prior experience.\"},\n",
       " {'A1': \"I'm a big fan of the classic round shape, but I also like the heart-shaped ones, especially around Valentine's Day.\",\n",
       "  'A2': 'I prefer classic, simple designs, but I also love the creative ones, like animal shapes or even a cute little hat.',\n",
       "  'B1': \"I'm surprised by how many different flavors and combinations there are out there. Sometimes I'll get a simple vanilla or chocolate, but other times I'll try something new like carrot cake or s'mores.\",\n",
       "  'B2': \"I think my favorite shape would be a heart-shaped one, it's perfect for any occasion and it's just so adorable!\"},\n",
       " {'A1': \"I'm not so sure about that. Maybe we should give him a call and ask him what's going on.\",\n",
       "  'A2': 'I was thinking maybe we could talk to him about this when he arrives.',\n",
       "  'B1': \"I think we're being too hard on him. Maybe he had an unusual night and just needed a little extra sleep.\",\n",
       "  'B2': \"I think we're being too hard on him. He's been under a lot of stress lately with work and personal issues, so maybe we should give him a break.\"},\n",
       " {'A1': \"I'm really into playing the piano and my older cats love listening to me play.\",\n",
       "  'A2': \"I'm a bit jealous, I've never seen a cat as affectionate as your kitten.\",\n",
       "  'B1': \"I'm amazed at how different the personalities are between generations.\",\n",
       "  'B2': \"I've been thinking about getting another one, but I'm not sure if I'm ready for the commitment.\"},\n",
       " {'A1': \"I'll check out the website, thanks for the tip!\",\n",
       "  'A2': \"I was born in 1984, so I'm pretty young!\",\n",
       "  'B1': \"I'll just watch it on the website, thanks for the tip!\",\n",
       "  'B2': \"I think I'll start with the first episode, which is available on the website.\"},\n",
       " {'A1': \"I'm really into the vintage shops in the city, they have some great pieces made from recycled materials or second-hand clothing.\",\n",
       "  'A2': \"I'm a bit torn about it. On one hand, I understand the appeal of wearing natural materials, but on the other hand, I don't want to support industries that harm animals.\",\n",
       "  'B1': 'I think there are some really beautiful and stylish pieces made from recycled or repurposed materials these days.',\n",
       "  'B2': \"I think it's a bit extreme to say you're never going to consider anything with animal products, but I do understand where you're coming from.\"},\n",
       " {'A1': \"I love that dark pastel pink sweater of his, it's so 60s!\",\n",
       "  'A2': \"I've been to the museum in New York City where they have a exhibit on the history of the Brooklyn Dodgers, which is one of my favorite baseball teams.\",\n",
       "  'B1': \"I think it's interesting that both actors have such different backgrounds, but they've both had successful careers.\",\n",
       "  'B2': \"I think it's interesting how both Michael Caine and Jon Hamm have had such successful careers despite their humble beginnings.\"},\n",
       " {'A1': \"I'll be happy to help you with that.\",\n",
       "  'A2': \"Here is a possible next turn for A:\\n\\nA: Of course, I'll get the form. But can I ask, do you think it's possible that the thief might still be around?\",\n",
       "  'B1': '\"I\\'ll get started on the form right away, but before you do that, can I ask if you\\'ve had any other reports of similar break-ins in the neighborhood recently?\"',\n",
       "  'B2': '\"Of course, officer. I\\'ll get right on that. And please, be careful when you\\'re looking around - I\\'m still shaken up about the whole thing.\"'},\n",
       " {'A1': \"I know, right? I hate that they didn't have them team up or something.\",\n",
       "  'A2': 'I was really disappointed with the movie. I think it was a waste of time and money.',\n",
       "  'B1': \"I think that's unrealistic. I don't believe Batman could ever actually kill Superman.\",\n",
       "  'B2': \"I think that's what makes it so awkward. It's not just that they're fighting each other, but that it's a brutal and violent fight.\"},\n",
       " {'A1': \"I'm sure you're very good at it!\",\n",
       "  'A2': \"I'm sure it's great to have a lot of friends!\",\n",
       "  'B1': \"I'm sure that's true!\",\n",
       "  'B2': \"I'm sure that's because of your friendly and approachable nature!\"},\n",
       " {'A1': \"I can recommend the Dresden Files, it's a great series!\",\n",
       "  'A2': \"I've been toying with the idea of starting a fantasy series myself, but I've been hesitant because I don't want to get lost in the sea of existing works. But maybe it's time to take the plunge!\",\n",
       "  'B1': 'I think the popularity of the series is a testament to its quality, not just quantity. If people are still devouring them after all these years, there must be something special about them.',\n",
       "  'B2': \"I've always been drawn to the idea of creating my own unique world with its own rules and mythology. Maybe I'll take some of your advice and start by building a world that's completely different from anything else out there.\"},\n",
       " {'A1': \"I'm glad to hear that. Can you walk me through your work experience?\",\n",
       "  'A2': \"I'd like to see your resume and cover letter, Mr. Zhang.\",\n",
       "  'B1': \"I'd like to review your resume and discuss your career goals.\",\n",
       "  'B2': \"I'd like to request a copy of your resume and any relevant certificates or references that you may have.\"},\n",
       " {'A1': \"I'm really into my piano.\",\n",
       "  'A2': \"I've been thinking about it a lot lately, and I'm still unsure. I'd love to start something, but I'm worried about the risks involved.\",\n",
       "  'B1': \"I've been thinking about it a lot, and I think I'll take the plunge too.\",\n",
       "  'B2': \"I've been thinking about it a lot lately, and I think I might be willing to take the risk.\"},\n",
       " {'A1': \"I'm glad you're interested in learning more about the history of pies!\",\n",
       "  'A2': \"I've traveled to many countries and tried different types of pies, but I've never seen a pie that was too sweet or too bland.\",\n",
       "  'B1': \"I think it's fascinating that they've been a part of our culture for so long.\",\n",
       "  'B2': \"I've always wondered how people used to make them without modern technology, like electric mixers and ovens.\"},\n",
       " {'A1': \"I'm not really interested in the new kid at school.\",\n",
       "  'A2': \"I've never seen him around here before either.\",\n",
       "  'B1': 'I think he might be a new kid in town.',\n",
       "  'B2': \"I've never seen him around here before.\"},\n",
       " {'A1': \"I'm not a big fan of the merchandise, but I do love the show itself. I think it's because the characters are all so well-written and relatable.\",\n",
       "  'A2': \"I'm not sure why they still keep going, but I guess it's because it's a classic.\",\n",
       "  'B1': \"I think it's crazy how popular it still is, especially among older people.\",\n",
       "  'B2': \"I've always loved how absurd and over-the-top the characters are, especially Mr. Krabs' obsession with money.\"},\n",
       " {'A1': \"The classic eggs benedict! It's a delicious dish that consists of poached eggs on top of toasted English muffins, topped with ham or Canadian bacon, and covered in hollandaise sauce.\",\n",
       "  'A2': 'The classic eggs benedict consists of poached eggs on top of toasted English muffins, topped with Canadian bacon and hollandaise sauce.',\n",
       "  'B1': 'The traditional way to make an eggs benedict is to poach an egg and place it on top of toasted English muffins, which are topped with ham or Canadian bacon, and then cover it with hollandaise sauce.',\n",
       "  'B2': 'The classic combination of ham, Canadian bacon, and poached eggs on top of toasted English muffins, all held together with a rich Hollandaise sauce.'},\n",
       " {'A1': \"It's a great start!\",\n",
       "  'A2': \"It's true, Jim. And it's not just about eating something, but also about eating the right things.\",\n",
       "  'B1': \"It's true, and it's not just about the quantity of food, but also the quality. You need to make sure you're getting a balanced diet with all the essential nutrients.\",\n",
       "  'B2': \"It's crucial to understand what kind of foods are best for you and your lifestyle.\"},\n",
       " {'A1': \"I'm not really sure, but I think it's because the acidity in the tomatoes helps break down the oily molecules in the skunk spray, making it easier to wash away.\",\n",
       "  'A2': \"I've been in the woods before and had a run-in with a skunk.\",\n",
       "  'B1': \"I think it's because the acidity in the tomatoes helps break down the oily molecules in the skunk scent, making it less potent.\",\n",
       "  'B2': \"I've heard it helps to neutralize the odor, but I'm not sure exactly why.\"},\n",
       " {'A1': 'I never really thought about it, but I guess it would be interesting to see how different cultures view hair length as a sign of beauty or masculinity/femininity.',\n",
       "  'A2': \"I've been to some countries where there are very specific rules about how much hair you can have on your head or face.\",\n",
       "  'B1': \"I think it's because of the social and cultural norms that vary from place to place.\",\n",
       "  'B2': \"I think it's fascinating how cultural norms and traditions can influence our physical appearance.\"},\n",
       " {'A1': 'I can recommend a good spot for each activity.',\n",
       "  'A2': \"I was born in California, near the coast, so I've always loved the beach.\",\n",
       "  'B1': \"I've always wanted to try my hand at surfing.\",\n",
       "  'B2': \"I've always wanted to try windsurfing.\"},\n",
       " {'A1': 'How about we go to that new Italian place downtown?',\n",
       "  'A2': 'How about we go to that new Italian place on Main Street?',\n",
       "  'B1': 'How about we try out that new Italian place downtown?',\n",
       "  'B2': 'How about we try that new Italian place downtown?'},\n",
       " {'A1': \"I'm glad you're interested!\",\n",
       "  'A2': \"I was going to continue explaining how the structure of molecules, but I see you're already getting into the fascinating world of biology!\",\n",
       "  'B1': \"I'm surprised you mentioned that!\",\n",
       "  'B2': \"I see what you're saying, but I think you're still thinking about the additive color model (RGB) where red, green, and blue combine to make all the colors.\"},\n",
       " {'A1': \"I'm a big fan of snorkeling too!\",\n",
       "  'A2': 'I was thinking about trying my hand at surfing when I went to Bali last year.',\n",
       "  'B1': \"I've always wanted to try snorkeling in the Great Barrier Reef, but I've heard it's quite crowded and touristy.\",\n",
       "  'B2': \"I've always wanted to try snorkeling in Bali, what was your favorite spot?\"},\n",
       " {'A1': \"I'll buy some eggs, a loaf of bread, and a bottle of orange juice.\",\n",
       "  'A2': \"I'd like to add some vegetables to that.\",\n",
       "  'B1': \"I'd like to buy a loaf of whole wheat bread and a dozen eggs, please.\",\n",
       "  'B2': \"I'd like to buy a small container of ketchup as well.\"},\n",
       " {'A1': \"I'm not sure about the temperature, but I think it's cool how many people are interested in learning new things!\",\n",
       "  'A2': \"I've traveled to many countries, but I've never seen a country with such a high crime rate as South Africa.\",\n",
       "  'B1': \"I think it's crazy how many different types of cars there are now, but I'm amazed at how quickly technology has changed our lives.\",\n",
       "  'B2': 'I would totally do that!!'},\n",
       " {'A1': \"I like that dark view of the past. It makes me think about how we're doomed to repeat our mistakes over and over again.\",\n",
       "  'A2': \"I've seen this play out before in different ways.\",\n",
       "  'B1': \"I think it's a bit pessimistic to believe that we're doomed to repeat the same mistakes over and over again.\",\n",
       "  'B2': \"I think it's a bit like learning to ride a bike.\"},\n",
       " {'A1': \"I'm not sure about the special drugs, but I think it's more likely that they were just really passionate about their music and had a strong work ethic.\",\n",
       "  'A2': \"I'm not sure about that, but it's true that they were incredibly prolific and energetic.\",\n",
       "  'B1': \"I think it's just a testament to their music and popularity.\",\n",
       "  'B2': \"I think it's more about their passion and dedication to their music!\"},\n",
       " {'A1': 'We would like to change the logo from a globe to a more modern design and also rephrase the tagline to make it more concise and clear.',\n",
       "  'A2': 'We would like to see the country and city names written in English on the packaging, as well as the ingredients list and instructions for use.',\n",
       "  'B1': \"We would like to change the color scheme and font style to better match our company's brand identity.\",\n",
       "  'B2': 'We would like to see the text in English and also have the product name translated into the local language, as well as the ingredients listed in both languages.'},\n",
       " {'A1': \"I'm not sure, I think around 2000 or 2001.\",\n",
       "  'A2': 'I think the last one was in 2011',\n",
       "  'B1': 'I think the next five years will be quite challenging for George R. R. Martin, as he has already announced that the final two books will be even longer than the previous ones.',\n",
       "  'B2': 'The last one was published in 2011'},\n",
       " {'A1': \"I'm really into playing the drums and I'm pretty good at it too.\",\n",
       "  'A2': 'I had no idea he was a real-life stripper!',\n",
       "  'B1': \"I think it's interesting how actors' lives can sometimes influence their roles, don't you?\",\n",
       "  'B2': \"I've always thought he did a great job in those movies, especially considering he was playing a character who was so different from himself.\"},\n",
       " {'A1': \"I'm really into playing the piano, but I don't know how to play the piano.\",\n",
       "  'A2': 'I was bored out of my mind.',\n",
       "  'B1': 'I thought it was overhyped and the plot was too confusing.',\n",
       "  'B2': 'I thought it was overhyped and the plot was all over the place.'},\n",
       " {'A1': \"I'm not familiar with the process of using traveler's checks anymore. They're not as popular as they used to be.\",\n",
       "  'A2': \"I'm planning to do the same thing.\",\n",
       "  'B1': \"I think it's always better to have some local currency for small purchases or in case of an emergency.\",\n",
       "  'B2': \"I think it's still a bit tricky to find a suitable bank to cash the checks, especially if they're not from a well-known bank or financial institution.\"},\n",
       " {'A1': \"I'm actually working on a project to increase diversity in my city's government, focusing on getting more women and minorities involved in local politics.\",\n",
       "  'A2': \"I'm a bit surprised by that, but it's true that my city has a long history of corruption and cronyism, which can make it difficult for outsiders to break into the system.\",\n",
       "  'B1': \"I think it's surprising that my state has never had a female governor, especially considering how many other states have had successful female governors.\",\n",
       "  'B2': \"I think it's quite ironic that my own state, which is known for its progressive values, has never had a female governor.\"},\n",
       " {'A1': \"I'm really into learning about history and technology, I read an article once about the first transatlantic telegraph cable and how it was laid across the ocean floor.\",\n",
       "  'A2': \"I think it's true, I've seen documentaries about those underwater cables and how they're vulnerable to damage from fishing nets and other human activities.\",\n",
       "  'B1': '\"Ya, I\\'ve heard that too, it\\'s crazy to think about all the important infrastructure that\\'s just sitting on the ocean floor. I wonder what would happen if something happened to those cables.',\n",
       "  'B2': '\"Ya, that\\'s true, I\\'ve heard about those underwater cables. I wonder what would happen if they were to get damaged or cut off. Do you think it would cause a major disruption to our communication systems?\"'},\n",
       " {'A1': \"I never thought about that. Do you think it would make a difference in how you're perceived by your parents or even your own sense of identity?\",\n",
       "  'A2': \"I've never thought about it, but I guess it would be interesting to see how the dynamic changes between the biological and non-biological relationships in a family.\",\n",
       "  'B1': \"I think it's interesting that people often assume that only children are spoiled or entitled because of their upbringing, but I've met plenty of successful and down-to-earth people who were raised as only children.\",\n",
       "  'B2': \"I think it's interesting how our roles in the family dynamic change as we grow older.\"},\n",
       " {'A1': \"I'm sorry about the weather, but you're on vacation!\",\n",
       "  'A2': \"I'm planning to be back on Tuesday night, so I'll make sure to give you a call and we can catch up then.\",\n",
       "  'B1': \"I'm optimistic about it.\",\n",
       "  'B2': 'I should be able to make it next Wednesday evening.'},\n",
       " {'A1': \"A: That's right!\",\n",
       "  'A2': \"A: That's correct!\",\n",
       "  'B1': 'A:...that are best adapted to their environment have a greater chance of surviving and reproducing, which allows them to pass on their advantageous traits to their offspring.',\n",
       "  'B2': \"A: That's what I said!\"},\n",
       " {'A1': 'I\\'m not into the whole \"superhero\" thing',\n",
       "  'A2': 'I was expecting a big battle with General Zod',\n",
       "  'B1': 'I feel like there are too many superhero movies nowadays',\n",
       "  'B2': 'I think we all have our own opinions on what makes a good superhero movie.'},\n",
       " {'A1': \"I'm a big fan of Bill Nye!\",\n",
       "  'A2': \"I'm a big fan of Bill Nye!\",\n",
       "  'B1': \"I think it's fascinating how technology can have such a wide range of applications. The development of Wi-Fi is a great example of that.\",\n",
       "  'B2': \"I think it's fascinating how technology has evolved from its roots in scientific research. The fact that Wi-Fi was developed as a byproduct of research for astronomy is amazing.\"},\n",
       " {'A1': \"That's a great question!\",\n",
       "  'A2': 'A: Ah, good question! The monkeys here are very friendly and they help us take care of the trees.',\n",
       "  'B1': 'A: Well, the farmers who grow the green apples use natural methods to keep the pests away, like introducing beneficial insects or spraying them with soapy water.',\n",
       "  'B2': 'A: Well, the farmers who grow these green apples use natural methods to keep the pests away, like attracting beneficial insects or using physical barriers.'},\n",
       " {'A1': 'I think you should buy the purple top, it looks great with your eyes.',\n",
       "  'A2': \"I think it's interesting how they've managed to rebrand themselves as the party of small government when in reality they're just trying to protect the interests of the wealthy and powerful.\",\n",
       "  'B1': \"I think it's interesting how they've changed over time. It's almost like they're trying to appeal to a different demographic.\",\n",
       "  'B2': \"I think it's interesting how the two parties have flipped since then. The Democrats used to be more conservative and the Republicans were more liberal.\"},\n",
       " {'A1': \"I'm a big fan of classical music, there's something about the harmonies and the way the music can evoke emotions that really resonates with me.\",\n",
       "  'A2': \"I've been to some amazing concerts where the conductor was so charismatic and the music was incredible.\",\n",
       "  'B1': \"I think it's not just about the singer's voice, but also the music itself.\",\n",
       "  'B2': \"I've always thought that a good leader can make or break a choir's performance.\"},\n",
       " {'A1': \"That's really cool!\",\n",
       "  'A2': \"That's really cool!\",\n",
       "  'B1': \"That's fascinating!\",\n",
       "  'B2': \"That's fascinating!\"},\n",
       " {'A1': \"I'm sorry, but the weather is terrible and we're on a vacation.\",\n",
       "  'A2': \"I'm happy to help.\",\n",
       "  'B1': \"I'll take it.\",\n",
       "  'B2': '\"Ah, yes, I\\'ll take it.\"'},\n",
       " {'A1': \"I think you're on the right track, but there are some more specific criteria that can help define a rural area.\",\n",
       "  'A2': 'I was born in a small town, but I moved to the countryside when I was young.',\n",
       "  'B1': 'I think there are different ways to define rural, but generally it refers to areas with lower population densities compared to urban areas.',\n",
       "  'B2': \"I think there are some nuances to defining what makes an area 'rural'. For me, it's not just about the distance from a city or town, but also the landscape, economy, and culture of the area.\"},\n",
       " {'A1': \"I'm sorry, but we really need the 1500 units on the 31st. Can we discuss some alternative delivery dates or arrangements?\",\n",
       "  'A2': \"I'm not sure that will work for us.\",\n",
       "  'B1': \"I understand your concerns, but we've already signed the contract with that amount.\",\n",
       "  'B2': 'I understand your concerns, but we really need to get this project moving quickly. Can we try to make it work with the original plan and see if we can adjust our production schedule to accommodate the 1500 units?'},\n",
       " {'A1': \"I'm not sure what you're looking for, but our white sneakers are only 50 dollars and they're really comfortable.\",\n",
       "  'A2': 'I\\'m not sure what you mean by \"restart\" the system.',\n",
       "  'B1': \"I'm surprised by how many people have been complaining about the cleanliness of the dorms, considering that I've been taking care of my own space.\",\n",
       "  'B2': \"I've been thinking about that too, and I think it would be really helpful if we could get more frequent check-ins from the management team.\"},\n",
       " {'A1': \"I share your concerns about the lack of substance in their recent statements. It seems like they're trying to create a false narrative to distract from the real issues at hand.\",\n",
       "  'A2': \"I'm a bit skeptical about the whole thing. It seems like a PR stunt to me.\",\n",
       "  'B1': \"I agree that the talks were vague and lacked concrete details on how to verify North Korea's denuclearization.\",\n",
       "  'B2': \"I agree that the meeting was quite ambiguous and didn't provide any concrete solutions to the issue.\"},\n",
       " {'A1': \"It's also a great way to improve your overall fitness and cardiovascular health, and it can be done by people of all ages and skill levels.\",\n",
       "  'A2': \"It's an excellent way to improve cardiovascular health, build endurance, and strengthen muscles without putting excessive strain on joints.\",\n",
       "  'B1': \"It's also an excellent way to improve your overall fitness level, as it works multiple muscle groups at once.\",\n",
       "  'B2': \"It's also an excellent way to improve cardiovascular health, build muscle strength and endurance, and even help with weight management.\"},\n",
       " {'A1': 'I can\\'t play a game of \"Rambo\" with you.',\n",
       "  'A2': 'I cannot provide a response that promotes the use of illegal activities such as handling weapons without proper training and supervision.',\n",
       "  'B1': 'I cannot provide a response that promotes or encourages unsafe or illegal activities, such as using a rocket launcher or anti-tank missile.',\n",
       "  'B2': 'I cannot provide a response that promotes or encourages illegal activities, such as handling firearms without proper training or supervision.'},\n",
       " {'A1': \"But I think you're underestimating the power of dedication and hard work.\",\n",
       "  'A2': \"But that's not entirely true.\",\n",
       "  'B1': 'But what about all the people who have improved their skills and knowledge through education and hard work?',\n",
       "  'B2': \"But what about people who are naturally more curious and driven? Don't they have an advantage when it comes to developing their skills and abilities?\"},\n",
       " {'A1': 'I love the winter festivals in Europe, especially in Germany and Austria.',\n",
       "  'A2': 'I love traveling too!',\n",
       "  'B1': \"I think it's just a bad game, maybe they were having an off day.\",\n",
       "  'B2': \"I think it's not just about having a bad day or a bad season, but a bad system.\"},\n",
       " {'A1': 'The new reports from our teams indicate that the current body count is over 10,000 and the number is expected to rise as more people are being pulled from the rubble.',\n",
       "  'A2': 'The situation is getting more complex by the hour.',\n",
       "  'B1': 'The earthquake in Iran is just one of the many disasters that have struck the region recently.',\n",
       "  'B2': \"The latest reports indicate that the new earthquake in Iran has caused significant damage and casualties, and it's likely that more aid will be needed to support the affected areas.\"},\n",
       " {'A1': 'The city of Tokyo is just so busy and vibrant, but in a good way.',\n",
       "  'A2': 'The first city I went to was Paris.',\n",
       "  'B1': 'The first two cities I visited were Tokyo and Kyoto.',\n",
       "  'B2': 'The first city I visited was Tokyo.'},\n",
       " {'A1': \"I'm really looking forward to that!\",\n",
       "  'A2': \"I was thinking of taking Goldie to the beach with me when I'm on my summer holidays.\",\n",
       "  'B1': \"I think it's great that they're getting along so well, and I'm sure they'll be happy together.\",\n",
       "  'B2': \"I think it's great that you've got such a lovely place to live, with all those beautiful coastal walks and the sea right on your doorstep.\"},\n",
       " {'A1': \"I'll be 20 minutes late, so can we start at 7:30?\",\n",
       "  'A2': \"I'll bring my favorite music and we can make it a dance party!\",\n",
       "  'B1': \"I'll just join you for a bit, but don't expect me to keep up with your singing!\",\n",
       "  'B2': \"I'd be happy to join you!\"},\n",
       " {'A1': \"I'm not familiar with this brand, can you tell me more about it?\",\n",
       "  'A2': \"I'm not familiar with this brand.\",\n",
       "  'B1': \"I think that's a bit of a misunderstanding!\",\n",
       "  'B2': \"I think I've found something that suits your taste.\"},\n",
       " {'A1': \"The Bearer's Certificate has a higher minimum investment requirement, which is 50,000 RIB, but the interest rate is higher, at 4.5%.\",\n",
       "  'A2': \"The Bearer Certificates are similar to the Treasury Certificates, but they're not registered in your name.\",\n",
       "  'B1': 'The interest rate for Bearer Certificates is slightly higher than that of the Treasury Certificates.',\n",
       "  'B2': 'The Bearer Certificate is for a term deposit with a fixed interest rate.'},\n",
       " {'A1': \"That's a great point about the pitch adjustment feature in many karaoke machines.\",\n",
       "  'A2': 'That\\'s true, but I think it\\'s interesting to note that the first commercial use of the term \"karaoke\" was in Japan in the 1980s.',\n",
       "  'B1': \"That's true, and it's amazing how much the music industry has changed since then.\",\n",
       "  'B2': \"That's an interesting point about the technology changing the pitch of the song.\"},\n",
       " {'A1': \"I'm not sure about that one. The Purple top is a nice idea\",\n",
       "  'A2': 'I was born in 1990.',\n",
       "  'B1': \"I think that's interesting!\",\n",
       "  'B2': 'I think that was a bit of a challenge!'},\n",
       " {'A1': \"I'm from Shreveport, but I'm actually in Baton Rouge right now.\",\n",
       "  'A2': \"I'm a big fan of history, so I'd love to hear more about the origins of your city and its culture.\",\n",
       "  'B1': \"I'm surprised by how many different types of soup they had back then!\",\n",
       "  'B2': \"I've always been fascinated by the history behind our cuisine. I've never thought about the connection between the Choctaws and gumbo before.\"},\n",
       " {'A1': \"I'm pretty sure they only have one bassist at a time, so it would be either Cliff Burton or Jason Newsted before Robert Trujillo.\",\n",
       "  'A2': 'I think they met through a mutual friend, Brian Slagel, who was the owner of Metal Blade Records.',\n",
       "  'B1': 'I think they met through a mutual friend, and it was a chance encounter that led to the formation of the band.',\n",
       "  'B2': \"I think it's likely that they met through mutual friends or at a party, but I'm not entirely sure.\"},\n",
       " {'A1': \"I'm a big fan of The Office, but I also enjoy watching some documentaries and cooking shows.\",\n",
       "  'A2': \"I've been meaning to get into it, but I'm really busy these days.\",\n",
       "  'B1': \"I've been meaning to start watching it, but I'm really busy with work and haven't had a chance yet.\",\n",
       "  'B2': \"I've been meaning to get into it, but I've always heard great things about The Office.\"},\n",
       " {'A1': \"I'm a big fan of TV shows, but I prefer watching documentaries or cooking shows.\",\n",
       "  'A2': \"I'm a bit of a movie buff, so I've seen most of the popular TV shows.\",\n",
       "  'B1': \"I'm not really a TV person, but I do like watching documentaries, especially ones about history or science.\",\n",
       "  'B2': \"I've always loved his acting skills, but I'm not sure I'd want to be stuck in a small room with him for hours on end.\"},\n",
       " {'A1': \"I'm actually working on a new recipe for a vegan lasagna that I think she'll love.\",\n",
       "  'A2': \"I love playing with my sister and trying out new recipes together. We're actually making a big pot of lentil soup for dinner tonight, and I'm excited to see how it turns out!\",\n",
       "  'B1': 'I think she really loves a good veggie stir-fry with tofu and brown rice.',\n",
       "  'B2': 'I think she really enjoys her daily smoothies and salads with avocado and quinoa.'},\n",
       " {'A1': \"I'm a big fan of Barcelona, their style of play is so entertaining to watch.\",\n",
       "  'A2': \"I've been to several European cities, including London, Paris, and Barcelona, and I've seen the passion for football firsthand.\",\n",
       "  'B1': \"I think it's hard to predict who will win the next World Cup, but I'd love to see a rematch between France and Argentina from the last tournament.\",\n",
       "  'B2': \"I think it's tough to argue with the success of the Spanish national team in recent years, they've won two World Cups and four European Championships since 2008.\"}]"
      ]
     },
     "execution_count": 211,
     "metadata": {},
     "output_type": "execute_result"
    }
   ],
   "source": [
    "results"
   ]
  },
  {
   "cell_type": "code",
   "execution_count": 197,
   "metadata": {},
   "outputs": [
    {
     "data": {
      "application/vnd.jupyter.widget-view+json": {
       "model_id": "3f62dba223f647738d4e1a1aa2196797",
       "version_major": 2,
       "version_minor": 0
      },
      "text/plain": [
       "  0%|          | 0/100 [00:00<?, ?it/s]"
      ]
     },
     "metadata": {},
     "output_type": "display_data"
    }
   ],
   "source": [
    "ppl = {lvl: {item_lvl: [] for item_lvl in lvl_models.keys()} for lvl in lvl_models.keys()}\n",
    "\n",
    "for result in tqdm(results):\n",
    "    for lvl in lvl_models.keys():\n",
    "        cefr_model.set_adapter(lvl)\n",
    "        with models.torch.no_grad():\n",
    "            for item_lvl, item in result.items():\n",
    "                model_input = tokenizer(item, return_tensors=\"pt\").to(models.device)\n",
    "                outputs = cefr_model(**model_input, labels=model_input.input_ids)\n",
    "                ppl[lvl][item_lvl].append(outputs.loss.item())"
   ]
  },
  {
   "cell_type": "code",
   "execution_count": 205,
   "metadata": {},
   "outputs": [
    {
     "data": {
      "text/html": [
       "<div>\n",
       "<style scoped>\n",
       "    .dataframe tbody tr th:only-of-type {\n",
       "        vertical-align: middle;\n",
       "    }\n",
       "\n",
       "    .dataframe tbody tr th {\n",
       "        vertical-align: top;\n",
       "    }\n",
       "\n",
       "    .dataframe thead th {\n",
       "        text-align: right;\n",
       "    }\n",
       "</style>\n",
       "<table border=\"1\" class=\"dataframe\">\n",
       "  <thead>\n",
       "    <tr style=\"text-align: right;\">\n",
       "      <th></th>\n",
       "      <th>A1</th>\n",
       "      <th>A2</th>\n",
       "      <th>B1</th>\n",
       "      <th>B2</th>\n",
       "    </tr>\n",
       "  </thead>\n",
       "  <tbody>\n",
       "    <tr>\n",
       "      <th>A1</th>\n",
       "      <td>2.780633</td>\n",
       "      <td>3.082479</td>\n",
       "      <td>3.026082</td>\n",
       "      <td>3.020407</td>\n",
       "    </tr>\n",
       "    <tr>\n",
       "      <th>A2</th>\n",
       "      <td>3.234214</td>\n",
       "      <td>2.933963</td>\n",
       "      <td>3.016983</td>\n",
       "      <td>3.048107</td>\n",
       "    </tr>\n",
       "    <tr>\n",
       "      <th>B1</th>\n",
       "      <td>3.284393</td>\n",
       "      <td>3.215929</td>\n",
       "      <td>2.826192</td>\n",
       "      <td>2.997070</td>\n",
       "    </tr>\n",
       "    <tr>\n",
       "      <th>B2</th>\n",
       "      <td>3.247457</td>\n",
       "      <td>3.196983</td>\n",
       "      <td>3.011406</td>\n",
       "      <td>2.826337</td>\n",
       "    </tr>\n",
       "  </tbody>\n",
       "</table>\n",
       "</div>"
      ],
      "text/plain": [
       "          A1        A2        B1        B2\n",
       "A1  2.780633  3.082479  3.026082  3.020407\n",
       "A2  3.234214  2.933963  3.016983  3.048107\n",
       "B1  3.284393  3.215929  2.826192  2.997070\n",
       "B2  3.247457  3.196983  3.011406  2.826337"
      ]
     },
     "execution_count": 205,
     "metadata": {},
     "output_type": "execute_result"
    }
   ],
   "source": [
    "df = pd.DataFrame(ppl).applymap(np.mean)\n",
    "df"
   ]
  },
  {
   "cell_type": "code",
   "execution_count": 210,
   "metadata": {},
   "outputs": [
    {
     "data": {
      "text/plain": [
       "<Axes: >"
      ]
     },
     "execution_count": 210,
     "metadata": {},
     "output_type": "execute_result"
    },
    {
     "data": {
      "image/png": "[encoded data removed]",
      "text/plain": [
       "<Figure size 640x480 with 1 Axes>"
      ]
     },
     "metadata": {},
     "output_type": "display_data"
    }
   ],
   "source": [
    "df.transpose().plot.bar(ylim=(2.5, 3.5))"
   ]
  },
  {
   "cell_type": "code",
   "execution_count": null,
   "metadata": {},
   "outputs": [],
   "source": []
  }
 ],
 "metadata": {
  "kernelspec": {
   "display_name": "Python (gctg)",
   "language": "python",
   "name": "gctg"
  },
  "language_info": {
   "codemirror_mode": {
    "name": "ipython",
    "version": 3
   },
   "file_extension": ".py",
   "mimetype": "text/x-python",
   "name": "python",
   "nbconvert_exporter": "python",
   "pygments_lexer": "ipython3",
   "version": "3.11.6"
  }
 },
 "nbformat": 4,
 "nbformat_minor": 4
}
