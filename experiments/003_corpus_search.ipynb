{
 "cells": [
  {
   "cell_type": "markdown",
   "metadata": {},
   "source": [
    "# Exp003: Search for constituents in Corpora"
   ]
  },
  {
   "cell_type": "code",
   "execution_count": 2,
   "metadata": {},
   "outputs": [],
   "source": [
    "import pytorch\n",
    "import nltk\n",
    "import benepar"
   ]
  },
  {
   "cell_type": "markdown",
   "metadata": {},
   "source": [
    "Download the Brown Corpus that contains parsed English sentences."
   ]
  },
  {
   "cell_type": "code",
   "execution_count": 3,
   "metadata": {},
   "outputs": [
    {
     "name": "stderr",
     "output_type": "stream",
     "text": [
      "[nltk_data] Downloading package brown to /Users/dglandorf/nltk_data...\n",
      "[nltk_data]   Package brown is already up-to-date!\n",
      "[nltk_data] Downloading package universal_tagset to\n",
      "[nltk_data]     /Users/dglandorf/nltk_data...\n",
      "[nltk_data]   Package universal_tagset is already up-to-date!\n"
     ]
    },
    {
     "data": {
      "text/plain": [
       "True"
      ]
     },
     "execution_count": 3,
     "metadata": {},
     "output_type": "execute_result"
    }
   ],
   "source": [
    "from nltk.corpus import brown\n",
    "nltk.download('brown')\n",
    "nltk.download('universal_tagset')"
   ]
  },
  {
   "cell_type": "markdown",
   "metadata": {},
   "source": [
    "Download the Berkeley Neural Parser"
   ]
  },
  {
   "cell_type": "code",
   "execution_count": 4,
   "metadata": {},
   "outputs": [
    {
     "name": "stderr",
     "output_type": "stream",
     "text": [
      "[nltk_data] Downloading package benepar_en3 to\n",
      "[nltk_data]     /Users/dglandorf/nltk_data...\n",
      "[nltk_data]   Unzipping models/benepar_en3.zip.\n",
      "/Users/dglandorf/opt/miniconda3/envs/gctg/lib/python3.10/site-packages/tqdm/auto.py:21: TqdmWarning: IProgress not found. Please update jupyter and ipywidgets. See https://ipywidgets.readthedocs.io/en/stable/user_install.html\n",
      "  from .autonotebook import tqdm as notebook_tqdm\n",
      "You are using the default legacy behaviour of the <class 'transformers.models.t5.tokenization_t5.T5Tokenizer'>. This is expected, and simply means that the `legacy` (previous) behavior will be used so nothing changes for you. If you want to use the new behaviour, set `legacy=False`. This should only be set if you understand what it means, and thoroughly read the reason why this was added as explained in https://github.com/huggingface/transformers/pull/24565\n"
     ]
    }
   ],
   "source": [
    "benepar.download('benepar_en3')\n",
    "parser = benepar.Parser(\"benepar_en3\")"
   ]
  },
  {
   "cell_type": "markdown",
   "metadata": {},
   "source": [
    "Define a function to parse sentences with the Berkeley Neural Parser"
   ]
  },
  {
   "cell_type": "code",
   "execution_count": 5,
   "metadata": {},
   "outputs": [],
   "source": [
    "def parse_sentence(words, tags):\n",
    "    \"\"\"\n",
    "    Parses a sentence using the given words and tags.\n",
    "\n",
    "    Args:\n",
    "        words (list): A list of words in the sentence.\n",
    "        tags (list): A list of tags corresponding to each word.\n",
    "\n",
    "    Returns:\n",
    "        object: The parsed sentence object.\n",
    "\n",
    "    \"\"\"\n",
    "    input_sentence = benepar.InputSentence(\n",
    "        words=words,\n",
    "        space_after=[True] * len(words),  # Assuming space after each word\n",
    "        tags=tags,\n",
    "        escaped_words=words\n",
    "    )\n",
    "    return parser.parse(input_sentence)"
   ]
  },
  {
   "cell_type": "markdown",
   "metadata": {},
   "source": [
    "Define search patterns"
   ]
  },
  {
   "cell_type": "code",
   "execution_count": 55,
   "metadata": {},
   "outputs": [],
   "source": [
    "def search_adj_list(tree):\n",
    "    \"\"\"\n",
    "    Searches for a subtree in the given tree that represents an adjective phrase (ADJP)\n",
    "    with at least two adjective (JJ) nodes and at least one comma (,) node.\n",
    "\n",
    "    Args:\n",
    "        tree (Tree): The tree to search in.\n",
    "\n",
    "    Returns:\n",
    "        bool: True if a matching subtree is found, False otherwise.\n",
    "    \"\"\"\n",
    "    for subtree in tree.subtrees():\n",
    "        if subtree.label() == 'ADJP':\n",
    "            jj_count = 0\n",
    "            comma_count = 0\n",
    "            for node in subtree:\n",
    "                if node.label() == 'JJ':\n",
    "                    jj_count += 1\n",
    "                elif node.label() == ',':\n",
    "                    comma_count += 1\n",
    "\n",
    "            if jj_count >= 2 and comma_count >= 1:\n",
    "                return True\n",
    "    return False"
   ]
  },
  {
   "cell_type": "code",
   "execution_count": 66,
   "metadata": {},
   "outputs": [],
   "source": [
    "def find_adj_before_noun(tree, adjectives):\n",
    "    \"\"\"\n",
    "    Finds adjectives that appear before a noun in a given tree.\n",
    "\n",
    "    Parameters:\n",
    "    - tree (nltk.tree.Tree): The tree to search for adjectives and nouns.\n",
    "    - adjectives (list): A list of adjectives to search for.\n",
    "\n",
    "    Returns:\n",
    "    - matches (list): A list of tuples containing the adjective and the noun it appears before.\n",
    "    \"\"\"\n",
    "    matches = []\n",
    "    for subtree in tree.subtrees(lambda t: t.label() == 'NP'):  # Looking within Noun Phrases\n",
    "        \n",
    "        for i in range(len(subtree) - 1):  # Iterate over elements in the NP, stopping one short of the end\n",
    "            current_node = subtree[i]\n",
    "            next_node = subtree[i + 1]\n",
    "            # Check if the current node is one of the specified adjectives and the next node is a noun\n",
    "            if current_node.label() == 'JJ' and current_node[0] in adjectives \\\n",
    "               and next_node.label().startswith('NN'):\n",
    "                matches.append((current_node[0], ' '.join(next_node.leaves())))\n",
    "    return matches"
   ]
  },
  {
   "cell_type": "markdown",
   "metadata": {},
   "source": [
    "Iterate over the corpus and apply the pattern."
   ]
  },
  {
   "cell_type": "code",
   "execution_count": 68,
   "metadata": {},
   "outputs": [
    {
     "name": "stdout",
     "output_type": "stream",
     "text": [
      "Adjective list pattern in sentence: The Soviet Union and other members of the Communist bloc are rapidly expanding their economic , technical and military assistance to the uncommitted nations .\n",
      "Adjective list pattern in sentence: Proceeds will be used by the section to further its program in science , education and social action on local , national and international levels .\n",
      "Adjective list pattern in sentence: a collection of English , French and German coins , valued at $500 ; ;\n",
      "Adjective list pattern in sentence: Though there has been some avant garde indication that contemporary furniture might go back to the boxy look of the '20's and '40's , two manufacturers chose to take the approach of the sophisticated , but warm look in contemporary .\n",
      "Adjective list pattern in sentence: Colorful , bright Eastman Chromspun fabrics , with the magenta , pink and white tones predominating as well as golden shades are used with Composite .\n",
      "Adjective list pattern in sentence: I am prepared to demonstrate at anytime that it represents the spirit of Imperial Russia in its most vulgar , infantile , and reactionary aspect ; ;\n",
      "Adjective list pattern in sentence: Alla Sizova , who seems to have made a special hit in the East , was delightful as the lady Bluebird and her partner , Yuri Soloviev , was wonderfully virile , acrobatic , and poetic all at the same time , in a tradition not unlike that of Nijinsky .\n",
      "Adjective list pattern in sentence: `` This is a long picture and a controversial one , but basically it is a moral , enthralling and heartbreaking description of humans who have become unlinked from life as perhaps Rome has from her traditional political , cultural and religious glories '' .\n",
      "Adjective list pattern in sentence: At 4 p.m. the President left the White House to welcome the young musicians , students from the ages of 12 to 18 who spend six weeks at the Brevard Music Center summer camp , and to greet the 325 crippled , cardiac and blind children from the District area who were special guests at the concert .\n",
      "Adjective list pattern in sentence: Each of the children invited to the concert wore a name tag marked with a red , white and blue ribbon .\n",
      "Adjective list pattern in sentence: But he was convinced that the realities of power -- military , economic and ideological -- were the decisive factors in the struggle with the Communists and that these could not be talked away at a heads of government meeting .\n",
      "Adjective list pattern in sentence: The Vienna meeting will bring together a seasoned , 67-year-old veteran of the cold war who , in Mr. Kennedy's own words , is `` shrewd , tough , vigorous , well-informed and confident '' , and a 44-year-old President ( his birthday is May 29 ) with a demonstrated capacity for political battle but little experience in international diplomacy .\n",
      "Adj/noun pattern in sentence: In itself there is nothing wrong with this form of `` participation '' : the only difficulty on the Catholic campus is that those faculty members who are in a position to implement policy , i.e. , members of the religious community which owns and administers the institution , have their own eating arrangements .\n",
      "Adjective list pattern in sentence: Political , economic and military experts were all agreed that chaotic , mountainous little Laos was the last place in the world to fight a war -- and they were probably right .\n",
      "Adjective list pattern in sentence: In the interim between now and next year , we trust the House and Senate will put their minds to studying Georgia's very real economic , fiscal and social problems and come up with answers without all the political heroics .\n",
      "Adjective list pattern in sentence: It was not a part of any one of the three ( later four ) zones for occupation by Soviet , American , British , and French troops respectively .\n",
      "Adjective list pattern in sentence: This year's Senate measure would provide each state and the District of Columbia with $1,000,000 to be used in support of private , state , or municipal ETV efforts .\n"
     ]
    }
   ],
   "source": [
    "for sent in brown.tagged_sents()[:5000]:\n",
    "    words, nltk_tags = zip(*sent)\n",
    "    tree = parse_sentence(words, nltk_tags)\n",
    "    if search_adj_list(tree):\n",
    "        print(\"Adjective list pattern in sentence:\", ' '.join(tree.leaves()))\n",
    "    if find_adj_before_noun(tree, ['main', 'only']):\n",
    "        print(\"Adj/noun pattern in sentence:\", ' '.join(tree.leaves()))"
   ]
  },
  {
   "cell_type": "markdown",
   "metadata": {},
   "source": []
  }
 ],
 "metadata": {
  "kernelspec": {
   "display_name": "gctg",
   "language": "python",
   "name": "python3"
  },
  "language_info": {
   "codemirror_mode": {
    "name": "ipython",
    "version": 3
   },
   "file_extension": ".py",
   "mimetype": "text/x-python",
   "name": "python",
   "nbconvert_exporter": "python",
   "pygments_lexer": "ipython3",
   "version": "3.10.13"
  }
 },
 "nbformat": 4,
 "nbformat_minor": 2
}
