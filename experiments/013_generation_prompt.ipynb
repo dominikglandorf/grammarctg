{
 "cells": [
  {
   "cell_type": "markdown",
   "id": "4d8aed03-cb38-492a-8fab-60d1e35b727c",
   "metadata": {},
   "source": [
    "# Exp013: Create prompts for generating grammar-controlled text"
   ]
  },
  {
   "cell_type": "code",
   "execution_count": 6,
   "id": "86dccf97-0992-4cf4-abd1-4fb96ef2e489",
   "metadata": {},
   "outputs": [
    {
     "data": {
      "text/plain": [
       "<module 'api' from '/cluster/home/dglandorf/grammarctg/experiments/../source/api.py'>"
      ]
     },
     "execution_count": 6,
     "metadata": {},
     "output_type": "execute_result"
    }
   ],
   "source": [
    "import random\n",
    "import os\n",
    "import sys\n",
    "sys.path.append('../source')\n",
    "import models\n",
    "import data\n",
    "import api\n",
    "import importlib\n",
    "#importlib.reload(api)"
   ]
  },
  {
   "cell_type": "markdown",
   "id": "d720d72c-001b-4258-acad-9f95a46c2241",
   "metadata": {},
   "source": [
    "Load EGP rules and topical prompts "
   ]
  },
  {
   "cell_type": "code",
   "execution_count": 117,
   "id": "5ecdf038-3b78-4ad5-87cc-7a84365738f2",
   "metadata": {
    "scrolled": true
   },
   "outputs": [],
   "source": [
    "egp = data.get_egp()\n",
    "cefr = data.CEFRTexts()\n",
    "stories = list(cefr.get_beginnings(100))\n",
    "levels = [\"A1\", \"A2\", \"B1\", \"B2\", \"C1\", \"C2\"] "
   ]
  },
  {
   "cell_type": "markdown",
   "id": "4d6268d6-c11e-4d6c-8a5c-37274318e001",
   "metadata": {},
   "source": [
    "Assemble prompt"
   ]
  },
  {
   "cell_type": "code",
   "execution_count": 121,
   "id": "9c6684d5-821f-40c6-a42e-2f7483be9b24",
   "metadata": {},
   "outputs": [],
   "source": [
    "def skills(rules, level):\n",
    "    level_rules = rules[rules['Level'] == level]\n",
    "    return \"- \" + subcategory + \" - \" + level_rules['guideword'] + \": \" + level_rules['Can-do statement']"
   ]
  },
  {
   "cell_type": "code",
   "execution_count": 136,
   "id": "f04b5921-b170-4436-8d8d-cf189826d6be",
   "metadata": {},
   "outputs": [
    {
     "name": "stdout",
     "output_type": "stream",
     "text": [
      "\n",
      "Continue the text proving knowledge of at least one of these grammar skills:\n",
      "- would - FORM/USE: AFTER 'IF' CLAUSES: Can use 'would' in the main clause of a conditional sentence to talk about an imagined situation, often in the context of advice or opinion-giving.\n",
      "- would - FORM: PAST AFFIRMATIVE: Can use 'would have' + '-ed'.\n",
      "- would - FORM: PAST NEGATIVE: Can use 'would not have' + '-ed' or 'wouldn’t have' + '-ed'\n",
      "- would - FORM: QUESTIONS: Can use question forms.\n",
      "- would - FORM: WITH ADVERBS: Can use an limited range of adverbs with 'would', including 'really', 'probably', 'certainly', 'definitely'.► adverbs\n",
      "- would - USE: FUTURE IN THE PAST: Can use 'would' to talk about the future in the past.\n",
      "- would - USE: IMAGINED SITUATIONS IN THE PAST: Can use 'would' to talk about imagined situations in the past. ► conditionals\n",
      "- would - USE: INDIRECTNESS: Can use 'would' with verbs such as 'advise', 'imagine', 'recommend', 'say' to be less direct.\n",
      "- would - USE: POLITE REQUESTS: Can use 'would' to make polite requests, often in the fixed expression 'would you mind'.\n",
      "- would - USE: REPORTED SPEECH: Can use 'would' as the past form of 'will' in reported clauses.\n",
      "- would - USE: WILLINGNESS IN THE PAST: Can use the negative forms of 'would' to talk about willingness in the past.\n",
      "Do NOT apply the following grammar skills:\n",
      "- would - USE: HABITUAL PAST: Can use 'would' to talk about habitual actions and events in the past.\n",
      "\n",
      "Text. Michelle was tired after a long day at work. She just wanted to get home, order a pizza for dinner, and\n",
      "\n"
     ]
    }
   ],
   "source": [
    "subcategory = \"would\"\n",
    "rules = egp[(egp['SubCategory']==subcategory)]\n",
    "level = 3\n",
    "prompt = f\"\"\"\n",
    "Continue the text proving knowledge of at least one of these grammar skills:\n",
    "{os.linesep.join(skills(rules, levels[level-1]))}\n",
    "Do NOT apply the following grammar skills:\n",
    "{os.linesep.join(skills(rules, levels[level]))}\n",
    "\n",
    "Text. {random.sample(stories, 1)[0]}\n",
    "\"\"\"\n",
    "print(prompt)"
   ]
  },
  {
   "cell_type": "markdown",
   "id": "b284365e-c5e3-48a2-8a7c-3376aa6726d3",
   "metadata": {},
   "source": [
    "Call GPT3.5"
   ]
  },
  {
   "cell_type": "code",
   "execution_count": 138,
   "id": "569fb6bb-69ec-49a6-81c2-3766c0b6ca43",
   "metadata": {},
   "outputs": [
    {
     "name": "stdout",
     "output_type": "stream",
     "text": [
      "['She just wanted to get home, order a pizza for dinner, and watch a movie.', 'If I were you, I would choose a comedy to unwind and relax.\"', 'Michelle thought to herself as she boarded the bus home.', 'She imagined herself laughing and forgetting about the stress of the day as she enjoyed a funny movie.', 'The thought of a cheesy joke from the movie made her smile, and she knew it would be the perfect way to end the day.', 'Once she arrived home, she ordered her favorite pizza and selected a comedy from her movie collection.', \"As she settled in on the couch with her dinner, she couldn't help but feel grateful for the simple pleasures in life.\"]\n"
     ]
    }
   ],
   "source": [
    "messages = [{ \"role\": \"user\", \"content\": prompt}]\n",
    "response = api.get_openai_chat_completion(messages)[0]\n",
    "init_sent = data.sent_tokenize(prompt)[-1]\n",
    "sentences = [(init_sent + \" \" if not init_sent[-1]==\".\" else \"\") + data.sent_tokenize(response)[0].strip()] + \\\n",
    "data.sent_tokenize(response)[1:]\n",
    "print(sentences)"
   ]
  },
  {
   "cell_type": "markdown",
   "id": "38d1c8c0-f7db-4af1-99bc-50a7bfa32b6b",
   "metadata": {},
   "source": [
    "Use classifiers to score the response"
   ]
  },
  {
   "cell_type": "code",
   "execution_count": 105,
   "id": "69b07d7a-a1f2-4381-b418-6e29ce466603",
   "metadata": {},
   "outputs": [],
   "source": [
    "classifiers = {nr: models.load_classifier(nr, 'corpus_training') for nr in cat_rules['#']}"
   ]
  },
  {
   "cell_type": "code",
   "execution_count": 139,
   "id": "c7fc459d-36a4-4aa2-9a69-29ddb7776fd5",
   "metadata": {},
   "outputs": [
    {
     "name": "stdout",
     "output_type": "stream",
     "text": [
      "Detected Level 619-A2-Can use the affirmative form.: ['If I were you, I would choose a comedy to unwind and relax.\"', 'The thought of a cheesy joke from the movie made her smile, and she knew it would be the perfect way to end the day.']\n",
      "Detected Level 622-A2-Can use 'would' to talk about imagined situations.: ['The thought of a cheesy joke from the movie made her smile, and she knew it would be the perfect way to end the day.']\n",
      "Detected Level 625-B1-Can use 'would' in the main clause of a conditional sentence to talk about an imagined situation, often in the context of advice or opinion-giving.: ['If I were you, I would choose a comedy to unwind and relax.\"']\n",
      "Detected Level 630-B1-Can use 'would' to talk about the future in the past.: ['The thought of a cheesy joke from the movie made her smile, and she knew it would be the perfect way to end the day.']\n",
      "Detected Level 632-B1-Can use 'would' with verbs such as 'advise', 'imagine', 'recommend', 'say' to be less direct.: ['If I were you, I would choose a comedy to unwind and relax.\"']\n",
      "Detected Level 634-B1-Can use 'would' as the past form of 'will' in reported clauses.: ['The thought of a cheesy joke from the movie made her smile, and she knew it would be the perfect way to end the day.']\n"
     ]
    }
   ],
   "source": [
    "for level, skill, (nr, classifier) in zip(rules['Level'], rules['Can-do statement'], classifiers.items()):    \n",
    "    scores = models.probe_model(classifiers[nr], sentences)\n",
    "    detected_sentences = [sentences[i] for i, score in enumerate(scores[0]) if score > 0.5]\n",
    "    if len(detected_sentences): print(f'Detected Level {nr}-{level}-{skill}: {detected_sentences}')"
   ]
  },
  {
   "cell_type": "code",
   "execution_count": null,
   "id": "69ccebed-6e8b-4310-9969-76ca5313b6e7",
   "metadata": {},
   "outputs": [],
   "source": []
  }
 ],
 "metadata": {
  "kernelspec": {
   "display_name": "Python 3 (ipykernel)",
   "language": "python",
   "name": "python3"
  },
  "language_info": {
   "codemirror_mode": {
    "name": "ipython",
    "version": 3
   },
   "file_extension": ".py",
   "mimetype": "text/x-python",
   "name": "python",
   "nbconvert_exporter": "python",
   "pygments_lexer": "ipython3",
   "version": "3.11.2"
  }
 },
 "nbformat": 4,
 "nbformat_minor": 5
}
