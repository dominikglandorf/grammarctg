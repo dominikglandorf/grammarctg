{
 "cells": [
  {
   "cell_type": "markdown",
   "id": "4d8aed03-cb38-492a-8fab-60d1e35b727c",
   "metadata": {},
   "source": [
    "# Exp013: Create prompts for generating grammar-controlled text"
   ]
  },
  {
   "cell_type": "code",
   "execution_count": 4,
   "id": "86dccf97-0992-4cf4-abd1-4fb96ef2e489",
   "metadata": {},
   "outputs": [],
   "source": [
    "import random\n",
    "import os\n",
    "import pandas as pd\n",
    "import sys\n",
    "sys.path.append('../source')\n",
    "import models\n",
    "import data\n",
    "import api\n",
    "import importlib\n",
    "#importlib.reload(data)"
   ]
  },
  {
   "cell_type": "code",
   "execution_count": 36,
   "id": "f04b5921-b170-4436-8d8d-cf189826d6be",
   "metadata": {},
   "outputs": [],
   "source": [
    "# helper functions\n",
    "levels = [\"A1\", \"A2\", \"B1\", \"B2\", \"C1\", \"C2\"] \n",
    "level_idx = {level: i for i, level in enumerate(levels)}\n",
    "\n",
    "def skills(rules):\n",
    "    return \"- \" + rules['SubCategory'] + \" - \" + rules['guideword'] + \": \" + rules['Can-do statement']\n",
    "    \n",
    "def get_prompt(rules, snippet, negative_rules=None, dialog=True, all=False):\n",
    "    exclude = f\"\"\"Do NOT apply the following grammar skills:\n",
    "{os.linesep.join(skills(negative_rules))}\"\"\" if negative_rules else \"\"\n",
    "    return f\"\"\"Continue the {\"dialog with one turn\" if dialog else \"text with two sentences\"}, proving knowledge of {\"all\" if all else \"at least one\"} of these grammar skills:\n",
    "{os.linesep.join(skills(rules))}\n",
    "{exclude}\n",
    "Snippet:\n",
    "{snippet}\"\"\"\n",
    "\n",
    "def get_sentences(prompt, response):\n",
    "    init_sent = prompt[prompt.rfind(\":\")+1:].strip()\n",
    "    preamble = (init_sent + \" \" if not init_sent[-1]==\".\" else \"\") if len(init_sent) else \"\"\n",
    "    return [preamble + data.sent_tokenize(response)[0].strip()] + data.sent_tokenize(response)[1:]\n",
    "    \n",
    "def classify_sents(classifiers, rules, sentences):\n",
    "    for level, skill, (nr, classifier) in zip(rules['Level'], rules['Can-do statement'], classifiers.items()):    \n",
    "        scores = models.probe_model(classifiers[nr], sentences)\n",
    "        hits = [sentences[i] for i, score in enumerate(scores[0]) if score > 0.5]\n",
    "        if len(hits): print(f'\\n{level}-{skill} ({nr})\\n{os.linesep.join([\"- \"+h for h in hits])}')\n",
    "\n",
    "def sample_adjacent(lst, n=3):\n",
    "    if len(lst) < n: raise ValueError(\"List must contain at least two items\")\n",
    "    index = random.randint(0, len(lst) - n)\n",
    "    return lst[index:index+n]\n",
    "    \n",
    "def get_dialog_snippet(utterances):\n",
    "    return os.linesep.join([(\"A\" if (i%2==0) else \"B\") + \": \" + utt for i, utt in enumerate(utterances + [\"\"])])\n",
    "\n",
    "def prompt_score(snippet):\n",
    "    prompt = get_prompt(rules, level, snippet)\n",
    "    print(f\"{snippet} (total words in prompt: {len(prompt.split(' '))})\")\n",
    "    response = api.get_openai_chat_completion([{ \"role\": \"user\", \"content\": prompt}])[0]\n",
    "    print(response)\n",
    "    sentences = get_sentences(prompt, response)\n",
    "    classify_sents(classifiers, rules, sentences)\n",
    "    "
   ]
  },
  {
   "cell_type": "code",
   "execution_count": 3,
   "id": "ccf325be-5dcd-4b55-9c8b-31f46286f45e",
   "metadata": {},
   "outputs": [],
   "source": [
    "egp = data.get_egp()"
   ]
  },
  {
   "cell_type": "code",
   "execution_count": 6,
   "id": "0a253687-92e2-44bb-95a7-af176b4bf9e4",
   "metadata": {},
   "outputs": [
    {
     "data": {
      "text/plain": [
       "86"
      ]
     },
     "execution_count": 6,
     "metadata": {},
     "output_type": "execute_result"
    }
   ],
   "source": [
    "egp['SubCategory'].nunique()"
   ]
  },
  {
   "cell_type": "markdown",
   "id": "d720d72c-001b-4258-acad-9f95a46c2241",
   "metadata": {},
   "source": [
    "Load EGP rules, topical prompts and dialogs"
   ]
  },
  {
   "cell_type": "code",
   "execution_count": 30,
   "id": "5ecdf038-3b78-4ad5-87cc-7a84365738f2",
   "metadata": {
    "scrolled": true
   },
   "outputs": [],
   "source": [
    "egp = data.get_egp()\n",
    "cefr = data.CEFRTexts()\n",
    "stories = list(cefr.get_beginnings(100))\n",
    "ds = data.DialogSum()\n",
    "existing_classifiers = [int(name.replace(\".pth\",\"\")) for name in os.listdir(f\"../models/corpus_training\")]\n",
    "classifiers = {nr: models.load_classifier(nr, 'corpus_training') for nr in existing_classifiers}"
   ]
  },
  {
   "cell_type": "markdown",
   "id": "95833ffb-6fcf-41c5-aaf0-10042fc81a4c",
   "metadata": {},
   "source": [
    "## Task 1: Single constraints"
   ]
  },
  {
   "cell_type": "code",
   "execution_count": 24,
   "id": "fed6ed12-babd-4267-a841-da3363c58c8f",
   "metadata": {},
   "outputs": [],
   "source": [
    "subcategories = [\"would\", \"negation\", \"superlatives\"]\n",
    "level = \"A2\"\n",
    "n_per_subcat=1\n",
    "rules = egp[(egp['SubCategory'].isin(subcategories)) & (egp['Level']==level)].groupby(\"SubCategory\").sample(n_per_subcat)"
   ]
  },
  {
   "cell_type": "code",
   "execution_count": 25,
   "id": "c50759e8-9cbc-404e-b730-6748bbb46ce2",
   "metadata": {},
   "outputs": [
    {
     "name": "stdout",
     "output_type": "stream",
     "text": [
      "Continue the text with two sentences, proving knowledge of all of these grammar skills:\n",
      "- negation - FORM: AUXILIARY VERBS 'BE', 'HAVE', PRESENT: Can form negative statements of main verbs in the present continuous and present perfect with 'be' and 'have' + 'not/n't'.  ► present continuous ► present perfect\n",
      "- superlatives - FORM: WITH '-EST' : Can form superlative adjectives using the '-est' suffix, with adjectives of one syllable, and with two-syllable adjectives ending in -y.\n",
      "- would - FORM: QUESTIONS WITH 'LIKE': Can use the question form 'would you like'.\n",
      "\n",
      "Snippet:\n",
      "Sharon was five years old. Her best friend was Pam. They played games together. They played all kinds\n",
      "RESPONSE\n",
      " of games. Sharon liked to play hide and seek the most. Pam was the fastest runner in their neighborhood. Sharon would always ask Pam to be the seeker because she knew Pam would find her quickly.\n"
     ]
    }
   ],
   "source": [
    "snippet = random.sample(stories, 1)[0]\n",
    "prompt = get_prompt(rules, snippet, dialog=False, all=True)\n",
    "print(prompt)\n",
    "response = api.get_openai_chat_completion([{ \"role\": \"user\", \"content\": prompt}])[0] #, model=\"gpt-4-0125-preview\"\n",
    "print(\"RESPONSE\")\n",
    "print(response)"
   ]
  },
  {
   "cell_type": "code",
   "execution_count": 26,
   "id": "af418ca8-1e3b-44f8-a77c-d2ccbc37ddbf",
   "metadata": {},
   "outputs": [
    {
     "name": "stdout",
     "output_type": "stream",
     "text": [
      "Continue the dialog with one turn, proving knowledge of all of these grammar skills:\n",
      "- negation - FORM: AUXILIARY VERBS 'BE', 'HAVE', PRESENT: Can form negative statements of main verbs in the present continuous and present perfect with 'be' and 'have' + 'not/n't'.  ► present continuous ► present perfect\n",
      "- superlatives - FORM: WITH '-EST' : Can form superlative adjectives using the '-est' suffix, with adjectives of one syllable, and with two-syllable adjectives ending in -y.\n",
      "- would - FORM: QUESTIONS WITH 'LIKE': Can use the question form 'would you like'.\n",
      "\n",
      "Snippet:\n",
      "A: Yes, sometimes it happens, Ma'am. That's why it is always good to carry your confirmation number. I'm sorry about the inconvenience.\n",
      "B: It's okay. It's probably my husband's fault.Is there a pool in this hotel?\n",
      "A: Yes, of course.The pool is open until 10:00 p. m. So you still have about 45 minutes.\n",
      "B: \n",
      "Great! Thanks for letting me know. Is it possible to have the superlative room available with the best view of the pool?\n"
     ]
    }
   ],
   "source": [
    "dialog = random.sample(ds.get_dialogues(), 1)[0]\n",
    "utterances = sample_adjacent(dialog)\n",
    "snippet = get_dialog_snippet(utterances)\n",
    "prompt = get_prompt(rules, snippet, dialog=True, all=True)\n",
    "print(prompt)\n",
    "response = api.get_openai_chat_completion([{ \"role\": \"user\", \"content\": prompt}])[0] # , model=\"gpt-4-0125-preview\"\n",
    "print(response)"
   ]
  },
  {
   "cell_type": "markdown",
   "id": "876556ad-af19-4d72-bcb9-50d58e944660",
   "metadata": {},
   "source": [
    "## Task 2: Combine subcategories"
   ]
  },
  {
   "cell_type": "markdown",
   "id": "74b77d9e-1ae4-4877-98c0-46fd26491794",
   "metadata": {},
   "source": [
    "Choose subcategory and load necessary classifiers"
   ]
  },
  {
   "cell_type": "code",
   "execution_count": 27,
   "id": "cc8b7c4c-34ec-4548-8449-710f138a2fa1",
   "metadata": {},
   "outputs": [],
   "source": [
    "subcategories = [\"would\", \"negation\", \"superlatives\"]\n",
    "levels = [\"A2\", \"B1\", \"B1\"]\n",
    "rules = pd.concat([egp[(egp['SubCategory'] == subcat) & (egp['Level']==level)] for subcat, level in zip(subcategories, levels)])"
   ]
  },
  {
   "cell_type": "markdown",
   "id": "4d6268d6-c11e-4d6c-8a5c-37274318e001",
   "metadata": {},
   "source": [
    "Assemble prompt for a random story beginning, test it with GPT3.5 and use classifiers to score the response"
   ]
  },
  {
   "cell_type": "code",
   "execution_count": 39,
   "id": "275645fe-8cd0-48f7-a877-6089ac4b4c20",
   "metadata": {
    "scrolled": true
   },
   "outputs": [
    {
     "name": "stdout",
     "output_type": "stream",
     "text": [
      "Continue the dialog with one turn, proving knowledge of at least one of these grammar skills:\n",
      "- would - FORM: AFFIRMATIVE: Can use the affirmative form.\n",
      "- would - FORM: NEGATIVE: Can use the negative forms.\n",
      "- would - FORM: QUESTIONS WITH 'LIKE': Can use the question form 'would you like'.\n",
      "- would - USE: IMAGINED SITUATIONS: Can use 'would' to talk about imagined situations.\n",
      "- would - USE: SUGGESTIONS WITH 'IT WOULD BE': Can use 'it would be' to make suggestions.\n",
      "- would - USE: WISHES AND PREFERENCES : Can use 'would' with a wide range of verbs to talk about wishes and preferences.\n",
      "- negation - FORM: AUXILIARY VERBS 'BE', 'HAVE', PAST: Can form negative statements of main verbs in the past continuous and past perfect with auxiliary verbs 'be' and 'have' + 'not/n't'. ► past continuous ► past perfect\n",
      "- negation - FORM: MENTAL PROCESS VERBS + CLAUSE: Can use the negative forms of mental process verbs ('I don't think', 'I don't believe') followed by a complement clause, where the negative form is in the mental process verb rather than the complement clause.\n",
      "- negation - FORM: QUESTIONS: Can use negative question forms in main clauses and question tags. ► questions\n",
      "- negation - USE: SEEKING AGREEMENT: Can use negative questions and question tags to involve the listener/reader by seeking agreement or checking something. \n",
      "- negation - FORM: PRONOUNS: Can use an increasing range of indefinite pronouns in negative contexts. \n",
      "- negation - FORM: ADVERBS: Can use adverbs 'ever', 'never', 'yet', 'still' in negative contexts.\n",
      "- negation - FORM: 'NOT', NON FINITE AND ELLIPTED CLAUSES: Can use 'not' before a non-finite or ellipted clause. \n",
      "- superlatives - FORM/USE: COMPLEX NOUN PHRASES: Can form an increasing range of complex noun phrases with a superlative adjective + prepositional phrase, to talk about something unique. ► noun phrases\n",
      "- superlatives - FORM/USE: 'THE BEST' WITH NOUN AND PRESENT PERFECT: Can use 'the best' before a noun + present perfect to talk about a unique experience.\n",
      "- superlatives - FORM: 'ONE OF THE' : Can use 'one of the' before a superlative adjective, followed by a plural noun. ► noun phrases\n",
      "- superlatives - FORM: 'THE BEST' WITH NOUN AND  'TO-' INFINITIVE: Can use 'the best' before a noun + 'to'-infinitive.  ► clauses: comparative\n",
      "- superlatives - FORM: WITH DETERMINERS: Can form noun phrases with a range of determiners before a superlative adjective. ► noun phrases\n",
      "\n",
      "Snippet:\n",
      "A few months before he died, Carl Sagan recorded a message of hope to would-be Mars explorers, telling\n",
      " them, \"If you want to explore Mars, there's something I think you should know.\"\n",
      "\n",
      "A2-Can use 'would' to talk about imagined situations. (619)\n",
      "- A few months before he died, Carl Sagan recorded a message of hope to would-be Mars explorers, telling them, \"If you want to explore Mars, there's something I think you should know.\"\n",
      "XXXXXXXXXXXXXXXXXXXXXXXXXXXXXXXXXXXXXXXXXXXXXXXXXXXXXXXXXXXXXXXXXXXXXXXXXXX\n"
     ]
    }
   ],
   "source": [
    "snippet = random.sample(stories, 1)[0]\n",
    "prompt = get_prompt(rules, snippet)\n",
    "print(prompt)\n",
    "response = api.get_openai_chat_completion([{ \"role\": \"user\", \"content\": prompt}])[0]\n",
    "print(response)\n",
    "sentences = get_sentences(prompt, response)\n",
    "classify_sents(classifiers, rules, sentences)\n",
    "print(\"X\" * 75)"
   ]
  },
  {
   "cell_type": "markdown",
   "id": "fbcafb80-a1b7-497d-a5eb-ce2a8d46fea6",
   "metadata": {},
   "source": [
    "Do this with dialogs"
   ]
  },
  {
   "cell_type": "code",
   "execution_count": 40,
   "id": "9211922e-4a41-484f-af63-2935d8ae034f",
   "metadata": {
    "scrolled": true
   },
   "outputs": [
    {
     "name": "stdout",
     "output_type": "stream",
     "text": [
      "Continue the dialog with one turn, proving knowledge of at least one of these grammar skills:\n",
      "- would - FORM: AFFIRMATIVE: Can use the affirmative form.\n",
      "- would - FORM: NEGATIVE: Can use the negative forms.\n",
      "- would - FORM: QUESTIONS WITH 'LIKE': Can use the question form 'would you like'.\n",
      "- would - USE: IMAGINED SITUATIONS: Can use 'would' to talk about imagined situations.\n",
      "- would - USE: SUGGESTIONS WITH 'IT WOULD BE': Can use 'it would be' to make suggestions.\n",
      "- would - USE: WISHES AND PREFERENCES : Can use 'would' with a wide range of verbs to talk about wishes and preferences.\n",
      "- negation - FORM: AUXILIARY VERBS 'BE', 'HAVE', PAST: Can form negative statements of main verbs in the past continuous and past perfect with auxiliary verbs 'be' and 'have' + 'not/n't'. ► past continuous ► past perfect\n",
      "- negation - FORM: MENTAL PROCESS VERBS + CLAUSE: Can use the negative forms of mental process verbs ('I don't think', 'I don't believe') followed by a complement clause, where the negative form is in the mental process verb rather than the complement clause.\n",
      "- negation - FORM: QUESTIONS: Can use negative question forms in main clauses and question tags. ► questions\n",
      "- negation - USE: SEEKING AGREEMENT: Can use negative questions and question tags to involve the listener/reader by seeking agreement or checking something. \n",
      "- negation - FORM: PRONOUNS: Can use an increasing range of indefinite pronouns in negative contexts. \n",
      "- negation - FORM: ADVERBS: Can use adverbs 'ever', 'never', 'yet', 'still' in negative contexts.\n",
      "- negation - FORM: 'NOT', NON FINITE AND ELLIPTED CLAUSES: Can use 'not' before a non-finite or ellipted clause. \n",
      "- superlatives - FORM/USE: COMPLEX NOUN PHRASES: Can form an increasing range of complex noun phrases with a superlative adjective + prepositional phrase, to talk about something unique. ► noun phrases\n",
      "- superlatives - FORM/USE: 'THE BEST' WITH NOUN AND PRESENT PERFECT: Can use 'the best' before a noun + present perfect to talk about a unique experience.\n",
      "- superlatives - FORM: 'ONE OF THE' : Can use 'one of the' before a superlative adjective, followed by a plural noun. ► noun phrases\n",
      "- superlatives - FORM: 'THE BEST' WITH NOUN AND  'TO-' INFINITIVE: Can use 'the best' before a noun + 'to'-infinitive.  ► clauses: comparative\n",
      "- superlatives - FORM: WITH DETERMINERS: Can form noun phrases with a range of determiners before a superlative adjective. ► noun phrases\n",
      "\n",
      "Snippet:\n",
      "A: I don't really want to.\n",
      "B: Well, why don't you?\n",
      "A: I hate going to parties.\n",
      "B: \n",
      "Would you like to go out for dinner instead?\n",
      "\n",
      "A2-Can use the question form 'would you like'. (618)\n",
      "- Would you like to go out for dinner instead?\n",
      "\n",
      "A2-Can use 'would' with a wide range of verbs to talk about wishes and preferences. (621)\n",
      "- Would you like to go out for dinner instead?\n",
      "XXXXXXXXXXXXXXXXXXXXXXXXXXXXXXXXXXXXXXXXXXXXXXXXXXXXXXXXXXXXXXXXXXXXXXXXXXX\n"
     ]
    }
   ],
   "source": [
    "dialog = random.sample(ds.get_dialogues(), 1)[0]\n",
    "utterances = sample_adjacent(dialog)\n",
    "snippet = get_dialog_snippet(utterances)\n",
    "prompt = get_prompt(rules, snippet)\n",
    "print(prompt)\n",
    "response = api.get_openai_chat_completion([{ \"role\": \"user\", \"content\": prompt}])[0]\n",
    "print(response)\n",
    "sentences = get_sentences(prompt, response)\n",
    "classify_sents(classifiers, rules, sentences)\n",
    "print(\"X\" * 75)"
   ]
  },
  {
   "cell_type": "markdown",
   "id": "a597ecdf-abfe-4998-bd60-5513dbf9c5a4",
   "metadata": {},
   "source": [
    "## Task 3: Difficulty"
   ]
  },
  {
   "cell_type": "code",
   "execution_count": 42,
   "id": "a0e61311-bfb5-4566-ab0f-ed8a6d9de07b",
   "metadata": {},
   "outputs": [],
   "source": [
    "def get_level_prompt(level, snippet, dialog=True, all=False):\n",
    "    return f\"\"\"Continue the {\"dialog with one turn\" if dialog else \"text with two sentences\"}, proving knowledge of grammar skills on CEFR level {level}.\n",
    "\n",
    "Snippet:\n",
    "{snippet}\"\"\""
   ]
  },
  {
   "cell_type": "code",
   "execution_count": 44,
   "id": "44f00b26-1705-40f6-ac77-9dda35c24a69",
   "metadata": {},
   "outputs": [
    {
     "name": "stdout",
     "output_type": "stream",
     "text": [
      "Continue the dialog with one turn, proving knowledge of grammar skills on CEFR level A2\n",
      "\n",
      "Snippet:\n",
      "A great American tradition dating back to the birth of the country is the board game night. This is where\n",
      " friends and family gather to play games like Monopoly, Scrabble, and Clue. It's a fun way to spend time together and build relationships.\n",
      "XXXXXXXXXXXXXXXXXXXXXXXXXXXXXXXXXXXXXXXXXXXXXXXXXXXXXXXXXXXXXXXXXXXXXXXXXXX\n"
     ]
    }
   ],
   "source": [
    "snippet = random.sample(stories, 1)[0]\n",
    "prompt = get_level_prompt(\"A2\", snippet)\n",
    "print(prompt)\n",
    "response = api.get_openai_chat_completion([{ \"role\": \"user\", \"content\": prompt}])[0]\n",
    "print(response)\n",
    "sentences = get_sentences(prompt, response)\n",
    "classify_sents(classifiers, rules, sentences)\n",
    "print(\"X\" * 75)"
   ]
  },
  {
   "cell_type": "code",
   "execution_count": 45,
   "id": "1c007342-a2f8-4bb9-9464-be3525580c2b",
   "metadata": {},
   "outputs": [
    {
     "name": "stdout",
     "output_type": "stream",
     "text": [
      "Continue the dialog with one turn, proving knowledge of grammar skills on CEFR level A2\n",
      "\n",
      "Snippet:\n",
      "A: Oh, no. I'm sure I made a reservation for a first-class ticket.\n",
      "B: Let me check. Now, your ticket is in order. Thank you for calling to reconfirm.\n",
      "A: That's what I should do. And I don't want to lose it.\n",
      "B: \n",
      "Don't worry, everything is in order. Just make sure to have your ticket with you when you board the train.\n",
      "XXXXXXXXXXXXXXXXXXXXXXXXXXXXXXXXXXXXXXXXXXXXXXXXXXXXXXXXXXXXXXXXXXXXXXXXXXX\n"
     ]
    }
   ],
   "source": [
    "dialog = random.sample(ds.get_dialogues(), 1)[0]\n",
    "utterances = sample_adjacent(dialog)\n",
    "snippet = get_dialog_snippet(utterances)\n",
    "prompt = get_level_prompt(\"A2\", snippet)\n",
    "print(prompt)\n",
    "response = api.get_openai_chat_completion([{ \"role\": \"user\", \"content\": prompt}])[0]\n",
    "print(response)\n",
    "sentences = get_sentences(prompt, response)\n",
    "classify_sents(classifiers, rules, sentences)\n",
    "print(\"X\" * 75)"
   ]
  },
  {
   "cell_type": "code",
   "execution_count": null,
   "id": "530b5728-8e84-459a-8047-1408bad60b32",
   "metadata": {},
   "outputs": [],
   "source": []
  }
 ],
 "metadata": {
  "kernelspec": {
   "display_name": "Python 3 (ipykernel)",
   "language": "python",
   "name": "python3"
  },
  "language_info": {
   "codemirror_mode": {
    "name": "ipython",
    "version": 3
   },
   "file_extension": ".py",
   "mimetype": "text/x-python",
   "name": "python",
   "nbconvert_exporter": "python",
   "pygments_lexer": "ipython3",
   "version": "3.11.2"
  }
 },
 "nbformat": 4,
 "nbformat_minor": 5
}
