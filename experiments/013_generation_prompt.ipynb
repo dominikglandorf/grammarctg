{
 "cells": [
  {
   "cell_type": "markdown",
   "id": "4d8aed03-cb38-492a-8fab-60d1e35b727c",
   "metadata": {},
   "source": [
    "# Exp013: Create prompts for generating grammar-controlled text"
   ]
  },
  {
   "cell_type": "code",
   "execution_count": 2,
   "id": "86dccf97-0992-4cf4-abd1-4fb96ef2e489",
   "metadata": {},
   "outputs": [
    {
     "name": "stderr",
     "output_type": "stream",
     "text": [
      "Some weights of the model checkpoint at bert-base-uncased were not used when initializing BertModel: ['cls.predictions.transform.dense.bias', 'cls.predictions.transform.LayerNorm.weight', 'cls.seq_relationship.weight', 'cls.predictions.transform.LayerNorm.bias', 'cls.seq_relationship.bias', 'cls.predictions.transform.dense.weight', 'cls.predictions.bias', 'cls.predictions.decoder.weight']\n",
      "- This IS expected if you are initializing BertModel from the checkpoint of a model trained on another task or with another architecture (e.g. initializing a BertForSequenceClassification model from a BertForPreTraining model).\n",
      "- This IS NOT expected if you are initializing BertModel from the checkpoint of a model that you expect to be exactly identical (initializing a BertForSequenceClassification model from a BertForSequenceClassification model).\n",
      "[nltk_data] Downloading package punkt to\n",
      "[nltk_data]     /cluster/home/dglandorf/nltk_data...\n",
      "[nltk_data]   Package punkt is already up-to-date!\n",
      "[nltk_data] Downloading package punkt to\n",
      "[nltk_data]     /cluster/home/dglandorf/nltk_data...\n",
      "[nltk_data]   Package punkt is already up-to-date!\n"
     ]
    },
    {
     "data": {
      "text/plain": [
       "<module 'data' from '/cluster/home/dglandorf/grammarctg/experiments/../source/data.py'>"
      ]
     },
     "execution_count": 2,
     "metadata": {},
     "output_type": "execute_result"
    }
   ],
   "source": [
    "import random\n",
    "import os\n",
    "import sys\n",
    "sys.path.append('../source')\n",
    "import models\n",
    "import data\n",
    "import api\n",
    "import importlib\n",
    "#importlib.reload(data)"
   ]
  },
  {
   "cell_type": "code",
   "execution_count": 7,
   "id": "f04b5921-b170-4436-8d8d-cf189826d6be",
   "metadata": {},
   "outputs": [],
   "source": [
    "# helper functions\n",
    "levels = [\"A1\", \"A2\", \"B1\", \"B2\", \"C1\", \"C2\"] \n",
    "level_idx = {level: i for i, level in enumerate(levels)}\n",
    "\n",
    "def skills(rules, levels):\n",
    "    level_rules = rules[rules['Level'].isin(levels)]\n",
    "    return \"- \" + subcategory + \" - \" + level_rules['guideword'] + \": \" + level_rules['Can-do statement']\n",
    "    \n",
    "def get_prompt(rules, idx, snippet, negative=False):\n",
    "    exclude = f\"\"\"Do NOT apply the following grammar skills:\n",
    "{os.linesep.join(skills(rules, levels[idx+1:]))}\"\"\" if negative else \"\"\n",
    "    return f\"\"\"Continue the snippet proving knowledge of at least one of these grammar skills:\n",
    "{os.linesep.join(skills(rules, [levels[idx]]))}\n",
    "{exclude}\n",
    "Snippet:\n",
    "{snippet}\"\"\"\n",
    "\n",
    "def get_sentences(prompt, response):\n",
    "    init_sent = prompt[prompt.rfind(\":\")+1:].strip()\n",
    "    preamble = (init_sent + \" \" if not init_sent[-1]==\".\" else \"\") if len(init_sent) else \"\"\n",
    "    return [preamble + data.sent_tokenize(response)[0].strip()] + data.sent_tokenize(response)[1:]\n",
    "    \n",
    "def classify_sents(classifiers, rules, sentences, hide_below=0):\n",
    "    for level, skill, (nr, classifier) in zip(rules['Level'], rules['Can-do statement'], classifiers.items()):    \n",
    "        if level_idx[level] < hide_below: continue\n",
    "        scores = models.probe_model(classifiers[nr], sentences)\n",
    "        hits = [sentences[i] for i, score in enumerate(scores[0]) if score > 0.5]\n",
    "        if len(hits): print(f'\\n{level}-{skill} ({nr})\\n{os.linesep.join([\"- \"+h for h in hits])}')\n",
    "\n",
    "def sample_adjacent(lst, n=3):\n",
    "    if len(lst) < n: raise ValueError(\"List must contain at least two items\")\n",
    "    index = random.randint(0, len(lst) - n)\n",
    "    return lst[index:index+n]\n",
    "    \n",
    "def get_dialog_snippet(utterances):\n",
    "    return os.linesep.join([(\"A\" if (i%2==0) else \"B\") + \": \" + utt for i, utt in enumerate(utterances + [\"\"])])\n",
    "\n",
    "def prompt_score(snippet, level):\n",
    "    prompt = get_prompt(rules, level, snippet)\n",
    "    #print(f\"{snippet} (total words in prompt: {len(prompt.split(' '))})\")\n",
    "    response = api.get_openai_chat_completion([{ \"role\": \"user\", \"content\": prompt}])[0]\n",
    "    print(response)\n",
    "    sentences = get_sentences(prompt, response)\n",
    "    classify_sents(classifiers, rules, sentences, level)\n",
    "    "
   ]
  },
  {
   "cell_type": "code",
   "execution_count": 3,
   "id": "ccf325be-5dcd-4b55-9c8b-31f46286f45e",
   "metadata": {},
   "outputs": [],
   "source": [
    "egp = data.get_egp()"
   ]
  },
  {
   "cell_type": "code",
   "execution_count": 6,
   "id": "0a253687-92e2-44bb-95a7-af176b4bf9e4",
   "metadata": {},
   "outputs": [
    {
     "data": {
      "text/plain": [
       "86"
      ]
     },
     "execution_count": 6,
     "metadata": {},
     "output_type": "execute_result"
    }
   ],
   "source": [
    "egp['SubCategory'].nunique()"
   ]
  },
  {
   "cell_type": "markdown",
   "id": "d720d72c-001b-4258-acad-9f95a46c2241",
   "metadata": {},
   "source": [
    "Load EGP rules, topical prompts and dialogs"
   ]
  },
  {
   "cell_type": "code",
   "execution_count": 8,
   "id": "5ecdf038-3b78-4ad5-87cc-7a84365738f2",
   "metadata": {
    "scrolled": true
   },
   "outputs": [],
   "source": [
    "egp = data.get_egp()\n",
    "cefr = data.CEFRTexts()\n",
    "stories = list(cefr.get_beginnings(100))\n",
    "ds = data.DialogSum()"
   ]
  },
  {
   "cell_type": "markdown",
   "id": "74b77d9e-1ae4-4877-98c0-46fd26491794",
   "metadata": {},
   "source": [
    "Choose subcategory and load necessary classifiers"
   ]
  },
  {
   "cell_type": "code",
   "execution_count": 9,
   "id": "da60029d-3cb0-41de-b9af-b2672aab4f86",
   "metadata": {},
   "outputs": [],
   "source": [
    "subcategory = \"would\"\n",
    "rules = egp[(egp['SubCategory']==subcategory)]\n",
    "classifiers = {nr: models.load_classifier(nr, 'corpus_training') for nr in rules['#']}"
   ]
  },
  {
   "cell_type": "markdown",
   "id": "4d6268d6-c11e-4d6c-8a5c-37274318e001",
   "metadata": {},
   "source": [
    "Assemble prompt for a random story beginning, test it with GPT3.5 and use classifiers to score the response"
   ]
  },
  {
   "cell_type": "code",
   "execution_count": 270,
   "id": "275645fe-8cd0-48f7-a877-6089ac4b4c20",
   "metadata": {
    "scrolled": true
   },
   "outputs": [
    {
     "name": "stdout",
     "output_type": "stream",
     "text": [
      "The small space is set up to look like a classroom. Its corrugated iron walls are hung with educational\n",
      "Target: A1\n",
      " posters and there are tiny desks and chairs scattered around. On one wall, a chart displays the alphabet in colorful letters. The teacher, Miss Jenkins, stands at the front of the room with a warm smile, welcoming the children. \"Would you like to come sit on the carpet for story time?\" she asks, inviting them to gather around. The children nod eagerly, expressing their wishes and preferences to hear the tale she has prepared for them.\n",
      "\n",
      "A1-Can use 'would like' to talk about wishes and preferences. (618)\n",
      "- \"Would you like to come sit on the carpet for story time?\"\n",
      "\n",
      "A2-Can use the question form 'would you like'. (621)\n",
      "- \"Would you like to come sit on the carpet for story time?\"\n",
      "XXXXXXXXXXXXXXXXXXXXXXXXXXXXXXXXXXXXXXXXXXXXXXXXXXXXXXXXXXXXXXXXXXXXXXXXXXX\n",
      "Target: A2\n",
      " posters, and a row of tiny desks fill the center. The teacher, a young woman with a warm smile, stands at the front of the room.\n",
      "\n",
      "\"If you would like, we can start with some vocabulary exercises,\" she suggests to the eager students. \n",
      "\n",
      "One boy raises his hand, \"Would it be okay if we practiced some basic grammar instead?\"\n",
      "\n",
      "The teacher nods, \"Of course! It would be my pleasure to help you with that.\"\n",
      "\n",
      "As the lesson progresses, the students engage in lively discussions about their wishes and preferences. They talk about what they would do if they had more free time, where they would go on vacation if\n",
      "\n",
      "A2-Can use the affirmative form. (619)\n",
      "- \"If you would like, we can start with some vocabulary exercises,\" she suggests to the eager students.\n",
      "- It would be my pleasure to help you with that.\"\n",
      "- They talk about what they would do if they had more free time, where they would go on vacation if\n",
      "\n",
      "A2-Can use 'would' to talk about imagined situations. (622)\n",
      "- One boy raises his hand, \"Would it be okay if we practiced some basic grammar instead?\"\n",
      "- It would be my pleasure to help you with that.\"\n",
      "\n",
      "A2-Can use 'it would be' to make suggestions. (623)\n",
      "- One boy raises his hand, \"Would it be okay if we practiced some basic grammar instead?\"\n",
      "- It would be my pleasure to help you with that.\"\n",
      "\n",
      "B1-Can use question forms. (628)\n",
      "- One boy raises his hand, \"Would it be okay if we practiced some basic grammar instead?\"\n",
      "\n",
      "B1-Can use 'would' to make polite requests, often in the fixed expression 'would you mind'. (633)\n",
      "- One boy raises his hand, \"Would it be okay if we practiced some basic grammar instead?\"\n",
      "XXXXXXXXXXXXXXXXXXXXXXXXXXXXXXXXXXXXXXXXXXXXXXXXXXXXXXXXXXXXXXXXXXXXXXXXXXX\n",
      "Target: B1\n",
      " posters and a chalkboard stands at the front. As the teacher walks in, she greets the students warmly, \"If you were to study hard, you would definitely succeed in your exams.\" The students nod, understanding the importance of hard work. During the lesson, the teacher asks, \"Would you have completed your homework if I had assigned it yesterday?\" The students shake their heads, grateful for the extra day of preparation. After class, a student approaches the teacher, \"Would you mind explaining that concept again? I'm still a bit confused.\" The teacher smiles, happy to help. In the afternoon, the principal walks by and\n",
      "\n",
      "B1-Can use 'would' in the main clause of a conditional sentence to talk about an imagined situation, often in the context of advice or opinion-giving. (625)\n",
      "- As the teacher walks in, she greets the students warmly, \"If you were to study hard, you would definitely succeed in your exams.\"\n",
      "- During the lesson, the teacher asks, \"Would you have completed your homework if I had assigned it yesterday?\"\n",
      "\n",
      "B1-Can use 'would have' + '-ed'. (626)\n",
      "- During the lesson, the teacher asks, \"Would you have completed your homework if I had assigned it yesterday?\"\n",
      "\n",
      "B1-Can use question forms. (628)\n",
      "- During the lesson, the teacher asks, \"Would you have completed your homework if I had assigned it yesterday?\"\n",
      "- After class, a student approaches the teacher, \"Would you mind explaining that concept again?\n",
      "\n",
      "B1-Can use an limited range of adverbs with 'would', including 'really', 'probably', 'certainly', 'definitely'.► adverbs (629)\n",
      "- As the teacher walks in, she greets the students warmly, \"If you were to study hard, you would definitely succeed in your exams.\"\n",
      "\n",
      "B1-Can use 'would' with verbs such as 'advise', 'imagine', 'recommend', 'say' to be less direct. (632)\n",
      "- During the lesson, the teacher asks, \"Would you have completed your homework if I had assigned it yesterday?\"\n",
      "\n",
      "B1-Can use 'would' to make polite requests, often in the fixed expression 'would you mind'. (633)\n",
      "- During the lesson, the teacher asks, \"Would you have completed your homework if I had assigned it yesterday?\"\n",
      "- After class, a student approaches the teacher, \"Would you mind explaining that concept again?\n",
      "\n",
      "C1-Can use an increasing range of adverbs with 'would', including 'strongly', 'easily', 'especially', 'actually', 'absolutely', 'gladly'  ► adverbs (637)\n",
      "- As the teacher walks in, she greets the students warmly, \"If you were to study hard, you would definitely succeed in your exams.\"\n",
      "XXXXXXXXXXXXXXXXXXXXXXXXXXXXXXXXXXXXXXXXXXXXXXXXXXXXXXXXXXXXXXXXXXXXXXXXXXX\n",
      "Target: B2\n",
      " posters and maps. Every morning, the teacher would stand at the front of the room, greeting each student with a smile. The students would then take their seats, their eager faces ready to soak up knowledge. This routine would continue day after day, creating a safe and nurturing environment for learning.\n",
      "\n",
      "B2-Can use 'would' to talk about habitual actions and events in the past. (636)\n",
      "- Every morning, the teacher would stand at the front of the room, greeting each student with a smile.\n",
      "- The students would then take their seats, their eager faces ready to soak up knowledge.\n",
      "- This routine would continue day after day, creating a safe and nurturing environment for learning.\n",
      "XXXXXXXXXXXXXXXXXXXXXXXXXXXXXXXXXXXXXXXXXXXXXXXXXXXXXXXXXXXXXXXXXXXXXXXXXXX\n",
      "Target: C1\n",
      " posters and the desks are neatly arranged in rows. A young woman sits at one of the desks, smiling warmly at the students in front of her. \"If you were to study hard,\" she says, \"you would easily pass the exam.\" The students nod eagerly, understanding that with hard work and dedication, they can achieve success.\n",
      "\n",
      "C1-Can use an increasing range of adverbs with 'would', including 'strongly', 'easily', 'especially', 'actually', 'absolutely', 'gladly'  ► adverbs (637)\n",
      "- \"If you were to study hard,\" she says, \"you would easily pass the exam.\"\n",
      "XXXXXXXXXXXXXXXXXXXXXXXXXXXXXXXXXXXXXXXXXXXXXXXXXXXXXXXXXXXXXXXXXXXXXXXXXXX\n",
      "Target: C2\n",
      " posters and the desks are all neatly arranged in rows. The teacher stands at the front, holding a piece of chalk in one hand and a textbook in the other. He would undoubtedly captivate his students with his engaging lectures and charismatic personality.\n",
      "\n",
      "C2-Can use a wide range of adverbs with 'would', including 'undoubtedly', 'possibly', 'normally', 'personally', 'eventually', 'obviously', 'significantly', 'inevitably'. ► adverbs (638)\n",
      "- He would undoubtedly captivate his students with his engaging lectures and charismatic personality.\n",
      "XXXXXXXXXXXXXXXXXXXXXXXXXXXXXXXXXXXXXXXXXXXXXXXXXXXXXXXXXXXXXXXXXXXXXXXXXXX\n"
     ]
    }
   ],
   "source": [
    "snippet = random.sample(stories, 1)[0]\n",
    "print(snippet)\n",
    "for level, idx in level_idx.items():    \n",
    "    print(f\"Target: {level}\")\n",
    "    prompt_score(snippet, idx)\n",
    "    print(\"X\" * 75)"
   ]
  },
  {
   "cell_type": "markdown",
   "id": "fbcafb80-a1b7-497d-a5eb-ce2a8d46fea6",
   "metadata": {},
   "source": [
    "Do this with dialogs"
   ]
  },
  {
   "cell_type": "code",
   "execution_count": 10,
   "id": "9211922e-4a41-484f-af63-2935d8ae034f",
   "metadata": {
    "scrolled": true
   },
   "outputs": [
    {
     "name": "stdout",
     "output_type": "stream",
     "text": [
      "Target: A1\n",
      "Nice to meet you too! Would you like to go grab some coffee and chat for a bit?\n",
      "\n",
      "A1-Can use 'would like' to talk about wishes and preferences. (618)\n",
      "- Would you like to go grab some coffee and chat for a bit?\n",
      "\n",
      "A2-Can use the question form 'would you like'. (621)\n",
      "- Would you like to go grab some coffee and chat for a bit?\n",
      "XXXXXXXXXXXXXXXXXXXXXXXXXXXXXXXXXXXXXXXXXXXXXXXXXXXXXXXXXXXXXXXXXXXXXXXXXXX\n",
      "Target: A2\n",
      "Nice to meet you too! Would you like to go get some food together?\n",
      "A: That would be great! I would love to try some Canadian cuisine.\n",
      "B: How about poutine? It would be a classic Canadian dish to start with.\n",
      "A: That sounds delicious! I would definitely like to try it.\n",
      "\n",
      "A2-Can use the affirmative form. (619)\n",
      "- A: That would be great!\n",
      "- I would love to try some Canadian cuisine.\n",
      "- It would be a classic Canadian dish to start with.\n",
      "- I would definitely like to try it.\n",
      "\n",
      "A2-Can use the question form 'would you like'. (621)\n",
      "- Would you like to go get some food together?\n",
      "\n",
      "A2-Can use 'would' to talk about imagined situations. (622)\n",
      "- A: That would be great!\n",
      "- It would be a classic Canadian dish to start with.\n",
      "\n",
      "A2-Can use 'would' with a wide range of verbs to talk about wishes and preferences. (624)\n",
      "- I would love to try some Canadian cuisine.\n",
      "\n",
      "B1-Can use an limited range of adverbs with 'would', including 'really', 'probably', 'certainly', 'definitely'.► adverbs (629)\n",
      "- I would definitely like to try it.\n",
      "XXXXXXXXXXXXXXXXXXXXXXXXXXXXXXXXXXXXXXXXXXXXXXXXXXXXXXXXXXXXXXXXXXXXXXXXXXX\n",
      "Target: B1\n",
      "Nice to meet you too! If I were from America, I would have a different accent.\n",
      "\n",
      "B1-Can use 'would' in the main clause of a conditional sentence to talk about an imagined situation, often in the context of advice or opinion-giving. (625)\n",
      "- If I were from America, I would have a different accent.\n",
      "\n",
      "B1-Can use 'would' with verbs such as 'advise', 'imagine', 'recommend', 'say' to be less direct. (632)\n",
      "- If I were from America, I would have a different accent.\n",
      "XXXXXXXXXXXXXXXXXXXXXXXXXXXXXXXXXXXXXXXXXXXXXXXXXXXXXXXXXXXXXXXXXXXXXXXXXXX\n",
      "Target: B2\n",
      "Nice to meet you too! When I was younger, I would always celebrate Chinese New Year with my family.\n",
      "\n",
      "B2-Can use 'would' to talk about habitual actions and events in the past. (636)\n",
      "- When I was younger, I would always celebrate Chinese New Year with my family.\n",
      "XXXXXXXXXXXXXXXXXXXXXXXXXXXXXXXXXXXXXXXXXXXXXXXXXXXXXXXXXXXXXXXXXXXXXXXXXXX\n",
      "Target: C1\n",
      "Nice to meet you too! I would actually love to visit Canada one day.\n",
      "\n",
      "C1-Can use an increasing range of adverbs with 'would', including 'strongly', 'easily', 'especially', 'actually', 'absolutely', 'gladly'  ► adverbs (637)\n",
      "- I would actually love to visit Canada one day.\n",
      "XXXXXXXXXXXXXXXXXXXXXXXXXXXXXXXXXXXXXXXXXXXXXXXXXXXXXXXXXXXXXXXXXXXXXXXXXXX\n",
      "Target: C2\n",
      "Nice to meet you too! If I were American, I would undoubtedly speak English fluently, but since I am Canadian, I also speak French. What language would you possibly speak if you weren't Chinese?\n",
      "XXXXXXXXXXXXXXXXXXXXXXXXXXXXXXXXXXXXXXXXXXXXXXXXXXXXXXXXXXXXXXXXXXXXXXXXXXX\n"
     ]
    }
   ],
   "source": [
    "dialog = random.sample(ds.get_dialogues(), 1)[0]\n",
    "utterances = sample_adjacent(dialog)\n",
    "snippet = get_dialog_snippet(utterances)\n",
    "for level, idx in level_idx.items():\n",
    "    print(f\"Target: {level}\")\n",
    "    prompt_score(snippet, idx)\n",
    "    print(\"X\"*75)"
   ]
  },
  {
   "cell_type": "code",
   "execution_count": 21,
   "id": "cc72e0d3-67fd-4106-b400-383d91fc708d",
   "metadata": {},
   "outputs": [],
   "source": [
    "prompt = get_prompt(rules, 2, snippet)"
   ]
  },
  {
   "cell_type": "code",
   "execution_count": 22,
   "id": "a0e61311-bfb5-4566-ab0f-ed8a6d9de07b",
   "metadata": {},
   "outputs": [
    {
     "name": "stdout",
     "output_type": "stream",
     "text": [
      "Continue the snippet proving knowledge of at least one of these grammar skills:\n",
      "- would - FORM/USE: AFTER 'IF' CLAUSES: Can use 'would' in the main clause of a conditional sentence to talk about an imagined situation, often in the context of advice or opinion-giving.\n",
      "- would - FORM: PAST AFFIRMATIVE: Can use 'would have' + '-ed'.\n",
      "- would - FORM: PAST NEGATIVE: Can use 'would not have' + '-ed' or 'wouldn’t have' + '-ed'\n",
      "- would - FORM: QUESTIONS: Can use question forms.\n",
      "- would - FORM: WITH ADVERBS: Can use an limited range of adverbs with 'would', including 'really', 'probably', 'certainly', 'definitely'.► adverbs\n",
      "- would - USE: FUTURE IN THE PAST: Can use 'would' to talk about the future in the past.\n",
      "- would - USE: IMAGINED SITUATIONS IN THE PAST: Can use 'would' to talk about imagined situations in the past. ► conditionals\n",
      "- would - USE: INDIRECTNESS: Can use 'would' with verbs such as 'advise', 'imagine', 'recommend', 'say' to be less direct.\n",
      "- would - USE: POLITE REQUESTS: Can use 'would' to make polite requests, often in the fixed expression 'would you mind'.\n",
      "- would - USE: REPORTED SPEECH: Can use 'would' as the past form of 'will' in reported clauses.\n",
      "- would - USE: WILLINGNESS IN THE PAST: Can use the negative forms of 'would' to talk about willingness in the past.\n",
      "\n",
      "Snippet:\n",
      "A: Are you from America?\n",
      "B: No. I am Canadian. Are you Chinese?\n",
      "A: Yes. Nice to meet you!\n",
      "B: \n"
     ]
    }
   ],
   "source": [
    "print(prompt)"
   ]
  },
  {
   "cell_type": "code",
   "execution_count": null,
   "id": "1c007342-a2f8-4bb9-9464-be3525580c2b",
   "metadata": {},
   "outputs": [],
   "source": []
  }
 ],
 "metadata": {
  "kernelspec": {
   "display_name": "Python 3 (ipykernel)",
   "language": "python",
   "name": "python3"
  },
  "language_info": {
   "codemirror_mode": {
    "name": "ipython",
    "version": 3
   },
   "file_extension": ".py",
   "mimetype": "text/x-python",
   "name": "python",
   "nbconvert_exporter": "python",
   "pygments_lexer": "ipython3",
   "version": "3.11.2"
  }
 },
 "nbformat": 4,
 "nbformat_minor": 5
}
