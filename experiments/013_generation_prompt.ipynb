{
 "cells": [
  {
   "cell_type": "markdown",
   "id": "4d8aed03-cb38-492a-8fab-60d1e35b727c",
   "metadata": {},
   "source": [
    "# Exp013: Create constraints and prompts for grammar-controlled text generation tasks"
   ]
  },
  {
   "cell_type": "code",
   "execution_count": 8,
   "id": "86dccf97-0992-4cf4-abd1-4fb96ef2e489",
   "metadata": {},
   "outputs": [],
   "source": [
    "import random\n",
    "import os\n",
    "from dotenv import load_dotenv\n",
    "load_dotenv()\n",
    "import pandas as pd\n",
    "import sys\n",
    "sys.path.append('../source')\n",
    "import models\n",
    "import data\n",
    "import api\n",
    "import evaluation\n",
    "import importlib\n",
    "#importlib.reload(data)"
   ]
  },
  {
   "cell_type": "code",
   "execution_count": 45,
   "id": "f04b5921-b170-4436-8d8d-cf189826d6be",
   "metadata": {},
   "outputs": [],
   "source": [
    "# helper functions\n",
    "levels = [\"A1\", \"A2\", \"B1\", \"B2\", \"C1\", \"C2\"] \n",
    "level_idx = {level: i for i, level in enumerate(levels)}\n",
    "\n",
    "def skills(rules, statement=True):\n",
    "     if statement: return \"- \" + rules['SubCategory'] + \" - \" + rules['guideword'] + \": \" + rules['Can-do statement']\n",
    "     return rules['SubCategory'] + \" \" + rules['guideword']\n",
    "    \n",
    "def get_prompt(rules, snippet, negative_rules=None, dialog=True, all=False, level=None, statement=True):\n",
    "    sep = os.linesep if statement else \"; \"\n",
    "    if level:\n",
    "        constraints = f\"grammar skills on CEFR level {level}.\"\n",
    "    else: \n",
    "        exclude = f\"\"\"Do NOT apply the following grammar skills:\n",
    "    {sep.join(skills(negative_rules, statement=statement))}\n",
    "\"\"\" if negative_rules else \"\"\n",
    "        constraints = f\"\"\"{\"all\" if all else \"at least one\"} of these grammar skills:\n",
    "{sep.join(skills(rules, statement=statement))}\n",
    "{exclude}\"\"\"\n",
    "    return f\"\"\"Continue the {\"dialog with one turn\" if dialog else \"text with two sentences\"}, proving knowledge of {constraints}\n",
    "Snippet:\n",
    "{snippet}\"\"\"\n",
    "    \n",
    "def classify_sents(classifiers, rules, sentences, verbose=True):\n",
    "    results = []\n",
    "    for idx, rule in rules.iterrows():\n",
    "        scores = models.probe_model(classifiers[rule['#']], sentences)\n",
    "        hits = [sentences[i] for i, score in enumerate(scores[0]) if score > 0.5]\n",
    "        if verbose & len(hits): print(f'\\n{rule[\"Level\"]}-{rule[\"Can-do statement\"]} ({rule[\"#\"]})\\n{os.linesep.join([\"- \"+h for h in hits])}')\n",
    "        results.append(len(hits)/len(sentences))\n",
    "    return results\n",
    "\n",
    "def sample_adjacent(lst, n=4):\n",
    "    if len(lst) < n+1: return False\n",
    "    index = random.randint(0, len(lst) - n)\n",
    "    return lst[index:index+n]\n",
    "    \n",
    "def sample_dialog_snippet(dialogs, n=4):\n",
    "    dialog = random.sample(dialogs, 1)[0]\n",
    "    utterances = sample_adjacent(dialog, n=n+1)\n",
    "    while not utterances:\n",
    "        dialog = random.sample(dialogs, 1)[0]\n",
    "        utterances = sample_adjacent(dialog, n=n+1)\n",
    "    return os.linesep.join([(\"A\" if (i%2==0) else \"B\") + \": \" + utt for i, utt in enumerate(utterances[:-1] + [\"\"])]), utterances[-1]\n",
    "\n",
    "def prompt_score(rules, snippet, classifiers, dialog, all, n_responses=1, level=None, statement=True, verbose=False):\n",
    "    prompt = get_prompt(rules, snippet, dialog=dialog, all=all, level=level, statement=statement)\n",
    "    if verbose: print(prompt)\n",
    "    responses = [api.get_openai_chat_completion([{ \"role\": \"user\", \"content\": prompt}])[0] for _ in range(n_responses)] #, model=\"gpt-4-0125-preview\"\n",
    "    if verbose: print(\"RESPONSE from GPT3.5\")\n",
    "    if verbose: print(responses)\n",
    "    if dialog: print(evaluation.evaluate_responses([snippet], [responses], [list(rules['#'])], [[]]))\n",
    "    return [classify_sents(classifiers, rules, data.sent_tokenize(response), verbose) for response in responses]"
   ]
  },
  {
   "cell_type": "markdown",
   "id": "d720d72c-001b-4258-acad-9f95a46c2241",
   "metadata": {},
   "source": [
    "Load EGP rules, topical prompts and dialogs"
   ]
  },
  {
   "cell_type": "code",
   "execution_count": 50,
   "id": "5ecdf038-3b78-4ad5-87cc-7a84365738f2",
   "metadata": {
    "scrolled": true
   },
   "outputs": [],
   "source": [
    "egp = data.get_egp()\n",
    "cefr = data.CEFRTexts()\n",
    "stories = list(cefr.get_beginnings(100))\n",
    "ds = data.DialogSum()\n",
    "dd = data.DailyDialog()\n",
    "wow = data.WoW()\n",
    "dialogs = ds.get_dialogues() + dd.get_dialogues() + wow.get_dialogues()\n",
    "classifiers = {nr: models.load_classifier(nr, 'corpus_training') for nr in [int(name.replace(\".pth\",\"\")) for name in os.listdir(f\"../models/corpus_training\")]}"
   ]
  },
  {
   "cell_type": "markdown",
   "id": "1e9705fd-2edd-47c3-b833-88edfac04190",
   "metadata": {},
   "source": [
    "General parameters for datasets\n",
    "1. text vs dialog -> dialog\n",
    "2. context length -> 4 turns (trade off between context length and informativeness)\n",
    "\n",
    "Dev datasets: Wizard of Wikipedia, Daily Dialog, Dialog Sum\n",
    "Test datasets: CMUDoG\n",
    "\n",
    "- Should the dialog contexts be as diverse as possible, i.e. different for each datapoint or the same set of dialog contexts included in every combination of parameters?\n",
    "- Is it reasonable to work with a fixed number of turns both in training and test data?\n",
    "- Is it okay to include no or only an unconditioned ground truth answer in train and test set if all metrics are reference-free?"
   ]
  },
  {
   "cell_type": "markdown",
   "id": "95833ffb-6fcf-41c5-aaf0-10042fc81a4c",
   "metadata": {},
   "source": [
    "## Task 1: Single constraints"
   ]
  },
  {
   "cell_type": "code",
   "execution_count": 46,
   "id": "fed6ed12-babd-4267-a841-da3363c58c8f",
   "metadata": {},
   "outputs": [],
   "source": [
    "def sample_single_constraints(level=None, n_per_subcat=1, subcategories = [\"would\", \"negation\", \"superlatives\"]):\n",
    "    if level is None: level = random.sample(levels, 1)[0]\n",
    "    return egp[(egp['SubCategory'].isin(subcategories)) & (egp['Level']==level) & egp['#'].isin(classifiers.keys())].groupby(\"SubCategory\").sample(n_per_subcat)"
   ]
  },
  {
   "cell_type": "markdown",
   "id": "5231eb05-cefc-4ebd-96e1-b8bd76e7e0e2",
   "metadata": {},
   "source": [
    "For Text"
   ]
  },
  {
   "cell_type": "code",
   "execution_count": 47,
   "id": "c50759e8-9cbc-404e-b730-6748bbb46ce2",
   "metadata": {},
   "outputs": [
    {
     "name": "stdout",
     "output_type": "stream",
     "text": [
      "Continue the text with two sentences, proving knowledge of all of these grammar skills:\n",
      "- negation - FORM: AUXILIARY VERB 'DO', PAST: Can form negative statements of main verbs in the past simple with 'didn't' + main verb. ► past simple\n",
      "- superlatives - FORM/USE: COMPLEX NOUN PHRASES: Can form a limited range of complex noun phrases with a superlative adjective  + prepositional phrase, to talk about something unique.► noun phrases ►  clauses: comparison\n",
      "- would - USE: SUGGESTIONS WITH 'IT WOULD BE': Can use 'it would be' to make suggestions.\n",
      "\n",
      "Snippet:\n",
      "Andy Murray's first match since undergoing back surgery in September ended in a straight sets defeat to Jo-Wilfried Tsonga at an exhibition tournament in Abu Dhabi Thursday.\n",
      "RESPONSE from GPT3.5\n",
      "[\"However, despite the loss, Murray didn't disappoint his fans with his performance on the court. Some would argue that it was his strongest showing since his surgery.\"]\n",
      "\n",
      "A2-Can form negative statements of main verbs in the past simple with 'didn't' + main verb. ► past simple (1179)\n",
      "- However, despite the loss, Murray didn't disappoint his fans with his performance on the court.\n"
     ]
    },
    {
     "data": {
      "text/plain": [
       "[[0.5, 0.0, 0.0]]"
      ]
     },
     "execution_count": 47,
     "metadata": {},
     "output_type": "execute_result"
    }
   ],
   "source": [
    "snippet = random.sample(stories, 1)[0]\n",
    "rules = sample_single_constraints()\n",
    "prompt_score(rules, snippet, classifiers, dialog=False, all=True, verbose=True)"
   ]
  },
  {
   "cell_type": "markdown",
   "id": "3571a8ef-bbd2-467a-aefd-a66c11d9ac80",
   "metadata": {},
   "source": [
    "For Dialog"
   ]
  },
  {
   "cell_type": "code",
   "execution_count": 51,
   "id": "af418ca8-1e3b-44f8-a77c-d2ccbc37ddbf",
   "metadata": {
    "scrolled": true
   },
   "outputs": [
    {
     "name": "stdout",
     "output_type": "stream",
     "text": [
      "Continue the dialog with one turn, proving knowledge of all of these grammar skills:\n",
      "- negation - FORM: MODAL VERB 'CAN': Can use negative form 'can't'.\n",
      "- superlatives - FORM: 'MY BEST FRIEND': Can use the irregular superlative adjective 'best' in the phrase 'my best friend'.\n",
      "- would - USE: INVITATIONS WITH 'LIKE': Can use 'would like to invite' to make invitations.\n",
      "\n",
      "Snippet:\n",
      "A: Do you have any plans for tomorrow night?\n",
      "B: Not really. I wasn thinking of maybe going to a movie. Do you want to go with me?\n",
      "A: Sure. What movies were you thinking about going to?\n",
      "B: Have you heard of Hot Fuzz?\n",
      "A: \n",
      "RESPONSE from GPT3.5\n",
      "[\"Yes, I have! I've heard it's one of the best comedies ever made. My best friend would like to invite you to see it with us tomorrow night.\", \"Yes, I have! I heard it's the best movie of all time. My best friend saw it and said it was amazing. Would you like to see it tomorrow night?\", \"Yes, I've heard of it. It's one of my best friend's favorite movies. I would like to invite you to go see it with us tomorrow night if you're interested.\"]\n"
     ]
    },
    {
     "data": {
      "application/vnd.jupyter.widget-view+json": {
       "model_id": "50cf745c75b44de09f362039b943f13a",
       "version_major": 2,
       "version_minor": 0
      },
      "text/plain": [
       "Contexts:   0%|          | 0/1 [00:00<?, ?it/s]"
      ]
     },
     "metadata": {},
     "output_type": "display_data"
    },
    {
     "data": {
      "application/vnd.jupyter.widget-view+json": {
       "model_id": "",
       "version_major": 2,
       "version_minor": 0
      },
      "text/plain": [
       "Responses:   0%|          | 0/3 [00:00<?, ?it/s]"
      ]
     },
     "metadata": {},
     "output_type": "display_data"
    },
    {
     "name": "stdout",
     "output_type": "stream",
     "text": [
      "{'Distinctiveness': [0.6952380952380952], 'positive_constraints': [[[0.0, 0.3333333333333333, 0.3333333333333333], [0.0, 0.25, 0.0], [0.0, 0.3333333333333333, 0.3333333333333333]]], 'negative_constraints': [[[], [], []]], 'Appropriateness': [[2.0, 4.0, 3.0]], 'Relevance': [[2.0, 4.0, 4.0]], 'Content Richness': [[3.0, 4.0, 4.0]], 'Grammatical Correctness': [[4.0, 5.0, 4.0]]}\n",
      "\n",
      "A1-Can use the irregular superlative adjective 'best' in the phrase 'my best friend'. (57)\n",
      "- My best friend would like to invite you to see it with us tomorrow night.\n",
      "\n",
      "A1-Can use 'would like to invite' to make invitations. (617)\n",
      "- My best friend would like to invite you to see it with us tomorrow night.\n",
      "\n",
      "A1-Can use the irregular superlative adjective 'best' in the phrase 'my best friend'. (57)\n",
      "- My best friend saw it and said it was amazing.\n",
      "\n",
      "A1-Can use the irregular superlative adjective 'best' in the phrase 'my best friend'. (57)\n",
      "- It's one of my best friend's favorite movies.\n",
      "\n",
      "A1-Can use 'would like to invite' to make invitations. (617)\n",
      "- I would like to invite you to go see it with us tomorrow night if you're interested.\n",
      "____________________________________________________________________________________________________\n",
      "Continue the dialog with one turn, proving knowledge of all of these grammar skills:\n",
      "- negation - FORM: QUESTIONS: Can use negative question forms in main clauses and question tags. ► questions\n",
      "- would - FORM/USE: AFTER 'IF' CLAUSES: Can use 'would' in the main clause of a conditional sentence to talk about an imagined situation, often in the context of advice or opinion-giving.\n",
      "\n",
      "Snippet:\n",
      "A: Yes it is! A long series indeed, Its screenwriter George R R Martins fabulous work\n",
      "B: I wish I was as creative as him, I love my mind for sure, but I can't imagine what a day in his head is like.\n",
      "A: Oh I know right? I think he is known most due to the \"A Song of Ice and Fire\" series that later evolved into the Game of Thrones\n",
      "B: I didn't know that, that's incredible, so Game of Thrones is a spinoff?\n",
      "A: \n",
      "RESPONSE from GPT3.5\n",
      "['No, Game of Thrones is actually an adaptation of the \"A Song of Ice and Fire\" series. If it were a spinoff, the story would focus on one specific character or plotline from the original series.', 'Actually, no, Game of Thrones is an adaptation of the \"A Song of Ice and Fire\" series by George R R Martin. Would you believe that he originally intended for the series to be a trilogy?', 'No, Game of Thrones is actually an adaptation of the \"A Song of Ice and Fire\" series written by George R. R. Martin.']\n"
     ]
    },
    {
     "data": {
      "application/vnd.jupyter.widget-view+json": {
       "model_id": "6666e2bc8a0e4cf7873a934eda29055e",
       "version_major": 2,
       "version_minor": 0
      },
      "text/plain": [
       "Contexts:   0%|          | 0/1 [00:00<?, ?it/s]"
      ]
     },
     "metadata": {},
     "output_type": "display_data"
    },
    {
     "data": {
      "application/vnd.jupyter.widget-view+json": {
       "model_id": "",
       "version_major": 2,
       "version_minor": 0
      },
      "text/plain": [
       "Responses:   0%|          | 0/3 [00:00<?, ?it/s]"
      ]
     },
     "metadata": {},
     "output_type": "display_data"
    },
    {
     "name": "stdout",
     "output_type": "stream",
     "text": [
      "{'Distinctiveness': [0.6481481481481481], 'positive_constraints': [[[0.0, 0.5], [0.0, 0.0], [0.0, 0.0]]], 'negative_constraints': [[[], [], []]], 'Appropriateness': [[4.0, 4.0, 4.0]], 'Relevance': [[4.0, 4.0, 4.0]], 'Content Richness': [[4.0, 4.0, 4.0]], 'Grammatical Correctness': [[4.0, 4.0, 5.0]]}\n",
      "\n",
      "B1-Can use 'would' in the main clause of a conditional sentence to talk about an imagined situation, often in the context of advice or opinion-giving. (625)\n",
      "- If it were a spinoff, the story would focus on one specific character or plotline from the original series.\n",
      "____________________________________________________________________________________________________\n",
      "Continue the dialog with one turn, proving knowledge of all of these grammar skills:\n",
      "- negation - FORM/USE: 'NEVER', INVERTED FRONT POSITION, FOCUS: Can use 'never' in front position followed by an inverted subject (most commonly 'I') + main verb, to give focus. \n",
      "- would - USE: HABITUAL PAST: Can use 'would' to talk about habitual actions and events in the past.\n",
      "\n",
      "Snippet:\n",
      "A: Welcome to Bill's Fabric World. What can I do for you today?\n",
      "B: I was wondering if you guys also tailor clothes?\n",
      "A: Sure we do! We have the best tailors in the country! What is it that you need exactly?\n",
      "B: Well, I'm looking to get a custom-made suit.\n",
      "A: \n",
      "RESPONSE from GPT3.5\n",
      "['I would never trust anyone else but your tailors for something like that!', \"I never would have thought about getting a custom-made suit, but that sounds like a great idea! Let's get started.\", 'I would never tailor my own suits.']\n"
     ]
    },
    {
     "data": {
      "application/vnd.jupyter.widget-view+json": {
       "model_id": "5b6e74496ccf4bf1ba7926abf0f79617",
       "version_major": 2,
       "version_minor": 0
      },
      "text/plain": [
       "Contexts:   0%|          | 0/1 [00:00<?, ?it/s]"
      ]
     },
     "metadata": {},
     "output_type": "display_data"
    },
    {
     "data": {
      "application/vnd.jupyter.widget-view+json": {
       "model_id": "",
       "version_major": 2,
       "version_minor": 0
      },
      "text/plain": [
       "Responses:   0%|          | 0/3 [00:00<?, ?it/s]"
      ]
     },
     "metadata": {},
     "output_type": "display_data"
    },
    {
     "name": "stdout",
     "output_type": "stream",
     "text": [
      "{'Distinctiveness': [0.9534883720930233], 'positive_constraints': [[[0.0, 0.0], [0.0, 0.0], [0.0, 0.0]]], 'negative_constraints': [[[], [], []]], 'Appropriateness': [[4.0, 4.0, 1.0]], 'Relevance': [[2.0, 2.0, 1.0]], 'Content Richness': [[2.0, 2.0, 1.0]], 'Grammatical Correctness': [[4.0, 4.0, 2.0]]}\n",
      "____________________________________________________________________________________________________\n",
      "Continue the dialog with one turn, proving knowledge of all of these grammar skills:\n",
      "- negation - FORM/USE: 'NEITHER ... NOR': Can use 'neither ... nor' to connect two words, phrases or clauses, often to give emphasis or focus.\n",
      "- would - USE: HABITUAL PAST: Can use 'would' to talk about habitual actions and events in the past.\n",
      "\n",
      "Snippet:\n",
      "A: NO!\n",
      "B: I haven't even told you what it is yet!\n",
      "A: Okay, okay, what do you want?\n",
      "B: Do you think I could borrow the car? I'm going to a concert tonight.\n",
      "A: \n",
      "RESPONSE from GPT3.5\n",
      "[\"I'm sorry, but neither the car nor my motorcycle is available tonight. And, I'm afraid I wouldn't lend it out for concerts anyway.\", 'Neither can you borrow the car nor are you going to a concert. You never return it on time!', \"Sorry, I can't lend it to you. Neither can I nor want to risk it getting damaged. Plus, you know I would always worry about it.\"]\n"
     ]
    },
    {
     "data": {
      "application/vnd.jupyter.widget-view+json": {
       "model_id": "4f0787a5230145798658f374388a77cc",
       "version_major": 2,
       "version_minor": 0
      },
      "text/plain": [
       "Contexts:   0%|          | 0/1 [00:00<?, ?it/s]"
      ]
     },
     "metadata": {},
     "output_type": "display_data"
    },
    {
     "data": {
      "application/vnd.jupyter.widget-view+json": {
       "model_id": "",
       "version_major": 2,
       "version_minor": 0
      },
      "text/plain": [
       "Responses:   0%|          | 0/3 [00:00<?, ?it/s]"
      ]
     },
     "metadata": {},
     "output_type": "display_data"
    },
    {
     "name": "stdout",
     "output_type": "stream",
     "text": [
      "{'Distinctiveness': [0.9], 'positive_constraints': [[[0.5, 0.0], [0.0, 0.0], [0.0, 0.0]]], 'negative_constraints': [[[], [], []]], 'Appropriateness': [[2.0, 2.0, 2.0]], 'Relevance': [[2.0, 2.0, 2.0]], 'Content Richness': [[4.0, 2.0, 4.0]], 'Grammatical Correctness': [[4.0, 4.0, 4.0]]}\n",
      "\n",
      "B2-Can use 'neither ... nor' to connect two words, phrases or clauses, often to give emphasis or focus. (1194)\n",
      "- I'm sorry, but neither the car nor my motorcycle is available tonight.\n",
      "____________________________________________________________________________________________________\n",
      "Continue the dialog with one turn, proving knowledge of all of these grammar skills:\n",
      "- negation - FORM: 'NOT ALL', 'NOT EVERY': Can use 'not with indefinite pronouns 'everyone' and 'everything' and determiners 'every', 'all'.\n",
      "- would - FORM: WITH ADVERBS: Can use an increasing range of adverbs with 'would', including 'strongly', 'easily', 'especially', 'actually', 'absolutely', 'gladly'  ► adverbs\n",
      "\n",
      "Snippet:\n",
      "A: I feel totally refreshed.\n",
      "B: We have discount coupons. 100 Yuan for ten times. Would you like to have one?\n",
      "A: This time included?\n",
      "B: Of course.\n",
      "A: \n",
      "RESPONSE from GPT3.5\n",
      "[\"Not everyone has time to go ten times to the spa, so I'll pass on the coupon.\", 'Not everyone can use them though, not all students are eligible.', 'Not all of us would actually be able to use them, so maybe next time.']\n"
     ]
    },
    {
     "data": {
      "application/vnd.jupyter.widget-view+json": {
       "model_id": "c1b50f4b76cf4afab477eefc75a07571",
       "version_major": 2,
       "version_minor": 0
      },
      "text/plain": [
       "Contexts:   0%|          | 0/1 [00:00<?, ?it/s]"
      ]
     },
     "metadata": {},
     "output_type": "display_data"
    },
    {
     "data": {
      "application/vnd.jupyter.widget-view+json": {
       "model_id": "",
       "version_major": 2,
       "version_minor": 0
      },
      "text/plain": [
       "Responses:   0%|          | 0/3 [00:00<?, ?it/s]"
      ]
     },
     "metadata": {},
     "output_type": "display_data"
    },
    {
     "name": "stdout",
     "output_type": "stream",
     "text": [
      "{'Distinctiveness': [0.9361702127659575], 'positive_constraints': [[[1.0, 0.0], [1.0, 0.0], [1.0, 1.0]]], 'negative_constraints': [[[], [], []]], 'Appropriateness': [[2.0, 2.0, 2.0]], 'Relevance': [[2.0, 2.0, 2.0]], 'Content Richness': [[2.0, 2.0, 2.0]], 'Grammatical Correctness': [[4.0, 4.0, 4.0]]}\n",
      "\n",
      "C1-Can use 'not with indefinite pronouns 'everyone' and 'everything' and determiners 'every', 'all'. (1197)\n",
      "- Not everyone has time to go ten times to the spa, so I'll pass on the coupon.\n",
      "\n",
      "C1-Can use 'not with indefinite pronouns 'everyone' and 'everything' and determiners 'every', 'all'. (1197)\n",
      "- Not everyone can use them though, not all students are eligible.\n",
      "\n",
      "C1-Can use 'not with indefinite pronouns 'everyone' and 'everything' and determiners 'every', 'all'. (1197)\n",
      "- Not all of us would actually be able to use them, so maybe next time.\n",
      "\n",
      "C1-Can use an increasing range of adverbs with 'would', including 'strongly', 'easily', 'especially', 'actually', 'absolutely', 'gladly'  ► adverbs (637)\n",
      "- Not all of us would actually be able to use them, so maybe next time.\n",
      "____________________________________________________________________________________________________\n"
     ]
    }
   ],
   "source": [
    "for i in range(5):\n",
    "    rules = sample_single_constraints()\n",
    "    snippet, _ = sample_dialog_snippet(dialogs)\n",
    "    prompt_score(rules, snippet, classifiers, dialog=True, all=True, verbose=True, n_responses=3)\n",
    "    print(\"_\" * 100)"
   ]
  },
  {
   "cell_type": "markdown",
   "id": "f605181c-6251-4b01-88ec-893a3d77a6c0",
   "metadata": {},
   "source": [
    "Single constraints parameters\n",
    "1. number of single EGP skill constraints -> 1-6 (unreasonable to have more than six constraints in one answer)\n",
    "2. number of subcategories to choose constraints from -> 1-3 (cost of developing more classifiers)\n",
    "3. CEFR levels -> A1-C2\n",
    "\n",
    "dataset format\n",
    "\n",
    "CTX_SOURCE_DS | CTX_SOURCE_ID | CONTEXT | RESPONSE | EGP_NRS\n",
    "Daily Dialog | 023 | A: Hey B: Hey A: How are you? | B: I'm good | 616,636,1199"
   ]
  },
  {
   "cell_type": "code",
   "execution_count": 49,
   "id": "6d05eca6-4587-436f-a5a3-166886e147c2",
   "metadata": {},
   "outputs": [
    {
     "name": "stdout",
     "output_type": "stream",
     "text": [
      "Context: A: I do too! Bruce Almighty was hilarious\n",
      "B: Yes it was, he doesn't disappointed, I love his movies, including Dick and Jane and Truman Show!\n",
      "A: also has quite a few other big name actors and actresses like Freeman and Aniston!\n",
      "B: Fun with Dick and Jane is one of his best in my opinion.\n",
      "A: \n",
      "True response: he is talented for sure, like to get into character\n",
      "Context: A: I wonder what other powers she has\n",
      "B: yeah but she turns everything she touches to ice - thats scary :)\n",
      "A: and she has no control over it!\n",
      "B: haha that is scary\n",
      "A: \n",
      "True response: I guess that means no sex\n"
     ]
    }
   ],
   "source": [
    "subcats = [\"would\", \"negation\", \"superlatives\"]\n",
    "num_constraints = list(range(1,1+6))\n",
    "num_subcats = list(range(1,1+3))\n",
    "num_dialogs = 2\n",
    "random.seed(os.getenv(\"RANDOM_SEED\"))\n",
    "#dd = data.DialogSum()\n",
    "#dd = data.DailyDialog()\n",
    "#dd = data.WoW()\n",
    "dd = data.CMUDoG()\n",
    "dialogs = dd.get_dialogues()\n",
    "dialog_contexts = [sample_dialog_snippet(dialogs, n=4) for _ in range(num_dialogs)]\n",
    "\n",
    "for context, response in dialog_contexts:\n",
    "    print(f\"Context: {context}\")\n",
    "    print(f\"True response: {response}\")\n",
    "    for num_constraint in num_constraints:\n",
    "        for num_subcat in num_subcats:\n",
    "            for level in levels:\n",
    "                pass\n",
    "                # add to dataframe"
   ]
  },
  {
   "cell_type": "markdown",
   "id": "876556ad-af19-4d72-bcb9-50d58e944660",
   "metadata": {},
   "source": [
    "## Task 2: Combine subcategories"
   ]
  },
  {
   "cell_type": "markdown",
   "id": "74b77d9e-1ae4-4877-98c0-46fd26491794",
   "metadata": {},
   "source": [
    "Choose subcategory and level skills"
   ]
  },
  {
   "cell_type": "code",
   "execution_count": 52,
   "id": "cc8b7c4c-34ec-4548-8449-710f138a2fa1",
   "metadata": {},
   "outputs": [],
   "source": [
    "def sample_subcategory_rules(subcategories = [\"would\", \"negation\", \"superlatives\"], levels = [\"B1\", \"B2\", \"B1\"]):\n",
    "    filter_clf = (egp['#'].isin(classifiers.keys()))\n",
    "    return pd.concat([egp[(egp['SubCategory'] == subcat) & (egp['Level']==level) & filter_clf] for subcat, level in zip(subcategories, levels)])"
   ]
  },
  {
   "cell_type": "markdown",
   "id": "4d6268d6-c11e-4d6c-8a5c-37274318e001",
   "metadata": {},
   "source": [
    "Assemble prompt for a random story beginning, test it with GPT3.5 and use classifiers to score the response"
   ]
  },
  {
   "cell_type": "code",
   "execution_count": 53,
   "id": "275645fe-8cd0-48f7-a877-6089ac4b4c20",
   "metadata": {
    "scrolled": true
   },
   "outputs": [
    {
     "name": "stdout",
     "output_type": "stream",
     "text": [
      "Continue the text with two sentences, proving knowledge of at least one of these grammar skills:\n",
      "would FORM/USE: AFTER 'IF' CLAUSES; would FORM: PAST AFFIRMATIVE; would FORM: PAST NEGATIVE; would FORM: QUESTIONS; would FORM: WITH ADVERBS; would USE: FUTURE IN THE PAST; would USE: IMAGINED SITUATIONS IN THE PAST; would USE: INDIRECTNESS; would USE: POLITE REQUESTS; would USE: REPORTED SPEECH; would USE: WILLINGNESS IN THE PAST; negation FORM/USE: 'NOT', EMPHASIS; negation FORM/USE: 'NEVER', INVERTED FRONT POSITION, FOCUS; negation FORM/USE: 'NEITHER ... NOR'\n",
      "\n",
      "Snippet:\n",
      "Some people stood on the small pier.\n",
      "RESPONSE from GPT3.5\n",
      "['If they had known about the storm, they would not have gone sailing. Instead, they would have stayed safely on land.']\n",
      "\n",
      "B1-Can use 'would' in the main clause of a conditional sentence to talk about an imagined situation, often in the context of advice or opinion-giving. (625)\n",
      "- If they had known about the storm, they would not have gone sailing.\n",
      "\n",
      "B1-Can use 'would not have' + '-ed' or 'wouldn’t have' + '-ed' (627)\n",
      "- If they had known about the storm, they would not have gone sailing.\n",
      "\n",
      "B1-Can use 'would' as the past form of 'will' in reported clauses. (634)\n",
      "- If they had known about the storm, they would not have gone sailing.\n",
      "\n",
      "B2-Can use uncontracted 'not' for emphasis or in formal contexts. (1192)\n",
      "- If they had known about the storm, they would not have gone sailing.\n"
     ]
    },
    {
     "data": {
      "text/plain": [
       "[[0.5, 1.0, 0.5, 0.0, 0.0, 0.0, 1.0, 1.0, 0.0, 0.5, 0.0, 0.5, 0.0, 0.0]]"
      ]
     },
     "execution_count": 53,
     "metadata": {},
     "output_type": "execute_result"
    }
   ],
   "source": [
    "rules = sample_subcategory_rules()\n",
    "snippet = random.sample(stories, 1)[0]\n",
    "prompt_score(rules, snippet, classifiers, dialog=False, all=False, verbose=True, statement=False)"
   ]
  },
  {
   "cell_type": "markdown",
   "id": "fbcafb80-a1b7-497d-a5eb-ce2a8d46fea6",
   "metadata": {},
   "source": [
    "Do this with dialogs"
   ]
  },
  {
   "cell_type": "code",
   "execution_count": 54,
   "id": "9211922e-4a41-484f-af63-2935d8ae034f",
   "metadata": {
    "scrolled": true
   },
   "outputs": [
    {
     "name": "stdout",
     "output_type": "stream",
     "text": [
      "Continue the dialog with one turn, proving knowledge of at least one of these grammar skills:\n",
      "would FORM/USE: AFTER 'IF' CLAUSES; would FORM: PAST AFFIRMATIVE; would FORM: PAST NEGATIVE; would FORM: QUESTIONS; would FORM: WITH ADVERBS; would USE: FUTURE IN THE PAST; would USE: IMAGINED SITUATIONS IN THE PAST; would USE: INDIRECTNESS; would USE: POLITE REQUESTS; would USE: REPORTED SPEECH; would USE: WILLINGNESS IN THE PAST; negation FORM/USE: 'NOT', EMPHASIS; negation FORM/USE: 'NEVER', INVERTED FRONT POSITION, FOCUS; negation FORM/USE: 'NEITHER ... NOR'\n",
      "\n",
      "Snippet:\n",
      "(\"A: Yes I believe so, because it is a type of walking and all forms have health benefits. I think this also contributes too the popularity of hiking.\\nB: What kind of equipment do you need to go on a hike?\\nA: I think you would need some food and some mountain traversal gear like a pick axe. There are also apps like hike messenger that help you communicate while hiking.\\nB: Thanks for the tips i'll keep that in mind for my next hike. Also, are there any hazards I should be wary of?\\nA: \", 'I would say the main hazard you should focus on is the specific terrain that you explore. For instance the Appalachian trail is around 2200 miles long so you have to keep in mind the size while you navigate it.')\n",
      "RESPONSE from GPT3.5\n",
      "['B: Would you also recommend bringing a first aid kit in case of any emergencies while hiking?', \"B: Would you say it's better to hike with a partner rather than alone for safety reasons?\", 'B: Would you recommend that I bring a map and compass to ensure I stay on the right track?']\n"
     ]
    },
    {
     "data": {
      "application/vnd.jupyter.widget-view+json": {
       "model_id": "a5492ac0afd0484c8d8e5f3186f694a6",
       "version_major": 2,
       "version_minor": 0
      },
      "text/plain": [
       "Contexts:   0%|          | 0/1 [00:00<?, ?it/s]"
      ]
     },
     "metadata": {},
     "output_type": "display_data"
    },
    {
     "data": {
      "application/vnd.jupyter.widget-view+json": {
       "model_id": "",
       "version_major": 2,
       "version_minor": 0
      },
      "text/plain": [
       "Responses:   0%|          | 0/3 [00:00<?, ?it/s]"
      ]
     },
     "metadata": {},
     "output_type": "display_data"
    },
    {
     "name": "stdout",
     "output_type": "stream",
     "text": [
      "{'Distinctiveness': [0.8947368421052632], 'positive_constraints': [[[0.0, 0.0, 0.0, 1.0, 0.0, 0.0, 0.0, 0.0, 0.0, 0.0, 0.0, 0.0, 0.0, 0.0], [0.0, 0.0, 0.0, 1.0, 0.0, 0.0, 0.0, 0.0, 0.0, 0.0, 0.0, 0.0, 0.0, 0.0], [0.0, 0.0, 0.0, 1.0, 0.0, 0.0, 0.0, 0.0, 1.0, 0.0, 0.0, 0.0, 0.0, 0.0]]], 'negative_constraints': [[[], [], []]], 'Appropriateness': [[4.0, 4.0, 4.0]], 'Relevance': [[4.0, 3.0, 4.0]], 'Content Richness': [[4.0, 3.0, 3.0]], 'Grammatical Correctness': [[4.0, 4.0, 5.0]]}\n",
      "\n",
      "B1-Can use question forms. (628)\n",
      "- B: Would you also recommend bringing a first aid kit in case of any emergencies while hiking?\n",
      "\n",
      "B1-Can use question forms. (628)\n",
      "- B: Would you say it's better to hike with a partner rather than alone for safety reasons?\n",
      "\n",
      "B1-Can use question forms. (628)\n",
      "- B: Would you recommend that I bring a map and compass to ensure I stay on the right track?\n",
      "\n",
      "B1-Can use 'would' to make polite requests, often in the fixed expression 'would you mind'. (633)\n",
      "- B: Would you recommend that I bring a map and compass to ensure I stay on the right track?\n",
      "____________________________________________________________________________________________________\n",
      "Continue the dialog with one turn, proving knowledge of at least one of these grammar skills:\n",
      "would FORM/USE: AFTER 'IF' CLAUSES; would FORM: PAST AFFIRMATIVE; would FORM: PAST NEGATIVE; would FORM: QUESTIONS; would FORM: WITH ADVERBS; would USE: FUTURE IN THE PAST; would USE: IMAGINED SITUATIONS IN THE PAST; would USE: INDIRECTNESS; would USE: POLITE REQUESTS; would USE: REPORTED SPEECH; would USE: WILLINGNESS IN THE PAST; negation FORM/USE: 'NOT', EMPHASIS; negation FORM/USE: 'NEVER', INVERTED FRONT POSITION, FOCUS; negation FORM/USE: 'NEITHER ... NOR'\n",
      "\n",
      "Snippet:\n",
      "('A: It expected!parenting is all about promoting and supporting the physical, emotional, social, and intellectual development of a child \\nB: Yes! You have to be there for your child.\\nA: Not meeting their basic needs could result in child neglet. You know\\nB: Oh yes, of course. I would never neglect my child, that would be horrible. I strive to be the best mom I can be to her. \\nA: ', 'Poverty is often the reason why parents neglect their children, especially in poor nations,like Africa.')\n",
      "RESPONSE from GPT3.5\n",
      "[\"B: Yes, it is heartbreaking to think about the struggles that some parents face in providing for their children. If I were in their shoes, I would do everything in my power to ensure my child's well-being.\", \"B: It's true that poverty can lead to neglect, but it's not always the only factor. Sometimes parents may neglect their children due to other reasons like addiction or mental health issues. It's important to address the root causes of neglect to prevent it from happening.\", \"B: It's heartbreaking to think about children not receiving proper care and attention due to poverty. I would do anything to ensure my child has everything she needs.\"]\n"
     ]
    },
    {
     "data": {
      "application/vnd.jupyter.widget-view+json": {
       "model_id": "3f22b77e40f845d6967ca4469b19e8da",
       "version_major": 2,
       "version_minor": 0
      },
      "text/plain": [
       "Contexts:   0%|          | 0/1 [00:00<?, ?it/s]"
      ]
     },
     "metadata": {},
     "output_type": "display_data"
    },
    {
     "data": {
      "application/vnd.jupyter.widget-view+json": {
       "model_id": "",
       "version_major": 2,
       "version_minor": 0
      },
      "text/plain": [
       "Responses:   0%|          | 0/3 [00:00<?, ?it/s]"
      ]
     },
     "metadata": {},
     "output_type": "display_data"
    },
    {
     "name": "stdout",
     "output_type": "stream",
     "text": [
      "{'Distinctiveness': [0.8809523809523809], 'positive_constraints': [[[0.5, 0.0, 0.0, 0.0, 0.0, 0.0, 0.0, 0.5, 0.0, 0.0, 0.0, 0.0, 0.0, 0.0], [0.0, 0.0, 0.0, 0.0, 0.0, 0.0, 0.0, 0.0, 0.0, 0.0, 0.0, 0.0, 0.0, 0.0], [0.0, 0.0, 0.0, 0.0, 0.0, 0.0, 0.0, 0.0, 0.0, 0.0, 0.0, 0.0, 0.0, 0.0]]], 'negative_constraints': [[[], [], []]], 'Appropriateness': [[4.0, 4.0, 4.0]], 'Relevance': [[4.0, 4.0, 4.0]], 'Content Richness': [[4.0, 4.0, 4.0]], 'Grammatical Correctness': [[4.0, 4.0, 4.0]]}\n",
      "\n",
      "B1-Can use 'would' in the main clause of a conditional sentence to talk about an imagined situation, often in the context of advice or opinion-giving. (625)\n",
      "- If I were in their shoes, I would do everything in my power to ensure my child's well-being.\n",
      "\n",
      "B1-Can use 'would' with verbs such as 'advise', 'imagine', 'recommend', 'say' to be less direct. (632)\n",
      "- If I were in their shoes, I would do everything in my power to ensure my child's well-being.\n",
      "____________________________________________________________________________________________________\n",
      "Continue the dialog with one turn, proving knowledge of at least one of these grammar skills:\n",
      "would FORM/USE: AFTER 'IF' CLAUSES; would FORM: PAST AFFIRMATIVE; would FORM: PAST NEGATIVE; would FORM: QUESTIONS; would FORM: WITH ADVERBS; would USE: FUTURE IN THE PAST; would USE: IMAGINED SITUATIONS IN THE PAST; would USE: INDIRECTNESS; would USE: POLITE REQUESTS; would USE: REPORTED SPEECH; would USE: WILLINGNESS IN THE PAST; negation FORM/USE: 'NOT', EMPHASIS; negation FORM/USE: 'NEVER', INVERTED FRONT POSITION, FOCUS; negation FORM/USE: 'NEITHER ... NOR'\n",
      "\n",
      "Snippet:\n",
      "('A: Yeah, I think my next step is to be a \"seat filler\" at the Academy Awards.  \\nB: Oh, you mean a person who fills in an empty seat during an event? I bet that\\'s how Trump gets people to go to his speeches!\\nA: Yes that\\'s exactly what I mean! I just need a NON Harvey Weinstein type person to discover me to be famous!\\nB: Well, depending on the production the criteria for casting background actors is going to be different. I\\'m sure you\\'ll find your niche role eventually!\\nA: ', \"My parents say I shouldn't go to Hollywood.  They want me to keep my day job as a Wal-Mart greeter, but I'm packing my car.  California here I come!\")\n",
      "RESPONSE from GPT3.5\n",
      "[\"B: If your heart is set on pursuing your dream of becoming a seat filler at the Academy Awards, then I believe you should go for it. Your parents may have their concerns, but ultimately it's your decision to make. Good luck on your journey to California!\", \"B: If I were in your position, I would listen to my parents' advice and consider keeping your day job at Wal-Mart. It's important to have a stable source of income while pursuing your dream in Hollywood.\", \"B: If I were you, I would listen to your parents' advice. It's important to have a stable job while pursuing your dreams. And who knows, maybe your big break will come when you least expect it!\"]\n"
     ]
    },
    {
     "data": {
      "application/vnd.jupyter.widget-view+json": {
       "model_id": "a4db7edae24a4609a577482128d67f5e",
       "version_major": 2,
       "version_minor": 0
      },
      "text/plain": [
       "Contexts:   0%|          | 0/1 [00:00<?, ?it/s]"
      ]
     },
     "metadata": {},
     "output_type": "display_data"
    },
    {
     "data": {
      "application/vnd.jupyter.widget-view+json": {
       "model_id": "",
       "version_major": 2,
       "version_minor": 0
      },
      "text/plain": [
       "Responses:   0%|          | 0/3 [00:00<?, ?it/s]"
      ]
     },
     "metadata": {},
     "output_type": "display_data"
    },
    {
     "name": "stdout",
     "output_type": "stream",
     "text": [
      "{'Distinctiveness': [0.8345323741007195], 'positive_constraints': [[[0.0, 0.0, 0.0, 0.0, 0.0, 0.0, 0.0, 0.0, 0.0, 0.0, 0.0, 0.0, 0.0, 0.0], [0.5, 0.0, 0.0, 0.0, 0.0, 0.0, 0.0, 0.5, 0.0, 0.0, 0.0, 0.0, 0.0, 0.0], [0.3333333333333333, 0.0, 0.0, 0.0, 0.0, 0.0, 0.0, 0.3333333333333333, 0.0, 0.0, 0.0, 0.0, 0.0, 0.0]]], 'negative_constraints': [[[], [], []]], 'Appropriateness': [[4.0, 3.0, 3.0]], 'Relevance': [[4.0, 3.0, 2.0]], 'Content Richness': [[4.0, 3.0, 3.0]], 'Grammatical Correctness': [[4.0, 4.0, 4.0]]}\n",
      "\n",
      "B1-Can use 'would' in the main clause of a conditional sentence to talk about an imagined situation, often in the context of advice or opinion-giving. (625)\n",
      "- B: If I were in your position, I would listen to my parents' advice and consider keeping your day job at Wal-Mart.\n",
      "\n",
      "B1-Can use 'would' with verbs such as 'advise', 'imagine', 'recommend', 'say' to be less direct. (632)\n",
      "- B: If I were in your position, I would listen to my parents' advice and consider keeping your day job at Wal-Mart.\n",
      "\n",
      "B1-Can use 'would' in the main clause of a conditional sentence to talk about an imagined situation, often in the context of advice or opinion-giving. (625)\n",
      "- B: If I were you, I would listen to your parents' advice.\n",
      "\n",
      "B1-Can use 'would' with verbs such as 'advise', 'imagine', 'recommend', 'say' to be less direct. (632)\n",
      "- B: If I were you, I would listen to your parents' advice.\n",
      "____________________________________________________________________________________________________\n",
      "Continue the dialog with one turn, proving knowledge of at least one of these grammar skills:\n",
      "would FORM/USE: AFTER 'IF' CLAUSES; would FORM: PAST AFFIRMATIVE; would FORM: PAST NEGATIVE; would FORM: QUESTIONS; would FORM: WITH ADVERBS; would USE: FUTURE IN THE PAST; would USE: IMAGINED SITUATIONS IN THE PAST; would USE: INDIRECTNESS; would USE: POLITE REQUESTS; would USE: REPORTED SPEECH; would USE: WILLINGNESS IN THE PAST; negation FORM/USE: 'NOT', EMPHASIS; negation FORM/USE: 'NEVER', INVERTED FRONT POSITION, FOCUS; negation FORM/USE: 'NEITHER ... NOR'\n",
      "\n",
      "Snippet:\n",
      "('A: Yes, The novels chronicle the life of a young wizard, Harry Potter, and his friends Hermione Granger and Ron Weasley\\nB: Yes,  and they have a wonderful friend in Dumbledore\\nA: Yes, is the headmaster of the wizarding school Hogwarts.\\nB: Yes,  They had to fight so many bad creatures\\nA: ', 'Lord Voldemort and his followers, the Death Eaters, are quite scary')\n",
      "RESPONSE from GPT3.5\n",
      "['B: Yes, and they would always have to come up with clever strategies to defeat them.', 'B: Yes, they even had to face Dementors, creatures that feed on human happiness, in addition to Lord Voldemort and his followers.', 'B: Yes, they were always plotting against Harry and trying to bring him harm.']\n"
     ]
    },
    {
     "data": {
      "application/vnd.jupyter.widget-view+json": {
       "model_id": "49826c7c0c52427bb7996fc3014b357e",
       "version_major": 2,
       "version_minor": 0
      },
      "text/plain": [
       "Contexts:   0%|          | 0/1 [00:00<?, ?it/s]"
      ]
     },
     "metadata": {},
     "output_type": "display_data"
    },
    {
     "data": {
      "application/vnd.jupyter.widget-view+json": {
       "model_id": "",
       "version_major": 2,
       "version_minor": 0
      },
      "text/plain": [
       "Responses:   0%|          | 0/3 [00:00<?, ?it/s]"
      ]
     },
     "metadata": {},
     "output_type": "display_data"
    },
    {
     "name": "stdout",
     "output_type": "stream",
     "text": [
      "{'Distinctiveness': [0.8833333333333333], 'positive_constraints': [[[0.0, 0.0, 0.0, 0.0, 0.0, 0.0, 0.0, 0.0, 0.0, 0.0, 0.0, 0.0, 0.0, 0.0], [0.0, 0.0, 0.0, 0.0, 0.0, 0.0, 0.0, 0.0, 0.0, 0.0, 0.0, 0.0, 0.0, 0.0], [0.0, 0.0, 0.0, 0.0, 0.0, 0.0, 0.0, 0.0, 0.0, 0.0, 0.0, 0.0, 0.0, 0.0]]], 'negative_constraints': [[[], [], []]], 'Appropriateness': [[4.0, 4.0, 4.0]], 'Relevance': [[4.0, 4.0, 4.0]], 'Content Richness': [[4.0, 4.0, 4.0]], 'Grammatical Correctness': [[4.0, 4.0, 4.0]]}\n",
      "____________________________________________________________________________________________________\n",
      "Continue the dialog with one turn, proving knowledge of at least one of these grammar skills:\n",
      "would FORM/USE: AFTER 'IF' CLAUSES; would FORM: PAST AFFIRMATIVE; would FORM: PAST NEGATIVE; would FORM: QUESTIONS; would FORM: WITH ADVERBS; would USE: FUTURE IN THE PAST; would USE: IMAGINED SITUATIONS IN THE PAST; would USE: INDIRECTNESS; would USE: POLITE REQUESTS; would USE: REPORTED SPEECH; would USE: WILLINGNESS IN THE PAST; negation FORM/USE: 'NOT', EMPHASIS; negation FORM/USE: 'NEVER', INVERTED FRONT POSITION, FOCUS; negation FORM/USE: 'NEITHER ... NOR'\n",
      "\n",
      "Snippet:\n",
      "(\"A: Just follow the foot movements. Brush left, brush right. . . yeah! That's it!\\nB: Whoa! We're changing partners now? Where do I go?\\nA: Let the men take the lead!\\nB: Whoa! Oh, no!\\nA: \", 'Oops!')\n",
      "RESPONSE from GPT3.5\n",
      "['B: Would you mind if I take the lead this time?', 'B: Would you mind showing me the steps again?', 'B: If I had known we were changing partners, I would have practiced more beforehand.']\n"
     ]
    },
    {
     "data": {
      "application/vnd.jupyter.widget-view+json": {
       "model_id": "6dc007c0c916496e93c95d6d0ac37fa3",
       "version_major": 2,
       "version_minor": 0
      },
      "text/plain": [
       "Contexts:   0%|          | 0/1 [00:00<?, ?it/s]"
      ]
     },
     "metadata": {},
     "output_type": "display_data"
    },
    {
     "data": {
      "application/vnd.jupyter.widget-view+json": {
       "model_id": "",
       "version_major": 2,
       "version_minor": 0
      },
      "text/plain": [
       "Responses:   0%|          | 0/3 [00:00<?, ?it/s]"
      ]
     },
     "metadata": {},
     "output_type": "display_data"
    },
    {
     "name": "stdout",
     "output_type": "stream",
     "text": [
      "{'Distinctiveness': [0.8717948717948718], 'positive_constraints': [[[0.0, 0.0, 0.0, 1.0, 0.0, 0.0, 0.0, 0.0, 1.0, 0.0, 0.0, 0.0, 0.0, 0.0], [0.0, 0.0, 0.0, 1.0, 0.0, 0.0, 0.0, 0.0, 1.0, 0.0, 0.0, 0.0, 0.0, 0.0], [1.0, 1.0, 0.0, 0.0, 0.0, 0.0, 1.0, 1.0, 0.0, 0.0, 0.0, 0.0, 0.0, 0.0]]], 'negative_constraints': [[[], [], []]], 'Appropriateness': [[4.0, 4.0, 3.0]], 'Relevance': [[2.0, 4.0, 2.0]], 'Content Richness': [[3.0, 4.0, 3.0]], 'Grammatical Correctness': [[4.0, 5.0, 4.0]]}\n",
      "\n",
      "B1-Can use question forms. (628)\n",
      "- B: Would you mind if I take the lead this time?\n",
      "\n",
      "B1-Can use 'would' to make polite requests, often in the fixed expression 'would you mind'. (633)\n",
      "- B: Would you mind if I take the lead this time?\n",
      "\n",
      "B1-Can use question forms. (628)\n",
      "- B: Would you mind showing me the steps again?\n",
      "\n",
      "B1-Can use 'would' to make polite requests, often in the fixed expression 'would you mind'. (633)\n",
      "- B: Would you mind showing me the steps again?\n",
      "\n",
      "B1-Can use 'would' in the main clause of a conditional sentence to talk about an imagined situation, often in the context of advice or opinion-giving. (625)\n",
      "- B: If I had known we were changing partners, I would have practiced more beforehand.\n",
      "\n",
      "B1-Can use 'would have' + '-ed'. (626)\n",
      "- B: If I had known we were changing partners, I would have practiced more beforehand.\n",
      "\n",
      "B1-Can use 'would' to talk about imagined situations in the past. ► conditionals (631)\n",
      "- B: If I had known we were changing partners, I would have practiced more beforehand.\n",
      "\n",
      "B1-Can use 'would' with verbs such as 'advise', 'imagine', 'recommend', 'say' to be less direct. (632)\n",
      "- B: If I had known we were changing partners, I would have practiced more beforehand.\n",
      "____________________________________________________________________________________________________\n"
     ]
    }
   ],
   "source": [
    "for i in range(5):\n",
    "    rules = sample_subcategory_rules()\n",
    "    snippet = sample_dialog_snippet(dialogs)\n",
    "    prompt_score(rules, snippet, classifiers, dialog=True, all=False, verbose=True, statement=False, n_responses=3)\n",
    "    print(\"_\" * 100)"
   ]
  },
  {
   "cell_type": "markdown",
   "id": "c3140d76-fb71-48a3-afc3-55abf35a3c55",
   "metadata": {},
   "source": [
    "Subcategory constraints parameters\n",
    "1. number of subcategories to choose constraints from -> 1-3 (cost of developing more classifiers)\n",
    "2. CEFR levels -> A1-C2\n",
    "3. maximum difference between CEFR levels per category\n",
    "\n",
    "dataset format\n",
    "\n",
    "CTX_SOURCE_DS | CTX_SOURCE_ID | CONTEXT | RESPONSE | SUBCATS x LEVELS\n",
    "Daily Dialog | 023 | A: Hey B: Hey A: How are you? | B: I'm good | would_B2, negation_C1, superlatives_B1"
   ]
  },
  {
   "cell_type": "markdown",
   "id": "a597ecdf-abfe-4998-bd60-5513dbf9c5a4",
   "metadata": {},
   "source": [
    "## Task 3: All skills from one difficulty level"
   ]
  },
  {
   "cell_type": "code",
   "execution_count": 36,
   "id": "f9ee1add-a19d-4fd9-a421-22fbc905cd7d",
   "metadata": {},
   "outputs": [],
   "source": [
    "def sample_level_rules(level = None):\n",
    "    if level is None: level = random.sample(levels, 1)[0]\n",
    "    return level, egp[(egp['Level']==level) & (egp['#'].isin(classifiers.keys()))]"
   ]
  },
  {
   "cell_type": "code",
   "execution_count": 37,
   "id": "44f00b26-1705-40f6-ac77-9dda35c24a69",
   "metadata": {},
   "outputs": [
    {
     "name": "stdout",
     "output_type": "stream",
     "text": [
      "Continue the text with two sentences, proving knowledge of grammar skills on CEFR level C1.\n",
      "Snippet:\n",
      "On December 7, 1941, the United States of America was attacked by the Imperial Japanese Navy at Pearl Harbor, Hawaii.\n",
      "RESPONSE from GPT3.5\n",
      "[\"This event led to the United States' entry into World War II, marking a turning point in the conflict and drastically changing the course of history. The surprise attack resulted in significant damage to the US Pacific Fleet and the loss of thousands of lives.\"]\n"
     ]
    },
    {
     "data": {
      "text/plain": [
       "[[0.0, 0.0, 0.0, 0.0]]"
      ]
     },
     "execution_count": 37,
     "metadata": {},
     "output_type": "execute_result"
    }
   ],
   "source": [
    "level, rules = sample_level_rules()\n",
    "snippet = random.sample(stories, 1)[0]\n",
    "prompt_score(rules, snippet, classifiers, dialog=False, all=False, verbose=True, level=level)"
   ]
  },
  {
   "cell_type": "code",
   "execution_count": 39,
   "id": "1c007342-a2f8-4bb9-9464-be3525580c2b",
   "metadata": {
    "scrolled": true
   },
   "outputs": [
    {
     "name": "stdout",
     "output_type": "stream",
     "text": [
      "Continue the dialog with one turn, proving knowledge of grammar skills on CEFR level B1.\n",
      "Snippet:\n",
      "A: That is what tornadoes sound like. They sound like trains. They're very loud.\n",
      "B: But if you hear them coming, isn't it already too late?\n",
      "A: Maybe. It depends on the tornado. Some can move across the ground at 200 miles an hour. That is very fast. Others aren't so fast.\n",
      "B: \n",
      "RESPONSE from GPT3.5\n",
      "['Yes, I heard that the speed of a tornado can vary greatly depending on its size and strength.', 'I heard that tornadoes can leave a path of destruction behind them.', \"Yes, I've heard that tornadoes can vary in speed depending on their size and strength. I once read that the Enhanced Fujita Scale is used to measure their intensity.\"]\n"
     ]
    },
    {
     "data": {
      "application/vnd.jupyter.widget-view+json": {
       "model_id": "4b948cd1180b4b0dbe53d44bae52ee30",
       "version_major": 2,
       "version_minor": 0
      },
      "text/plain": [
       "Contexts:   0%|          | 0/1 [00:00<?, ?it/s]"
      ]
     },
     "metadata": {},
     "output_type": "display_data"
    },
    {
     "data": {
      "application/vnd.jupyter.widget-view+json": {
       "model_id": "",
       "version_major": 2,
       "version_minor": 0
      },
      "text/plain": [
       "Responses:   0%|          | 0/3 [00:00<?, ?it/s]"
      ]
     },
     "metadata": {},
     "output_type": "display_data"
    },
    {
     "name": "stdout",
     "output_type": "stream",
     "text": [
      "{'Distinctiveness': [0.7936507936507936], 'positive_constraints': [[[0.0, 0.0, 0.0, 0.0, 0.0, 0.0, 0.0, 0.0, 0.0, 0.0, 0.0, 0.0, 0.0, 0.0, 0.0, 0.0, 0.0], [0.0, 0.0, 0.0, 0.0, 0.0, 0.0, 0.0, 0.0, 0.0, 0.0, 0.0, 0.0, 0.0, 0.0, 0.0, 0.0, 0.0], [0.0, 0.0, 0.0, 0.0, 0.0, 0.0, 0.0, 0.0, 0.0, 0.0, 0.0, 0.0, 0.0, 0.0, 0.0, 0.0, 0.0]]], 'negative_constraints': [[[], [], []]], 'Appropriateness': [[4.0, 4.0, 4.0]], 'Relevance': [[4.0, 4.0, 4.0]], 'Content Richness': [[4.0, 3.0, 4.0]], 'Grammatical Correctness': [[5.0, 4.0, 5.0]]}\n",
      "____________________________________________________________________________________________________\n",
      "Continue the dialog with one turn, proving knowledge of grammar skills on CEFR level C2.\n",
      "Snippet:\n",
      "A: I appreciate it very much. You've been doing great. I expect to see you be promoted pretty soon.\n",
      "B: that's very nice of you to say so. I'll try my best. When will you start at the new position?\n",
      "A: next week.\n",
      "B: \n",
      "RESPONSE from GPT3.5\n",
      "[\"I'm happy to hear that. I will make sure to fill any gaps in knowledge that may arise during the transition.\", 'Well, congratulations on your promotion. I am sure you will excel in your new role.', \"I'm looking forward to starting, thank you for your support.\"]\n"
     ]
    },
    {
     "data": {
      "application/vnd.jupyter.widget-view+json": {
       "model_id": "9d22623b206b4484b1e6ca772f53e774",
       "version_major": 2,
       "version_minor": 0
      },
      "text/plain": [
       "Contexts:   0%|          | 0/1 [00:00<?, ?it/s]"
      ]
     },
     "metadata": {},
     "output_type": "display_data"
    },
    {
     "data": {
      "application/vnd.jupyter.widget-view+json": {
       "model_id": "",
       "version_major": 2,
       "version_minor": 0
      },
      "text/plain": [
       "Responses:   0%|          | 0/3 [00:00<?, ?it/s]"
      ]
     },
     "metadata": {},
     "output_type": "display_data"
    },
    {
     "name": "stdout",
     "output_type": "stream",
     "text": [
      "{'Distinctiveness': [0.9615384615384616], 'positive_constraints': [[[0.0, 0.0, 0.0, 0.0], [0.0, 0.0, 0.0, 0.0], [0.0, 0.0, 0.0, 0.0]]], 'negative_constraints': [[[], [], []]], 'Appropriateness': [[4.0, 4.0, 4.0]], 'Relevance': [[4.0, 4.0, 4.0]], 'Content Richness': [[4.0, 4.0, 3.0]], 'Grammatical Correctness': [[4.0, 5.0, 5.0]]}\n",
      "____________________________________________________________________________________________________\n",
      "Continue the dialog with one turn, proving knowledge of grammar skills on CEFR level C2.\n",
      "Snippet:\n",
      "A: Hi, Peter. I'm afraid I can't make it to dinner tomorrow night.\n",
      "B: Oh, why not?\n",
      "A: It's just I'm not feeling well. I think I'm coming down with a cold or something.\n",
      "B: \n",
      "RESPONSE from GPT3.5\n",
      "['I can completely understand, health should always come first.', \"I'm really sorry to hear that. Make sure to get plenty of rest and stay hydrated.\", \"That's too bad. I hope you feel better soon.\"]\n"
     ]
    },
    {
     "data": {
      "application/vnd.jupyter.widget-view+json": {
       "model_id": "829420c838f648c5aa4ebab71fe715b1",
       "version_major": 2,
       "version_minor": 0
      },
      "text/plain": [
       "Contexts:   0%|          | 0/1 [00:00<?, ?it/s]"
      ]
     },
     "metadata": {},
     "output_type": "display_data"
    },
    {
     "data": {
      "application/vnd.jupyter.widget-view+json": {
       "model_id": "",
       "version_major": 2,
       "version_minor": 0
      },
      "text/plain": [
       "Responses:   0%|          | 0/3 [00:00<?, ?it/s]"
      ]
     },
     "metadata": {},
     "output_type": "display_data"
    },
    {
     "name": "stdout",
     "output_type": "stream",
     "text": [
      "{'Distinctiveness': [1.0], 'positive_constraints': [[[0.0, 0.0, 0.0, 0.0], [0.0, 0.0, 0.0, 0.0], [0.0, 0.0, 0.0, 0.0]]], 'negative_constraints': [[[], [], []]], 'Appropriateness': [[4.0, 4.0, 4.0]], 'Relevance': [[4.0, 4.0, 4.0]], 'Content Richness': [[4.0, 4.0, 2.0]], 'Grammatical Correctness': [[5.0, 5.0, 5.0]]}\n",
      "____________________________________________________________________________________________________\n",
      "Continue the dialog with one turn, proving knowledge of grammar skills on CEFR level C2.\n",
      "Snippet:\n",
      "A: I don't have a good camera. How am I going to take nice pictures of the butterflies? They are so colorful. I want to get in really close so everyone can see the details.\n",
      "B: Our photography lab loans cameras to all students enrolled in my class. Don't worry. Just show your student ID and they will give you one.\n",
      "A: What if I lose it? Or break it?\n",
      "B: \n",
      "RESPONSE from GPT3.5\n",
      "['If you happen to lose or break the camera, you will be responsible for covering the cost of repair or replacement.', 'You will be responsible for any damages or loss to the camera. Make sure to handle it with care.', 'You would be responsible for any damages or losses incurred while in your possession.']\n"
     ]
    },
    {
     "data": {
      "application/vnd.jupyter.widget-view+json": {
       "model_id": "39fab73406824e72b0ce8321c9306ae5",
       "version_major": 2,
       "version_minor": 0
      },
      "text/plain": [
       "Contexts:   0%|          | 0/1 [00:00<?, ?it/s]"
      ]
     },
     "metadata": {},
     "output_type": "display_data"
    },
    {
     "data": {
      "application/vnd.jupyter.widget-view+json": {
       "model_id": "",
       "version_major": 2,
       "version_minor": 0
      },
      "text/plain": [
       "Responses:   0%|          | 0/3 [00:00<?, ?it/s]"
      ]
     },
     "metadata": {},
     "output_type": "display_data"
    },
    {
     "name": "stdout",
     "output_type": "stream",
     "text": [
      "{'Distinctiveness': [0.8392857142857143], 'positive_constraints': [[[0.0, 0.0, 0.0, 0.0], [0.0, 0.0, 0.0, 0.0], [0.0, 0.0, 0.0, 0.0]]], 'negative_constraints': [[[], [], []]], 'Appropriateness': [[4.0, 4.0, 4.0]], 'Relevance': [[4.0, 4.0, 4.0]], 'Content Richness': [[4.0, 4.0, 4.0]], 'Grammatical Correctness': [[5.0, 4.0, 4.0]]}\n",
      "____________________________________________________________________________________________________\n",
      "Continue the dialog with one turn, proving knowledge of grammar skills on CEFR level A1.\n",
      "Snippet:\n",
      "A: No, there isn't. They are all vacuumed.\n",
      "B: I wonder how old these things are, thousands of years?\n",
      "A: Yeah, they all come from a very ancient time.\n",
      "B: \n",
      "RESPONSE from GPT3.5\n",
      "['I think they might be relics from ancient civilizations.', 'How interesting! They must hold a lot of history.', 'So they must be very valuable.']\n"
     ]
    },
    {
     "data": {
      "application/vnd.jupyter.widget-view+json": {
       "model_id": "dae54e53be2945b59ae5cc40fb18a0fe",
       "version_major": 2,
       "version_minor": 0
      },
      "text/plain": [
       "Contexts:   0%|          | 0/1 [00:00<?, ?it/s]"
      ]
     },
     "metadata": {},
     "output_type": "display_data"
    },
    {
     "data": {
      "application/vnd.jupyter.widget-view+json": {
       "model_id": "",
       "version_major": 2,
       "version_minor": 0
      },
      "text/plain": [
       "Responses:   0%|          | 0/3 [00:00<?, ?it/s]"
      ]
     },
     "metadata": {},
     "output_type": "display_data"
    },
    {
     "name": "stdout",
     "output_type": "stream",
     "text": [
      "{'Distinctiveness': [1.0], 'positive_constraints': [[[0.0, 0.0, 0.0, 0.0, 0.0, 0.0], [0.0, 0.0, 0.0, 0.0, 0.0, 0.0], [0.0, 0.0, 0.0, 0.0, 0.0, 0.0]]], 'negative_constraints': [[[], [], []]], 'Appropriateness': [[4.0, 4.0, 4.0]], 'Relevance': [[4.0, 4.0, 4.0]], 'Content Richness': [[4.0, 4.0, 4.0]], 'Grammatical Correctness': [[5.0, 5.0, 5.0]]}\n",
      "____________________________________________________________________________________________________\n"
     ]
    }
   ],
   "source": [
    "for i in range(5):\n",
    "    level, rules = sample_level_rules()\n",
    "    snippet = sample_dialog_snippet(dialogs)\n",
    "    prompt_score(rules, snippet, classifiers, dialog=True, all=False, verbose=True, level=level, n_responses=3)\n",
    "    print(\"_\" * 100)"
   ]
  },
  {
   "cell_type": "markdown",
   "id": "26ae01db-7e57-415e-9809-bb57beff5842",
   "metadata": {},
   "source": [
    "Difficulty level constraints parameters\n",
    "1. CEFR levels -> A1-C2\n",
    "\n",
    "dataset format\n",
    "\n",
    "CTX_SOURCE_DS | CTX_SOURCE_ID | CONTEXT | RESPONSE | LEVEL\n",
    "Daily Dialog | 023 | A: Hey B: Hey A: How are you? | B: I'm good | B1"
   ]
  },
  {
   "cell_type": "code",
   "execution_count": null,
   "id": "1d0d8a74-0672-4b7d-bc43-26c91a4868f5",
   "metadata": {},
   "outputs": [],
   "source": []
  }
 ],
 "metadata": {
  "kernelspec": {
   "display_name": "Python 3 (ipykernel)",
   "language": "python",
   "name": "python3"
  },
  "language_info": {
   "codemirror_mode": {
    "name": "ipython",
    "version": 3
   },
   "file_extension": ".py",
   "mimetype": "text/x-python",
   "name": "python",
   "nbconvert_exporter": "python",
   "pygments_lexer": "ipython3",
   "version": "3.11.2"
  }
 },
 "nbformat": 4,
 "nbformat_minor": 5
}
