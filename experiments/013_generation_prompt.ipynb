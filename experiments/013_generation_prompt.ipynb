{
 "cells": [
  {
   "cell_type": "markdown",
   "id": "4d8aed03-cb38-492a-8fab-60d1e35b727c",
   "metadata": {},
   "source": [
    "# Exp013: Create prompts for grammar-controlled text generation tasks"
   ]
  },
  {
   "cell_type": "code",
   "execution_count": 1,
   "id": "86dccf97-0992-4cf4-abd1-4fb96ef2e489",
   "metadata": {},
   "outputs": [
    {
     "name": "stderr",
     "output_type": "stream",
     "text": [
      "Some weights of the model checkpoint at bert-base-uncased were not used when initializing BertModel: ['cls.predictions.transform.LayerNorm.bias', 'cls.predictions.bias', 'cls.predictions.transform.dense.bias', 'cls.predictions.transform.dense.weight', 'cls.predictions.decoder.weight', 'cls.predictions.transform.LayerNorm.weight', 'cls.seq_relationship.weight', 'cls.seq_relationship.bias']\n",
      "- This IS expected if you are initializing BertModel from the checkpoint of a model trained on another task or with another architecture (e.g. initializing a BertForSequenceClassification model from a BertForPreTraining model).\n",
      "- This IS NOT expected if you are initializing BertModel from the checkpoint of a model that you expect to be exactly identical (initializing a BertForSequenceClassification model from a BertForSequenceClassification model).\n",
      "[nltk_data] Downloading package punkt to\n",
      "[nltk_data]     /cluster/scratch/dglandorf/cache...\n",
      "[nltk_data]   Package punkt is already up-to-date!\n",
      "[nltk_data] Downloading package punkt to\n",
      "[nltk_data]     /cluster/home/dglandorf/nltk_data...\n",
      "[nltk_data]   Package punkt is already up-to-date!\n"
     ]
    }
   ],
   "source": [
    "import random\n",
    "import os\n",
    "import pandas as pd\n",
    "import sys\n",
    "sys.path.append('../source')\n",
    "import models\n",
    "import data\n",
    "import api\n",
    "import evaluation\n",
    "import importlib\n",
    "#importlib.reload(data)"
   ]
  },
  {
   "cell_type": "code",
   "execution_count": 22,
   "id": "f04b5921-b170-4436-8d8d-cf189826d6be",
   "metadata": {},
   "outputs": [],
   "source": [
    "# helper functions\n",
    "levels = [\"A1\", \"A2\", \"B1\", \"B2\", \"C1\", \"C2\"] \n",
    "level_idx = {level: i for i, level in enumerate(levels)}\n",
    "\n",
    "def skills(rules, statement=True):\n",
    "     if statement: return \"- \" + rules['SubCategory'] + \" - \" + rules['guideword'] + \": \" + rules['Can-do statement']\n",
    "     return rules['SubCategory'] + \" \" + rules['guideword']\n",
    "    \n",
    "def get_prompt(rules, snippet, negative_rules=None, dialog=True, all=False, level=None, statement=True):\n",
    "    sep = os.linesep if statement else \"; \"\n",
    "    if level:\n",
    "        constraints = f\"grammar skills on CEFR level {level}.\"\n",
    "    else: \n",
    "        exclude = f\"\"\"Do NOT apply the following grammar skills:\n",
    "    {sep.join(skills(negative_rules, statement=statement))}\n",
    "\"\"\" if negative_rules else \"\"\n",
    "        constraints = f\"\"\"{\"all\" if all else \"at least one\"} of these grammar skills:\n",
    "{sep.join(skills(rules, statement=statement))}\n",
    "{exclude}\"\"\"\n",
    "    return f\"\"\"Continue the {\"dialog with one turn\" if dialog else \"text with two sentences\"}, proving knowledge of {constraints}\n",
    "Snippet:\n",
    "{snippet}\"\"\"\n",
    "    \n",
    "def classify_sents(classifiers, rules, sentences, verbose=True):\n",
    "    results = []\n",
    "    for idx, rule in rules.iterrows():\n",
    "        scores = models.probe_model(classifiers[rule['#']], sentences)\n",
    "        hits = [sentences[i] for i, score in enumerate(scores[0]) if score > 0.5]\n",
    "        if verbose & len(hits): print(f'\\n{rule[\"Level\"]}-{rule[\"Can-do statement\"]} ({rule[\"#\"]})\\n{os.linesep.join([\"- \"+h for h in hits])}')\n",
    "        results.append(len(hits)/len(sentences))\n",
    "    return results\n",
    "\n",
    "def sample_adjacent(lst, n=3):\n",
    "    if len(lst) < n: raise ValueError(\"List must contain at least two items\")\n",
    "    index = random.randint(0, len(lst) - n)\n",
    "    return lst[index:index+n]\n",
    "    \n",
    "def sample_dialog_snippet(dialogs):\n",
    "    dialog = random.sample(dialogs, 1)[0]\n",
    "    utterances = sample_adjacent(dialog)\n",
    "    return os.linesep.join([(\"A\" if (i%2==0) else \"B\") + \": \" + utt for i, utt in enumerate(utterances + [\"\"])])\n",
    "\n",
    "def prompt_score(rules, snippet, classifiers, dialog, all, n_responses=1, level=None, statement=True, verbose=False):\n",
    "    prompt = get_prompt(rules, snippet, dialog=dialog, all=all, level=level, statement=statement)\n",
    "    if verbose: print(prompt)\n",
    "    responses = [api.get_openai_chat_completion([{ \"role\": \"user\", \"content\": prompt}])[0] for _ in range(n_responses)] #, model=\"gpt-4-0125-preview\"\n",
    "    if verbose: print(\"RESPONSE from GPT3.5\")\n",
    "    if verbose: print(responses)\n",
    "    if dialog: print(evaluation.evaluate_responses([snippet], [responses], [list(rules['#'])], [[]]))\n",
    "    return [classify_sents(classifiers, rules, data.sent_tokenize(response), verbose) for response in responses]"
   ]
  },
  {
   "cell_type": "markdown",
   "id": "d720d72c-001b-4258-acad-9f95a46c2241",
   "metadata": {},
   "source": [
    "Load EGP rules, topical prompts and dialogs"
   ]
  },
  {
   "cell_type": "code",
   "execution_count": 3,
   "id": "5ecdf038-3b78-4ad5-87cc-7a84365738f2",
   "metadata": {
    "scrolled": true
   },
   "outputs": [],
   "source": [
    "egp = data.get_egp()\n",
    "cefr = data.CEFRTexts()\n",
    "stories = list(cefr.get_beginnings(100))\n",
    "ds = data.DialogSum()\n",
    "dialogs = ds.get_dialogues()\n",
    "classifiers = {nr: models.load_classifier(nr, 'corpus_training') for nr in [int(name.replace(\".pth\",\"\")) for name in os.listdir(f\"../models/corpus_training\")]}"
   ]
  },
  {
   "cell_type": "markdown",
   "id": "95833ffb-6fcf-41c5-aaf0-10042fc81a4c",
   "metadata": {},
   "source": [
    "## Task 1: Single constraints"
   ]
  },
  {
   "cell_type": "code",
   "execution_count": 24,
   "id": "fed6ed12-babd-4267-a841-da3363c58c8f",
   "metadata": {},
   "outputs": [],
   "source": [
    "def sample_single_constraints(level=None, n_per_subcat=1, subcategories = [\"would\", \"negation\", \"superlatives\"]):\n",
    "    if level is None: level = random.sample(levels, 1)[0]\n",
    "    return egp[(egp['SubCategory'].isin(subcategories)) & (egp['Level']==level) & egp['#'].isin(classifiers.keys())].groupby(\"SubCategory\").sample(n_per_subcat)"
   ]
  },
  {
   "cell_type": "markdown",
   "id": "5231eb05-cefc-4ebd-96e1-b8bd76e7e0e2",
   "metadata": {},
   "source": [
    "For Text"
   ]
  },
  {
   "cell_type": "code",
   "execution_count": 93,
   "id": "c50759e8-9cbc-404e-b730-6748bbb46ce2",
   "metadata": {},
   "outputs": [
    {
     "name": "stdout",
     "output_type": "stream",
     "text": [
      "Continue the text with two sentences, proving knowledge of all of these grammar skills:\n",
      "- negation - FORM: MODAL VERB 'CAN': Can use negative form 'can't'.\n",
      "- would - USE: WISHES AND PREFERENCES WITH 'LIKE': Can use 'would like' to talk about wishes and preferences.\n",
      "\n",
      "Snippet:\n",
      "\n",
      "The first chart illustrates the percentage of the population who owned a smartphone from 2011 to 2016, and the second breaks the percentages down by age for 2011 and 2016.\n",
      "RESPONSE from GPT3.5\n",
      "However, it is important to note that the data for 2016 is not entirely accurate, as some respondents refused to answer the survey. Therefore, we can't fully rely on the statistics presented in the second chart.\n",
      "\n",
      "A1-Can use negative form 'can't'. (1177)\n",
      "- Therefore, we can't fully rely on the statistics presented in the second chart.\n"
     ]
    },
    {
     "data": {
      "text/plain": [
       "[0.5, 0.0]"
      ]
     },
     "execution_count": 93,
     "metadata": {},
     "output_type": "execute_result"
    }
   ],
   "source": [
    "snippet = random.sample(stories, 1)[0]\n",
    "prompt_score(rules, snippet, classifiers, dialog=False, all=True, verbose=True)"
   ]
  },
  {
   "cell_type": "markdown",
   "id": "3571a8ef-bbd2-467a-aefd-a66c11d9ac80",
   "metadata": {},
   "source": [
    "For Dialog"
   ]
  },
  {
   "cell_type": "code",
   "execution_count": 27,
   "id": "af418ca8-1e3b-44f8-a77c-d2ccbc37ddbf",
   "metadata": {
    "scrolled": true
   },
   "outputs": [
    {
     "name": "stdout",
     "output_type": "stream",
     "text": [
      "Continue the dialog with one turn, proving knowledge of all of these grammar skills:\n",
      "- negation - FORM/USE: 'NEITHER': Can use 'Neither' or 'Nor' + with 'do' or 'be' + inverted subject to add to a previous related negative clause, to focus on an additional negative factor.\n",
      "- would - FORM: WITH ADVERBS: Can use a wide range of adverbs with 'would', including 'undoubtedly', 'possibly', 'normally', 'personally', 'eventually', 'obviously', 'significantly', 'inevitably'. ► adverbs\n",
      "\n",
      "Snippet:\n",
      "A: What is the difference between a general doctor and a specialist?\n",
      "B: A general doctor treats a variety of illnesses and will treat your whole family. A specialist concentrates in one area, like the heart or the skin.\n",
      "A: Then I would like to find a general doctor.\n",
      "B: \n",
      "RESPONSE from GPT3.5\n",
      "['I neither would seek out a specialist nor would I consider any other option.', 'Neither do I doubt your choice, as they can provide comprehensive care for your entire family.', 'Neither do I doubt that a general doctor would undoubtedly provide excellent care for you and your family.']\n"
     ]
    },
    {
     "data": {
      "application/vnd.jupyter.widget-view+json": {
       "model_id": "77378fc7e66f448f94b66d886c6d146d",
       "version_major": 2,
       "version_minor": 0
      },
      "text/plain": [
       "Contexts:   0%|          | 0/1 [00:00<?, ?it/s]"
      ]
     },
     "metadata": {},
     "output_type": "display_data"
    },
    {
     "data": {
      "application/vnd.jupyter.widget-view+json": {
       "model_id": "",
       "version_major": 2,
       "version_minor": 0
      },
      "text/plain": [
       "Responses:   0%|          | 0/3 [00:00<?, ?it/s]"
      ]
     },
     "metadata": {},
     "output_type": "display_data"
    },
    {
     "name": "stdout",
     "output_type": "stream",
     "text": [
      "{'Distinctiveness': [0.8979591836734694], 'positive_constraints': [[[1.0, 0.0], [1.0, 0.0], [1.0, 1.0]]], 'negative_constraints': [[[], [], []]], 'Appropriateness': [[2.0, 4.0, 2.0]], 'Relevance': [[2.0, 2.0, 2.0]], 'Content Richness': [[2.0, 3.0, 2.0]], 'Grammatical Correctness': [[4.0, 4.0, 4.0]]}\n",
      "\n",
      "C2-Can use 'Neither' or 'Nor' + with 'do' or 'be' + inverted subject to add to a previous related negative clause, to focus on an additional negative factor. (1204)\n",
      "- I neither would seek out a specialist nor would I consider any other option.\n",
      "\n",
      "C2-Can use 'Neither' or 'Nor' + with 'do' or 'be' + inverted subject to add to a previous related negative clause, to focus on an additional negative factor. (1204)\n",
      "- Neither do I doubt your choice, as they can provide comprehensive care for your entire family.\n",
      "\n",
      "C2-Can use 'Neither' or 'Nor' + with 'do' or 'be' + inverted subject to add to a previous related negative clause, to focus on an additional negative factor. (1204)\n",
      "- Neither do I doubt that a general doctor would undoubtedly provide excellent care for you and your family.\n",
      "\n",
      "C2-Can use a wide range of adverbs with 'would', including 'undoubtedly', 'possibly', 'normally', 'personally', 'eventually', 'obviously', 'significantly', 'inevitably'. ► adverbs (638)\n",
      "- Neither do I doubt that a general doctor would undoubtedly provide excellent care for you and your family.\n",
      "____________________________________________________________________________________________________\n",
      "Continue the dialog with one turn, proving knowledge of all of these grammar skills:\n",
      "- negation - FORM: MENTAL PROCESS VERBS + CLAUSE: Can use the negative forms of mental process verbs ('I don't think', 'I don't believe') followed by a complement clause, where the negative form is in the mental process verb rather than the complement clause.\n",
      "- would - FORM: WITH ADVERBS: Can use an limited range of adverbs with 'would', including 'really', 'probably', 'certainly', 'definitely'.► adverbs\n",
      "\n",
      "Snippet:\n",
      "A: Oh, How annoying!\n",
      "B: The time of departure will be announced as soon as possible.\n",
      "A: It's infuriating. I have to be in Rome by five.\n",
      "B: \n",
      "RESPONSE from GPT3.5\n",
      "[\"I really don't think the flight will be delayed.\", \"I don't think the flight will be delayed, but I wouldn't count on arriving exactly on time.\", \"I really wouldn't count on making it to Rome by five with this delay.\"]\n"
     ]
    },
    {
     "data": {
      "application/vnd.jupyter.widget-view+json": {
       "model_id": "9a20e5f151484805ba57576d5e2bf7c9",
       "version_major": 2,
       "version_minor": 0
      },
      "text/plain": [
       "Contexts:   0%|          | 0/1 [00:00<?, ?it/s]"
      ]
     },
     "metadata": {},
     "output_type": "display_data"
    },
    {
     "data": {
      "application/vnd.jupyter.widget-view+json": {
       "model_id": "",
       "version_major": 2,
       "version_minor": 0
      },
      "text/plain": [
       "Responses:   0%|          | 0/3 [00:00<?, ?it/s]"
      ]
     },
     "metadata": {},
     "output_type": "display_data"
    },
    {
     "name": "stdout",
     "output_type": "stream",
     "text": [
      "{'Distinctiveness': [0.7555555555555555], 'positive_constraints': [[[1.0, 0.0], [1.0, 0.0], [0.0, 0.0]]], 'negative_constraints': [[[], [], []]], 'Appropriateness': [[2.0, 2.0, 2.0]], 'Relevance': [[2.0, 2.0, 4.0]], 'Content Richness': [[2.0, 3.0, 4.0]], 'Grammatical Correctness': [[4.0, 5.0, 5.0]]}\n",
      "\n",
      "B1-Can use the negative forms of mental process verbs ('I don't think', 'I don't believe') followed by a complement clause, where the negative form is in the mental process verb rather than the complement clause. (1186)\n",
      "- I really don't think the flight will be delayed.\n",
      "\n",
      "B1-Can use the negative forms of mental process verbs ('I don't think', 'I don't believe') followed by a complement clause, where the negative form is in the mental process verb rather than the complement clause. (1186)\n",
      "- I don't think the flight will be delayed, but I wouldn't count on arriving exactly on time.\n",
      "____________________________________________________________________________________________________\n",
      "Continue the dialog with one turn, proving knowledge of all of these grammar skills:\n",
      "- negation - FORM: QUESTIONS: Can use negative question forms in main clauses and question tags. ► questions\n",
      "- would - FORM: PAST AFFIRMATIVE: Can use 'would have' + '-ed'.\n",
      "\n",
      "Snippet:\n",
      "A: What kind of fundraisers are you doing?\n",
      "B: We are going door to door.\n",
      "A: You should try actual fundraisers, too.\n",
      "B: \n",
      "RESPONSE from GPT3.5\n",
      "['Would you recommend we try a different approach then?', 'Would you have any suggestions for fundraisers?', 'Would you have any suggestions for fundraisers we could try?']\n"
     ]
    },
    {
     "data": {
      "application/vnd.jupyter.widget-view+json": {
       "model_id": "ff6b98b7db9e472cb4cd2578214fbdbe",
       "version_major": 2,
       "version_minor": 0
      },
      "text/plain": [
       "Contexts:   0%|          | 0/1 [00:00<?, ?it/s]"
      ]
     },
     "metadata": {},
     "output_type": "display_data"
    },
    {
     "data": {
      "application/vnd.jupyter.widget-view+json": {
       "model_id": "",
       "version_major": 2,
       "version_minor": 0
      },
      "text/plain": [
       "Responses:   0%|          | 0/3 [00:00<?, ?it/s]"
      ]
     },
     "metadata": {},
     "output_type": "display_data"
    },
    {
     "name": "stdout",
     "output_type": "stream",
     "text": [
      "{'Distinctiveness': [0.7307692307692307], 'positive_constraints': [[[0.0, 0.0], [0.0, 0.0], [0.0, 0.0]]], 'negative_constraints': [[[], [], []]], 'Appropriateness': [[4.0, 4.0, 4.0]], 'Relevance': [[4.0, 4.0, 4.0]], 'Content Richness': [[3.0, 4.0, 4.0]], 'Grammatical Correctness': [[4.0, 5.0, 5.0]]}\n",
      "____________________________________________________________________________________________________\n",
      "Continue the dialog with one turn, proving knowledge of all of these grammar skills:\n",
      "- negation - FORM: AUXILIARY VERBS 'BE', 'HAVE', PAST: Can form negative statements of main verbs in the past continuous and past perfect with auxiliary verbs 'be' and 'have' + 'not/n't'. ► past continuous ► past perfect\n",
      "- would - USE: REPORTED SPEECH: Can use 'would' as the past form of 'will' in reported clauses.\n",
      "\n",
      "Snippet:\n",
      "A: Dear, can you drive me to the clinic?\n",
      "B: I'm afraid I can't.\n",
      "A: Why?\n",
      "B: \n",
      "RESPONSE from GPT3.5\n",
      "[\"Because I wouldn't be able to drive you due to my previous appointment.\", \"Because I wouldn't have been able to take you there even if I wanted to, I don't have my license with me today.\", \"Because I wouldn't have my driver's license with me.\"]\n"
     ]
    },
    {
     "data": {
      "application/vnd.jupyter.widget-view+json": {
       "model_id": "9e94adff412b481cad3bf663801055b4",
       "version_major": 2,
       "version_minor": 0
      },
      "text/plain": [
       "Contexts:   0%|          | 0/1 [00:00<?, ?it/s]"
      ]
     },
     "metadata": {},
     "output_type": "display_data"
    },
    {
     "data": {
      "application/vnd.jupyter.widget-view+json": {
       "model_id": "",
       "version_major": 2,
       "version_minor": 0
      },
      "text/plain": [
       "Responses:   0%|          | 0/3 [00:00<?, ?it/s]"
      ]
     },
     "metadata": {},
     "output_type": "display_data"
    },
    {
     "name": "stdout",
     "output_type": "stream",
     "text": [
      "{'Distinctiveness': [0.7647058823529411], 'positive_constraints': [[[0.0, 0.0], [0.0, 0.0], [0.0, 0.0]]], 'negative_constraints': [[[], [], []]], 'Appropriateness': [[4.0, 4.0, 4.0]], 'Relevance': [[4.0, 4.0, 4.0]], 'Content Richness': [[3.0, 4.0, 2.0]], 'Grammatical Correctness': [[4.0, 4.0, 4.0]]}\n",
      "____________________________________________________________________________________________________\n",
      "Continue the dialog with one turn, proving knowledge of all of these grammar skills:\n",
      "- negation - FORM: MAIN VERB 'BE': Can form negative statements of main verb 'be', with contracted and uncontracted forms.\n",
      "- would - FORM: AFFIRMATIVE WITH 'LIKE': Can use the affirmative form with 'like'. \n",
      "\n",
      "Snippet:\n",
      "A: But it isn't all right. I made you drop your shopping bags. Let me pick these bags up.\n",
      "B: You must have been in a great hurry. Never mind.\n",
      "A: I was only going to catch the bus. I'm afraid I wasn't looking where I was going. I hope nothing was destroyed.\n",
      "B: \n",
      "RESPONSE from GPT3.5\n",
      "[\"I don't think anything was damaged. You seem like the kind of person who likes to help others. Thank you for offering to pick up the bags.\", \"Nothing was destroyed, don't worry. People say time is money. If you're in a rush, you should probably catch a cab next time.\", \"Don't worry, nothing was ruined. It was mostly just canned goods. And besides, I would like to thank you for offering to help.\"]\n"
     ]
    },
    {
     "data": {
      "application/vnd.jupyter.widget-view+json": {
       "model_id": "6dc173f1340f4e43a6e3031a14c9d17c",
       "version_major": 2,
       "version_minor": 0
      },
      "text/plain": [
       "Contexts:   0%|          | 0/1 [00:00<?, ?it/s]"
      ]
     },
     "metadata": {},
     "output_type": "display_data"
    },
    {
     "data": {
      "application/vnd.jupyter.widget-view+json": {
       "model_id": "",
       "version_major": 2,
       "version_minor": 0
      },
      "text/plain": [
       "Responses:   0%|          | 0/3 [00:00<?, ?it/s]"
      ]
     },
     "metadata": {},
     "output_type": "display_data"
    },
    {
     "name": "stdout",
     "output_type": "stream",
     "text": [
      "{'Distinctiveness': [0.9310344827586207], 'positive_constraints': [[[0.0, 0.0], [0.0, 0.0], [0.0, 0.3333333333333333]]], 'negative_constraints': [[[], [], []]], 'Appropriateness': [[4.0, 4.0, 4.0]], 'Relevance': [[4.0, 2.0, 4.0]], 'Content Richness': [[4.0, 3.0, 4.0]], 'Grammatical Correctness': [[4.0, 4.0, 4.0]]}\n",
      "\n",
      "A1-Can use the affirmative form with 'like'.  (616)\n",
      "- And besides, I would like to thank you for offering to help.\n",
      "____________________________________________________________________________________________________\n"
     ]
    }
   ],
   "source": [
    "for i in range(5):\n",
    "    rules = sample_single_constraints()\n",
    "    snippet = sample_dialog_snippet(dialogs)\n",
    "    prompt_score(rules, snippet, classifiers, dialog=True, all=True, verbose=True, n_responses=3)\n",
    "    print(\"_\" * 100)"
   ]
  },
  {
   "cell_type": "markdown",
   "id": "876556ad-af19-4d72-bcb9-50d58e944660",
   "metadata": {},
   "source": [
    "## Task 2: Combine subcategories"
   ]
  },
  {
   "cell_type": "markdown",
   "id": "74b77d9e-1ae4-4877-98c0-46fd26491794",
   "metadata": {},
   "source": [
    "Choose subcategory and level skills"
   ]
  },
  {
   "cell_type": "code",
   "execution_count": 31,
   "id": "cc8b7c4c-34ec-4548-8449-710f138a2fa1",
   "metadata": {},
   "outputs": [],
   "source": [
    "def sample_subcategory_rules(subcategories = [\"would\", \"negation\", \"superlatives\"], levels = [\"B1\", \"B2\", \"B1\"]):\n",
    "    filter_clf = (egp['#'].isin(classifiers.keys()))\n",
    "    return pd.concat([egp[(egp['SubCategory'] == subcat) & (egp['Level']==level) & filter_clf] for subcat, level in zip(subcategories, levels)])"
   ]
  },
  {
   "cell_type": "markdown",
   "id": "4d6268d6-c11e-4d6c-8a5c-37274318e001",
   "metadata": {},
   "source": [
    "Assemble prompt for a random story beginning, test it with GPT3.5 and use classifiers to score the response"
   ]
  },
  {
   "cell_type": "code",
   "execution_count": 17,
   "id": "275645fe-8cd0-48f7-a877-6089ac4b4c20",
   "metadata": {
    "scrolled": true
   },
   "outputs": [
    {
     "name": "stdout",
     "output_type": "stream",
     "text": [
      "Continue the text with two sentences, proving knowledge of at least one of these grammar skills:\n",
      "would FORM/USE: AFTER 'IF' CLAUSES; would FORM: PAST AFFIRMATIVE; would FORM: PAST NEGATIVE; would FORM: QUESTIONS; would FORM: WITH ADVERBS; would USE: FUTURE IN THE PAST; would USE: IMAGINED SITUATIONS IN THE PAST; would USE: INDIRECTNESS; would USE: POLITE REQUESTS; would USE: REPORTED SPEECH; would USE: WILLINGNESS IN THE PAST; negation FORM/USE: 'NOT', EMPHASIS; negation FORM/USE: 'NEVER', INVERTED FRONT POSITION, FOCUS; negation FORM/USE: 'NEITHER ... NOR'\n",
      "\n",
      "Snippet:\n",
      "Nobody knows which came first: the economic crisis tearing Greece apart or shisha, the drug now known as the “cocaine of the poor”.\n",
      "RESPONSE from GPT3.5\n",
      "If the economic crisis had not brought such devastation to Greece, perhaps the popularity of shisha would not have reached such heights. Would you happen to know where one can find reliable statistics on the correlation between the two phenomena?\n",
      "\n",
      "B1-Can use 'would' in the main clause of a conditional sentence to talk about an imagined situation, often in the context of advice or opinion-giving. (625)\n",
      "- If the economic crisis had not brought such devastation to Greece, perhaps the popularity of shisha would not have reached such heights.\n",
      "\n",
      "B1-Can use 'would have' + '-ed'. (626)\n",
      "- If the economic crisis had not brought such devastation to Greece, perhaps the popularity of shisha would not have reached such heights.\n",
      "\n",
      "B1-Can use 'would not have' + '-ed' or 'wouldn’t have' + '-ed' (627)\n",
      "- If the economic crisis had not brought such devastation to Greece, perhaps the popularity of shisha would not have reached such heights.\n",
      "\n",
      "B1-Can use question forms. (628)\n",
      "- Would you happen to know where one can find reliable statistics on the correlation between the two phenomena?\n",
      "\n",
      "B1-Can use 'would' to talk about imagined situations in the past. ► conditionals (631)\n",
      "- If the economic crisis had not brought such devastation to Greece, perhaps the popularity of shisha would not have reached such heights.\n",
      "\n",
      "B1-Can use 'would' with verbs such as 'advise', 'imagine', 'recommend', 'say' to be less direct. (632)\n",
      "- If the economic crisis had not brought such devastation to Greece, perhaps the popularity of shisha would not have reached such heights.\n",
      "\n",
      "B2-Can use uncontracted 'not' for emphasis or in formal contexts. (1192)\n",
      "- If the economic crisis had not brought such devastation to Greece, perhaps the popularity of shisha would not have reached such heights.\n"
     ]
    },
    {
     "data": {
      "text/plain": [
       "[0.5, 0.5, 0.5, 0.5, 0.0, 0.0, 0.5, 0.5, 0.0, 0.0, 0.0, 0.5, 0.0, 0.0]"
      ]
     },
     "execution_count": 17,
     "metadata": {},
     "output_type": "execute_result"
    }
   ],
   "source": [
    "rules = sample_subcategory_rules()\n",
    "snippet = random.sample(stories, 1)[0]\n",
    "prompt_score(rules, snippet, classifiers, dialog=False, all=False, verbose=True, statement=False)"
   ]
  },
  {
   "cell_type": "markdown",
   "id": "fbcafb80-a1b7-497d-a5eb-ce2a8d46fea6",
   "metadata": {},
   "source": [
    "Do this with dialogs"
   ]
  },
  {
   "cell_type": "code",
   "execution_count": 34,
   "id": "9211922e-4a41-484f-af63-2935d8ae034f",
   "metadata": {
    "scrolled": true
   },
   "outputs": [
    {
     "name": "stdout",
     "output_type": "stream",
     "text": [
      "Continue the dialog with one turn, proving knowledge of at least one of these grammar skills:\n",
      "would FORM/USE: AFTER 'IF' CLAUSES; would FORM: PAST AFFIRMATIVE; would FORM: PAST NEGATIVE; would FORM: QUESTIONS; would FORM: WITH ADVERBS; would USE: FUTURE IN THE PAST; would USE: IMAGINED SITUATIONS IN THE PAST; would USE: INDIRECTNESS; would USE: POLITE REQUESTS; would USE: REPORTED SPEECH; would USE: WILLINGNESS IN THE PAST; negation FORM/USE: 'NOT', EMPHASIS; negation FORM/USE: 'NEVER', INVERTED FRONT POSITION, FOCUS; negation FORM/USE: 'NEITHER ... NOR'\n",
      "\n",
      "Snippet:\n",
      "A: I didn't sleep a wink last night.\n",
      "B: Did you have something on your mind? You look so concerned! Maybe I can help you.\n",
      "A: Well, I'm under a lot of pressure. My boss is very pushy. He assigned me two projects. Now the deadlines are near and I still haven't finish one of them.\n",
      "B: \n",
      "RESPONSE from GPT3.5\n",
      "['If I were you, I would talk to your boss and explain the situation. Maybe he could give you an extension.', 'If you would like, I could try talking to your boss about extending the deadlines for you.', 'If I were you, I would try talking to your boss. Maybe he would be willing to give you an extension on the deadlines.']\n"
     ]
    },
    {
     "data": {
      "application/vnd.jupyter.widget-view+json": {
       "model_id": "2323f965fc2e411dbff102b563961d7a",
       "version_major": 2,
       "version_minor": 0
      },
      "text/plain": [
       "Contexts:   0%|          | 0/1 [00:00<?, ?it/s]"
      ]
     },
     "metadata": {},
     "output_type": "display_data"
    },
    {
     "data": {
      "application/vnd.jupyter.widget-view+json": {
       "model_id": "",
       "version_major": 2,
       "version_minor": 0
      },
      "text/plain": [
       "Responses:   0%|          | 0/3 [00:00<?, ?it/s]"
      ]
     },
     "metadata": {},
     "output_type": "display_data"
    },
    {
     "name": "stdout",
     "output_type": "stream",
     "text": [
      "{'Distinctiveness': [0.7164179104477612], 'positive_constraints': [[[0.5, 0.0, 0.0, 0.0, 0.0, 0.0, 0.0, 0.5, 0.0, 0.0, 0.0, 0.0, 0.0, 0.0], [0.0, 0.0, 0.0, 0.0, 0.0, 0.0, 0.0, 0.0, 0.0, 0.0, 0.0, 0.0, 0.0, 0.0], [0.5, 0.0, 0.0, 0.0, 0.0, 0.0, 0.0, 0.5, 0.0, 0.0, 0.0, 0.0, 0.0, 0.0]]], 'negative_constraints': [[[], [], []]], 'Appropriateness': [[4.0, 4.0, 4.0]], 'Relevance': [[4.0, 4.0, 4.0]], 'Content Richness': [[4.0, 4.0, 4.0]], 'Grammatical Correctness': [[5.0, 5.0, 5.0]]}\n",
      "\n",
      "B1-Can use 'would' in the main clause of a conditional sentence to talk about an imagined situation, often in the context of advice or opinion-giving. (625)\n",
      "- If I were you, I would talk to your boss and explain the situation.\n",
      "\n",
      "B1-Can use 'would' with verbs such as 'advise', 'imagine', 'recommend', 'say' to be less direct. (632)\n",
      "- If I were you, I would talk to your boss and explain the situation.\n",
      "\n",
      "B1-Can use 'would' in the main clause of a conditional sentence to talk about an imagined situation, often in the context of advice or opinion-giving. (625)\n",
      "- If I were you, I would try talking to your boss.\n",
      "\n",
      "B1-Can use 'would' with verbs such as 'advise', 'imagine', 'recommend', 'say' to be less direct. (632)\n",
      "- If I were you, I would try talking to your boss.\n",
      "____________________________________________________________________________________________________\n",
      "Continue the dialog with one turn, proving knowledge of at least one of these grammar skills:\n",
      "would FORM/USE: AFTER 'IF' CLAUSES; would FORM: PAST AFFIRMATIVE; would FORM: PAST NEGATIVE; would FORM: QUESTIONS; would FORM: WITH ADVERBS; would USE: FUTURE IN THE PAST; would USE: IMAGINED SITUATIONS IN THE PAST; would USE: INDIRECTNESS; would USE: POLITE REQUESTS; would USE: REPORTED SPEECH; would USE: WILLINGNESS IN THE PAST; negation FORM/USE: 'NOT', EMPHASIS; negation FORM/USE: 'NEVER', INVERTED FRONT POSITION, FOCUS; negation FORM/USE: 'NEITHER ... NOR'\n",
      "\n",
      "Snippet:\n",
      "A: I'll pay for it with a check. \n",
      "B: Would you like to pay for any extra permits for another vehicle? \n",
      "A: No, thanks; I'm fine. \n",
      "B: \n",
      "RESPONSE from GPT3.5\n",
      "['If you change your mind, just let me know.', 'If you change your mind, just let me know.', 'Alright, just let me know if you change your mind.']\n"
     ]
    },
    {
     "data": {
      "application/vnd.jupyter.widget-view+json": {
       "model_id": "3095a57f9c7540f1ad297862f57c0ecd",
       "version_major": 2,
       "version_minor": 0
      },
      "text/plain": [
       "Contexts:   0%|          | 0/1 [00:00<?, ?it/s]"
      ]
     },
     "metadata": {},
     "output_type": "display_data"
    },
    {
     "data": {
      "application/vnd.jupyter.widget-view+json": {
       "model_id": "",
       "version_major": 2,
       "version_minor": 0
      },
      "text/plain": [
       "Responses:   0%|          | 0/3 [00:00<?, ?it/s]"
      ]
     },
     "metadata": {},
     "output_type": "display_data"
    },
    {
     "name": "stdout",
     "output_type": "stream",
     "text": [
      "{'Distinctiveness': [0.45161290322580644], 'positive_constraints': [[[0.0, 0.0, 0.0, 0.0, 0.0, 0.0, 0.0, 0.0, 0.0, 0.0, 0.0, 0.0, 0.0, 0.0], [0.0, 0.0, 0.0, 0.0, 0.0, 0.0, 0.0, 0.0, 0.0, 0.0, 0.0, 0.0, 0.0, 0.0], [0.0, 0.0, 0.0, 0.0, 0.0, 0.0, 0.0, 0.0, 0.0, 0.0, 0.0, 0.0, 0.0, 0.0]]], 'negative_constraints': [[[], [], []]], 'Appropriateness': [[4.0, 4.0, 4.0]], 'Relevance': [[4.0, 4.0, 4.0]], 'Content Richness': [[2.0, 3.0, 2.0]], 'Grammatical Correctness': [[5.0, 5.0, 5.0]]}\n",
      "____________________________________________________________________________________________________\n",
      "Continue the dialog with one turn, proving knowledge of at least one of these grammar skills:\n",
      "would FORM/USE: AFTER 'IF' CLAUSES; would FORM: PAST AFFIRMATIVE; would FORM: PAST NEGATIVE; would FORM: QUESTIONS; would FORM: WITH ADVERBS; would USE: FUTURE IN THE PAST; would USE: IMAGINED SITUATIONS IN THE PAST; would USE: INDIRECTNESS; would USE: POLITE REQUESTS; would USE: REPORTED SPEECH; would USE: WILLINGNESS IN THE PAST; negation FORM/USE: 'NOT', EMPHASIS; negation FORM/USE: 'NEVER', INVERTED FRONT POSITION, FOCUS; negation FORM/USE: 'NEITHER ... NOR'\n",
      "\n",
      "Snippet:\n",
      "A: And so, that concludes my outline for our marketing strategy next year. Thank you very much for your time. \n",
      "B: Hey, that was quite the presentation! Honestly, I was completely blown away by your strategy outline. I've gotta say, Alex, you really wowed me today. \n",
      "A: Aw, come on, it was nothing. I'm just doing my job. \n",
      "B: \n",
      "RESPONSE from GPT3.5\n",
      "['Well, if I may say so, you would definitely excel in a leadership role with your innovative ideas and strategic thinking.', \"If you wouldn't mind, could you send me a copy of your presentation slides? I'd love to take a closer look at some of the points you covered.\", \"If you don't mind me saying, I think your ideas would definitely take our marketing efforts to the next level.\"]\n"
     ]
    },
    {
     "data": {
      "application/vnd.jupyter.widget-view+json": {
       "model_id": "34177bf563634e76a7b4b0479ad42fea",
       "version_major": 2,
       "version_minor": 0
      },
      "text/plain": [
       "Contexts:   0%|          | 0/1 [00:00<?, ?it/s]"
      ]
     },
     "metadata": {},
     "output_type": "display_data"
    },
    {
     "data": {
      "application/vnd.jupyter.widget-view+json": {
       "model_id": "",
       "version_major": 2,
       "version_minor": 0
      },
      "text/plain": [
       "Responses:   0%|          | 0/3 [00:00<?, ?it/s]"
      ]
     },
     "metadata": {},
     "output_type": "display_data"
    },
    {
     "name": "stdout",
     "output_type": "stream",
     "text": [
      "{'Distinctiveness': [0.948051948051948], 'positive_constraints': [[[0.0, 0.0, 0.0, 0.0, 1.0, 0.0, 0.0, 0.0, 0.0, 0.0, 0.0, 0.0, 0.0, 0.0], [0.0, 0.0, 0.0, 0.0, 0.0, 0.0, 0.0, 0.0, 0.0, 0.0, 0.0, 0.0, 0.0, 0.0], [0.0, 0.0, 0.0, 0.0, 1.0, 0.0, 0.0, 0.0, 0.0, 0.0, 0.0, 0.0, 0.0, 0.0]]], 'negative_constraints': [[[], [], []]], 'Appropriateness': [[4.0, 4.0, 4.0]], 'Relevance': [[4.0, 4.0, 4.0]], 'Content Richness': [[4.0, 4.0, 4.0]], 'Grammatical Correctness': [[5.0, 4.0, 4.0]]}\n",
      "\n",
      "B1-Can use an limited range of adverbs with 'would', including 'really', 'probably', 'certainly', 'definitely'.► adverbs (629)\n",
      "- Well, if I may say so, you would definitely excel in a leadership role with your innovative ideas and strategic thinking.\n",
      "\n",
      "B1-Can use an limited range of adverbs with 'would', including 'really', 'probably', 'certainly', 'definitely'.► adverbs (629)\n",
      "- If you don't mind me saying, I think your ideas would definitely take our marketing efforts to the next level.\n",
      "____________________________________________________________________________________________________\n",
      "Continue the dialog with one turn, proving knowledge of at least one of these grammar skills:\n",
      "would FORM/USE: AFTER 'IF' CLAUSES; would FORM: PAST AFFIRMATIVE; would FORM: PAST NEGATIVE; would FORM: QUESTIONS; would FORM: WITH ADVERBS; would USE: FUTURE IN THE PAST; would USE: IMAGINED SITUATIONS IN THE PAST; would USE: INDIRECTNESS; would USE: POLITE REQUESTS; would USE: REPORTED SPEECH; would USE: WILLINGNESS IN THE PAST; negation FORM/USE: 'NOT', EMPHASIS; negation FORM/USE: 'NEVER', INVERTED FRONT POSITION, FOCUS; negation FORM/USE: 'NEITHER ... NOR'\n",
      "\n",
      "Snippet:\n",
      "A: Do you think children watch too much Tv?\n",
      "B: I only allow my child to watch up to an hour a day. I don't think that tv is bad for kids. I think that kids should be active and not become couch potatoes.\n",
      "A: Perhaps I should impose a limit on how much Tv my kids can watch. They don't do much else in their free time. At least they always do their homework first.\n",
      "B: \n",
      "RESPONSE from GPT3.5\n",
      "[\"That sounds like a good idea. If they have a limit on tv time, they will likely find other activities to keep themselves busy. It's important to balance screen time with other activities for a healthy lifestyle.\", \"That's a good idea. If they don't have other activities to do, they could easily spend all day in front of the TV. Maybe you could set a specific time limit for them to follow.\", \"That's a good idea. If they don't have any limits, they might end up spending the whole day in front of the screen.\"]\n"
     ]
    },
    {
     "data": {
      "application/vnd.jupyter.widget-view+json": {
       "model_id": "3c694d15d35d43f4b88f1a90d5380b2f",
       "version_major": 2,
       "version_minor": 0
      },
      "text/plain": [
       "Contexts:   0%|          | 0/1 [00:00<?, ?it/s]"
      ]
     },
     "metadata": {},
     "output_type": "display_data"
    },
    {
     "data": {
      "application/vnd.jupyter.widget-view+json": {
       "model_id": "",
       "version_major": 2,
       "version_minor": 0
      },
      "text/plain": [
       "Responses:   0%|          | 0/3 [00:00<?, ?it/s]"
      ]
     },
     "metadata": {},
     "output_type": "display_data"
    },
    {
     "name": "stdout",
     "output_type": "stream",
     "text": [
      "{'Distinctiveness': [0.7777777777777778], 'positive_constraints': [[[0.0, 0.0, 0.0, 0.0, 0.0, 0.0, 0.0, 0.0, 0.0, 0.0, 0.0, 0.0, 0.0, 0.0], [0.0, 0.0, 0.0, 0.0, 0.0, 0.0, 0.0, 0.0, 0.0, 0.0, 0.0, 0.0, 0.0, 0.0], [0.0, 0.0, 0.0, 0.0, 0.0, 0.0, 0.0, 0.0, 0.0, 0.0, 0.0, 0.0, 0.0, 0.0]]], 'negative_constraints': [[[], [], []]], 'Appropriateness': [[4.0, 4.0, 4.0]], 'Relevance': [[4.0, 4.0, 4.0]], 'Content Richness': [[4.0, 3.0, 4.0]], 'Grammatical Correctness': [[4.0, 4.0, 4.0]]}\n",
      "____________________________________________________________________________________________________\n",
      "Continue the dialog with one turn, proving knowledge of at least one of these grammar skills:\n",
      "would FORM/USE: AFTER 'IF' CLAUSES; would FORM: PAST AFFIRMATIVE; would FORM: PAST NEGATIVE; would FORM: QUESTIONS; would FORM: WITH ADVERBS; would USE: FUTURE IN THE PAST; would USE: IMAGINED SITUATIONS IN THE PAST; would USE: INDIRECTNESS; would USE: POLITE REQUESTS; would USE: REPORTED SPEECH; would USE: WILLINGNESS IN THE PAST; negation FORM/USE: 'NOT', EMPHASIS; negation FORM/USE: 'NEVER', INVERTED FRONT POSITION, FOCUS; negation FORM/USE: 'NEITHER ... NOR'\n",
      "\n",
      "Snippet:\n",
      "A: But. . . But. . .\n",
      "B: But what? Just remember that thrift is not only a great virtue, but also a great revenue.\n",
      "A: I am sorry. Maybe you are right.\n",
      "B: \n",
      "RESPONSE from GPT3.5\n",
      "['If you would consider budgeting wisely, you could save a lot of money in the long run.', 'If you start saving now, you would see the benefits in the future.', 'Would you consider being more mindful of your spending in the future?']\n"
     ]
    },
    {
     "data": {
      "application/vnd.jupyter.widget-view+json": {
       "model_id": "4cbb724921f545868da1f9c84c26bdf0",
       "version_major": 2,
       "version_minor": 0
      },
      "text/plain": [
       "Contexts:   0%|          | 0/1 [00:00<?, ?it/s]"
      ]
     },
     "metadata": {},
     "output_type": "display_data"
    },
    {
     "data": {
      "application/vnd.jupyter.widget-view+json": {
       "model_id": "",
       "version_major": 2,
       "version_minor": 0
      },
      "text/plain": [
       "Responses:   0%|          | 0/3 [00:00<?, ?it/s]"
      ]
     },
     "metadata": {},
     "output_type": "display_data"
    },
    {
     "name": "stdout",
     "output_type": "stream",
     "text": [
      "{'Distinctiveness': [0.8636363636363636], 'positive_constraints': [[[1.0, 0.0, 0.0, 0.0, 0.0, 0.0, 0.0, 0.0, 0.0, 0.0, 0.0, 0.0, 0.0, 0.0], [1.0, 0.0, 0.0, 0.0, 0.0, 0.0, 0.0, 0.0, 0.0, 0.0, 0.0, 0.0, 0.0, 0.0], [0.0, 0.0, 0.0, 1.0, 0.0, 0.0, 0.0, 0.0, 1.0, 0.0, 0.0, 0.0, 0.0, 0.0]]], 'negative_constraints': [[[], [], []]], 'Appropriateness': [[4.0, 4.0, 4.0]], 'Relevance': [[4.0, 4.0, 4.0]], 'Content Richness': [[4.0, 3.0, 3.0]], 'Grammatical Correctness': [[5.0, 4.0, 5.0]]}\n",
      "\n",
      "B1-Can use 'would' in the main clause of a conditional sentence to talk about an imagined situation, often in the context of advice or opinion-giving. (625)\n",
      "- If you would consider budgeting wisely, you could save a lot of money in the long run.\n",
      "\n",
      "B1-Can use 'would' in the main clause of a conditional sentence to talk about an imagined situation, often in the context of advice or opinion-giving. (625)\n",
      "- If you start saving now, you would see the benefits in the future.\n",
      "\n",
      "B1-Can use question forms. (628)\n",
      "- Would you consider being more mindful of your spending in the future?\n",
      "\n",
      "B1-Can use 'would' to make polite requests, often in the fixed expression 'would you mind'. (633)\n",
      "- Would you consider being more mindful of your spending in the future?\n",
      "____________________________________________________________________________________________________\n"
     ]
    }
   ],
   "source": [
    "for i in range(5):\n",
    "    rules = sample_subcategory_rules()\n",
    "    snippet = sample_dialog_snippet(dialogs)\n",
    "    prompt_score(rules, snippet, classifiers, dialog=True, all=False, verbose=True, statement=False, n_responses=3)\n",
    "    print(\"_\" * 100)"
   ]
  },
  {
   "cell_type": "markdown",
   "id": "a597ecdf-abfe-4998-bd60-5513dbf9c5a4",
   "metadata": {},
   "source": [
    "## Task 3: All skills from one difficulty level"
   ]
  },
  {
   "cell_type": "code",
   "execution_count": 36,
   "id": "f9ee1add-a19d-4fd9-a421-22fbc905cd7d",
   "metadata": {},
   "outputs": [],
   "source": [
    "def sample_level_rules(level = None):\n",
    "    if level is None: level = random.sample(levels, 1)[0]\n",
    "    return level, egp[(egp['Level']==level) & (egp['#'].isin(classifiers.keys()))]"
   ]
  },
  {
   "cell_type": "code",
   "execution_count": 37,
   "id": "44f00b26-1705-40f6-ac77-9dda35c24a69",
   "metadata": {},
   "outputs": [
    {
     "name": "stdout",
     "output_type": "stream",
     "text": [
      "Continue the text with two sentences, proving knowledge of grammar skills on CEFR level C1.\n",
      "Snippet:\n",
      "On December 7, 1941, the United States of America was attacked by the Imperial Japanese Navy at Pearl Harbor, Hawaii.\n",
      "RESPONSE from GPT3.5\n",
      "[\"This event led to the United States' entry into World War II, marking a turning point in the conflict and drastically changing the course of history. The surprise attack resulted in significant damage to the US Pacific Fleet and the loss of thousands of lives.\"]\n"
     ]
    },
    {
     "data": {
      "text/plain": [
       "[[0.0, 0.0, 0.0, 0.0]]"
      ]
     },
     "execution_count": 37,
     "metadata": {},
     "output_type": "execute_result"
    }
   ],
   "source": [
    "level, rules = sample_level_rules()\n",
    "snippet = random.sample(stories, 1)[0]\n",
    "prompt_score(rules, snippet, classifiers, dialog=False, all=False, verbose=True, level=level)"
   ]
  },
  {
   "cell_type": "code",
   "execution_count": 39,
   "id": "1c007342-a2f8-4bb9-9464-be3525580c2b",
   "metadata": {},
   "outputs": [
    {
     "name": "stdout",
     "output_type": "stream",
     "text": [
      "Continue the dialog with one turn, proving knowledge of grammar skills on CEFR level B1.\n",
      "Snippet:\n",
      "A: That is what tornadoes sound like. They sound like trains. They're very loud.\n",
      "B: But if you hear them coming, isn't it already too late?\n",
      "A: Maybe. It depends on the tornado. Some can move across the ground at 200 miles an hour. That is very fast. Others aren't so fast.\n",
      "B: \n",
      "RESPONSE from GPT3.5\n",
      "['Yes, I heard that the speed of a tornado can vary greatly depending on its size and strength.', 'I heard that tornadoes can leave a path of destruction behind them.', \"Yes, I've heard that tornadoes can vary in speed depending on their size and strength. I once read that the Enhanced Fujita Scale is used to measure their intensity.\"]\n"
     ]
    },
    {
     "data": {
      "application/vnd.jupyter.widget-view+json": {
       "model_id": "4b948cd1180b4b0dbe53d44bae52ee30",
       "version_major": 2,
       "version_minor": 0
      },
      "text/plain": [
       "Contexts:   0%|          | 0/1 [00:00<?, ?it/s]"
      ]
     },
     "metadata": {},
     "output_type": "display_data"
    },
    {
     "data": {
      "application/vnd.jupyter.widget-view+json": {
       "model_id": "",
       "version_major": 2,
       "version_minor": 0
      },
      "text/plain": [
       "Responses:   0%|          | 0/3 [00:00<?, ?it/s]"
      ]
     },
     "metadata": {},
     "output_type": "display_data"
    },
    {
     "name": "stdout",
     "output_type": "stream",
     "text": [
      "{'Distinctiveness': [0.7936507936507936], 'positive_constraints': [[[0.0, 0.0, 0.0, 0.0, 0.0, 0.0, 0.0, 0.0, 0.0, 0.0, 0.0, 0.0, 0.0, 0.0, 0.0, 0.0, 0.0], [0.0, 0.0, 0.0, 0.0, 0.0, 0.0, 0.0, 0.0, 0.0, 0.0, 0.0, 0.0, 0.0, 0.0, 0.0, 0.0, 0.0], [0.0, 0.0, 0.0, 0.0, 0.0, 0.0, 0.0, 0.0, 0.0, 0.0, 0.0, 0.0, 0.0, 0.0, 0.0, 0.0, 0.0]]], 'negative_constraints': [[[], [], []]], 'Appropriateness': [[4.0, 4.0, 4.0]], 'Relevance': [[4.0, 4.0, 4.0]], 'Content Richness': [[4.0, 3.0, 4.0]], 'Grammatical Correctness': [[5.0, 4.0, 5.0]]}\n",
      "____________________________________________________________________________________________________\n",
      "Continue the dialog with one turn, proving knowledge of grammar skills on CEFR level C2.\n",
      "Snippet:\n",
      "A: I appreciate it very much. You've been doing great. I expect to see you be promoted pretty soon.\n",
      "B: that's very nice of you to say so. I'll try my best. When will you start at the new position?\n",
      "A: next week.\n",
      "B: \n",
      "RESPONSE from GPT3.5\n",
      "[\"I'm happy to hear that. I will make sure to fill any gaps in knowledge that may arise during the transition.\", 'Well, congratulations on your promotion. I am sure you will excel in your new role.', \"I'm looking forward to starting, thank you for your support.\"]\n"
     ]
    },
    {
     "data": {
      "application/vnd.jupyter.widget-view+json": {
       "model_id": "9d22623b206b4484b1e6ca772f53e774",
       "version_major": 2,
       "version_minor": 0
      },
      "text/plain": [
       "Contexts:   0%|          | 0/1 [00:00<?, ?it/s]"
      ]
     },
     "metadata": {},
     "output_type": "display_data"
    },
    {
     "data": {
      "application/vnd.jupyter.widget-view+json": {
       "model_id": "",
       "version_major": 2,
       "version_minor": 0
      },
      "text/plain": [
       "Responses:   0%|          | 0/3 [00:00<?, ?it/s]"
      ]
     },
     "metadata": {},
     "output_type": "display_data"
    },
    {
     "name": "stdout",
     "output_type": "stream",
     "text": [
      "{'Distinctiveness': [0.9615384615384616], 'positive_constraints': [[[0.0, 0.0, 0.0, 0.0], [0.0, 0.0, 0.0, 0.0], [0.0, 0.0, 0.0, 0.0]]], 'negative_constraints': [[[], [], []]], 'Appropriateness': [[4.0, 4.0, 4.0]], 'Relevance': [[4.0, 4.0, 4.0]], 'Content Richness': [[4.0, 4.0, 3.0]], 'Grammatical Correctness': [[4.0, 5.0, 5.0]]}\n",
      "____________________________________________________________________________________________________\n",
      "Continue the dialog with one turn, proving knowledge of grammar skills on CEFR level C2.\n",
      "Snippet:\n",
      "A: Hi, Peter. I'm afraid I can't make it to dinner tomorrow night.\n",
      "B: Oh, why not?\n",
      "A: It's just I'm not feeling well. I think I'm coming down with a cold or something.\n",
      "B: \n",
      "RESPONSE from GPT3.5\n",
      "['I can completely understand, health should always come first.', \"I'm really sorry to hear that. Make sure to get plenty of rest and stay hydrated.\", \"That's too bad. I hope you feel better soon.\"]\n"
     ]
    },
    {
     "data": {
      "application/vnd.jupyter.widget-view+json": {
       "model_id": "829420c838f648c5aa4ebab71fe715b1",
       "version_major": 2,
       "version_minor": 0
      },
      "text/plain": [
       "Contexts:   0%|          | 0/1 [00:00<?, ?it/s]"
      ]
     },
     "metadata": {},
     "output_type": "display_data"
    },
    {
     "data": {
      "application/vnd.jupyter.widget-view+json": {
       "model_id": "",
       "version_major": 2,
       "version_minor": 0
      },
      "text/plain": [
       "Responses:   0%|          | 0/3 [00:00<?, ?it/s]"
      ]
     },
     "metadata": {},
     "output_type": "display_data"
    },
    {
     "name": "stdout",
     "output_type": "stream",
     "text": [
      "{'Distinctiveness': [1.0], 'positive_constraints': [[[0.0, 0.0, 0.0, 0.0], [0.0, 0.0, 0.0, 0.0], [0.0, 0.0, 0.0, 0.0]]], 'negative_constraints': [[[], [], []]], 'Appropriateness': [[4.0, 4.0, 4.0]], 'Relevance': [[4.0, 4.0, 4.0]], 'Content Richness': [[4.0, 4.0, 2.0]], 'Grammatical Correctness': [[5.0, 5.0, 5.0]]}\n",
      "____________________________________________________________________________________________________\n",
      "Continue the dialog with one turn, proving knowledge of grammar skills on CEFR level C2.\n",
      "Snippet:\n",
      "A: I don't have a good camera. How am I going to take nice pictures of the butterflies? They are so colorful. I want to get in really close so everyone can see the details.\n",
      "B: Our photography lab loans cameras to all students enrolled in my class. Don't worry. Just show your student ID and they will give you one.\n",
      "A: What if I lose it? Or break it?\n",
      "B: \n",
      "RESPONSE from GPT3.5\n",
      "['If you happen to lose or break the camera, you will be responsible for covering the cost of repair or replacement.', 'You will be responsible for any damages or loss to the camera. Make sure to handle it with care.', 'You would be responsible for any damages or losses incurred while in your possession.']\n"
     ]
    },
    {
     "data": {
      "application/vnd.jupyter.widget-view+json": {
       "model_id": "39fab73406824e72b0ce8321c9306ae5",
       "version_major": 2,
       "version_minor": 0
      },
      "text/plain": [
       "Contexts:   0%|          | 0/1 [00:00<?, ?it/s]"
      ]
     },
     "metadata": {},
     "output_type": "display_data"
    },
    {
     "data": {
      "application/vnd.jupyter.widget-view+json": {
       "model_id": "",
       "version_major": 2,
       "version_minor": 0
      },
      "text/plain": [
       "Responses:   0%|          | 0/3 [00:00<?, ?it/s]"
      ]
     },
     "metadata": {},
     "output_type": "display_data"
    },
    {
     "name": "stdout",
     "output_type": "stream",
     "text": [
      "{'Distinctiveness': [0.8392857142857143], 'positive_constraints': [[[0.0, 0.0, 0.0, 0.0], [0.0, 0.0, 0.0, 0.0], [0.0, 0.0, 0.0, 0.0]]], 'negative_constraints': [[[], [], []]], 'Appropriateness': [[4.0, 4.0, 4.0]], 'Relevance': [[4.0, 4.0, 4.0]], 'Content Richness': [[4.0, 4.0, 4.0]], 'Grammatical Correctness': [[5.0, 4.0, 4.0]]}\n",
      "____________________________________________________________________________________________________\n",
      "Continue the dialog with one turn, proving knowledge of grammar skills on CEFR level A1.\n",
      "Snippet:\n",
      "A: No, there isn't. They are all vacuumed.\n",
      "B: I wonder how old these things are, thousands of years?\n",
      "A: Yeah, they all come from a very ancient time.\n",
      "B: \n",
      "RESPONSE from GPT3.5\n",
      "['I think they might be relics from ancient civilizations.', 'How interesting! They must hold a lot of history.', 'So they must be very valuable.']\n"
     ]
    },
    {
     "data": {
      "application/vnd.jupyter.widget-view+json": {
       "model_id": "dae54e53be2945b59ae5cc40fb18a0fe",
       "version_major": 2,
       "version_minor": 0
      },
      "text/plain": [
       "Contexts:   0%|          | 0/1 [00:00<?, ?it/s]"
      ]
     },
     "metadata": {},
     "output_type": "display_data"
    },
    {
     "data": {
      "application/vnd.jupyter.widget-view+json": {
       "model_id": "",
       "version_major": 2,
       "version_minor": 0
      },
      "text/plain": [
       "Responses:   0%|          | 0/3 [00:00<?, ?it/s]"
      ]
     },
     "metadata": {},
     "output_type": "display_data"
    },
    {
     "name": "stdout",
     "output_type": "stream",
     "text": [
      "{'Distinctiveness': [1.0], 'positive_constraints': [[[0.0, 0.0, 0.0, 0.0, 0.0, 0.0], [0.0, 0.0, 0.0, 0.0, 0.0, 0.0], [0.0, 0.0, 0.0, 0.0, 0.0, 0.0]]], 'negative_constraints': [[[], [], []]], 'Appropriateness': [[4.0, 4.0, 4.0]], 'Relevance': [[4.0, 4.0, 4.0]], 'Content Richness': [[4.0, 4.0, 4.0]], 'Grammatical Correctness': [[5.0, 5.0, 5.0]]}\n",
      "____________________________________________________________________________________________________\n"
     ]
    }
   ],
   "source": [
    "for i in range(5):\n",
    "    level, rules = sample_level_rules()\n",
    "    snippet = sample_dialog_snippet(dialogs)\n",
    "    prompt_score(rules, snippet, classifiers, dialog=True, all=False, verbose=True, level=level, n_responses=3)\n",
    "    print(\"_\" * 100)"
   ]
  },
  {
   "cell_type": "code",
   "execution_count": null,
   "id": "530b5728-8e84-459a-8047-1408bad60b32",
   "metadata": {},
   "outputs": [],
   "source": []
  }
 ],
 "metadata": {
  "kernelspec": {
   "display_name": "Python 3 (ipykernel)",
   "language": "python",
   "name": "python3"
  },
  "language_info": {
   "codemirror_mode": {
    "name": "ipython",
    "version": 3
   },
   "file_extension": ".py",
   "mimetype": "text/x-python",
   "name": "python",
   "nbconvert_exporter": "python",
   "pygments_lexer": "ipython3",
   "version": "3.11.2"
  }
 },
 "nbformat": 4,
 "nbformat_minor": 5
}
