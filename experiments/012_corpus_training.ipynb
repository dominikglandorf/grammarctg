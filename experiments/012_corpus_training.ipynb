{
 "cells": [
  {
   "cell_type": "markdown",
   "id": "0e5342b3-6725-42d0-83e5-5db4cb1e1e8a",
   "metadata": {},
   "source": [
    "# Exp012: Train classifiers from corpus examples\n",
    "This experiments uses regular expressions to identify possible positive and hard negative instances in multiple corpora. It may add handpicked generated examples if the corpus does not have enough examples."
   ]
  },
  {
   "cell_type": "code",
   "execution_count": 2,
   "id": "c4f87740-f21a-48e3-bfc0-2ce119b2cdff",
   "metadata": {},
   "outputs": [
    {
     "name": "stderr",
     "output_type": "stream",
     "text": [
      "[nltk_data] Downloading package punkt to\n",
      "[nltk_data]     /scratch/tmp.55928685.dglandorf...\n",
      "[nltk_data]   Package punkt is already up-to-date!\n",
      "[nltk_data] Downloading package punkt to\n",
      "[nltk_data]     /scratch/tmp.55928685.dglandorf...\n",
      "[nltk_data]   Package punkt is already up-to-date!\n"
     ]
    },
    {
     "data": {
      "text/plain": [
       "<module 'data' from '/cluster/home/dglandorf/grammarctg/experiments/../source/data.py'>"
      ]
     },
     "execution_count": 2,
     "metadata": {},
     "output_type": "execute_result"
    }
   ],
   "source": [
    "import os\n",
    "from dotenv import load_dotenv\n",
    "load_dotenv()\n",
    "os.environ['CACHE_DIR'] = f\"/scratch/tmp.{os.getenv('SLURM_JOB_ID')}.dglandorf\" # speed up model loading\n",
    "\n",
    "import re\n",
    "import os\n",
    "import random\n",
    "import numpy as np\n",
    "from torch import tensor, Tensor\n",
    "from torch.nn import DataParallel\n",
    "from torch.utils.data import DataLoader, TensorDataset, random_split, Subset\n",
    "from sklearn.model_selection import KFold\n",
    "from collections import defaultdict\n",
    "from tqdm import tqdm\n",
    "import pandas as pd\n",
    "import matplotlib.pyplot as plt\n",
    "import seaborn as sns\n",
    "from matplotlib.ticker import FuncFormatter\n",
    "\n",
    "import sys\n",
    "sys.path.append('../source')\n",
    "import models\n",
    "import data\n",
    "import importlib\n",
    "importlib.reload(data)"
   ]
  },
  {
   "cell_type": "code",
   "execution_count": 3,
   "id": "961585f3-8a6e-4e10-b0f3-e16a34a8eee9",
   "metadata": {},
   "outputs": [
    {
     "name": "stderr",
     "output_type": "stream",
     "text": [
      "100%|██████████████████████████████████████████████████████████████████████████████████████████████████████████| 4/4 [00:23<00:00,  5.86s/it]\n"
     ]
    }
   ],
   "source": [
    "# load corpus sentences and prepare dataloader\n",
    "sentences = data.get_mixed_sentences(1000000) # get all sentences\n",
    "\n",
    "# initialize corpus to check against\n",
    "max_batches = 64\n",
    "batch_size = 256\n",
    "encoded_inputs = models.bert_tokenizer(sentences[:12*max_batches*batch_size], return_tensors='pt', max_length=64, padding='max_length', truncation=True)\n",
    "encoded_inputs['sentences'] = sentences[:12*max_batches*batch_size]\n",
    "corpus_dataset = TensorDataset(encoded_inputs['input_ids'], encoded_inputs['attention_mask'])\n",
    "corpus_dataloader = DataLoader(corpus_dataset, batch_size=batch_size, shuffle=False)"
   ]
  },
  {
   "cell_type": "code",
   "execution_count": 2,
   "id": "aa30f090-b507-4f11-bd5c-fc545d061952",
   "metadata": {},
   "outputs": [],
   "source": [
    "# output dataset\n",
    "output_path = '../data/annotated_corpus.json'\n",
    "instances = pd.DataFrame(columns=['#', 'sentence', 'positive']) if not os.path.exists(output_path) else pd.read_json(output_path)\n",
    "instances['positive'] = instances['positive'].astype(bool)\n",
    "\n",
    "egp_gpt = pd.read_json(\"../data/egp_gpt35.json\")"
   ]
  },
  {
   "cell_type": "code",
   "execution_count": 3,
   "id": "a87b1b7a-5687-4e04-88c2-2fae4eca2a16",
   "metadata": {},
   "outputs": [],
   "source": [
    "# manipulation functions for instance dataset\n",
    "def get_positives(instances, nr):\n",
    "    return list(instances[(instances['#'] == nr) & instances['positive']]['sentence'])\n",
    "def get_negatives(instances, nr):\n",
    "    return list(instances[(instances['#'] == nr) & ~instances['positive']]['sentence'])\n",
    "def get_others(sentences, matches):\n",
    "    return list(set(sentences).difference(set(matches)))\n",
    "def add_to_instances(sentences, nr, positive=True):\n",
    "    global instances\n",
    "    if isinstance(sentences, list):\n",
    "        for sentence in sentences:\n",
    "            new_row = pd.DataFrame({'#': [nr], 'sentence': [sentence], 'positive': [positive]})\n",
    "            instances = pd.concat([instances, new_row], ignore_index=True)\n",
    "    else:\n",
    "        new_row = pd.DataFrame({'#': [nr], 'sentence': [sentences], 'positive': [positive]})\n",
    "        instances = pd.concat([instances, new_row], ignore_index=True)\n",
    "    instances.to_json(output_path)\n",
    "\n",
    "# model training\n",
    "def get_trained_classifer(positive, negative, others, classifier=models.RuleDetector(models.bert_encoder).to(models.device), ratio=1, verbose=True):\n",
    "    dataset = data.get_dataset(positive, negative, others, models.bert_tokenizer, 64, ratio*len(positive)/len(negative), verbose=verbose) \n",
    "    train_dataloader, val_dataloader = data.get_loaders(dataset)\n",
    "    _, val_metrics = models.train(classifier, train_dataloader, val_dataloader, num_epochs=None, verbose=verbose)\n",
    "    return classifier, val_metrics"
   ]
  },
  {
   "attachments": {},
   "cell_type": "markdown",
   "id": "8a24689c-8004-4510-8cac-3e4dc0527c10",
   "metadata": {},
   "source": [
    "Find examples for would rules (616-638), superlatives (1105-1131), negations (1175-1205)"
   ]
  },
  {
   "cell_type": "code",
   "execution_count": 6,
   "id": "1ebc1b70-7706-4832-8f7c-9563d99b1f83",
   "metadata": {},
   "outputs": [],
   "source": [
    "nr = 1186"
   ]
  },
  {
   "cell_type": "code",
   "execution_count": 7,
   "id": "76ade4eb-ecb4-4c8e-82d3-35b4e4a7c0ce",
   "metadata": {},
   "outputs": [],
   "source": [
    "pattern = r\"don't\"\n",
    "matches = [sentence for sentence in sentences if re.search(pattern, sentence, re.IGNORECASE)]\n",
    "random.shuffle(matches)\n",
    "candidates = iter(matches)"
   ]
  },
  {
   "cell_type": "code",
   "execution_count": 53,
   "id": "5be73f1c-78d9-49a1-9c6e-c06a429d215b",
   "metadata": {},
   "outputs": [],
   "source": [
    "gpt35 = egp_gpt[egp_gpt['#']==nr].iloc[0]\n",
    "egp_matches = gpt35['augmented_examples']\n",
    "random.shuffle(egp_matches)\n",
    "candidates = iter(egp_matches)"
   ]
  },
  {
   "cell_type": "code",
   "execution_count": 140,
   "id": "a67436e5-e38b-4cea-a0ea-4c2a2986a8b7",
   "metadata": {},
   "outputs": [],
   "source": [
    "anti_pattern =  r\" most \"\n",
    "anti_matches = [sentence for sentence in sentences if re.search(anti_pattern, sentence, re.IGNORECASE)]\n",
    "random.shuffle(anti_matches)\n",
    "candidates = iter(anti_matches)"
   ]
  },
  {
   "cell_type": "code",
   "execution_count": 43,
   "id": "7af162b0-dc37-402c-a6b6-a099f3fd4900",
   "metadata": {},
   "outputs": [],
   "source": [
    "candidates = iter(subset_sentences)"
   ]
  },
  {
   "cell_type": "code",
   "execution_count": 30,
   "id": "38665e27-84f3-41d1-9f6c-8b54a511c637",
   "metadata": {},
   "outputs": [],
   "source": [
    "candidates = iter(get_positives(instances, nr))"
   ]
  },
  {
   "cell_type": "code",
   "execution_count": 48,
   "id": "ee3aea00-416c-4312-963a-8468c4f82065",
   "metadata": {
    "scrolled": true
   },
   "outputs": [
    {
     "name": "stdin",
     "output_type": "stream",
     "text": [
      "Do sit down, won't you? 1\n",
      "Why don't you just stick a gun in my ribs and take everything I have? 1\n",
      "Haven't you heard that today men are becoming increasingly interested in having their eyebrows professionally groomed? 1\n",
      "I don't know if I told you or not, but I decided to start my own business. 2\n",
      "But aren't you afraid of over-working yourself? 1\n",
      "Why don't you turn off the TV and get outside? 1\n",
      "I don't think we will be able to pay the price. 2\n",
      "why don't you try? 1\n",
      "I'm sorry I don't know how to pronounce that. 2\n",
      "Why don't you come out and play with us? 1\n",
      "Well, I could put you on a waiting list.But that doesn't guarantee you will get into the class. 1\n",
      "It may take less time, but I don't know about easier. 1\n",
      "Why don't we stop and have a rest here? 1\n",
      "Believe it or not, tests don't mean that we should do extra work. 1\n",
      "I just didn't feel that they were ready to open yet. 2\n",
      "I don't believe it.He is only being with the company for two years. 1\n",
      "I don't think it's there. 2\n",
      "I don't think there's one around here. 2\n",
      "Don't you want to show it off? 1\n",
      "I don't think we'll be able to find a taxi very easily during hush hours. 2\n",
      "I didn't think it was that interesting. 2\n",
      "You don't know that I have been over-protected by my mother these years. 2\n",
      "I don't know where I'll be after that. 2\n",
      "There have been so many dry winters lately that it's about time, don't you think? 1\n",
      "That being the case, I don't think that I am going to show the income next time. 2\n",
      "I don't mind going bar hopping with an expert like you. 2\n",
      "Oh, I don't think it'll last long. 2\n",
      "I didn't know you were so good at cooking. 2\n",
      "Why don't you give them a suggestion? 1\n",
      "Well, I don't think it's so bad. 2\n",
      "The program is not responding and I don't know what to do. 2\n",
      "But I don't know where the best place to shop is. 2\n",
      "You like the Chinese style, don't you? 1\n",
      "I don't think I do. 2\n",
      "I didn't know I could get it cheaper somewhere else. 2\n",
      "France has a mild climate, doesn't it? 1\n",
      "I don't know if you're aware son, but there has been a lot of turmoil in the markets recently. c\n"
     ]
    }
   ],
   "source": [
    "while 1==1:\n",
    "    if len(get_positives(instances, nr)) == 50: print(\"** REACHED 50 POSITIVES **\")\n",
    "    try:\n",
    "        candidate = next(candidates)\n",
    "    except StopIteration:\n",
    "        print(\"No candidates left.\")\n",
    "        break\n",
    "    if candidate in list(instances[instances['#'] == nr]['sentence']): continue # prevent duplicates\n",
    "    #candidate = candidate.replace(\",\", \"\")\n",
    "    user_response = input(f\"{candidate}\")\n",
    "    if user_response == \"c\": break\n",
    "    if user_response == \"s\": continue\n",
    "    if user_response == \"del\": \n",
    "        instances = instances.iloc[:-1]\n",
    "        continue\n",
    "    new_row = pd.DataFrame({'#': [nr], 'sentence': [candidate], 'positive': [True if user_response == '2' else False]})\n",
    "    instances = pd.concat([instances, new_row], ignore_index=True)\n",
    "    instances.to_json(output_path)"
   ]
  },
  {
   "cell_type": "code",
   "execution_count": 36,
   "id": "ca15a6e6-680e-4a3b-8cb1-ef30a2edd141",
   "metadata": {},
   "outputs": [],
   "source": [
    "#instances = instances.iloc[:-1]"
   ]
  },
  {
   "cell_type": "code",
   "execution_count": 8,
   "id": "4d7afd92-03e9-4aab-86c7-51a02eb93ecb",
   "metadata": {
    "scrolled": true
   },
   "outputs": [
    {
     "data": {
      "text/plain": [
       "[\"When I got out of the plane, I couldn't believe how cold it was.\",\n",
       " \"I don't think you're telling me the truth.\",\n",
       " \"I don't think they should be penalized for hard work.\",\n",
       " \"Well, I sympathize with your problem, but frankly, I don't think there is anything anyone can do for you.\",\n",
       " \"I didn't think I should ask LOL  Usually pageants are focused on judging and ranking the physical attributes of the contestants.\",\n",
       " \"We were thinking of going to the beach, but I don't think Martin is well enough to go.\",\n",
       " \"I don't think I could just eat vegetables, I would be missing out on so much.\",\n",
       " \"I can't believe its earliest use is traced back to Mexico in 1900 BCE.\",\n",
       " \"You transcript indicate that your English background is strong, so I don't think you have any problem with it.\",\n",
       " \"I can't believe Mr. Fro didn't buy it.\",\n",
       " \"Oh, I don't think I'll need to.\",\n",
       " \"I don't think mine were some fancy breed like that.\",\n",
       " \"I can't believe you actually found an apartment in the ads.\",\n",
       " \"I couldn't believe I had to drive all the way back to Los Angeles with them.\",\n",
       " \"Yes, but I don't think they are enough for me.\",\n",
       " \"Well, I don't think I want it.\",\n",
       " \"I have thought about at least trying it, but I just don't think I could swallow it.\",\n",
       " \"I don't think there is one cause.\",\n",
       " \"Yeah, though I don't think her acting skills are that great.\",\n",
       " \"I don't think wolves would make good pets.\",\n",
       " \"I really don't know, but I don't think she gave out that many yet.\",\n",
       " \"I've heard of both of them but can't think of anything they are on.\",\n",
       " \"Interesting, I knew it was an American dish, but didn't think it had French roots as well.\",\n",
       " \"I don't think I'll need to lug my computer around with me.\",\n",
       " \"Umm, I don't think that's true but I'll circle it.\",\n",
       " \"I don't believe animals should suffer, and I think they have the same value as humans do.\",\n",
       " \"It takes only one day and you could experience almost all the famous spots in the city, I don't think you would like to miss it.\",\n",
       " \"I don't believe they eat fish either.\",\n",
       " \"Wow!, i can't believe that Christianization had such a profound event that shook even their social fabric\",\n",
       " \"I like them now but can't believe they are a fruit!\",\n",
       " \"Yes, but I don't think it was enough.\",\n",
       " 'I do not think it is a big deal.',\n",
       " \"I don't think it was the problem with your hands, you did several excellent spares.\",\n",
       " \"You wouldn't believe what I got in the mail today!\",\n",
       " \"I sometimes like mysteries, but I don't think I'm in the mood for one right now.\",\n",
       " \"I don't think I've heard of them!\",\n",
       " \"I don't believe we've met.\",\n",
       " \"I don't think I'm getting better.\",\n",
       " \"He didn't think anyone would want to buy his paintings.\",\n",
       " \"I don't think I understand what you mean.\",\n",
       " \"I don't think I've heard of him.\",\n",
       " \"Well, I don't think we can identify the person, but the first use of the word 'pizza' is from the 10th century in southern Italy.\",\n",
       " \"I don't think there will be.\",\n",
       " \"I get very confused about electric cars - probably because I don't believe I'd be able to charge it all that well at home.\",\n",
       " \"I have a pair that I don't think have any safety certifications.\",\n",
       " \"I don't think I've had a wet burrito.\",\n",
       " \"i didn't think Italians eat a lot of fish\",\n",
       " \"You know I don't think I did - did he play a comedic role or more serious?\",\n",
       " \"I don't think it's gotten that bad for me yet.\",\n",
       " \"I was today years old when I realized they still did that lol I can't believe it's been around since August 29, 1997 either.\",\n",
       " \"I don't think I'm going to get one.\",\n",
       " \"I didn't think guys paid attention to stuff like that.\",\n",
       " \"I can't believe that there are girls who are willing to do that to their bodies.\",\n",
       " \"I don't think there's much on this week.\",\n",
       " \"I couldn't be happier to know that he's our new President.\",\n",
       " \"It's always nice to have some closure, but I don't think you'll have a problem finding another girlfriend.\",\n",
       " \"I don't mean to say that there's no privacy in China, but...\",\n",
       " \"Johnny, I can't believe you would do that.\",\n",
       " \"But I don't think he wrote down my answers to any of his questions.\",\n",
       " \"I can't believe I married a woman like you.\",\n",
       " \"I don't see why we can't work on opening new markets and developing the markets we've already penetrated at the same time...\",\n",
       " \"I can't believe my English teacher is making me read pride and prejudice!\",\n",
       " \"You know, I don't think I've ever actually spent any time by myself in my parents ' home.\",\n",
       " \"I don ' t think we will be traveling that fast on the motorway.\",\n",
       " \"I don't think it is nice to have butterflies mounted in boxes.It is kind of disgusting.\",\n",
       " \"I don't know where the professor got some of those questions.\",\n",
       " \"I don't think I'm ready for a ring from him yet.\",\n",
       " \"I don't think he will be too angry.\",\n",
       " \"I don't think I forgot anything.\",\n",
       " \"I don't think it would be a good idea to get a mouse or a fish!\",\n",
       " \"I don't think he's back today.\",\n",
       " \"I can't believe I fell into your trap.\",\n",
       " \"She's got blonder hair, but I don't know what color her eyes are.\",\n",
       " \"I don't know if I can pass it.\",\n",
       " \"I can't believe you don't trust me.\",\n",
       " \"I think I ' m qualified for the job if I can be given the chance.While at school, I once worked as part-time translator in a company and salesperson with a textile company for two years.And I don't mind being paid less from the start, I just want to enrich my experience and competence.\",\n",
       " \"Well, my contract here is for one year, and I don't know what I should do after that.\",\n",
       " \"I don't think we have very much money for supplies, but we have a little.\",\n",
       " \"I don't know who placed the call.\",\n",
       " \"I don't understand how the stockholders could have so much power to throw a wrench in the plans...\",\n",
       " \"I can't believe that our company is as big as it is.\",\n",
       " \"I still don't think that's a good idea.\",\n",
       " \"I didn't realize that speaking in class could be so easy.\",\n",
       " \"On the other hand, I can't imagine what China would be like\",\n",
       " \"Well, that's probably true, but I don't think we should be dogmatic about it.\",\n",
       " \"No, I don't think comedies today are natural or cheerful.\",\n",
       " \"I'm going over to my boss'house for dinner tonight and don't know what kind of wine I should bring.\",\n",
       " \"I didn't know you were in New York.\",\n",
       " \"I don't think I could afford that kind of car again.\",\n",
       " \"I don't really know who I would compare myself to.\",\n",
       " \"I don't know what he wants to do.\",\n",
       " \"I don't think I'Ve seen you around before.\",\n",
       " \"I don't think McDonald's big Macs and fries count.\",\n",
       " \"I can't believe he was stalking you all these years.\",\n",
       " \"I don't think she could realize that she has married a fool for women.\",\n",
       " \"I don't think it smells nice.\",\n",
       " \"Well, I can't believe your uncle and aunt came to stay with us for a week, and they did not even call us in advance.\",\n",
       " \"I don't think the meet will go on much longer, should I ask him to call you when he is free.\",\n",
       " \"I really didn't expect I'd get one this way.\",\n",
       " \"I don't know if you like them as much as last seasons.\",\n",
       " \"I can't believe I didn't think of this earlier.\",\n",
       " \"I don't know why people are just mad about David Peckham.\",\n",
       " \"I didn't know you biked to work.\",\n",
       " \"I haven't got any certificate of computer skills, because I don't think certificates are necessary if what's needed is merely operating a computer.\",\n",
       " \"I don't think that's gonna cut it.\",\n",
       " \"( Smile ) I can't believe this for it's been 20 years since we got married.\",\n",
       " \"I'd like to get a BA, but I don't know where I should go.\",\n",
       " \"I really don't think that you think less clearly on non-vegetarian diet.\",\n",
       " \"I don't think there's any excuse for his acting in some parts.\",\n",
       " \"I don't think we can make it.\",\n",
       " \"We've been to this place before and I don't feel the soup taste any different.\",\n",
       " \"I don't think you guys have it.\",\n",
       " \"I can't believe that the air in this city is so dirty.\",\n",
       " \"I'm supposed to have lunch with an important visitor from out of town, and I don't think there's any way I can get out of it.Are you free on Wednesday?\",\n",
       " \"I can't believe that Anthony is finally getting married!\",\n",
       " \"I've never paid for a hotel souvenir in my life, and I don't intend to start now.\",\n",
       " \"I thought the overall plot of the movie was very interesting, but I don't think the character development was that strong.\",\n",
       " \"I'm glad you like it.The bell is on the bedside.Just ring if you want anything.The room attendant speaks a little English.So I don't think you'll have any trouble.\",\n",
       " \"I don't think she would do such a thing.\",\n",
       " \"Oh I didn't know you were married.\",\n",
       " \"I didn't know anyone did that any more.\",\n",
       " \"just don't understand why we have to take the subway.\",\n",
       " \"I didn't know whom you were with.\",\n",
       " \"Hi, Bob, I heard about your accident, but I didn't know it would be this bad.\",\n",
       " \"I didn't think you would be interested.\",\n",
       " \"I apologize, but I didn't realize that I did.\",\n",
       " \"Even though the trafic is bumper-to-bumper out there, I don't think it's heavy traffic that makes Bill late.\",\n",
       " \"I don't know if there is an elevator.\",\n",
       " \"I didn't realize a single bedroom apartment went for so much these days.\",\n",
       " \"I don't know how to spend the rest of my years.\",\n",
       " \"To tell you the truth, I don't know if I'm a Christian or not.\",\n",
       " \"Hmm...I don't really think reviewing for an English literature exam is a very good excuse, do you?\",\n",
       " \"I didn't think you would mind so much.\",\n",
       " \"I don't know what I should do.\",\n",
       " \"I can't believe how hot it is.\",\n",
       " \"I honestly don't know what else to tell you.\",\n",
       " \"In fact, I don't think I have any special methods.\",\n",
       " \"I don't think I have the discipline for that.\",\n",
       " \"I don't mind if our rooms aren't together.\",\n",
       " \"no, because I didn't know what I wanted to do.\",\n",
       " \"I don't think it's broken.\",\n",
       " \"I don't know how well that will go over.\",\n",
       " \"To be honest with you, Jason, I don't think I'm doing a very good job of balancing my schoolwork with my job.\",\n",
       " \"Oh, Ann, I didn't realize you were such a good cook.\",\n",
       " \"I didn't know what to say to them.\",\n",
       " \"I don't think you'll have any problems in the workforce.\",\n",
       " \"I don't think she ever find out.\",\n",
       " \"I didn't even know it was coming.\",\n",
       " \"Dr. Brook, I just don't know what's wrong me.\",\n",
       " \"Why don't you stick with one job for a bit longer?\",\n",
       " \"Couldn't I persuade you to stay a couple of days more?\",\n",
       " \"You have learned a lot, haven't you?\",\n",
       " \"Jonathan, why didn't you answer any questions on the homework?\",\n",
       " \"And then you saw some butterflies, didn't you?\",\n",
       " \"Oh that's kind of long ago, wouldn't you say?\",\n",
       " \"Don't you have one like this in blue?\",\n",
       " \"Dogs are such smart animals, aren't they?\",\n",
       " \"I can't think why I ever started.Anyway, it's obviously got you in its grip!\",\n",
       " \"I don't think fish would like them.\",\n",
       " \"I don't know how it happened.\",\n",
       " \"I didn't know you could play tennis.\",\n",
       " \"I don't think I can afford it.\",\n",
       " \"I don't think drinking requires any special purposes.\",\n",
       " \"I'd really like to be in London, but it's the most expensive city in England to live in, so I don't know if I can afford to live there.\",\n",
       " \"I don't think the green one suits the sweater, though.\",\n",
       " \"I don't know how to fill out the form.\",\n",
       " \"I don't know if I told you or not, but I decided to start my own business.\",\n",
       " \"I don't think we will be able to pay the price.\",\n",
       " \"I'm sorry I don't know how to pronounce that.\",\n",
       " \"I just didn't feel that they were ready to open yet.\",\n",
       " \"I don't think it's there.\",\n",
       " \"I don't think there's one around here.\",\n",
       " \"I don't think we'll be able to find a taxi very easily during hush hours.\",\n",
       " \"I didn't think it was that interesting.\",\n",
       " \"You don't know that I have been over-protected by my mother these years.\",\n",
       " \"I don't know where I'll be after that.\",\n",
       " \"That being the case, I don't think that I am going to show the income next time.\",\n",
       " \"I don't mind going bar hopping with an expert like you.\",\n",
       " \"Oh, I don't think it'll last long.\",\n",
       " \"I didn't know you were so good at cooking.\",\n",
       " \"Well, I don't think it's so bad.\",\n",
       " \"The program is not responding and I don't know what to do.\",\n",
       " \"But I don't know where the best place to shop is.\",\n",
       " \"I don't think I do.\",\n",
       " \"I didn't know I could get it cheaper somewhere else.\"]"
      ]
     },
     "execution_count": 8,
     "metadata": {},
     "output_type": "execute_result"
    }
   ],
   "source": [
    "get_positives(instances, nr)"
   ]
  },
  {
   "cell_type": "code",
   "execution_count": 49,
   "id": "febdfd34-a456-4792-8c04-b2b8e4a0d132",
   "metadata": {},
   "outputs": [
    {
     "name": "stdout",
     "output_type": "stream",
     "text": [
      "Positive: 185, Negative: 138\n"
     ]
    }
   ],
   "source": [
    "print(f'Positive: {len(get_positives(instances, nr))}, Negative: {len(get_negatives(instances, nr))}')"
   ]
  },
  {
   "cell_type": "code",
   "execution_count": 15,
   "id": "d145accc-1c71-4801-aa4e-c1823f0d0d98",
   "metadata": {
    "scrolled": true
   },
   "outputs": [
    {
     "name": "stdout",
     "output_type": "stream",
     "text": [
      "0.21070615034168566\n"
     ]
    },
    {
     "name": "stderr",
     "output_type": "stream",
     "text": [
      "100%|████████████████████████████████████████████████████████████████████████████████████████████████████████| 22/22 [00:01<00:00, 18.95it/s]\n"
     ]
    },
    {
     "name": "stdout",
     "output_type": "stream",
     "text": [
      "Training loss: 0.16960221969268538\n",
      "Val loss: 0.12551718267301717\n"
     ]
    },
    {
     "name": "stderr",
     "output_type": "stream",
     "text": [
      "100%|████████████████████████████████████████████████████████████████████████████████████████████████████████| 22/22 [00:01<00:00, 20.71it/s]\n"
     ]
    },
    {
     "name": "stdout",
     "output_type": "stream",
     "text": [
      "Training loss: 0.1596404698423364\n",
      "Val loss: 0.11424376939733823\n"
     ]
    },
    {
     "name": "stderr",
     "output_type": "stream",
     "text": [
      "100%|████████████████████████████████████████████████████████████████████████████████████████████████████████| 22/22 [00:01<00:00, 20.63it/s]\n"
     ]
    },
    {
     "name": "stdout",
     "output_type": "stream",
     "text": [
      "Training loss: 0.1611937778917226\n",
      "Val loss: 0.11424371475974719\n"
     ]
    },
    {
     "data": {
      "text/plain": [
       "{'accuracy': 0.977, 'f1': 0.944, 'precision': 0.919}"
      ]
     },
     "execution_count": 15,
     "metadata": {},
     "output_type": "execute_result"
    }
   ],
   "source": [
    "classifier, val_metrics = get_trained_classifer(get_positives(instances, nr), get_negatives(instances, nr), get_others(sentences, matches), ratio=3)\n",
    "val_metrics"
   ]
  },
  {
   "cell_type": "markdown",
   "id": "183d9cf3-81df-4abc-a339-67be270a71ee",
   "metadata": {},
   "source": [
    "Check on entire corpus"
   ]
  },
  {
   "cell_type": "code",
   "execution_count": 16,
   "id": "b973cfbb-0cca-441d-9c55-e9b6b5e3aa83",
   "metadata": {},
   "outputs": [
    {
     "name": "stderr",
     "output_type": "stream",
     "text": [
      "  8%|████████▎                                                                                              | 62/768 [00:13<02:35,  4.53it/s]\n"
     ]
    }
   ],
   "source": [
    "# shuffle inputs\n",
    "shuffled_index = np.random.permutation(encoded_inputs['input_ids'].size(0))\n",
    "for key, value in encoded_inputs.items():\n",
    "    encoded_inputs[key] = value[shuffled_index] if isinstance(value, Tensor) else [value[i] for i in shuffled_index]\n",
    "classifier = DataParallel(classifier)\n",
    "batch_size = 256\n",
    "corpus_dataset = TensorDataset(encoded_inputs['input_ids'], encoded_inputs['attention_mask'])\n",
    "corpus_dataloader = DataLoader(corpus_dataset, batch_size=batch_size, shuffle=False)\n",
    "scores, tokens = models.score_corpus(classifier, corpus_dataloader, max_positive=200, max_batches=16000//batch_size, threshold=0.5)\n",
    "results = list(zip(scores, tokens, encoded_inputs['sentences'][:len(scores)]))"
   ]
  },
  {
   "cell_type": "code",
   "execution_count": 17,
   "id": "db88ffa1-21bc-4c3e-a1a6-36cee41abb82",
   "metadata": {
    "scrolled": true
   },
   "outputs": [
    {
     "data": {
      "text/plain": [
       "[\"I can't believe it!\",\n",
       " \"I don't think that I ever heard of that rule before.\",\n",
       " \"I didn't know what they're called in English.\",\n",
       " \"I didn't think this course would be so stressful.\",\n",
       " \"I don't know how.\",\n",
       " \"I don't think it's the best style for me.\",\n",
       " \"I can't tell whether he's serious or not so I need your advice.\",\n",
       " \"I don't even know how to use Facebook!\",\n",
       " \"I really don't know what to buy.\",\n",
       " \"You are still student so I don't think you should have time for that.\",\n",
       " \"I didn't realize it was a romance novel.\",\n",
       " \"I don't think I could stand being away from people for so long.\",\n",
       " \"I just don't think the salaries are comparable when you leave a major corporation.\",\n",
       " \"No, I don't think it's good for farming.\",\n",
       " \"Yes, but I don't know what soup you have.\",\n",
       " \"Unfortunately, I don't think it will be in the near future.\",\n",
       " \"I don't know what's the matter with it.\",\n",
       " \"But I don't think he's old enough to ride a bike to school.\",\n",
       " \"I just don't know what to do first.\",\n",
       " \"No, I didn't know I could do that.\",\n",
       " \"I can't believe it, I had faith in Bob and he let me down.\",\n",
       " \"I just don't understand why it's always liquor.\",\n",
       " \"I really don't know how to teach my son.\",\n",
       " \"Oh, I don't know about that.\",\n",
       " \"I don't think you can find any airline which offers a non-stop flight to Tokyo.\",\n",
       " \"I don't think that intelligent businessmen will spend millions of dollars on advertising if nobody believes the advertisements, do you?\",\n",
       " \"I don't believe that any single country can do anything about it.\",\n",
       " \"I didn't really know I could speak to so many people without getting nervous.\",\n",
       " \"I don't think you'll need to wear it for a while.\",\n",
       " \"I don't know why, I just have a long routine.\",\n",
       " \"I don't think the cloth bandages can stop the bleeding.\",\n",
       " \"I didn't know you had a brother.\",\n",
       " \"I don't think it's worth that money.\",\n",
       " \"I didn't know you were taking any kind of class.\",\n",
       " \"I don't think this place is for you.\",\n",
       " \"It's OK. She normally just wears a little foundation and some loose powder, and I don't know what shade to buy.\",\n",
       " \"I can't believe it took us two hours to get here.\",\n",
       " \"I don't think you have any problems.\",\n",
       " \"I know it, but I don't know when I can make it better.\",\n",
       " \"I don't think they open until 9:00 o'clock.\",\n",
       " \"Well, I don't see the point of arguing this.\",\n",
       " \"Oh, I don't believe it.\",\n",
       " \"Even though I use online shopping facilities, I don ' t think it ' s the best way to shop offline.\",\n",
       " \"I don't know what most of this food is!\",\n",
       " \"I don't buy your story.\",\n",
       " \"I really don't understand why certain people are running after one ball.\",\n",
       " \"I don't think I have the patience for keeping trying on those shoes.\",\n",
       " \"Mike, I don't think that it's a good idea to go out again.\",\n",
       " \"But I don't know how to work the Microsoft Words.\",\n",
       " \"I don't think I fancy shark-fishing.\",\n",
       " \"I didn't realize that I have to buy something from them every six months.\",\n",
       " \"I don't think he's wearing one, either that or he's turned it off.\",\n",
       " \"I don't understand why you haven't come to visit me.\",\n",
       " \"But I don't think the ice is strong enough yet.\",\n",
       " \"I don't know what a bench warrant is.\",\n",
       " \"Therefore, I don't think drinking coffee is a dangerous thing in my life.\",\n",
       " \"There's some, but I don't think it's a big problem.\",\n",
       " \"I know the station gives the news every hour on the hour, but I don't know when they announce the weather.\",\n",
       " \"I cann't believe it.\",\n",
       " \"I don't know what a good solution would be to make the economy more vibrant again.\",\n",
       " \"if you study hard, I don't see why you wouldn't.\",\n",
       " \"I don't believe you can make it when you meet your Mrs.\",\n",
       " \"I don't know why Mark often comes to me and asks me for advice.\",\n",
       " \"I didn ' t know I could get it cheaper somewhere else.\",\n",
       " \"I like it as well, but I don't think it's as good as Sweet Heart.\",\n",
       " \"I don't think much of the film.\",\n",
       " \"No, I don't think it could be.\",\n",
       " \"I don't know how old he is though.\",\n",
       " \"No, I don't recall a thing about them.\",\n",
       " \"yes, though I don't think her acting skills are that great.\",\n",
       " \"I am not a big fan of Korean shows and I don't know how to tell them to stop without hurting their feelings.\",\n",
       " \"I have nothing against them putting the advertisements in magazines and newspapers that are read by adults, but I don't think they should have their ad on billboards where children can see them.\",\n",
       " \"I really don't know how to express my thanks to you.\",\n",
       " \"I don't think that's a bad thing.\",\n",
       " \"Without her support and encouragement, I don't think I would have felt confident enough to have written up a proposal suggesting that the department change a process that had been in place for a long time.\",\n",
       " \"I don ' t understand why.\",\n",
       " \"Yeah, but I don't know if it is going to be any good.\",\n",
       " \"I don't think we should use an agency, because they won't be familiar with the type of people we employ.\",\n",
       " \"Oh, hurry, I don't know what to do!\",\n",
       " \"I don't know what to do.Could you tell me what should I do before an interview?\",\n",
       " \"I don't think we can manage until the weekend.\",\n",
       " \"I can't believe this for it's been 20 years since we got married.\",\n",
       " \"I don't understand how I could've failed it.\",\n",
       " \"Here's what I'm getting at, I don't think Vincent is the man for the job.\",\n",
       " \"I don't think there are many good movies out right now.\",\n",
       " \"It is near a cliff, but I don't remember where we took it.\",\n",
       " \"But I don't know what to do.\",\n",
       " \"I don't think I share your view there.The writer is writing about history, society, human nature and so on.It ' s too hard to understand.\",\n",
       " \"I don't know whether I am a Barbie Doll or you are one.\",\n",
       " \"I don't know how he did it.\",\n",
       " \"That sounds good but I don't know what's on.\",\n",
       " \"Oh, I don't know... it's hard to find the right nanny.\",\n",
       " \"I don't understand how you can have any sympathy for show biz stars.\",\n",
       " \"I don't think that he has any problems with his job.\",\n",
       " \"I don't know what you mean.\",\n",
       " \"I didn't realize what time it was.\",\n",
       " \"I can't believe the way our landlord cheated us.\",\n",
       " \"I don't think I can change it right now.\",\n",
       " \"I didn't think I could learn much there, and there were not many opportunities for self-development.\",\n",
       " \"I received an eviction notice from you, and I don't understand what it means.\",\n",
       " \"I didn't know you have a gun!\",\n",
       " \"I can't imagine the design of the new computer is so popular among computer users.\",\n",
       " \"I didn't know you were a twin!\",\n",
       " \"I didn't know you had a cat.\",\n",
       " \"You don't know what a torture it is for me to study English, because I don't like English.\",\n",
       " \"I don't know what time it is.It must be about 6 o'clock.\",\n",
       " \"I don't know whether I would like that kind of music or not, Mary.\",\n",
       " \"I don't know where it is.\",\n",
       " \"You can't imagine what he is like now.\",\n",
       " \"I don't think he is right.\",\n",
       " \"I don't think I have the patience for this today.\",\n",
       " \"I really can't say how long she'll be.\",\n",
       " \"I don't think the green one fits her complexion.\",\n",
       " \"Well, I don't think I can change my job, but I am thinking about changing my apartment.\",\n",
       " \"I don't think I am available for this opportunity.\",\n",
       " \"I don't know when I can come.\",\n",
       " \"Well, I don't know if I'll get all of my chores and homework done before then.\",\n",
       " \"I don't suppose he's to blame.\",\n",
       " \"I just don't know what to study.\",\n",
       " \"( XXXXXXXXXX ) but I don't think you can hear us.\",\n",
       " \"I can't believe you are watching movies.\",\n",
       " \"I'm sorry, but I don't know that name.\",\n",
       " \"I don't understand why I'm being arrested.\",\n",
       " \"Yes , I don't know why it doesn't work this time.\",\n",
       " \"I don't know if we could get a room.\",\n",
       " \"I was not raised as a Christian, so I don't know what to do.\",\n",
       " \"Oh, by the way, I don't know where to put this bike.\"]"
      ]
     },
     "execution_count": 17,
     "metadata": {},
     "output_type": "execute_result"
    }
   ],
   "source": [
    "threshold = 0.5\n",
    "\n",
    "subset = [(score, token, sample) for score, token, sample in results if\n",
    "     score > threshold and not sample in get_positives(instances, nr)]\n",
    "subset_sentences = [sample for _, _, sample in subset]\n",
    "candidates = iter(subset_sentences) \n",
    "subset_sentences"
   ]
  },
  {
   "cell_type": "code",
   "execution_count": 93,
   "id": "56453dda-8532-435d-8c18-efb186a87b26",
   "metadata": {},
   "outputs": [
    {
     "name": "stdout",
     "output_type": "stream",
     "text": [
      "0.2\n"
     ]
    },
    {
     "name": "stderr",
     "output_type": "stream",
     "text": [
      "100%|██████████████████████████████████| 4/4 [00:00<00:00, 11.04it/s]\n"
     ]
    },
    {
     "name": "stdout",
     "output_type": "stream",
     "text": [
      "Training loss: 0.1677892841398716\n",
      "Val loss: 0.1551961898803711\n"
     ]
    },
    {
     "name": "stderr",
     "output_type": "stream",
     "text": [
      "100%|██████████████████████████████████| 4/4 [00:00<00:00, 11.76it/s]\n"
     ]
    },
    {
     "name": "stdout",
     "output_type": "stream",
     "text": [
      "Training loss: 0.13315736316144466\n",
      "Val loss: 0.09557819366455078\n"
     ]
    },
    {
     "name": "stderr",
     "output_type": "stream",
     "text": [
      "100%|██████████████████████████████████| 4/4 [00:00<00:00, 11.81it/s]\n"
     ]
    },
    {
     "name": "stdout",
     "output_type": "stream",
     "text": [
      "Training loss: 0.10834173485636711\n",
      "Val loss: 0.08680586516857147\n"
     ]
    },
    {
     "name": "stderr",
     "output_type": "stream",
     "text": [
      "100%|██████████████████████████████████| 4/4 [00:00<00:00, 11.80it/s]\n"
     ]
    },
    {
     "name": "stdout",
     "output_type": "stream",
     "text": [
      "Training loss: 0.10036502685397863\n",
      "Val loss: 0.08982415497303009\n"
     ]
    },
    {
     "data": {
      "text/plain": [
       "{'accuracy': 1.0, 'f1': 1.0, 'precision': 1.0}"
      ]
     },
     "execution_count": 93,
     "metadata": {},
     "output_type": "execute_result"
    }
   ],
   "source": [
    "#add_to_instances(gpt35['augmented_examples'][100:150], nr, True)\n",
    "#add_to_instances(random.sample(subset_sentences, 25), nr, False)\n",
    "#add_to_instances(subset_sentences, nr, False)\n",
    "#add_to_instances(random.sample(get_positives(instances, 619), 50), nr, False)\n",
    "#add_to_instances(list(set(get_positives(instances, 621)).difference(get_negatives(instances, nr))), nr, False)\n",
    "classifier, metrics = get_trained_classifer(get_positives(instances, nr), get_negatives(instances, nr), get_others(sentences, matches), ratio=2)\n",
    "metrics"
   ]
  },
  {
   "cell_type": "code",
   "execution_count": 19,
   "id": "1b8502bd-cc53-4798-be85-44591abb0a90",
   "metadata": {},
   "outputs": [],
   "source": [
    "models.save_classifier(classifier, nr, \"corpus_training\")"
   ]
  },
  {
   "cell_type": "code",
   "execution_count": 21,
   "id": "a2677983-df74-4007-a58b-5db81b6ab703",
   "metadata": {},
   "outputs": [],
   "source": [
    "#nr=619\n",
    "classifier = models.load_classifier(nr, \"corpus_training\")"
   ]
  },
  {
   "cell_type": "code",
   "execution_count": 22,
   "id": "27fef727-f687-41a1-8ed2-3b66d52fd366",
   "metadata": {},
   "outputs": [
    {
     "data": {
      "text/plain": [
       "\"But I don't think it'll help you. \\n\\nI don't think I'll live here forever because I intend to move to Curitiba, a southern city of my country. \\n\\nI don't believe that the suitcase will be returned to me.\""
      ]
     },
     "execution_count": 22,
     "metadata": {},
     "output_type": "execute_result"
    }
   ],
   "source": [
    " gpt35['Example']"
   ]
  },
  {
   "cell_type": "code",
   "execution_count": 57,
   "id": "eeaad7c9-89c4-4a7e-9008-3fd0013d2d97",
   "metadata": {},
   "outputs": [
    {
     "data": {
      "text/plain": [
       "(tensor([0.9360, 0.9691, 0.9789, 0.9903, 0.0572]), ['t', 't', 't', 't', 't'])"
      ]
     },
     "execution_count": 57,
     "metadata": {},
     "output_type": "execute_result"
    }
   ],
   "source": [
    "candidates = gpt35['Example'].split(\"\\n\\n\") + [\"I don't believe we have more of them.\", \"I don't believe.\"]\n",
    "models.probe_model(classifier, candidates)"
   ]
  },
  {
   "cell_type": "code",
   "execution_count": 171,
   "id": "7b793f71-0de6-4132-a2cf-8d2479ec319a",
   "metadata": {},
   "outputs": [
    {
     "data": {
      "text/plain": [
       "(tensor([0.7212, 0.9803, 0.0136, 0.0130]),\n",
       " ['fastest', '##thest', 'biggest', '##est'])"
      ]
     },
     "execution_count": 171,
     "metadata": {},
     "output_type": "execute_result"
    }
   ],
   "source": [
    "candidates = [\"I have by far the fastest car.\", \"He was by far the furthest singer of all time.\", \"It's the biggest content.\", \"I haven't the lushest clue.\"]\n",
    "models.probe_model(classifier, candidates)"
   ]
  },
  {
   "cell_type": "markdown",
   "id": "a11b5410-6b04-4a96-8222-b7e44cc74de1",
   "metadata": {},
   "source": [
    "## Evaluation\n",
    "Strategy: Track F1 score on validation set and precision in novel corpora sentences"
   ]
  },
  {
   "cell_type": "code",
   "execution_count": 3,
   "id": "14404681-657d-4a22-9b97-064a73a9b8ed",
   "metadata": {},
   "outputs": [],
   "source": [
    "existing_nrs = [int(name.replace(\".pth\",\"\")) for name in os.listdir(f\"../models/corpus_training\")]\n",
    "egp = data.get_egp()"
   ]
  },
  {
   "cell_type": "code",
   "execution_count": 5,
   "id": "6e855884-6c9c-45d5-bc4e-a0c0caee394d",
   "metadata": {
    "scrolled": true
   },
   "outputs": [
    {
     "name": "stdout",
     "output_type": "stream",
     "text": [
      "#616\n"
     ]
    },
    {
     "ename": "NameError",
     "evalue": "name 'sentences' is not defined",
     "output_type": "error",
     "traceback": [
      "\u001b[0;31m---------------------------------------------------------------------------\u001b[0m",
      "\u001b[0;31mNameError\u001b[0m                                 Traceback (most recent call last)",
      "Cell \u001b[0;32mIn[5], line 9\u001b[0m\n\u001b[1;32m      7\u001b[0m pos \u001b[38;5;241m=\u001b[39m get_positives(instances, nr)\n\u001b[1;32m      8\u001b[0m neg \u001b[38;5;241m=\u001b[39m get_negatives(instances, nr)\n\u001b[0;32m----> 9\u001b[0m dataset \u001b[38;5;241m=\u001b[39m data\u001b[38;5;241m.\u001b[39mget_dataset(pos, neg, get_others(\u001b[43msentences\u001b[49m, pos), models\u001b[38;5;241m.\u001b[39mbert_tokenizer, \u001b[38;5;241m64\u001b[39m, \u001b[38;5;241m3\u001b[39m\u001b[38;5;241m*\u001b[39m\u001b[38;5;28mlen\u001b[39m(pos)\u001b[38;5;241m/\u001b[39m\u001b[38;5;28mlen\u001b[39m(neg))\n\u001b[1;32m     10\u001b[0m indices \u001b[38;5;241m=\u001b[39m \u001b[38;5;28mlist\u001b[39m(\u001b[38;5;28mrange\u001b[39m(\u001b[38;5;28mlen\u001b[39m(dataset)))\n\u001b[1;32m     11\u001b[0m kf \u001b[38;5;241m=\u001b[39m KFold(n_splits\u001b[38;5;241m=\u001b[39mtotal_folds, shuffle\u001b[38;5;241m=\u001b[39m\u001b[38;5;28;01mTrue\u001b[39;00m, random_state\u001b[38;5;241m=\u001b[39m\u001b[38;5;241m26\u001b[39m)\n",
      "\u001b[0;31mNameError\u001b[0m: name 'sentences' is not defined"
     ]
    }
   ],
   "source": [
    "total_folds = 5\n",
    "batch_size = 32\n",
    "metrics = {}\n",
    "\n",
    "for nr in existing_nrs:\n",
    "    print(f'#{nr}')\n",
    "    pos = get_positives(instances, nr)\n",
    "    neg = get_negatives(instances, nr)\n",
    "    dataset = data.get_dataset(pos, neg, get_others(sentences, pos), models.bert_tokenizer, 64, 3*len(pos)/len(neg))\n",
    "    indices = list(range(len(dataset)))\n",
    "    kf = KFold(n_splits=total_folds, shuffle=True, random_state=26)\n",
    "    accumulated_metrics = defaultdict(list)\n",
    "    for fold_index in tqdm(range(total_folds)):\n",
    "        train_indices, val_indices = list(kf.split(indices))[fold_index]\n",
    "        train_dataloader = DataLoader(Subset(dataset, train_indices), batch_size=batch_size, shuffle=True)\n",
    "        val_dataloader = DataLoader(Subset(dataset, val_indices), batch_size=batch_size, shuffle=False)\n",
    "    \n",
    "        classifier=models.RuleDetector(models.bert_encoder).to(models.device)\n",
    "        _, val_metrics = models.train(classifier, train_dataloader, val_dataloader, verbose=False)\n",
    "        if val_metrics['f1'] < 0.8: # try again in those extreme cases\n",
    "            _, val_metrics = models.train(classifier, train_dataloader, val_dataloader, verbose=False)\n",
    "        for metric_name, metric_value in val_metrics.items():\n",
    "            accumulated_metrics[metric_name].append(metric_value)\n",
    "    \n",
    "    average_metrics = {metric_name: sum(metric_values) / len(metric_values) for metric_name, metric_values in accumulated_metrics.items()}\n",
    "    metrics[nr] = average_metrics\n",
    "    print(average_metrics)"
   ]
  },
  {
   "cell_type": "code",
   "execution_count": 27,
   "id": "5ac76572-6d2e-495e-8f44-7c24ddfed3df",
   "metadata": {
    "scrolled": true
   },
   "outputs": [
    {
     "name": "stdout",
     "output_type": "stream",
     "text": [
      "#616\n",
      "575\n",
      "275\n",
      "701381\n",
      "2843\n",
      "0.14305364511691884\n"
     ]
    },
    {
     "name": "stderr",
     "output_type": "stream",
     "text": [
      "100%|████████████████████████████████████████████████████████████████████████████████████████████████████████| 91/91 [00:04<00:00, 20.10it/s]\n"
     ]
    },
    {
     "name": "stdout",
     "output_type": "stream",
     "text": [
      "Training loss: 0.07613955701158924\n",
      "Val loss: 0.047365678150368774\n"
     ]
    },
    {
     "name": "stderr",
     "output_type": "stream",
     "text": [
      "100%|████████████████████████████████████████████████████████████████████████████████████████████████████████| 91/91 [00:05<00:00, 16.90it/s]\n"
     ]
    },
    {
     "name": "stdout",
     "output_type": "stream",
     "text": [
      "Training loss: 0.0329165346600668\n",
      "Val loss: 0.041794310273278665\n"
     ]
    },
    {
     "name": "stderr",
     "output_type": "stream",
     "text": [
      "100%|████████████████████████████████████████████████████████████████████████████████████████████████████████| 91/91 [00:05<00:00, 15.24it/s]\n"
     ]
    },
    {
     "name": "stdout",
     "output_type": "stream",
     "text": [
      "Training loss: 0.03049788258683223\n",
      "Val loss: 0.03864016349467894\n",
      "{'pos_acc': 0.8085106382978723, 'neg_acc': 0.8682170542635659}\n",
      "#617\n",
      "528\n",
      "253\n",
      "701428\n",
      "2640\n",
      "0.15136403637430332\n"
     ]
    },
    {
     "name": "stderr",
     "output_type": "stream",
     "text": [
      "100%|████████████████████████████████████████████████████████████████████████████████████████████████████████| 86/86 [00:04<00:00, 19.08it/s]\n"
     ]
    },
    {
     "name": "stdout",
     "output_type": "stream",
     "text": [
      "Training loss: 0.025204328641779666\n",
      "Val loss: 0.020811447445091537\n"
     ]
    },
    {
     "name": "stderr",
     "output_type": "stream",
     "text": [
      "100%|████████████████████████████████████████████████████████████████████████████████████████████████████████| 86/86 [00:05<00:00, 15.14it/s]\n"
     ]
    },
    {
     "name": "stdout",
     "output_type": "stream",
     "text": [
      "Training loss: 0.016184155285415284\n",
      "Val loss: 0.019150716409058077\n",
      "{'pos_acc': 0.9578947368421052, 'neg_acc': 0.625}\n",
      "#618\n",
      "625\n",
      "275\n",
      "701331\n",
      "3022\n",
      "0.13428120063191154\n"
     ]
    },
    {
     "name": "stderr",
     "output_type": "stream",
     "text": [
      "100%|████████████████████████████████████████████████████████████████████████████████████████████████████████| 95/95 [00:05<00:00, 18.05it/s]\n"
     ]
    },
    {
     "name": "stdout",
     "output_type": "stream",
     "text": [
      "Training loss: 0.014911200134864838\n",
      "Val loss: 0.003222363655368099\n"
     ]
    },
    {
     "name": "stderr",
     "output_type": "stream",
     "text": [
      "100%|████████████████████████████████████████████████████████████████████████████████████████████████████████| 95/95 [00:06<00:00, 14.72it/s]\n"
     ]
    },
    {
     "name": "stdout",
     "output_type": "stream",
     "text": [
      "Training loss: 0.01113037212631561\n",
      "Val loss: 0.001417744435154115\n",
      "{'pos_acc': 0.36607142857142855, 'neg_acc': 0.928}\n",
      "#619\n",
      "575\n",
      "285\n",
      "701381\n",
      "2723\n",
      "0.14753631444033039\n"
     ]
    },
    {
     "name": "stderr",
     "output_type": "stream",
     "text": [
      "100%|████████████████████████████████████████████████████████████████████████████████████████████████████████| 88/88 [00:04<00:00, 18.41it/s]\n"
     ]
    },
    {
     "name": "stdout",
     "output_type": "stream",
     "text": [
      "Training loss: 0.14302738810014984\n",
      "Val loss: 0.08103928846751594\n"
     ]
    },
    {
     "name": "stderr",
     "output_type": "stream",
     "text": [
      "100%|████████████████████████████████████████████████████████████████████████████████████████████████████████| 88/88 [00:05<00:00, 14.75it/s]\n"
     ]
    },
    {
     "name": "stdout",
     "output_type": "stream",
     "text": [
      "Training loss: 0.07723053928268862\n",
      "Val loss: 0.06279544117437168\n"
     ]
    },
    {
     "name": "stderr",
     "output_type": "stream",
     "text": [
      "100%|████████████████████████████████████████████████████████████████████████████████████████████████████████| 88/88 [00:05<00:00, 14.67it/s]\n"
     ]
    },
    {
     "name": "stdout",
     "output_type": "stream",
     "text": [
      "Training loss: 0.06715443278318906\n",
      "Val loss: 0.059793020259927616\n",
      "{'pos_acc': 0.4675324675324675, 'neg_acc': 0.6333333333333333}\n",
      "#620\n",
      "525\n",
      "275\n",
      "701431\n",
      "2586\n",
      "0.14944924084548972\n"
     ]
    },
    {
     "name": "stderr",
     "output_type": "stream",
     "text": [
      "100%|████████████████████████████████████████████████████████████████████████████████████████████████████████| 84/84 [00:04<00:00, 18.12it/s]\n"
     ]
    },
    {
     "name": "stdout",
     "output_type": "stream",
     "text": [
      "Training loss: 0.1011502081112537\n",
      "Val loss: 0.03447822927098189\n"
     ]
    },
    {
     "name": "stderr",
     "output_type": "stream",
     "text": [
      "100%|████████████████████████████████████████████████████████████████████████████████████████████████████████| 84/84 [00:05<00:00, 14.77it/s]\n"
     ]
    },
    {
     "name": "stdout",
     "output_type": "stream",
     "text": [
      "Training loss: 0.030137148615072613\n",
      "Val loss: 0.01934209817721109\n"
     ]
    },
    {
     "name": "stderr",
     "output_type": "stream",
     "text": [
      "100%|████████████████████████████████████████████████████████████████████████████████████████████████████████| 84/84 [00:05<00:00, 14.46it/s]\n"
     ]
    },
    {
     "name": "stdout",
     "output_type": "stream",
     "text": [
      "Training loss: 0.019774651800010663\n",
      "Val loss: 0.014626726005060067\n",
      "{'pos_acc': 0.6875, 'neg_acc': 0.9442622950819672}\n",
      "#621\n",
      "700\n",
      "275\n",
      "701256\n",
      "3296\n",
      "0.12546125461254612\n"
     ]
    },
    {
     "name": "stderr",
     "output_type": "stream",
     "text": [
      "100%|██████████████████████████████████████████████████████████████████████████████████████████████████████| 102/102 [00:05<00:00, 17.60it/s]\n"
     ]
    },
    {
     "name": "stdout",
     "output_type": "stream",
     "text": [
      "Training loss: 0.028437627674600875\n",
      "Val loss: 0.009403933537914081\n"
     ]
    },
    {
     "name": "stderr",
     "output_type": "stream",
     "text": [
      "100%|██████████████████████████████████████████████████████████████████████████████████████████████████████| 102/102 [00:06<00:00, 14.75it/s]\n"
     ]
    },
    {
     "name": "stdout",
     "output_type": "stream",
     "text": [
      "Training loss: 0.012275151058037961\n",
      "Val loss: 0.01078717465650068\n",
      "{'pos_acc': 0.9818181818181818, 'neg_acc': 0.6477272727272727}\n",
      "#622\n",
      "575\n",
      "275\n",
      "701381\n",
      "2739\n",
      "0.1442828628457371\n"
     ]
    },
    {
     "name": "stderr",
     "output_type": "stream",
     "text": [
      "100%|████████████████████████████████████████████████████████████████████████████████████████████████████████| 88/88 [00:04<00:00, 18.05it/s]\n"
     ]
    },
    {
     "name": "stdout",
     "output_type": "stream",
     "text": [
      "Training loss: 0.29145124392446387\n",
      "Val loss: 0.1085832199208777\n"
     ]
    },
    {
     "name": "stderr",
     "output_type": "stream",
     "text": [
      "100%|████████████████████████████████████████████████████████████████████████████████████████████████████████| 88/88 [00:05<00:00, 14.73it/s]\n"
     ]
    },
    {
     "name": "stdout",
     "output_type": "stream",
     "text": [
      "Training loss: 0.06761244739093607\n",
      "Val loss: 0.0722989414617504\n"
     ]
    },
    {
     "name": "stderr",
     "output_type": "stream",
     "text": [
      "100%|████████████████████████████████████████████████████████████████████████████████████████████████████████| 88/88 [00:05<00:00, 14.67it/s]\n"
     ]
    },
    {
     "name": "stdout",
     "output_type": "stream",
     "text": [
      "Training loss: 0.044788096821534396\n",
      "Val loss: 0.06082085687243803\n"
     ]
    },
    {
     "name": "stderr",
     "output_type": "stream",
     "text": [
      "100%|████████████████████████████████████████████████████████████████████████████████████████████████████████| 88/88 [00:06<00:00, 14.40it/s]\n"
     ]
    },
    {
     "name": "stdout",
     "output_type": "stream",
     "text": [
      "Training loss: 0.03901512030411554\n",
      "Val loss: 0.05763332938923585\n",
      "{'pos_acc': 0.5098039215686274, 'neg_acc': 0.9227373068432672}\n",
      "#623\n",
      "525\n",
      "275\n",
      "701431\n",
      "2586\n",
      "0.14894250819183796\n"
     ]
    },
    {
     "name": "stderr",
     "output_type": "stream",
     "text": [
      "100%|████████████████████████████████████████████████████████████████████████████████████████████████████████| 84/84 [00:04<00:00, 17.91it/s]\n"
     ]
    },
    {
     "name": "stdout",
     "output_type": "stream",
     "text": [
      "Training loss: 0.03715207322689128\n",
      "Val loss: 0.017190919989453896\n"
     ]
    },
    {
     "name": "stderr",
     "output_type": "stream",
     "text": [
      "100%|████████████████████████████████████████████████████████████████████████████████████████████████████████| 84/84 [00:05<00:00, 14.77it/s]\n"
     ]
    },
    {
     "name": "stdout",
     "output_type": "stream",
     "text": [
      "Training loss: 0.012787882792985155\n",
      "Val loss: 0.005718056805476192\n"
     ]
    },
    {
     "name": "stderr",
     "output_type": "stream",
     "text": [
      "100%|████████████████████████████████████████████████████████████████████████████████████████████████████████| 84/84 [00:05<00:00, 14.47it/s]\n"
     ]
    },
    {
     "name": "stdout",
     "output_type": "stream",
     "text": [
      "Training loss: 0.007446882026367045\n",
      "Val loss: 0.003994643266889311\n",
      "{'pos_acc': 0.85, 'neg_acc': 0.5}\n",
      "#624\n",
      "550\n",
      "275\n",
      "701406\n",
      "2680\n",
      "0.1472374891524443\n"
     ]
    },
    {
     "name": "stderr",
     "output_type": "stream",
     "text": [
      "100%|████████████████████████████████████████████████████████████████████████████████████████████████████████| 87/87 [00:04<00:00, 17.61it/s]\n"
     ]
    },
    {
     "name": "stdout",
     "output_type": "stream",
     "text": [
      "Training loss: 0.129067447514209\n",
      "Val loss: 0.04451346638697115\n"
     ]
    },
    {
     "name": "stderr",
     "output_type": "stream",
     "text": [
      "100%|████████████████████████████████████████████████████████████████████████████████████████████████████████| 87/87 [00:05<00:00, 14.72it/s]\n"
     ]
    },
    {
     "name": "stdout",
     "output_type": "stream",
     "text": [
      "Training loss: 0.04644022907141125\n",
      "Val loss: 0.03795989848863841\n"
     ]
    },
    {
     "name": "stderr",
     "output_type": "stream",
     "text": [
      "100%|████████████████████████████████████████████████████████████████████████████████████████████████████████| 87/87 [00:05<00:00, 14.67it/s]\n"
     ]
    },
    {
     "name": "stdout",
     "output_type": "stream",
     "text": [
      "Training loss: 0.03937568664135968\n",
      "Val loss: 0.035457977710228246\n",
      "{'pos_acc': 0.6379310344827587, 'neg_acc': 0.7532467532467533}\n",
      "#625\n",
      "555\n",
      "255\n",
      "701401\n",
      "2775\n",
      "0.1455160744500846\n"
     ]
    },
    {
     "name": "stderr",
     "output_type": "stream",
     "text": [
      "100%|████████████████████████████████████████████████████████████████████████████████████████████████████████| 89/89 [00:05<00:00, 17.42it/s]\n"
     ]
    },
    {
     "name": "stdout",
     "output_type": "stream",
     "text": [
      "Training loss: 0.12017778288625348\n",
      "Val loss: 0.04832944488051631\n"
     ]
    },
    {
     "name": "stderr",
     "output_type": "stream",
     "text": [
      "100%|████████████████████████████████████████████████████████████████████████████████████████████████████████| 89/89 [00:06<00:00, 14.63it/s]\n"
     ]
    },
    {
     "name": "stdout",
     "output_type": "stream",
     "text": [
      "Training loss: 0.03419762686303074\n",
      "Val loss: 0.03441010242322986\n"
     ]
    },
    {
     "name": "stderr",
     "output_type": "stream",
     "text": [
      "100%|████████████████████████████████████████████████████████████████████████████████████████████████████████| 89/89 [00:06<00:00, 14.51it/s]\n"
     ]
    },
    {
     "name": "stdout",
     "output_type": "stream",
     "text": [
      "Training loss: 0.022210826437064877\n",
      "Val loss: 0.03233669852488674\n",
      "{'pos_acc': 0.625, 'neg_acc': 0.9375}\n",
      "#626\n",
      "575\n",
      "275\n",
      "701381\n",
      "2812\n",
      "0.14226057906458797\n"
     ]
    },
    {
     "name": "stderr",
     "output_type": "stream",
     "text": [
      "100%|████████████████████████████████████████████████████████████████████████████████████████████████████████| 90/90 [00:05<00:00, 17.48it/s]\n"
     ]
    },
    {
     "name": "stdout",
     "output_type": "stream",
     "text": [
      "Training loss: 0.059316538715372895\n",
      "Val loss: 0.02022860129363835\n"
     ]
    },
    {
     "name": "stderr",
     "output_type": "stream",
     "text": [
      "100%|████████████████████████████████████████████████████████████████████████████████████████████████████████| 90/90 [00:06<00:00, 14.70it/s]\n"
     ]
    },
    {
     "name": "stdout",
     "output_type": "stream",
     "text": [
      "Training loss: 0.022826558110278308\n",
      "Val loss: 0.012485786768830503\n"
     ]
    },
    {
     "name": "stderr",
     "output_type": "stream",
     "text": [
      "100%|████████████████████████████████████████████████████████████████████████████████████████████████████████| 90/90 [00:06<00:00, 14.45it/s]\n"
     ]
    },
    {
     "name": "stdout",
     "output_type": "stream",
     "text": [
      "Training loss: 0.016539512991926762\n",
      "Val loss: 0.013069693390128163\n",
      "{'pos_acc': 0.7666666666666667, 'neg_acc': 0.9016393442622951}\n",
      "#627\n",
      "525\n",
      "260\n",
      "701431\n",
      "2614\n",
      "0.15150620200826934\n"
     ]
    },
    {
     "name": "stderr",
     "output_type": "stream",
     "text": [
      "100%|████████████████████████████████████████████████████████████████████████████████████████████████████████| 85/85 [00:04<00:00, 17.70it/s]\n"
     ]
    },
    {
     "name": "stdout",
     "output_type": "stream",
     "text": [
      "Training loss: 0.027253049578704284\n",
      "Val loss: 0.009595682022081255\n"
     ]
    },
    {
     "name": "stderr",
     "output_type": "stream",
     "text": [
      "100%|████████████████████████████████████████████████████████████████████████████████████████████████████████| 85/85 [00:05<00:00, 14.79it/s]\n"
     ]
    },
    {
     "name": "stdout",
     "output_type": "stream",
     "text": [
      "Training loss: 0.009150182646065813\n",
      "Val loss: 0.007687308021682846\n",
      "{'pos_acc': 0.8545454545454545, 'neg_acc': 0.8978102189781022}\n",
      "#628\n",
      "575\n",
      "274\n",
      "701381\n",
      "2759\n",
      "0.14415179835740582\n"
     ]
    },
    {
     "name": "stderr",
     "output_type": "stream",
     "text": [
      "100%|████████████████████████████████████████████████████████████████████████████████████████████████████████| 89/89 [00:04<00:00, 17.89it/s]\n"
     ]
    },
    {
     "name": "stdout",
     "output_type": "stream",
     "text": [
      "Training loss: 0.3365487368545872\n",
      "Val loss: 0.09624115417650699\n"
     ]
    },
    {
     "name": "stderr",
     "output_type": "stream",
     "text": [
      "100%|████████████████████████████████████████████████████████████████████████████████████████████████████████| 89/89 [00:05<00:00, 14.87it/s]\n"
     ]
    },
    {
     "name": "stdout",
     "output_type": "stream",
     "text": [
      "Training loss: 0.08017321735008337\n",
      "Val loss: 0.082859272521961\n"
     ]
    },
    {
     "name": "stderr",
     "output_type": "stream",
     "text": [
      "100%|████████████████████████████████████████████████████████████████████████████████████████████████████████| 89/89 [00:06<00:00, 14.64it/s]\n"
     ]
    },
    {
     "name": "stdout",
     "output_type": "stream",
     "text": [
      "Training loss: 0.07891817458413458\n",
      "Val loss: 0.07997715041932205\n",
      "{'pos_acc': 0.6991869918699187, 'neg_acc': 0.8336633663366336}\n",
      "#629\n",
      "525\n",
      "278\n",
      "701431\n",
      "2124\n",
      "0.17981843575418993\n"
     ]
    },
    {
     "name": "stderr",
     "output_type": "stream",
     "text": [
      "100%|████████████████████████████████████████████████████████████████████████████████████████████████████████| 72/72 [00:03<00:00, 18.16it/s]\n"
     ]
    },
    {
     "name": "stdout",
     "output_type": "stream",
     "text": [
      "Training loss: 0.15880536528149808\n",
      "Val loss: 0.0476710786525574\n"
     ]
    },
    {
     "name": "stderr",
     "output_type": "stream",
     "text": [
      "100%|████████████████████████████████████████████████████████████████████████████████████████████████████████| 72/72 [00:04<00:00, 14.74it/s]\n"
     ]
    },
    {
     "name": "stdout",
     "output_type": "stream",
     "text": [
      "Training loss: 0.03412270085472199\n",
      "Val loss: 0.03589960138520433\n"
     ]
    },
    {
     "name": "stderr",
     "output_type": "stream",
     "text": [
      "100%|████████████████████████████████████████████████████████████████████████████████████████████████████████| 72/72 [00:04<00:00, 14.70it/s]\n"
     ]
    },
    {
     "name": "stdout",
     "output_type": "stream",
     "text": [
      "Training loss: 0.02822122205139345\n",
      "Val loss: 0.026508860716906685\n"
     ]
    },
    {
     "name": "stderr",
     "output_type": "stream",
     "text": [
      "100%|████████████████████████████████████████████████████████████████████████████████████████████████████████| 72/72 [00:04<00:00, 14.70it/s]\n"
     ]
    },
    {
     "name": "stdout",
     "output_type": "stream",
     "text": [
      "Training loss: 0.02171002460494896\n",
      "Val loss: 0.021574083967910457\n",
      "{'pos_acc': 0.9431818181818182, 'neg_acc': 0.8991228070175439}\n",
      "#637\n",
      "500\n",
      "250\n",
      "701456\n",
      "2500\n",
      "0.15384615384615385\n"
     ]
    },
    {
     "name": "stderr",
     "output_type": "stream",
     "text": [
      "100%|████████████████████████████████████████████████████████████████████████████████████████████████████████| 82/82 [00:04<00:00, 17.74it/s]\n"
     ]
    },
    {
     "name": "stdout",
     "output_type": "stream",
     "text": [
      "Training loss: 0.08705103018735649\n",
      "Val loss: 0.025115619369205974\n"
     ]
    },
    {
     "name": "stderr",
     "output_type": "stream",
     "text": [
      "100%|████████████████████████████████████████████████████████████████████████████████████████████████████████| 82/82 [00:05<00:00, 14.85it/s]\n"
     ]
    },
    {
     "name": "stdout",
     "output_type": "stream",
     "text": [
      "Training loss: 0.03249140805564821\n",
      "Val loss: 0.021600013432492102\n",
      "{'pos_acc': 0.9375, 'neg_acc': 0.6451612903225806}\n",
      "#638\n",
      "500\n",
      "275\n",
      "701456\n",
      "2336\n",
      "0.1616553507921112\n"
     ]
    },
    {
     "name": "stderr",
     "output_type": "stream",
     "text": [
      "100%|████████████████████████████████████████████████████████████████████████████████████████████████████████| 78/78 [00:04<00:00, 18.15it/s]\n"
     ]
    },
    {
     "name": "stdout",
     "output_type": "stream",
     "text": [
      "Training loss: 0.08793478001816532\n",
      "Val loss: 0.05820125774480402\n"
     ]
    },
    {
     "name": "stderr",
     "output_type": "stream",
     "text": [
      "100%|████████████████████████████████████████████████████████████████████████████████████████████████████████| 78/78 [00:05<00:00, 14.82it/s]\n"
     ]
    },
    {
     "name": "stdout",
     "output_type": "stream",
     "text": [
      "Training loss: 0.06549139658156304\n",
      "Val loss: 0.07107275892049074\n",
      "{'pos_acc': 0.6, 'neg_acc': 0.7204724409448819}\n",
      "#630\n",
      "525\n",
      "255\n",
      "701431\n",
      "2625\n",
      "0.1536879224213929\n"
     ]
    },
    {
     "name": "stderr",
     "output_type": "stream",
     "text": [
      "100%|████████████████████████████████████████████████████████████████████████████████████████████████████████| 86/86 [00:04<00:00, 18.27it/s]\n"
     ]
    },
    {
     "name": "stdout",
     "output_type": "stream",
     "text": [
      "Training loss: 0.12364764856457167\n",
      "Val loss: 0.02334729632341557\n"
     ]
    },
    {
     "name": "stderr",
     "output_type": "stream",
     "text": [
      "100%|████████████████████████████████████████████████████████████████████████████████████████████████████████| 86/86 [00:05<00:00, 15.02it/s]\n"
     ]
    },
    {
     "name": "stdout",
     "output_type": "stream",
     "text": [
      "Training loss: 0.03300752096719259\n",
      "Val loss: 0.016247888360257177\n"
     ]
    },
    {
     "name": "stderr",
     "output_type": "stream",
     "text": [
      "100%|████████████████████████████████████████████████████████████████████████████████████████████████████████| 86/86 [00:05<00:00, 14.85it/s]\n"
     ]
    },
    {
     "name": "stdout",
     "output_type": "stream",
     "text": [
      "Training loss: 0.022848761269880585\n",
      "Val loss: 0.012123696409451606\n",
      "{'pos_acc': 0.9770992366412213, 'neg_acc': 0.933649289099526}\n",
      "#631\n",
      "575\n",
      "275\n",
      "701381\n",
      "2843\n",
      "0.14328932893289328\n"
     ]
    },
    {
     "name": "stderr",
     "output_type": "stream",
     "text": [
      "100%|████████████████████████████████████████████████████████████████████████████████████████████████████████| 91/91 [00:05<00:00, 17.76it/s]\n"
     ]
    },
    {
     "name": "stdout",
     "output_type": "stream",
     "text": [
      "Training loss: 0.160511611592393\n",
      "Val loss: 0.0360495584267799\n"
     ]
    },
    {
     "name": "stderr",
     "output_type": "stream",
     "text": [
      "100%|████████████████████████████████████████████████████████████████████████████████████████████████████████| 91/91 [00:06<00:00, 15.08it/s]\n"
     ]
    },
    {
     "name": "stdout",
     "output_type": "stream",
     "text": [
      "Training loss: 0.03423018335073081\n",
      "Val loss: 0.014013738406862578\n"
     ]
    },
    {
     "name": "stderr",
     "output_type": "stream",
     "text": [
      "100%|████████████████████████████████████████████████████████████████████████████████████████████████████████| 91/91 [00:06<00:00, 14.75it/s]\n"
     ]
    },
    {
     "name": "stdout",
     "output_type": "stream",
     "text": [
      "Training loss: 0.02447278482409624\n",
      "Val loss: 0.011507036204895248\n",
      "{'pos_acc': 1.0, 'neg_acc': 0.7411764705882353}\n",
      "#632\n",
      "500\n",
      "274\n",
      "701456\n"
     ]
    },
    {
     "ename": "KeyboardInterrupt",
     "evalue": "",
     "output_type": "error",
     "traceback": [
      "\u001b[0;31m---------------------------------------------------------------------------\u001b[0m",
      "\u001b[0;31mKeyboardInterrupt\u001b[0m                         Traceback (most recent call last)",
      "Cell \u001b[0;32mIn[27], line 20\u001b[0m\n\u001b[1;32m     18\u001b[0m \u001b[38;5;28mprint\u001b[39m(\u001b[38;5;28mlen\u001b[39m(get_gpt_negatives(nr)))\n\u001b[1;32m     19\u001b[0m \u001b[38;5;28mprint\u001b[39m(\u001b[38;5;28mlen\u001b[39m(get_gpt_others(nr)))\n\u001b[0;32m---> 20\u001b[0m classifier, val_metrics \u001b[38;5;241m=\u001b[39m get_trained_classifer(get_gpt_positives(nr), get_gpt_negatives(nr), \u001b[43mget_gpt_others\u001b[49m\u001b[43m(\u001b[49m\u001b[43mnr\u001b[49m\u001b[43m)\u001b[49m, ratio\u001b[38;5;241m=\u001b[39m\u001b[38;5;241m5\u001b[39m)\n\u001b[1;32m     21\u001b[0m \u001b[38;5;28;01mwhile\u001b[39;00m val_metrics[\u001b[38;5;124m'\u001b[39m\u001b[38;5;124mf1\u001b[39m\u001b[38;5;124m'\u001b[39m] \u001b[38;5;241m<\u001b[39m \u001b[38;5;241m0.8\u001b[39m:\n\u001b[1;32m     22\u001b[0m     classifier, val_metrics \u001b[38;5;241m=\u001b[39m get_trained_classifer(get_gpt_positives(nr), get_gpt_negatives(nr), get_gpt_others(nr), ratio\u001b[38;5;241m=\u001b[39m\u001b[38;5;241m5\u001b[39m)\n",
      "Cell \u001b[0;32mIn[27], line 13\u001b[0m, in \u001b[0;36mget_gpt_others\u001b[0;34m(nr)\u001b[0m\n\u001b[1;32m     11\u001b[0m \u001b[38;5;28;01mdef\u001b[39;00m \u001b[38;5;21mget_gpt_others\u001b[39m(nr):\n\u001b[1;32m     12\u001b[0m     gpt35 \u001b[38;5;241m=\u001b[39m egp_gpt[egp_gpt[\u001b[38;5;124m'\u001b[39m\u001b[38;5;124m#\u001b[39m\u001b[38;5;124m'\u001b[39m]\u001b[38;5;241m!=\u001b[39mnr]\n\u001b[0;32m---> 13\u001b[0m     \u001b[38;5;28;01mreturn\u001b[39;00m \u001b[38;5;28msum\u001b[39m(gpt35[\u001b[38;5;124m'\u001b[39m\u001b[38;5;124maugmented_examples\u001b[39m\u001b[38;5;124m'\u001b[39m], [])\n",
      "\u001b[0;31mKeyboardInterrupt\u001b[0m: "
     ]
    }
   ],
   "source": [
    "metrics = {}\n",
    "\n",
    "def get_gpt_positives(nr):\n",
    "    gpt35 = egp_gpt[egp_gpt['#']==nr].iloc[0]\n",
    "    return list(gpt35['augmented_examples'])\n",
    "\n",
    "def get_gpt_negatives(nr):\n",
    "    gpt35 = egp_gpt[egp_gpt['#']==nr].iloc[0]\n",
    "    return list(gpt35['augmented_negative_examples'])\n",
    "\n",
    "def get_gpt_others(nr):\n",
    "    gpt35 = egp_gpt[egp_gpt['#']!=nr]\n",
    "    return sum(gpt35['augmented_examples'], [])\n",
    "\n",
    "for nr in existing_nrs:\n",
    "    print(f'#{nr}')\n",
    "    classifier, val_metrics = get_trained_classifer(get_gpt_positives(nr), get_gpt_negatives(nr), get_gpt_others(nr), ratio=5)\n",
    "    while val_metrics['f1'] < 0.8:\n",
    "        classifier, val_metrics = get_trained_classifer(get_gpt_positives(nr), get_gpt_negatives(nr), get_gpt_others(nr), ratio=5)\n",
    "    \n",
    "    metrics[nr] = {\"pos_acc\": (models.probe_model(classifier, get_positives(instances, nr))[0]>0.5).sum().item() / len(get_positives(instances, nr)),\n",
    "                   \"neg_acc\": (models.probe_model(classifier, get_negatives(instances, nr))[0]<0.5).sum().item() / len(get_negatives(instances, nr))}\n",
    "    print(metrics[nr])"
   ]
  },
  {
   "cell_type": "code",
   "execution_count": 28,
   "id": "812b2498-2e90-4aea-bdc1-6b2103f65552",
   "metadata": {
    "scrolled": true
   },
   "outputs": [
    {
     "name": "stdout",
     "output_type": "stream",
     "text": [
      "Can use the affirmative form with 'like'. \n",
      "1.0\n",
      "Can use 'would like to invite' to make invitations.\n",
      "1.0\n",
      "Can use 'would like' to talk about wishes and preferences.\n",
      "1.0\n",
      "Can use the affirmative form.\n",
      "1.0\n",
      "Can use the negative forms.\n",
      "1.0\n",
      "Can use the question form 'would you like'.\n",
      "1.0\n",
      "Can use 'would' to talk about imagined situations.\n",
      "0.5\n",
      "Can use 'it would be' to make suggestions.\n",
      "0.3333333432674408\n",
      "Can use 'would' with a wide range of verbs to talk about wishes and preferences.\n",
      "1.0\n",
      "Can use 'would' in the main clause of a conditional sentence to talk about an imagined situation, often in the context of advice or opinion-giving.\n",
      "1.0\n",
      "Can use 'would have' + '-ed'.\n",
      "1.0\n",
      "Can use 'would not have' + '-ed' or 'wouldn’t have' + '-ed'\n",
      "1.0\n",
      "Can use question forms.\n",
      "0.75\n",
      "Can use an limited range of adverbs with 'would', including 'really', 'probably', 'certainly', 'definitely'.► adverbs\n",
      "1.0\n",
      "Can use an increasing range of adverbs with 'would', including 'strongly', 'easily', 'especially', 'actually', 'absolutely', 'gladly'  ► adverbs\n",
      "1.0\n",
      "Can use a wide range of adverbs with 'would', including 'undoubtedly', 'possibly', 'normally', 'personally', 'eventually', 'obviously', 'significantly', 'inevitably'. ► adverbs\n",
      "0.5\n",
      "Can use 'would' to talk about the future in the past.\n",
      "1.0\n",
      "Can use 'would' to talk about imagined situations in the past. ► conditionals\n",
      "1.0\n",
      "Can use 'would' with verbs such as 'advise', 'imagine', 'recommend', 'say' to be less direct.\n",
      "1.0\n",
      "Can use 'would' to make polite requests, often in the fixed expression 'would you mind'.\n",
      "0.75\n",
      "Can use 'would' as the past form of 'will' in reported clauses.\n",
      "0.6666666865348816\n",
      "Can use the negative forms of 'would' to talk about willingness in the past.\n",
      "1.0\n",
      "Can use 'would' to talk about habitual actions and events in the past.\n",
      "0.5\n",
      "Can form conditional subordinate clause with 'if' + present simple.\n",
      "1.0\n",
      "Can use 'if' + present simple, with an imperative in the main clause.\n",
      "1.0\n",
      "Can use 'if' + present simple with present simple, 'can' or imperative in the main clause to refer to things that are true now or very likely to happen. \n",
      "1.0\n",
      "Can use an 'if-' clause ('if you want', 'like', 'prefer') to soften the directness of imperatives, offers or suggestions.\n",
      "1.0\n",
      "Can use 'if' + present simple to introduce a possible future condition, with 'will' in the main clause to talk about a likely result. \n",
      "0.6666666865348816\n",
      "Can form conditional subordinate clauses with 'if' + past simple, and would in the main clause, to talk about an imagined situation, often in the context of advice or opinion-giving. \n",
      "1.0\n",
      "Can form conditional subordinate clauses with 'if' + past perfect simple and 'would have' + '-ed' in the main clause, to talk about imagined situations in the past, often with regret.\n",
      "1.0\n",
      "Can form negative statements of main verb 'be', with contracted and uncontracted forms.\n",
      "0.5\n",
      "Can form negative statements of main verbs in the present simple with 'don't' + main verb. ► present simple ► can\n",
      "1.0\n",
      "Can use negative form 'can't'.\n",
      "1.0\n",
      "Can form negative statements of main verbs in the present continuous and present perfect with 'be' and 'have' + 'not/n't'.  ► present continuous ► present perfect\n",
      "0.800000011920929\n",
      "Can form negative statements of main verbs in the past simple with 'didn't' + main verb. ► past simple\n",
      "1.0\n",
      "Can form negative imperatives of main verbs with 'don't' + main verb. ► Clauses: imperatives\n",
      "1.0\n",
      "Can form negative statements of main verbs in the past continuous and past perfect with auxiliary verbs 'be' and 'have' + 'not/n't'. ► past continuous ► past perfect\n",
      "1.0\n",
      "Can use the negative forms of mental process verbs ('I don't think', 'I don't believe') followed by a complement clause, where the negative form is in the mental process verb rather than the complement clause.\n",
      "1.0\n",
      "Can use negative question forms in main clauses and question tags. ► questions\n",
      "1.0\n",
      "Can use uncontracted 'not' for emphasis or in formal contexts.\n",
      "0.6666666865348816\n",
      "Can use 'never' in front position followed by an inverted subject (most commonly 'I') + main verb, to give focus. \n",
      "1.0\n",
      "Can use 'neither ... nor' to connect two words, phrases or clauses, often to give emphasis or focus.\n",
      "1.0\n",
      "Can use negative pronoun 'none' to substitute for subject and object pronouns or noun phrases. ► pronouns: substitution\n",
      "0.3333333432674408\n",
      "Can use 'not with indefinite pronouns 'everyone' and 'everything' and determiners 'every', 'all'.\n",
      "1.0\n",
      "Can use auxiliary 'do' + inverted subject after 'not only', to give focus.\n",
      "1.0\n",
      "Can use 'not a' + noun, often with a following  passive structure, for emphasis.\n",
      "1.0\n",
      "Can use a negative imperative form with 'you' to give a warning or reprimand.\n",
      "1.0\n",
      "Can use 'Neither' or 'Nor' + with 'do' or 'be' + inverted subject to add to a previous related negative clause, to focus on an additional negative factor.\n",
      "1.0\n",
      "Can use the irregular superlative adjective 'best' in the phrase 'my best friend'.\n",
      "1.0\n",
      "Can form a limited range of complex noun phrases with a superlative adjective  + prepositional phrase, to talk about something unique.► noun phrases ►  clauses: comparison\n",
      "1.0\n",
      "Can use 'the best' before a noun + present perfect to talk about a unique experience.\n",
      "1.0\n",
      "Can use '(one of) the' with an increasing range of superlative adjectives without a following noun, when the noun is understood.\n",
      "0.6666666865348816\n",
      "Can use a postmodifier to make the superlative stronger in the structure superlative + postmodifier + noun. \n",
      "1.0\n",
      "Can use 'the slightest', 'the faintest' with a specific range of nouns to express the least amount possible, most frequently following a negative verb form.\n",
      "1.0\n",
      "Can use prepositional phrases with 'in' + singular name of a place after a superlative adjective.\n",
      "1.0\n",
      "Can use a limited range of prepositional phrases with 'of' after a superlative adjective, to refer to one thing within a set or part of a set.\n",
      "1.0\n",
      "Can form an increasing range of complex noun phrases with a superlative adjective + prepositional phrase, to talk about something unique. ► noun phrases\n",
      "1.0\n",
      "Can use 'one of the' before a superlative adjective, followed by a plural noun. ► noun phrases\n",
      "1.0\n",
      "Can use the premodifer 'by far' to make a superlative adjective stronger.\n",
      "1.0\n"
     ]
    }
   ],
   "source": [
    "# check on examples\n",
    "for nr in existing_nrs:\n",
    "    classifier = models.load_classifier(nr, \"corpus_training\")\n",
    "    rule = egp[egp['#']==nr].iloc[0]\n",
    "    examples = rule['Example'].split(\"\\n\\n\")\n",
    "    print(rule['Can-do statement'])\n",
    "    print(((models.probe_model(classifier, examples)[0]>0.5).sum()/len(examples)).item())"
   ]
  },
  {
   "cell_type": "code",
   "execution_count": 4,
   "id": "5e7f384f-9c13-446c-945c-ea9e6df8d333",
   "metadata": {},
   "outputs": [
    {
     "name": "stderr",
     "output_type": "stream",
     "text": [
      "[nltk_data] Downloading package brown to\n",
      "[nltk_data]     /scratch/tmp.55928685.dglandorf...\n",
      "[nltk_data]   Package brown is already up-to-date!\n",
      "[nltk_data] Downloading package reuters to\n",
      "[nltk_data]     /scratch/tmp.55928685.dglandorf...\n",
      "[nltk_data]   Package reuters is already up-to-date!\n"
     ]
    }
   ],
   "source": [
    "tc = data.TextCorpora(['brown', 'reuters'])\n",
    "cmu_dog = data.CMUDoG()\n",
    "toc = data.ToC()\n",
    "threshold=0.5\n",
    "test_sentences = tc.get_all_sentences() + cmu_dog.get_all_sentences() + toc.get_all_sentences()\n",
    "random.shuffle(test_sentences)\n",
    "max_batches = 500\n",
    "batch_size = 64\n",
    "test_inputs = models.bert_tokenizer(test_sentences[:max_batches*batch_size], return_tensors='pt', max_length=64, padding='max_length', truncation=True)\n",
    "test_dataset = TensorDataset(test_inputs['input_ids'], test_inputs['attention_mask'])\n",
    "test_dataloader = DataLoader(test_dataset, batch_size=64, shuffle=False)"
   ]
  },
  {
   "cell_type": "code",
   "execution_count": 6,
   "id": "d4b2bb47-db12-4ebe-bd6a-02ec6b2e6cab",
   "metadata": {
    "scrolled": true
   },
   "outputs": [
    {
     "name": "stdout",
     "output_type": "stream",
     "text": [
      "#59: FORM/USE: Can use prepositional phrases with 'in' + singular name of a place after a superlative adjective. (ADJECTIVES: superlatives)\n",
      "It's the biggest room in the house. \n",
      "\n",
      "I bought them because they are the cheapest clothes in the shop.\n"
     ]
    },
    {
     "name": "stderr",
     "output_type": "stream",
     "text": [
      " 33%|██████████████████████████▍                                                      | 163/500 [00:12<00:26, 12.74it/s]\n"
     ]
    },
    {
     "name": "stdin",
     "output_type": "stream",
     "text": [
      "In 1991 Creighton and Utah played the longest NCAA game in history when the game went on for 31 innings. 2\n",
      "The SUpreme Court has a bball court in the top floor, dubbed, get this, \"The Highest Court in the Land\"! 2\n",
      "They said they would spend more than 13 mln U . S . dlrs \" to enhance the Biltmore ' s position as one of the finest resort hotels in North America .\" 2\n",
      "\" We ' re going to have one of the biggest reductions in the budget deficit relative to GNP in history this year , and nobody cares ,\" he said , noting that only the deficit cut in 1968 - 69 will have been greater . 2\n",
      "Earth is actually the densest planet in the solar system. 2\n",
      "Dome owns or has an interest in a total of 36 . 1 mln acres of land across Canada . 1\n",
      "According to critics it is one of the best animated movies in recent memory with all these actors. 2\n",
      "So did you also know there's actually a basketball court on the top floor of the supreme court building which is called the highest court in the land? 2\n",
      "The general acceptance of the idea of governmental ( i.e. , societal ) responsibility for the economic well-being of the American people is surely one of the two most significant watersheds in American constitutional history . 2\n",
      "He's one of the best play by play men in all of sports! 2\n",
      "You know when it held it's initial public offering it had the largest value in history. 2\n",
      "There was a piano that was found on the top of the tallest mountain in Britain? 2\n",
      "One thing I think is interesting is that the sun is only 1 billionth the size of the biggest star discovered in the galaxy. 2\n",
      "Was reading today that the inventor of basketball, James Naismith, is the only losing coach in the University of Kansas's history which is pretty funny. 1\n",
      "Apparently, Patriot's running back Green-Ellis has never fumbled the football in his NFL career. 1\n",
      "It is definitely the biggest sport in the world. 2\n",
      "Wow no surprise then that they have the largest book collection in the world 2\n",
      "Or they just wanted an excuse to call it the highest court in the land. 2\n",
      "Kellan moore is the only left handed QB in the league currently. 1\n",
      "You know I am really surprised Trump is not one of the 3 wealthiest presidents in US history. 2\n"
     ]
    },
    {
     "name": "stdout",
     "output_type": "stream",
     "text": [
      "#60: FORM/USE: Can use a limited range of prepositional phrases with 'of' after a superlative adjective, to refer to one thing within a set or part of a set. (ADJECTIVES: superlatives)\n",
      "My teacher said that it was the best project of all. \n",
      "\n",
      "I learned to surf, this was the best part of the trip. \n",
      "\n",
      "Hi, Ally. You will miss the best party of the year!\n"
     ]
    },
    {
     "name": "stderr",
     "output_type": "stream",
     "text": [
      " 24%|███████████████████                                                              | 118/500 [00:09<00:29, 12.91it/s]\n"
     ]
    },
    {
     "name": "stdin",
     "output_type": "stream",
     "text": [
      "I think those would possibly make me the most sad out of any kind of movies. 2\n",
      "Hybrid Theory is the best selling album of this century 2\n",
      "Did you know that the most popular radio act of the 1930s was a ventriloquist? 2\n",
      "Do you think it is the best war movie of the year? 2\n",
      "Linkin park also has the best selling album of the 21st century with hybrid theory 2\n",
      "It said Australia had a current external deficit of 5 - 3 / 4 pct of gross domestic product , high and rapidly rising external debt equal to 30 pct of GDP , growing servicing costs and inflation above nine pct , far higher than that of other OECD countries . 2\n",
      "Determine for each State ( except the Virgin Islands , Guam , Puerto Rico , and , prior to 1962 , Alaska and Hawaii ) , that percentage which bears the same ration to 40% as the particular State's average per capita income bears to the average per capita income of the United States . 1\n",
      "But I guess it brought a good message overall and now Michael is a successful athlete out of all of this 1\n",
      "I can see why it's the highest grossing basketball movie of all time! 2\n",
      "Yes it is the best selling album of this century after all 2\n",
      "the extreme measurements of these fall between the lower limit of the Brookfield brood and its average . 1\n",
      "So all in all what is your most favorite part of the movie? 2\n",
      "Woodside said the rise in revenue largely reflected full year sales of gas and condensate from the domestic phase of the Shelf project , against six month sales in 1985 . 1\n",
      "maybe the greatest of the english language 2\n",
      "Souds like he was another smart president, do you know who the top 3 richest presidents in the histoy of the country are? 1\n",
      "It should be interesting considering that Space Jam is the highest-grossing basketball movie of all time. 2\n",
      "And Disney's \"Treasure Planet\" was one of the biggest box office flops of all time. 2\n",
      "I think between the focus on story and good dialogue, we had the start of some of best super hero movies of all time. 2\n",
      "The original Space Jam is the highest grossing basketball movie of all time. 2\n",
      "My favorite part of the movie was when he was designing the original prototype suit. 2\n"
     ]
    },
    {
     "name": "stdout",
     "output_type": "stream",
     "text": [
      "#69: FORM/USE: Can form an increasing range of complex noun phrases with a superlative adjective + prepositional phrase, to talk about something unique. ► noun phrases (ADJECTIVES: superlatives)\n",
      "Yesterday was the most exciting day of my life! \n",
      "\n",
      "Well, exercise is undoubtedly the most important thing in our lives for our health.\n"
     ]
    },
    {
     "name": "stderr",
     "output_type": "stream",
     "text": [
      " 42%|██████████████████████████████████▏                                              | 211/500 [00:16<00:22, 13.02it/s]\n"
     ]
    },
    {
     "name": "stdin",
     "output_type": "stream",
     "text": [
      "Hybrid Theory is the best selling album of this century 2\n",
      "Do you know who tops the charts as the best orchestra in jazz? 2\n",
      "Did you know that the most popular radio act of the 1930s was a ventriloquist? 2\n",
      "They became the most requested track on a chicago alternative rock station because DJs didn't say who was singing. 2\n",
      "That was the number 1 most installed thing on computers in 1995 2\n",
      "The United States was engaged in a military attack on a peaceful , orderly people governed by a regime that had proved itself the most pro-Western and anti-Communist within any of the new nations -- the only place in Africa , moreover , where a productive relationship between whites and blacks had apparently been achieved . 2\n",
      "Justin bieber's \"baby\" is the most disliked video on youtube 2\n",
      "do you think Justin Bieber's Baby should be the most disliked song on all of youtube? 2\n",
      "The general acceptance of the idea of governmental ( i.e. , societal ) responsibility for the economic well-being of the American people is surely one of the two most significant watersheds in American constitutional history . 2\n",
      "Naismith deserves more since he invented one of the most popular games in existence. 2\n",
      "Although this will be the lowest level of maize deliveries since 1980 , the sources said there is no danger of a food shortage in Zimbabwe . 2\n",
      "Justin Bieber may both love and hate Youtube because although he is widespread on youtube, his \"baby\" video is the most disliked video on youtube. 2\n",
      "Did you know that Justin Bieber's \"Baby\" video is the most disliked on YouTube? 2\n",
      "ah yes we do have different tastes then, I think hybrid theory was the best selling album of the 21st century so far, isnt it? 2\n",
      "Yeah and they are steadily growing in 2015 they surpassed walmart as the most valuable public company in the united states. 2\n",
      "Do you know which is the most disliked video in there? 2\n",
      "I don't think money/greed is always to blame, but it sure does have a huge effect on how things play out and brings out the worst in people. 2\n",
      "After a year in a studio on Sheridan Square , having married an American girl who was a native of Virginia , Helion moved to a village in the Blue Ridge mountains , where he produced some of the most imposing of his abstract canvases . 2\n",
      "I do find it funny that Justin Bieber's Baby is the most disliked video on YouTube. 2\n"
     ]
    },
    {
     "name": "stdout",
     "output_type": "stream",
     "text": [
      "#71: FORM: Can use 'one of the' before a superlative adjective, followed by a plural noun. ► noun phrases (ADJECTIVES: superlatives)\n",
      "It was one of the best days of my life. \n",
      "\n",
      "I recommend that you should go to Akihabara, which is one of the most famous places in Tokyo.\n"
     ]
    },
    {
     "name": "stderr",
     "output_type": "stream",
     "text": [
      "  9%|███████▋                                                                          | 47/500 [00:03<00:35, 12.84it/s]\n"
     ]
    },
    {
     "name": "stdin",
     "output_type": "stream",
     "text": [
      "I can't believe YouTube is the second largest search engine 1\n",
      "In 1991 Creighton and Utah played the longest NCAA game in history when the game went on for 31 innings. 1\n",
      "Although it is old, it is one of the best comedy movies I have watched. 2\n",
      "The SUpreme Court has a bball court in the top floor, dubbed, get this, \"The Highest Court in the Land\"! 1\n",
      "Hybrid Theory is the best selling album of this century 1\n",
      "Definitely  Now it's the 2nd largest search engine on the net. 1\n",
      "The analysts noted that the third quarter is normally BHP ' s lowest - earning period owing to a number of seasonal factors , and they predicted a sharp rise in fourth quarter net to around 300 mln dlrs . 1\n",
      "We blushed and were flustered , and it turned out to be the fleetest brush of lips upon cheek . 1\n",
      "Do you know who tops the charts as the best orchestra in jazz? 1\n",
      "Did you know that the most popular radio act of the 1930s was a ventriloquist? 1\n",
      "Do you think it is the best war movie of the year? 1\n",
      "Linkin park also has the best selling album of the 21st century with hybrid theory 1\n",
      "Did you know Stephen King thinks Bambi is the scariest movie? 1\n",
      "They said they would spend more than 13 mln U . S . dlrs \" to enhance the Biltmore ' s position as one of the finest resort hotels in North America .\" 2\n",
      "\" We ' re going to have one of the biggest reductions in the budget deficit relative to GNP in history this year , and nobody cares ,\" he said , noting that only the deficit cut in 1968 - 69 will have been greater . 2\n",
      "Deep Purple holds a bizarre record for the loudest concert ever and it was held in 1972. 1\n",
      "Earth is actually the densest planet in the solar system. 1\n",
      "Livvy Stubenrauch made 5-year-old anna one of the cutest children ever in a Disney film. 2\n",
      "The federation , the nation ' s largest conservation group , said further study was needed to assess any possible damage that development might have on the wildlife in the area , the coastal plain of the Arctic National Wildlife Refuge . 1\n",
      "They became the most requested track on a chicago alternative rock station because DJs didn't say who was singing. 1\n"
     ]
    },
    {
     "name": "stdout",
     "output_type": "stream",
     "text": [
      "#74: FORM/USE: Can use the premodifer 'by far' to make a superlative adjective stronger. (ADJECTIVES: superlatives)\n",
      "As you know, I've already visited almost fifty forests all over the world but I think this one is by far the most beautiful of all. \n",
      "\n",
      "When I was a child, Christmas morning was by far the most exciting and happiest moment.\n"
     ]
    },
    {
     "name": "stderr",
     "output_type": "stream",
     "text": [
      " 61%|█████████████████████████████████████████████████▍                               | 305/500 [00:23<00:15, 12.82it/s]\n"
     ]
    },
    {
     "name": "stdin",
     "output_type": "stream",
     "text": [
      "In 1991 Creighton and Utah played the longest NCAA game in history when the game went on for 31 innings. 1\n",
      "Although it is old, it is one of the best comedy movies I have watched. 1\n",
      "The middle of the movie isn't the best, the story slows down. 1\n",
      "Deep Purple holds a bizarre record for the loudest concert ever and it was held in 1972. 1\n",
      "Loki from Thor is one of the best on screen villains I've seen in a while. 1\n",
      "The United States was engaged in a military attack on a peaceful , orderly people governed by a regime that had proved itself the most pro-Western and anti-Communist within any of the new nations -- the only place in Africa , moreover , where a productive relationship between whites and blacks had apparently been achieved . 1\n",
      "In my opinion Wonder Woman was the best DC comics live action movie they have done to date. 1\n",
      "Platinum was fixed this morning at 583 . 50 dlrs an ounce , up from Friday ' s close of 578 . 50 / 580 . 50 , and also the highest setting since October . 1\n",
      "The best scene in the movie was where he teaches Are Adne building the dreams 1\n",
      "The most recent shutdown was the longest ever, I believe. 1\n",
      "This one, is also heralded as one of the best animated musicals to come out of Disney, since Little Mermaid 1\n",
      "The main character eventually gets enrolled in a Christian school and shines in football even though he's not the best student. 1\n",
      "It's the best war movie I've seen in some time. 1\n",
      "I wish I could remember, but talking about players, Le Bron James is thought to be the best player ever! 1\n",
      "You know, it's supposed to be a faster game than regular baseball and yet the longest softball game in history went for 31 innings. 1\n",
      "Yes, i think YouTube's user-friendliness, combined with the soaring popularity of video content, has made it the second largest search engine behind Google. 1\n",
      "Harrowsmith , an alternative life - style magazine , is Canada ' s seventh - largest paid circulation English - language magazine while Equinox is the country ' s eighth largest . 1\n",
      "Activity by British traders and the presence of a colony on the Red prompted the United State War Department in 1819 to send Lieutenant-Colonel Henry Leavenworth from Detroit to put a post 300 miles northwest of Prairie Du Chien , until then the most advanced United States post . 1\n",
      "No, I guess this last one seemed to be one of the longest, or at least most controversial that I have remembered. 1\n",
      "He named the dance \"Moon Walk\" and that may be the longest lasting impact on our language. 1\n"
     ]
    }
   ],
   "source": [
    "hits_path = '../data/corpus_validation_hits.json'\n",
    "coded_instances = pd.DataFrame(columns=['#', 'sentence', 'correct', 'score', 'max_token']) if not os.path.exists(hits_path) else pd.read_json(hits_path)\n",
    "coded_instances['correct'] = coded_instances['correct'].astype(bool)\n",
    "#coded_instances = coded_instances[coded_instances['#']!=622]\n",
    "\n",
    "for nr in existing_nrs:\n",
    "    rule = egp[egp['#']==nr].iloc[0]\n",
    "    if len(coded_instances[coded_instances['#']==nr]) >= 1: continue\n",
    "    print(f\"#{nr}: {rule['Type']}: {rule['Can-do statement']} ({rule['SuperCategory']}: {rule['SubCategory']})\")\n",
    "    print(rule['Example'])\n",
    "    classifier = models.load_classifier(nr, \"corpus_training\")\n",
    "    classifier = DataParallel(classifier)\n",
    "\n",
    "    scores, tokens = models.score_corpus(classifier, test_dataloader, max_positive=25, max_batches=max_batches, threshold=threshold)\n",
    "    hits = [(score, token, sample) for score, token, sample in zip(scores, tokens, test_sentences[:len(scores)]) if score > threshold]\n",
    "    for score, token, sample in hits[:20]:\n",
    "        if sample in list(coded_instances[coded_instances['#']==nr]['sentence']): continue\n",
    "        user_response = input(f\"{sample}\")\n",
    "        new_row = pd.DataFrame({'#': [nr],\n",
    "             'sentence': [sample],\n",
    "             'correct': [user_response == '2'],\n",
    "             'score': [score],\n",
    "             'max_token': [token]})\n",
    "        coded_instances = pd.concat([coded_instances, new_row], ignore_index=True)\n",
    "    coded_instances.to_json(hits_path)"
   ]
  },
  {
   "cell_type": "code",
   "execution_count": 11,
   "id": "dda6feef-d265-4035-8c9f-b50d1dc5484b",
   "metadata": {},
   "outputs": [],
   "source": [
    "hits_path = '../data/corpus_validation_hits.json'\n",
    "coded_instances = pd.read_json(hits_path)\n",
    "coded_instances['correct'] = coded_instances['correct'].astype(bool)"
   ]
  },
  {
   "cell_type": "code",
   "execution_count": 7,
   "id": "1b63de37-18b9-43cb-aade-7c1f0521b935",
   "metadata": {},
   "outputs": [],
   "source": [
    "import json\n",
    "metrics_path = \"../results/corpus_training_metrics.json\""
   ]
  },
  {
   "cell_type": "code",
   "execution_count": 2,
   "id": "2b88de9d-14b4-439d-8357-4a80a58758a4",
   "metadata": {},
   "outputs": [
    {
     "ename": "NameError",
     "evalue": "name 'metrics' is not defined",
     "output_type": "error",
     "traceback": [
      "\u001b[0;31m---------------------------------------------------------------------------\u001b[0m",
      "\u001b[0;31mNameError\u001b[0m                                 Traceback (most recent call last)",
      "Cell \u001b[0;32mIn[2], line 4\u001b[0m\n\u001b[1;32m      2\u001b[0m metrics_path \u001b[38;5;241m=\u001b[39m \u001b[38;5;124m\"\u001b[39m\u001b[38;5;124m../results/corpus_training_metrics.json\u001b[39m\u001b[38;5;124m\"\u001b[39m\n\u001b[1;32m      3\u001b[0m \u001b[38;5;28;01mwith\u001b[39;00m \u001b[38;5;28mopen\u001b[39m(metrics_path, \u001b[38;5;124m'\u001b[39m\u001b[38;5;124mw\u001b[39m\u001b[38;5;124m'\u001b[39m) \u001b[38;5;28;01mas\u001b[39;00m f:\n\u001b[0;32m----> 4\u001b[0m     json\u001b[38;5;241m.\u001b[39mdump(\u001b[43mmetrics\u001b[49m, f)\n",
      "\u001b[0;31mNameError\u001b[0m: name 'metrics' is not defined"
     ]
    }
   ],
   "source": [
    "\n",
    "with open(metrics_path, 'w') as f:\n",
    "    json.dump(metrics, f)"
   ]
  },
  {
   "cell_type": "code",
   "execution_count": 24,
   "id": "5d38f2ff-2d32-4b68-9d89-16f90b3d087d",
   "metadata": {
    "scrolled": true
   },
   "outputs": [
    {
     "data": {
      "text/plain": [
       "27"
      ]
     },
     "execution_count": 24,
     "metadata": {},
     "output_type": "execute_result"
    }
   ],
   "source": [
    "len(correct_per_rule[correct_per_rule>=.8])"
   ]
  },
  {
   "cell_type": "code",
   "execution_count": 21,
   "id": "bb8b3ef0-d5bf-4c6a-8854-8aad0ff00a6f",
   "metadata": {},
   "outputs": [
    {
     "data": {
      "image/png": "[encoded data removed]",
      "text/plain": [
       "<Figure size 800x500 with 2 Axes>"
      ]
     },
     "metadata": {},
     "output_type": "display_data"
    }
   ],
   "source": [
    "with open(metrics_path, 'r') as f:\n",
    "    metrics = json.load(f)\n",
    "counts = coded_instances.groupby('#').size()\n",
    "correct_per_rule = coded_instances[coded_instances['#'].isin(counts[counts > 5].index)].groupby('#')['correct'].mean()\n",
    "def plot_histogram(ax, data):\n",
    "    sns.histplot(ax=ax, data=data, bins=10, kde=True, color=\"skyblue\", edgecolor='black', alpha=0.7, legend=False)\n",
    "    ax.set_ylabel(f\"Number of rules / {len(correct_per_rule)}\")\n",
    "    ax.set_xlabel(\"Metric\")\n",
    "    ax.xaxis.set_major_formatter(FuncFormatter(lambda x, _: f'{x*100:.0f}%'))\n",
    "    ax.set_xlim(0, 1)\n",
    "\n",
    "fig, axs = plt.subplots(2, 1, figsize=(8, 5))\n",
    "plot_histogram(axs[0], [m['precision'] for m in metrics.values()])\n",
    "axs[0].set_title(\"Distribution of Rule Detection Precision on Validation Data\")\n",
    "plot_histogram(axs[1], list(correct_per_rule))\n",
    "axs[1].set_title(\"Distribution of Rule Detection Precisions on Unseen Corpus\")\n",
    "plt.tight_layout()\n",
    "plt.show()"
   ]
  },
  {
   "cell_type": "code",
   "execution_count": 19,
   "id": "ecd32ec5-3a41-4819-a414-7eced1254c38",
   "metadata": {},
   "outputs": [],
   "source": [
    "corpus_instances = [np.mean([m['precision'] for m in metrics.values()]), correct_per_rule.mean()]"
   ]
  },
  {
   "cell_type": "code",
   "execution_count": 20,
   "id": "5c37da6c-bb1e-41ea-9f04-f1b7cad950a6",
   "metadata": {},
   "outputs": [
    {
     "data": {
      "text/plain": [
       "[0.7550173913043479, 0.6870175146490934]"
      ]
     },
     "execution_count": 20,
     "metadata": {},
     "output_type": "execute_result"
    }
   ],
   "source": [
    "corpus_instances"
   ]
  },
  {
   "cell_type": "code",
   "execution_count": 78,
   "id": "2dde9d5c-142b-4cf4-8045-d97eaad7e05a",
   "metadata": {},
   "outputs": [
    {
     "data": {
      "image/png": "[encoded data removed]",
      "text/plain": [
       "<Figure size 1000x600 with 1 Axes>"
      ]
     },
     "metadata": {},
     "output_type": "display_data"
    }
   ],
   "source": [
    "df = pd.DataFrame({'Validation Set': [m['precision'] for m in metrics.values()], 'Corpus': list(correct_per_rule)})\n",
    "ax = df.plot(kind='bar', figsize=(10, 6), alpha=0.75, edgecolor='black')\n",
    "ax.set_xlabel(\"Rule Index\")\n",
    "ax.set_ylabel(\"Metric Value\")\n",
    "ax.set_title(\"Comparison of Precision in Validation Set and on unseen Corpus\")\n",
    "ax.set_xticklabels(correct_per_rule.index, rotation=45)\n",
    "ax.set_ylim(0, 1)\n",
    "ax.yaxis.set_major_formatter(FuncFormatter(lambda y, _: f'{y*100:.0f}%'))\n",
    "\n",
    "plt.tight_layout()\n",
    "plt.show()"
   ]
  },
  {
   "cell_type": "code",
   "execution_count": null,
   "id": "97f52e80-ca35-44ea-b6d5-ba7cf60673e0",
   "metadata": {},
   "outputs": [],
   "source": []
  }
 ],
 "metadata": {
  "kernelspec": {
   "display_name": "Python (gctg)",
   "language": "python",
   "name": "gctg"
  },
  "language_info": {
   "codemirror_mode": {
    "name": "ipython",
    "version": 3
   },
   "file_extension": ".py",
   "mimetype": "text/x-python",
   "name": "python",
   "nbconvert_exporter": "python",
   "pygments_lexer": "ipython3",
   "version": "3.11.2"
  }
 },
 "nbformat": 4,
 "nbformat_minor": 5
}
