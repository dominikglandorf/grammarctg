{
 "cells": [
  {
   "cell_type": "markdown",
   "id": "0e5342b3-6725-42d0-83e5-5db4cb1e1e8a",
   "metadata": {},
   "source": [
    "# Exp012: Train classifiers from corpus examples\n",
    "This experiments uses regular expressions to identify possible positive and hard negative instances in multiple corpora. It may add handpicked generated examples if the corpus does not have enough examples."
   ]
  },
  {
   "cell_type": "code",
   "execution_count": 1,
   "id": "c4f87740-f21a-48e3-bfc0-2ce119b2cdff",
   "metadata": {},
   "outputs": [
    {
     "name": "stderr",
     "output_type": "stream",
     "text": [
      "Some weights of the model checkpoint at bert-base-uncased were not used when initializing BertModel: ['cls.predictions.bias', 'cls.predictions.transform.LayerNorm.weight', 'cls.predictions.transform.dense.bias', 'cls.predictions.transform.dense.weight', 'cls.predictions.transform.LayerNorm.bias', 'cls.seq_relationship.weight', 'cls.seq_relationship.bias', 'cls.predictions.decoder.weight']\n",
      "- This IS expected if you are initializing BertModel from the checkpoint of a model trained on another task or with another architecture (e.g. initializing a BertForSequenceClassification model from a BertForPreTraining model).\n",
      "- This IS NOT expected if you are initializing BertModel from the checkpoint of a model that you expect to be exactly identical (initializing a BertForSequenceClassification model from a BertForSequenceClassification model).\n",
      "[nltk_data] Downloading package punkt to\n",
      "[nltk_data]     /cluster/scratch/dglandorf/cache...\n",
      "[nltk_data]   Package punkt is already up-to-date!\n",
      "[nltk_data] Downloading package punkt to\n",
      "[nltk_data]     /cluster/scratch/dglandorf/cache...\n",
      "[nltk_data]   Package punkt is already up-to-date!\n"
     ]
    },
    {
     "data": {
      "text/plain": [
       "<module 'data' from '/cluster/home/dglandorf/grammarctg/experiments/../source/data.py'>"
      ]
     },
     "execution_count": 1,
     "metadata": {},
     "output_type": "execute_result"
    }
   ],
   "source": [
    "import re\n",
    "import os\n",
    "import random\n",
    "import numpy as np\n",
    "from torch import tensor, Tensor\n",
    "from torch.nn import DataParallel\n",
    "from torch.utils.data import DataLoader, TensorDataset, random_split, Subset\n",
    "from sklearn.model_selection import KFold\n",
    "from collections import defaultdict\n",
    "from tqdm import tqdm\n",
    "import pandas as pd\n",
    "import matplotlib.pyplot as plt\n",
    "import seaborn as sns\n",
    "from matplotlib.ticker import FuncFormatter\n",
    "\n",
    "import sys\n",
    "sys.path.append('../source')\n",
    "import models\n",
    "import data\n",
    "import importlib\n",
    "importlib.reload(data)"
   ]
  },
  {
   "cell_type": "code",
   "execution_count": 2,
   "id": "961585f3-8a6e-4e10-b0f3-e16a34a8eee9",
   "metadata": {},
   "outputs": [
    {
     "name": "stderr",
     "output_type": "stream",
     "text": [
      "100%|███████████████████████████| 4/4 [00:48<00:00, 12.13s/it]\n"
     ]
    }
   ],
   "source": [
    "# load corpus sentences and prepare dataloader\n",
    "sentences = data.get_mixed_sentences(1000000) # get all sentences\n",
    "\n",
    "# initialize corpus to check against\n",
    "max_batches = 250\n",
    "batch_size = 64\n",
    "encoded_inputs = models.bert_tokenizer(sentences[:12*max_batches*batch_size], return_tensors='pt', max_length=64, padding='max_length', truncation=True)\n",
    "encoded_inputs['sentences'] = sentences[:12*max_batches*batch_size]\n",
    "corpus_dataset = TensorDataset(encoded_inputs['input_ids'], encoded_inputs['attention_mask'])\n",
    "corpus_dataloader = DataLoader(corpus_dataset, batch_size=64, shuffle=False)"
   ]
  },
  {
   "cell_type": "code",
   "execution_count": 3,
   "id": "aa30f090-b507-4f11-bd5c-fc545d061952",
   "metadata": {},
   "outputs": [],
   "source": [
    "# output dataset\n",
    "output_path = '../data/annotated_corpus.json'\n",
    "instances = pd.DataFrame(columns=['#', 'sentence', 'positive']) if not os.path.exists(output_path) else pd.read_json(output_path)\n",
    "instances['positive'] = instances['positive'].astype(bool)\n",
    "\n",
    "egp_gpt = pd.read_json(\"../data/egp_gpt35.json\")"
   ]
  },
  {
   "cell_type": "code",
   "execution_count": 4,
   "id": "a87b1b7a-5687-4e04-88c2-2fae4eca2a16",
   "metadata": {},
   "outputs": [],
   "source": [
    "# manipulation functions for instance dataset\n",
    "def get_positives(instances, nr):\n",
    "    return list(instances[(instances['#'] == nr) & instances['positive']]['sentence'])\n",
    "def get_negatives(instances, nr):\n",
    "    return list(instances[(instances['#'] == nr) & ~instances['positive']]['sentence'])\n",
    "def get_others(sentences, matches):\n",
    "    return list(set(sentences).difference(set(matches)))\n",
    "def add_to_instances(sentences, nr, positive=True):\n",
    "    global instances\n",
    "    if isinstance(sentences, list):\n",
    "        for sentence in sentences:\n",
    "            new_row = pd.DataFrame({'#': [nr], 'sentence': [sentence], 'positive': [positive]})\n",
    "            instances = pd.concat([instances, new_row], ignore_index=True)\n",
    "    else:\n",
    "        new_row = pd.DataFrame({'#': [nr], 'sentence': [sentences], 'positive': [positive]})\n",
    "        instances = pd.concat([instances, new_row], ignore_index=True)\n",
    "    instances.to_json(output_path)\n",
    "\n",
    "# model training\n",
    "def get_trained_classifer(positive, negative, others, classifier=models.RuleDetector(models.bert_encoder).to(models.device), ratio=1, verbose=True):\n",
    "    dataset = data.get_dataset(positive, negative, others, models.bert_tokenizer, 64, ratio*len(positive)/len(negative), verbose=verbose) \n",
    "    train_dataloader, val_dataloader = data.get_loaders(dataset)\n",
    "    _, val_metrics = models.train(classifier, train_dataloader, val_dataloader, num_epochs=None, verbose=verbose)\n",
    "    return classifier, val_metrics"
   ]
  },
  {
   "attachments": {},
   "cell_type": "markdown",
   "id": "8a24689c-8004-4510-8cac-3e4dc0527c10",
   "metadata": {},
   "source": [
    "Find examples for would rules (616-638), superlatives (1105-1131), negations (1175-1205)"
   ]
  },
  {
   "cell_type": "code",
   "execution_count": 5,
   "id": "1ebc1b70-7706-4832-8f7c-9563d99b1f83",
   "metadata": {},
   "outputs": [],
   "source": [
    "nr = 60"
   ]
  },
  {
   "cell_type": "code",
   "execution_count": 6,
   "id": "76ade4eb-ecb4-4c8e-82d3-35b4e4a7c0ce",
   "metadata": {},
   "outputs": [],
   "source": [
    "pattern = r\"of the\"\n",
    "matches = [sentence for sentence in sentences if re.search(pattern, sentence, re.IGNORECASE)]\n",
    "random.shuffle(matches)\n",
    "candidates = iter(matches)"
   ]
  },
  {
   "cell_type": "code",
   "execution_count": 36,
   "id": "5be73f1c-78d9-49a1-9c6e-c06a429d215b",
   "metadata": {},
   "outputs": [],
   "source": [
    "gpt35 = egp_gpt[egp_gpt['#']==nr].iloc[0]\n",
    "egp_matches = gpt35['augmented_examples']\n",
    "random.shuffle(egp_matches)\n",
    "candidates = iter(egp_matches)"
   ]
  },
  {
   "cell_type": "code",
   "execution_count": 140,
   "id": "a67436e5-e38b-4cea-a0ea-4c2a2986a8b7",
   "metadata": {},
   "outputs": [],
   "source": [
    "anti_pattern =  r\" most \"\n",
    "anti_matches = [sentence for sentence in sentences if re.search(anti_pattern, sentence, re.IGNORECASE)]\n",
    "random.shuffle(anti_matches)\n",
    "candidates = iter(anti_matches)"
   ]
  },
  {
   "cell_type": "code",
   "execution_count": 43,
   "id": "7af162b0-dc37-402c-a6b6-a099f3fd4900",
   "metadata": {},
   "outputs": [],
   "source": [
    "candidates = iter(subset_sentences)"
   ]
  },
  {
   "cell_type": "code",
   "execution_count": 30,
   "id": "38665e27-84f3-41d1-9f6c-8b54a511c637",
   "metadata": {},
   "outputs": [],
   "source": [
    "candidates = iter(get_positives(instances, 59))"
   ]
  },
  {
   "cell_type": "code",
   "execution_count": 53,
   "id": "ee3aea00-416c-4312-963a-8468c4f82065",
   "metadata": {
    "scrolled": true
   },
   "outputs": [
    {
     "name": "stdin",
     "output_type": "stream",
     "text": [
      "and it's so long, those are the two and a half most wasted hours of my life, so much so that I'm thinking about asking them to give me my money back. 2\n"
     ]
    },
    {
     "name": "stdout",
     "output_type": "stream",
     "text": [
      "No candidates left.\n"
     ]
    }
   ],
   "source": [
    "while 1==1:\n",
    "    if len(get_positives(instances, nr)) == 50: print(\"** REACHED 50 POSITIVES **\")\n",
    "    try:\n",
    "        candidate = next(candidates)\n",
    "    except StopIteration:\n",
    "        print(\"No candidates left.\")\n",
    "        break\n",
    "    if candidate in list(instances[instances['#'] == nr]['sentence']): continue # prevent duplicates\n",
    "    #candidate = candidate.replace(\",\", \"\")\n",
    "    user_response = input(f\"{candidate}\")\n",
    "    if user_response == \"c\": break\n",
    "    if user_response == \"s\": continue\n",
    "    if user_response == \"del\": \n",
    "        instances = instances.iloc[:-1]\n",
    "        continue\n",
    "    new_row = pd.DataFrame({'#': [nr], 'sentence': [candidate], 'positive': [True if user_response == '2' else False]})\n",
    "    instances = pd.concat([instances, new_row], ignore_index=True)\n",
    "    instances.to_json(output_path)"
   ]
  },
  {
   "cell_type": "code",
   "execution_count": 68,
   "id": "19a29492-080a-4147-b89a-bd3e73d6debd",
   "metadata": {},
   "outputs": [],
   "source": [
    "#instances = instances.iloc[:-11]"
   ]
  },
  {
   "cell_type": "code",
   "execution_count": 49,
   "id": "febdfd34-a456-4792-8c04-b2b8e4a0d132",
   "metadata": {},
   "outputs": [
    {
     "name": "stdout",
     "output_type": "stream",
     "text": [
      "Positive: 157, Negative: 145\n"
     ]
    }
   ],
   "source": [
    "print(f'Positive: {len(get_positives(instances, nr))}, Negative: {len(get_negatives(instances, nr))}')"
   ]
  },
  {
   "cell_type": "code",
   "execution_count": 61,
   "id": "d145accc-1c71-4801-aa4e-c1823f0d0d98",
   "metadata": {
    "scrolled": true
   },
   "outputs": [
    {
     "name": "stdout",
     "output_type": "stream",
     "text": [
      "0.20334620334620335\n"
     ]
    },
    {
     "name": "stderr",
     "output_type": "stream",
     "text": [
      "100%|█████████████████████████| 20/20 [00:01<00:00, 11.85it/s]\n"
     ]
    },
    {
     "name": "stdout",
     "output_type": "stream",
     "text": [
      "Training loss: 0.038274918450042605\n",
      "Val loss: 0.0069804897531867026\n"
     ]
    },
    {
     "name": "stderr",
     "output_type": "stream",
     "text": [
      "100%|█████████████████████████| 20/20 [00:01<00:00, 12.05it/s]\n"
     ]
    },
    {
     "name": "stdout",
     "output_type": "stream",
     "text": [
      "Training loss: 0.01880263558123261\n",
      "Val loss: 0.010260450234636665\n"
     ]
    },
    {
     "data": {
      "text/plain": [
       "{'accuracy': 1.0, 'f1': 1.0, 'precision': 1.0}"
      ]
     },
     "execution_count": 61,
     "metadata": {},
     "output_type": "execute_result"
    }
   ],
   "source": [
    "classifier, val_metrics = get_trained_classifer(get_positives(instances, nr), get_negatives(instances, nr), get_others(sentences, matches), ratio=3)\n",
    "val_metrics"
   ]
  },
  {
   "cell_type": "markdown",
   "id": "183d9cf3-81df-4abc-a339-67be270a71ee",
   "metadata": {},
   "source": [
    "Check on entire corpus"
   ]
  },
  {
   "cell_type": "code",
   "execution_count": 58,
   "id": "b973cfbb-0cca-441d-9c55-e9b6b5e3aa83",
   "metadata": {},
   "outputs": [
    {
     "name": "stderr",
     "output_type": "stream",
     "text": [
      "  8%|█▊                    | 125/1500 [00:18<03:25,  6.69it/s]\n"
     ]
    }
   ],
   "source": [
    "# shuffle inputs\n",
    "shuffled_index = np.random.permutation(encoded_inputs['input_ids'].size(0))\n",
    "for key, value in encoded_inputs.items():\n",
    "    encoded_inputs[key] = value[shuffled_index] if isinstance(value, Tensor) else [value[i] for i in shuffled_index]\n",
    "classifier = DataParallel(classifier)\n",
    "batch_size = 128\n",
    "corpus_dataset = TensorDataset(encoded_inputs['input_ids'], encoded_inputs['attention_mask'])\n",
    "corpus_dataloader = DataLoader(corpus_dataset, batch_size=128, shuffle=False)\n",
    "scores, tokens = models.score_corpus(classifier, corpus_dataloader, max_positive=32000//batch_size, max_batches=125, threshold=0.5)\n",
    "results = list(zip(scores, tokens, encoded_inputs['sentences'][:len(scores)]))"
   ]
  },
  {
   "cell_type": "code",
   "execution_count": 59,
   "id": "db88ffa1-21bc-4c3e-a1a6-36cee41abb82",
   "metadata": {
    "scrolled": true
   },
   "outputs": [
    {
     "data": {
      "text/plain": [
       "[\"This is our busiest time of the year but I'll speak to one of our men about getting over there sometime today.\",\n",
       " 'I think weigh is the most fantastic of them.']"
      ]
     },
     "execution_count": 59,
     "metadata": {},
     "output_type": "execute_result"
    }
   ],
   "source": [
    "threshold = 0.5\n",
    "\n",
    "subset = [(score, token, sample) for score, token, sample in results if\n",
    "     score > threshold and not sample in get_positives(instances, nr)]\n",
    "subset_sentences = [sample for _, _, sample in subset]\n",
    "candidates = iter(subset_sentences) \n",
    "subset_sentences"
   ]
  },
  {
   "cell_type": "code",
   "execution_count": 93,
   "id": "56453dda-8532-435d-8c18-efb186a87b26",
   "metadata": {},
   "outputs": [
    {
     "name": "stdout",
     "output_type": "stream",
     "text": [
      "0.2\n"
     ]
    },
    {
     "name": "stderr",
     "output_type": "stream",
     "text": [
      "100%|██████████████████████████████████| 4/4 [00:00<00:00, 11.04it/s]\n"
     ]
    },
    {
     "name": "stdout",
     "output_type": "stream",
     "text": [
      "Training loss: 0.1677892841398716\n",
      "Val loss: 0.1551961898803711\n"
     ]
    },
    {
     "name": "stderr",
     "output_type": "stream",
     "text": [
      "100%|██████████████████████████████████| 4/4 [00:00<00:00, 11.76it/s]\n"
     ]
    },
    {
     "name": "stdout",
     "output_type": "stream",
     "text": [
      "Training loss: 0.13315736316144466\n",
      "Val loss: 0.09557819366455078\n"
     ]
    },
    {
     "name": "stderr",
     "output_type": "stream",
     "text": [
      "100%|██████████████████████████████████| 4/4 [00:00<00:00, 11.81it/s]\n"
     ]
    },
    {
     "name": "stdout",
     "output_type": "stream",
     "text": [
      "Training loss: 0.10834173485636711\n",
      "Val loss: 0.08680586516857147\n"
     ]
    },
    {
     "name": "stderr",
     "output_type": "stream",
     "text": [
      "100%|██████████████████████████████████| 4/4 [00:00<00:00, 11.80it/s]\n"
     ]
    },
    {
     "name": "stdout",
     "output_type": "stream",
     "text": [
      "Training loss: 0.10036502685397863\n",
      "Val loss: 0.08982415497303009\n"
     ]
    },
    {
     "data": {
      "text/plain": [
       "{'accuracy': 1.0, 'f1': 1.0, 'precision': 1.0}"
      ]
     },
     "execution_count": 93,
     "metadata": {},
     "output_type": "execute_result"
    }
   ],
   "source": [
    "#add_to_instances(gpt35['augmented_examples'][100:150], nr, True)\n",
    "#add_to_instances(random.sample(subset_sentences, 25), nr, False)\n",
    "#add_to_instances(subset_sentences, nr, False)\n",
    "#add_to_instances(random.sample(get_positives(instances, 619), 50), nr, False)\n",
    "#add_to_instances(list(set(get_positives(instances, 621)).difference(get_negatives(instances, nr))), nr, False)\n",
    "classifier, metrics = get_trained_classifer(get_positives(instances, nr), get_negatives(instances, nr), get_others(sentences, matches), ratio=2)\n",
    "metrics"
   ]
  },
  {
   "cell_type": "code",
   "execution_count": 64,
   "id": "1b8502bd-cc53-4798-be85-44591abb0a90",
   "metadata": {},
   "outputs": [],
   "source": [
    "models.save_classifier(classifier, nr, \"corpus_training\")"
   ]
  },
  {
   "cell_type": "code",
   "execution_count": 14,
   "id": "a2677983-df74-4007-a58b-5db81b6ab703",
   "metadata": {},
   "outputs": [],
   "source": [
    "nr=619\n",
    "classifier = models.load_classifier(nr, \"corpus_training\")"
   ]
  },
  {
   "cell_type": "code",
   "execution_count": 140,
   "id": "8a334686-2760-49a1-8eb6-030ff4d06083",
   "metadata": {},
   "outputs": [
    {
     "name": "stdout",
     "output_type": "stream",
     "text": [
      "['My teacher said that it was the best project of all. ', 'I learned to surf, this was the best part of the trip. ', 'Hi, Ally. You will miss the best party of the year!']\n"
     ]
    }
   ],
   "source": [
    "print(candidates)"
   ]
  },
  {
   "cell_type": "code",
   "execution_count": 63,
   "id": "eeaad7c9-89c4-4a7e-9008-3fd0013d2d97",
   "metadata": {},
   "outputs": [
    {
     "data": {
      "text/plain": [
       "(tensor([9.9861e-01, 9.9817e-01, 9.3891e-01, 5.9154e-04, 3.4204e-04]),\n",
       " ['of', 'of', 'of', 't', 'clue'])"
      ]
     },
     "execution_count": 63,
     "metadata": {},
     "output_type": "execute_result"
    }
   ],
   "source": [
    "candidates = gpt35['Example'].split(\"\\n\\n\") + [\"I haven't the vastest clue.\", \"The slightest clue.\"]\n",
    "models.probe_model(classifier, candidates)"
   ]
  },
  {
   "cell_type": "code",
   "execution_count": 171,
   "id": "7b793f71-0de6-4132-a2cf-8d2479ec319a",
   "metadata": {},
   "outputs": [
    {
     "data": {
      "text/plain": [
       "(tensor([0.7212, 0.9803, 0.0136, 0.0130]),\n",
       " ['fastest', '##thest', 'biggest', '##est'])"
      ]
     },
     "execution_count": 171,
     "metadata": {},
     "output_type": "execute_result"
    }
   ],
   "source": [
    "candidates = [\"I have by far the fastest car.\", \"He was by far the furthest singer of all time.\", \"It's the biggest content.\", \"I haven't the lushest clue.\"]\n",
    "models.probe_model(classifier, candidates)"
   ]
  },
  {
   "cell_type": "markdown",
   "id": "a11b5410-6b04-4a96-8222-b7e44cc74de1",
   "metadata": {},
   "source": [
    "## Evaluation\n",
    "Strategy: Track F1 score on validation set and precision in novel corpora sentences"
   ]
  },
  {
   "cell_type": "code",
   "execution_count": 2,
   "id": "14404681-657d-4a22-9b97-064a73a9b8ed",
   "metadata": {},
   "outputs": [],
   "source": [
    "existing_nrs = [int(name.replace(\".pth\",\"\")) for name in os.listdir(f\"../models/corpus_training\")]\n",
    "egp = data.get_egp()"
   ]
  },
  {
   "cell_type": "code",
   "execution_count": 65,
   "id": "6e855884-6c9c-45d5-bc4e-a0c0caee394d",
   "metadata": {
    "scrolled": true
   },
   "outputs": [
    {
     "name": "stdout",
     "output_type": "stream",
     "text": [
      "#616\n"
     ]
    },
    {
     "name": "stderr",
     "output_type": "stream",
     "text": [
      "100%|█████████████████████████| 5/5 [00:29<00:00,  6.00s/it]\n"
     ]
    },
    {
     "name": "stdout",
     "output_type": "stream",
     "text": [
      "{'accuracy': 0.9681999999999998, 'f1': 0.9148, 'precision': 0.8842000000000001}\n",
      "#617\n"
     ]
    },
    {
     "name": "stderr",
     "output_type": "stream",
     "text": [
      "100%|█████████████████████████| 5/5 [00:31<00:00,  6.24s/it]\n"
     ]
    },
    {
     "name": "stdout",
     "output_type": "stream",
     "text": [
      "{'accuracy': 0.9536, 'f1': 0.8588000000000001, 'precision': 0.8834}\n",
      "#618\n"
     ]
    },
    {
     "name": "stderr",
     "output_type": "stream",
     "text": [
      "100%|█████████████████████████| 5/5 [00:26<00:00,  5.39s/it]\n"
     ]
    },
    {
     "name": "stdout",
     "output_type": "stream",
     "text": [
      "{'accuracy': 0.9460000000000001, 'f1': 0.8762000000000001, 'precision': 0.82}\n",
      "#619\n"
     ]
    },
    {
     "name": "stderr",
     "output_type": "stream",
     "text": [
      "100%|█████████████████████████| 5/5 [00:25<00:00,  5.07s/it]\n"
     ]
    },
    {
     "name": "stdout",
     "output_type": "stream",
     "text": [
      "{'accuracy': 0.8968, 'f1': 0.7083999999999999, 'precision': 0.8166}\n",
      "#620\n"
     ]
    },
    {
     "name": "stderr",
     "output_type": "stream",
     "text": [
      "100%|█████████████████████████| 5/5 [00:28<00:00,  5.64s/it]\n"
     ]
    },
    {
     "name": "stdout",
     "output_type": "stream",
     "text": [
      "{'accuracy': 0.9151999999999999, 'f1': 0.5118, 'precision': 0.755}\n",
      "#621\n"
     ]
    },
    {
     "name": "stderr",
     "output_type": "stream",
     "text": [
      "100%|█████████████████████████| 5/5 [00:16<00:00,  3.39s/it]\n"
     ]
    },
    {
     "name": "stdout",
     "output_type": "stream",
     "text": [
      "{'accuracy': 0.942, 'f1': 0.7417999999999999, 'precision': 0.6958}\n",
      "#622\n"
     ]
    },
    {
     "name": "stderr",
     "output_type": "stream",
     "text": [
      "100%|█████████████████████████| 5/5 [00:48<00:00,  9.66s/it]\n"
     ]
    },
    {
     "name": "stdout",
     "output_type": "stream",
     "text": [
      "{'accuracy': 0.9432, 'f1': 0.5880000000000001, 'precision': 0.7612}\n",
      "#623\n"
     ]
    },
    {
     "name": "stderr",
     "output_type": "stream",
     "text": [
      "100%|█████████████████████████| 5/5 [00:13<00:00,  2.80s/it]\n"
     ]
    },
    {
     "name": "stdout",
     "output_type": "stream",
     "text": [
      "{'accuracy': 0.8794000000000001, 'f1': 0.0, 'precision': 0.0}\n",
      "#624\n"
     ]
    },
    {
     "name": "stderr",
     "output_type": "stream",
     "text": [
      "100%|█████████████████████████| 5/5 [00:14<00:00,  2.95s/it]\n"
     ]
    },
    {
     "name": "stdout",
     "output_type": "stream",
     "text": [
      "{'accuracy': 0.9644, 'f1': 0.8997999999999999, 'precision': 0.9358000000000001}\n",
      "#625\n"
     ]
    },
    {
     "name": "stderr",
     "output_type": "stream",
     "text": [
      "100%|█████████████████████████| 5/5 [00:24<00:00,  4.96s/it]\n"
     ]
    },
    {
     "name": "stdout",
     "output_type": "stream",
     "text": [
      "{'accuracy': 0.9116, 'f1': 0.64, 'precision': 0.8082}\n",
      "#626\n"
     ]
    },
    {
     "name": "stderr",
     "output_type": "stream",
     "text": [
      "100%|█████████████████████████| 5/5 [00:14<00:00,  2.91s/it]\n"
     ]
    },
    {
     "name": "stdout",
     "output_type": "stream",
     "text": [
      "{'accuracy': 0.9602, 'f1': 0.8938, 'precision': 0.8897999999999999}\n",
      "#627\n"
     ]
    },
    {
     "name": "stderr",
     "output_type": "stream",
     "text": [
      "100%|█████████████████████████| 5/5 [00:25<00:00,  5.08s/it]\n"
     ]
    },
    {
     "name": "stdout",
     "output_type": "stream",
     "text": [
      "{'accuracy': 0.9132, 'f1': 0.6050000000000001, 'precision': 0.7464000000000001}\n",
      "#628\n"
     ]
    },
    {
     "name": "stderr",
     "output_type": "stream",
     "text": [
      "100%|█████████████████████████| 5/5 [00:46<00:00,  9.23s/it]\n"
     ]
    },
    {
     "name": "stdout",
     "output_type": "stream",
     "text": [
      "{'accuracy': 0.9372, 'f1': 0.6122, 'precision': 0.9862}\n",
      "#629\n"
     ]
    },
    {
     "name": "stderr",
     "output_type": "stream",
     "text": [
      "100%|█████████████████████████| 5/5 [00:38<00:00,  7.79s/it]\n"
     ]
    },
    {
     "name": "stdout",
     "output_type": "stream",
     "text": [
      "{'accuracy': 0.9099999999999999, 'f1': 0.3626, 'precision': 0.35140000000000005}\n",
      "#630\n"
     ]
    },
    {
     "name": "stderr",
     "output_type": "stream",
     "text": [
      "100%|█████████████████████████| 5/5 [00:47<00:00,  9.54s/it]\n"
     ]
    },
    {
     "name": "stdout",
     "output_type": "stream",
     "text": [
      "{'accuracy': 0.9743999999999999, 'f1': 0.9301999999999999, 'precision': 0.8984}\n",
      "#631\n"
     ]
    },
    {
     "name": "stderr",
     "output_type": "stream",
     "text": [
      "100%|█████████████████████████| 5/5 [00:22<00:00,  4.55s/it]\n"
     ]
    },
    {
     "name": "stdout",
     "output_type": "stream",
     "text": [
      "{'accuracy': 0.9789999999999999, 'f1': 0.9468, 'precision': 0.923}\n",
      "#632\n"
     ]
    },
    {
     "name": "stderr",
     "output_type": "stream",
     "text": [
      "100%|█████████████████████████| 5/5 [00:18<00:00,  3.72s/it]\n"
     ]
    },
    {
     "name": "stdout",
     "output_type": "stream",
     "text": [
      "{'accuracy': 0.9111999999999998, 'f1': 0.7002, 'precision': 0.932}\n",
      "#633\n"
     ]
    },
    {
     "name": "stderr",
     "output_type": "stream",
     "text": [
      "100%|█████████████████████████| 5/5 [00:16<00:00,  3.33s/it]\n"
     ]
    },
    {
     "name": "stdout",
     "output_type": "stream",
     "text": [
      "{'accuracy': 0.913, 'f1': 0.6314, 'precision': 0.7266}\n",
      "#634\n"
     ]
    },
    {
     "name": "stderr",
     "output_type": "stream",
     "text": [
      "100%|█████████████████████████| 5/5 [00:27<00:00,  5.54s/it]\n"
     ]
    },
    {
     "name": "stdout",
     "output_type": "stream",
     "text": [
      "{'accuracy': 0.9110000000000001, 'f1': 0.6854, 'precision': 0.6920000000000001}\n",
      "#635\n"
     ]
    },
    {
     "name": "stderr",
     "output_type": "stream",
     "text": [
      "100%|█████████████████████████| 5/5 [00:14<00:00,  2.92s/it]\n"
     ]
    },
    {
     "name": "stdout",
     "output_type": "stream",
     "text": [
      "{'accuracy': 0.8668000000000001, 'f1': 0.3484, 'precision': 1.0}\n",
      "#636\n"
     ]
    },
    {
     "name": "stderr",
     "output_type": "stream",
     "text": [
      "100%|█████████████████████████| 5/5 [00:30<00:00,  6.10s/it]\n"
     ]
    },
    {
     "name": "stdout",
     "output_type": "stream",
     "text": [
      "{'accuracy': 0.9625999999999999, 'f1': 0.9032, 'precision': 0.9149999999999998}\n",
      "#637\n"
     ]
    },
    {
     "name": "stderr",
     "output_type": "stream",
     "text": [
      "100%|█████████████████████████| 5/5 [00:24<00:00,  4.86s/it]\n"
     ]
    },
    {
     "name": "stdout",
     "output_type": "stream",
     "text": [
      "{'accuracy': 0.8688, 'f1': 0.2984, 'precision': 0.9444000000000001}\n",
      "#638\n"
     ]
    },
    {
     "name": "stderr",
     "output_type": "stream",
     "text": [
      "100%|█████████████████████████| 5/5 [00:30<00:00,  6.18s/it]"
     ]
    },
    {
     "name": "stdout",
     "output_type": "stream",
     "text": [
      "{'accuracy': 0.8988000000000002, 'f1': 0.0, 'precision': 0.0}\n"
     ]
    },
    {
     "name": "stderr",
     "output_type": "stream",
     "text": [
      "\n"
     ]
    }
   ],
   "source": [
    "total_folds = 5\n",
    "batch_size = 32\n",
    "metrics = {}\n",
    "\n",
    "for nr in existing_nrs:\n",
    "    print(f'#{nr}')\n",
    "    pos = get_positives(instances, nr)\n",
    "    neg = get_negatives(instances, nr)\n",
    "    dataset = data.get_dataset(pos, neg, get_others(sentences, pos), models.bert_tokenizer, 64, 3*len(pos)/len(neg))\n",
    "    indices = list(range(len(dataset)))\n",
    "    kf = KFold(n_splits=total_folds, shuffle=True, random_state=26)\n",
    "    accumulated_metrics = defaultdict(list)\n",
    "    for fold_index in tqdm(range(total_folds)):\n",
    "        train_indices, val_indices = list(kf.split(indices))[fold_index]\n",
    "        train_dataloader = DataLoader(Subset(dataset, train_indices), batch_size=batch_size, shuffle=True)\n",
    "        val_dataloader = DataLoader(Subset(dataset, val_indices), batch_size=batch_size, shuffle=False)\n",
    "    \n",
    "        classifier=models.RuleDetector(models.bert_encoder).to(models.device)\n",
    "        _, val_metrics = models.train(classifier, train_dataloader, val_dataloader, verbose=False)\n",
    "        if val_metrics['precision'] < 0.8: # try again in those extreme cases\n",
    "            _, val_metrics = models.train(classifier, train_dataloader, val_dataloader, verbose=False)\n",
    "        for metric_name, metric_value in val_metrics.items():\n",
    "            accumulated_metrics[metric_name].append(metric_value)\n",
    "    \n",
    "    average_metrics = {metric_name: sum(metric_values) / len(metric_values) for metric_name, metric_values in accumulated_metrics.items()}\n",
    "    metrics[nr] = average_metrics\n",
    "    print(average_metrics)"
   ]
  },
  {
   "cell_type": "code",
   "execution_count": 10,
   "id": "812b2498-2e90-4aea-bdc1-6b2103f65552",
   "metadata": {
    "scrolled": true
   },
   "outputs": [
    {
     "name": "stdout",
     "output_type": "stream",
     "text": [
      "Can use the affirmative form with 'like'. \n",
      "1.0\n",
      "Can use 'would like to invite' to make invitations.\n",
      "1.0\n",
      "Can use 'would like' to talk about wishes and preferences.\n",
      "1.0\n",
      "Can use the affirmative form.\n",
      "1.0\n",
      "Can use the negative forms.\n",
      "1.0\n",
      "Can use the question form 'would you like'.\n",
      "1.0\n",
      "Can use 'would' to talk about imagined situations.\n",
      "0.5\n",
      "Can use 'it would be' to make suggestions.\n",
      "0.3333333432674408\n",
      "Can use 'would' with a wide range of verbs to talk about wishes and preferences.\n",
      "1.0\n",
      "Can use 'would' in the main clause of a conditional sentence to talk about an imagined situation, often in the context of advice or opinion-giving.\n",
      "1.0\n",
      "Can use 'would have' + '-ed'.\n",
      "1.0\n",
      "Can use 'would not have' + '-ed' or 'wouldn’t have' + '-ed'\n",
      "1.0\n",
      "Can use question forms.\n",
      "0.75\n",
      "Can use an limited range of adverbs with 'would', including 'really', 'probably', 'certainly', 'definitely'.► adverbs\n",
      "1.0\n",
      "Can use an increasing range of adverbs with 'would', including 'strongly', 'easily', 'especially', 'actually', 'absolutely', 'gladly'  ► adverbs\n",
      "1.0\n",
      "Can use a wide range of adverbs with 'would', including 'undoubtedly', 'possibly', 'normally', 'personally', 'eventually', 'obviously', 'significantly', 'inevitably'. ► adverbs\n",
      "0.5\n",
      "Can use 'would' to talk about the future in the past.\n",
      "1.0\n",
      "Can use 'would' to talk about imagined situations in the past. ► conditionals\n",
      "1.0\n",
      "Can use 'would' with verbs such as 'advise', 'imagine', 'recommend', 'say' to be less direct.\n",
      "1.0\n",
      "Can use 'would' to make polite requests, often in the fixed expression 'would you mind'.\n",
      "0.75\n",
      "Can use 'would' as the past form of 'will' in reported clauses.\n",
      "0.6666666865348816\n",
      "Can use the negative forms of 'would' to talk about willingness in the past.\n",
      "1.0\n",
      "Can use 'would' to talk about habitual actions and events in the past.\n",
      "0.5\n",
      "Can form conditional subordinate clause with 'if' + present simple.\n",
      "1.0\n",
      "Can use 'if' + present simple, with an imperative in the main clause.\n",
      "1.0\n",
      "Can use 'if' + present simple with present simple, 'can' or imperative in the main clause to refer to things that are true now or very likely to happen. \n",
      "1.0\n",
      "Can use an 'if-' clause ('if you want', 'like', 'prefer') to soften the directness of imperatives, offers or suggestions.\n",
      "1.0\n",
      "Can use 'if' + present simple to introduce a possible future condition, with 'will' in the main clause to talk about a likely result. \n",
      "0.6666666865348816\n",
      "Can form conditional subordinate clauses with 'if' + past simple, and would in the main clause, to talk about an imagined situation, often in the context of advice or opinion-giving. \n",
      "1.0\n",
      "Can form conditional subordinate clauses with 'if' + past perfect simple and 'would have' + '-ed' in the main clause, to talk about imagined situations in the past, often with regret.\n",
      "1.0\n",
      "Can form negative statements of main verb 'be', with contracted and uncontracted forms.\n",
      "0.5\n",
      "Can form negative statements of main verbs in the present simple with 'don't' + main verb. ► present simple ► can\n",
      "1.0\n",
      "Can use negative form 'can't'.\n",
      "1.0\n",
      "Can form negative statements of main verbs in the present continuous and present perfect with 'be' and 'have' + 'not/n't'.  ► present continuous ► present perfect\n",
      "0.800000011920929\n",
      "Can form negative statements of main verbs in the past simple with 'didn't' + main verb. ► past simple\n",
      "1.0\n",
      "Can form negative imperatives of main verbs with 'don't' + main verb. ► Clauses: imperatives\n",
      "1.0\n",
      "Can form negative statements of main verbs in the past continuous and past perfect with auxiliary verbs 'be' and 'have' + 'not/n't'. ► past continuous ► past perfect\n",
      "1.0\n",
      "Can use the negative forms of mental process verbs ('I don't think', 'I don't believe') followed by a complement clause, where the negative form is in the mental process verb rather than the complement clause.\n",
      "1.0\n",
      "Can use negative question forms in main clauses and question tags. ► questions\n",
      "1.0\n",
      "Can use uncontracted 'not' for emphasis or in formal contexts.\n",
      "0.6666666865348816\n",
      "Can use 'never' in front position followed by an inverted subject (most commonly 'I') + main verb, to give focus. \n",
      "1.0\n",
      "Can use 'neither ... nor' to connect two words, phrases or clauses, often to give emphasis or focus.\n",
      "1.0\n",
      "Can use negative pronoun 'none' to substitute for subject and object pronouns or noun phrases. ► pronouns: substitution\n",
      "0.3333333432674408\n",
      "Can use 'not with indefinite pronouns 'everyone' and 'everything' and determiners 'every', 'all'.\n",
      "1.0\n",
      "Can use auxiliary 'do' + inverted subject after 'not only', to give focus.\n",
      "1.0\n",
      "Can use 'not a' + noun, often with a following  passive structure, for emphasis.\n",
      "1.0\n",
      "Can use a negative imperative form with 'you' to give a warning or reprimand.\n",
      "1.0\n",
      "Can use 'Neither' or 'Nor' + with 'do' or 'be' + inverted subject to add to a previous related negative clause, to focus on an additional negative factor.\n",
      "1.0\n",
      "Can use the irregular superlative adjective 'best' in the phrase 'my best friend'.\n",
      "1.0\n",
      "Can form a limited range of complex noun phrases with a superlative adjective  + prepositional phrase, to talk about something unique.► noun phrases ►  clauses: comparison\n",
      "1.0\n",
      "Can use 'the best' before a noun + present perfect to talk about a unique experience.\n",
      "1.0\n",
      "Can use '(one of) the' with an increasing range of superlative adjectives without a following noun, when the noun is understood.\n",
      "0.6666666865348816\n",
      "Can use a postmodifier to make the superlative stronger in the structure superlative + postmodifier + noun. \n",
      "1.0\n",
      "Can use 'the slightest', 'the faintest' with a specific range of nouns to express the least amount possible, most frequently following a negative verb form.\n",
      "1.0\n"
     ]
    }
   ],
   "source": [
    "# check on examples\n",
    "for nr in existing_nrs:\n",
    "    classifier = models.load_classifier(nr, \"corpus_training\")\n",
    "    rule = egp[egp['#']==nr].iloc[0]\n",
    "    examples = rule['Example'].split(\"\\n\\n\")\n",
    "    print(rule['Can-do statement'])\n",
    "    print(((models.probe_model(classifier, examples)[0]>0.5).sum()/len(examples)).item())"
   ]
  },
  {
   "cell_type": "code",
   "execution_count": 12,
   "id": "5e7f384f-9c13-446c-945c-ea9e6df8d333",
   "metadata": {},
   "outputs": [
    {
     "name": "stderr",
     "output_type": "stream",
     "text": [
      "[nltk_data] Downloading package brown to\n",
      "[nltk_data]     /cluster/scratch/dglandorf/cache...\n",
      "[nltk_data]   Package brown is already up-to-date!\n",
      "[nltk_data] Downloading package reuters to\n",
      "[nltk_data]     /cluster/scratch/dglandorf/cache...\n",
      "[nltk_data]   Package reuters is already up-to-date!\n"
     ]
    }
   ],
   "source": [
    "tc = data.TextCorpora(['brown', 'reuters'])\n",
    "dc = data.CMUDoG()\n",
    "threshold=0.5\n",
    "test_sentences = tc.get_all_sentences() + dc.get_all_sentences()\n",
    "random.shuffle(test_sentences)\n",
    "max_batches = 500\n",
    "batch_size = 64\n",
    "test_inputs = models.bert_tokenizer(test_sentences[:max_batches*batch_size], return_tensors='pt', max_length=64, padding='max_length', truncation=True)\n",
    "test_dataset = TensorDataset(test_inputs['input_ids'], test_inputs['attention_mask'])\n",
    "test_dataloader = DataLoader(test_dataset, batch_size=64, shuffle=False)"
   ]
  },
  {
   "cell_type": "code",
   "execution_count": 13,
   "id": "a32c0d8c-b163-4b7a-a36c-84c552acd1b9",
   "metadata": {
    "scrolled": true
   },
   "outputs": [
    {
     "name": "stdout",
     "output_type": "stream",
     "text": [
      "#57: FORM: Can use the irregular superlative adjective 'best' in the phrase 'my best friend'. (ADJECTIVES: superlatives)\n",
      "She's my best friend. \n",
      "\n",
      "Shahin is my best friend.\n"
     ]
    },
    {
     "name": "stderr",
     "output_type": "stream",
     "text": [
      "100%|██████████████████████████████████████████████████████████████████| 500/500 [00:42<00:00, 11.76it/s]\n"
     ]
    },
    {
     "name": "stdin",
     "output_type": "stream",
     "text": [
      "His business partner is also his best friend and the fbi wants them to turn eachother 1\n"
     ]
    },
    {
     "name": "stdout",
     "output_type": "stream",
     "text": [
      "#58: FORM/USE: Can form a limited range of complex noun phrases with a superlative adjective  + prepositional phrase, to talk about something unique.► noun phrases ►  clauses: comparison (ADJECTIVES: superlatives)\n",
      "It is the biggest zoo in the world. \n",
      "\n",
      "They were the happiest days of my life.\n"
     ]
    },
    {
     "name": "stderr",
     "output_type": "stream",
     "text": [
      " 29%|███████████████████▎                                              | 146/500 [00:12<00:30, 11.74it/s]\n"
     ]
    },
    {
     "name": "stdin",
     "output_type": "stream",
     "text": [
      "thanos is one of the powerful villain in marvel 1\n",
      "It is the best animated musical from Disney in a whil e 2\n",
      "They have the best personalities of all the heroes to be honest 2\n",
      "With Gordon being one of the \"few\" honest cops left in Gotham, it sure drive home how alone Batman must feel with all of these questions about who is actually any good 1\n",
      "I think this movie has the record for the most \"fucks\" in a film 2\n",
      "Brazil , whose 108 billion dlr foreign debt is the largest in the developing world , has been under pressure from official and private creditors to work out an economic adjustment program with the IMF to combat rocketing inflation and foreign payments problems . 2\n",
      "Among third country destinations , the Soviet Union was the largest costumer in January , taking 11 , 985 tonnes compared with nil in December and 26 , 074 tonnes in January 1986 . 2\n",
      "hahaha not many people imagine their life is over after a break up and then go on to become one of the most famous people in the world 2\n",
      "Situated in a region of some of the loveliest mountain scenery in the country , the school buildings are located amid open fields and farm lands . 2\n",
      "Phelps Dodge , which ranks as the largest copper producer in the U . S ., last year paid 240 mln dlrs for Columbian Chemicals Co , a maker of carbon black which is used in rubber and tires among other products . 2\n",
      "it's also one the best movies of hollywood 2\n",
      "Carl says it is the greatest poem ever written to the guitar because he has never heard of any other poem to that subtle instrument . 2\n",
      "OIL ANALYST SEES PAPUA NEW GUINEA AS GOOD PROSPECT Papua New Guinea ( PNG ) provides the most exciting new prospect in the Asia - Pacific region for oil production , energy analyst Fereidun Fesharaki said here . 2\n",
      "One of the largest crowds in the club's history turned out to pay tribute to Mrs. Self and her service . 2\n",
      "Pennsylvania Avenue , named for one of the original 13 states , perhaps is not the most impressive street in the District of Columbia from a commercial standpoint . 2\n",
      "He's one of the best actors for super hero movies because he doesn't take himself too seriously. 2\n",
      "So Hiccup and his friends decide they are going to help out Hiccups friendly Dragon and they all learn how to train awkward dragons and go off to fight the biggest Dragon which they call Red Death. 1\n",
      "Metal Traders said Asturiana has the largest zinc smelting capacity in Europe -- nearly 200 , 000 tonnes a year of 99 . 995 pct high - grade zinc , at Aviles in northern Spain . 2\n",
      "The place wasn't particularly busy at that time of night , and the girl who was waiting on me , who was clothed in the tightest-fitting pair of slacks I had ever seen on a woman and a sweater that showed everything there was -- and there was lots of it -- wanted to be sociable . 1\n",
      "It also helped the DCEU to push past $3 billion at the worldwide box office, making it the fourteenth-highest-grossing film franchise of all time. 2\n"
     ]
    },
    {
     "name": "stdout",
     "output_type": "stream",
     "text": [
      "#70: FORM/USE: Can use 'the best' before a noun + present perfect to talk about a unique experience. (ADJECTIVES: superlatives)\n",
      "It was the best birthday present I have ever had.  \n",
      "\n",
      "That is the best game I've ever played.\n"
     ]
    },
    {
     "name": "stderr",
     "output_type": "stream",
     "text": [
      "100%|██████████████████████████████████████████████████████████████████| 500/500 [00:42<00:00, 11.77it/s]\n"
     ]
    },
    {
     "name": "stdin",
     "output_type": "stream",
     "text": [
      "It has been a long time since I have seen the film, is there a reason to see it again ? 1\n",
      "It ' s been one of the dullest corporate battles I ' ve seen ,\" said one analyst . 2\n",
      "The place wasn't particularly busy at that time of night , and the girl who was waiting on me , who was clothed in the tightest-fitting pair of slacks I had ever seen on a woman and a sweater that showed everything there was -- and there was lots of it -- wanted to be sociable . 2\n",
      "It was the fourteenth feature film produced by Pixar, and is a prequel to\n",
      "2001's Monsters, Inc., marking the first time Pixar has made a prequel film. 2\n",
      "The fear of disease was formerly very much the kind of fear I have tried to describe . 1\n",
      "In response , the industry allowed the discovery of the motion picture as a form of fiction and thus gave the movies the essential form they have had to this day . 1\n",
      "He founded the biggest social network the world has ever seen, but he seems like a person who people hate. 2\n",
      "This is the only movie I have seen of his, but it was definitely an unusual love story 1\n",
      "It was the most important-looking cradle he had ever seen . 2\n",
      "Now , riding this hospital bus , feeling isolated and utterly alone , I knew that she was genuine and unique , quite unlike any girl I had known before . 1\n",
      "The biggest nuclear device the United States has exploded measured some 15 megatons , although our B-52s are said to be carrying two 20-megaton bombs apiece . 2\n",
      "Along these lines , the particular point that sensitivity in literature leads to sensitivity in human relations would require more proof than I have seen . 1\n"
     ]
    },
    {
     "name": "stdout",
     "output_type": "stream",
     "text": [
      "#75: FORM: Can use '(one of) the' with an increasing range of superlative adjectives without a following noun, when the noun is understood. (ADJECTIVES: superlatives)\n",
      "There have been so many embarrassing moments in my life. It's very difficult to pick the most embarrassing. \n",
      "\n",
      "I'm not quite sure if I agree that the car is the greatest danger to human life today, but it sure is one of the greatest. \n",
      "\n",
      "That period of my life was one of the worst .\n"
     ]
    },
    {
     "name": "stderr",
     "output_type": "stream",
     "text": [
      " 63%|█████████████████████████████████████████▊                        | 317/500 [00:26<00:15, 11.81it/s]\n"
     ]
    },
    {
     "name": "stdin",
     "output_type": "stream",
     "text": [
      "uu...  not the highest rating. 1\n",
      "In searching for clues which might lead us to a fresh apprehension of the reality of spirit , the close connection between spirit and community is likely to prove the most fruitful . 2\n",
      "His performance of a wild and egotistical playboy was very spot on and amazing to watch play out on the screen, out of all the performances he definitely is the most memorable of all of them. 2\n",
      "It also lets you see the light and dark side behind his mind and the villians who try to teach him even the best people can have the darkest intentions 1\n",
      "Spielberg at his dullest 1\n",
      "The place wasn't particularly busy at that time of night , and the girl who was waiting on me , who was clothed in the tightest-fitting pair of slacks I had ever seen on a woman and a sweater that showed everything there was -- and there was lots of it -- wanted to be sociable . 1\n",
      "Almost every official who reflects on it thinks this movement of Americans to canvas dwellings opens one of the most promising of all outdoor markets . 2\n",
      "metacritic score was the lowest, it seems. 2\n",
      "Behind this reply , and its many variations , is the ever-present budget problem all libraries must face , from the largest to the smallest . 2\n",
      "id like to meet most of them however i think Captain America would be the most interesting 2\n",
      "I liked the littlest one the most. 2\n",
      "The new rate , if unmatched by other banks , will be the lowest among Australian trading banks . 2\n",
      "it was one of Spielbergs best. 2\n",
      "The setting was the highest since October 8 as gold built on Friday ' s gains , which had been based on the weakness of the dollar and fears of a trade war between the United States and Japan . 2\n",
      "What about Dunkirk did you find the most interesting? 1\n",
      "This is the only movie I have seen of his, but it was definitely an unusual love story 1\n",
      "If you would like to start your tour in Italy , where the rental fees are actually the lowest in Europe , Fiats in all sizes are available , as are Alfa Romeo Giulietta models . 2\n",
      "He's one of the funniest. 2\n",
      "The others are good and I like them, but the first movies are usually always the best. 2\n"
     ]
    },
    {
     "name": "stdout",
     "output_type": "stream",
     "text": [
      "#77: FORM/USE: Can use a postmodifier to make the superlative stronger in the structure superlative + postmodifier + noun.  (ADJECTIVES: superlatives)\n",
      "What is more, in order to increase sales of the new model to the highest possible level, the possibility of entering the Asian markets should be considered. \n",
      "\n",
      "I am fond of the idea of working in Central London. It absolutely is the best possible location , I cannot deny that. \n",
      "\n",
      "It is not the shortest possible route, but the easiest for people with luggage.\n"
     ]
    },
    {
     "name": "stderr",
     "output_type": "stream",
     "text": [
      "100%|██████████████████████████████████████████████████████████████████| 500/500 [00:42<00:00, 11.78it/s]\n"
     ]
    },
    {
     "name": "stdin",
     "output_type": "stream",
     "text": [
      "Talks with the possible bidder are expected to be concluded shortly , Becor said , adding its board will evaluate all then existing offers at that time . 2\n",
      "The form itself is stored in the next available cells of the W-region , beginning in cell Af . 2\n",
      "These gentlemen are calling for a resumption of testing -- in the atmosphere -- on the greatest possible scale , all in the name of national security . 2\n",
      "Even with all possible precaution , homecomings are usually rather cruel and sad , and only the perpetually ebullient and the continually optimistic are made happy by them . 1\n",
      "During that period no Zambian copper had been shipped through Zimbabwe to the Mozambican port of Beira - the only other available route which avoids South Africa , Mapara said . 1\n",
      "Since only banks can buy another bank , the only other possible acquirors would be a foreign bank , Alpert said . 2\n",
      "A cursory survey of available material indicates a high rate of illegitimate births occurring to parents who have a close consanguineous relationship . 1\n",
      "He urged creation of a task force to be headed by former Federal Reserve chairman Paul Volcker to coordinate international credit and montary policies among major nations and stabilize interest rates at the lowest possible levels . 2\n",
      "Our experience has taught us that it pays to buy the best equipment possible , from pipes to brushes . 1\n",
      "There has been a tendency on the part of many American linguists to assume that a phonemic transcription will automatically be the best possible orthography and that the only real problem will then be the social one of securing acceptance . 2\n",
      "TransCanada PipeLines Ltd & lt ; TRP > yesterday bid 4 . 30 billion dlrs for Dome , but Dome said it was discontinuing talks with TransCanada and was considering a proposal from another company and was also talking with another possible buyer , both rumored to be offshore . 1\n",
      "Critical Response \n",
      "\n",
      "● \"surrounds his audience with chaos and horror from the outset, and amazing images and \n",
      "\n",
      "dazzlingly accomplished set pieces on a huge 70mm screen, particularly the pontoon \n",
      "\n",
      "crammed with soldiers extending into the churning sea, exposed to enemy aircraft\" \n",
      "\n",
      "● \"an impressionist masterpiece\" that was \"deeply moving\" but without \"manufactured \n",
      "\n",
      "sentimentality or false heroics.\" 1\n",
      "Vogel said Bangemann had pledged that everything possible would be done to minimize the effects of reduced coal and steel production on the workforces and regions concerned . 1\n",
      "The aim is to collect a very broad range of physical , chemical , morphological , and structural data for crystals on an encyclopedic scale and to seek all possible useful and revealing correlations of properties with internal structure . 1\n"
     ]
    },
    {
     "name": "stdout",
     "output_type": "stream",
     "text": [
      "#79: FORM/USE: Can use 'the slightest', 'the faintest' with a specific range of nouns to express the least amount possible, most frequently following a negative verb form. (ADJECTIVES: superlatives)\n",
      "I should not end my relationship with Alex by phone, without giving him the slightest explanation. \n",
      "\n",
      "They act as consumers, nothing more, and never show the slightest interest in learning and sharing opinions with the locals. \n",
      "\n",
      "I haven't the faintest idea.\n"
     ]
    },
    {
     "name": "stderr",
     "output_type": "stream",
     "text": [
      "100%|██████████████████████████████████████████████████████████████████| 500/500 [00:42<00:00, 11.77it/s]\n"
     ]
    },
    {
     "name": "stdin",
     "output_type": "stream",
     "text": [
      "These gentlemen are calling for a resumption of testing -- in the atmosphere -- on the greatest possible scale , all in the name of national security . 1\n",
      "To his faint surprise Russ held up his hand . 1\n",
      "Parker could weep -- and he wept astonishingly often and on the slightest provocation -- but the psychology of those tears was entirely compatible with a remorseless readiness to massacre his opponents . 2\n",
      "He urged creation of a task force to be headed by former Federal Reserve chairman Paul Volcker to coordinate international credit and montary policies among major nations and stabilize interest rates at the lowest possible levels . 1\n",
      "There has been a tendency on the part of many American linguists to assume that a phonemic transcription will automatically be the best possible orthography and that the only real problem will then be the social one of securing acceptance . 1\n"
     ]
    }
   ],
   "source": [
    "hits_path = '../data/corpus_validation_hits.json'\n",
    "coded_instances = pd.DataFrame(columns=['#', 'sentence', 'correct', 'score', 'max_token']) if not os.path.exists(hits_path) else pd.read_json(hits_path)\n",
    "coded_instances['correct'] = coded_instances['correct'].astype(bool)\n",
    "#coded_instances = coded_instances[coded_instances['#']!=622]\n",
    "\n",
    "for nr in existing_nrs:\n",
    "    if nr>100: continue\n",
    "    rule = egp[egp['#']==nr].iloc[0]\n",
    "    if len(coded_instances[coded_instances['#']==nr]) >= 20: continue\n",
    "    print(f\"#{nr}: {rule['Type']}: {rule['Can-do statement']} ({rule['SuperCategory']}: {rule['SubCategory']})\")\n",
    "    print(rule['Example'])\n",
    "    classifier = models.load_classifier(nr, \"corpus_training\")\n",
    "\n",
    "    scores, tokens = models.score_corpus(classifier, test_dataloader, max_positive=25, max_batches=max_batches, threshold=threshold)\n",
    "    hits = [(score, token, sample) for score, token, sample in zip(scores, tokens, test_sentences[:len(scores)]) if score > threshold]\n",
    "    for score, token, sample in hits[:20]:\n",
    "        if sample in list(coded_instances[coded_instances['#']==nr]['sentence']): continue\n",
    "        user_response = input(f\"{sample}\")\n",
    "        new_row = pd.DataFrame({'#': [nr],\n",
    "             'sentence': [sample],\n",
    "             'correct': [user_response == '2'],\n",
    "             'score': [score],\n",
    "             'max_token': [token]})\n",
    "        coded_instances = pd.concat([coded_instances, new_row], ignore_index=True)\n",
    "        coded_instances.to_json(hits_path)"
   ]
  },
  {
   "cell_type": "code",
   "execution_count": 116,
   "id": "dda6feef-d265-4035-8c9f-b50d1dc5484b",
   "metadata": {},
   "outputs": [],
   "source": [
    "coded_instances = pd.DataFrame(columns=['#', 'sentence', 'correct', 'score', 'max_token']) if not os.path.exists(hits_path) else pd.read_json(hits_path)\n",
    "coded_instances['correct'] = coded_instances['correct'].astype(bool)"
   ]
  },
  {
   "cell_type": "code",
   "execution_count": 69,
   "id": "2b88de9d-14b4-439d-8357-4a80a58758a4",
   "metadata": {},
   "outputs": [],
   "source": [
    "import json\n",
    "metrics_path = \"../results/corpus_training_metrics.json\"\n",
    "with open(metrics_path, 'w') as f:\n",
    "    json.dump(metrics, f)"
   ]
  },
  {
   "cell_type": "code",
   "execution_count": 70,
   "id": "bb8b3ef0-d5bf-4c6a-8854-8aad0ff00a6f",
   "metadata": {},
   "outputs": [
    {
     "data": {
      "image/png": "[encoded data removed]",
      "text/plain": [
       "<Figure size 800x500 with 2 Axes>"
      ]
     },
     "metadata": {},
     "output_type": "display_data"
    }
   ],
   "source": [
    "with open(metrics_path, 'r') as f:\n",
    "    metrics = json.load(f)\n",
    "correct_per_rule = coded_instances.groupby('#')['correct'].mean()\n",
    "def plot_histogram(ax, data):\n",
    "    sns.histplot(ax=ax, data=data, bins=10, kde=True, color=\"skyblue\", edgecolor='black', alpha=0.7, legend=False)\n",
    "    ax.set_ylabel(f\"Number of rules / {len(correct_per_rule)}\")\n",
    "    ax.set_xlabel(\"Metric\")\n",
    "    ax.xaxis.set_major_formatter(FuncFormatter(lambda x, _: f'{x*100:.0f}%'))\n",
    "    ax.set_xlim(0, 1)\n",
    "\n",
    "fig, axs = plt.subplots(2, 1, figsize=(8, 5))\n",
    "plot_histogram(axs[0], [m['precision'] for m in metrics.values()])\n",
    "axs[0].set_title(\"Distribution of Rule Detection Precision on Validation Data\")\n",
    "plot_histogram(axs[1], list(correct_per_rule))\n",
    "axs[1].set_title(\"Distribution of Rule Detection Precisions on Unseen Corpus\")\n",
    "plt.tight_layout()\n",
    "plt.show()"
   ]
  },
  {
   "cell_type": "code",
   "execution_count": 77,
   "id": "27dee7dd-e20a-4cb7-a495-a94979ab343b",
   "metadata": {},
   "outputs": [],
   "source": [
    "del metrics['617']"
   ]
  },
  {
   "cell_type": "code",
   "execution_count": 78,
   "id": "2dde9d5c-142b-4cf4-8045-d97eaad7e05a",
   "metadata": {},
   "outputs": [
    {
     "data": {
      "image/png": "[encoded data removed]",
      "text/plain": [
       "<Figure size 1000x600 with 1 Axes>"
      ]
     },
     "metadata": {},
     "output_type": "display_data"
    }
   ],
   "source": [
    "df = pd.DataFrame({'Validation Set': [m['precision'] for m in metrics.values()], 'Corpus': list(correct_per_rule)})\n",
    "ax = df.plot(kind='bar', figsize=(10, 6), alpha=0.75, edgecolor='black')\n",
    "ax.set_xlabel(\"Rule Index\")\n",
    "ax.set_ylabel(\"Metric Value\")\n",
    "ax.set_title(\"Comparison of Precision in Validation Set and on unseen Corpus\")\n",
    "ax.set_xticklabels(correct_per_rule.index, rotation=45)\n",
    "ax.set_ylim(0, 1)\n",
    "ax.yaxis.set_major_formatter(FuncFormatter(lambda y, _: f'{y*100:.0f}%'))\n",
    "\n",
    "plt.tight_layout()\n",
    "plt.show()"
   ]
  },
  {
   "cell_type": "code",
   "execution_count": null,
   "id": "97f52e80-ca35-44ea-b6d5-ba7cf60673e0",
   "metadata": {},
   "outputs": [],
   "source": []
  }
 ],
 "metadata": {
  "kernelspec": {
   "display_name": "Python 3 (ipykernel)",
   "language": "python",
   "name": "python3"
  },
  "language_info": {
   "codemirror_mode": {
    "name": "ipython",
    "version": 3
   },
   "file_extension": ".py",
   "mimetype": "text/x-python",
   "name": "python",
   "nbconvert_exporter": "python",
   "pygments_lexer": "ipython3",
   "version": "3.11.2"
  }
 },
 "nbformat": 4,
 "nbformat_minor": 5
}
