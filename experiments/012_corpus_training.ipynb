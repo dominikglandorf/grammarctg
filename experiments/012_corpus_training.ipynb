{
 "cells": [
  {
   "cell_type": "code",
   "execution_count": 1,
   "id": "c4f87740-f21a-48e3-bfc0-2ce119b2cdff",
   "metadata": {},
   "outputs": [
    {
     "name": "stderr",
     "output_type": "stream",
     "text": [
      "Some weights of the model checkpoint at bert-base-uncased were not used when initializing BertModel: ['cls.seq_relationship.bias', 'cls.predictions.transform.LayerNorm.weight', 'cls.predictions.transform.dense.weight', 'cls.predictions.decoder.weight', 'cls.seq_relationship.weight', 'cls.predictions.transform.dense.bias', 'cls.predictions.transform.LayerNorm.bias', 'cls.predictions.bias']\n",
      "- This IS expected if you are initializing BertModel from the checkpoint of a model trained on another task or with another architecture (e.g. initializing a BertForSequenceClassification model from a BertForPreTraining model).\n",
      "- This IS NOT expected if you are initializing BertModel from the checkpoint of a model that you expect to be exactly identical (initializing a BertForSequenceClassification model from a BertForSequenceClassification model).\n",
      "[nltk_data] Downloading package punkt to\n",
      "[nltk_data]     /cluster/home/dglandorf/nltk_data...\n",
      "[nltk_data]   Package punkt is already up-to-date!\n"
     ]
    }
   ],
   "source": [
    "import re\n",
    "import os\n",
    "import random\n",
    "import numpy as np\n",
    "from torch import tensor, Tensor\n",
    "from torch.utils.data import DataLoader, TensorDataset\n",
    "import pandas as pd\n",
    "\n",
    "import sys\n",
    "sys.path.append('../source')\n",
    "import models\n",
    "import data\n",
    "import importlib\n",
    "#importlib.reload(data)"
   ]
  },
  {
   "cell_type": "code",
   "execution_count": 2,
   "id": "961585f3-8a6e-4e10-b0f3-e16a34a8eee9",
   "metadata": {},
   "outputs": [
    {
     "name": "stderr",
     "output_type": "stream",
     "text": [
      "100%|███████████████████████████████████████████████████████████████████████████████████████████████████████████████| 4/4 [00:36<00:00,  9.16s/it]\n"
     ]
    }
   ],
   "source": [
    "# load corpus sentences and prepare dataloader\n",
    "sentences = data.get_mixed_sentences(1000000) # get all sentences\n",
    "\n",
    "# initialize corpus to check against\n",
    "max_batches = 250\n",
    "batch_size = 64\n",
    "encoded_inputs = models.bert_tokenizer(sentences[:8*max_batches*batch_size], return_tensors='pt', max_length=64, padding='max_length', truncation=True)\n",
    "encoded_inputs['sentences'] = sentences[:8*max_batches*batch_size]"
   ]
  },
  {
   "cell_type": "code",
   "execution_count": 3,
   "id": "aa30f090-b507-4f11-bd5c-fc545d061952",
   "metadata": {},
   "outputs": [],
   "source": [
    "# output dataset\n",
    "output_path = '../data/annotated_corpus.json'\n",
    "instances = pd.DataFrame(columns=['#', 'sentence', 'positive']) if not os.path.exists(output_path) else pd.read_json(output_path)\n",
    "instances['positive'] = instances['positive'].astype(bool)\n",
    "\n",
    "egp_gpt = pd.read_json(\"../data/egp_gpt35.json\")"
   ]
  },
  {
   "cell_type": "code",
   "execution_count": 4,
   "id": "a87b1b7a-5687-4e04-88c2-2fae4eca2a16",
   "metadata": {},
   "outputs": [],
   "source": [
    "# manipulation functions for instance dataset\n",
    "def get_positives(instances, nr):\n",
    "    return list(instances[(instances['#'] == nr) & instances['positive']]['sentence'])\n",
    "def get_negatives(instances, nr):\n",
    "    return list(instances[(instances['#'] == nr) & ~instances['positive']]['sentence'])\n",
    "def get_others(sentences, matches):\n",
    "    return list(set(sentences).difference(set(matches)))\n",
    "def add_to_instances(sentences, nr, positive=True):\n",
    "    global instances\n",
    "    if isinstance(sentences, list):\n",
    "        for sentence in sentences:\n",
    "            new_row = pd.DataFrame({'#': [nr], 'sentence': [sentence], 'positive': [positive]})\n",
    "            instances = pd.concat([instances, new_row], ignore_index=True)\n",
    "    else:\n",
    "        new_row = pd.DataFrame({'#': [nr], 'sentence': [sentences], 'positive': [positive]})\n",
    "        instances = pd.concat([instances, new_row], ignore_index=True)\n",
    "    instances.to_json(output_path)\n",
    "# data preparation\n",
    "def get_dataset(positives, negatives, others, tokenizer, max_len, others_ratio = 3):\n",
    "    unique_positive = list(set(positives)) # remove duplicates\n",
    "    unique_negative = list(set(negatives).difference(set(positives))) # remove duplicates and positives\n",
    "    num_rands = int(others_ratio * len(unique_negative))\n",
    "    random.shuffle(others)\n",
    "    sentences = unique_positive + unique_negative + others[:num_rands]\n",
    "    labels = [1] * len(unique_positive) + [0] * len(unique_negative) + [0] * len(others[:num_rands])\n",
    "    print(sum(labels) / len(labels))\n",
    "    return data.SentenceDataset(sentences, labels, tokenizer, max_len)\n",
    "# model training\n",
    "def get_trained_classifer(positive, negative, others, classifier=models.RuleDetector(models.bert_encoder), num_epochs=3, ratio=3):\n",
    "    dataset = get_dataset(positive, negative, others, models.bert_tokenizer, 64, ratio) \n",
    "    train_dataloader, val_dataloader = data.get_loaders(dataset)\n",
    "    models.train(classifier, train_dataloader, val_dataloader, num_epochs)\n",
    "    return classifier"
   ]
  },
  {
   "attachments": {},
   "cell_type": "markdown",
   "id": "8a24689c-8004-4510-8cac-3e4dc0527c10",
   "metadata": {},
   "source": [
    "Find examples for would rules (616-638)"
   ]
  },
  {
   "cell_type": "code",
   "execution_count": 98,
   "id": "1ebc1b70-7706-4832-8f7c-9563d99b1f83",
   "metadata": {},
   "outputs": [],
   "source": [
    "nr = 637"
   ]
  },
  {
   "cell_type": "code",
   "execution_count": 99,
   "id": "76ade4eb-ecb4-4c8e-82d3-35b4e4a7c0ce",
   "metadata": {},
   "outputs": [],
   "source": [
    "pattern = r\"(would|'d).*(strongly|easily|especially|actually|absolutely|gladly)\"\n",
    "matches = [sentence for sentence in sentences if re.search(pattern, sentence)]\n",
    "random.shuffle(matches)\n",
    "candidates = iter(matches)\n",
    "threshold = min(len(matches), 50)"
   ]
  },
  {
   "cell_type": "code",
   "execution_count": 120,
   "id": "5be73f1c-78d9-49a1-9c6e-c06a429d215b",
   "metadata": {},
   "outputs": [],
   "source": [
    "gpt35 = egp_gpt[egp_gpt['#']==nr].iloc[0]\n",
    "matches = gpt35['augmented_examples'][:50]\n",
    "candidates = iter(matches)\n",
    "threshold = min(len(matches), 50)"
   ]
  },
  {
   "cell_type": "code",
   "execution_count": 15,
   "id": "a67436e5-e38b-4cea-a0ea-4c2a2986a8b7",
   "metadata": {},
   "outputs": [],
   "source": [
    "anti_pattern = r\"('d|would).*love\"\n",
    "anti_matches = [sentence for sentence in sentences if re.search(anti_pattern, sentence)]\n",
    "random.shuffle(anti_matches)\n",
    "candidates = iter(anti_matches)"
   ]
  },
  {
   "cell_type": "code",
   "execution_count": 121,
   "id": "35dc6144-dc05-4c0c-9e58-7947ea22613d",
   "metadata": {},
   "outputs": [
    {
     "name": "stdin",
     "output_type": "stream",
     "text": [
      "Based on his technical skills and innovative thinking, I would especially propose Andrew for the leadership position. 2\n",
      "Considering the economic situation, I would actually invest in real estate at this time. 2\n",
      "Despite the challenges, we would absolutely attend the event if given the opportunity. 2\n",
      "Given her expertise and dedication, she would gladly take on the new project. 2\n",
      "Knowing his attention to detail, I would strongly suggest Martin for the quality control role. 2\n",
      "Due to the company's ethical standards, they would easily reject the proposal. 2\n",
      "In light of recent developments, we would especially focus on customer satisfaction. 2\n",
      "Taking into account the market trends, I would actually diversify our investment portfolio. 2\n",
      "Knowing his love for adventure, he would absolutely enjoy the outdoor expedition. 2\n",
      "Given her experience and knowledge, she would gladly accept the teaching position. 2\n",
      "Reflecting on her talent and commitment, I would easily hire her for the creative role. 2\n",
      "Based on the team’s performance, I would especially reward them for their hard work. 2\n",
      "Considering the project requirements, we would actually meet the deadline. 2\n",
      "Despite the setbacks, we would absolutely overcome the challenges. 2\n",
      "Given the circumstances, I would strongly advise reconsidering the strategy. 2\n",
      "Taking into account the global impact, we would especially prioritize environmental initiatives. 2\n",
      "Reflecting on her talent and dedication, I would actually promote her to a managerial role. 2\n",
      "Considering her positivity and energy, she would gladly take on the leadership role. 2\n",
      "Based on the available resources, we would absolutely execute the plan. 2\n",
      "Knowing his resilience and determination, I would easily bet on his success. 2\n",
      "Despite the risks, we would strongly recommend the new marketing campaign. 2\n",
      "Given her adaptability, she would absolutely thrive in the dynamic work environment. 2\n",
      "Considering the potential outcomes, I would eagerly support the proposed changes. 2\n",
      "Based on his expertise and vision, I would easily entrust him with the project. 2\n",
      "Reflecting on the feedback, we would absolutely improve our customer service. 2\n",
      "I would actually appreciate it if you could complete the report by the end of the day. 2\n",
      "Even though it's a difficult decision, I would especially like you to consider all the options before making a choice. 2\n",
      "If you're feeling better today, I would absolutely love to go for a walk in the park. 2\n",
      "He would gladly accept the promotion if it were offered to him. 2\n",
      "She would strongly argue that the company needs to invest in new technology for better productivity. c\n"
     ]
    }
   ],
   "source": [
    "while 1==1: # len(get_positives(instances, nr)) < 1 * threshold or len(get_negatives(instances, nr)) < 2 * threshold:\n",
    "    if len(get_positives(instances, nr)) == 50: print(\"** REACHED 50 POSITIVES **\")\n",
    "    try:\n",
    "        candidate = next(candidates) \n",
    "    except StopIteration:\n",
    "        print(\"No candidates left.\")\n",
    "        break\n",
    "    if candidate in list(instances[instances['#'] == nr]['sentence']): continue\n",
    "    user_response = input(f\"{candidate}\")\n",
    "    if user_response == \"c\": break\n",
    "    if user_response == \"del\": \n",
    "        instances = instances.iloc[:-1]\n",
    "        continue\n",
    "    new_row = pd.DataFrame({'#': [nr], 'sentence': [candidate], 'positive': [True if user_response == '2' else False]})\n",
    "    instances = pd.concat([instances, new_row], ignore_index=True)\n",
    "    instances.to_json(output_path)"
   ]
  },
  {
   "cell_type": "code",
   "execution_count": 122,
   "id": "febdfd34-a456-4792-8c04-b2b8e4a0d132",
   "metadata": {},
   "outputs": [
    {
     "name": "stdout",
     "output_type": "stream",
     "text": [
      "Positive: 96, Negative: 248\n"
     ]
    }
   ],
   "source": [
    "print(f'Positive: {len(get_positives(instances, nr))}, Negative: {len(get_negatives(instances, nr))}')"
   ]
  },
  {
   "cell_type": "code",
   "execution_count": 163,
   "id": "8ee96c2a-4e83-4e9a-b990-612b2741fa47",
   "metadata": {},
   "outputs": [
    {
     "data": {
      "text/plain": [
       "['Would you guess Drake is actually his middle name?',\n",
       " 'Those waves would definitely work especially if they were a little bigger.',\n",
       " \"I wouldn't say that.They seem to be on good terms but actually they always speak ill of each other.\",\n",
       " 'I would love the bird attractions especially humming birds but not so much of the bumblebees unless they are sting-less lol.',\n",
       " \"Mountains would be so beautiful right now for me especially since I'm reading novels about warriors by Erin Hunter it would be peaceful to be in that setting.\",\n",
       " 'I feel like signaling drivers would be hard, especially since the methods of signaling them differ around the world.',\n",
       " '“But I don’t think I would ever say I’m absolutely, 100% done,” he added, noting the sudden successes of private spaceflight companies such as SpaceX.',\n",
       " \"However, I still wouldn't mind the cold if I lived in Canada, I actually think I would prefer it to my home country!\",\n",
       " 'I would assume that most truckers actually enjoy what they do.',\n",
       " \"I would say it's a personal voice, because people respond to such an article much more easily.\",\n",
       " 'What would be the earliest that I could actually move into my new house?',\n",
       " 'I would say four to five days a week, especially at night as it relaxes me before bed.',\n",
       " 'You would think it would be hard for students to get up so early with classes beginning at 8:00 AM, especially in the winter, but there are in fact, more People on the sports ground in the morning in the winter than in the summer.',\n",
       " 'coffee is my special drink, i would like to take it very strongly.what is the special item in your pastry items.',\n",
       " \"He said after the failed vote Monday and the initial backlash, the House's Web site administrators thought there would be a drop in Web traffic -- especially with the Rosh Hashanah holiday.\",\n",
       " \"I'm sure it would be, especially if you homebrew it it is probably a lot more personal and stronger too.\",\n",
       " 'I would also suggest listening to Wu-Tang Clan, especially their debut album \"Enter the Wu-Tang (36 Chambers)\".',\n",
       " 'I would love to actually watch a Husky in action during a race',\n",
       " 'Watching ricotta being made would be especially interesting.',\n",
       " 'Havent had it but would love to try',\n",
       " 'I would love to visit a desert sometime.',\n",
       " 'Would you like to have it as the main course?',\n",
       " 'I would like to deposit $ 300.',\n",
       " 'I would love to see that URL.',\n",
       " 'I would like to become  a vegan soon.',\n",
       " 'What would you like to return?',\n",
       " 'Would you like to have lunch together at Garden Hotel next Tuesday?',\n",
       " 'You know what the topics are, so prepare what you would like to say ahead of time.',\n",
       " 'I would like to thank you for your embrace, the new pope said, gazing out at all those eyes.',\n",
       " 'What day would you like to reserve the suite for, sir?',\n",
       " 'What would you like to do today?',\n",
       " 'I guess they would have to get a masters or a teaching degree to make that pay off.',\n",
       " \"I would love to be able to refinish old furniture, but I wouldn't know where to start.\",\n",
       " \"I've never been kayaking but I would love to try it.\",\n",
       " 'One day I would like to go to Miami, a port city on the Atlantic coast of south Florida in United States.',\n",
       " \"If you don't mind, I would like to send you these files.\",\n",
       " 'I have never been to India but I would love to go sometime.',\n",
       " 'Would you like to take a look at the menu, sir?',\n",
       " 'Absolutely, I would love to visit the Caribbean and see the beautiful culture salsa dance originated from.',\n",
       " 'Would you like to book a ticket?',\n",
       " \"Reading, with its allowing us to learn our language, communicate and share ideas would open up so many peoples' worlds!\",\n",
       " 'That would require recent laws banning anyone from having contact with Boko Haram to be waived.',\n",
       " 'Iwould love to learn to play',\n",
       " 'Hmm yes I guess is someone I likes recommend a product I will sure check it but I would like to know if they are been paid or not.',\n",
       " \"If it's not too much trouble, I would like some help.\",\n",
       " 'I would like to see your summer suits.',\n",
       " 'I would love to see more done for those suffering with depression.',\n",
       " 'I would like to make a reservation at 8: 00.',\n",
       " 'Would love to hear her.',\n",
       " 'I would like more ideas for teaching mixed-ability groups and I want to plan the whole course better next time.',\n",
       " 'Would you like to go there with me next week?',\n",
       " 'Maybe he would like to play with us.',\n",
       " 'Mr. White, I would like to give you notice that I will be leaving the company.',\n",
       " 'I would like to work for a veterinarian one day',\n",
       " 'Eric, would you like to read it for me?',\n",
       " 'Would you like to wait for a moment?',\n",
       " 'I would love to go there and eat pizza in Italy.',\n",
       " 'I would like to check in.',\n",
       " 'Before your main course, would you like to order an appetizer?',\n",
       " 'Where would you like to sit, Mary?',\n",
       " 'I would love to test drive one of the HEV models, and learn more about the electric car/',\n",
       " \"My husband and I would like to explore more thru-hiking together-- I just think it would be awesome to do a trail's full distance!\",\n",
       " 'Would you like to have one?',\n",
       " 'I would like to take the tower in.',\n",
       " 'I would love to try it with brown rice now',\n",
       " 'What I would recommend is following the usage and application directions on the back of the product, and not going overboard.',\n",
       " 'I have crocheted a few scarves, and that is it, but I would like to learn how to do more.',\n",
       " 'sure, where would you like to go?',\n",
       " 'Would you come with me to supply?',\n",
       " \"He would've had to, I feel like if you don't feel that kind of thing in your soul, you're not gonna move all the way across the country.\",\n",
       " 'We would like to your presence.',\n",
       " 'It feels like a fairy tale to me but I would love to achieve it.',\n",
       " 'I wish I could go, but of course I would have to go to Britain for that.',\n",
       " 'I would love to be able work with people and help them as well.',\n",
       " 'I would like to try it someday.',\n",
       " 'I would like to be more social by going out at night to nightclubs.',\n",
       " 'I would like to try a Pontoon.',\n",
       " 'I would like to pay for it.',\n",
       " 'And what would you like to have for the main course?',\n",
       " 'I would like to see those!',\n",
       " 'I went on a website with hundreds of job listings in the area and browsed through them until I got the names of a few employers I would like to work for.',\n",
       " 'yes, I would love to own one of those.',\n",
       " 'I would agree with you on that.',\n",
       " 'We would like to hold a business lunch at the restaurant.',\n",
       " 'Would love to do a road trip through the US one day though.',\n",
       " 'No but I would like to take a cruise through the Caribbean sea to Jamaica!',\n",
       " 'We would like to know if you want to sponsor us in our school fundraiser.',\n",
       " \"It's such a beautiful place, I would love to go there someday!\",\n",
       " 'I havent been to Miami but would love to go.',\n",
       " 'I would love to see how they are with cats.',\n",
       " \"I would love to travel Europe, but I'd stay in London for a month or so if I ever did.\",\n",
       " 'What would you like to be in the future?',\n",
       " 'I would like to be a lawyer that helps people across different legal jurisdictions.',\n",
       " 'I would love to see it myself one day too.',\n",
       " 'That, I would have to investigate.',\n",
       " \"One day I would like to make my own bread but I'll stick to sauces now.\",\n",
       " \"We'll be arriving May 12th, but I would like to make reservations for the penthouse.\",\n",
       " 'I would like to go there soon , The state was named for the Colorado River by Spanish travelers, and it is very gorgeous also,',\n",
       " 'I am a true meat eater but would love to know more about the health benefits of veganism.',\n",
       " 'And when would you like to move in?',\n",
       " 'Would you like to have this kind of suitcase?',\n",
       " 'Wow, I would love to see a picture.',\n",
       " 'Van der Hoeven said that, without a high carbon price to discourage the growth in coal use and encourage cleaner technologies such as renewable power generation, only competition from lower-priced gas could realistically cut demand for coal.',\n",
       " 'It’s very uplifting in a way because it’s a solution that will make people less ill, and happier and better at what they do.” \\nThere would probably be fewer accidents as drivers would be more alert, he says.',\n",
       " 'Me either, because I would certainly go broke!',\n",
       " \"There's a fantastic book called Barbarian Days that you would probably love -- it made me WANT to surf\",\n",
       " 'I would really love a savannah cat.',\n",
       " 'Businesses would probably try to pay $3 an hour!',\n",
       " 'That would really help me, Sue.',\n",
       " 'I have never been on one but would really like to.',\n",
       " 'I would really like to work for NASA some day.',\n",
       " 'I would really appreciate that, thanks.',\n",
       " 'you would probably want to start with reykjavik, which is the capital and largest city',\n",
       " 'Yeah, it would definitely be tough!',\n",
       " 'I would definitely recommend getting down there if you get the chance!',\n",
       " 'I would probably move to the largest city, Columbus, it is also the capital.',\n",
       " 'it would probably be any game that had to do with chance and a prize.',\n",
       " 'If I ever get a chance to taste homemade mac and cheese, I think I would really like it.',\n",
       " 'One would really want a warm dog at their side on those long caribou hunting trips.',\n",
       " 'Thank you so much, I would really appreciate that.',\n",
       " \"I don't know her but if she sings Pop, then I would definitely check how out.\",\n",
       " 'You would probably best know him for his novel-turned-film, The Notebook!',\n",
       " 'I would really like to try parachuting.',\n",
       " 'This will unload the skeleton and give joints the chance to rest and recover, especially if one is prone to niggles or has a history of injuries – and you would probably therefore get more out of the long runs when you do undertake them.” \\nGym rats can benefit by doing three strength sessions and three Tabatas a week.',\n",
       " 'Solid white shepherds look amazing, but I would probably go with the classic beige and black colors.',\n",
       " \"With Type II Diabetes being such a growning health concern, there would probably be a lot of things I'd be ok with taxing honestly.\",\n",
       " 'Well I would definitely be a B person.',\n",
       " 'Well they would probably love to know that the term \"pizza\" was first recorded in the 10th century.',\n",
       " 'No but I would really like to learn how to dance.',\n",
       " 'I never knew that but it would definitely make sense.',\n",
       " 'No, I would probably go to the capital Canberra, or the largest urban area of the city of Sydney.',\n",
       " 'I would imagine it would really help with buying fruit, picking clothing, reading traffic lights, etc.',\n",
       " 'Those waves would definitely work especially if they were a little bigger.',\n",
       " 'Haha, that sounds about right, I would definitely visit just to see it!',\n",
       " 'I have never been there and would really like to do so someday.',\n",
       " 'That would certainly make sense, what kind of fillings did you choose?',\n",
       " \"I don't remember that song but I would probably recognize it.\",\n",
       " 'No, unlike most casual collectors who do it just for joy, if I did it I would probably try to create a specific collection!',\n",
       " 'I would really like to bring my friend Jake, if that would be OK.',\n",
       " 'I would definitely say my favorite is to dip them in a local specialty from Chick Fil A - their Chick Fil A sauce is amazing!',\n",
       " \"I can't imagine watching the musical, my daughter would probably love it as well!\",\n",
       " 'It would probably be very expensive.',\n",
       " 'I would probably like salmon with mines since that is my favorite I have had pork steaks I usually grill or bake those have you tried them before?',\n",
       " 'I think he would probably just be a volunteer coach.',\n",
       " 'I would probably want a white one.',\n",
       " 'That would definitely impede climbing a giant mountain!',\n",
       " 'Wow I di not know that, I have never tried Philippino chocolate before, but now I would really like to give it a try!',\n",
       " 'The only thing I would really miss is watching all of my live sports.',\n",
       " 'Although I was born in the US, I would definitely call London home.',\n",
       " 'You would probably recognize it if you heard it.',\n",
       " 'It would really be more depressing when you really think about it!',\n",
       " 'I would really love to learn to fly a plane by learning to operate the directional controls.',\n",
       " \"I think that's very noble of you, I would definitely suggest it.\",\n",
       " 'I would probably do some kind of weird dance and hope it thought I was too insane to bother with.',\n",
       " 'I would really like to work for NASA some day.',\n",
       " 'I would really appreciate that, thanks.',\n",
       " 'you would probably want to start with Reykjavik, which is the capital and largest city.',\n",
       " 'Yeah, it would definitely be tough!',\n",
       " 'I would definitely recommend getting down there if you get the chance!',\n",
       " 'I would probably move to the largest city, Columbus, it is also the capital.',\n",
       " 'it would probably be any game that had to do with chance and a prize.',\n",
       " 'If I ever get a chance to taste homemade mac and cheese, I think I would really like it.',\n",
       " 'One would really want a warm dog at their side on those long caribou hunting trips.',\n",
       " 'Thank you so much, I would really appreciate that.',\n",
       " \"I don't know her but if she sings Pop, then I would definitely check how out.\",\n",
       " 'You would probably best know him for his novel-turned-film, The Notebook!',\n",
       " 'I would really like to try parachuting.',\n",
       " 'This will unload the skeleton and give joints the chance to rest and recover, especially if one is prone to niggles or has a history of injuries – and you would probably therefore get more out of the long runs when you do undertake them. Gym rats can benefit by doing three strength sessions and three Tabatas a week.',\n",
       " 'I would definitely consider that option if I were in your shoes.',\n",
       " 'We would probably enjoy the concert more if we knew the songs.',\n",
       " 'She said she would really love to visit Paris again someday.',\n",
       " 'It would certainly be an adventure to go backpacking across South America.',\n",
       " 'I would definitely say that it’s one of the best movies I’ve seen this year.',\n",
       " 'You would probably find the book more interesting than the movie.',\n",
       " 'I would really like to learn how to play the guitar.',\n",
       " 'He mentioned he would certainly be interested in collaborating on that project.',\n",
       " 'They would really benefit from taking a break and relaxing a bit.',\n",
       " 'I would probably start the presentation with a funny anecdote to grab the audience’s attention.',\n",
       " 'You would definitely make a great teacher, given your patience and knowledge.',\n",
       " 'It would really be helpful if you could send me the report by tomorrow.',\n",
       " 'I would probably avoid mentioning that topic in the meeting.',\n",
       " 'Would you really be willing to move to another country for work?',\n",
       " 'I would certainly recommend checking out the new exhibit at the museum.',\n",
       " 'You would probably love the new restaurant that opened downtown.',\n",
       " 'It would definitely be worth the effort to learn a new language.',\n",
       " 'They said they would really appreciate our feedback on the project.',\n",
       " 'I would probably choose a quiet countryside retreat over a bustling city vacation.',\n",
       " 'It would certainly be a challenge to climb Mount Everest.',\n",
       " 'You would definitely benefit from a digital detox weekend.',\n",
       " 'I would really like to volunteer for that charity event next month.',\n",
       " 'He would probably enjoy the surprise party you’re planning for him.']"
      ]
     },
     "execution_count": 163,
     "metadata": {},
     "output_type": "execute_result"
    }
   ],
   "source": [
    "[sent for sent in get_negatives(instances, nr) if \"ould\" in sent]"
   ]
  },
  {
   "cell_type": "code",
   "execution_count": 124,
   "id": "d145accc-1c71-4801-aa4e-c1823f0d0d98",
   "metadata": {
    "scrolled": true
   },
   "outputs": [
    {
     "name": "stdout",
     "output_type": "stream",
     "text": [
      "0.1696113074204947\n"
     ]
    },
    {
     "name": "stderr",
     "output_type": "stream",
     "text": [
      "100%|█████████████████████████████████████████████████████████████████████████████████████████████████████████████| 15/15 [00:01<00:00, 12.21it/s]\n"
     ]
    },
    {
     "name": "stdout",
     "output_type": "stream",
     "text": [
      "Training loss: 0.14989060312509536\n",
      "Accuracy: 0.9736842105263158\n"
     ]
    },
    {
     "name": "stderr",
     "output_type": "stream",
     "text": [
      "100%|█████████████████████████████████████████████████████████████████████████████████████████████████████████████| 15/15 [00:01<00:00, 12.44it/s]\n"
     ]
    },
    {
     "name": "stdout",
     "output_type": "stream",
     "text": [
      "Training loss: 0.14846555888652802\n",
      "Accuracy: 0.9824561403508771\n"
     ]
    },
    {
     "name": "stderr",
     "output_type": "stream",
     "text": [
      "100%|█████████████████████████████████████████████████████████████████████████████████████████████████████████████| 15/15 [00:01<00:00, 12.42it/s]\n"
     ]
    },
    {
     "name": "stdout",
     "output_type": "stream",
     "text": [
      "Training loss: 0.1283236013104518\n",
      "Accuracy: 0.9736842105263158\n"
     ]
    }
   ],
   "source": [
    "classifier = get_trained_classifer(get_positives(instances, nr), get_negatives(instances, nr), get_others(sentences, matches), num_epochs=3, ratio=1)"
   ]
  },
  {
   "cell_type": "code",
   "execution_count": 158,
   "id": "593b6eff-a437-406d-8241-2dbd3416d613",
   "metadata": {},
   "outputs": [
    {
     "data": {
      "text/plain": [
       "(tensor([0.2408]), ['would'])"
      ]
     },
     "execution_count": 158,
     "metadata": {},
     "output_type": "execute_result"
    }
   ],
   "source": [
    "models.probe_model(classifier, \"I would actually like to have it.\")"
   ]
  },
  {
   "cell_type": "markdown",
   "id": "183d9cf3-81df-4abc-a339-67be270a71ee",
   "metadata": {},
   "source": [
    "Check on entire corpus"
   ]
  },
  {
   "cell_type": "code",
   "execution_count": 112,
   "id": "b973cfbb-0cca-441d-9c55-e9b6b5e3aa83",
   "metadata": {},
   "outputs": [
    {
     "name": "stderr",
     "output_type": "stream",
     "text": [
      " 12%|█████████████▎                                                                                            | 250/2000 [00:39<04:36,  6.33it/s]\n"
     ]
    }
   ],
   "source": [
    "# shuffle inputs\n",
    "shuffled_index = np.random.permutation(encoded_inputs['input_ids'].size(0))\n",
    "for key, value in encoded_inputs.items():\n",
    "    encoded_inputs[key] = value[shuffled_index] if isinstance(value, Tensor) else [value[i] for i in shuffled_index]\n",
    "\n",
    "corpus_dataset = TensorDataset(encoded_inputs['input_ids'], encoded_inputs['attention_mask'])\n",
    "corpus_dataloader = DataLoader(corpus_dataset, batch_size=batch_size, shuffle=False)\n",
    "scores, tokens = models.score_corpus(classifier, corpus_dataloader, max_positive=250, max_batches=250, threshold=0.5)\n",
    "results = list(zip(scores, tokens, encoded_inputs['sentences'][:len(scores)]))"
   ]
  },
  {
   "cell_type": "code",
   "execution_count": 119,
   "id": "db88ffa1-21bc-4c3e-a1a6-36cee41abb82",
   "metadata": {
    "scrolled": true
   },
   "outputs": [
    {
     "data": {
      "text/plain": [
       "['He thus joins Lyotard in promoting creative experimentation as a leading power of thought, a power that surpasses reason, narrowly defined, and without which thought would be inert.',\n",
       " 'If mine saw a mud puddle she would immediately be in it.',\n",
       " 'The opposite person would be an early bird',\n",
       " 'Anderson would have replied imperiously as he did to Gilbert Ryle’s “representationist” criticisms: “That is nothing to me”.',\n",
       " 'Indeed thats among the most cherished item i would proudly display next to my other trophies.',\n",
       " 'she rarely left her bedroom and would almost never leave her house in  her later years']"
      ]
     },
     "execution_count": 119,
     "metadata": {},
     "output_type": "execute_result"
    }
   ],
   "source": [
    "threshold = 0.5\n",
    "\n",
    "subset = [(score, token, sample) for score, token, sample in results if\n",
    "     score > threshold]\n",
    "subset_sentences = [sample for _, _, sample in subset if \"ly \" in sample]\n",
    "subset_sentences"
   ]
  },
  {
   "cell_type": "code",
   "execution_count": 147,
   "id": "56453dda-8532-435d-8c18-efb186a87b26",
   "metadata": {},
   "outputs": [
    {
     "name": "stdout",
     "output_type": "stream",
     "text": [
      "0.21428571428571427\n"
     ]
    },
    {
     "name": "stderr",
     "output_type": "stream",
     "text": [
      "100%|█████████████████████████████████████████████████████████████████████████████████████████████████████████████| 12/12 [00:00<00:00, 12.37it/s]\n"
     ]
    },
    {
     "name": "stdout",
     "output_type": "stream",
     "text": [
      "Training loss: 0.10243181635936101\n",
      "Accuracy: 0.9666666666666667\n"
     ]
    },
    {
     "name": "stderr",
     "output_type": "stream",
     "text": [
      "100%|█████████████████████████████████████████████████████████████████████████████████████████████████████████████| 12/12 [00:00<00:00, 12.40it/s]\n"
     ]
    },
    {
     "name": "stdout",
     "output_type": "stream",
     "text": [
      "Training loss: 0.09866684628650546\n",
      "Accuracy: 0.9555555555555556\n"
     ]
    },
    {
     "name": "stderr",
     "output_type": "stream",
     "text": [
      "100%|█████████████████████████████████████████████████████████████████████████████████████████████████████████████| 12/12 [00:00<00:00, 12.56it/s]\n"
     ]
    },
    {
     "name": "stdout",
     "output_type": "stream",
     "text": [
      "Training loss: 0.08372893316360812\n",
      "Accuracy: 0.9666666666666667\n"
     ]
    },
    {
     "name": "stderr",
     "output_type": "stream",
     "text": [
      "100%|█████████████████████████████████████████████████████████████████████████████████████████████████████████████| 12/12 [00:00<00:00, 12.66it/s]\n"
     ]
    },
    {
     "name": "stdout",
     "output_type": "stream",
     "text": [
      "Training loss: 0.08029156876727939\n",
      "Accuracy: 0.9555555555555556\n"
     ]
    },
    {
     "name": "stderr",
     "output_type": "stream",
     "text": [
      "100%|█████████████████████████████████████████████████████████████████████████████████████████████████████████████| 12/12 [00:00<00:00, 12.69it/s]\n"
     ]
    },
    {
     "name": "stdout",
     "output_type": "stream",
     "text": [
      "Training loss: 0.09256573549161355\n",
      "Accuracy: 0.9555555555555556\n"
     ]
    }
   ],
   "source": [
    "#add_to_instances(gpt35['augmented_examples'][100:150], nr, True)\n",
    "#add_to_instances(random.sample(subset_sentences, 25), nr, False)\n",
    "#add_to_instances(subset_sentences, nr, False)\n",
    "#add_to_instances(get_positives(instances, 629), nr, False)\n",
    "classifier = get_trained_classifer(get_positives(instances, nr), get_negatives(instances, nr), get_others(sentences, matches), num_epochs=5, ratio=0.5)"
   ]
  },
  {
   "cell_type": "code",
   "execution_count": 97,
   "id": "1b8502bd-cc53-4798-be85-44591abb0a90",
   "metadata": {},
   "outputs": [],
   "source": [
    "models.save_classifier(classifier, nr, \"corpus_training\")"
   ]
  },
  {
   "cell_type": "code",
   "execution_count": null,
   "id": "15416eea-43f2-49f3-bd22-08bc15c999a3",
   "metadata": {},
   "outputs": [],
   "source": []
  }
 ],
 "metadata": {
  "kernelspec": {
   "display_name": "Python 3 (ipykernel)",
   "language": "python",
   "name": "python3"
  },
  "language_info": {
   "codemirror_mode": {
    "name": "ipython",
    "version": 3
   },
   "file_extension": ".py",
   "mimetype": "text/x-python",
   "name": "python",
   "nbconvert_exporter": "python",
   "pygments_lexer": "ipython3",
   "version": "3.11.2"
  }
 },
 "nbformat": 4,
 "nbformat_minor": 5
}
