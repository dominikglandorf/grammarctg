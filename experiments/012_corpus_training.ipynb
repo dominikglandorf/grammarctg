{
 "cells": [
  {
   "cell_type": "markdown",
   "id": "0e5342b3-6725-42d0-83e5-5db4cb1e1e8a",
   "metadata": {},
   "source": [
    "# Exp012: Train classifiers from corpus examples\n",
    "This experiments uses regular expressions to identify possible positive and hard negative instances in multiple corpora. It may add handpicked generated examples if the corpus does not have enough examples."
   ]
  },
  {
   "cell_type": "code",
   "execution_count": 1,
   "id": "c4f87740-f21a-48e3-bfc0-2ce119b2cdff",
   "metadata": {},
   "outputs": [
    {
     "name": "stderr",
     "output_type": "stream",
     "text": [
      "Some weights of the model checkpoint at bert-base-uncased were not used when initializing BertModel: ['cls.predictions.decoder.weight', 'cls.seq_relationship.bias', 'cls.predictions.transform.LayerNorm.bias', 'cls.predictions.transform.dense.weight', 'cls.predictions.transform.LayerNorm.weight', 'cls.seq_relationship.weight', 'cls.predictions.bias', 'cls.predictions.transform.dense.bias']\n",
      "- This IS expected if you are initializing BertModel from the checkpoint of a model trained on another task or with another architecture (e.g. initializing a BertForSequenceClassification model from a BertForPreTraining model).\n",
      "- This IS NOT expected if you are initializing BertModel from the checkpoint of a model that you expect to be exactly identical (initializing a BertForSequenceClassification model from a BertForSequenceClassification model).\n",
      "[nltk_data] Downloading package punkt to\n",
      "[nltk_data]     /cluster/home/dglandorf/nltk_data...\n",
      "[nltk_data]   Package punkt is already up-to-date!\n"
     ]
    }
   ],
   "source": [
    "import re\n",
    "import os\n",
    "import random\n",
    "import numpy as np\n",
    "from torch import tensor, Tensor\n",
    "from torch.utils.data import DataLoader, TensorDataset, random_split, Subset\n",
    "from sklearn.model_selection import KFold\n",
    "from collections import defaultdict\n",
    "from tqdm import tqdm\n",
    "import pandas as pd\n",
    "import matplotlib.pyplot as plt\n",
    "import seaborn as sns\n",
    "from matplotlib.ticker import FuncFormatter\n",
    "\n",
    "import sys\n",
    "sys.path.append('../source')\n",
    "import models\n",
    "import data\n",
    "import importlib\n",
    "#importlib.reload(models)"
   ]
  },
  {
   "cell_type": "code",
   "execution_count": 4,
   "id": "961585f3-8a6e-4e10-b0f3-e16a34a8eee9",
   "metadata": {},
   "outputs": [
    {
     "name": "stderr",
     "output_type": "stream",
     "text": [
      "100%|███████████████████████████████████████████████████████████████████████████████████████████████████████████████| 4/4 [00:27<00:00,  6.94s/it]\n"
     ]
    }
   ],
   "source": [
    "# load corpus sentences and prepare dataloader\n",
    "sentences = data.get_mixed_sentences(1000000) # get all sentences\n",
    "\n",
    "# initialize corpus to check against\n",
    "max_batches = 250\n",
    "batch_size = 64\n",
    "encoded_inputs = models.bert_tokenizer(sentences[:12*max_batches*batch_size], return_tensors='pt', max_length=64, padding='max_length', truncation=True)\n",
    "encoded_inputs['sentences'] = sentences[:12*max_batches*batch_size]\n",
    "corpus_dataset = TensorDataset(encoded_inputs['input_ids'], encoded_inputs['attention_mask'])\n",
    "corpus_dataloader = DataLoader(corpus_dataset, batch_size=64, shuffle=False)"
   ]
  },
  {
   "cell_type": "code",
   "execution_count": 5,
   "id": "aa30f090-b507-4f11-bd5c-fc545d061952",
   "metadata": {},
   "outputs": [],
   "source": [
    "# output dataset\n",
    "output_path = '../data/annotated_corpus.json'\n",
    "instances = pd.DataFrame(columns=['#', 'sentence', 'positive']) if not os.path.exists(output_path) else pd.read_json(output_path)\n",
    "instances['positive'] = instances['positive'].astype(bool)\n",
    "\n",
    "egp_gpt = pd.read_json(\"../data/egp_gpt35.json\")"
   ]
  },
  {
   "cell_type": "code",
   "execution_count": 6,
   "id": "a87b1b7a-5687-4e04-88c2-2fae4eca2a16",
   "metadata": {},
   "outputs": [],
   "source": [
    "# manipulation functions for instance dataset\n",
    "def get_positives(instances, nr):\n",
    "    return list(instances[(instances['#'] == nr) & instances['positive']]['sentence'])\n",
    "def get_negatives(instances, nr):\n",
    "    return list(instances[(instances['#'] == nr) & ~instances['positive']]['sentence'])\n",
    "def get_others(sentences, matches):\n",
    "    return list(set(sentences).difference(set(matches)))\n",
    "def add_to_instances(sentences, nr, positive=True):\n",
    "    global instances\n",
    "    if isinstance(sentences, list):\n",
    "        for sentence in sentences:\n",
    "            new_row = pd.DataFrame({'#': [nr], 'sentence': [sentence], 'positive': [positive]})\n",
    "            instances = pd.concat([instances, new_row], ignore_index=True)\n",
    "    else:\n",
    "        new_row = pd.DataFrame({'#': [nr], 'sentence': [sentences], 'positive': [positive]})\n",
    "        instances = pd.concat([instances, new_row], ignore_index=True)\n",
    "    instances.to_json(output_path)\n",
    "\n",
    "# model training\n",
    "def get_trained_classifer(positive, negative, others, classifier=models.RuleDetector(models.bert_encoder).to(models.device), ratio=1, verbose=True):\n",
    "    dataset = data.get_dataset(positive, negative, others, models.bert_tokenizer, 64, ratio*len(positive)/len(negative), verbose=verbose) \n",
    "    train_dataloader, val_dataloader = data.get_loaders(dataset)\n",
    "    _, val_metrics = models.train(classifier, train_dataloader, val_dataloader, num_epochs=None, verbose=verbose)\n",
    "    return classifier, val_metrics"
   ]
  },
  {
   "attachments": {},
   "cell_type": "markdown",
   "id": "8a24689c-8004-4510-8cac-3e4dc0527c10",
   "metadata": {},
   "source": [
    "Find examples for would rules (616-638), conditionals (1105-1131), negations (1175-1205)"
   ]
  },
  {
   "cell_type": "code",
   "execution_count": 185,
   "id": "1ebc1b70-7706-4832-8f7c-9563d99b1f83",
   "metadata": {},
   "outputs": [],
   "source": [
    "nr = 1204"
   ]
  },
  {
   "cell_type": "code",
   "execution_count": 191,
   "id": "76ade4eb-ecb4-4c8e-82d3-35b4e4a7c0ce",
   "metadata": {},
   "outputs": [],
   "source": [
    "pattern = r\"(neither|nor) (do|did|does|am|are|is|was|were) \"\n",
    "matches = [sentence for sentence in sentences if re.search(pattern, sentence, re.IGNORECASE)]\n",
    "random.shuffle(matches)\n",
    "candidates = iter(matches)"
   ]
  },
  {
   "cell_type": "code",
   "execution_count": 209,
   "id": "5be73f1c-78d9-49a1-9c6e-c06a429d215b",
   "metadata": {},
   "outputs": [],
   "source": [
    "gpt35 = egp_gpt[egp_gpt['#']==nr].iloc[0]\n",
    "egp_matches = gpt35['augmented_examples']\n",
    "random.shuffle(egp_matches)\n",
    "candidates = iter(egp_matches)"
   ]
  },
  {
   "cell_type": "code",
   "execution_count": 198,
   "id": "a67436e5-e38b-4cea-a0ea-4c2a2986a8b7",
   "metadata": {},
   "outputs": [],
   "source": [
    "anti_pattern =  r\"( neither| nor) \"\n",
    "anti_matches = [sentence for sentence in sentences if re.search(anti_pattern, sentence, re.IGNORECASE)]\n",
    "random.shuffle(anti_matches)\n",
    "candidates = iter(anti_matches)"
   ]
  },
  {
   "cell_type": "code",
   "execution_count": 181,
   "id": "7af162b0-dc37-402c-a6b6-a099f3fd4900",
   "metadata": {},
   "outputs": [],
   "source": [
    "candidates = iter(subset_sentences)"
   ]
  },
  {
   "cell_type": "code",
   "execution_count": 200,
   "id": "38665e27-84f3-41d1-9f6c-8b54a511c637",
   "metadata": {},
   "outputs": [],
   "source": [
    "candidates = iter(get_positives(instances, 1194))"
   ]
  },
  {
   "cell_type": "code",
   "execution_count": 98,
   "id": "aa879fc0-9e07-4d42-b23c-0af9d3647879",
   "metadata": {},
   "outputs": [
    {
     "data": {
      "text/plain": [
       "9543"
      ]
     },
     "execution_count": 98,
     "metadata": {},
     "output_type": "execute_result"
    }
   ],
   "source": [
    "len(instances)"
   ]
  },
  {
   "cell_type": "code",
   "execution_count": 210,
   "id": "f51757e4-67bd-4b7e-8e46-9f76f2764bdd",
   "metadata": {
    "scrolled": true
   },
   "outputs": [
    {
     "name": "stdin",
     "output_type": "stream",
     "text": [
      "She didn't mention the additional expenses, nor did she provide a breakdown of the costs incurred. 2\n",
      "Their lack of transparency raised suspicion. Nor did their evasive answers instill confidence. 2\n",
      "The investment didn't generate profits, nor did it provide any long-term benefits.  2\n",
      "I haven't been to the theater in months. Nor have I watched a movie at home. 2\n",
      "He didn't attend the presentation, neither did he review the slides beforehand. 2\n",
      "We can't meet on Monday. Nor can we schedule a meeting for Tuesday. 2\n",
      "We don't have any plans for the weekend. Neither do our neighbors. 2\n",
      "They couldn't arrive on time, nor could they leave early. 2\n",
      "He didn't pass the exam, neither did he seek help from a tutor. 2\n",
      "He didn't buy the new phone. Nor did he upgrade his laptop. s\n",
      "She doesn't like spicy food, nor does her sister. 2\n",
      "He didn't bother to listen to my warnings. Nor did he take any precautions to prevent the impending disaster. s\n",
      "I didn't hear about the last-minute changes. Neither did I receive any notification about them. 2\n",
      "I don't agree with the proposal, nor do I see any benefit in supporting it. s\n",
      "She didn't express her opinion, nor did she contribute to the discussion. 2\n",
      "I don't like spicy food. Neither does my friend. s\n",
      "She didn’t like the movie's plot twist, nor did she appreciate the abrupt ending. 2\n",
      "The restaurant wasn't busy. Neither was the café next door. c\n"
     ]
    }
   ],
   "source": [
    "while 1==1:\n",
    "    if len(get_positives(instances, nr)) == 50: print(\"** REACHED 50 POSITIVES **\")\n",
    "    try:\n",
    "        candidate = next(candidates)\n",
    "    except StopIteration:\n",
    "        print(\"No candidates left.\")\n",
    "        break\n",
    "    if candidate in list(instances[instances['#'] == nr]['sentence']): continue # prevent duplicates\n",
    "    #candidate = candidate.replace(\",\", \"\")\n",
    "    user_response = input(f\"{candidate}\")\n",
    "    if user_response == \"c\": break\n",
    "    if user_response == \"s\": continue\n",
    "    if user_response == \"del\": \n",
    "        instances = instances.iloc[:-1]\n",
    "        continue\n",
    "    new_row = pd.DataFrame({'#': [nr], 'sentence': [candidate], 'positive': [True if user_response == '2' else False]})\n",
    "    instances = pd.concat([instances, new_row], ignore_index=True)\n",
    "    instances.to_json(output_path)"
   ]
  },
  {
   "cell_type": "code",
   "execution_count": 211,
   "id": "febdfd34-a456-4792-8c04-b2b8e4a0d132",
   "metadata": {},
   "outputs": [
    {
     "name": "stdout",
     "output_type": "stream",
     "text": [
      "Positive: 48, Negative: 40\n"
     ]
    }
   ],
   "source": [
    "print(f'Positive: {len(get_positives(instances, nr))}, Negative: {len(get_negatives(instances, nr))}')"
   ]
  },
  {
   "cell_type": "code",
   "execution_count": 212,
   "id": "d145accc-1c71-4801-aa4e-c1823f0d0d98",
   "metadata": {
    "scrolled": true
   },
   "outputs": [
    {
     "name": "stdout",
     "output_type": "stream",
     "text": [
      "0.20689655172413793\n"
     ]
    },
    {
     "name": "stderr",
     "output_type": "stream",
     "text": [
      "100%|███████████████████████████████████████████████████████████████████████████████████████████████████████████████| 6/6 [00:00<00:00, 16.98it/s]\n"
     ]
    },
    {
     "name": "stdout",
     "output_type": "stream",
     "text": [
      "Training loss: 0.026932634102801483\n",
      "Val loss: 0.00972157868091017\n"
     ]
    },
    {
     "name": "stderr",
     "output_type": "stream",
     "text": [
      "100%|███████████████████████████████████████████████████████████████████████████████████████████████████████████████| 6/6 [00:00<00:00, 20.53it/s]\n"
     ]
    },
    {
     "name": "stdout",
     "output_type": "stream",
     "text": [
      "Training loss: 0.024555387751509745\n",
      "Val loss: 0.0066351593704894185\n"
     ]
    },
    {
     "data": {
      "text/plain": [
       "{'accuracy': 1.0, 'f1': 1.0, 'precision': 1.0}"
      ]
     },
     "execution_count": 212,
     "metadata": {},
     "output_type": "execute_result"
    }
   ],
   "source": [
    "classifier, val_metrics = get_trained_classifer(get_positives(instances, nr), get_negatives(instances, nr), get_others(sentences, matches), ratio=3)\n",
    "val_metrics"
   ]
  },
  {
   "cell_type": "markdown",
   "id": "183d9cf3-81df-4abc-a339-67be270a71ee",
   "metadata": {},
   "source": [
    "Check on entire corpus"
   ]
  },
  {
   "cell_type": "code",
   "execution_count": 204,
   "id": "b973cfbb-0cca-441d-9c55-e9b6b5e3aa83",
   "metadata": {},
   "outputs": [
    {
     "name": "stderr",
     "output_type": "stream",
     "text": [
      " 17%|█████████████████▋                                                                                        | 500/3000 [00:41<03:28, 11.98it/s]\n"
     ]
    }
   ],
   "source": [
    "# shuffle inputs\n",
    "shuffled_index = np.random.permutation(encoded_inputs['input_ids'].size(0))\n",
    "for key, value in encoded_inputs.items():\n",
    "    encoded_inputs[key] = value[shuffled_index] if isinstance(value, Tensor) else [value[i] for i in shuffled_index]\n",
    "\n",
    "corpus_dataset = TensorDataset(encoded_inputs['input_ids'], encoded_inputs['attention_mask'])\n",
    "corpus_dataloader = DataLoader(corpus_dataset, batch_size=64, shuffle=False)\n",
    "scores, tokens = models.score_corpus(classifier, corpus_dataloader, max_positive=50, max_batches=500, threshold=0.5)\n",
    "results = list(zip(scores, tokens, encoded_inputs['sentences'][:len(scores)]))"
   ]
  },
  {
   "cell_type": "code",
   "execution_count": 205,
   "id": "db88ffa1-21bc-4c3e-a1a6-36cee41abb82",
   "metadata": {
    "scrolled": true
   },
   "outputs": [
    {
     "data": {
      "text/plain": [
       "['Never should you interrupt on a unfamiliar topic.',\n",
       " 'So would i. what other unusual plants did they show?',\n",
       " 'So did I. I won a prize last week but it was a prize for beginners.',\n",
       " 'Not every one is motivated solely by money.',\n",
       " 'So do I. Daniel looked so good on paper.',\n",
       " 'Not to mention serious lapses in service, sales and leadership skills.',\n",
       " 'So are you.',\n",
       " \"so do i. I don't like cats.\",\n",
       " \"And not another shout or I'll have to report you to the school administration.\",\n",
       " 'So are we.',\n",
       " 'Not all states have an income tax.',\n",
       " 'So would i. what other unusual plants did they show?']"
      ]
     },
     "execution_count": 205,
     "metadata": {},
     "output_type": "execute_result"
    }
   ],
   "source": [
    "threshold = 0.5\n",
    "\n",
    "subset = [(score, token, sample) for score, token, sample in results if\n",
    "     score > threshold and not sample in get_positives(instances, nr)]\n",
    "subset_sentences = [sample for _, _, sample in subset if not \"don't you\" in sample.lower()]\n",
    "candidates = iter(subset_sentences) \n",
    "subset_sentences"
   ]
  },
  {
   "cell_type": "code",
   "execution_count": 178,
   "id": "56453dda-8532-435d-8c18-efb186a87b26",
   "metadata": {},
   "outputs": [
    {
     "name": "stdout",
     "output_type": "stream",
     "text": [
      "0.19858156028368795\n"
     ]
    },
    {
     "name": "stderr",
     "output_type": "stream",
     "text": [
      "100%|███████████████████████████████████████████████████████████████████████████████████████████████████████████████| 4/4 [00:00<00:00, 18.62it/s]\n"
     ]
    },
    {
     "name": "stdout",
     "output_type": "stream",
     "text": [
      "Training loss: 0.20056423731148243\n",
      "Val loss: 0.1889430731534958\n"
     ]
    },
    {
     "name": "stderr",
     "output_type": "stream",
     "text": [
      "100%|███████████████████████████████████████████████████████████████████████████████████████████████████████████████| 4/4 [00:00<00:00, 21.14it/s]\n"
     ]
    },
    {
     "name": "stdout",
     "output_type": "stream",
     "text": [
      "Training loss: 0.12380914855748415\n",
      "Val loss: 0.1368415355682373\n"
     ]
    },
    {
     "name": "stderr",
     "output_type": "stream",
     "text": [
      "100%|███████████████████████████████████████████████████████████████████████████████████████████████████████████████| 4/4 [00:00<00:00, 22.57it/s]\n"
     ]
    },
    {
     "name": "stdout",
     "output_type": "stream",
     "text": [
      "Training loss: 0.07106909342110157\n",
      "Val loss: 0.059711702167987823\n"
     ]
    },
    {
     "name": "stderr",
     "output_type": "stream",
     "text": [
      "100%|███████████████████████████████████████████████████████████████████████████████████████████████████████████████| 4/4 [00:00<00:00, 22.55it/s]\n"
     ]
    },
    {
     "name": "stdout",
     "output_type": "stream",
     "text": [
      "Training loss: 0.046755827497690916\n",
      "Val loss: 0.06455478817224503\n"
     ]
    },
    {
     "data": {
      "text/plain": [
       "{'accuracy': 0.966, 'f1': 0.933, 'precision': 0.875}"
      ]
     },
     "execution_count": 178,
     "metadata": {},
     "output_type": "execute_result"
    }
   ],
   "source": [
    "#add_to_instances(gpt35['augmented_examples'][100:150], nr, True)\n",
    "#add_to_instances(random.sample(subset_sentences, 25), nr, False)\n",
    "add_to_instances(subset_sentences, nr, False)\n",
    "#add_to_instances(random.sample(get_positives(instances, 619), 50), nr, False)\n",
    "#add_to_instances(list(set(get_positives(instances, 621)).difference(get_negatives(instances, nr))), nr, False)\n",
    "classifier, metrics = get_trained_classifer(get_positives(instances, nr), get_negatives(instances, nr), get_others(sentences, matches), ratio=0.5)\n",
    "metrics"
   ]
  },
  {
   "cell_type": "code",
   "execution_count": 218,
   "id": "1b8502bd-cc53-4798-be85-44591abb0a90",
   "metadata": {},
   "outputs": [],
   "source": [
    "models.save_classifier(classifier, nr, \"corpus_training\")"
   ]
  },
  {
   "cell_type": "code",
   "execution_count": 287,
   "id": "a2677983-df74-4007-a58b-5db81b6ab703",
   "metadata": {},
   "outputs": [],
   "source": [
    "nr=1106\n",
    "classifier = models.load_classifier(nr, \"corpus_training\")"
   ]
  },
  {
   "cell_type": "code",
   "execution_count": 217,
   "id": "eeaad7c9-89c4-4a7e-9008-3fd0013d2d97",
   "metadata": {},
   "outputs": [
    {
     "data": {
      "text/plain": [
       "(tensor([0.9856, 0.9956, 0.0023]), ['nor', 'neither', ','])"
      ]
     },
     "execution_count": 217,
     "metadata": {},
     "output_type": "execute_result"
    }
   ],
   "source": [
    "candidates = gpt35['Example'].split(\"\\n\\n\") + [\"Unfortunately, did the house convince me do move in with her parents.\"]\n",
    "models.probe_model(classifier, candidates)"
   ]
  },
  {
   "cell_type": "markdown",
   "id": "a11b5410-6b04-4a96-8222-b7e44cc74de1",
   "metadata": {},
   "source": [
    "## Evaluation\n",
    "Strategy: Track F1 score on validation set and precision in unseen corpora sentences"
   ]
  },
  {
   "cell_type": "code",
   "execution_count": 49,
   "id": "6e855884-6c9c-45d5-bc4e-a0c0caee394d",
   "metadata": {
    "scrolled": true
   },
   "outputs": [
    {
     "name": "stdout",
     "output_type": "stream",
     "text": [
      "#616\n"
     ]
    },
    {
     "name": "stderr",
     "output_type": "stream",
     "text": [
      "100%|████| 5/5 [00:28<00:00,  5.68s/it]\n"
     ]
    },
    {
     "name": "stdout",
     "output_type": "stream",
     "text": [
      "{'accuracy': 0.9014000000000001, 'f1': 0.7114, 'precision': 0.8248}\n",
      "#617\n"
     ]
    },
    {
     "name": "stderr",
     "output_type": "stream",
     "text": [
      "100%|████| 5/5 [00:19<00:00,  3.80s/it]\n"
     ]
    },
    {
     "name": "stdout",
     "output_type": "stream",
     "text": [
      "{'accuracy': 0.9322000000000001, 'f1': 0.8146000000000001, 'precision': 0.837}\n",
      "#618\n"
     ]
    },
    {
     "name": "stderr",
     "output_type": "stream",
     "text": [
      "100%|████| 5/5 [00:20<00:00,  4.08s/it]\n"
     ]
    },
    {
     "name": "stdout",
     "output_type": "stream",
     "text": [
      "{'accuracy': 0.9209999999999999, 'f1': 0.8384, 'precision': 0.774}\n",
      "#619\n"
     ]
    },
    {
     "name": "stderr",
     "output_type": "stream",
     "text": [
      "100%|████| 5/5 [00:22<00:00,  4.45s/it]\n"
     ]
    },
    {
     "name": "stdout",
     "output_type": "stream",
     "text": [
      "{'accuracy': 0.8934, 'f1': 0.7674, 'precision': 0.8492}\n",
      "#620\n"
     ]
    },
    {
     "name": "stderr",
     "output_type": "stream",
     "text": [
      "100%|████| 5/5 [00:38<00:00,  7.70s/it]\n"
     ]
    },
    {
     "name": "stdout",
     "output_type": "stream",
     "text": [
      "{'accuracy': 0.9614, 'f1': 0.7769999999999999, 'precision': 0.7778}\n",
      "#621\n"
     ]
    },
    {
     "name": "stderr",
     "output_type": "stream",
     "text": [
      "100%|████| 5/5 [00:24<00:00,  4.94s/it]\n"
     ]
    },
    {
     "name": "stdout",
     "output_type": "stream",
     "text": [
      "{'accuracy': 0.893, 'f1': 0.5352, 'precision': 0.495}\n",
      "#622\n"
     ]
    },
    {
     "name": "stderr",
     "output_type": "stream",
     "text": [
      "100%|████| 5/5 [00:42<00:00,  8.46s/it]\n"
     ]
    },
    {
     "name": "stdout",
     "output_type": "stream",
     "text": [
      "{'accuracy': 0.9593999999999999, 'f1': 0.7286, 'precision': 0.8128}\n",
      "#623\n"
     ]
    },
    {
     "name": "stderr",
     "output_type": "stream",
     "text": [
      "100%|████| 5/5 [00:13<00:00,  2.73s/it]\n"
     ]
    },
    {
     "name": "stdout",
     "output_type": "stream",
     "text": [
      "{'accuracy': 0.8632000000000002, 'f1': 0.0, 'precision': 0.0}\n",
      "#624\n"
     ]
    },
    {
     "name": "stderr",
     "output_type": "stream",
     "text": [
      "100%|████| 5/5 [00:24<00:00,  4.88s/it]\n"
     ]
    },
    {
     "name": "stdout",
     "output_type": "stream",
     "text": [
      "{'accuracy': 0.9446, 'f1': 0.8385999999999999, 'precision': 0.9246000000000001}\n",
      "#625\n"
     ]
    },
    {
     "name": "stderr",
     "output_type": "stream",
     "text": [
      "100%|████| 5/5 [00:27<00:00,  5.44s/it]\n"
     ]
    },
    {
     "name": "stdout",
     "output_type": "stream",
     "text": [
      "{'accuracy': 0.899, 'f1': 0.6748000000000001, 'precision': 0.7834}\n",
      "#626\n"
     ]
    },
    {
     "name": "stderr",
     "output_type": "stream",
     "text": [
      "100%|████| 5/5 [00:21<00:00,  4.36s/it]\n"
     ]
    },
    {
     "name": "stdout",
     "output_type": "stream",
     "text": [
      "{'accuracy': 0.9541999999999999, 'f1': 0.9203999999999999, 'precision': 0.8686}\n",
      "#627\n"
     ]
    },
    {
     "name": "stderr",
     "output_type": "stream",
     "text": [
      "100%|████| 5/5 [00:27<00:00,  5.45s/it]\n"
     ]
    },
    {
     "name": "stdout",
     "output_type": "stream",
     "text": [
      "{'accuracy': 0.9452, 'f1': 0.8555999999999999, 'precision': 0.8484}\n",
      "#628\n"
     ]
    },
    {
     "name": "stderr",
     "output_type": "stream",
     "text": [
      "100%|████| 5/5 [00:53<00:00, 10.80s/it]\n"
     ]
    },
    {
     "name": "stdout",
     "output_type": "stream",
     "text": [
      "{'accuracy': 0.9644, 'f1': 0.8550000000000001, 'precision': 0.9182}\n",
      "#629\n"
     ]
    },
    {
     "name": "stderr",
     "output_type": "stream",
     "text": [
      "100%|████| 5/5 [00:32<00:00,  6.60s/it]\n"
     ]
    },
    {
     "name": "stdout",
     "output_type": "stream",
     "text": [
      "{'accuracy': 0.8583999999999999, 'f1': 0.2692, 'precision': 0.2666}\n",
      "#630\n"
     ]
    },
    {
     "name": "stderr",
     "output_type": "stream",
     "text": [
      "100%|████| 5/5 [00:56<00:00, 11.20s/it]\n"
     ]
    },
    {
     "name": "stdout",
     "output_type": "stream",
     "text": [
      "{'accuracy': 0.9798, 'f1': 0.9582, 'precision': 0.9366000000000001}\n",
      "#631\n"
     ]
    },
    {
     "name": "stderr",
     "output_type": "stream",
     "text": [
      "100%|████| 5/5 [00:30<00:00,  6.17s/it]\n"
     ]
    },
    {
     "name": "stdout",
     "output_type": "stream",
     "text": [
      "{'accuracy': 0.9645999999999999, 'f1': 0.9235999999999999, 'precision': 0.9151999999999999}\n",
      "#632\n"
     ]
    },
    {
     "name": "stderr",
     "output_type": "stream",
     "text": [
      "100%|████| 5/5 [00:21<00:00,  4.34s/it]\n"
     ]
    },
    {
     "name": "stdout",
     "output_type": "stream",
     "text": [
      "{'accuracy': 0.9464, 'f1': 0.9057999999999999, 'precision': 0.8538}\n",
      "#633\n"
     ]
    },
    {
     "name": "stderr",
     "output_type": "stream",
     "text": [
      "100%|████| 5/5 [00:21<00:00,  4.36s/it]\n"
     ]
    },
    {
     "name": "stdout",
     "output_type": "stream",
     "text": [
      "{'accuracy': 0.9433999999999999, 'f1': 0.8644000000000001, 'precision': 0.837}\n",
      "#634\n"
     ]
    },
    {
     "name": "stderr",
     "output_type": "stream",
     "text": [
      "100%|████| 5/5 [00:21<00:00,  4.27s/it]\n"
     ]
    },
    {
     "name": "stdout",
     "output_type": "stream",
     "text": [
      "{'accuracy': 0.9018, 'f1': 0.6792, 'precision': 0.7788}\n",
      "#635\n"
     ]
    },
    {
     "name": "stderr",
     "output_type": "stream",
     "text": [
      "100%|████| 5/5 [00:23<00:00,  4.67s/it]\n"
     ]
    },
    {
     "name": "stdout",
     "output_type": "stream",
     "text": [
      "{'accuracy': 0.9117999999999998, 'f1': 0.7232, 'precision': 0.8846}\n",
      "#636\n"
     ]
    },
    {
     "name": "stderr",
     "output_type": "stream",
     "text": [
      "100%|████| 5/5 [00:42<00:00,  8.48s/it]\n"
     ]
    },
    {
     "name": "stdout",
     "output_type": "stream",
     "text": [
      "{'accuracy': 0.9856, 'f1': 0.969, 'precision': 0.9794}\n",
      "#637\n"
     ]
    },
    {
     "name": "stderr",
     "output_type": "stream",
     "text": [
      "100%|████| 5/5 [00:38<00:00,  7.76s/it]\n"
     ]
    },
    {
     "name": "stdout",
     "output_type": "stream",
     "text": [
      "{'accuracy': 0.914, 'f1': 0.7502000000000001, 'precision': 0.8468}\n",
      "#638\n"
     ]
    },
    {
     "name": "stderr",
     "output_type": "stream",
     "text": [
      "100%|████| 5/5 [00:23<00:00,  4.65s/it]"
     ]
    },
    {
     "name": "stdout",
     "output_type": "stream",
     "text": [
      "{'accuracy': 0.8794000000000001, 'f1': 0.0, 'precision': 0.0}\n"
     ]
    },
    {
     "name": "stderr",
     "output_type": "stream",
     "text": [
      "\n"
     ]
    }
   ],
   "source": [
    "total_folds = 5\n",
    "batch_size = 32\n",
    "metrics = {}\n",
    "\n",
    "for nr in range(616, 639):\n",
    "    print(f'#{nr}')\n",
    "    pos = get_positives(instances, nr)\n",
    "    neg = get_negatives(instances, nr)\n",
    "    dataset = data.get_dataset(pos, neg, get_others(sentences, pos), models.bert_tokenizer, 64, 2*len(pos)/len(neg))\n",
    "    indices = list(range(len(dataset)))\n",
    "    kf = KFold(n_splits=total_folds, shuffle=True, random_state=26)\n",
    "    accumulated_metrics = defaultdict(list)\n",
    "    for fold_index in tqdm(range(total_folds)):\n",
    "        train_indices, val_indices = list(kf.split(indices))[fold_index]\n",
    "        train_dataloader = DataLoader(Subset(dataset, train_indices), batch_size=batch_size, shuffle=True)\n",
    "        val_dataloader = DataLoader(Subset(dataset, val_indices), batch_size=batch_size, shuffle=False)\n",
    "    \n",
    "        classifier=models.RuleDetector(models.bert_encoder).to(models.device)\n",
    "        _, val_metrics = models.train(classifier, train_dataloader, val_dataloader, num_epochs=None, verbose=False)\n",
    "        if val_metrics['precision'] < 0.5: # try again in those extreme cases\n",
    "            _, val_metrics = models.train(classifier, train_dataloader, val_dataloader, num_epochs=None, verbose=False)\n",
    "        for metric_name, metric_value in val_metrics.items():\n",
    "            accumulated_metrics[metric_name].append(metric_value)\n",
    "    \n",
    "    average_metrics = {metric_name: sum(metric_values) / len(metric_values) for metric_name, metric_values in accumulated_metrics.items()}\n",
    "    metrics[nr] = average_metrics\n",
    "    print(average_metrics)"
   ]
  },
  {
   "cell_type": "code",
   "execution_count": 46,
   "id": "a32c0d8c-b163-4b7a-a36c-84c552acd1b9",
   "metadata": {
    "scrolled": true
   },
   "outputs": [
    {
     "name": "stdout",
     "output_type": "stream",
     "text": [
      "#627: FORM: Can use 'would not have' + '-ed' or 'wouldn’t have' + '-ed' (MODALITY: would)\n",
      "Without your help, I wouldn't have got this result. \n",
      "\n",
      "Had it not been for that day, she would not have met George.\n"
     ]
    },
    {
     "name": "stderr",
     "output_type": "stream",
     "text": [
      " 33%|▎| 1000/3000 [01:22<02:44, 12.14it\n"
     ]
    },
    {
     "name": "stdin",
     "output_type": "stream",
     "text": [
      "You're right.If I were the teacher, I wouldn't have done that. 2\n",
      "and I didn't want to be difficult about just few minutes, if I hadn't been missing the bus and in the traffic I wouldn't have been so late. 2\n",
      "If you'd kept quite this would never have happened. 1\n",
      "We wouldn't even have met if I hadn't been in that car accident ten years ago! 2\n"
     ]
    },
    {
     "name": "stdout",
     "output_type": "stream",
     "text": [
      "#629: FORM: Can use an limited range of adverbs with 'would', including 'really', 'probably', 'certainly', 'definitely'.► adverbs (MODALITY: would)\n",
      "I hope you will come soon, and I think that you would really enjoy it because is something different of what you are used to. \n",
      "\n",
      "More over in my opinion it would probably be the best idea to choose the biggest school ... \n",
      "\n",
      "I would definitely choose to live by the sea side!\n"
     ]
    },
    {
     "name": "stderr",
     "output_type": "stream",
     "text": [
      " 16%|▏| 483/3000 [00:39<03:23, 12.35it/\n"
     ]
    },
    {
     "name": "stdin",
     "output_type": "stream",
     "text": [
      "I would think this was the least they could do. 1\n",
      "The air would certainly be cleaner if there were fewer cars being used in the city. 2\n",
      "This way we will both have money to take a cab home, otherwise, you would probably have to walk. 2\n",
      "That would probably be uncomfortable. 2\n",
      "Well, I guess I could give you one more chance, but this is the last time.In themeantime, I hear that Tom who normally does night shift is taking three weeks ' vacation, Can you think of anyone who would be willing to work nights while he is gone? 1\n",
      "Maybe that's true for some positions, but I think the marketing and sales staff would definitely not agree. 2\n",
      "And if they are seriously considering hiring you, they will probably want to know when you would be available to start work. 1\n",
      "He might really appreciate that. 1\n",
      "It would probably be more comfortable over there. 2\n",
      "Flexibility would certainly rank high in this type of job. 2\n",
      "But I would definitely recommend this place! 2\n",
      "About freezing point, I think.But the morning's forecast said that we are going to have a very cold spell in the next few days - and the temperature will probably drop to 10 or 15 degrees below zero. 1\n",
      "You'd have to remember that anything you said or did might reflect on the charity, so you'd really need to be very careful. 2\n",
      "I think I would really benefit from doing that. 2\n",
      "Well, I'd really like to see you again before you leave. 2\n"
     ]
    },
    {
     "name": "stdout",
     "output_type": "stream",
     "text": [
      "#630: USE: Can use 'would' to talk about the future in the past. (MODALITY: would)\n",
      "I've just bought a new dress, and a beautiful black T-shirt. When I saw them, I thought they would be great for tonight's party. \n",
      "\n",
      "… we thought that the film would be horrible because of the title but when the film started, the story was beautiful and Mauricio and I liked it a lot. \n",
      "\n",
      "And she asked me if I would play the game with her against her cousin and her friend on Saturday.\n"
     ]
    },
    {
     "name": "stderr",
     "output_type": "stream",
     "text": [
      "  8%| | 244/3000 [00:19<03:42, 12.39it/\n"
     ]
    },
    {
     "name": "stdin",
     "output_type": "stream",
     "text": [
      "Stephany said she would go out with me. 2\n",
      "No, I thought that would be included in the rent. 2\n",
      "The problem, however, is that I can't be confident in giving you a good priceless I am confident your product will last. 1\n",
      "I was hoping you would come. 2\n",
      "I knew it would be colder here, but I thought there would be a lot of snow. 2\n",
      "When you told your mom you would be home around 2 am, She must have a cow! 2\n",
      "He began to be interested in finance because he thought he would be able to inherit the family's fortune. 2\n",
      "Did she tell you whether you would get the job? 2\n",
      "He said he would like to be our tour director and he lined up many things to do. 1\n",
      "When she told me that she would marry no man but Dick, my heart was almost in my mouth. 2\n",
      "If I won the lottery, I would buy two tickets for a trip around the world. 1\n",
      "I would pick the best one. 1\n",
      "I would have to weigh it to see how much it would cost. 1\n",
      "It's as if he knew that my old iron would soon stop working! 2\n",
      "The dressmakers said that is would be ready in two weeks. 2\n",
      "She said that the columnist for the literary criticism column would be going on pregnancy leave soon and that I could be in charge of the column until she came back. 2\n",
      "carol said that she would spend some time checking that everyone is up-to-date with their work. 2\n",
      "I would like to know if there would be any opportunity to work abroad in the future? 1\n",
      "The chairman said he would send a memo to all managers by the end of this week informing them of the date of the next meeting. 2\n"
     ]
    },
    {
     "name": "stdout",
     "output_type": "stream",
     "text": [
      "#631: USE: Can use 'would' to talk about imagined situations in the past. ► conditionals (MODALITY: would)\n",
      "The next week I would have flown to Miami to meet George Clooney. \n",
      "\n",
      "If I were in your shoes I would have chosen the school which is in the centre of town…  \n",
      "\n",
      "If you hadn't helped me, I wouldn't have known how to do that homework project. \n",
      "\n",
      "If I had gone with uncomfortable shoes, I wouldn't have danced all the time.\n"
     ]
    },
    {
     "name": "stderr",
     "output_type": "stream",
     "text": [
      " 16%|▏| 471/3000 [00:38<03:24, 12.34it/\n"
     ]
    },
    {
     "name": "stdin",
     "output_type": "stream",
     "text": [
      "Without her support and encouragement, I don't think I would have felt confident enough to have written up a proposal suggesting that the department change a process that had been in place for a long time. 2\n",
      "I knew it would be colder here, but I thought there would be a lot of snow. 1\n",
      "He began to be interested in finance because he thought he would be able to inherit the family's fortune. 1\n",
      "If I were a manager, I would have a private talk with this employ to figure out the reasons. 1\n",
      "If I had drunk enough and I would have had the bold to punch him in the face. 2\n",
      "I thought his race would have kept him from winning. 2\n",
      "If I were in your position, I wouldn't give up an inch. 1\n",
      "I was caught in the heavy rain, or I would have come earlier. 2\n",
      "I want the degree, so I wouldn't have accepted the offer. 2\n",
      "I would have thought you were too young. 2\n",
      "If you would not have been so kind, I would not have been able to pick my parents from the airport. 2\n",
      "I would have been very disappointed if I hadn't got them. 2\n",
      "If you had read your key card carefully, you would have realized that we specially warned you to do so. 2\n",
      "If the money was sent by cable, it would have taken about one or two days. 2\n",
      "maybe if I sold my car now, I wouldn't be so tempted to use it. 1\n",
      "He would have recovered from the stress and got married again. 1\n",
      "I hoped you would be willing to brainstorm with me for party ideas. 1\n",
      "Maybe if I sold my car now, I wouldn't be so tempted to use it. 1\n",
      "He probably would have loved it if we were robots. 2\n"
     ]
    },
    {
     "name": "stdout",
     "output_type": "stream",
     "text": [
      "#635: USE: Can use the negative forms of 'would' to talk about willingness in the past. (MODALITY: would)\n",
      "We had to leave without you because the bus driver wouldn't wait. \n",
      "\n",
      "[talking about a guitar] It was all that I wanted in life but my parents would not allow me to buy it.\n"
     ]
    },
    {
     "name": "stderr",
     "output_type": "stream",
     "text": [
      " 33%|▎| 1000/3000 [01:22<02:44, 12.15it\n"
     ]
    },
    {
     "name": "stdin",
     "output_type": "stream",
     "text": [
      "He wouldn't tell me anything without a signed contract. 2\n",
      "Well, the bartender wouldn't give me the pitcher of beer. 2\n",
      "well, i wanted to get a pet that wouldn't disturb the neighbors. 2\n",
      "Didn't I tell you over and over again that you wouldn't be able to climb the mountain unless you got enough sleep? 1\n",
      "It seems that yesterday the Mexican government declared wouldn't pay back the loans it got from the World Bank.The government declared a default on the loans. 2\n",
      "I wish the teacher wouldn't make us read this book. 1\n",
      "The officer wouldn't lie about that. 2\n",
      "Theaters wouldn't let kids in to PG moves without a parent. 2\n",
      "But they wouldn't lay you off! 1\n",
      "He wouldn't stop talking throughout the class. 2\n",
      "It wouldn't rain in the middle of the summer. 1\n"
     ]
    },
    {
     "name": "stdout",
     "output_type": "stream",
     "text": [
      "#636: USE: Can use 'would' to talk about habitual actions and events in the past. (MODALITY: would)\n",
      "[talking about a job that the speaker did last year] In my opinion I worked very hard. I would spend a lot of hours at work. \n",
      "\n",
      "[from a story about pirates] At night they would go to the rocky seaside and light a fire in order to deceive the boats and let them crash on the rocks.\n"
     ]
    },
    {
     "name": "stderr",
     "output_type": "stream",
     "text": [
      " 33%|▎| 1000/3000 [01:22<02:45, 12.10it\n"
     ]
    },
    {
     "name": "stdin",
     "output_type": "stream",
     "text": [
      "I would banish nightingales from her garden before they interrupted her song. 2\n",
      "She liked to name-drop... we would be in a meeting and she would say, yesterday I was chatting with Tom. 2\n",
      "When I first got here, I'd get depressed and nostalgic for anything that reminded me of home. 2\n",
      "She would never talk about me behind my back or hold a grudge. 1\n",
      "I would get Fuji 200 film for taking photos of natural beauty. 1\n",
      "Sometimes he would wake up covered in sweat, with his legs pumping away. 2\n",
      "I would have a few vases on the mantel piece and some pictures of my family on the walls, but other than that, most things would be kept in closets. 2\n",
      "I could then send an e-mail to all the staff to explain the coming meeting.This way the meetings would become more focused, and people would prepare better. 1\n",
      "She would be laughing one moment, and if I said something insensitive, she would start crying. 2\n",
      "He lives nearby and he would just glance at the newspaper headlines, read the political sections and return them later. 2\n",
      "But we would meet every two weeks. 1\n",
      "Reading the tarot cards, in the east they would even read tea leaves! 1\n",
      "But I heard the film club of our school would show a film for free. 1\n",
      "Sometimes I would tap their hands when they made troubles. 2\n",
      "Before each course, the teacher would ask if we wanted to learn the Continental European way or the American way. 2\n",
      "I would work step by step and make further study. 1\n"
     ]
    },
    {
     "name": "stdout",
     "output_type": "stream",
     "text": [
      "#637: FORM: Can use an increasing range of adverbs with 'would', including 'strongly', 'easily', 'especially', 'actually', 'absolutely', 'gladly'  ► adverbs (MODALITY: would)\n",
      "Considering the aspects of our education system, and the results of my research, I would strongly recommend the following changes to be made. \n",
      "\n",
      "Because of her wide and excellent experience with small children I believe that Nascha would easily fit into a family with small children.\n"
     ]
    },
    {
     "name": "stderr",
     "output_type": "stream",
     "text": [
      " 18%|▏| 526/3000 [00:42<03:21, 12.30it/\n"
     ]
    },
    {
     "name": "stdin",
     "output_type": "stream",
     "text": [
      "I would always be ready to go shopping with you! 2\n",
      "They're absolutely right to get a replacement for 21. 1\n",
      "It drives me crazy after forty minutes.And anyhow, if we go to the Latin Club you could actually learn some Latin dance steps.At the New Bar you'll just shake yourself around for an hour.And then you'll get sick of stand you'll want to go get drunk somewhere where the drinks are cheaper. 2\n",
      "If you find this person is more and more important to you and you can totally trust her, then you can stay in love. 1\n",
      "That would really help me, Sue. 1\n",
      "I'd strongly recommend that you wait for a while before going swimming. 2\n",
      "You can greatly improve your grades by always reflecting on what you can improve on. 1\n",
      "He might really appreciate that. 1\n",
      "If you have made progress, we will certainly raise your salary. 1\n",
      "Flexibility would certainly rank high in this type of job. 1\n",
      "So would you say if things don't go your way at work it could easily get you down? 1\n",
      "The needles are very thin, and as long as the doctor's technique is good, and the patient himself is relaxed, it won't hurt-on the contrary it will actually alleviate pain. 1\n",
      "To be frank with you, if it were not for the long - standing relationship between us, we would hardly be willing to make you a firm offer at this price. 1\n",
      "Figuring in your other expenses, you can easily afford a house costing seven hundred thousand or maybe even a little more! 1\n",
      "You should particularly state your strong points which are closely related to the position you are applying for. 1\n",
      "I think I would really benefit from doing that. 1\n",
      "All this information is useful so that you can move on to your strategy and implementation stage, where you will describe in detail how you will actually execute your idea. 1\n",
      "You would really enjoy it. 1\n"
     ]
    },
    {
     "name": "stdout",
     "output_type": "stream",
     "text": [
      "#638: FORM: Can use a wide range of adverbs with 'would', including 'undoubtedly', 'possibly', 'normally', 'personally', 'eventually', 'obviously', 'significantly', 'inevitably'. ► adverbs (MODALITY: would)\n",
      "[talking about the construction of a leisure centre] I believe that the construction of such a centre would undoubtedly contribute to the improvement of our quality of life. \n",
      "\n",
      "Organising family-oriented activities would significantly increase membership and raise the society's popularity with the local community.\n"
     ]
    },
    {
     "name": "stderr",
     "output_type": "stream",
     "text": [
      " 33%|▎| 1000/3000 [01:22<02:44, 12.16it\n"
     ]
    },
    {
     "name": "stdin",
     "output_type": "stream",
     "text": [
      "Normally, I would take you up on that suggestion, but just the champagne will do for tonight. 1\n",
      "We could potentially make this tragedy work for us and make us think outside the box. 1\n"
     ]
    }
   ],
   "source": [
    "hits_path = '../data/corpus_training_hits.json'\n",
    "coded_instances = pd.DataFrame(columns=['#', 'sentence', 'correct', 'score', 'max_token']) if not os.path.exists(hits_path) else pd.read_json(output_path)\n",
    "coded_instances['correct'] = coded_instances['correct'].astype(bool)\n",
    "\n",
    "for nr in range(616, 639):\n",
    "    rule = egp_gpt[egp_gpt['#']==nr].iloc[0]\n",
    "    if len(coded_instances[coded_instances['#']==nr]) >= 20: continue\n",
    "    print(f\"#{nr}: {rule['type']}: {rule['Can-do statement']} ({rule['SuperCategory']}: {rule['SubCategory']})\")\n",
    "    print(rule['Example'])\n",
    "    classifier = models.load_classifier(nr, \"corpus_training\")\n",
    "    scores, tokens = models.score_corpus(classifier, corpus_dataloader, max_positive=25, max_batches=1000)\n",
    "    unseen_hits = [(score, token, sample) for score, token, sample in zip(scores, tokens, encoded_inputs['sentences'][:len(scores)]) if score > 0.5 and not sample in get_positives(instances, nr)]\n",
    "    for score, token, sample in unseen_hits[:20]:\n",
    "        if sample in list(coded_instances[coded_instances['#']==nr]['sentence']): continue\n",
    "        user_response = input(f\"{sample}\")\n",
    "        new_row = pd.DataFrame({'#': [nr],\n",
    "             'sentence': [sample],\n",
    "             'correct': [True if user_response == '2' else False],\n",
    "             'score': [score],\n",
    "             'max_token': [token]})\n",
    "        coded_instances = pd.concat([coded_instances, new_row], ignore_index=True)\n",
    "        coded_instances.to_json(output_path)"
   ]
  },
  {
   "cell_type": "code",
   "execution_count": 116,
   "id": "dda6feef-d265-4035-8c9f-b50d1dc5484b",
   "metadata": {},
   "outputs": [],
   "source": [
    "coded_instances = pd.DataFrame(columns=['#', 'sentence', 'correct', 'score', 'max_token']) if not os.path.exists(hits_path) else pd.read_json(hits_path)\n",
    "coded_instances['correct'] = coded_instances['correct'].astype(bool)"
   ]
  },
  {
   "cell_type": "code",
   "execution_count": 50,
   "id": "bb8b3ef0-d5bf-4c6a-8854-8aad0ff00a6f",
   "metadata": {},
   "outputs": [
    {
     "data": {
      "image/png": "[encoded data removed]",
      "text/plain": [
       "<Figure size 800x500 with 2 Axes>"
      ]
     },
     "metadata": {},
     "output_type": "display_data"
    }
   ],
   "source": [
    "correct_per_rule = coded_instances.groupby('#')['correct'].mean()\n",
    "def plot_histogram(ax, data):\n",
    "    sns.histplot(ax=ax, data=data, bins=10, kde=True, color=\"skyblue\", edgecolor='black', alpha=0.7, legend=False)\n",
    "    ax.set_ylabel(f\"Number of rules / {len(correct_per_rule)}\")\n",
    "    ax.set_xlabel(\"Metric\")\n",
    "    ax.xaxis.set_major_formatter(FuncFormatter(lambda x, _: f'{x*100:.0f}%'))\n",
    "    ax.set_xlim(0, 1)\n",
    "\n",
    "fig, axs = plt.subplots(2, 1, figsize=(8, 5))\n",
    "plot_histogram(axs[0], [m['precision'] for m in metrics.values()])\n",
    "axs[0].set_title(\"Distribution of Rule Detection Precision on Validation Data\")\n",
    "plot_histogram(axs[1], list(correct_per_rule))\n",
    "axs[1].set_title(\"Distribution of Rule Detection Precisions on Unseen Corpus\")\n",
    "plt.tight_layout()\n",
    "plt.show()"
   ]
  },
  {
   "cell_type": "code",
   "execution_count": 51,
   "id": "2dde9d5c-142b-4cf4-8045-d97eaad7e05a",
   "metadata": {},
   "outputs": [
    {
     "data": {
      "image/png": "[encoded data removed]",
      "text/plain": [
       "<Figure size 1000x600 with 1 Axes>"
      ]
     },
     "metadata": {},
     "output_type": "display_data"
    }
   ],
   "source": [
    "df = pd.DataFrame({'Validation Set': [m['precision'] for m in metrics.values()], 'Corpus': list(correct_per_rule)})\n",
    "ax = df.plot(kind='bar', figsize=(10, 6), alpha=0.75, edgecolor='black')\n",
    "ax.set_xlabel(\"Rule Index\")\n",
    "ax.set_ylabel(\"Metric Value\")\n",
    "ax.set_title(\"Comparison of Precision in Validation Set and on unseen Corpus\")\n",
    "ax.set_xticklabels(correct_per_rule.index, rotation=45)\n",
    "ax.set_ylim(0, 1)\n",
    "ax.yaxis.set_major_formatter(FuncFormatter(lambda y, _: f'{y*100:.0f}%'))\n",
    "\n",
    "plt.tight_layout()\n",
    "plt.show()"
   ]
  },
  {
   "cell_type": "code",
   "execution_count": null,
   "id": "e96d2bd2-f73d-4bf0-a1dc-07c618f6a3be",
   "metadata": {},
   "outputs": [],
   "source": []
  }
 ],
 "metadata": {
  "kernelspec": {
   "display_name": "Python 3 (ipykernel)",
   "language": "python",
   "name": "python3"
  },
  "language_info": {
   "codemirror_mode": {
    "name": "ipython",
    "version": 3
   },
   "file_extension": ".py",
   "mimetype": "text/x-python",
   "name": "python",
   "nbconvert_exporter": "python",
   "pygments_lexer": "ipython3",
   "version": "3.11.2"
  }
 },
 "nbformat": 4,
 "nbformat_minor": 5
}
