{
 "cells": [
  {
   "cell_type": "markdown",
   "id": "522ae38e-f2f3-4c55-99a6-9d9f35f8aaf6",
   "metadata": {},
   "source": [
    "# Exp 017: Corpus Grammar Description \n",
    "This experiment describes the used datasets in terms of the evaluation as the uncontrolled ground truth."
   ]
  },
  {
   "cell_type": "code",
   "execution_count": 2,
   "id": "4629537e-6e64-4fc9-a9a1-5fb42f23fb41",
   "metadata": {},
   "outputs": [
    {
     "name": "stderr",
     "output_type": "stream",
     "text": [
      "[nltk_data] Downloading package punkt to\n",
      "[nltk_data]     /scratch/tmp.55153560.dglandorf...\n",
      "[nltk_data]   Unzipping tokenizers/punkt.zip.\n"
     ]
    }
   ],
   "source": [
    "import os\n",
    "from dotenv import load_dotenv\n",
    "load_dotenv()\n",
    "os.environ['CACHE_DIR'] = f\"/scratch/tmp.{os.getenv('SLURM_JOB_ID')}.dglandorf\" # speed up model loading\n",
    "\n",
    "import sys\n",
    "sys.path.append(f'../source')\n",
    "import data\n",
    "import helpers\n",
    "import importlib\n",
    "#importlib.reload(models)\n",
    "#import evaluation\n",
    "import models\n",
    "import numpy as np\n",
    "from tqdm.notebook import tqdm\n",
    "from torch.utils.data import DataLoader, TensorDataset\n",
    "from torch.nn import DataParallel\n",
    "import random\n",
    "import seaborn as sns\n",
    "from matplotlib import pyplot as plt\n",
    "import pickle\n",
    "\n",
    "random.seed(os.getenv(\"RANDOM_SEED\"))"
   ]
  },
  {
   "cell_type": "code",
   "execution_count": 3,
   "id": "222a21cc-647c-43ab-b28e-aa21961a6ef6",
   "metadata": {},
   "outputs": [],
   "source": [
    "# params\n",
    "out_file = '../data/corpus_classification_all.pkl'\n",
    "dir=\"corpus_training\"\n",
    "max_responses = int(1e6)\n",
    "n = 4\n",
    "batch_size = 256\n",
    "egp = helpers.get_egp()"
   ]
  },
  {
   "cell_type": "markdown",
   "id": "3b5e2d60-102e-468c-89d0-7ac5580bafd6",
   "metadata": {},
   "source": [
    "Load dialogs and list of classifiers"
   ]
  },
  {
   "cell_type": "code",
   "execution_count": 4,
   "id": "be35787a-b70a-409c-974a-91880551a5b3",
   "metadata": {},
   "outputs": [],
   "source": [
    "dialog_data = data.get_dialog_data()\n",
    "random.shuffle(dialog_data)\n",
    "classifiers_nrs = helpers.get_existing_classifiers(dir)"
   ]
  },
  {
   "cell_type": "markdown",
   "id": "74a5e23d-79c6-4e92-82cf-3e604597881c",
   "metadata": {},
   "source": [
    "Preprocess data"
   ]
  },
  {
   "cell_type": "code",
   "execution_count": 42,
   "id": "fd578882-c70f-4dd8-962b-78bebb7dc1b0",
   "metadata": {},
   "outputs": [
    {
     "data": {
      "application/vnd.jupyter.widget-view+json": {
       "model_id": "d8990470617945a2bfa767abc0ce2679",
       "version_major": 2,
       "version_minor": 0
      },
      "text/plain": [
       "  0%|          | 0/485600 [00:00<?, ?it/s]"
      ]
     },
     "metadata": {},
     "output_type": "display_data"
    }
   ],
   "source": [
    "extracts = [[(dialog[0][i-n:i], dialog[0][i], dialog[1]) for i in range(n, len(dialog[0]))] for dialog in dialog_data]\n",
    "extracts = helpers.flatten_list_of_lists(extracts)\n",
    "extracts = extracts[0:max_responses]\n",
    "sentences = [(idx, sentence) for idx, (context, response, source) in tqdm(enumerate(extracts), total=len(extracts)) for sentence in data.sent_tokenize(response)]\n",
    "indices, sents = [s[0] for s in sentences], [s[1] for s in sentences]"
   ]
  },
  {
   "cell_type": "markdown",
   "id": "de87a7fa-6ab3-41c0-b518-de7c5dcf67aa",
   "metadata": {},
   "source": [
    "## Run on corpus"
   ]
  },
  {
   "cell_type": "code",
   "execution_count": 66,
   "id": "f1f55f4c-9438-495d-981f-57c95f8343b4",
   "metadata": {},
   "outputs": [],
   "source": [
    "encoded_inputs = models.bert_tokenizer(sents, return_tensors='pt', max_length=64, padding='max_length', truncation=True)\n",
    "corpus_dataset = TensorDataset(encoded_inputs['input_ids'], encoded_inputs['attention_mask'])\n",
    "corpus_dataloader = DataLoader(corpus_dataset, batch_size=batch_size, shuffle=False)"
   ]
  },
  {
   "cell_type": "code",
   "execution_count": 67,
   "id": "63e17c65-6f0f-448e-85c1-c038694ce69f",
   "metadata": {
    "scrolled": true
   },
   "outputs": [
    {
     "name": "stdout",
     "output_type": "stream",
     "text": [
      "Can use the negative forms of mental process verbs ('I don't think', 'I don't believe') followed by a complement clause, where the negative form is in the mental process verb rather than the complement clause.\n"
     ]
    },
    {
     "name": "stderr",
     "output_type": "stream",
     "text": [
      "100%|████████████████████████████████████████████████████████████████████████████████████████████████████| 3270/3270 [13:27<00:00,  4.05it/s]\n"
     ]
    },
    {
     "name": "stdout",
     "output_type": "stream",
     "text": [
      "2.33%\n",
      "[\"I don't know.\", \"I don't believe I have.\", \"I don't know why I am late all the time.\", \"Well, I don't know.\", \"I don't think they should be able to take dues from a republican worker and send it to a democrat campaign.\", \"Wow I didn't realize it's that old.\", \"You see, I already have more than 5, 000 RMB in my cash card, but I really don't know how much I should get.\", \"i don't recall many of he details.\", \"I didn't know that\", \"I don't know exact dates, but some say the sundae is actually a variation on the popular ice cream soda.\", \"batman is a character played by ben affleck, I don't know why it's called superman\", \"I don't doubt it!\", \"I can't say that I like her dislike her.\", \"And I didn't know that she was in the 1976 King Kong movie, I like the original King Kong movie, I'll have to check her eyes out\", \"Back to Meryl Streep, she actually has a daughter who plays the FBI agent on that show, I've seen that show but I don't remember her daughter, I'll have to check that out\", 'And yes, Dino De Laurentiis said to his son in Italian \"she\\'s ugly why did you bring me this thing\" but he didn\\'t know that she spoke Italian and she then replied to him LOL', \"I don't think that eventually everyone will subscribe unless broadcast television stations like NBC, ABC, FOX, and CBS go away.\", \"I don't see that happening.\", \"But I don't doubt The Avengers is a quality movie.\", \"just regular fish.Don't know if I can handle it on a pizza.\"]\n",
      "Can use negative question forms in main clauses and question tags. ► questions\n"
     ]
    },
    {
     "name": "stderr",
     "output_type": "stream",
     "text": [
      "100%|████████████████████████████████████████████████████████████████████████████████████████████████████| 3270/3270 [13:34<00:00,  4.01it/s]\n"
     ]
    },
    {
     "name": "stdout",
     "output_type": "stream",
     "text": [
      "0.99%\n",
      "[\"Say, why don't you come with us?\", \"it wasn't Disney or Universal?\", \"wasn't there like a short film that minions were in and all went from there?\", \"Who doesn't?\", \"I think they are a little bit expensive aren't they?\", \"That's amazing isn't it!\", \"Couldn't you do it today?\", \"and why isn't this hit done?\", \"The gallery's on Flower Street, isn't it?\", \"Didn't we have to show ID to get on the plane?\", \"More like what don't I like, lol.\", \"ya that is crazy, like why wouldn't the president always stay in the guest house then, do you know why the president of zimbabwe was nicknamed president banana?\", \"Isn't it cold there?\", \"Isn't it a cool scene when the arc reactor explodes and destroys Stane's armor?\", \"don't remember that... damn... why can't I remember so many scenes...\", \"Wouldn't that be funny if the place that fined him that late fee was Blockbuster?\", \"Isn't that wonderful?\", \"Why didn't you register then?\", \"Why don't you get it for me, and then I can call the police?\", \"All those sites are supposed to self-police and ban people who are abusers and if they don't they should be taken off-line.\"]\n"
     ]
    }
   ],
   "source": [
    "all_hit_indices = {}\n",
    "all_hit_sentences = {}\n",
    "for nr in classifiers_nrs:\n",
    "    print(egp.iloc[nr-1]['Can-do statement'])\n",
    "    classifier = models.load_classifier(nr, dir)\n",
    "    classifier = DataParallel(classifier)\n",
    "    scores, tokens = models.score_corpus(classifier, corpus_dataloader, max_positive=1e10, max_batches=1e5, threshold=0.5)\n",
    "    results = list(zip(scores, sents))\n",
    "\n",
    "    hit_indices = np.array(indices)[np.array(scores)>0.5]\n",
    "    print(\"{:.2f}%\".format(len(np.unique(hit_indices))/len(extracts)*100))\n",
    "    \n",
    "    hit_sentences = [sample for score, sample in results if score > 0.5]\n",
    "    print(hit_sentences[0:20])\n",
    "    \n",
    "    all_hit_indices[nr] = hit_indices\n",
    "    all_hit_sentences[nr] = hit_sentences"
   ]
  },
  {
   "cell_type": "code",
   "execution_count": 76,
   "id": "a422502f-e7ba-4f92-8be2-9133fdce95b4",
   "metadata": {},
   "outputs": [],
   "source": [
    "with open(out_file, 'wb') as f:\n",
    "    pickle.dump(all_hit_indices, f)\n",
    "    pickle.dump(all_hit_sentences, f)\n",
    "    pickle.dump(extracts, f)"
   ]
  },
  {
   "cell_type": "markdown",
   "id": "abf098ea-cbf5-4f9c-bbda-60f2340fd652",
   "metadata": {},
   "source": [
    "# Analysis\n",
    "Load data from script output"
   ]
  },
  {
   "cell_type": "code",
   "execution_count": 4,
   "id": "c7b44eef-68f5-4788-af03-30fd93c94fc1",
   "metadata": {},
   "outputs": [],
   "source": [
    "with open(out_file, 'rb') as f:\n",
    "    all_hit_indices = pickle.load(f)\n",
    "    all_hit_sentences = pickle.load(f)\n",
    "    extracts = pickle.load(f)\n",
    "responses = [e[1] for e in extracts]"
   ]
  },
  {
   "cell_type": "code",
   "execution_count": 5,
   "id": "2ffe8a66-1df0-4f70-8630-3d1f630c09e1",
   "metadata": {},
   "outputs": [
    {
     "name": "stderr",
     "output_type": "stream",
     "text": [
      "/tmp/ipykernel_3238/3026258648.py:3: UserWarning: FixedFormatter should only be used together with FixedLocator\n",
      "  plt.gca().set_xticklabels([f'{x/len(extracts):.0%}' for x in plt.gca().get_xticks()])\n"
     ]
    },
    {
     "data": {
      "image/png": "[encoded data removed]",
      "text/plain": [
       "<Figure size 640x480 with 1 Axes>"
      ]
     },
     "metadata": {},
     "output_type": "display_data"
    }
   ],
   "source": [
    "hit_ratios = np.array([len(np.unique(indices)) for indices in all_hit_indices.values()])\n",
    "sns.histplot(hit_ratios, bins=25)\n",
    "plt.gca().set_xticklabels([f'{x/len(extracts):.0%}' for x in plt.gca().get_xticks()])\n",
    "plt.ylabel(\"Number of skills\")\n",
    "plt.xlabel(\"Frequency of skill\")\n",
    "plt.title(f\"Hits by Skill (n={len(all_hit_indices):,})\")\n",
    "plt.show()"
   ]
  },
  {
   "cell_type": "code",
   "execution_count": 6,
   "id": "806cc231-32ef-4171-adab-fa6db82b657d",
   "metadata": {},
   "outputs": [
    {
     "data": {
      "text/plain": [
       "3"
      ]
     },
     "execution_count": 6,
     "metadata": {},
     "output_type": "execute_result"
    }
   ],
   "source": [
    "(hit_ratios<100).sum()"
   ]
  },
  {
   "cell_type": "code",
   "execution_count": 7,
   "id": "39ef94b4-5aa8-4d6c-a4af-589acfd3c2cb",
   "metadata": {},
   "outputs": [
    {
     "data": {
      "application/vnd.jupyter.widget-view+json": {
       "model_id": "ee34c53ff60645cbb4efdc7fa5cba0b1",
       "version_major": 2,
       "version_minor": 0
      },
      "text/plain": [
       "  0%|          | 0/485600 [00:00<?, ?it/s]"
      ]
     },
     "metadata": {},
     "output_type": "display_data"
    },
    {
     "data": {
      "application/vnd.jupyter.widget-view+json": {
       "model_id": "a1a08dee5dc7415f98632c0d809d92a2",
       "version_major": 2,
       "version_minor": 0
      },
      "text/plain": [
       "  0%|          | 0/485600 [00:00<?, ?it/s]"
      ]
     },
     "metadata": {},
     "output_type": "display_data"
    },
    {
     "data": {
      "application/vnd.jupyter.widget-view+json": {
       "model_id": "da9521ceb8db412c9791e00611e303e5",
       "version_major": 2,
       "version_minor": 0
      },
      "text/plain": [
       "  0%|          | 0/485600 [00:00<?, ?it/s]"
      ]
     },
     "metadata": {},
     "output_type": "display_data"
    },
    {
     "data": {
      "application/vnd.jupyter.widget-view+json": {
       "model_id": "ec82cb10c97b4445a8684423472f2ff9",
       "version_major": 2,
       "version_minor": 0
      },
      "text/plain": [
       "  0%|          | 0/485600 [00:00<?, ?it/s]"
      ]
     },
     "metadata": {},
     "output_type": "display_data"
    }
   ],
   "source": [
    "found_rules = np.array([set(nr for nr, indices in all_hit_indices.items() if index in indices) for index in tqdm(range(len(extracts)))])\n",
    "found_statements = [{egp.iloc[nr-1]['Can-do statement'] for nr in rules} for rules in tqdm(found_rules)]\n",
    "found_cats = [{egp.iloc[nr-1]['SubCategory'] for nr in rules} for rules in tqdm(found_rules)]\n",
    "found_cat_level = [{f\"{egp.iloc[nr-1]['SubCategory']}-{egp.iloc[nr-1]['Level']}\" for nr in rules} for rules in tqdm(found_rules)]\n",
    "\n",
    "num_rules = np.array([len(rules) for rules in found_rules])\n",
    "num_cats = np.array([len(cats) for cats in found_cats])"
   ]
  },
  {
   "cell_type": "code",
   "execution_count": 115,
   "id": "54124b44-ce27-4f2d-a569-e691d8083693",
   "metadata": {
    "scrolled": true
   },
   "outputs": [
    {
     "data": {
      "text/plain": [
       "[(\"I don't think too many people would agree with you.  Since they know it's out there and about them.  All those sites are supposed to self-police and ban people who are abusers and if they don't they should be taken off-line.\",\n",
       "  {'conditional-A2', 'negation-A1', 'negation-B1', 'would-A2'}),\n",
       " (\"you're right. If she walked into meetings with our clients like that, it would make our company look bad, wouldn't it?\",\n",
       "  {'conditional-A2', 'conditional-B1', 'negation-B1', 'would-A2', 'would-B1'}),\n",
       " (\"Exactly! I wouldn't want to have to listen to that type of stuff if I was a woman!\",\n",
       "  {'conditional-B1', 'negation-A2', 'would-A2', 'would-B1'}),\n",
       " (\"there just isn't enough affordable housing to go around. If only the housing cost would drop, fewer people would be in financial trouble.\",\n",
       "  {'conditional-B1', 'negation-A1', 'would-A2', 'would-B1'}),\n",
       " (\"Umm.. okay.. I was reading the document.  I was supposed to be allowed to read for 5 minutes.. before I actually ended up chatting.  I read.. about LA LA LA land and then I didn't notice someone was already chatting.  I waited five minutes.. I thought maybe your system would send another.. I waited for another page to be sent.. neither thing happened so I am aborting conversation and asking to be paid.. If you have a user this weekend at a specific time, just email me and I'll come back again for free\",\n",
       "  {'conditional-A2', 'negation-A2', 'would-B1'}),\n",
       " (\"Don't take any chances. I think it would be be best if you told him frankly and promised not to be late again. He's already mad at you for last 2 times. If there is any more, he might fire you.\",\n",
       "  {'conditional-A2', 'negation-A2', 'would-A2'}),\n",
       " ('I have seen a big flamethrower, but how would the driver be holding it? Companies should create cars with flame throwers installed. Anyways, I attended venues, but I do not think they count as concerts. If I went to a concert, I would definitely go to a Wiz Khalifa concert.',\n",
       "  {'conditional-A2',\n",
       "   'conditional-B1',\n",
       "   'negation-A1',\n",
       "   'negation-B2',\n",
       "   'would-A2',\n",
       "   'would-B1'}),\n",
       " (\"I don't think Monty Python was ever cancelled by Comedy Central, but it sounds like if they were on that network, they might've! Apparently, a computer programmer was such a fan of Monty Python, he named a programming language Python.\",\n",
       "  {'conditional-B1', 'negation-A1', 'negation-B1', 'would-B1'}),\n",
       " (\"A colour TV set, of course, but I'm not sure about the size. Maybe we should buy a big one. If we buy a small one, we might have to change it in a few years' time for a bigger one. That would be a waste of money. What's your opinion?\",\n",
       "  {'conditional-A2', 'negation-A1', 'would-A2'}),\n",
       " (\"Yes. As I know, your sitting room isn't very big. If you put in a very big television, it will be bad for your eyes, and a smaller TV set can still pick up good programmes.\",\n",
       "  {'conditional-A2', 'negation-A1', 'would-A2'}),\n",
       " ('If I am alt-right, I do not want my name included with the KKK. However, I am not alt-roght and think they should be lumped in with them.',\n",
       "  {'conditional-A2', 'negation-A1', 'negation-B2', 'would-A2'}),\n",
       " (\"That's cool. I could see it being fun if you play, just for me to watch I didn't really like it. Have you ever played kickball by the way? Apparently in Canada it's called soccer baseball LOL\",\n",
       "  {'conditional-A2', 'negation-A2', 'would-B1'}),\n",
       " (\"I'm not sure. It depends how old they were. If they were like from the 1900s, I would never sell them. \",\n",
       "  {'conditional-B1', 'negation-A1', 'would-A2', 'would-B1'}),\n",
       " (\"I guess that depends on your parenting style. If I was a parent, I guess I'd probably say no? But nothing wouldn't been new to me at 14. Not really sure. Interesting question. What do you think?\",\n",
       "  {'conditional-B1', 'negation-A1', 'would-A2', 'would-B1'}),\n",
       " ('Im with you there, nor would the 40% Canadian music if you live in Canada.',\n",
       "  {'conditional-A2', 'negation-C2', 'would-B1'}),\n",
       " ('I would agree, although perhaps not as well as Linkin Park who have the best-selling album of the 21st century!',\n",
       "  {'negation-A1',\n",
       "   'superlatives-A2',\n",
       "   'superlatives-B1',\n",
       "   'would-A2',\n",
       "   'would-B1'}),\n",
       " (\"Haha nope I was going to say, I don't know of any good Canadian music so it sounds like Canadian radio would be pretty horrible LOL on a separate note who do you think are the top three most wealthy presidents that the United States has had\",\n",
       "  {'negation-A1',\n",
       "   'negation-B1',\n",
       "   'superlatives-A2',\n",
       "   'superlatives-B1',\n",
       "   'would-A2'}),\n",
       " (\"What's really strange is that the same proteins that make up our nails, are the same in animal's hooves and horns. Wouldn't it be weird if humans had horns \",\n",
       "  {'conditional-B1', 'negation-B1', 'would-A2', 'would-B1'}),\n",
       " (\"I don't know, we already have so many Disney movies from when I was growing up still on VHS tape!  But I suppose if I saw it on sale I could grab it.  It's a perfect movie for summer and family night.\",\n",
       "  {'conditional-B1', 'negation-B1', 'would-B1'}),\n",
       " (\"I agree with you there completely.  And the music performed live would be fantastic.  But then again a story with two kids locked in a castle might not be the same on stage as it would be in the film.  And animals are never the best performers on stage. I guess they could get 2 people in a reindeer suit for that.  Though I bet the Broadway version on the King and Queen's costume would never be as epic as it was in the film.\",\n",
       "  {'negation-A1', 'superlatives-B1', 'would-A2'}),\n",
       " (\"I think it's also easier to live in the city when you don't have kids. If I were a mom, I probably live closer to you.\",\n",
       "  {'conditional-B1', 'negation-A1', 'would-B1'}),\n",
       " ('Come on that would have been fascinating to watch Hillary Clinton be President Obama\\'s Vice President.  Maybe if she served as VP she would not have bungled the Russian \"reset\" button with an \"overload\" button.  Freudian slip I am sure.  ',\n",
       "  {'conditional-B1', 'negation-B2', 'would-A2', 'would-B1'}),\n",
       " ('I can only imagine, Ive done jury duty once, and that was a pretty bad.  If they rapped everything that would have certainly livened thing up a bit.  Id love to see a Korean rap battle, or a compliment battle.',\n",
       "  {'conditional-B1', 'negation-A1', 'would-A2', 'would-B1'}),\n",
       " (\"There are some weird concepts out there, like the theory of only one electron in the universe.  I can't see anyone believing that one.  After all, electricity is excited electrons.  If only one electron exists, then we would not be having this electronic chat!\",\n",
       "  {'conditional-B1',\n",
       "   'negation-A1',\n",
       "   'negation-B1',\n",
       "   'negation-B2',\n",
       "   'would-A2',\n",
       "   'would-B1'}),\n",
       " (\"I didn't think so, only because he succeeds due to luck. If he hadn't met Leigh Anne then he wouldn't have had the opportunities he did. She just happened to know the right people. It's not something most people can do so it's more of a fantasy, I think.\",\n",
       "  {'conditional-B1',\n",
       "   'negation-A1',\n",
       "   'negation-A2',\n",
       "   'negation-B1',\n",
       "   'would-A2',\n",
       "   'would-B1'}),\n",
       " (\"I can see that where the success due to luck is concerned.  That's true, if he hadn't come across the right people he would have stayed where he was at.  On the scores... I kind of wondered the same thing. Metacritic was just above half out of a hundred.  A movie that was one of Sandra Bullock's best movies should have been higher, and the scores kind of had me wondering as well if the two rating companies were a little bit skewed maybe? \",\n",
       "  {'negation-A1',\n",
       "   'negation-A2',\n",
       "   'negation-B1',\n",
       "   'superlatives-B1',\n",
       "   'would-A2',\n",
       "   'would-B1'}),\n",
       " (\"Perhaps it was just a milestone in their career. I mean if you were a musician, wouldn't you want to play in a majestic roman amphitheater\",\n",
       "  {'conditional-B1',\n",
       "   'negation-B1',\n",
       "   'superlatives-A2',\n",
       "   'would-A2',\n",
       "   'would-B1'}),\n",
       " (\"I'd rather my parents didn't pay for it. I'd feel better about it if I bought it with my own money.\",\n",
       "  {'conditional-B1', 'negation-A2', 'would-A2', 'would-B1'}),\n",
       " ('They did? isnt the Simpsons like the most popular show Fox has, why would they sue',\n",
       "  {'negation-A1', 'superlatives-B1', 'would-B1'}),\n",
       " (\"So I guess I don't understand how it all works but I think if it did come here to the US I would definitely consider going. Imagine how many countries and different people you could be in celebration with? Sounds awesome.\",\n",
       "  {'conditional-B1', 'negation-A1', 'would-A2', 'would-B1'}),\n",
       " (\"He seems like the kind of guy who would be very smart. Still, he wasn't as wealthy as JFK, Jefferson, or Washington who were the three wealthiest Presidents\",\n",
       "  {'negation-A1', 'superlatives-B1', 'would-A2'}),\n",
       " ('Like you said, if it was separated in smaller entities, if one part would go down, it would not take 40% of all internet traffic. ',\n",
       "  {'conditional-B1', 'negation-B2', 'would-A2', 'would-B1'}),\n",
       " (\"Too be honest, if Netflix didn't have great original content, I could find other streaming services as well. What's your favorite movie comedy, to switch gears a little?\",\n",
       "  {'conditional-B1', 'negation-A2', 'would-B1'}),\n",
       " (\"With Costco being the second largest retailer in the world, I'd say you can't go wrong by going there.\",\n",
       "  {'negation-A1',\n",
       "   'superlatives-A2',\n",
       "   'superlatives-B1',\n",
       "   'would-A2',\n",
       "   'would-B1'}),\n",
       " ('Not for sure except that it has something for everyone. It is the fourth largest populated urban area in the U.S. with 5.5 million people. I would like to retire and move there myself.',\n",
       "  {'negation-A1',\n",
       "   'superlatives-A2',\n",
       "   'superlatives-B1',\n",
       "   'would-A1',\n",
       "   'would-A2'}),\n",
       " (\"I know in our society if we did that it would not work, but I do sometimes long for a simpler way of life. I'm glad that some of these villages stand up for what they believe in. It's tragic that some of them are murdered for being activists.\",\n",
       "  {'conditional-B1', 'negation-A1', 'negation-B2', 'would-A2', 'would-B1'}),\n",
       " (\"If you're addicted then I'm not sure how much that would help.\",\n",
       "  {'conditional-A2', 'negation-A1', 'would-A2'}),\n",
       " ('I just as soon buy a new shirt.  But I dont buy $200 shirts.  But If I had Zuckerburgs money it wouldnt be a problem.',\n",
       "  {'conditional-B1', 'negation-A1', 'would-A2', 'would-B1'}),\n",
       " (\"Yes, they loved the price, the delivery date was the problem. They just didn't want to cut the delivery date that close. If something went wrong and you didn't deliver, we might not be able to get stock in time for Christmas. If you could have been two or three weeks faster on delivery, they might have gone with you.\",\n",
       "  {'conditional-A2', 'conditional-B1', 'negation-A2', 'would-A2', 'would-B1'}),\n",
       " (\"I don't know, I figure if it was then a good coach would be able to turn a left handed qb into an advantage\",\n",
       "  {'conditional-B1', 'negation-A1', 'negation-B1', 'would-A2', 'would-B1'}),\n",
       " (\"I know, I know, but if I didn't buy it for him, he'd never buy it. \",\n",
       "  {'conditional-B1', 'negation-A2', 'would-A2', 'would-B1'}),\n",
       " (\"Yes, so true. If you haven't been, would you like to visit one of those caves if you get the opportunity?\",\n",
       "  {'conditional-A2', 'negation-A2', 'would-A1', 'would-A2', 'would-B1'}),\n",
       " (\"Well, this is a French wine, so they don't always specify the varietal on the label. The French believe that the soil a grape is grown in is one of the most important factors in the final flavor of the wine. This wine is probably a blend of a few different types of grapes, mostly Viognier, I'd guess. \",\n",
       "  {'negation-A1', 'superlatives-B1', 'would-A2', 'would-B1'}),\n",
       " (\"I think a tunnel may be a bit less scary as presumably won't be so high. The tunnel was the longest tunnel in the US when it was finished in 1858. I know what you mean - I'm a bit scared of heights too. \",\n",
       "  {'negation-A1',\n",
       "   'superlatives-A2',\n",
       "   'superlatives-B1',\n",
       "   'superlatives-B2',\n",
       "   'would-A2'}),\n",
       " ('Yes, I would think so, I think being an artist, is so cool, however like me if you just paint furnithre you are not really considered an artist',\n",
       "  {'conditional-A2', 'negation-A1', 'negation-B2', 'would-A2', 'would-B1'}),\n",
       " (\"I don't think that's a good idea. You're risking your life by driving this car. If I were you I'd check the bus schedule.\",\n",
       "  {'conditional-B1', 'negation-A1', 'negation-B1', 'would-A2', 'would-B1'}),\n",
       " (\"That's true. I suppose it wouldn't be that bad if I got used to it...I may go to a range or see if one of my friends can show me, it would probably make me feel more comfortable.\",\n",
       "  {'conditional-B1', 'negation-A1', 'would-A2', 'would-B1'}),\n",
       " ('Thats awesome,  if you havent seen them in 30 years you shouldnt be waiting anymore make it happen lol You probably would already have a place to stay!  Booking accomadations is the most expensive. ',\n",
       "  {'conditional-A2', 'superlatives-B2', 'would-A2'}),\n",
       " (\"Well, I'd better not tempt you. Otherwise, if I give you a piece of cake, you might ask for a glass of milk.\",\n",
       "  {'conditional-A2', 'conditional-B1', 'negation-B2', 'would-A2'}),\n",
       " (\"Yes.  If it wasn't for the Cavs, that one year the Warriors would be on one heck of a streak.  They still though have one heck of a streak!  LOL\",\n",
       "  {'conditional-B1', 'negation-A1', 'would-A2', 'would-B1'}),\n",
       " (\"Haha, I haven't heard of it either. But I would go see Silence of the Lambs again if they showed it on valentines day! Back in 1991 that came out and made 270 million haha! A Valetine's Day movie :)\",\n",
       "  {'conditional-B1', 'negation-A2', 'would-A2'}),\n",
       " (\"I am sorry, Bob. If you had told me you were coming up, I would have kept tonight free. But you didn't tell me.\",\n",
       "  {'conditional-B1', 'negation-A2', 'would-A2', 'would-B1'}),\n",
       " (\"It's a shame you didn't come a little earlier, the exchange rate was reset yesterday afternoon. The American dollar is now worth 7.45RMB.If you would like to sell RIB, we can give you a rate of 7.35.Will that be all right?\",\n",
       "  {'conditional-A2', 'negation-A2', 'would-A1', 'would-A2', 'would-B1'}),\n",
       " ('Thats wild! I knew that song was popular but I had no idea people played it that often. Did you know that \"Baby\" is the most disliked video on youtube? That didn\\'t really surprise me haha',\n",
       "  {'negation-A2', 'superlatives-A2', 'superlatives-B1', 'would-B1'}),\n",
       " (\"Yeah, they're too expensive though. Well, all fast food is nowadays. I'm glad I can't afford it. I'd probably sever health problems if I could.\",\n",
       "  {'conditional-B1', 'negation-A1', 'would-A2', 'would-B1'}),\n",
       " (\"Oh definitely. You can only get bashed in the brain box so many times before it starts to really effect you. If it weren't for the enormous toll they put on their bodies I would feel their salaries were disgusting. But some of them probably don't have many options after retirement.\",\n",
       "  {'conditional-B1', 'negation-A1', 'would-A2', 'would-B1'}),\n",
       " (\"I guess they must have figured it would be easier to merge than to keep up the cutthroat competition.If you can't beat'em, join'em.\",\n",
       "  {'conditional-A2', 'negation-A1', 'would-A2'}),\n",
       " ('I can not agree with you more. And if you are an awful one, that will be funny.',\n",
       "  {'conditional-A2', 'negation-A1', 'negation-B2', 'would-A2'}),\n",
       " (\"I didn't know that, did you know the indonesian president made 3 pop albums? I wonder what would happen if Trump made a pop album\",\n",
       "  {'conditional-B1', 'negation-A2', 'would-A2'}),\n",
       " ('I am not sure now days but in 1953 there were 300 hand-built polo white versions, I bet they would be worth a mint now if you had one',\n",
       "  {'conditional-B1', 'negation-A1', 'negation-B2', 'would-A2', 'would-B1'}),\n",
       " ('Just as well, if he was there during bambi he might not have turned out the way he did.',\n",
       "  {'conditional-B1', 'negation-B2', 'would-A2', 'would-B1'}),\n",
       " (\"Your intention is good, but I still can't agree with you. If no one would like to share it with you, you have to pay it all by yourself.\",\n",
       "  {'conditional-A2', 'negation-A1', 'would-A1', 'would-A2', 'would-B1'}),\n",
       " ('Well, I guess if he could, then the movie would not have been so powerful',\n",
       "  {'conditional-B1', 'negation-B2', 'would-A2', 'would-B1'}),\n",
       " (\"Don't worry, I would be able to go along with you, over the next few days, if you have any questions or problems, I will be right here to help you out, I can be a translator and tour guide.\",\n",
       "  {'conditional-A2', 'negation-A2', 'would-A2'}),\n",
       " (\"I would expect that those early presidents with all their land and their slaves would be the richest. They started off with a huge fortune, then became president. Things haven't changed that much.\",\n",
       "  {'negation-A1', 'negation-A2', 'superlatives-B2', 'would-A2', 'would-B1'}),\n",
       " (\"I don't think that's a show that really translates well. Would've done better if they made British References\",\n",
       "  {'conditional-B1', 'negation-A1', 'negation-B1', 'would-A2'}),\n",
       " (\"Same here. Never would have guessed she'd be the highest. I mean, I would think even Carol Burnette would make more, especially considering she was the first celeb to appear on Sesame Street.\",\n",
       "  {'negation-B2', 'superlatives-B2', 'would-A2', 'would-B1'}),\n",
       " (\"Wow. You have such a wide range of experience. Uh, you know, to be honest, we have fifteen people who are applying for this position. You've got quite a background, but why don't you tell me three reasons why you would be the best person for this job.\",\n",
       "  {'negation-B1', 'superlatives-B1', 'would-A2', 'would-B1'}),\n",
       " ('I honestly don\\'t but maybe if we read the book \"Mating Habits of Bigfoot and Why Women Want Him\" we could find out. Of course, I\\'m not sure that\\'s the kind of book you and I would want to read. Ha!',\n",
       "  {'conditional-B1', 'negation-A1', 'would-A2'}),\n",
       " (\"If it doesn't have legs, I am checking out. A legless lizard is a snake! You know, I was reading that crocodiles are closer related to birds then snakes and lizards. I would have never guessed that. \",\n",
       "  {'conditional-A2', 'negation-A1', 'would-A2', 'would-B1'}),\n",
       " (\"Oh, don't let that worry you. If that were true, China wouldn't have such a large population.\",\n",
       "  {'conditional-B1', 'negation-A2', 'would-A2', 'would-B1'}),\n",
       " ('No I dont believe that you would need to be a fa of sports in order to enjoy this movie. It talks about his upbringing and his adoption to his position as one of the most highly coveted prospects in college football. ',\n",
       "  {'negation-A1', 'superlatives-A2', 'superlatives-B1', 'would-A2'}),\n",
       " (\"If more people thought about things like that, the world would be different. People don't think about their motivations or why they do things. Philosophy can teach you about the world and yourself. \",\n",
       "  {'conditional-B1', 'negation-A1', 'would-A2', 'would-B1'}),\n",
       " (\"Nah, Nah, nah! Put me under! [I thought so.] I can't stand pain, and I'd rather not be aware of what's going on. And, if I need a filling, can I get one that looks like my other teeth?\",\n",
       "  {'conditional-A2', 'negation-A1', 'would-A2'}),\n",
       " ('A good reason to start learning latin, we wouldnt want to have a comminication issues specially if they do not come in peace.',\n",
       "  {'conditional-A2', 'negation-A1', 'negation-B2', 'would-A2'}),\n",
       " (\"Indeed. If we did not have the NFL I think many more people would follow soccer. It doesn't help that they call their sport football!\",\n",
       "  {'conditional-B1',\n",
       "   'negation-A1',\n",
       "   'negation-A2',\n",
       "   'negation-B2',\n",
       "   'would-A2',\n",
       "   'would-B1'}),\n",
       " ('That is the best part. Your hotel is actually an old country villa that has been restored and refurbished to accommodate a maximum of that is guests. You will enjoy an intimate and private time in this very spacious and warm N Included in the price is three meals a day, excluding beverages. You can choose to eat at the fabulous restaurant that offers a stunning view of the lush, green gardens. If you prefer, your own private butler can arrange your meal to be served in your room or outside on our terrace.',\n",
       "  {'conditional-A2', 'superlatives-A2', 'would-A2'}),\n",
       " (\"Ok. But if I leave for Iceland today, I should be there in 2067. Good thing our days are longer than they used to be when the world was new. If I was operating on 5.5-hour days, I don't think I would agree to go to iceland.\",\n",
       "  {'conditional-A2',\n",
       "   'conditional-B1',\n",
       "   'negation-A1',\n",
       "   'negation-B1',\n",
       "   'would-A2',\n",
       "   'would-B1'}),\n",
       " (\"A color TV set, of course. But I'm not sure about the size. Maybe we should buy a big one. If we buy a small one, we might have to exchange it in a few years for a bigger one. That would be a waste of money. What's your opinion?\",\n",
       "  {'conditional-A2', 'negation-A1', 'would-A2'}),\n",
       " (\"Yes, as far as I know, your living room isn't very big. If you put a very big television there, it will be bad for your eyes. Besides, a small TV set can still pick up the same programs.\",\n",
       "  {'conditional-A2', 'negation-A1', 'would-A2'}),\n",
       " (\"I think you may be on to something perhaps, I don't completely disagree with you but the other team should have noticed it as well. I feel however he is among the greatest quarterbacks to ever play the game. \",\n",
       "  {'negation-A1',\n",
       "   'superlatives-A2',\n",
       "   'superlatives-B1',\n",
       "   'superlatives-B2',\n",
       "   'would-B1'}),\n",
       " (\"He probably wouldn't be too happy about it! I wonder if that game was played in one of the 14 of the 25 largest stadiums in the world that are US football teams? Ha! Well it was great chatting with you as well!\",\n",
       "  {'negation-A1', 'superlatives-A2', 'superlatives-B1', 'would-A2'}),\n",
       " (\"Yes but I heard that herbal supplements sold at stores like Target generally don't contain any of the herb they advertise.  So like if it said it contained mint, there would actually be no mint.\",\n",
       "  {'conditional-B1', 'negation-A1', 'would-A2', 'would-B1', 'would-C1'}),\n",
       " (\"Of course not, but I wouldn't be as bad off now, if I had...lol.  Anyway, enjoyed chatting with you, I think we've done the minimum that they require..\",\n",
       "  {'conditional-B1', 'negation-A1', 'would-A2', 'would-B1'}),\n",
       " ('For sure! If I was a scientist, I would definitely study that whole scenario in search of answers! Haha, so I was reading about these 2 students who got suspended for riding their horses to school on \"no vehicles to school day\". Can you imagine! Sounds silly to me. They aren\\'t vehicles, they are horses. ',\n",
       "  {'conditional-B1', 'negation-A1', 'would-A2', 'would-B1'}),\n",
       " ('No I didn\\'t know that! That\\'s crazy! I wonder why on earth, that\\'s the case! If I was President, I\\'d just move into the guest house and release a press release saying \"You Understand!\" :) hehe',\n",
       "  {'conditional-B1', 'negation-A2', 'would-A2', 'would-B1'}),\n",
       " (\"That is hard to believe. I don't speak Latin but if I did I would listen to the program that the Finland radio broadcast. It was nice talking with you today. Have a great one.\",\n",
       "  {'conditional-B1', 'negation-A1', 'would-A2', 'would-B1'}),\n",
       " (\"London does. Its really more of the city airport system and they measured passenger traffic from the airport. It topped every other airport in the entire world!  It is the city out of all of England that has the most people so you might want to live a bit out of the city if you don't prefer too many people.\",\n",
       "  {'conditional-A2', 'negation-A1', 'superlatives-A2'}),\n",
       " (\"If I had to venture a guess I would say early thirties, but that's just a guess and he isn't telling lol, he claims to have learned to drive at age 3.\",\n",
       "  {'conditional-B1',\n",
       "   'negation-A1',\n",
       "   'negation-A2',\n",
       "   'negation-B1',\n",
       "   'would-A2',\n",
       "   'would-B1'}),\n",
       " (\"I don't't think it would make sense if we were the only beings in this whole world. The world is just far too big for that. \",\n",
       "  {'conditional-B1', 'negation-A1', 'negation-B1', 'would-A2', 'would-B1'}),\n",
       " (\"That's interesting, I didn't know he'd still do that. I know Michael Caine actually joined drama class only because the prettiest girls were in it.\",\n",
       "  {'negation-A2',\n",
       "   'negation-B1',\n",
       "   'superlatives-A2',\n",
       "   'superlatives-B1',\n",
       "   'would-A2',\n",
       "   'would-B1'}),\n",
       " (\"To be honest, not really. I am kind of glad he isn't one of the three richest ever or he would be rubbing that in too. How about you?\",\n",
       "  {'negation-A1', 'superlatives-B1', 'superlatives-B2', 'would-A2'}),\n",
       " ('Making a decision to start over is not an easy thing to do. It seems that you need this course more than I do. I love my current job. If I take this course, I hope to learn some tricks to get myself more organized at work. If they can give suggestions about how to boost work relationships, that will be great. I need these to improve my current work performance.',\n",
       "  {'conditional-A2', 'conditional-B1', 'negation-B2', 'would-A2'}),\n",
       " (\"If they weren't ready-to-eat and safe for public consumption they'd get shut down real quick! \",\n",
       "  {'conditional-B1', 'negation-A1', 'would-A2', 'would-B1'}),\n",
       " (\"That would definitely make sense because I know they are one of the best fruits to eat because they aren't as sugary as others. I love mixing a nice bowl of different types of berries and sometimes add them into my water.\",\n",
       "  {'negation-A1', 'superlatives-B1', 'would-A2', 'would-B1'}),\n",
       " (\"Of course. At least there are three other major sports leagues in America. I can't imagine how it would be if they were all owned by the same people\",\n",
       "  {'conditional-B1', 'negation-A1', 'negation-B1', 'would-A2', 'would-B1'}),\n",
       " (\"I did.  I liked it more than I thought I would after most people said they thought it wasn't that good, but the ending fight, it all fell apart for me.  Wonder Woman was the best part of that movie.  What about for you?\",\n",
       "  {'negation-A1',\n",
       "   'superlatives-A2',\n",
       "   'superlatives-B1',\n",
       "   'would-A2',\n",
       "   'would-B1'}),\n",
       " (\"I wanted to, but I knew that if I spoke to her, I'd just blow up at her, so I decided to just go home. I called her later that night, but she didn't answer the phone.\",\n",
       "  {'conditional-A2', 'conditional-B1', 'negation-A2', 'would-A2', 'would-B1'}),\n",
       " (\"Greed is a big problem here.  If we truly could elect people who weren't tied to interests, we would be so much better off\",\n",
       "  {'conditional-A2', 'conditional-B1', 'negation-A1', 'would-A2', 'would-B1'})]"
      ]
     },
     "execution_count": 115,
     "metadata": {},
     "output_type": "execute_result"
    }
   ],
   "source": [
    "list(zip([responses[int(i)] for i in np.nditer(np.where(num_cats>2))], np.array(found_cat_level)[num_cats>2]))[1:100]"
   ]
  },
  {
   "cell_type": "code",
   "execution_count": 118,
   "id": "256c1b65-b142-4a37-8da9-3b5915ba02fc",
   "metadata": {},
   "outputs": [
    {
     "name": "stderr",
     "output_type": "stream",
     "text": [
      "/tmp/ipykernel_12851/3354633450.py:2: UserWarning: FixedFormatter should only be used together with FixedLocator\n",
      "  plt.gca().set_yticklabels([f'{x/len(extracts):.0%}' for x in plt.gca().get_yticks()])\n"
     ]
    },
    {
     "data": {
      "image/png": "[encoded data removed]",
      "text/plain": [
       "<Figure size 640x480 with 1 Axes>"
      ]
     },
     "metadata": {},
     "output_type": "display_data"
    }
   ],
   "source": [
    "sns.histplot(num_rules, bins=max(num_rules))\n",
    "plt.gca().set_yticklabels([f'{x/len(extracts):.0%}' for x in plt.gca().get_yticks()])\n",
    "\n",
    "plt.title(\"Number of skills per response\")\n",
    "plt.show()"
   ]
  },
  {
   "cell_type": "code",
   "execution_count": 122,
   "id": "ee5cbd87-edc1-4dba-a334-611d116a87f5",
   "metadata": {},
   "outputs": [
    {
     "name": "stderr",
     "output_type": "stream",
     "text": [
      "/tmp/ipykernel_12851/1149020872.py:2: UserWarning: FixedFormatter should only be used together with FixedLocator\n",
      "  plt.gca().set_yticklabels([f'{x/len(extracts):.0%}' for x in plt.gca().get_yticks()])\n"
     ]
    },
    {
     "data": {
      "image/png": "[encoded data removed]",
      "text/plain": [
       "<Figure size 640x480 with 1 Axes>"
      ]
     },
     "metadata": {},
     "output_type": "display_data"
    }
   ],
   "source": [
    "sns.histplot(num_cats, bins=max(num_cats))\n",
    "plt.gca().set_yticklabels([f'{x/len(extracts):.0%}' for x in plt.gca().get_yticks()])\n",
    "plt.title(\"Number of skill categories per response\")\n",
    "plt.ylabel(\"Relative count\")\n",
    "plt.show()"
   ]
  },
  {
   "cell_type": "code",
   "execution_count": 123,
   "id": "bdfed805-6610-4aba-857f-0f26523946e5",
   "metadata": {},
   "outputs": [
    {
     "data": {
      "image/png": "[encoded data removed]",
      "text/plain": [
       "<Figure size 640x480 with 1 Axes>"
      ]
     },
     "metadata": {},
     "output_type": "display_data"
    }
   ],
   "source": [
    "num_cat_levels = np.array([len(cats) for cats in found_cat_level])\n",
    "sns.histplot(num_cat_levels, bins=max(num_cat_levels))\n",
    "plt.title(\"Number of categories X level per response\")\n",
    "plt.show()"
   ]
  },
  {
   "cell_type": "code",
   "execution_count": null,
   "id": "d762a979-daf3-403e-b9cf-32d5e4f1b87c",
   "metadata": {},
   "outputs": [],
   "source": []
  }
 ],
 "metadata": {
  "kernelspec": {
   "display_name": "Python 3 (ipykernel)",
   "language": "python",
   "name": "python3"
  },
  "language_info": {
   "codemirror_mode": {
    "name": "ipython",
    "version": 3
   },
   "file_extension": ".py",
   "mimetype": "text/x-python",
   "name": "python",
   "nbconvert_exporter": "python",
   "pygments_lexer": "ipython3",
   "version": "3.11.6"
  }
 },
 "nbformat": 4,
 "nbformat_minor": 5
}
