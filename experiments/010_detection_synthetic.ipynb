{
 "cells": [
  {
   "cell_type": "markdown",
   "id": "8bf0d94b-5119-4713-92b7-d726ae9cb270",
   "metadata": {},
   "source": [
    "# Exp010: Grammar Detection - Synthetic Data\n",
    "For a good external validation, each rule is searched for in the corpus and marked if there is at least 80% precision among the hits. If there are less than 5 hits in the first ten examples, the rule is skipped, otherwise 10 more appear."
   ]
  },
  {
   "cell_type": "code",
   "execution_count": 1,
   "id": "bf0f9f6b-3536-4c55-80d0-df8520b5cb9a",
   "metadata": {},
   "outputs": [
    {
     "name": "stderr",
     "output_type": "stream",
     "text": [
      "[nltk_data] Downloading package punkt to\n",
      "[nltk_data]     /scratch/tmp.1244813.dglandorf...\n",
      "[nltk_data]   Unzipping tokenizers/punkt.zip.\n"
     ]
    },
    {
     "data": {
      "application/vnd.jupyter.widget-view+json": {
       "model_id": "58233b2cb8bc4720972ed912304fe111",
       "version_major": 2,
       "version_minor": 0
      },
      "text/plain": [
       "tokenizer_config.json:   0%|          | 0.00/48.0 [00:00<?, ?B/s]"
      ]
     },
     "metadata": {},
     "output_type": "display_data"
    },
    {
     "data": {
      "application/vnd.jupyter.widget-view+json": {
       "model_id": "4169a1195dd2429ba5eaab627cc5ad82",
       "version_major": 2,
       "version_minor": 0
      },
      "text/plain": [
       "vocab.txt:   0%|          | 0.00/232k [00:00<?, ?B/s]"
      ]
     },
     "metadata": {},
     "output_type": "display_data"
    },
    {
     "data": {
      "application/vnd.jupyter.widget-view+json": {
       "model_id": "06db823bb2d44c278cd2a14563179fc5",
       "version_major": 2,
       "version_minor": 0
      },
      "text/plain": [
       "tokenizer.json:   0%|          | 0.00/466k [00:00<?, ?B/s]"
      ]
     },
     "metadata": {},
     "output_type": "display_data"
    },
    {
     "data": {
      "application/vnd.jupyter.widget-view+json": {
       "model_id": "3f9b53a7379d4470a35bb174aee34156",
       "version_major": 2,
       "version_minor": 0
      },
      "text/plain": [
       "config.json:   0%|          | 0.00/570 [00:00<?, ?B/s]"
      ]
     },
     "metadata": {},
     "output_type": "display_data"
    },
    {
     "data": {
      "application/vnd.jupyter.widget-view+json": {
       "model_id": "97879ca4e2b540ea94a4f51e9b0e9016",
       "version_major": 2,
       "version_minor": 0
      },
      "text/plain": [
       "model.safetensors:   0%|          | 0.00/440M [00:00<?, ?B/s]"
      ]
     },
     "metadata": {},
     "output_type": "display_data"
    },
    {
     "name": "stderr",
     "output_type": "stream",
     "text": [
      "[nltk_data] Downloading package punkt to\n",
      "[nltk_data]     /scratch/tmp.1244813.dglandorf...\n",
      "[nltk_data]   Package punkt is already up-to-date!\n"
     ]
    }
   ],
   "source": [
    "import pandas as pd\n",
    "import numpy as np\n",
    "from torch import save, load, no_grad\n",
    "from sklearn.model_selection import KFold\n",
    "from torch.utils.data import DataLoader, TensorDataset, random_split, Subset\n",
    "from collections import defaultdict\n",
    "import os\n",
    "import random\n",
    "from tqdm.notebook import tqdm\n",
    "import matplotlib.pyplot as plt\n",
    "import seaborn as sns\n",
    "from matplotlib.ticker import FuncFormatter\n",
    "import json\n",
    "import sys\n",
    "sys.path.append('../source')\n",
    "import models\n",
    "import data\n",
    "import helpers\n",
    "import api\n",
    "import importlib\n",
    "#importlib.reload(models)"
   ]
  },
  {
   "cell_type": "markdown",
   "id": "75218baf-ba80-416c-8089-21590bfcc85a",
   "metadata": {},
   "source": [
    "Configuration"
   ]
  },
  {
   "cell_type": "code",
   "execution_count": 3,
   "id": "c7d5c2c4-3400-4a93-a2f4-aa13558a8045",
   "metadata": {},
   "outputs": [],
   "source": [
    "item_nrs = helpers.get_existing_classifiers('corpus_training')\n",
    "num_tries = 3\n",
    "model_dir = 'synthetic_training'\n",
    "metrics_path = \"../data/detection/synthetic_training_metrics.json\"\n",
    "synthetic_dataset = '../data/egp_gpt35.json'\n",
    "\n",
    "output_path = '../data/detection/synthetic_unseen.json'"
   ]
  },
  {
   "cell_type": "markdown",
   "id": "3b888610-eb83-4e5a-a79c-2f6b11aaec75",
   "metadata": {},
   "source": [
    "# Training classifiers from synthetic data\n",
    "For each rule:\n",
    "- train classifier with synthetic dataset\n",
    "- search corpus\n",
    "- output rule to user\n",
    "- ask for 20 user judgements"
   ]
  },
  {
   "cell_type": "code",
   "execution_count": 30,
   "id": "08325525-b773-42e4-a3dc-67db757718c1",
   "metadata": {},
   "outputs": [],
   "source": [
    "# load dataset\n",
    "egp_examples = pd.read_json(synthetic_dataset)\n",
    "metrics = {}"
   ]
  },
  {
   "cell_type": "code",
   "execution_count": 29,
   "id": "fcd39b8c-16f1-468a-900d-801c7b29c9ba",
   "metadata": {},
   "outputs": [],
   "source": [
    "def get_others(egp, nr):\n",
    "    return [example for sublist in egp.loc[egp['#'] != nr, 'augmented_examples'].to_list() for example in sublist]"
   ]
  },
  {
   "cell_type": "code",
   "execution_count": null,
   "id": "f0894c0b-58a9-48bc-9ee3-449d728c8972",
   "metadata": {},
   "outputs": [],
   "source": [
    "total_folds = 5\n",
    "batch_size = 32\n",
    "metrics = {}\n",
    "\n",
    "for nr in tqdm(item_nrs):\n",
    "    print(f'#{nr}')\n",
    "    rule = egp_examples[egp_examples['#']==nr].iloc[0]\n",
    "    # if nr in helpers.get_existing_classifiers(model_dir): continue\n",
    "\n",
    "    pos = rule['augmented_examples']\n",
    "    neg = rule['augmented_negative_examples']\n",
    "    \n",
    "    dataset = data.get_dataset(pos, neg, get_others(egp_examples, nr), models.bert_tokenizer, 64, 3*len(pos)/len(neg))\n",
    "    indices = list(range(len(dataset)))\n",
    "    kf = KFold(n_splits=total_folds, shuffle=True, random_state=26)\n",
    "    accumulated_metrics = defaultdict(list)\n",
    "    for fold_index in tqdm(range(total_folds), leave=False):\n",
    "        train_indices, val_indices = list(kf.split(indices))[fold_index]\n",
    "        train_dataloader = DataLoader(Subset(dataset, train_indices), batch_size=batch_size, shuffle=True)\n",
    "        val_dataloader = DataLoader(Subset(dataset, val_indices), batch_size=batch_size, shuffle=False)\n",
    "\n",
    "        for i in tqdm(range(num_tries), leave=False):\n",
    "            classifier=models.RuleDetector(models.bert_encoder).to(models.device)\n",
    "            _, val_metrics = models.train(classifier, train_dataloader, val_dataloader, num_epochs=None, verbose=False, leave=False)\n",
    "            for metric_name, metric_value in val_metrics.items():\n",
    "                accumulated_metrics[metric_name].append(metric_value)\n",
    "    \n",
    "    average_metrics = {metric_name: sum(metric_values) / len(metric_values) for metric_name, metric_values in accumulated_metrics.items()}\n",
    "    metrics[nr] = average_metrics\n",
    "    print(average_metrics)"
   ]
  },
  {
   "cell_type": "code",
   "execution_count": 32,
   "id": "5528e872-78d8-453c-b2d4-5ad7ed664473",
   "metadata": {},
   "outputs": [],
   "source": [
    "with open(metrics_path, 'w') as f:\n",
    "    json.dump(metrics, f)"
   ]
  },
  {
   "cell_type": "markdown",
   "id": "eba04698-77dd-4399-b6fb-5280a160aad5",
   "metadata": {},
   "source": [
    "# Manual labeling"
   ]
  },
  {
   "cell_type": "code",
   "execution_count": 16,
   "id": "745b0f75-0e23-4b42-be45-f7131cee5dc4",
   "metadata": {},
   "outputs": [
    {
     "name": "stderr",
     "output_type": "stream",
     "text": [
      "100%|████████████████████████████████████████████████████████████████████████████████████████████████████████████| 2/2 [00:12<00:00,  6.24s/it]\n"
     ]
    }
   ],
   "source": [
    "# load corpus sentences and prepare dataloader\n",
    "sentences = data.get_mixed_sentences(10000, corpora = [data.CMUDoG, data.ToC], shuffle=True)\n",
    "encoded_inputs = models.bert_tokenizer(sentences, return_tensors='pt', max_length=64, padding='max_length', truncation=True)\n",
    "dataset = TensorDataset(encoded_inputs['input_ids'], encoded_inputs['attention_mask'])\n",
    "dataloader = DataLoader(dataset, batch_size=64, shuffle=False)\n",
    "\n",
    "egp = helpers.get_egp()\n",
    "\n",
    "# output dataset\n",
    "coded_instances = pd.DataFrame(columns=['#', 'sentence', 'correct', 'score', 'max_token']) if not os.path.exists(output_path) else pd.read_json(output_path)"
   ]
  },
  {
   "cell_type": "code",
   "execution_count": null,
   "id": "f9ebe34a-62d3-445d-bf14-3e9cb69f72c4",
   "metadata": {
    "scrolled": true
   },
   "outputs": [],
   "source": [
    "for nr in helpers.get_existing_classifiers(model_dir):\n",
    "    if len(coded_instances[coded_instances['#'] == nr]) >= 20: continue\n",
    "    rule = egp[egp['#']==nr].iloc[0]\n",
    "    print(f\"{rule['Can-do statement']} ({rule['SuperCategory']}: {rule['SubCategory']})\")\n",
    "    print(rule['Example'])\n",
    "    \n",
    "    classifier = models.load_classifier(nr, model_dir)\n",
    "    scores, tokens, _ = models.score_corpus(classifier, dataloader, max_positive=20, max_batches=1000)\n",
    "    for score, token, sample in zip(scores, tokens, sentences[:len(scores)]):\n",
    "        if len(coded_instances[coded_instances['#'] == nr]) >= 20: break\n",
    "        if sample in list(coded_instances[coded_instances['#'] == nr]['sentence']): continue\n",
    "        \n",
    "        if score < 0.5: continue\n",
    "        print(score)\n",
    "        user_response = input(f\"{sample}\")\n",
    "        new_row = pd.DataFrame({'#': [rule['#']],\n",
    "             'sentence': [sample],\n",
    "             'correct': [user_response == '2'],\n",
    "             'score': [score],\n",
    "             'max_token': [token]})\n",
    "        coded_instances = pd.concat([coded_instances, new_row], ignore_index=True)\n",
    "        coded_instances.to_json(output_path)"
   ]
  },
  {
   "cell_type": "markdown",
   "id": "27ea3258-ffef-4e2a-bd6a-4fbbd6057217",
   "metadata": {},
   "source": [
    "# Analyse coded instances"
   ]
  },
  {
   "cell_type": "code",
   "execution_count": null,
   "id": "988d8f25-40c4-4076-b318-46ed5b90f3a0",
   "metadata": {},
   "outputs": [],
   "source": []
  },
  {
   "cell_type": "code",
   "execution_count": 4,
   "id": "ab815cb1-d5d1-4b1e-9109-8e8a22e3658c",
   "metadata": {},
   "outputs": [],
   "source": [
    "approaches = {\n",
    "    \"Synthetic Data\": {\"metrics_file\": metrics_path,\n",
    "                 \"codings_file\": output_path},\n",
    "    \"Manually Picked Data\": {\"metrics_file\": \"../data/detection/manual_training_metrics.json\",\n",
    "              \"codings_file\": '../data/corpus_validation_hits.json'},\n",
    "    \"Automatically Picked Data\": {\"metrics_file\": \"../data/auto_training.json\"}\n",
    "}\n",
    "\n",
    "for name, approach in approaches.items():\n",
    "    if 'codings_file' in approach:\n",
    "        coded_instances = pd.read_json(approach['codings_file'])\n",
    "        approaches[name]['test'] = list(coded_instances.groupby('#')['correct'].mean())\n",
    "    else: \n",
    "        approaches[name]['test'] = []\n",
    "    if not \"auto\" in approach['metrics_file']:\n",
    "        with open(approach['metrics_file'], 'r') as f:\n",
    "            metrics = json.load(f)\n",
    "        approaches[name]['validation'] = [m['precision'] for m in metrics.values()]\n",
    "        \n",
    "    else:\n",
    "        rules = pd.read_json(approach['metrics_file'])\n",
    "        approaches[name]['validation'] = list(rules[rules['sanity_passed']]['detector_precisions'].apply(lambda x: x[-1] if len(x) else 0))"
   ]
  },
  {
   "cell_type": "code",
   "execution_count": null,
   "id": "5555f376-7a2b-4b59-b1f6-bd610b7c0563",
   "metadata": {},
   "outputs": [],
   "source": []
  },
  {
   "cell_type": "code",
   "execution_count": null,
   "id": "c6a01646-c27a-46db-bcc2-f19445fee39a",
   "metadata": {},
   "outputs": [],
   "source": []
  },
  {
   "cell_type": "markdown",
   "id": "2b793256-5e8c-4b8f-b7a7-52c3feb8ffd9",
   "metadata": {},
   "source": [
    "### Plot"
   ]
  },
  {
   "cell_type": "code",
   "execution_count": 33,
   "id": "1675bc01-d4c4-4a0e-a24c-094f52a6ae29",
   "metadata": {},
   "outputs": [
    {
     "data": {
      "image/png": "[encoded data removed]",
      "text/plain": [
       "<Figure size 600x360 with 3 Axes>"
      ]
     },
     "metadata": {},
     "output_type": "display_data"
    }
   ],
   "source": [
    "fig, axes = plt.subplots(len(approaches), 1, figsize=(6, 3.6))\n",
    "\n",
    "for i, (name, approach) in enumerate(approaches.items()):\n",
    "    validation_dat = approach['validation']\n",
    "    test_dat = approach['test']\n",
    "    mean1 = np.mean(validation_dat)\n",
    "    \n",
    "    bins = np.linspace(0, 1, 15)\n",
    "\n",
    "    if not test_dat: test_dat = [0]\n",
    "    sns.histplot(data=validation_dat, color='blue', bins=bins, kde=False, alpha=0.25, label='Validation' if i==2 else None, ax=axes[i])\n",
    "    sns.histplot(data=test_dat, color='green', bins=bins, kde=False, alpha=0.25, label='Test' if i==2 else None, ax=axes[i])\n",
    "    \n",
    "    axes[i].axvline(x=mean1, color='blue', linestyle='--')\n",
    "    \n",
    "    axes[i].text(mean1+0.033, axes[i].get_ylim()[1]*0.66, f'{mean1:.0%}', color='blue', ha='center', va='bottom')\n",
    "    \n",
    "    \n",
    "\n",
    "    \n",
    "    if i < 2:\n",
    "        axes[i].set_xticklabels([])\n",
    "        axes[i].set_xticks([])\n",
    "        mean2 = np.mean(test_dat)\n",
    "        axes[i].axvline(x=mean2, color='green', linestyle='--')\n",
    "        axes[i].text(mean2+0.033, axes[i].get_ylim()[1]*0.66, f'{mean2:.0%}', color='green', ha='center', va='bottom')\n",
    "\n",
    "    else:\n",
    "        axes[i].set_xlabel('Precision', fontsize=13)\n",
    "        axes[i].xaxis.set_major_formatter(FuncFormatter(lambda x, _: '{:.0%}'.format(x))) \n",
    "        axes[i].axvline(x=-1, color='black', linestyle='--', label=\"Mean\")\n",
    "        axes[i].legend()\n",
    "        sns.move_legend(axes[i], \"upper right\", bbox_to_anchor=(1,1.5))\n",
    "\n",
    "   \n",
    "        \n",
    "    axes[i].set_xlim(0,1)\n",
    "    axes[i].set_ylabel('Frequency' if i == -1 else \"\")\n",
    "    \n",
    "    axes[i].set_yticklabels([])\n",
    "    axes[i].set_yticks([])\n",
    "    axes[i].set_title(name, fontsize=14)\n",
    "\n",
    "#plt.suptitle(\"Robustness of Grammar Skill Detection\")\n",
    "plt.tight_layout(rect=[0, 0, 1, 1])\n",
    "plt.savefig(\"../results/detection_robustness.pdf\")\n",
    "plt.show()"
   ]
  },
  {
   "cell_type": "code",
   "execution_count": null,
   "id": "ce10977d-8026-483b-8edc-dee8366e894c",
   "metadata": {},
   "outputs": [],
   "source": []
  }
 ],
 "metadata": {
  "kernelspec": {
   "display_name": "gctg",
   "language": "python",
   "name": "gctg"
  },
  "language_info": {
   "codemirror_mode": {
    "name": "ipython",
    "version": 3
   },
   "file_extension": ".py",
   "mimetype": "text/x-python",
   "name": "python",
   "nbconvert_exporter": "python",
   "pygments_lexer": "ipython3",
   "version": "3.11.6"
  }
 },
 "nbformat": 4,
 "nbformat_minor": 5
}
