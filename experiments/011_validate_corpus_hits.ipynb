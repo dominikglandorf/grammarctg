{
 "cells": [
  {
   "cell_type": "markdown",
   "id": "8bf0d94b-5119-4713-92b7-d726ae9cb270",
   "metadata": {},
   "source": [
    "# Exp011: Corpus Rule Detection\n",
    "For a good external validation, each rule is searched for in the corpus and marked if there is at least 80% precision among the hits. If there are less than 5 hits in the first ten examples, the rule is skipped, otherwise 10 more appear."
   ]
  },
  {
   "cell_type": "code",
   "execution_count": 1,
   "id": "bf0f9f6b-3536-4c55-80d0-df8520b5cb9a",
   "metadata": {},
   "outputs": [
    {
     "name": "stderr",
     "output_type": "stream",
     "text": [
      "[nltk_data] Downloading package punkt to\n",
      "[nltk_data]     /cluster/scratch/dglandorf/cache...\n",
      "[nltk_data]   Package punkt is already up-to-date!\n"
     ]
    }
   ],
   "source": [
    "import pandas as pd\n",
    "import numpy as np\n",
    "from torch import save, load, no_grad\n",
    "from torch.utils.data import DataLoader, TensorDataset\n",
    "import os\n",
    "import random\n",
    "import matplotlib.pyplot as plt\n",
    "import seaborn as sns\n",
    "from matplotlib.ticker import FuncFormatter\n",
    "import json\n",
    "import sys\n",
    "sys.path.append('../source')\n",
    "import models\n",
    "import data\n",
    "import helpers\n",
    "import api\n",
    "#import importlib\n",
    "#importlib.reload(models)"
   ]
  },
  {
   "cell_type": "markdown",
   "id": "3b888610-eb83-4e5a-a79c-2f6b11aaec75",
   "metadata": {},
   "source": [
    "Load datasets"
   ]
  },
  {
   "cell_type": "code",
   "execution_count": 3,
   "id": "08325525-b773-42e4-a3dc-67db757718c1",
   "metadata": {},
   "outputs": [
    {
     "name": "stderr",
     "output_type": "stream",
     "text": [
      "100%|███████████████████| 4/4 [00:37<00:00,  9.48s/it]\n"
     ]
    }
   ],
   "source": [
    "# egp instances\n",
    "egp_examples = pd.read_json(\"../data/egp_gpt35.json\")\n",
    "# load corpus sentences and prepare dataloader\n",
    "sentences = data.get_mixed_sentences(100000)\n",
    "encoded_inputs = models.bert_tokenizer(sentences, return_tensors='pt', max_length=64, padding='max_length', truncation=True)\n",
    "dataset = TensorDataset(encoded_inputs['input_ids'], encoded_inputs['attention_mask'])\n",
    "dataloader = DataLoader(dataset, batch_size=64, shuffle=False)"
   ]
  },
  {
   "cell_type": "code",
   "execution_count": 3,
   "id": "d68c71e3-600f-41b2-b774-aa74219e3c4c",
   "metadata": {},
   "outputs": [],
   "source": [
    "# output dataset\n",
    "output_path = '../data/coded_corpus_hits_new.json'\n",
    "coded_instances = pd.DataFrame(columns=['#', 'sentence', 'correct', 'score', 'max_token']) if not os.path.exists(output_path) else pd.read_json(output_path)"
   ]
  },
  {
   "cell_type": "markdown",
   "id": "6d94750f-5dae-4d78-83bc-98930feead08",
   "metadata": {
    "jp-MarkdownHeadingCollapsed": true
   },
   "source": [
    "for each rule:\n",
    "- train classifier with existing dataset\n",
    "- search corpus\n",
    "- output rule to user\n",
    "- ask for user input until the precision is clear enough"
   ]
  },
  {
   "cell_type": "code",
   "execution_count": 4,
   "id": "fcd39b8c-16f1-468a-900d-801c7b29c9ba",
   "metadata": {},
   "outputs": [],
   "source": [
    "def get_dataset(positives, negatives, others, tokenizer, max_len, others_ratio = 3):\n",
    "    unique_positive = list(set(positives)) # remove duplicates\n",
    "    unique_negative = list(set(negatives).difference(set(positives))) # remove duplicates and positives\n",
    "    num_rands = int(others_ratio * len(unique_negative))\n",
    "    random.shuffle(others)\n",
    "    sentences = unique_positive + unique_negative + others[:num_rands]\n",
    "    labels = [1] * len(unique_positive) + [0] * len(unique_negative) + [0] * len(others[:num_rands])\n",
    "    print(sum(labels) / len(labels))\n",
    "    return data.SentenceDataset(sentences, labels, tokenizer, max_len)\n",
    "def get_trained_classifer(positive, negative, others, classifier=models.RuleDetector(models.bert_encoder), num_epochs=3):\n",
    "    dataset = get_dataset(positive, negative, others, models.bert_tokenizer, 64) \n",
    "    train_dataloader, val_dataloader = data.get_loaders(dataset)\n",
    "    _, accuracy = models.train(classifier, train_dataloader, val_dataloader, num_epochs)\n",
    "    return classifier, accuracy\n",
    "\n",
    "# model training\n",
    "def get_trained_classifer(positive, negative, others, classifier=models.RuleDetector(models.bert_encoder).to(models.device), ratio=1, verbose=True):\n",
    "    dataset = data.get_dataset(positive, negative, others, models.bert_tokenizer, 64, ratio*len(positive)/len(negative), verbose=verbose) \n",
    "    train_dataloader, val_dataloader = data.get_loaders(dataset)\n",
    "    _, val_metrics = models.train(classifier, train_dataloader, val_dataloader, num_epochs=None, verbose=verbose)\n",
    "    return classifier, val_metrics\n",
    "def get_others(egp, nr):\n",
    "    return [example for sublist in egp.loc[egp['#'] != nr, 'augmented_examples'].to_list() for example in sublist]"
   ]
  },
  {
   "cell_type": "code",
   "execution_count": 4,
   "id": "2a7b6a1c-76b5-4192-bda0-b062e1bbd96c",
   "metadata": {},
   "outputs": [],
   "source": [
    "def criterion(coded_instances, min_precision=0.8, num_rules=1):\n",
    "    correct_per_rule = coded_instances.groupby('#')['correct'].mean()\n",
    "    return len(correct_per_rule[correct_per_rule > min_precision]) > num_rules"
   ]
  },
  {
   "cell_type": "code",
   "execution_count": 9,
   "id": "d4e396ed-bd25-4d4f-9738-91293cdd500d",
   "metadata": {},
   "outputs": [],
   "source": [
    "metrics = {}"
   ]
  },
  {
   "cell_type": "code",
   "execution_count": null,
   "id": "a70f24c6-b7eb-4dcd-ae7a-71e6883f2d85",
   "metadata": {},
   "outputs": [],
   "source": []
  },
  {
   "cell_type": "code",
   "execution_count": 32,
   "id": "cfa855bc-52d6-4b51-b6d9-e6970c52a05b",
   "metadata": {
    "scrolled": true
   },
   "outputs": [
    {
     "name": "stdout",
     "output_type": "stream",
     "text": [
      "USE: Can use 'would' to make polite requests, often in the fixed expression 'would you mind'. (MODALITY: would)\n",
      "Would you tell me about your room in your next letter, please? \n",
      "\n",
      "Would it be possible for you to meet me later that day, around 7? \n",
      "\n",
      "I had forgotten I have an appointment with my dentist at that time, so, would you mind if we met at 5 o'clock instead of meeting at 4 o'clock? \n",
      "\n",
      "We are supposed to have a barbecue for lunch, would you mind bringing a salad?\n",
      "0.21015397419891801\n"
     ]
    },
    {
     "name": "stderr",
     "output_type": "stream",
     "text": [
      "100%|█████████████████| 61/61 [00:18<00:00,  3.25it/s]\n"
     ]
    },
    {
     "name": "stdout",
     "output_type": "stream",
     "text": [
      "Training loss: 0.02124075557880073\n",
      "Val loss: 0.040733451739185966\n"
     ]
    },
    {
     "name": "stderr",
     "output_type": "stream",
     "text": [
      "100%|█████████████████| 61/61 [00:18<00:00,  3.24it/s]\n"
     ]
    },
    {
     "name": "stdout",
     "output_type": "stream",
     "text": [
      "Training loss: 0.01631648345377113\n",
      "Val loss: 0.024363475345680285\n"
     ]
    },
    {
     "name": "stderr",
     "output_type": "stream",
     "text": [
      "100%|█████████████████| 61/61 [00:18<00:00,  3.24it/s]\n"
     ]
    },
    {
     "name": "stdout",
     "output_type": "stream",
     "text": [
      "Training loss: 0.015603218621242271\n",
      "Val loss: 0.029921488973627675\n",
      "{'accuracy': 0.994, 'f1': 0.987, 'precision': 0.973}\n"
     ]
    },
    {
     "name": "stderr",
     "output_type": "stream",
     "text": [
      "  0%|               | 17/5247 [00:02<14:52,  5.86it/s]\n"
     ]
    },
    {
     "name": "stdin",
     "output_type": "stream",
     "text": [
      "Then, which one would you like? 2\n",
      "How many carats would you like it to be? 2\n",
      "And would you like to mail it by air? 1\n",
      "Would you like a tour of the house? 1\n",
      "How much would you like to change? 1\n",
      "Would you care to order now, Sir? 2\n",
      "Would you like to take a look? 1\n",
      "Would you consider having your parents live with you when they get older? 1\n",
      "Would you like to go look by the table with me? 1\n",
      "Would a slight decrease in pay be worth it for a new opportunity for growth? 1\n",
      "Would you sit here please? 2\n",
      "Would you like to have dinner with me? 1\n",
      "What would your colleagues say about you? 1\n",
      "What would you do without me? 1\n",
      "Sure, would you like any appetizers today? 1\n",
      "What day would you prefer? 1\n",
      "And would you please forward our mail to this address? 2\n",
      "To what extent would local assembly help sales, did you say? 1\n",
      "Would you like to make an inspection tour of some factories? 1\n",
      "What kind of music would you like, a band or recorded music? 1\n"
     ]
    },
    {
     "name": "stdout",
     "output_type": "stream",
     "text": [
      "USE: Can use 'would' as the past form of 'will' in reported clauses. (MODALITY: would)\n",
      "She accepted the invitation and she said that she would come on the 21st of June. \n",
      "\n",
      "I felt better when he said that he would be in Fenerbahce. \n",
      "\n",
      "He told me I would like it and he was right!\n",
      "0.21789383561643835\n"
     ]
    },
    {
     "name": "stderr",
     "output_type": "stream",
     "text": [
      "100%|█████████████████| 59/59 [00:04<00:00, 11.98it/s]\n"
     ]
    },
    {
     "name": "stdout",
     "output_type": "stream",
     "text": [
      "Training loss: 0.29300904833668273\n",
      "Val loss: 0.07446992661183079\n"
     ]
    },
    {
     "name": "stderr",
     "output_type": "stream",
     "text": [
      "100%|█████████████████| 59/59 [00:04<00:00, 12.15it/s]\n"
     ]
    },
    {
     "name": "stdout",
     "output_type": "stream",
     "text": [
      "Training loss: 0.04505866375688653\n",
      "Val loss: 0.03570670139354964\n"
     ]
    },
    {
     "name": "stderr",
     "output_type": "stream",
     "text": [
      "100%|█████████████████| 59/59 [00:04<00:00, 12.15it/s]\n"
     ]
    },
    {
     "name": "stdout",
     "output_type": "stream",
     "text": [
      "Training loss: 0.029837612512568803\n",
      "Val loss: 0.025157694797962905\n"
     ]
    },
    {
     "name": "stderr",
     "output_type": "stream",
     "text": [
      "100%|█████████████████| 59/59 [00:04<00:00, 12.09it/s]\n"
     ]
    },
    {
     "name": "stdout",
     "output_type": "stream",
     "text": [
      "Training loss: 0.022961025826250186\n",
      "Val loss: 0.02373468204556654\n",
      "{'accuracy': 0.994, 'f1': 0.984, 'precision': 0.969}\n"
     ]
    },
    {
     "name": "stderr",
     "output_type": "stream",
     "text": [
      "  1%|               | 43/5247 [00:06<13:56,  6.22it/s]\n"
     ]
    },
    {
     "name": "stdin",
     "output_type": "stream",
     "text": [
      "I would always be ready to go shopping with you! 1\n",
      "I would be directly responsible for all of the sales representatives in my department. 1\n",
      "What would your colleagues say about you? 1\n",
      "So, that would mean that every month it would just come from my account? 1\n",
      "Well, considering your qualifications, we believe you would be a suitable candidate. 1\n",
      "I was worried you would think it was too far to drive. 2\n",
      "To what extent would local assembly help sales, did you say? 1\n",
      "I love this house and would be willing to pay the full asking price of three hundred and fifty thousand dollars. 1\n",
      "I knew you'd do a good job as a manager. 2\n",
      "I wish I could, but I have to walk the dog and finish cooking so if you would excuse me. 1\n",
      "Certainly, sir.Would you sign here, please?... 1\n",
      "I think they would be a threat to those of us that lived on the Earth. 1\n",
      "I wish I would. 1\n",
      "But it would only be adding to the existing structure. 1\n",
      "yes, he said it would be batter for me and for the whole family. 2\n",
      "I thought it would be a good idea to get a check-up. 2\n",
      "Who much would that come to? 1\n",
      "I'd probably freeze my lungs. 1\n",
      "I knew you would be the best person to ask about this. 2\n",
      "Yes, they say I would get a big sum. 1\n"
     ]
    },
    {
     "name": "stdout",
     "output_type": "stream",
     "text": [
      "USE: Can use the negative forms of 'would' to talk about willingness in the past. (MODALITY: would)\n",
      "We had to leave without you because the bus driver wouldn't wait. \n",
      "\n",
      "[talking about a guitar] It was all that I wanted in life but my parents would not allow me to buy it.\n",
      "0.21905572096980008\n"
     ]
    },
    {
     "name": "stderr",
     "output_type": "stream",
     "text": [
      "100%|█████████████████| 59/59 [00:04<00:00, 11.82it/s]\n"
     ]
    },
    {
     "name": "stdout",
     "output_type": "stream",
     "text": [
      "Training loss: 0.14617937878938392\n",
      "Val loss: 0.04270933637356696\n"
     ]
    },
    {
     "name": "stderr",
     "output_type": "stream",
     "text": [
      "100%|█████████████████| 59/59 [00:04<00:00, 11.96it/s]\n"
     ]
    },
    {
     "name": "stdout",
     "output_type": "stream",
     "text": [
      "Training loss: 0.017574861389683498\n",
      "Val loss: 0.03545273668132722\n"
     ]
    },
    {
     "name": "stderr",
     "output_type": "stream",
     "text": [
      "100%|█████████████████| 59/59 [00:04<00:00, 11.92it/s]\n"
     ]
    },
    {
     "name": "stdout",
     "output_type": "stream",
     "text": [
      "Training loss: 0.011430115120828751\n",
      "Val loss: 0.033532629706314765\n",
      "{'accuracy': 0.994, 'f1': 0.985, 'precision': 0.98}\n"
     ]
    },
    {
     "name": "stderr",
     "output_type": "stream",
     "text": [
      "  1%|▏              | 52/5247 [00:08<13:51,  6.25it/s]\n"
     ]
    },
    {
     "name": "stdin",
     "output_type": "stream",
     "text": [
      "She probably wouldn't even recognize me. 1\n",
      "It's no use complaining.If we had got enough money, we wouldn't put up with it! 1\n",
      "What would your colleagues say about you? 1\n",
      "What would you do without me? 1\n",
      "To what extent would local assembly help sales, did you say? 1\n",
      "It wouldn't hurt much to say sorry first. 1\n",
      "I wouldn't call myself extroverted. 1\n",
      "So would you say if things don't go your way at work it could easily get you down? 1\n",
      "I knew you'd do a good job as a manager. 1\n",
      "I would've never known. 1\n",
      "I never would have guessed. 1\n",
      "I wouldn't dream of letting you do that. 1\n",
      "Certainly, sir.Would you sign here, please?... 1\n",
      "Who much would that come to? 1\n",
      "I'd probably freeze my lungs. 1\n",
      "I knew you would be the best person to ask about this. 1\n",
      "But wouldn't it be easier to take the shirt back and exchange it for the right size? 1\n",
      "The sales lady said that even if I eat right, I wouldn't get enough vitamins. 1\n",
      "If you think I'd ever set foot that inferior restaurant again, you gotta be nuts. 1\n",
      "I asked you whether you would go back to your hometown or not. 1\n"
     ]
    },
    {
     "name": "stdout",
     "output_type": "stream",
     "text": [
      "USE: Can use 'would' to talk about habitual actions and events in the past. (MODALITY: would)\n",
      "[talking about a job that the speaker did last year] In my opinion I worked very hard. I would spend a lot of hours at work. \n",
      "\n",
      "[from a story about pirates] At night they would go to the rocky seaside and light a fire in order to deceive the boats and let them crash on the rocks.\n",
      "0.22055674518201285\n"
     ]
    },
    {
     "name": "stderr",
     "output_type": "stream",
     "text": [
      "100%|█████████████████| 59/59 [00:04<00:00, 11.89it/s]\n"
     ]
    },
    {
     "name": "stdout",
     "output_type": "stream",
     "text": [
      "Training loss: 0.17893571458545798\n",
      "Val loss: 0.04239586346472303\n"
     ]
    },
    {
     "name": "stderr",
     "output_type": "stream",
     "text": [
      "100%|█████████████████| 59/59 [00:04<00:00, 12.11it/s]\n"
     ]
    },
    {
     "name": "stdout",
     "output_type": "stream",
     "text": [
      "Training loss: 0.02852187684433282\n",
      "Val loss: 0.014296529065662374\n"
     ]
    },
    {
     "name": "stderr",
     "output_type": "stream",
     "text": [
      "100%|█████████████████| 59/59 [00:04<00:00, 12.08it/s]\n"
     ]
    },
    {
     "name": "stdout",
     "output_type": "stream",
     "text": [
      "Training loss: 0.01512400378962442\n",
      "Val loss: 0.007002254030279194\n"
     ]
    },
    {
     "name": "stderr",
     "output_type": "stream",
     "text": [
      "100%|█████████████████| 59/59 [00:04<00:00, 12.07it/s]\n"
     ]
    },
    {
     "name": "stdout",
     "output_type": "stream",
     "text": [
      "Training loss: 0.008402815228722736\n",
      "Val loss: 0.0032313076798648884\n",
      "{'accuracy': 1.0, 'f1': 1.0, 'precision': 1.0}\n"
     ]
    },
    {
     "name": "stderr",
     "output_type": "stream",
     "text": [
      "  4%|▍             | 186/5247 [00:29<13:22,  6.30it/s]\n"
     ]
    },
    {
     "name": "stdin",
     "output_type": "stream",
     "text": [
      "I would always be ready to go shopping with you! 2\n",
      "Okay, from now on I would swim three times a week. 2\n",
      "So, that would mean that every month it would just come from my account? 1\n",
      "But it would only be adding to the existing structure. 1\n",
      "I heard that this stock would go up. 1\n",
      "I was hoping you would come. 1\n",
      "I asked you whether you would go back to your hometown or not. 1\n",
      "Well, I know that he would never stab me in the back.But I've seen him double cross other people. 1\n",
      "I would never be able to do that. 1\n",
      "He told me that I was wanted on the phone in my dormitory, and that person would call me again several minutes later. 2\n",
      "But we would meet every two weeks. 1\n",
      "I wish I would live somewhere which were sunning all year round. 1\n",
      "I thought I would feel like I was in the lap of Luxury. 1\n",
      "I thought she would marry a fortune. 1\n",
      "And how many accounts would I handle? 1\n",
      "She would never talk about me behind my back or hold a grudge. 1\n",
      "Oh, no, I'v already made several trips to Guangzhou, this is my first trip to Beijing though.It is a lot larger than I expected it would be. 1\n",
      "I knew this would happen some day... 1\n",
      "I'm sure he would. 1\n",
      "He would get very angry if anyone criticized him. 2\n"
     ]
    },
    {
     "name": "stdout",
     "output_type": "stream",
     "text": [
      "FORM: Can form conditional subordinate clause with 'if' + present simple. (CLAUSES: conditional)\n",
      "It is 3 hours long, and if you want to pass it you will have to study very hard, it is very difficult. \n",
      "\n",
      "If you buy a gift for me, please buy a book, because I love to read. \n",
      "\n",
      "If you agree, we can go shopping after the film.\n",
      "0.20631747301079567\n"
     ]
    },
    {
     "name": "stderr",
     "output_type": "stream",
     "text": [
      "100%|█████████████████| 63/63 [00:05<00:00, 11.99it/s]\n"
     ]
    },
    {
     "name": "stdout",
     "output_type": "stream",
     "text": [
      "Training loss: 0.689668900318562\n",
      "Val loss: 0.10659476718865335\n"
     ]
    },
    {
     "name": "stderr",
     "output_type": "stream",
     "text": [
      " 22%|███▊             | 14/63 [00:01<00:04, 11.24it/s]\n"
     ]
    },
    {
     "ename": "KeyboardInterrupt",
     "evalue": "",
     "output_type": "error",
     "traceback": [
      "\u001b[0;31m---------------------------------------------------------------------------\u001b[0m",
      "\u001b[0;31mKeyboardInterrupt\u001b[0m                         Traceback (most recent call last)",
      "Cell \u001b[0;32mIn[32], line 11\u001b[0m\n\u001b[1;32m      8\u001b[0m \u001b[38;5;28mprint\u001b[39m(rule[\u001b[38;5;124m'\u001b[39m\u001b[38;5;124mExample\u001b[39m\u001b[38;5;124m'\u001b[39m])\n\u001b[1;32m     10\u001b[0m tries \u001b[38;5;241m=\u001b[39m \u001b[38;5;241m0\u001b[39m\n\u001b[0;32m---> 11\u001b[0m classifier, val_metrics \u001b[38;5;241m=\u001b[39m \u001b[43mget_trained_classifer\u001b[49m\u001b[43m(\u001b[49m\u001b[43mrule\u001b[49m\u001b[43m[\u001b[49m\u001b[38;5;124;43m'\u001b[39;49m\u001b[38;5;124;43maugmented_examples\u001b[39;49m\u001b[38;5;124;43m'\u001b[39;49m\u001b[43m]\u001b[49m\u001b[43m,\u001b[49m\u001b[43m \u001b[49m\u001b[43mrule\u001b[49m\u001b[43m[\u001b[49m\u001b[38;5;124;43m'\u001b[39;49m\u001b[38;5;124;43maugmented_negative_examples\u001b[39;49m\u001b[38;5;124;43m'\u001b[39;49m\u001b[43m]\u001b[49m\u001b[43m,\u001b[49m\u001b[43m \u001b[49m\u001b[43mget_others\u001b[49m\u001b[43m(\u001b[49m\u001b[43megp_examples\u001b[49m\u001b[43m,\u001b[49m\u001b[43m \u001b[49m\u001b[43mrule\u001b[49m\u001b[43m[\u001b[49m\u001b[38;5;124;43m'\u001b[39;49m\u001b[38;5;124;43m#\u001b[39;49m\u001b[38;5;124;43m'\u001b[39;49m\u001b[43m]\u001b[49m\u001b[43m)\u001b[49m\u001b[43m,\u001b[49m\u001b[43m \u001b[49m\u001b[43mratio\u001b[49m\u001b[38;5;241;43m=\u001b[39;49m\u001b[38;5;241;43m3\u001b[39;49m\u001b[43m)\u001b[49m\n\u001b[1;32m     12\u001b[0m \u001b[38;5;28;01mwhile\u001b[39;00m val_metrics[\u001b[38;5;124m'\u001b[39m\u001b[38;5;124mprecision\u001b[39m\u001b[38;5;124m'\u001b[39m]\u001b[38;5;241m<\u001b[39m\u001b[38;5;241m0.75\u001b[39m \u001b[38;5;129;01mand\u001b[39;00m tries \u001b[38;5;241m<\u001b[39m \u001b[38;5;241m3\u001b[39m:\n\u001b[1;32m     13\u001b[0m     tries \u001b[38;5;241m+\u001b[39m\u001b[38;5;241m=\u001b[39m \u001b[38;5;241m1\u001b[39m\n",
      "Cell \u001b[0;32mIn[4], line 20\u001b[0m, in \u001b[0;36mget_trained_classifer\u001b[0;34m(positive, negative, others, classifier, ratio, verbose)\u001b[0m\n\u001b[1;32m     18\u001b[0m dataset \u001b[38;5;241m=\u001b[39m data\u001b[38;5;241m.\u001b[39mget_dataset(positive, negative, others, models\u001b[38;5;241m.\u001b[39mbert_tokenizer, \u001b[38;5;241m64\u001b[39m, ratio\u001b[38;5;241m*\u001b[39m\u001b[38;5;28mlen\u001b[39m(positive)\u001b[38;5;241m/\u001b[39m\u001b[38;5;28mlen\u001b[39m(negative), verbose\u001b[38;5;241m=\u001b[39mverbose) \n\u001b[1;32m     19\u001b[0m train_dataloader, val_dataloader \u001b[38;5;241m=\u001b[39m data\u001b[38;5;241m.\u001b[39mget_loaders(dataset)\n\u001b[0;32m---> 20\u001b[0m _, val_metrics \u001b[38;5;241m=\u001b[39m \u001b[43mmodels\u001b[49m\u001b[38;5;241;43m.\u001b[39;49m\u001b[43mtrain\u001b[49m\u001b[43m(\u001b[49m\u001b[43mclassifier\u001b[49m\u001b[43m,\u001b[49m\u001b[43m \u001b[49m\u001b[43mtrain_dataloader\u001b[49m\u001b[43m,\u001b[49m\u001b[43m \u001b[49m\u001b[43mval_dataloader\u001b[49m\u001b[43m,\u001b[49m\u001b[43m \u001b[49m\u001b[43mnum_epochs\u001b[49m\u001b[38;5;241;43m=\u001b[39;49m\u001b[38;5;28;43;01mNone\u001b[39;49;00m\u001b[43m,\u001b[49m\u001b[43m \u001b[49m\u001b[43mverbose\u001b[49m\u001b[38;5;241;43m=\u001b[39;49m\u001b[43mverbose\u001b[49m\u001b[43m)\u001b[49m\n\u001b[1;32m     21\u001b[0m \u001b[38;5;28;01mreturn\u001b[39;00m classifier, val_metrics\n",
      "File \u001b[0;32m~/grammarctg/experiments/../source/models.py:128\u001b[0m, in \u001b[0;36mtrain\u001b[0;34m(model, train_dataloader, val_dataloader, num_epochs, lr, criterion, optimizer, verbose)\u001b[0m\n\u001b[1;32m    126\u001b[0m     optimizer\u001b[38;5;241m.\u001b[39mstep()\n\u001b[1;32m    127\u001b[0m     optimizer\u001b[38;5;241m.\u001b[39mzero_grad()\n\u001b[0;32m--> 128\u001b[0m     total_loss \u001b[38;5;241m+\u001b[39m\u001b[38;5;241m=\u001b[39m \u001b[43mloss\u001b[49m\u001b[38;5;241;43m.\u001b[39;49m\u001b[43mitem\u001b[49m\u001b[43m(\u001b[49m\u001b[43m)\u001b[49m\n\u001b[1;32m    129\u001b[0m \u001b[38;5;28;01mif\u001b[39;00m verbose: \u001b[38;5;28mprint\u001b[39m(\u001b[38;5;124mf\u001b[39m\u001b[38;5;124m'\u001b[39m\u001b[38;5;124mTraining loss: \u001b[39m\u001b[38;5;132;01m{\u001b[39;00mtotal_loss\u001b[38;5;250m \u001b[39m\u001b[38;5;241m/\u001b[39m\u001b[38;5;250m \u001b[39m\u001b[38;5;28mlen\u001b[39m(train_dataloader)\u001b[38;5;132;01m}\u001b[39;00m\u001b[38;5;124m'\u001b[39m)\n\u001b[1;32m    131\u001b[0m model\u001b[38;5;241m.\u001b[39meval()\n",
      "\u001b[0;31mKeyboardInterrupt\u001b[0m: "
     ]
    }
   ],
   "source": [
    "#while not criterion(coded_instances, num_rules=19):\n",
    "#    rule = egp_examples.iloc[0] # sample random rule\n",
    "dir = \"corpus_training\"\n",
    "for nr in [int(name.replace(\".pth\",\"\")) for name in os.listdir(f\"../models/{dir}\")]:\n",
    "    rule = egp_examples[egp_examples['#']==nr].iloc[0] # sample random rule\n",
    "    if nr in list(coded_instances['#']): continue\n",
    "    print(f\"{rule['type']}: {rule['Can-do statement']} ({rule['SuperCategory']}: {rule['SubCategory']})\")\n",
    "    print(rule['Example'])\n",
    "\n",
    "    tries = 0\n",
    "    classifier, val_metrics = get_trained_classifer(rule['augmented_examples'], rule['augmented_negative_examples'], get_others(egp_examples, rule['#']), ratio=3)\n",
    "    while val_metrics['precision']<0.75 and tries < 3:\n",
    "        tries += 1\n",
    "        classifier, val_metrics = get_trained_classifer(rule['augmented_examples'], rule['augmented_negative_examples'], get_others(egp_examples, rule['#']), num_epochs=None, ratio=3)\n",
    "    print(val_metrics)\n",
    "    metrics[nr] = val_metrics\n",
    "    scores, tokens = models.score_corpus(classifier, dataloader, max_positive=20, max_batches=1000)\n",
    "    for score, token, sample in zip(scores, tokens, sentences[:len(scores)]):\n",
    "        if score < 0.5: continue\n",
    "        if len(coded_instances[coded_instances['#'] == rule['#']]) >= 20: break\n",
    "        if sample in list(coded_instances[coded_instances['#'] == rule['#']]['sentence']): continue\n",
    "        user_response = input(f\"{sample}\")\n",
    "        new_row = pd.DataFrame({'#': [rule['#']],\n",
    "             'sentence': [sample],\n",
    "             'correct': [user_response == '2'],\n",
    "             'score': [score],\n",
    "             'max_token': [token]})\n",
    "        coded_instances = pd.concat([coded_instances, new_row], ignore_index=True)\n",
    "        coded_instances.to_json(output_path)"
   ]
  },
  {
   "cell_type": "code",
   "execution_count": 33,
   "id": "5528e872-78d8-453c-b2d4-5ad7ed664473",
   "metadata": {},
   "outputs": [],
   "source": [
    "\n",
    "with open(\"../results/gpt_training_metrics.json\", 'w') as f:\n",
    "    json.dump(metrics, f)"
   ]
  },
  {
   "cell_type": "code",
   "execution_count": null,
   "id": "89adbf5c-afb6-46b1-be98-ca2d70cc1f78",
   "metadata": {},
   "outputs": [],
   "source": []
  },
  {
   "cell_type": "markdown",
   "id": "27ea3258-ffef-4e2a-bd6a-4fbbd6057217",
   "metadata": {},
   "source": [
    "# Analyse coded instances"
   ]
  },
  {
   "cell_type": "code",
   "execution_count": 4,
   "id": "1dc8e164-d807-47e8-8b8a-b4cff1d24698",
   "metadata": {},
   "outputs": [
    {
     "data": {
      "image/png": "[encoded data removed]",
      "text/plain": [
       "<Figure size 800x500 with 2 Axes>"
      ]
     },
     "metadata": {},
     "output_type": "display_data"
    }
   ],
   "source": [
    "def plot_histogram(ax, data):\n",
    "    sns.histplot(ax=ax, data=data, binwidth=0.1, kde=True, color=\"skyblue\", edgecolor='black', alpha=0.7, legend=False)\n",
    "    ax.set_ylabel(f\"Number of rules / {len(data)}\")\n",
    "    ax.set_xlabel(\"Precision\")\n",
    "    ax.xaxis.set_major_formatter(FuncFormatter(lambda x, _: f'{x*100:.0f}%'))\n",
    "    ax.set_xlim(0, 1)\n",
    "    \n",
    "with open(\"../results/gpt_training_metrics.json\", 'r') as f:\n",
    "    metrics = json.load(f)\n",
    "correct_per_rule = coded_instances.groupby('#')['correct'].mean()\n",
    "fig, axs = plt.subplots(2, 1, figsize=(8, 5))\n",
    "plot_histogram(axs[0], [m['precision'] for m in metrics.values()])\n",
    "axs[0].set_title(\"Distribution of Rule Detection Precision on Validation Data\")\n",
    "plot_histogram(axs[1], list(correct_per_rule))\n",
    "axs[1].set_title(\"Distribution of Rule Detection Precisions on Corpus\")\n",
    "plt.tight_layout()\n",
    "plt.show()"
   ]
  },
  {
   "cell_type": "code",
   "execution_count": 7,
   "id": "5a1a3f31-b77a-419c-888a-f3d6dcea004c",
   "metadata": {},
   "outputs": [],
   "source": [
    "gpt_generated = [np.mean([m['precision'] for m in metrics.values()]), np.mean(correct_per_rule)]"
   ]
  },
  {
   "cell_type": "code",
   "execution_count": 14,
   "id": "af98cbac-7cae-4dbf-8ac9-22d8ae9dd6c7",
   "metadata": {},
   "outputs": [],
   "source": [
    "corpus_instances = [0.7550173913043479, 0.6870175146490934] # from exp012"
   ]
  },
  {
   "cell_type": "code",
   "execution_count": 28,
   "id": "c8718ede-dd77-4328-871e-1c60ef851543",
   "metadata": {},
   "outputs": [
    {
     "name": "stderr",
     "output_type": "stream",
     "text": [
      "/tmp/ipykernel_1568/3706234907.py:16: UserWarning: FixedFormatter should only be used together with FixedLocator\n",
      "  plt.gca().set_yticklabels([f'{x:.0%}' for x in plt.gca().get_yticks()])\n"
     ]
    },
    {
     "data": {
      "image/png": "[encoded data removed]",
      "text/plain": [
       "<Figure size 640x480 with 1 Axes>"
      ]
     },
     "metadata": {},
     "output_type": "display_data"
    }
   ],
   "source": [
    "data = {\n",
    "    'Method': ['ChatGPT generated', 'ChatGPT generated', 'Corpus-based', 'Corpus-based'],\n",
    "    'Testset': ['Validation', 'Other Corpus', 'Validation', 'Other Corpus'],\n",
    "    'Precision': gpt_generated + corpus_instances\n",
    "}\n",
    "\n",
    "df = pd.DataFrame(data)\n",
    "\n",
    "# Create the bar plot\n",
    "sns.barplot(x='Method', y='Precision', hue='Testset', data=df)\n",
    "plt.rcParams.update({'font.size': 14})\n",
    "# Adding labels and title\n",
    "plt.xlabel('Method')\n",
    "plt.ylabel('Precision')\n",
    "plt.title('Generalization of Grammar Classification')\n",
    "plt.gca().set_yticklabels([f'{x:.0%}' for x in plt.gca().get_yticks()])\n",
    "\n",
    "plt.xticks(fontsize=14)  # Font size for x-tick labels\n",
    "plt.yticks(fontsize=14)  # Font size for y-tick labels\n",
    "plt.legend(fontsize=12)  # Font size for legend\n",
    "# Show the plot\n",
    "plt.show()"
   ]
  },
  {
   "cell_type": "code",
   "execution_count": null,
   "id": "1675bc01-d4c4-4a0e-a24c-094f52a6ae29",
   "metadata": {},
   "outputs": [],
   "source": []
  }
 ],
 "metadata": {
  "kernelspec": {
   "display_name": "Python 3 (ipykernel)",
   "language": "python",
   "name": "python3"
  },
  "language_info": {
   "codemirror_mode": {
    "name": "ipython",
    "version": 3
   },
   "file_extension": ".py",
   "mimetype": "text/x-python",
   "name": "python",
   "nbconvert_exporter": "python",
   "pygments_lexer": "ipython3",
   "version": "3.11.2"
  }
 },
 "nbformat": 4,
 "nbformat_minor": 5
}
