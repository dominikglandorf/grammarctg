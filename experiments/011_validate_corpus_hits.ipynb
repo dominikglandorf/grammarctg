{
 "cells": [
  {
   "cell_type": "markdown",
   "id": "8bf0d94b-5119-4713-92b7-d726ae9cb270",
   "metadata": {},
   "source": [
    "# Exp011: Corpus Rule Detection\n",
    "For a good external validation, each rule is searched for in the corpus and marked if there is at least 80% precision among the hits. If there are less than 5 hits in the first ten examples, the rule is skipped, otherwise 10 more appear."
   ]
  },
  {
   "cell_type": "code",
   "execution_count": 1,
   "id": "bf0f9f6b-3536-4c55-80d0-df8520b5cb9a",
   "metadata": {},
   "outputs": [
    {
     "name": "stderr",
     "output_type": "stream",
     "text": [
      "Some weights of the model checkpoint at bert-base-uncased were not used when initializing BertModel: ['cls.predictions.bias', 'cls.predictions.transform.LayerNorm.weight', 'cls.predictions.transform.dense.weight', 'cls.predictions.transform.dense.bias', 'cls.seq_relationship.weight', 'cls.predictions.decoder.weight', 'cls.predictions.transform.LayerNorm.bias', 'cls.seq_relationship.bias']\n",
      "- This IS expected if you are initializing BertModel from the checkpoint of a model trained on another task or with another architecture (e.g. initializing a BertForSequenceClassification model from a BertForPreTraining model).\n",
      "- This IS NOT expected if you are initializing BertModel from the checkpoint of a model that you expect to be exactly identical (initializing a BertForSequenceClassification model from a BertForSequenceClassification model).\n",
      "[nltk_data] Downloading package punkt to\n",
      "[nltk_data]     /cluster/home/dglandorf/nltk_data...\n",
      "[nltk_data]   Package punkt is already up-to-date!\n"
     ]
    }
   ],
   "source": [
    "import pandas as pd\n",
    "import numpy as np\n",
    "from torch import save, load, no_grad\n",
    "from torch.utils.data import DataLoader, TensorDataset\n",
    "import os\n",
    "import random\n",
    "import matplotlib.pyplot as plt\n",
    "import seaborn as sns\n",
    "from matplotlib.ticker import FuncFormatter\n",
    "import sys\n",
    "sys.path.append('../source')\n",
    "import models\n",
    "import data\n",
    "import helpers\n",
    "import api\n",
    "#import importlib\n",
    "#importlib.reload(models)"
   ]
  },
  {
   "cell_type": "markdown",
   "id": "3b888610-eb83-4e5a-a79c-2f6b11aaec75",
   "metadata": {},
   "source": [
    "Load datasets"
   ]
  },
  {
   "cell_type": "code",
   "execution_count": 2,
   "id": "08325525-b773-42e4-a3dc-67db757718c1",
   "metadata": {},
   "outputs": [
    {
     "name": "stderr",
     "output_type": "stream",
     "text": [
      "100%|███████████████████████████████████████████████| 4/4 [00:38<00:00,  9.57s/it]\n"
     ]
    }
   ],
   "source": [
    "# egp instances\n",
    "egp_examples = pd.read_json(\"../data/egp_gpt35.json\")\n",
    "# load corpus sentences and prepare dataloader\n",
    "sentences = data.get_mixed_sentences(100000)\n",
    "encoded_inputs = models.bert_tokenizer(sentences, return_tensors='pt', max_length=64, padding='max_length', truncation=True)\n",
    "dataset = TensorDataset(encoded_inputs['input_ids'], encoded_inputs['attention_mask'])\n",
    "dataloader = DataLoader(dataset, batch_size=64, shuffle=False)\n",
    "# output dataset\n",
    "output_path = '../data/coded_corpus_hits_05.json'\n",
    "coded_instances = pd.DataFrame(columns=['#', 'sentence', 'correct', 'score', 'max_token']) if not os.path.exists(output_path) else pd.read_json(output_path)"
   ]
  },
  {
   "cell_type": "markdown",
   "id": "6d94750f-5dae-4d78-83bc-98930feead08",
   "metadata": {
    "jp-MarkdownHeadingCollapsed": true
   },
   "source": [
    "for each rule:\n",
    "- train classifier with existing dataset\n",
    "- search corpus\n",
    "- output rule to user\n",
    "- ask for user input until the precision is clear enough"
   ]
  },
  {
   "cell_type": "code",
   "execution_count": 58,
   "id": "fcd39b8c-16f1-468a-900d-801c7b29c9ba",
   "metadata": {},
   "outputs": [],
   "source": [
    "def get_dataset(positives, negatives, others, tokenizer, max_len, others_ratio = 3):\n",
    "    unique_positive = list(set(positives)) # remove duplicates\n",
    "    unique_negative = list(set(negatives).difference(set(positives))) # remove duplicates and positives\n",
    "    num_rands = int(others_ratio * len(unique_negative))\n",
    "    random.shuffle(others)\n",
    "    sentences = unique_positive + unique_negative + others[:num_rands]\n",
    "    labels = [1] * len(unique_positive) + [0] * len(unique_negative) + [0] * len(others[:num_rands])\n",
    "    print(sum(labels) / len(labels))\n",
    "    return data.SentenceDataset(sentences, labels, tokenizer, max_len)\n",
    "def get_trained_classifer(positive, negative, others, classifier=models.RuleDetector(models.bert_encoder), num_epochs=3):\n",
    "    dataset = get_dataset(positive, negative, others, models.bert_tokenizer, 64) \n",
    "    train_dataloader, val_dataloader = data.get_loaders(dataset)\n",
    "    _, accuracy = models.train(classifier, train_dataloader, val_dataloader, num_epochs)\n",
    "    return classifier, accuracy\n",
    "def get_others(egp, nr):\n",
    "    return [example for sublist in egp.loc[egp['#'] != nr, 'augmented_examples'].to_list() for example in sublist]"
   ]
  },
  {
   "cell_type": "code",
   "execution_count": 4,
   "id": "2a7b6a1c-76b5-4192-bda0-b062e1bbd96c",
   "metadata": {},
   "outputs": [],
   "source": [
    "def criterion(coded_instances, min_precision=0.8, num_rules=1):\n",
    "    correct_per_rule = coded_instances.groupby('#')['correct'].mean()\n",
    "    return len(correct_per_rule[correct_per_rule > min_precision]) > num_rules"
   ]
  },
  {
   "cell_type": "code",
   "execution_count": 20,
   "id": "d4e396ed-bd25-4d4f-9738-91293cdd500d",
   "metadata": {},
   "outputs": [],
   "source": [
    "accuracies = {}"
   ]
  },
  {
   "cell_type": "code",
   "execution_count": 61,
   "id": "cfa855bc-52d6-4b51-b6d9-e6970c52a05b",
   "metadata": {
    "scrolled": true
   },
   "outputs": [
    {
     "name": "stdout",
     "output_type": "stream",
     "text": [
      "FORM: Can use 'few', 'many', 'most', 'others' to refer to people in formal written contexts, often reports or surveys.  (PRONOUNS: quantity)\n",
      "Few people stop to think about what they are really doing, and few are motivated to work at all. \n",
      "\n",
      "Few denied that it was one of the most thrilling and fascinating activities we tried the whole week. \n",
      "\n",
      "Many express their satisfaction and claim to have acquired a great number of new skills. \n",
      "\n",
      "Many say that extreme sports attract only those who are addicted to adrenaline or those who have nothing to lose. \n",
      "\n",
      "Some of the students have a few comments. Most were concerned with the planning of the timetable and I hope there may be some changes this year.\n",
      "500\n",
      "['Most top executives have reasons to doubt the success of the upcoming product launch.', 'Most respondents reported feeling overwhelmed by the workload, while some others indicated a feeling of accomplishment and satisfaction.', 'Most scientists are close-minded to collaborating with colleagues from diverse backgrounds.', 'Many denied that it was one of the few thrilling and fascinating activities we tried the whole week.', 'Most who have visited the historical site have marveled at its architectural beauty, and others have appreciated the preservation efforts made by the local authorities.', 'Only a small number of employees were satisfied with the current work environment and expressed their concerns during the annual survey.', 'The majority of delegates felt that the summit was a productive platform for meaningful discussions and collaborations.', 'Many participants showed interest in the cultural activities organized by the company.', 'Many attendees had several questions during the presentation, while most others were eager to engage in a discussion.', 'Not many investors have shown genuine interest in funding projects focused on social entrepreneurship.']\n",
      "732\n",
      "0.33875338753387535\n"
     ]
    },
    {
     "name": "stderr",
     "output_type": "stream",
     "text": [
      "100%|█████████████████████████████████████████████| 37/37 [00:03<00:00, 11.13it/s]\n"
     ]
    },
    {
     "name": "stdout",
     "output_type": "stream",
     "text": [
      "Training loss: 0.46048311848898194\n",
      "Accuracy: 0.8344594594594594\n"
     ]
    },
    {
     "name": "stderr",
     "output_type": "stream",
     "text": [
      "100%|█████████████████████████████████████████████| 37/37 [00:03<00:00, 11.41it/s]\n"
     ]
    },
    {
     "name": "stdout",
     "output_type": "stream",
     "text": [
      "Training loss: 0.338799919228296\n",
      "Accuracy: 0.875\n"
     ]
    },
    {
     "name": "stderr",
     "output_type": "stream",
     "text": [
      "100%|█████████████████████████████████████████████| 37/37 [00:03<00:00, 11.43it/s]\n"
     ]
    },
    {
     "name": "stdout",
     "output_type": "stream",
     "text": [
      "Training loss: 0.31338065137734283\n",
      "Accuracy: 0.875\n"
     ]
    },
    {
     "name": "stderr",
     "output_type": "stream",
     "text": [
      "100%|█████████████████████████████████████████████| 37/37 [00:03<00:00, 11.43it/s]\n"
     ]
    },
    {
     "name": "stdout",
     "output_type": "stream",
     "text": [
      "Training loss: 0.2877830554907386\n",
      "Accuracy: 0.8817567567567568\n"
     ]
    },
    {
     "name": "stderr",
     "output_type": "stream",
     "text": [
      "100%|█████████████████████████████████████████████| 37/37 [00:03<00:00, 11.41it/s]\n"
     ]
    },
    {
     "name": "stdout",
     "output_type": "stream",
     "text": [
      "Training loss: 0.28505930022613424\n",
      "Accuracy: 0.8851351351351351\n"
     ]
    },
    {
     "name": "stderr",
     "output_type": "stream",
     "text": [
      "  5%|██                                        | 250/5247 [00:40<13:24,  6.21it/s]\n"
     ]
    },
    {
     "name": "stdin",
     "output_type": "stream",
     "text": [
      "However, there are so few places left that have not been affected by global warming. 1\n",
      "On top fo all of that, she didn't seem to have any sense about people's personal space. 1\n",
      "Once we were asked to watch a video on how to operate the punches, all of us seemed to fall into sleep by the end of the video. 2\n",
      "All the prices on the list are subject to our final confirmation. 1\n",
      "It takes most of our weekends to listen to these boring lectures, so I can not bear it anymore. 1\n",
      "Let's discuss the clauses to see if we agree on all of them. 1\n",
      "All of them have first-class quality and performance. 1\n",
      "But only a few of them are influential world-wide. 1\n",
      "But many of them are good. 1\n",
      "Many of us still have a mountain of work to do before the day's end. 2\n",
      "Next you fill in all of your hours for each day and total them. 1\n",
      "I've got all of your information here on the screen in front of me. 1\n",
      "well, most of them only need a cap and gown for that particular convocation service, but some of the education majors have had them made, because they will be faculty members, and they'll need them f 2\n",
      "I've read almost all of them in Chinese translation. 1\n",
      "Tell me, must we use the same payment method for all of our employees? 1\n",
      "Relief agencies report that many civilians are in desperate need of food and shelter. 1\n",
      "Yes, most of the time. 1\n",
      "Actually, I'm interested in all of them. 1\n",
      "The river in my city sometime freeze over.people go ice-skating on it.on summer people go boating on the river.but few people go swimming because it is not very clean. 2\n",
      "On top of that, there are a few large chemical factories in the suburbs, which are contributing to the high pollution levels in the water and the air in this city. 1\n"
     ]
    },
    {
     "name": "stdout",
     "output_type": "stream",
     "text": [
      "FORM: Can use the negative forms with a range of pronouns and an increasing range of verbs.  (PAST: present perfect simple)\n",
      "He hasn't spoken to anyone from that time till now. \n",
      "\n",
      "She is a quiet person so she has not made a lot of friends. \n",
      "\n",
      "We haven't decided where to go yet, but probably it will be to somewhere like Australia or New Zealand.\n",
      "515\n",
      "['I have received emails today.', 'She has heard from her professor about the exam results already.', \"You finished your homework, didn't you?\", 'We had visitors over the weekend.', 'He had realized how much time had passed.', 'Have you visited the museum in your hometown?', 'She has heard from him since they had an argument.', 'She understood the instructions clearly and completed her task successfully.', 'She prepared for the job interview adequately, and she impressed the interviewers.', 'You mentioned your travel plans to me before today.']\n",
      "750\n",
      "0.33993399339933994\n"
     ]
    },
    {
     "name": "stderr",
     "output_type": "stream",
     "text": [
      "100%|█████████████████████████████████████████████| 38/38 [00:03<00:00, 11.61it/s]\n"
     ]
    },
    {
     "name": "stdout",
     "output_type": "stream",
     "text": [
      "Training loss: 0.4028129044332002\n",
      "Accuracy: 0.9306930693069307\n"
     ]
    },
    {
     "name": "stderr",
     "output_type": "stream",
     "text": [
      "100%|█████████████████████████████████████████████| 38/38 [00:03<00:00, 11.93it/s]\n"
     ]
    },
    {
     "name": "stdout",
     "output_type": "stream",
     "text": [
      "Training loss: 0.12508084066212177\n",
      "Accuracy: 0.9735973597359736\n"
     ]
    },
    {
     "name": "stderr",
     "output_type": "stream",
     "text": [
      "100%|█████████████████████████████████████████████| 38/38 [00:03<00:00, 11.92it/s]\n"
     ]
    },
    {
     "name": "stdout",
     "output_type": "stream",
     "text": [
      "Training loss: 0.08758384959870263\n",
      "Accuracy: 0.976897689768977\n"
     ]
    },
    {
     "name": "stderr",
     "output_type": "stream",
     "text": [
      "100%|█████████████████████████████████████████████| 38/38 [00:03<00:00, 11.87it/s]\n"
     ]
    },
    {
     "name": "stdout",
     "output_type": "stream",
     "text": [
      "Training loss: 0.07485187480128125\n",
      "Accuracy: 0.9834983498349835\n"
     ]
    },
    {
     "name": "stderr",
     "output_type": "stream",
     "text": [
      "100%|█████████████████████████████████████████████| 38/38 [00:03<00:00, 11.89it/s]\n"
     ]
    },
    {
     "name": "stdout",
     "output_type": "stream",
     "text": [
      "Training loss: 0.06553153799062497\n",
      "Accuracy: 0.9834983498349835\n"
     ]
    },
    {
     "name": "stderr",
     "output_type": "stream",
     "text": [
      "  5%|██                                        | 250/5247 [00:40<13:21,  6.24it/s]\n"
     ]
    },
    {
     "name": "stdin",
     "output_type": "stream",
     "text": [
      "You didn't come to reconfirm recently.You should have come to pick up your ticket three days ago since it's an international flight, any reservation without reconfirmation within 72 hours will be cancelled. 1\n",
      "I've been here for 3 years, and I haven't had a raise in all that time. 1\n",
      "I didn't realize it. 11\n",
      "He's not answering. 1\n",
      "I called the first three people on the list, but they didn't pick up. 1\n",
      "I got it a while ago, but I haven't worn it much. 1\n",
      "However, there are so few places left that have not been affected by global warming. 2\n",
      "I haven't even told you what it is yet! 2\n",
      "They didn't have much training. 1\n",
      "There don't seem to be any in the soft drink section. 1\n",
      "I've never seen this kind of office printer before. 1\n",
      "Haven't seen you for a long time 1\n",
      "You didn't show up to my performance last night! 1\n",
      "I haven't decided yet. 1\n",
      "And I don't see any loose electric wiring that could cause fires. 1\n",
      "I can't remember, but I've got the receipt somewhere. 1\n",
      "We don't know, but he's going to the doctor tomorrow. 1\n",
      "No, I haven't discussed my career plan with my present employer, but I am sure he will understand. 1\n",
      "I didn't perform as well as I should have in the interview. 1\n",
      "We don't have enough cash, but I'll take my credit card. 1\n"
     ]
    },
    {
     "name": "stdout",
     "output_type": "stream",
     "text": [
      "FORM: Can use 'few', 'many', 'most', 'others' to refer to people in formal written contexts, often reports or surveys.  (PRONOUNS: quantity)\n",
      "Few people stop to think about what they are really doing, and few are motivated to work at all. \n",
      "\n",
      "Few denied that it was one of the most thrilling and fascinating activities we tried the whole week. \n",
      "\n",
      "Many express their satisfaction and claim to have acquired a great number of new skills. \n",
      "\n",
      "Many say that extreme sports attract only those who are addicted to adrenaline or those who have nothing to lose. \n",
      "\n",
      "Some of the students have a few comments. Most were concerned with the planning of the timetable and I hope there may be some changes this year.\n",
      "500\n",
      "['Most top executives have reasons to doubt the success of the upcoming product launch.', 'Most respondents reported feeling overwhelmed by the workload, while some others indicated a feeling of accomplishment and satisfaction.', 'Most scientists are close-minded to collaborating with colleagues from diverse backgrounds.', 'Many denied that it was one of the few thrilling and fascinating activities we tried the whole week.', 'Most who have visited the historical site have marveled at its architectural beauty, and others have appreciated the preservation efforts made by the local authorities.', 'Only a small number of employees were satisfied with the current work environment and expressed their concerns during the annual survey.', 'The majority of delegates felt that the summit was a productive platform for meaningful discussions and collaborations.', 'Many participants showed interest in the cultural activities organized by the company.', 'Many attendees had several questions during the presentation, while most others were eager to engage in a discussion.', 'Not many investors have shown genuine interest in funding projects focused on social entrepreneurship.']\n",
      "732\n",
      "0.33875338753387535\n"
     ]
    },
    {
     "name": "stderr",
     "output_type": "stream",
     "text": [
      "100%|█████████████████████████████████████████████| 37/37 [00:03<00:00, 11.38it/s]\n"
     ]
    },
    {
     "name": "stdout",
     "output_type": "stream",
     "text": [
      "Training loss: 0.35661317246991237\n",
      "Accuracy: 0.8547297297297297\n"
     ]
    },
    {
     "name": "stderr",
     "output_type": "stream",
     "text": [
      "100%|█████████████████████████████████████████████| 37/37 [00:03<00:00, 11.56it/s]\n"
     ]
    },
    {
     "name": "stdout",
     "output_type": "stream",
     "text": [
      "Training loss: 0.2570177014615085\n",
      "Accuracy: 0.8682432432432432\n"
     ]
    },
    {
     "name": "stderr",
     "output_type": "stream",
     "text": [
      "100%|█████████████████████████████████████████████| 37/37 [00:03<00:00, 11.55it/s]\n"
     ]
    },
    {
     "name": "stdout",
     "output_type": "stream",
     "text": [
      "Training loss: 0.25049535829473185\n",
      "Accuracy: 0.8682432432432432\n"
     ]
    },
    {
     "name": "stderr",
     "output_type": "stream",
     "text": [
      "100%|█████████████████████████████████████████████| 37/37 [00:03<00:00, 11.52it/s]\n"
     ]
    },
    {
     "name": "stdout",
     "output_type": "stream",
     "text": [
      "Training loss: 0.24343118695793925\n",
      "Accuracy: 0.8682432432432432\n"
     ]
    },
    {
     "name": "stderr",
     "output_type": "stream",
     "text": [
      "100%|█████████████████████████████████████████████| 37/37 [00:03<00:00, 11.51it/s]\n"
     ]
    },
    {
     "name": "stdout",
     "output_type": "stream",
     "text": [
      "Training loss: 0.23888441436999552\n",
      "Accuracy: 0.8648648648648649\n"
     ]
    },
    {
     "name": "stderr",
     "output_type": "stream",
     "text": [
      "  1%|▌                                          | 69/5247 [00:11<13:55,  6.20it/s]\n"
     ]
    },
    {
     "ename": "KeyboardInterrupt",
     "evalue": "",
     "output_type": "error",
     "traceback": [
      "\u001b[0;31m---------------------------------------------------------------------------\u001b[0m",
      "\u001b[0;31mKeyboardInterrupt\u001b[0m                         Traceback (most recent call last)",
      "Cell \u001b[0;32mIn[61], line 9\u001b[0m\n\u001b[1;32m      7\u001b[0m classifier, accuracy \u001b[38;5;241m=\u001b[39m get_trained_classifer(rule[\u001b[38;5;124m'\u001b[39m\u001b[38;5;124maugmented_examples\u001b[39m\u001b[38;5;124m'\u001b[39m], rule[\u001b[38;5;124m'\u001b[39m\u001b[38;5;124maugmented_negative_examples\u001b[39m\u001b[38;5;124m'\u001b[39m], get_others(egp_examples, rule[\u001b[38;5;124m'\u001b[39m\u001b[38;5;124m#\u001b[39m\u001b[38;5;124m'\u001b[39m]), num_epochs\u001b[38;5;241m=\u001b[39m\u001b[38;5;241m5\u001b[39m)\n\u001b[1;32m      8\u001b[0m accuracies[rule[\u001b[38;5;124m'\u001b[39m\u001b[38;5;124m#\u001b[39m\u001b[38;5;124m'\u001b[39m]] \u001b[38;5;241m=\u001b[39m accuracy\n\u001b[0;32m----> 9\u001b[0m scores, tokens \u001b[38;5;241m=\u001b[39m \u001b[43mmodels\u001b[49m\u001b[38;5;241;43m.\u001b[39;49m\u001b[43mscore_corpus\u001b[49m\u001b[43m(\u001b[49m\u001b[43mclassifier\u001b[49m\u001b[43m,\u001b[49m\u001b[43m \u001b[49m\u001b[43mdataloader\u001b[49m\u001b[43m,\u001b[49m\u001b[43m \u001b[49m\u001b[43mmax_positive\u001b[49m\u001b[38;5;241;43m=\u001b[39;49m\u001b[38;5;241;43m250\u001b[39;49m\u001b[43m,\u001b[49m\u001b[43m \u001b[49m\u001b[43mmax_batches\u001b[49m\u001b[38;5;241;43m=\u001b[39;49m\u001b[38;5;241;43m250\u001b[39;49m\u001b[43m)\u001b[49m\n\u001b[1;32m     10\u001b[0m results \u001b[38;5;241m=\u001b[39m \u001b[38;5;28miter\u001b[39m([(score, token, sample) \u001b[38;5;28;01mfor\u001b[39;00m score, token, sample \u001b[38;5;129;01min\u001b[39;00m \u001b[38;5;28mzip\u001b[39m(scores, tokens, sentences[:\u001b[38;5;28mlen\u001b[39m(scores)]) \u001b[38;5;28;01mif\u001b[39;00m score \u001b[38;5;241m>\u001b[39m \u001b[38;5;241m0.5\u001b[39m])\n\u001b[1;32m     11\u001b[0m \u001b[38;5;28;01mwhile\u001b[39;00m \u001b[38;5;28mlen\u001b[39m(coded_instances[coded_instances[\u001b[38;5;124m'\u001b[39m\u001b[38;5;124m#\u001b[39m\u001b[38;5;124m'\u001b[39m] \u001b[38;5;241m==\u001b[39m rule[\u001b[38;5;124m'\u001b[39m\u001b[38;5;124m#\u001b[39m\u001b[38;5;124m'\u001b[39m]]) \u001b[38;5;241m<\u001b[39m \u001b[38;5;241m20\u001b[39m:\n",
      "File \u001b[0;32m~/grammarctg/experiments/../source/models.py:182\u001b[0m, in \u001b[0;36mscore_corpus\u001b[0;34m(model, dataloader, max_positive, max_batches, threshold)\u001b[0m\n\u001b[1;32m    179\u001b[0m input_ids, attention_mask \u001b[38;5;241m=\u001b[39m input_ids\u001b[38;5;241m.\u001b[39mto(device), attention_mask\u001b[38;5;241m.\u001b[39mto(device)\n\u001b[1;32m    181\u001b[0m values, indices \u001b[38;5;241m=\u001b[39m model(input_ids, attention_mask)\n\u001b[0;32m--> 182\u001b[0m max_tokens \u001b[38;5;241m=\u001b[39m [tokens[j][idx] \u001b[38;5;28;01mif\u001b[39;00m idx \u001b[38;5;241m<\u001b[39m \u001b[38;5;28mlen\u001b[39m(tokens[j]) \u001b[38;5;28;01melse\u001b[39;00m \u001b[38;5;124m'\u001b[39m\u001b[38;5;124m[PAD]\u001b[39m\u001b[38;5;124m'\u001b[39m \u001b[38;5;28;01mfor\u001b[39;00m j, idx \u001b[38;5;129;01min\u001b[39;00m \u001b[38;5;28menumerate\u001b[39m(\u001b[43mindices\u001b[49m\u001b[38;5;241;43m.\u001b[39;49m\u001b[43mcpu\u001b[49m\u001b[43m(\u001b[49m\u001b[43m)\u001b[49m\u001b[38;5;241m.\u001b[39mtolist())]\n\u001b[1;32m    184\u001b[0m all_values\u001b[38;5;241m.\u001b[39mextend(values\u001b[38;5;241m.\u001b[39mcpu()\u001b[38;5;241m.\u001b[39mtolist())\n\u001b[1;32m    185\u001b[0m all_max_tokens\u001b[38;5;241m.\u001b[39mextend(max_tokens)\n",
      "\u001b[0;31mKeyboardInterrupt\u001b[0m: "
     ]
    }
   ],
   "source": [
    "while not criterion(coded_instances, num_rules=19):\n",
    "    rule = egp_examples.sample(1).iloc[0] # sample random rule\n",
    "    if rule['#'] in coded_instances['#']: continue\n",
    "    print(f\"{rule['type']}: {rule['Can-do statement']} ({rule['SuperCategory']}: {rule['SubCategory']})\")\n",
    "    print(rule['Example'])\n",
    "\n",
    "    classifier, accuracy = get_trained_classifer(rule['augmented_examples'], rule['augmented_negative_examples'], get_others(egp_examples, rule['#']), num_epochs=5)\n",
    "    accuracies[rule['#']] = accuracy\n",
    "    scores, tokens = models.score_corpus(classifier, dataloader, max_positive=250, max_batches=250)\n",
    "    results = iter([(score, token, sample) for score, token, sample in zip(scores, tokens, sentences[:len(scores)]) if score > 0.5])\n",
    "    while len(coded_instances[coded_instances['#'] == rule['#']]) < 20:\n",
    "        score, token, sample = next(results)\n",
    "        user_response = input(f\"{sample}\")\n",
    "        new_row = pd.DataFrame({'#': [rule['#']],\n",
    "             'sentence': [sample],\n",
    "             'correct': [True if user_response == '2' else False],\n",
    "             'score': [score],\n",
    "             'max_token': [token]})\n",
    "        coded_instances = pd.concat([coded_instances, new_row], ignore_index=True)\n",
    "        coded_instances.to_json(output_path)"
   ]
  },
  {
   "cell_type": "markdown",
   "id": "27ea3258-ffef-4e2a-bd6a-4fbbd6057217",
   "metadata": {},
   "source": [
    "# Analyse coded instances"
   ]
  },
  {
   "cell_type": "code",
   "execution_count": 62,
   "id": "99640040-f938-498f-a5ff-8b4797051e31",
   "metadata": {},
   "outputs": [],
   "source": [
    "correct_per_rule = coded_instances.groupby('#')['correct'].mean()"
   ]
  },
  {
   "cell_type": "code",
   "execution_count": 64,
   "id": "1dc8e164-d807-47e8-8b8a-b4cff1d24698",
   "metadata": {},
   "outputs": [
    {
     "data": {
      "image/png": "[encoded data removed]",
      "text/plain": [
       "<Figure size 800x500 with 2 Axes>"
      ]
     },
     "metadata": {},
     "output_type": "display_data"
    }
   ],
   "source": [
    "def plot_histogram(ax, data):\n",
    "    sns.histplot(ax=ax, data=data, bins=10, kde=True, color=\"skyblue\", edgecolor='black', alpha=0.7, legend=False)\n",
    "    ax.set_ylabel(f\"Number of rules / {len(correct_per_rule)}\")\n",
    "    ax.set_xlabel(\"Metric\")\n",
    "    ax.xaxis.set_major_formatter(FuncFormatter(lambda x, _: f'{x*100:.0f}%'))\n",
    "    ax.set_xlim(0, 1)\n",
    "\n",
    "fig, axs = plt.subplots(2, 1, figsize=(8, 5))\n",
    "plot_histogram(axs[0], accuracies.values())\n",
    "axs[0].set_title(\"Distribution of Rule Detection Accuracies on Validation Data\")\n",
    "plot_histogram(axs[1], list(correct_per_rule))\n",
    "axs[1].set_title(\"Distribution of Rule Detection Precisions on Corpus\")\n",
    "plt.tight_layout()\n",
    "plt.show()"
   ]
  }
 ],
 "metadata": {
  "kernelspec": {
   "display_name": "Python 3 (ipykernel)",
   "language": "python",
   "name": "python3"
  },
  "language_info": {
   "codemirror_mode": {
    "name": "ipython",
    "version": 3
   },
   "file_extension": ".py",
   "mimetype": "text/x-python",
   "name": "python",
   "nbconvert_exporter": "python",
   "pygments_lexer": "ipython3",
   "version": "3.11.2"
  }
 },
 "nbformat": 4,
 "nbformat_minor": 5
}
